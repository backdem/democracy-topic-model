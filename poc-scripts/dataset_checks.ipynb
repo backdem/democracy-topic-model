{
 "cells": [
  {
   "cell_type": "code",
   "execution_count": null,
   "id": "9884b190-54c2-4aa2-9f66-e609de9b6cbb",
   "metadata": {
    "tags": []
   },
   "outputs": [],
   "source": [
    "import pandas as pd\n",
    "import random\n",
    "import seaborn as sns\n",
    "import utils\n",
    "import numpy as np\n",
    "import matplotlib.pyplot as plt\n",
    "import plotly.graph_objects as go"
   ]
  },
  {
   "cell_type": "code",
   "execution_count": null,
   "id": "e8096862-71d6-410c-b1b3-e1e00a316bcc",
   "metadata": {
    "tags": []
   },
   "outputs": [],
   "source": [
    "# load data setof all countries, years and sources\n",
    "data_file = '../data/all_countries_0.0.6.csv'\n",
    "countries, years, all_countries_data, sources = utils.get_countries_data(data_file)\n",
    "#all_countries_data = pd.read_csv(data_file, dtype={'year': str}, comment='#')\n",
    "# cast sentence column to string\n",
    "all_countries_data['sentence'] = all_countries_data['sentence'].astype(str)"
   ]
  },
  {
   "cell_type": "code",
   "execution_count": null,
   "id": "82200232-cf00-4645-9788-42cc28725809",
   "metadata": {
    "tags": []
   },
   "outputs": [],
   "source": [
    "# list of countries\n",
    "countries = set(list(all_countries_data['country']))\n",
    "print(countries)\n"
   ]
  },
  {
   "cell_type": "code",
   "execution_count": null,
   "id": "4094c15a-f075-4421-90f2-3dd19246e61d",
   "metadata": {
    "tags": []
   },
   "outputs": [],
   "source": [
    "# list sources\n",
    "print(sources)"
   ]
  },
  {
   "cell_type": "code",
   "execution_count": null,
   "id": "2ee553ba-15fa-4e92-9d4d-1e72604dade6",
   "metadata": {
    "tags": []
   },
   "outputs": [],
   "source": [
    "# list years\n",
    "print(years)"
   ]
  },
  {
   "cell_type": "code",
   "execution_count": null,
   "id": "ecea34bf-4ece-4274-abd6-bd7d516c7188",
   "metadata": {
    "tags": []
   },
   "outputs": [],
   "source": [
    "# check size of dataset\n",
    "print(f\"number of sentences: {len(all_countries_data)}.\")\n",
    "k = random.randint(0, len(all_countries_data)-1)\n",
    "# check first entry\n",
    "print(all_countries_data.iloc[k])"
   ]
  },
  {
   "cell_type": "code",
   "execution_count": null,
   "id": "3b162ab6-861e-444a-8932-06ff05f3d632",
   "metadata": {
    "tags": []
   },
   "outputs": [],
   "source": [
    "# calculate sentence lengths\n",
    "all_countries_data[\"sentence_len\"] = all_countries_data[\"sentence\"].apply(lambda x: len(x.split()))\n",
    "plt.figure()\n",
    "sns.displot(all_countries_data[\"sentence_len\"], kde=False)\n",
    "plt.show()"
   ]
  },
  {
   "cell_type": "code",
   "execution_count": null,
   "id": "ae6ab29d-3c02-43a3-b2df-d5b674f57636",
   "metadata": {
    "tags": []
   },
   "outputs": [],
   "source": [
    "# check for short sentences\n",
    "df = pd.DataFrame(all_countries_data)\n",
    "short_s = df[df['sentence_len'] < 3]\n",
    "assert(len(short_s['sentence']) == 0)\n"
   ]
  },
  {
   "cell_type": "code",
   "execution_count": null,
   "id": "2dcc4a66-dedb-49ec-ab03-ac22958c7b06",
   "metadata": {},
   "outputs": [],
   "source": [
    "# long sentences\n",
    "\n",
    "long_s = df[df['sentence_len'] > 200]\n",
    "l = len(long_s['sentence'])\n",
    "print(l)\n",
    "k = random.randint(0, l-1)\n",
    "print(long_s.iloc[k]['sentence'])\n",
    "print(long_s.iloc[k]['source'])\n",
    "print(long_s.iloc[k]['country'])\n",
    "print(long_s.iloc[k]['year'])\n"
   ]
  },
  {
   "cell_type": "code",
   "execution_count": null,
   "id": "a62c734a-15f2-43c4-8007-d1a910d9307b",
   "metadata": {
    "tags": []
   },
   "outputs": [],
   "source": [
    "# plot sources over years\n",
    "\n",
    "data = { 'source': [], 'year': [], 'corpus_size': [] }\n",
    "for source in sources:\n",
    "    for year in years:                \n",
    "        df_filter = df[ (df['source'] == source) & (df['year'] == year) ]\n",
    "        corpus_size = df_filter['sentence_len'].sum()\n",
    "        if(corpus_size > 0):\n",
    "            data['source'].append(source)\n",
    "            data['year'].append(year)\n",
    "            data['corpus_size'].append(corpus_size)\n",
    "            \n",
    "s_df = pd.DataFrame(data) "
   ]
  },
  {
   "cell_type": "code",
   "execution_count": null,
   "id": "0178b2d3-7d25-4612-af26-bde3fdfd634e",
   "metadata": {
    "tags": []
   },
   "outputs": [],
   "source": [
    "fig = go.Figure()\n",
    "for source in sources:\n",
    "    source_df = s_df[s_df['source'] == source].sort_values(by='year', ascending=True)\n",
    "    fig.add_trace(go.Bar(x=source_df['year'], y=source_df['corpus_size'], name=source))\n",
    "\n",
    "    fig.update_xaxes(categoryorder='array', categoryarray=np.sort(np.array(list(years))))\n",
    "    # Customize the layout (optional)\n",
    "    fig.update_layout(title=\"Corpus size by source over years\", xaxis_title='year', yaxis_title='corpus size')\n",
    "\n",
    "    # Display the chart\n",
    "fig.show()"
   ]
  },
  {
   "cell_type": "code",
   "execution_count": null,
   "id": "944282b5-f104-41f6-8328-3d05414279b7",
   "metadata": {
    "tags": []
   },
   "outputs": [],
   "source": [
    "# plot sources by countries\n",
    "\n",
    "data = { 'source': [], 'country': [], 'corpus_size': [] }\n",
    "for source in sources:\n",
    "    for country in countries:                \n",
    "        df_filter = df[ (df['source'] == source) & (df['country'] == country) ]\n",
    "        corpus_size = df_filter['sentence_len'].sum()\n",
    "        if(corpus_size > 0):\n",
    "            data['source'].append(source)\n",
    "            data['country'].append(country)\n",
    "            data['corpus_size'].append(corpus_size)\n",
    "            \n",
    "c_df = pd.DataFrame(data) "
   ]
  },
  {
   "cell_type": "code",
   "execution_count": null,
   "id": "84f4c8e3-c7bc-4826-ad7d-f8efabbfb370",
   "metadata": {
    "tags": []
   },
   "outputs": [],
   "source": [
    "fig = go.Figure()\n",
    "for source in sources:\n",
    "    source_df = c_df[c_df['source'] == source]\n",
    "    fig.add_trace(go.Bar(x=source_df['country'], y=source_df['corpus_size'], name=source))\n",
    "\n",
    "    #fig.update_xaxes(categoryorder='array', categoryarray=np.sort(np.array(list(years))))\n",
    "    # Customize the layout (optional)\n",
    "    fig.update_layout(title=\"Corpus size by source by country\", xaxis_title='country', yaxis_title='corpus size')\n",
    "\n",
    "    # Display the chart\n",
    "fig.write_image(\"fig1.svg\", width=\"1221\", height=\"360\")\n",
    "\n",
    "fig.show()"
   ]
  },
  {
   "cell_type": "code",
   "execution_count": null,
   "id": "abea0aaa-b0c1-4302-af13-126503bd9e68",
   "metadata": {},
   "outputs": [],
   "source": []
  }
 ],
 "metadata": {
  "kernelspec": {
   "display_name": "Python 3 (ipykernel)",
   "language": "python",
   "name": "python3"
  },
  "language_info": {
   "codemirror_mode": {
    "name": "ipython",
    "version": 3
   },
   "file_extension": ".py",
   "mimetype": "text/x-python",
   "name": "python",
   "nbconvert_exporter": "python",
   "pygments_lexer": "ipython3",
   "version": "3.9.13"
  }
 },
 "nbformat": 4,
 "nbformat_minor": 5
}
