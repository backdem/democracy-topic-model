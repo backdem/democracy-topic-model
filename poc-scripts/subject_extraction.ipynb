{
 "cells": [
  {
   "cell_type": "code",
   "execution_count": null,
   "id": "a8fb2e35-63de-4401-aed5-c152d800cb64",
   "metadata": {
    "tags": []
   },
   "outputs": [],
   "source": [
    "import pandas as pd\n",
    "import math\n",
    "import csv\n",
    "import json\n",
    "import string\n",
    "import re\n",
    "import utils\n",
    "import nltk\n",
    "import itertools\n",
    "import numpy as np\n",
    "import spacy\n",
    "\n",
    "nlp = spacy.load('en_core_web_sm')"
   ]
  },
  {
   "cell_type": "code",
   "execution_count": null,
   "id": "1d22e323-8a6d-4eb3-8da9-b1f59bef4bb0",
   "metadata": {
    "tags": []
   },
   "outputs": [],
   "source": [
    "\n",
    "\n",
    "# Example sentence\n",
    "sentence = \"The government officials maintain integrity in their actions.\"\n",
    "\n",
    "# Process the sentence using the language model\n",
    "doc = nlp(sentence)\n",
    "\n",
    "# Find the \"integrity\" token\n",
    "integrity_token = None\n",
    "for token in doc:\n",
    "    if token.text.lower() == \"integrity\":\n",
    "        integrity_token = token\n",
    "        break\n",
    "\n",
    "# Find the noun phrase that \"integrity\" is referring to\n",
    "referenced_noun_phrase = None\n",
    "if integrity_token is not None:\n",
    "    for np in integrity_token.subtree:\n",
    "        print(np)\n",
    "        if np.dep_ == \"nsubj\":\n",
    "            referenced_noun_phrase = np\n",
    "            break\n",
    "\n",
    "if referenced_noun_phrase is not None:\n",
    "    print(\"The noun phrase referred to by 'integrity':\", referenced_noun_phrase.text)\n",
    "else:\n",
    "    print(\"'Integrity' does not refer to a specific noun phrase in the sentence.\")\n"
   ]
  },
  {
   "cell_type": "code",
   "execution_count": null,
   "id": "42211666-efca-499b-8ff2-fa2b9f7f1499",
   "metadata": {
    "tags": []
   },
   "outputs": [],
   "source": [
    "# load data setof all countries, years and sources\n",
    "data_file = '../data/all_countries_0.0.2.csv'\n",
    "countries, years, all_countries_data = utils.get_countries_data(data_file)"
   ]
  },
  {
   "cell_type": "code",
   "execution_count": null,
   "id": "72cffcf1-34dd-4547-a4e1-d262961d1360",
   "metadata": {
    "tags": []
   },
   "outputs": [],
   "source": [
    "word = \"integrity\""
   ]
  },
  {
   "cell_type": "code",
   "execution_count": null,
   "id": "67784f14-bbf9-45e3-a190-75a4098e3bc7",
   "metadata": {
    "tags": []
   },
   "outputs": [],
   "source": [
    "# iterate over sentences\n",
    "for index, row in all_countries_data.iterrows():\n",
    "    s = row['sentence'].lower()\n",
    "    doc = nlp(s)\n",
    "    subject_token = []\n",
    "    pos = None\n",
    "    found = False\n",
    "    for token in doc:\n",
    "        if token.text.lower() == word:\n",
    "            found = True\n",
    "            pos = token.dep_\n",
    "        #if token.text.lower() == 'government':\n",
    "        #    pos = token.dep_\n",
    "        if token.dep_ == \"nsubj\":\n",
    "            subject_token.append(token)\n",
    "    if found:\n",
    "        print(f'{subject_token} :: {pos} :: {s}')"
   ]
  },
  {
   "cell_type": "code",
   "execution_count": null,
   "id": "d7fe6dc6-beb3-463d-ae4d-4b8027a5bae5",
   "metadata": {},
   "outputs": [],
   "source": []
  }
 ],
 "metadata": {
  "kernelspec": {
   "display_name": "Python 3 (ipykernel)",
   "language": "python",
   "name": "python3"
  },
  "language_info": {
   "codemirror_mode": {
    "name": "ipython",
    "version": 3
   },
   "file_extension": ".py",
   "mimetype": "text/x-python",
   "name": "python",
   "nbconvert_exporter": "python",
   "pygments_lexer": "ipython3",
   "version": "3.9.13"
  }
 },
 "nbformat": 4,
 "nbformat_minor": 5
}
