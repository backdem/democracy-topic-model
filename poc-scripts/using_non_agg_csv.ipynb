{
 "cells": [
  {
   "cell_type": "code",
   "execution_count": null,
   "id": "ac2141a4-611a-4f13-a70c-212748712a2c",
   "metadata": {
    "tags": []
   },
   "outputs": [],
   "source": [
    "import pandas as pd\n",
    "import numpy as np\n",
    "import math\n",
    "import plotly.graph_objects as go"
   ]
  },
  {
   "cell_type": "code",
   "execution_count": null,
   "id": "f2cc1795-2ac5-499f-818b-d84392725179",
   "metadata": {
    "tags": []
   },
   "outputs": [],
   "source": [
    "df = pd.read_csv(\"non_aggregated_counts.csv\")"
   ]
  },
  {
   "cell_type": "code",
   "execution_count": null,
   "id": "be4b7b1f-3d3e-492c-81b8-4db0f9755b90",
   "metadata": {},
   "outputs": [],
   "source": [
    "def get_stats(data, confidence_level=0.95):\n",
    "    data_mean = np.mean(data)\n",
    "    data_std_dev = np.std(data)\n",
    "    # Calculate the critical value based on the confidence level and a normal distribution\n",
    "    critical_value = stats.norm.ppf((1 + confidence_level) / 2)\n",
    "\n",
    "    # Calculate the standard error of the mean for a population\n",
    "    standard_error = data_std_dev / np.sqrt(len(data))\n",
    "\n",
    "    # Calculate the margin of error\n",
    "    margin_of_error = critical_value * standard_error\n",
    "\n",
    "    # Calculate the confidence interval\n",
    "    confidence_interval = (data_mean - margin_of_error, data_mean + margin_of_error)\n",
    "    return (confidence_interval, margin_of_error, data_mean, data_std_dev, critical_value, standard_error)"
   ]
  },
  {
   "cell_type": "code",
   "execution_count": null,
   "id": "e40c748e-39c4-471c-ad06-cb970877c4a1",
   "metadata": {
    "tags": []
   },
   "outputs": [],
   "source": [
    "#df_grouped = df.groupby(['source', 'country', 'dimension'])['count'].sum()\n",
    "df['count_state_source_dim'] = df.groupby(['dimension', 'country', 'source'])['count'].transform('sum')\n",
    "\n",
    "dims = list(set(pd.Series(df['dimension'])))\n",
    "# Calculate mean and confidence intervals\n",
    "mean_ci = df.groupby(['dimension', 'source']).agg(\n",
    "    mean_count=('count_state_source_dim', 'mean'),\n",
    "    ci=('count_state_source_dim', lambda x: x.sem() * 1.96)  # 95% confidence interval\n",
    ").reset_index()\n",
    "collapsed_df = df.groupby(['dimension', 'source'], as_index=False)['count_state_source_dim'].agg(['mean', 'count', 'std'])\n",
    "ci = []\n",
    "me = []\n",
    "for i in collapsed_df.index:\n",
    "    m, c, s = collapsed_df.loc[i]    \n",
    "    ci.append( ((m + 1.96*s/math.sqrt(c)), (m - 1.96*s/math.sqrt(c))) )\n",
    "    me.append(1.96*s/math.sqrt(c))\n",
    " \n",
    "# Collapse the data to get the first value of 'count_state_source_dim' per group\n",
    "collapsed_df = df.groupby(['dimension', 'source'], as_index=False).agg({'count_state_source_dim': 'mean'})\n",
    "collapsed_df['margin_error'] = me\n",
    "# Calculate confidence intervals\n",
    "#confidence_intervals = df.groupby(['dimension', 'source'], as_index=False).agg({'count_state_source_dim': lambda x: x.sem() * 1.96})"
   ]
  },
  {
   "cell_type": "code",
   "execution_count": null,
   "id": "263c6865-99a7-452e-b229-615e313772b3",
   "metadata": {
    "tags": []
   },
   "outputs": [],
   "source": [
    "# Encode 'dimension' and 'source' columns to create new numeric columns\n",
    "#collapsed_df['dimension_new'] = pd.factorize(collapsed_df['dimension'])[0]\n",
    "#collapsed_df['source_new'] = pd.factorize(collapsed_df['source'])[0]\n",
    "#print(collapsed_df)\n",
    "print(collapsed_df)"
   ]
  },
  {
   "cell_type": "code",
   "execution_count": null,
   "id": "35ef4507-a76e-4852-8734-0c5d04a21f6c",
   "metadata": {
    "tags": []
   },
   "outputs": [],
   "source": [
    "def plot_sources(df, title=None):    \n",
    "    \n",
    "    fig = go.Figure()\n",
    "    dims = list(set(pd.Series(df['dimension'])))\n",
    "    for dim in dims:\n",
    "        f_df = df[df['dimension'] == dim]        \n",
    "        fig.add_trace(go.Bar(x=f_df['source'], \n",
    "                             y=f_df['count_state_source_dim'], \n",
    "                             error_y=dict(type='data', array=f_df['margin_error'], visible=True), \n",
    "                             name=dim))\n",
    " \n",
    "\n",
    "    # Iterate over each column (excluding the 'Category' column)\n",
    "    #for col in df.columns[2:]:\n",
    "    #    fig.add_trace(go.Bar(x=df[x], y=df[col], name=get_topic_name(col)))\n",
    "\n",
    "    # Customize the layout (optional)\n",
    "    #fig.update_layout(title=title, xaxis_title=x, yaxis_title='counts')\n",
    "\n",
    "    # Display the chart\n",
    "    #fig.show()\n",
    "    return fig"
   ]
  },
  {
   "cell_type": "code",
   "execution_count": null,
   "id": "c35dba26-80f9-47db-9418-7de034ce00c5",
   "metadata": {
    "tags": []
   },
   "outputs": [],
   "source": [
    "plot_sources(collapsed_df)"
   ]
  },
  {
   "cell_type": "code",
   "execution_count": null,
   "id": "188b1c49-d4ac-4d6f-bb0b-57ca870354ec",
   "metadata": {},
   "outputs": [],
   "source": []
  }
 ],
 "metadata": {
  "kernelspec": {
   "display_name": "Python 3 (ipykernel)",
   "language": "python",
   "name": "python3"
  },
  "language_info": {
   "codemirror_mode": {
    "name": "ipython",
    "version": 3
   },
   "file_extension": ".py",
   "mimetype": "text/x-python",
   "name": "python",
   "nbconvert_exporter": "python",
   "pygments_lexer": "ipython3",
   "version": "3.9.13"
  }
 },
 "nbformat": 4,
 "nbformat_minor": 5
}
