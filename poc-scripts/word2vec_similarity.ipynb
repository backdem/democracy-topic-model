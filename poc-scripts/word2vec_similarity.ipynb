{
 "cells": [
  {
   "cell_type": "code",
   "execution_count": null,
   "id": "1b3ad45a-89bf-4ed0-946c-485801b48974",
   "metadata": {
    "tags": []
   },
   "outputs": [],
   "source": [
    "import gensim.downloader\n",
    "\n",
    "# Load pre-trained Word2Vec model\n",
    "model = gensim.downloader.load('word2vec-google-news-300')"
   ]
  },
  {
   "cell_type": "code",
   "execution_count": null,
   "id": "2430f210-d036-401a-82de-c345568abb2b",
   "metadata": {
    "tags": []
   },
   "outputs": [],
   "source": [
    "# Get word embeddings\n",
    "word = \"Orbán\"\n",
    "word2= \"Gyurcsány\"\n",
    "embedding = model[word]\n",
    "\n",
    "# Find similar words\n",
    "similar_words = model.most_similar(word, topn=10)"
   ]
  },
  {
   "cell_type": "code",
   "execution_count": null,
   "id": "1b8b38a7-b3fa-4c7b-8b6f-d3af738edfd1",
   "metadata": {
    "tags": []
   },
   "outputs": [],
   "source": [
    "# Print the word embedding and similar words\n",
    "print(\"Word Embedding:\")\n",
    "print(embedding)\n",
    "\n",
    "print(\"\\nSimilar Words:\")\n",
    "for similar_word, similarity in similar_words:\n",
    "    print(similar_word, similarity)"
   ]
  },
  {
   "cell_type": "code",
   "execution_count": null,
   "id": "6771257b-f384-4301-b7b8-89d7ae2d1917",
   "metadata": {
    "tags": []
   },
   "outputs": [],
   "source": [
    "similarity = model.similarity(word, word2)\n",
    "print(\"Similarity between 'orban' and 'corruption':\", similarity)"
   ]
  },
  {
   "cell_type": "code",
   "execution_count": null,
   "id": "ca8b8a15-1375-495e-a586-2d12985d3d01",
   "metadata": {},
   "outputs": [],
   "source": []
  }
 ],
 "metadata": {
  "kernelspec": {
   "display_name": "Python 3 (ipykernel)",
   "language": "python",
   "name": "python3"
  },
  "language_info": {
   "codemirror_mode": {
    "name": "ipython",
    "version": 3
   },
   "file_extension": ".py",
   "mimetype": "text/x-python",
   "name": "python",
   "nbconvert_exporter": "python",
   "pygments_lexer": "ipython3",
   "version": "3.9.13"
  }
 },
 "nbformat": 4,
 "nbformat_minor": 5
}
