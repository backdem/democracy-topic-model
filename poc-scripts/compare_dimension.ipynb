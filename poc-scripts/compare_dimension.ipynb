{
 "cells": [
  {
   "cell_type": "code",
   "execution_count": null,
   "id": "238a0ea2-bb60-4402-8759-f86f10b0125e",
   "metadata": {
    "tags": []
   },
   "outputs": [],
   "source": [
    "import pandas as pd\n",
    "import os\n",
    "import csv\n",
    "from functools import reduce\n",
    "import json\n",
    "import configparser\n",
    "import matplotlib.pyplot as plt\n",
    "import seaborn as sns\n",
    "import plotly.express as px"
   ]
  },
  {
   "cell_type": "code",
   "execution_count": null,
   "id": "09e92e95-5924-4c91-80e1-2f56693329f3",
   "metadata": {
    "tags": []
   },
   "outputs": [],
   "source": [
    "# root folder\n",
    "root_folder = \"../../output_data/topic_modelling/run_20230601_113109\"\n",
    "report_folder = os.path.join(root_folder, \"reports\")\n",
    "topic_folder = os.path.join(root_folder, \"topics\")"
   ]
  },
  {
   "cell_type": "code",
   "execution_count": null,
   "id": "21edf5a2-bc2e-418f-926d-a404ebed8c0d",
   "metadata": {
    "tags": []
   },
   "outputs": [],
   "source": [
    "def get_country_year(filename):\n",
    "        parts = filename.split(\"_\")\n",
    "        if len(parts) > 3:\n",
    "            country = parts[0] + \"_\" + parts[1]\n",
    "            year = parts[2]\n",
    "        else:\n",
    "            country = parts[0]\n",
    "            year = parts[1]    \n",
    "        return (country, year)\n",
    "        "
   ]
  },
  {
   "cell_type": "code",
   "execution_count": null,
   "id": "5a317d24-262a-426f-8e93-1005b6a2d1df",
   "metadata": {
    "tags": []
   },
   "outputs": [],
   "source": [
    "# load dataframes\n",
    "dataframes = []\n",
    "countries = []\n",
    "years = []\n",
    "\n",
    "# Iterate over files in the folder\n",
    "for filename in os.listdir(report_folder):\n",
    "    if filename.endswith(\".csv\"):\n",
    "        country, year = get_country_year(filename)\n",
    "        if country not in countries:\n",
    "            countries.append(country)\n",
    "        if year not in years:\n",
    "            years.append(year)\n",
    "            \n",
    "        file_path = os.path.join(report_folder, filename)\n",
    "        # Read the CSV file into a pandas DataFrame\n",
    "        df = pd.read_csv(file_path, header=None)\n",
    "        df[\"country\"] = country\n",
    "        df[\"year\"] = year\n",
    "        df.columns.values[0] = 'attribute'\n",
    "        df.columns.values[1] = 'topic_no'\n",
    "        df.columns.values[2] = \"word_from_dict\"\n",
    "        df.columns.values[3] = \"similarity\"\n",
    "        df.columns.values[4] = \"normalized_count\"\n",
    "       \n",
    "        # Append the DataFrame to the list\n",
    "        dataframes.append(df)\n",
    "        \n",
    "combined_df = pd.concat(dataframes, ignore_index=True)"
   ]
  },
  {
   "cell_type": "code",
   "execution_count": null,
   "id": "cec5828f-4107-41a4-9fae-547e8b158a15",
   "metadata": {
    "tags": []
   },
   "outputs": [],
   "source": [
    "# load topics\n",
    "topics_df = []\n",
    "# Iterate over files in the folder\n",
    "for filename in os.listdir(topic_folder):\n",
    "    if filename.endswith(\".csv\"):\n",
    "        country, year = get_country_year(filename)        \n",
    "        file_path = os.path.join(topic_folder, filename)\n",
    "        # Read the CSV file into a pandas DataFrame\n",
    "        df = pd.read_csv(file_path)\n",
    "        df[\"country\"] = country\n",
    "        df[\"year\"] = year\n",
    "        #df.columns.values[0] = 'attribute'\n",
    "        #df.columns.values[1] = 'topic_no'\n",
    "        #df.columns.values[2] = \"word_from_dict\"\n",
    "        #df.columns.values[3] = \"similarity\"\n",
    "        #df.columns.values[4] = \"normalized_count\"\n",
    "       \n",
    "        # Append the DataFrame to the list\n",
    "        topics_df.append(df)\n",
    "        \n",
    "combined_topics_df = pd.concat(topics_df, ignore_index=True)\n",
    "print(combined_topics_df.head())"
   ]
  },
  {
   "cell_type": "code",
   "execution_count": null,
   "id": "2000ed8b-f96f-417e-8e79-0eb7c5b90054",
   "metadata": {
    "tags": []
   },
   "outputs": [],
   "source": [
    "corpus_df = []\n",
    "data = {'country':[], 'year': [], 'corpus_size': []}\n",
    "for country in countries:\n",
    "    for year in years:\n",
    "        tdf = combined_topics_df\n",
    "        df = tdf[(tdf['year'] == year) & (tdf['country'] == country)]\n",
    "        size = df['Count'].sum()\n",
    "        data['country'].append(country)\n",
    "        data['year'].append(year)\n",
    "        data['corpus_size'].append(size)\n",
    "        \n",
    "        \n",
    "corpus_df = pd.DataFrame(data)\n",
    "print(corpus_df.head())            "
   ]
  },
  {
   "cell_type": "code",
   "execution_count": null,
   "id": "410604ca-f924-4038-8143-4b7c84159f76",
   "metadata": {
    "tags": []
   },
   "outputs": [],
   "source": [
    "# plot an attribute and year for all countries\n",
    "attribute = 'corruption'\n",
    "year = '2020'\n",
    "filtered_df = combined_df[(combined_df['year'] == year) & (combined_df['attribute'] == attribute)]\n",
    "a_sorted_df = filtered_df.sort_values('normalized_count')\n",
    "a_sorted_df['normalized_count'] = a_sorted_df['normalized_count'].astype(float)\n",
    "a_sorted_df = a_sorted_df.reset_index(drop=True)"
   ]
  },
  {
   "cell_type": "code",
   "execution_count": null,
   "id": "baa9242c-f398-4c2b-9c72-9bedd1d40f06",
   "metadata": {
    "tags": []
   },
   "outputs": [],
   "source": [
    "fig = px.bar(a_sorted_df, x='country', y='normalized_count')\n",
    "fig.update_layout(yaxis_title=f'coverage of {attribute}')\n",
    "fig.update_layout(xaxis_title=f'country {year}')\n",
    "fig.show()"
   ]
  },
  {
   "cell_type": "code",
   "execution_count": null,
   "id": "822fe072-5027-4739-b0b7-019cb40b190c",
   "metadata": {},
   "outputs": [],
   "source": [
    "# plot corpus sizes for all countries\n",
    "year = '2020'\n",
    "filtered_df = corpus_df[(corpus_df['year'] == year) & (corpus_df['corpus_size'] > 0)]\n",
    "sorted_df = filtered_df.sort_values('corpus_size')\n",
    "max_corpus = sorted_df['corpus_size'].max()\n",
    "sorted_df['normalized_corpus'] = sorted_df['corpus_size'].apply(lambda x: x/max_corpus)\n",
    "sorted_df['normalized_corpus'] = sorted_df['normalized_corpus'].astype(float)\n",
    "data = { 'country': [], 'compound_metric1': [], 'compound_metric2': [], 'normalized_count':[], 'normalized_corpus':[]}\n",
    "for i, row in a_sorted_df.iterrows():\n",
    "    \n",
    "    country = row['country']\n",
    "    corpus_row = sorted_df[sorted_df['country'] == country]\n",
    "    norm_corpus = corpus_row['normalized_corpus'].values[0]\n",
    "    xx = a_sorted_df.loc[i]['normalized_count']\n",
    "    data['country'].append(country)\n",
    "    data['compound_metric1'].append(xx / (norm_corpus))\n",
    "    data['compound_metric2'].append((xx * norm_corpus)**2)\n",
    "    data['normalized_count'].append(xx)\n",
    "    data['normalized_corpus'].append(norm_corpus)\n",
    "    #a_sorted_df.loc[i]['compound_metric'] =  xx * norm_corpus\n",
    "\n",
    "new_df = pd.DataFrame(data)\n",
    "new_sorted_df = new_df.sort_values('compound_metric1')\n",
    "print(new_sorted_df)"
   ]
  },
  {
   "cell_type": "code",
   "execution_count": null,
   "id": "6cdfc825-c917-4ecd-91cb-3e67f837de08",
   "metadata": {
    "tags": []
   },
   "outputs": [],
   "source": [
    "fig = px.bar(new_sorted_df, x='country', y='compound_metric1')\n",
    "fig.update_layout(yaxis_title=f'coverage of corrpution')\n",
    "fig.update_layout(xaxis_title=f'country {year}')\n",
    "fig.show()"
   ]
  },
  {
   "cell_type": "code",
   "execution_count": null,
   "id": "fc33297b-b3ab-46ba-9af3-7c4c475af0e2",
   "metadata": {},
   "outputs": [],
   "source": [
    "fig = px.bar(sorted_df, x='country', y='corpus_size')\n",
    "fig.update_layout(yaxis_title='corpus size')\n",
    "fig.update_layout(xaxis_title=f'country {year}')\n",
    "fig.show()"
   ]
  },
  {
   "cell_type": "code",
   "execution_count": null,
   "id": "af981a65-70df-45e9-80d1-750dbae30014",
   "metadata": {},
   "outputs": [],
   "source": []
  }
 ],
 "metadata": {
  "kernelspec": {
   "display_name": "Python 3 (ipykernel)",
   "language": "python",
   "name": "python3"
  },
  "language_info": {
   "codemirror_mode": {
    "name": "ipython",
    "version": 3
   },
   "file_extension": ".py",
   "mimetype": "text/x-python",
   "name": "python",
   "nbconvert_exporter": "python",
   "pygments_lexer": "ipython3",
   "version": "3.9.13"
  }
 },
 "nbformat": 4,
 "nbformat_minor": 5
}
