{
 "cells": [
  {
   "cell_type": "code",
   "execution_count": null,
   "id": "9884b190-54c2-4aa2-9f66-e609de9b6cbb",
   "metadata": {
    "tags": []
   },
   "outputs": [],
   "source": [
    "import pandas as pd\n",
    "import seaborn as sns\n",
    "import matplotlib.pyplot as plt"
   ]
  },
  {
   "cell_type": "code",
   "execution_count": null,
   "id": "e8096862-71d6-410c-b1b3-e1e00a316bcc",
   "metadata": {
    "tags": []
   },
   "outputs": [],
   "source": [
    "# load data setof all countries, years and sources\n",
    "data_file = '../data/all_countries_0.0.2.csv'\n",
    "all_countries_data = pd.read_csv(data_file, dtype={'year': str}, comment='#')\n",
    "# cast sentence column to string\n",
    "all_countries_data['sentence'] = all_countries_data['sentence'].astype(str)"
   ]
  },
  {
   "cell_type": "code",
   "execution_count": null,
   "id": "82200232-cf00-4645-9788-42cc28725809",
   "metadata": {
    "tags": []
   },
   "outputs": [],
   "source": [
    "# list of countries\n",
    "countries = set(list(all_countries_data['country']))\n",
    "print(countries)"
   ]
  },
  {
   "cell_type": "code",
   "execution_count": null,
   "id": "4094c15a-f075-4421-90f2-3dd19246e61d",
   "metadata": {
    "tags": []
   },
   "outputs": [],
   "source": [
    "df = pd.DataFrame(all_countries_data)\n",
    "nan = df[(df['country'].isna())]\n",
    "print(nan['source'])"
   ]
  },
  {
   "cell_type": "code",
   "execution_count": null,
   "id": "ecea34bf-4ece-4274-abd6-bd7d516c7188",
   "metadata": {
    "tags": []
   },
   "outputs": [],
   "source": [
    "# check size of dataset\n",
    "print(f\"number of sentences: {len(all_countries_data)}.\")\n",
    "# check first entry\n",
    "print(all_countries_data.iloc[0])"
   ]
  },
  {
   "cell_type": "code",
   "execution_count": null,
   "id": "3b162ab6-861e-444a-8932-06ff05f3d632",
   "metadata": {
    "tags": []
   },
   "outputs": [],
   "source": [
    "# calculate sentence lengths\n",
    "all_countries_data[\"sentence_len\"] = all_countries_data[\"sentence\"].apply(lambda x: len(x.split()))\n",
    "plt.figure()\n",
    "sns.displot(all_countries_data[\"sentence_len\"], kde=False)\n",
    "plt.show()"
   ]
  },
  {
   "cell_type": "code",
   "execution_count": null,
   "id": "ae6ab29d-3c02-43a3-b2df-d5b674f57636",
   "metadata": {
    "tags": []
   },
   "outputs": [],
   "source": [
    "# short sentences\n",
    "df = pd.DataFrame(all_countries_data)\n",
    "short_s = df[df['sentence_len'] < 3]\n",
    "print(len(short_s['sentence']))\n",
    "for s,r,c in zip(short_s['sentence'], short_s['source'], short_s['country']):\n",
    "    print(f\"{s} in source {r} with country {c}\")\n"
   ]
  },
  {
   "cell_type": "code",
   "execution_count": null,
   "id": "2dcc4a66-dedb-49ec-ab03-ac22958c7b06",
   "metadata": {},
   "outputs": [],
   "source": []
  }
 ],
 "metadata": {
  "kernelspec": {
   "display_name": "Python 3 (ipykernel)",
   "language": "python",
   "name": "python3"
  },
  "language_info": {
   "codemirror_mode": {
    "name": "ipython",
    "version": 3
   },
   "file_extension": ".py",
   "mimetype": "text/x-python",
   "name": "python",
   "nbconvert_exporter": "python",
   "pygments_lexer": "ipython3",
   "version": "3.9.13"
  }
 },
 "nbformat": 4,
 "nbformat_minor": 5
}
