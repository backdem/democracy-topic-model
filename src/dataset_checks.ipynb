{
 "cells": [
  {
   "cell_type": "code",
   "execution_count": 39,
   "id": "9884b190-54c2-4aa2-9f66-e609de9b6cbb",
   "metadata": {
    "tags": []
   },
   "outputs": [],
   "source": [
    "import pandas as pd\n",
    "import seaborn as sns\n",
    "import matplotlib.pyplot as plt"
   ]
  },
  {
   "cell_type": "code",
   "execution_count": 44,
   "id": "e8096862-71d6-410c-b1b3-e1e00a316bcc",
   "metadata": {
    "tags": []
   },
   "outputs": [],
   "source": [
    "# load data setof all countries, years and sources\n",
    "data_file = '../data/all_countries_0.0.2.csv'\n",
    "all_countries_data = pd.read_csv(data_file, dtype={'year': str}, comment='#')\n",
    "# cast sentence column to string\n",
    "all_countries_data['sentence'] = all_countries_data['sentence'].astype(str)"
   ]
  },
  {
   "cell_type": "code",
   "execution_count": 48,
   "id": "82200232-cf00-4645-9788-42cc28725809",
   "metadata": {
    "tags": []
   },
   "outputs": [
    {
     "name": "stdout",
     "output_type": "stream",
     "text": [
      "{nan, 'switzerland', 'spain', 'malta', 'slovenia', 'greece', 'kosovo', 'serbia', 'russia', 'belgium', 'romania', 'latvia', 'poland', 'north-macedonia', 'albania', 'denmark', 'ukraine', 'sweden', 'iceland', 'turkey', 'france', 'san-marino', 'portugal', 'montenegro', 'serbia-montenegro', 'united-kingdom', 'germany', 'netherlands', 'luxembourg', 'moldova', 'georgia', 'north_macedonia', 'bulgaria', 'andorra', 'türkiye', 'armenia', 'estonia', 'czech-republic', 'hungary', 'liechtenstein', 'norway', 'cyprus', 'czechia', 'azerbaijan', 'bosnia-and-herzegovina', 'ireland', 'bosnia-herzegovina', 'slovakia', 'belarus', 'lithuania', 'croatia', 'austria', 'italy', 'finland'}\n"
     ]
    }
   ],
   "source": [
    "# list of countries\n",
    "countries = set(list(all_countries_data['country']))\n",
    "print(countries)"
   ]
  },
  {
   "cell_type": "code",
   "execution_count": 61,
   "id": "4094c15a-f075-4421-90f2-3dd19246e61d",
   "metadata": {
    "tags": []
   },
   "outputs": [
    {
     "name": "stdout",
     "output_type": "stream",
     "text": [
      "17120    NaN\n",
      "Name: source, dtype: object\n"
     ]
    }
   ],
   "source": [
    "df = pd.DataFrame(all_countries_data)\n",
    "nan = df[(df['country'].isna())]\n",
    "print(nan['source'])"
   ]
  },
  {
   "cell_type": "code",
   "execution_count": 58,
   "id": "ecea34bf-4ece-4274-abd6-bd7d516c7188",
   "metadata": {
    "tags": []
   },
   "outputs": [
    {
     "name": "stdout",
     "output_type": "stream",
     "text": [
      "number of sentences: 152626.\n",
      "sentence        The president is directly elected for up to tw...\n",
      "section         ['Political Rights', 'Electoral Process', 'Was...\n",
      "country                                                    turkey\n",
      "year                                                         2021\n",
      "source                                               freedomhouse\n",
      "sentence_len                                                   32\n",
      "Name: 0, dtype: object\n"
     ]
    }
   ],
   "source": [
    "# check size of dataset\n",
    "print(f\"number of sentences: {len(all_countries_data)}.\")\n",
    "# check first entry\n",
    "print(all_countries_data.iloc[0])"
   ]
  },
  {
   "cell_type": "code",
   "execution_count": 46,
   "id": "3b162ab6-861e-444a-8932-06ff05f3d632",
   "metadata": {
    "tags": []
   },
   "outputs": [
    {
     "data": {
      "text/plain": [
       "<Figure size 640x480 with 0 Axes>"
      ]
     },
     "metadata": {},
     "output_type": "display_data"
    },
    {
     "data": {
      "image/png": "[encoded data removed]",
      "text/plain": [
       "<Figure size 500x500 with 1 Axes>"
      ]
     },
     "metadata": {},
     "output_type": "display_data"
    }
   ],
   "source": [
    "# calculate sentence lengths\n",
    "all_countries_data[\"sentence_len\"] = all_countries_data[\"sentence\"].apply(lambda x: len(x.split()))\n",
    "plt.figure()\n",
    "sns.displot(all_countries_data[\"sentence_len\"], kde=False)\n",
    "plt.show()"
   ]
  },
  {
   "cell_type": "code",
   "execution_count": 47,
   "id": "ae6ab29d-3c02-43a3-b2df-d5b674f57636",
   "metadata": {
    "tags": []
   },
   "outputs": [
    {
     "name": "stdout",
     "output_type": "stream",
     "text": [
      "43\n",
      "Law No. in source freedomhouse with country moldova\n",
      "The  in source nan with country nan\n",
      "political indoctrination? in source freedomhouse with country cyprus\n",
      "maternity . in source bti with country czechia\n",
      "democracy itself. in source bti with country czechia\n",
      "Shevardnadze resigned. in source bti with country georgia\n",
      "Sources f. in source bti with country estonia\n",
      "in 2001. in source bti with country estonia\n",
      "Shevardnadze resigned. in source bti with country georgia\n",
      "Shevardnadze resigned. in source bti with country georgia\n",
      "or 4K! in source bti with country hungary\n",
      "European countries. in source bti with country serbia\n",
      "Source f. in source bti with country romania\n",
      "Electionworld.org 2002. in source bti with country hungary\n",
      "OECD 2002. in source bti with country hungary\n",
      "property . in source bti with country hungary\n",
      "Source f.ex. in source bti with country poland\n",
      "NGO movement. in source bti with country albania\n",
      "court proceedings. in source bti with country croatia\n",
      "the past. in source bti with country croatia\n",
      "construction activity. in source bti with country slovakia\n",
      "Decree No. in source bti with country belarus\n",
      "Sources f.ex. in source bti with country north_macedonia\n",
      "communist regime. in source bti with country bulgaria\n",
      "Source f. in source bti with country slovakia\n",
      "and W.T.O. in source bti with country poland\n",
      "structural funds. in source bti with country poland\n",
      "Albanian Homepage. in source bti with country albania\n",
      "p. c. in source bti with country türkiye\n",
      "Human development. in source bti with country bulgaria\n",
      "international intervention. in source bti with country bosnia-herzegovina\n",
      "party alliance. in source bti with country latvia\n",
      "estimate: F.A.Z. in source bti with country slovenia\n",
      "a. n. in source bti with country azerbaijan\n",
      "rate n. in source bti with country azerbaijan\n",
      "estimate n. in source bti with country azerbaijan\n",
      "a. n. in source bti with country azerbaijan\n",
      "current acc. in source bti with country azerbaijan\n",
      "current acc. in source bti with country azerbaijan\n",
      "current acc. in source bti with country azerbaijan\n",
      "current acc. in source bti with country azerbaijan\n",
      "communist period. in source bti with country romania\n",
      "procedural legitimacy. in source bti with country georgia\n"
     ]
    }
   ],
   "source": [
    "# short sentences\n",
    "df = pd.DataFrame(all_countries_data)\n",
    "short_s = df[df['sentence_len'] < 3]\n",
    "print(len(short_s['sentence']))\n",
    "for s,r,c in zip(short_s['sentence'], short_s['source'], short_s['country']):\n",
    "    print(f\"{s} in source {r} with country {c}\")\n"
   ]
  },
  {
   "cell_type": "code",
   "execution_count": null,
   "id": "2dcc4a66-dedb-49ec-ab03-ac22958c7b06",
   "metadata": {},
   "outputs": [],
   "source": []
  }
 ],
 "metadata": {
  "kernelspec": {
   "display_name": "Python 3 (ipykernel)",
   "language": "python",
   "name": "python3"
  },
  "language_info": {
   "codemirror_mode": {
    "name": "ipython",
    "version": 3
   },
   "file_extension": ".py",
   "mimetype": "text/x-python",
   "name": "python",
   "nbconvert_exporter": "python",
   "pygments_lexer": "ipython3",
   "version": "3.9.13"
  }
 },
 "nbformat": 4,
 "nbformat_minor": 5
}
