{
 "cells": [
  {
   "cell_type": "code",
   "execution_count": null,
   "id": "e3bde1eb-5303-4fb0-b9bb-3989238e4632",
   "metadata": {
    "tags": []
   },
   "outputs": [],
   "source": [
    "import pandas as pd\n",
    "import math\n",
    "import csv\n",
    "import plotly.graph_objects as go"
   ]
  },
  {
   "cell_type": "code",
   "execution_count": null,
   "id": "713f9e89-7d9f-4072-b029-420f532ccf15",
   "metadata": {
    "tags": []
   },
   "outputs": [],
   "source": [
    "# Use CSV file generated from generate_count_file\n",
    "non_aggregated_counts = 'non_aggregated_counts.csv'\n",
    "df = pd.read_csv(non_aggregated_counts)"
   ]
  },
  {
   "cell_type": "code",
   "execution_count": null,
   "id": "0b4897c0-a885-47a8-8785-9e4190efdeb5",
   "metadata": {
    "tags": []
   },
   "outputs": [],
   "source": [
    "def plot_country_dimension_corpus(df, countries=None, title=None):\n",
    "    sub_df = df\n",
    "    # Only plot countries\n",
    "    if countries:\n",
    "        sub_df = df[df['country'].isin(countries)]\n",
    "    \n",
    "    dimensions = pd.Series(sub_df['dimension']).unique()\n",
    "    fig = go.Figure()\n",
    "\n",
    "    for dim in dimensions:\n",
    "        filtered_df = sub_df[sub_df['dimension'] == dim]\n",
    "        fig.add_trace(go.Bar(\n",
    "            y=filtered_df['country'],\n",
    "            x=filtered_df['count'],\n",
    "            name=dim,\n",
    "            orientation='h'\n",
    "        ))\n",
    "    # Iterate over each column (excluding the 'Category' column)\n",
    "    #for col in df.columns[2:]:\n",
    "    #    fig.add_trace(go.Bar(y=sub_df['country'], x=sub_df[col], orientation='h', name=get_topic_name(col)))\n",
    "\n",
    "    # Customize the layout (optional)\n",
    "    fig.update_layout(title=title, yaxis_title=None, xaxis_title='counts')\n",
    "\n",
    "    # Display the chart\n",
    "    fig.show()\n",
    "    return fig"
   ]
  },
  {
   "cell_type": "code",
   "execution_count": null,
   "id": "ae89135e-e358-41e9-9e43-1f0d40392ca8",
   "metadata": {
    "tags": []
   },
   "outputs": [],
   "source": [
    "# Group by country and dimension\n",
    "df_grouped = pd.DataFrame(df.groupby(['country', 'dimension'])['count'].sum()).reset_index()\n",
    "fig = plot_country_dimension_corpus(df_grouped, title=None)\n",
    "# Write pdf image\n",
    "# fig.write_image(\"images/all_countries_counts2.pdf\", width=1024, height=1024)"
   ]
  },
  {
   "cell_type": "code",
   "execution_count": null,
   "id": "fb85bf48-5477-480f-a391-a3744a6f1ef1",
   "metadata": {},
   "outputs": [],
   "source": []
  }
 ],
 "metadata": {
  "kernelspec": {
   "display_name": "Python 3 (ipykernel)",
   "language": "python",
   "name": "python3"
  },
  "language_info": {
   "codemirror_mode": {
    "name": "ipython",
    "version": 3
   },
   "file_extension": ".py",
   "mimetype": "text/x-python",
   "name": "python",
   "nbconvert_exporter": "python",
   "pygments_lexer": "ipython3",
   "version": "3.9.13"
  }
 },
 "nbformat": 4,
 "nbformat_minor": 5
}
