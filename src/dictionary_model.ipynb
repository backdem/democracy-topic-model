{
 "cells": [
  {
   "cell_type": "code",
   "execution_count": 93,
   "id": "b410f797-940b-4892-addc-32fead299663",
   "metadata": {
    "tags": []
   },
   "outputs": [
    {
     "name": "stderr",
     "output_type": "stream",
     "text": [
      "[nltk_data] Downloading package stopwords to\n",
      "[nltk_data]     /Users/reggie/nltk_data...\n",
      "[nltk_data]   Package stopwords is already up-to-date!\n",
      "[nltk_data] Downloading package punkt to /Users/reggie/nltk_data...\n",
      "[nltk_data]   Package punkt is already up-to-date!\n"
     ]
    }
   ],
   "source": [
    "import pandas as pd\n",
    "import csv\n",
    "import json\n",
    "import string\n",
    "import re\n",
    "import nltk\n",
    "from nltk.corpus import stopwords\n",
    "from nltk.stem import LancasterStemmer #PorterStemmer\n",
    "from nltk.tokenize import word_tokenize\n",
    "\n",
    "\n",
    "\n",
    "# Download stopwords and initialize stemmer\n",
    "nltk.download('stopwords')\n",
    "nltk.download('punkt')\n",
    "stopwords = set(stopwords.words('english'))\n",
    "stemmer = LancasterStemmer()"
   ]
  },
  {
   "cell_type": "code",
   "execution_count": 94,
   "id": "b920d62c-1d8d-49c9-9275-06b75e59a976",
   "metadata": {
    "tags": []
   },
   "outputs": [],
   "source": [
    "# load data setof all countries, years and sources\n",
    "data_file = '../data/all_countries_0.0.2.csv'\n",
    "all_countries_data = pd.read_csv(data_file, dtype={'year': str}, comment='#')\n",
    "# cast sentence column to string\n",
    "all_countries_data['sentence'] = all_countries_data['sentence'].astype(str)"
   ]
  },
  {
   "cell_type": "code",
   "execution_count": 151,
   "id": "b89f9485-69a4-4ea3-9a4c-001ba7d46eab",
   "metadata": {
    "tags": []
   },
   "outputs": [],
   "source": [
    "# load dictionary of topics\n",
    "# strcuture [{\"name\": TOPIC_NAME, \"words\": NGRAMS_OF_KEYWORDS}, ...]\n",
    "dict_file = '../data/dict_2.json'\n",
    "dictionary = None\n",
    "with open(dict_file, 'r') as file:\n",
    "     dictionary = json.load(file)\n",
    "    \n",
    "def get_seed_lists(dictionary, ngram_size):\n",
    "    # create list of topics wit max ngram_size\n",
    "    seeds = []\n",
    "    for topic in dictionary:\n",
    "        seed = [w for w in topic[\"words\"] if len(w.split()) <= ngram_size]\n",
    "        seeds.append(seed)\n",
    "    return seeds"
   ]
  },
  {
   "cell_type": "code",
   "execution_count": 152,
   "id": "a96b7e6c-3fcf-4bfa-8b98-e793fc8a6b13",
   "metadata": {
    "tags": []
   },
   "outputs": [],
   "source": [
    "# choose a country and year\n",
    "country = [\"sweden\"]\n",
    "year = \"2020\"\n",
    "df = pd.DataFrame(all_countries_data)\n",
    "country_data = df[(df['year'] == year) & (df['country'].isin(country))]\n",
    "# reset index; needed for proper parsing by BERT\n",
    "country_data = country_data.reset_index(drop=True)\n",
    "\n"
   ]
  },
  {
   "cell_type": "code",
   "execution_count": 153,
   "id": "ebb37a62-831b-4131-9745-7e6dd9385234",
   "metadata": {
    "tags": []
   },
   "outputs": [],
   "source": [
    "def get_stemmed_tokens(data_list):\n",
    "    all_tokens = []\n",
    "  \n",
    "    for text in data_list:\n",
    "        text = re.sub(r'\\d+', '', text)\n",
    "        translator = str.maketrans('', '', string.punctuation)\n",
    "        text = text.translate(translator)\n",
    "        # Tokenize the sentence\n",
    "        tokens = word_tokenize(text)\n",
    "\n",
    "        # Remove stopwords and perform stemming\n",
    "        filtered_tokens = [stemmer.stem(token) for token in tokens if token.lower() not in stopwords and token.isalnum()]\n",
    "        all_tokens += filtered_tokens\n",
    "    return all_tokens"
   ]
  },
  {
   "cell_type": "code",
   "execution_count": 154,
   "id": "6408918a-121c-44a6-9aa5-8d2a34ccfe03",
   "metadata": {
    "tags": []
   },
   "outputs": [
    {
     "name": "stderr",
     "output_type": "stream",
     "text": [
      "/opt/homebrew/anaconda3/lib/python3.9/site-packages/numpy/core/fromnumeric.py:43: VisibleDeprecationWarning:\n",
      "\n",
      "Creating an ndarray from ragged nested sequences (which is a list-or-tuple of lists-or-tuples-or ndarrays with different lengths or shapes) is deprecated. If you meant to do this, you must specify 'dtype=object' when creating the ndarray.\n",
      "\n"
     ]
    }
   ],
   "source": [
    "# Preprocessed tokens (list of strings)\n",
    "data_list = np.squeeze(country_data[[\"sentence\"]].to_numpy())\n",
    "tokens = get_stemmed_tokens(data_list)\n",
    "seed_list = np.squeeze(get_seed_lists(dictionary, 1))\n",
    "stemmed_seeds = []\n",
    "for l in seed_list:\n",
    "    seed_tokens = get_stemmed_tokens(l)\n",
    "    stemmed_seeds.append(seed_tokens)\n",
    "#print(stemmed_seeds)\n"
   ]
  },
  {
   "cell_type": "code",
   "execution_count": 157,
   "id": "d7a0a600-ad92-43a5-af79-844b493ac3d8",
   "metadata": {
    "tags": []
   },
   "outputs": [
    {
     "name": "stdout",
     "output_type": "stream",
     "text": [
      "[0.01383399209486166, 0.022480237154150196, 0.008399209486166008, 0.011610671936758894]\n",
      "[56. 91. 34. 47.]\n"
     ]
    }
   ],
   "source": [
    "def get_dict_counts(tokens, stemmed_seeds):\n",
    "    counts = np.zeros(len(stemmed_seeds))\n",
    "    for token in tokens:\n",
    "        for i in range(len(stemmed_seeds)):\n",
    "            if token in stemmed_seeds[i]:\n",
    "                counts[i] += 1\n",
    "    norms = [c/len(tokens) for c in counts]\n",
    "    return (counts, norms)\n",
    "\n",
    "counts, norms = get_dict_counts(tokens, stemmed_seeds)\n",
    "print(norms)\n",
    "print(counts)"
   ]
  },
  {
   "cell_type": "code",
   "execution_count": 158,
   "id": "c004d382-2f71-43e0-baa0-e8ac172ed16b",
   "metadata": {
    "tags": []
   },
   "outputs": [
    {
     "name": "stdout",
     "output_type": "stream",
     "text": [
      "{'swed': 119, 'govern': 58, 'court': 52, 'auth': 47, 'report': 43, 'law': 41, 'med': 41, 'nat': 40, 'publ': 37, 'parlia': 35, 'independ': 33, 'corrupt': 32, 'cas': 32, 'reg': 30, 'act': 30, 'commit': 26, 'right': 24, 'includ': 24, 'admin': 23, 'council': 23, 'also': 22, 'off': 22, 'constitut': 22, 'journ': 21, 'system': 20, 'legisl': 20, 'prev': 20, 'inquiry': 20, 'process': 20, 'freedom': 19, 'crim': 19, 'protect': 19, 'elect': 18, 'propos': 18, 'concern': 18, 'judg': 18, 'europ': 17, 'gen': 17, 'inform': 17, 'provid': 17, 'stat': 16, 'memb': 16, 'party': 16, 'spec': 16, 'anticorrupt': 16, 'rul': 16, 'leg': 15, 'crimin': 15, 'numb': 15, 'min': 14, 'democr': 14, 'rel': 14, 'press': 14, 'institut': 14, 'jud': 14, 'framework': 14, 'eu': 14, 'requir': 14, 'org': 13, 'pol': 13, 'judicy': 13, 'plac': 13, 'ag': 13, 'ombudsm': 13, 'addit': 13, 'cod': 13, 'review': 13, 'appoint': 12, 'howev': 12, 'form': 12, 'increas': 12, 'investig': 12, 'prosecut': 12, 'submit': 12, 'repres': 11, 'peopl': 11, 'unit': 11, 'regard': 11, 'suprem': 11, 'hum': 11, 'just': 11, 'examin': 11, 'company': 11, 'fin': 11, 'must': 10, 'may': 10, 'op': 10, 'country': 10, 'commun': 10, 'work': 10, 'own': 10, 'particul': 10, 'ens': 10, 'est': 10, 'proc': 10, 'decid': 10, 'body': 9, 'mand': 9, 'un': 9, 'broadcast': 9, 'set': 9, 'civil': 9, 'high': 9, 'accord': 9, 'amend': 9, 'safeguard': 9, 'consid': 9, 'respons': 9, 'within': 9, 'riksd': 8, 'four': 8, 'year': 8, 'serv': 8, 'impl': 8, 'funct': 8, 'bribery': 8, 'on': 8, 'access': 8, 'threats': 8, 'two': 8, 'eq': 8, 'bas': 8, 'limit': 8, 'level': 8, 'tak': 8, 'certain': 8, 'alloc': 8, 'onlin': 8, 'part': 8, 'transp': 8, 'prep': 8, 'reform': 8, 'av': 8, 'employ': 8, 'consult': 8, 'perc': 7, 'polit': 7, 'robust': 7, 'develop': 7, 'man': 7, 'respect': 7, 'sev': 7, 'rec': 7, 'hat': 7, 'pract': 7, 'adopt': 7, 'in': 7, 'lobby': 7, 'assess': 7, 'oblig': 7, 'opin': 7, 'fre': 6, 'broad': 6, 'bloc': 6, 'effect': 6, 'restrict': 6, 'hold': 6, 'account': 6, 'immigr': 6, 'sint': 6, 'cal': 6, 'foreign': 6, 'priv': 6, 'import': 6, 'viol': 6, 'wel': 6, 'mat': 6, 'us': 6, 'remain': 6, 'continu': 6, 'busy': 6, 'perceiv': 6, 'poss': 6, 'risk': 6, 'plur': 6, 'rol': 6, 'instru': 6, 'socy': 6, 'consist': 6, 'strengthening': 6, 'ex': 6, 'result': 6, 'pres': 6, 'brib': 6, 'network': 6, 'decl': 6, 'follow': 5, 'receiv': 5, 'vot': 5, 'seat': 5, 'maj': 5, 'without': 5, 'cent': 5, 'monit': 5, 'wom': 5, 'low': 5, 'statut': 5, 'resourc': 5, 'handl': 5, 'attack': 5, 'sex': 5, 'febru': 5, 'address': 5, 'diff': 5, 'sect': 5, 'among': 5, 'traffick': 5, 'plan': 5, 'meet': 5, 'standard': 5, 'launch': 5, 'digit': 5, 'avail': 5, 'nee': 5, 'funda': 5, 'due': 5, 'context': 5, 'first': 5, 'aim': 5, 'support': 5, 'brå': 5, 'principl': 5, 'express': 5, 'mpm': 5, 'stakehold': 5, 'sap': 4, 'janu': 4, 'many': 4, 'month': 4, 'sec': 4, 'strong': 4, 'religy': 4, 'policy': 4, 'contribut': 4, 'world': 4, 'radio': 4, 'docu': 4, 'victim': 4, 'forc': 4, 'muslim': 4, 'despit': 4, 'show': 4, 'overal': 4, 'antisemit': 4, 'depart': 4, 'new': 4, 'meas': 4, 'tight': 4, 'individ': 4, 'jun': 4, 'stem': 4, 'condit': 4, 'det': 4, 'chang': 4, 'not': 4, 'problem': 4, 'intern': 4, 'mak': 4, 'tim': 4, 'childr': 4, 'term': 4, 'challeng': 4, 'whistleblow': 4, 'view': 4, 'direct': 4, 'ful': 4, 'dialog': 4, 'assocy': 4, 'good': 4, 'request': 4, 'chair': 4, 'recommend': 4, 'stag': 4, 'giv': 4, 'cov': 4, 'efficy': 4, 'norm': 4, 'env': 4, 'draft': 4, 'audit': 4, 'competit': 4, 'compet': 4, 'apply': 4, 'edit': 4, 'cur': 4, 'selfreg': 4, 'websit': 4, 'comply': 4, 'least': 3, 'win': 3, 'main': 3, 'centerleft': 3, 'centerright': 3, 'pop': 3, 'expect': 3, 'group': 3, 'maintain': 3, 'gend': 3, 'par': 3, 'sam': 3, 'pow': 3, 'autonom': 3, 'farright': 3, 'three': 3, 'fac': 3, 'enforc': 3, 'newspap': 3, 'period': 3, 'week': 3, 'televid': 3, 'guarantee': 3, 'train': 3, 'capac': 3, 'involv': 3, 'asyl': 3, 'seek': 3, 'antimuslim': 3, 'mov': 3, 'assign': 3, 'bord': 3, 'coupl': 3, 'enough': 3, 'reput': 3, 'rap': 3, 'transit': 3, 'point': 3, 'municip': 3, 'lack': 3, 'method': 3, 'person': 3, 'minim': 3, 'charact': 3, 'crossparty': 3, 'el': 3, 'complet': 3, 'comprehend': 3, 'strategy': 3, 'annount': 3, 'entitl': 3, 'ongo': 3, 'are': 3, 'mean': 3, 'structures': 3, 'play': 3, 'six': 3, 'ap': 3, 'staff': 3, 'presid': 3, 'ord': 3, 'wheth': 3, 'int': 3, 'al': 3, 'compos': 3, 'affect': 3, 'concret': 3, 'incom': 3, 'clear': 3, 'forens': 3, 'eurobaromet': 3, 'confid': 3, 'end': 3, 'coordin': 3, 'corp': 3, 'subject': 3, 'secret': 3, 'nonst': 3, 'contact': 3, 'chapt': 3, 'defam': 3, 'com': 3, 'platform': 3, 'promot': 3, 'saf': 3, 'evalu': 3, 'refer': 3, 'nhri': 3, 'prim': 2, 'head': 2, 'confirm': 2, 'whol': 2, 'stef': 2, 'löfven': 2, 'unicam': 2, 'district': 2, 'fair': 2, 'septemb': 2, 'refus': 2, 'lead': 2, 'togeth': 2, 'green': 2, 'lib': 2, 'coop': 2, 'integr': 2, 'sometim': 2, 'ethn': 2, 'oth': 2, 'indig': 2, 'sign': 2, 'adv': 2, 'gre': 2, 'perform': 2, 'fail': 2, 'liv': 2, 'expos': 2, 'crit': 2, 'cit': 2, 'dai': 2, 'extrem': 2, 'sensit': 2, 'top': 2, 'adequ': 2, 'prohibit': 2, 'ev': 2, 'jew': 2, 'survey': 2, 'found': 2, 'property': 2, 'fal': 2, 'occas': 2, 'espec': 2, 'academ': 2, 'discuss': 2, 'assembl': 2, 'trad': 2, 'prov': 2, 'introduc': 2, 'focus': 2, 'control': 2, 'threat': 2, 'city': 2, 'larg': 2, 'multipl': 2, 'ind': 2, 'prison': 2, 'temp': 2, 'long': 2, 'abroad': 2, 'effort': 2, 'discrimin': 2, 'strengthened': 2, 'personnel': 2, 'senty': 2, 'benefit': 2, 'pass': 2, 'persist': 2, 'remark': 2, 'emerg': 2, 'claim': 2, 'assault': 2, 'loc': 2, 'samesex': 2, 'allow': 2, 'marry': 2, 'model': 2, 'issu': 2, 'defin': 2, 'opportun': 2, 'wag': 2, 'expery': 2, 'proact': 2, 'nevertheless': 2, 'unaccompany': 2, 'ident': 2, 'step': 2, 'transmit': 2, 'summon': 2, 'cor': 2, 'approach': 2, 'disclos': 2, 'breach': 2, 'guar': 2, 'estim': 2, 'favo': 2, 'phys': 2, 'check': 2, 'bal': 2, 'structured': 2, 'extend': 2, 'board': 2, 'bar': 2, 'eith': 2, 'slight': 2, 'strengthen': 2, 'bring': 2, 'retir': 2, 'object': 2, 'would': 2, 'ordin': 2, 'quest': 2, 'decreas': 2, 'influ': 2, 'find': 2, 'ear': 2, 'outcom': 2, 'cop': 2, 'caseload': 2, 'inst': 2, 'budget': 2, 'improv': 2, 'en': 2, 'bil': 2, 'august': 2, 'remov': 2, 'trend': 2, 'stil': 2, 'hear': 2, 'reason': 2, 'fiu': 2, 'charg': 2, 'glob': 2, 'widespread': 2, 'penal': 2, 'imprison': 2, 'ten': 2, 'duty': 2, 'disciplin': 2, 'liabl': 2, 'conduc': 2, 'expert': 2, 'sery': 2, 'intellig': 2, 'analys': 2, 'nacpu': 2, 'asset': 2, 'contain': 2, 'insid': 2, 'revolv': 2, 'door': 2, 'cabinet': 2, 'greco': 2, 'för': 2, 'och': 2, 'rev': 2, 'audiov': 2, 'avmsd': 2, 'cont': 2, 'chairm': 2, 'sourc': 2, 'alert': 2, 'bet': 2, 'carry': 2, 'chancel': 2, 'impact': 2, 'nonbind': 2, 'held': 2, 'behalf': 2, 'sakråd': 2, 'for': 2, 'annex': 2, 'list': 2, 'cmrec': 2, 'directorateg': 2, 'encs': 2, 'virt': 2, 'visit': 2, 'speak': 1, 'king': 1, 'carl': 1, 'xvi': 1, 'gustaf': 1, 'crown': 1, 'ceremon': 1, 'compr': 1, 'every': 1, 'proport': 1, 'nationwid': 1, 'neith': 1, 'antiimmigr': 1, 'prevy': 1, 'gain': 1, 'fel': 1, 'short': 1, 'analyst': 1, 'coalit': 1, 'sd': 1, 'novemb': 1, 'osc': 1, 'although': 1, 'doubt': 1, 'secrecy': 1, 'comprom': 1, 'uphold': 1, 'multiparty': 1, 'opposit': 1, 'eight': 1, 'mod': 1, 'cho': 1, 'domin': 1, 'princip': 1, 'educ': 1, 'cult': 1, 'echo': 1, 'rapport': 1, 'abstain': 1, 'mech': 1, 'insufficy': 1, 'noncit': 1, 'subsid': 1, 'regardless': 1, 'affy': 1, 'air': 1, 'program': 1, 'langu': 1, 'intimid': 1, 'relig': 1, 'perm': 1, 'pray': 1, 'adh': 1, 'wear': 1, 'hijab': 1, 'headscarf': 1, 'stud': 1, 'teach': 1, 'kosh': 1, 'hal': 1, 'meat': 1, 'nonm': 1, 'circumcid': 1, 'boy': 1, 'pursu': 1, 'oft': 1, 'unreport': 1, 'uppsal': 1, 'univers': 1, 'congreg': 1, 'dea': 1, 'sum': 1, 'jewishown': 1, 'hous': 1, 'fir': 1, 'lund': 1, 'islamophob': 1, 'vibr': 1, 'erupt': 1, 'demonst': 1, 'counterprotest': 1, 'nongovern': 1, 'kind': 1, 'strike': 1, 'lab': 1, 'fed': 1, 'approxim': 1, 'workforc': 1, 'prevail': 1, 'defend': 1, 'presum': 1, 'innoc': 1, 'guil': 1, 'counsel': 1, 'accus': 1, 'offens': 1, 'drov': 1, 'truck': 1, 'stockholm': 1, 'stor': 1, 'kil': 1, 'wound': 1, 'antiter': 1, 'shar': 1, 'deem': 1, 'pos': 1, 'dead': 1, 'shoot': 1, 'arson': 1, 'hand': 1, 'grenad': 1, 'poorest': 1, 'neighb': 1, 'cours': 1, 'bomb': 1, 'went': 1, 'malmo': 1, 'dam': 1, 'apart': 1, 'block': 1, 'littl': 1, 'facil': 1, 'rais': 1, 'excess': 1, 'jurisdict': 1, 'try': 1, 'suspect': 1, 'genocid': 1, 'overs': 1, 'dis': 1, 'ory': 1, 'correct': 1, 'wak': 1, 'grow': 1, 'rightw': 1, 'leav': 1, 'famy': 1, 'reun': 1, 'antidiscrimin': 1, 'den': 1, 'holocaust': 1, 'conspir': 1, 'the': 1, 'rhet': 1, 'indirect': 1, 'real': 1, 'academy': 1, 'select': 1, 'nobel': 1, 'priz': 1, 'lit': 1, 'resign': 1, 'scand': 1, 'resid': 1, 'checkpoint': 1, 'extern': 1, 'refug': 1, 'cris': 1, 'grant': 1, 'reind': 1, 'herd': 1, 'commonlaw': 1, 'disput': 1, 'land': 1, 'lesb': 1, 'art': 1, 'insemin': 1, 'vitro': 1, 'fertil': 1, 'heterosex': 1, 'luth': 1, 'church': 1, 'ceremony': 1, 'domest': 1, 'ey': 1, 'suff': 1, 'groundbreak': 1, 'recogn': 1, 'cons': 1, 'amount': 1, 'distinct': 1, 'coerc': 1, 'enjoy': 1, 'earn': 1, 'equ': 1, 'men': 1, 'unemploy': 1, 'born': 1, 'destin': 1, 'less': 1, 'ext': 1, 'purpos': 1, 'exploit': 1, 'combat': 1, 'antitraffick': 1, 'fost': 1, 'pen': 1, 'built': 1, 'rely': 1, 'tradit': 1, 'appear': 1, 'possess': 1, 'enshrin': 1, 'fact': 1, 'abov': 1, 'enh': 1, 'furtherm': 1, 'branch': 1, 'twelv': 1, 'equip': 1, 'sep': 1, 'selfgovern': 1, 'stabl': 1, 'aspect': 1, 'forward': 1, 'reflect': 1, 'interf': 1, 'deb': 1, 'suggest': 1, 'could': 1, 'war': 1, 'at': 1, 'noteworthy': 1, 'stip': 1, 'criter': 1, 'cap': 1, 'progress': 1, 'already': 1, 'detail': 1, 'simil': 1, 'ris': 1, 'facilit': 1, 'attorney': 1, 'unnecess': 1, 'hard': 1, 'foreseen': 1, 'ent': 1, 'disposit': 1, 'litigy': 1, 'commerc': 1, 'pend': 1, 'rat': 1, 'drop': 1, 'posit': 1, 'back': 1, 'clos': 1, 'resolv': 1, 'lockdown': 1, 'most': 1, 'covid': 1, 'pandem': 1, 'cancel': 1, 'postpon': 1, 'heal': 1, 'comb': 1, 'writ': 1, 'repress': 1, 'dimend': 1, 'dealt': 1, 'task': 1, 'scor': 1, 'index': 1, 'rank': 1, 'rd': 1, 'th': 1, 'respond': 1, 'feel': 1, 'success': 1, 'believ': 1, 'caught': 1, 'seny': 1, 'appropry': 1, 'pun': 1, 'neglig': 1, 'maxim': 1, 'fiv': 1, 'gross': 1, 'givingtak': 1, 'rang': 1, 'moreov': 1, 'misconduc': 1, 'neglect': 1, 'warn': 1, 'reduc': 1, 'advers': 1, 'impart': 1, 'harm': 1, 'relev': 1, 'exampl': 1, 'collab': 1, 'key': 1, 'fight': 1, 'distribut': 1, 'across': 1, 'research': 1, 'whos': 1, 'nonfin': 1, 'sal': 1, 'workshop': 1, 'highest': 1, 'multin': 1, 'per': 1, 'capit': 1, 'dual': 1, 'nacp': 1, 'around': 1, 'sol': 1, 'abl': 1, 'cre': 1, 'categ': 1, 'outsid': 1, 'depend': 1, 'econom': 1, 'kept': 1, 'dat': 1, 'mad': 1, 'enco': 1, 'repr': 1, 'blow': 1, 'whistl': 1, 'irregul': 1, 'compon': 1, 'anonym': 1, 'highlevel': 1, 'unreg': 1, 'governmentpubl': 1, 'appl': 1, 'intend': 1, 'encompass': 1, 'stateown': 1, 'transf': 1, 'along': 1, 'becom': 1, 'attend': 1, 'county': 1, 'interest': 1, 'second': 1, 'myndighet': 1, 'tv': 1, 'divers': 1, 'decisionmak': 1, 'subsidy': 1, 'latest': 1, 'conclud': 1, 'artic': 1, 'transpos': 1, 'might': 1, 'attribut': 1, 'wellest': 1, 'entir': 1, 'volunt': 1, 'complaint': 1, 'magazin': 1, 'soc': 1, 'chief': 1, 'club': 1, 'eth': 1, 'particip': 1, 'scheme': 1, 'mediaspec': 1, 'regim': 1, 'structure': 1, 'an': 1, 'id': 1, 'dismiss': 1, 'editorsinchief': 1, 'sanct': 1, 'insult': 1, 'print': 1, 'read': 1, 'conjunct': 1, 'rar': 1, 'ment': 1, 'profess': 1, 'abud': 1, 'derog': 1, 'fund': 1, 'vit': 1, 'speech': 1, 'ground': 1, 'expost': 1, 'lat': 1, 'vast': 1, 'enact': 1, 'start': 1, 'oneperson': 1, 'draw': 1, 'hap': 1, 'socal': 1, 'illust': 1, 'timet': 1, 'avoid': 1, 'deadlin': 1, 'conform': 1, 'upheld': 1, 'solicit': 1, 'compat': 1, 'supery': 1, 'statu': 1, 'adjud': 1, 'disapply': 1, 'incompat': 1, 'conflict': 1, 'simpl': 1, 'consecut': 1, 'way': 1, 'light': 1, 'qual': 1, 'accredit': 1, 'bstatus': 1, 'undergon': 1, 'ennhr': 1, 'stressing': 1, 'sufficy': 1, 'superv': 1, 'subst': 1, 'remit': 1, 'landscap': 1, 'them': 1, 'joint': 1, 'problemsolv': 1, 'alphabet': 1, 'cepes': 1, 'study': 1, 'civic': 1, 'track': 1, 'civ': 1, 'spac': 1, 'ccje': 1, 'v': 1, 'poland': 1, 'c': 1, 'flash': 1, 'attitud': 1, 'toward': 1, 'scoreboard': 1, 'iv': 1, 'ds': 1, 'fif': 1, 'round': 1, 'execut': 1, 'jmg': 1, 'coronavir': 1, 'oecd': 1, 'urg': 1, 'jo': 1, 'statskontoret': 1, 'input': 1, 'kar': 1, 'inför': 1, 'statsråd': 1, 'statssekreter': 1, 'talk': 1, 'industry': 1, 'drug': 1, 'goaml': 1, 'antimoneylaund': 1, 'ii': 1, 'met': 1, 'horizont': 1}\n"
     ]
    }
   ],
   "source": [
    "def get_vocab_counts(tokens):\n",
    "    vocab_counts = {}\n",
    "    for token in tokens:\n",
    "        if token not in vocab_counts.keys():\n",
    "            vocab_counts[token] = 1\n",
    "        else:\n",
    "            vocab_counts[token] += 1\n",
    "    return dict(sorted(vocab_counts.items(), key=lambda x: x[1], reverse=True))\n",
    "\n",
    "sorted_dict = get_vocab_counts(tokens)\n",
    "print(sorted_dict)\n",
    "    "
   ]
  },
  {
   "cell_type": "code",
   "execution_count": null,
   "id": "1fe5f897-4633-4f4d-871a-b505c48e260a",
   "metadata": {},
   "outputs": [],
   "source": []
  }
 ],
 "metadata": {
  "kernelspec": {
   "display_name": "Python 3 (ipykernel)",
   "language": "python",
   "name": "python3"
  },
  "language_info": {
   "codemirror_mode": {
    "name": "ipython",
    "version": 3
   },
   "file_extension": ".py",
   "mimetype": "text/x-python",
   "name": "python",
   "nbconvert_exporter": "python",
   "pygments_lexer": "ipython3",
   "version": "3.9.13"
  }
 },
 "nbformat": 4,
 "nbformat_minor": 5
}
