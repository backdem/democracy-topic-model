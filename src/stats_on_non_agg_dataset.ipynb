{
 "cells": [
  {
   "cell_type": "code",
   "execution_count": null,
   "id": "504b5d92-076e-44b8-b15c-f517e62e7ffd",
   "metadata": {
    "tags": []
   },
   "outputs": [],
   "source": [
    "import pandas as pd\n",
    "import plotly.graph_objects as go\n",
    "import math"
   ]
  },
  {
   "cell_type": "code",
   "execution_count": null,
   "id": "fae94dec-94b1-48a5-a433-c64ee4b2a24d",
   "metadata": {
    "tags": []
   },
   "outputs": [],
   "source": [
    "non_aggregated_counts = 'non_aggregated_counts.csv'\n",
    "df = pd.read_csv(non_aggregated_counts)"
   ]
  },
  {
   "cell_type": "code",
   "execution_count": null,
   "id": "25355aed-481f-491a-8673-d174c8da054d",
   "metadata": {
    "tags": []
   },
   "outputs": [],
   "source": [
    "# group df by word and dimension\n",
    "df_grouped = pd.DataFrame(df.groupby(['dictionary', 'dimension'])['count'].sum()).reset_index()\n",
    "print(df_grouped)"
   ]
  },
  {
   "cell_type": "code",
   "execution_count": null,
   "id": "07419234-3b15-4450-93da-c08d48193872",
   "metadata": {
    "tags": []
   },
   "outputs": [],
   "source": [
    "#dimensions = set(list(pd.Series((df_grouped['dimension'])).dropna()))\n",
    "dimensions = pd.Series(df_grouped['dimension']).unique()\n",
    "print(dimensions)"
   ]
  },
  {
   "cell_type": "code",
   "execution_count": null,
   "id": "a1f282e9-de19-4d4d-8123-68a314b0a57d",
   "metadata": {
    "tags": []
   },
   "outputs": [],
   "source": [
    "def plot_random():\n",
    "    import plotly.express as px\n",
    "    fig = px.scatter(x=[0, 1, 2, 3, 4], y=[0, 1, 4, 9, 16])\n",
    "    fig.show()\n",
    "    fig.write_image(\"images/random.pdf\")\n",
    "plot_random()"
   ]
  },
  {
   "cell_type": "code",
   "execution_count": null,
   "id": "e0fddc6a-e28f-4f30-8847-1d58bf3357fc",
   "metadata": {
    "tags": []
   },
   "outputs": [],
   "source": [
    "def plot_words(df, dim, title=None):\n",
    "    df = df[df['dimension'] == dim]\n",
    "    df = df.sort_values(by='count', ascending=True)\n",
    "    fig = go.Figure()\n",
    "    log_values = [math.log(x) for x in pd.Series(df['count'])]\n",
    "    #fig.add_trace(go.Bar(x=df['dictionary'], y=log_values))\n",
    "    fig.add_trace(go.Bar(y=df['dictionary'], x=df['count'], orientation='h'))\n",
    "    fig.update_layout(title=title, yaxis_title=None, xaxis_title='counts')\n",
    "    fig.show()\n",
    "    return fig\n",
    "                  "
   ]
  },
  {
   "cell_type": "code",
   "execution_count": null,
   "id": "135cc56f-f426-4475-946c-5b1e7667a6d4",
   "metadata": {
    "tags": []
   },
   "outputs": [],
   "source": [
    "for dim in dimensions:\n",
    "    fig = plot_words(df_grouped, dim)\n",
    "    fig.write_image(f'images/words_for_{dim}.pdf', width=1024, height=512)"
   ]
  },
  {
   "cell_type": "code",
   "execution_count": null,
   "id": "f797e0ac-2046-4449-bc8f-ae3b81c87620",
   "metadata": {},
   "outputs": [],
   "source": []
  }
 ],
 "metadata": {
  "kernelspec": {
   "display_name": "Python 3 (ipykernel)",
   "language": "python",
   "name": "python3"
  },
  "language_info": {
   "codemirror_mode": {
    "name": "ipython",
    "version": 3
   },
   "file_extension": ".py",
   "mimetype": "text/x-python",
   "name": "python",
   "nbconvert_exporter": "python",
   "pygments_lexer": "ipython3",
   "version": "3.9.13"
  }
 },
 "nbformat": 4,
 "nbformat_minor": 5
}
