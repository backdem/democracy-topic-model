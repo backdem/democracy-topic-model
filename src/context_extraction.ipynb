{
 "cells": [
  {
   "cell_type": "code",
   "execution_count": 1,
   "id": "592d2cba-dc83-4a65-acca-1ccbe77f7fd0",
   "metadata": {
    "tags": []
   },
   "outputs": [],
   "source": [
    "import torch\n",
    "from transformers import BertTokenizer, BertModel"
   ]
  },
  {
   "cell_type": "code",
   "execution_count": 2,
   "id": "84a190cd-ca65-42b0-9592-e8053df0940e",
   "metadata": {
    "tags": []
   },
   "outputs": [
    {
     "name": "stderr",
     "output_type": "stream",
     "text": [
      "Some weights of the model checkpoint at bert-base-uncased were not used when initializing BertModel: ['cls.predictions.decoder.weight', 'cls.predictions.transform.dense.bias', 'cls.seq_relationship.weight', 'cls.seq_relationship.bias', 'cls.predictions.bias', 'cls.predictions.transform.dense.weight', 'cls.predictions.transform.LayerNorm.bias', 'cls.predictions.transform.LayerNorm.weight']\n",
      "- This IS expected if you are initializing BertModel from the checkpoint of a model trained on another task or with another architecture (e.g. initializing a BertForSequenceClassification model from a BertForPreTraining model).\n",
      "- This IS NOT expected if you are initializing BertModel from the checkpoint of a model that you expect to be exactly identical (initializing a BertForSequenceClassification model from a BertForSequenceClassification model).\n"
     ]
    }
   ],
   "source": [
    "# Load pre-trained BERT model and tokenizer\n",
    "model_name = 'bert-base-uncased'\n",
    "tokenizer = BertTokenizer.from_pretrained(model_name)\n",
    "model = BertModel.from_pretrained(model_name)"
   ]
  },
  {
   "cell_type": "code",
   "execution_count": 21,
   "id": "37231e4b-9793-4f35-9c26-d5ca85352ba3",
   "metadata": {
    "tags": []
   },
   "outputs": [],
   "source": [
    "def embed_text(input_text, tokenizer, model):\n",
    "    # Tokenization\n",
    "    tokens = tokenizer.tokenize(input_text)\n",
    "    token_ids = tokenizer.convert_tokens_to_ids(tokens)\n",
    "    \n",
    "    # Padding\n",
    "    max_length = 10  # Maximum sequence length for BERT\n",
    "    padded_token_ids = token_ids[:max_length]\n",
    "    attention_mask = [1] * len(padded_token_ids)\n",
    "    \n",
    "    # Padding to match max_length\n",
    "    while len(padded_token_ids) < max_length:\n",
    "        padded_token_ids.append(0)\n",
    "        attention_mask.append(0)\n",
    "        \n",
    "    # Convert to PyTorch tensors\n",
    "    input_ids = torch.tensor([padded_token_ids])\n",
    "    attention_mask = torch.tensor([attention_mask])\n",
    "    \n",
    "    # Model inference\n",
    "    with torch.no_grad():\n",
    "        outputs = model(input_ids, attention_mask=attention_mask)\n",
    "        \n",
    "    contextual_embeddings = outputs.last_hidden_state.squeeze(0)\n",
    "    \n",
    "    return contextual_embeddings"
   ]
  },
  {
   "cell_type": "code",
   "execution_count": 34,
   "id": "d1192820-31d8-4d9b-b2f9-d2285dd36e9a",
   "metadata": {
    "tags": []
   },
   "outputs": [],
   "source": [
    "# Input text\n",
    "input_text1 = \"I love to go for a walk in the park.\"\n",
    "input_text2 = \"parks are made for walking\"\n",
    "\n",
    "contextual_embeddings1 = embed_text(input_text1, tokenizer, model)\n",
    "contextual_embeddings2 = embed_text(input_text2, tokenizer, model)\n"
   ]
  },
  {
   "cell_type": "code",
   "execution_count": 37,
   "id": "f2d8a946-0d2c-4f56-9891-8752d421e2b0",
   "metadata": {
    "tags": []
   },
   "outputs": [],
   "source": [
    "# Index of the word to analyze\n",
    "word_index1 = 6  # Example: \"walk\"\n",
    "\n",
    "# Get the contextualized representation for the word\n",
    "word_embedding1 = contextual_embeddings1[word_index1]\n",
    "\n",
    "word_index2 = 4 # park\n",
    "word_embedding2 = contextual_embeddings2[word_index2]\n",
    "\n",
    "# Print the contextualized representation\n",
    "# print(\"Contextualized representation of the word:\", word_embedding)"
   ]
  },
  {
   "cell_type": "code",
   "execution_count": 38,
   "id": "cc6be9d9-8147-4c1b-a9a3-97e7b8a59622",
   "metadata": {
    "tags": []
   },
   "outputs": [
    {
     "name": "stdout",
     "output_type": "stream",
     "text": [
      "Cosine similarity: 0.5662438869476318\n"
     ]
    }
   ],
   "source": [
    "from scipy.spatial.distance import cosine\n",
    "rep_1_np = word_embedding1.numpy()\n",
    "rep_2_np = word_embedding2.numpy()\n",
    "\n",
    "# Calculate cosine similarity\n",
    "similarity = 1 - cosine(rep_1_np, rep_2_np)\n",
    "\n",
    "# Print similarity score\n",
    "print(\"Cosine similarity:\", similarity)"
   ]
  },
  {
   "cell_type": "code",
   "execution_count": null,
   "id": "b80a53d4-9da5-41cf-846c-6e08f46bf15d",
   "metadata": {},
   "outputs": [],
   "source": []
  }
 ],
 "metadata": {
  "kernelspec": {
   "display_name": "Python 3 (ipykernel)",
   "language": "python",
   "name": "python3"
  },
  "language_info": {
   "codemirror_mode": {
    "name": "ipython",
    "version": 3
   },
   "file_extension": ".py",
   "mimetype": "text/x-python",
   "name": "python",
   "nbconvert_exporter": "python",
   "pygments_lexer": "ipython3",
   "version": "3.9.13"
  }
 },
 "nbformat": 4,
 "nbformat_minor": 5
}
