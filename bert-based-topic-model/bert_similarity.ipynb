{
 "cells": [
  {
   "cell_type": "code",
   "execution_count": null,
   "id": "77d9c8ce-ee26-45b2-8452-285e199ecc76",
   "metadata": {
    "tags": []
   },
   "outputs": [],
   "source": [
    "from transformers import AutoTokenizer, AutoModel\n",
    "import torch\n",
    "from sklearn.metrics.pairwise import cosine_similarity"
   ]
  },
  {
   "cell_type": "code",
   "execution_count": null,
   "id": "f41ca47e-e603-4bc6-8224-87cffb73ab53",
   "metadata": {
    "tags": []
   },
   "outputs": [],
   "source": [
    "# Load pre-trained BERT model and tokenizer\n",
    "model_name = 'bert-large-uncased'\n",
    "tokenizer = AutoTokenizer.from_pretrained(model_name)\n",
    "model = AutoModel.from_pretrained(model_name)"
   ]
  },
  {
   "cell_type": "code",
   "execution_count": null,
   "id": "fd98c29e-0ea5-4da3-9abf-c40abe6a4efe",
   "metadata": {
    "tags": []
   },
   "outputs": [],
   "source": [
    "# Example words for similarity comparison\n",
    "word1 = \"corruption\"\n",
    "word2 = \"rule-of-law\"\n",
    "\n",
    "# Tokenize and encode the words\n",
    "encoded_inputs = tokenizer([word1, word2], padding=True, truncation=True, return_tensors='pt')\n",
    "\n",
    "# Obtain the BERT embeddings\n",
    "with torch.no_grad():\n",
    "    outputs = model(**encoded_inputs)\n",
    "    embeddings = outputs.last_hidden_state"
   ]
  },
  {
   "cell_type": "code",
   "execution_count": null,
   "id": "76882b23-a85d-4202-88d5-9d5bb19c9129",
   "metadata": {
    "tags": []
   },
   "outputs": [],
   "source": [
    "# Calculate cosine similarity between the word embeddings\n",
    "similarity = cosine_similarity(embeddings[0], embeddings[1])[0][0]\n",
    "\n",
    "print(f\"Similarity between '{word1}' and '{word2}': {similarity:.4f}\")\n"
   ]
  },
  {
   "cell_type": "code",
   "execution_count": null,
   "id": "a2ebe3dd-6a2c-4b8b-b769-fbd527a82a5d",
   "metadata": {},
   "outputs": [],
   "source": []
  }
 ],
 "metadata": {
  "kernelspec": {
   "display_name": "Python 3 (ipykernel)",
   "language": "python",
   "name": "python3"
  },
  "language_info": {
   "codemirror_mode": {
    "name": "ipython",
    "version": 3
   },
   "file_extension": ".py",
   "mimetype": "text/x-python",
   "name": "python",
   "nbconvert_exporter": "python",
   "pygments_lexer": "ipython3",
   "version": "3.9.13"
  }
 },
 "nbformat": 4,
 "nbformat_minor": 5
}
