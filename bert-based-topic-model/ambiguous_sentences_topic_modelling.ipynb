{
 "cells": [
  {
   "cell_type": "code",
   "execution_count": 39,
   "id": "5e2296b8-7934-47c5-9881-d1fec99fcfb6",
   "metadata": {
    "tags": []
   },
   "outputs": [],
   "source": [
    "from bertopic import BERTopic\n",
    "import pandas as pd\n",
    "import os\n",
    "import matplotlib.pyplot as plt\n",
    "from bertopic.representation import KeyBERTInspired"
   ]
  },
  {
   "cell_type": "code",
   "execution_count": 40,
   "id": "88d0905d-83f7-4c7b-8d7b-7ee473f78a76",
   "metadata": {
    "tags": []
   },
   "outputs": [],
   "source": [
    "# Corpus and dictionary files to use\n",
    "corpus_file = '../../data/democracy_reports_corpus_merged_210524.xlsx'"
   ]
  },
  {
   "cell_type": "code",
   "execution_count": 41,
   "id": "1b9d3d61-4a85-4bf6-a8fa-47c15e1d7995",
   "metadata": {
    "tags": []
   },
   "outputs": [],
   "source": [
    "# Download datsets if not already downloaded\n",
    "if not os.path.exists(corpus_file):\n",
    "    print(f'Corpus file not found {corpus_file}')"
   ]
  },
  {
   "cell_type": "code",
   "execution_count": 42,
   "id": "3ca0807f-114b-495c-bf6b-83bae17b8ae0",
   "metadata": {
    "tags": []
   },
   "outputs": [],
   "source": [
    "# load data setof all countries, years and sources\n",
    "all_countries_data = pd.read_excel(corpus_file)\n",
    "all_countries_data['sentence'] = all_countries_data['sentence'].astype(str)\n",
    "df = pd.DataFrame(all_countries_data)\n",
    "amb_df = df[df['correct dimension'] == 'ambiguous']\n",
    "amb_df = amb_df.reset_index(drop=True)"
   ]
  },
  {
   "cell_type": "code",
   "execution_count": 43,
   "id": "ed759448-d7c0-44f3-b2d4-114466287dab",
   "metadata": {
    "tags": []
   },
   "outputs": [
    {
     "data": {
      "application/vnd.jupyter.widget-view+json": {
       "model_id": "009911d0d27d480c9b981d482d6e78b3",
       "version_major": 2,
       "version_minor": 0
      },
      "text/plain": [
       "Batches:   0%|          | 0/17 [00:00<?, ?it/s]"
      ]
     },
     "metadata": {},
     "output_type": "display_data"
    }
   ],
   "source": [
    "# Prepare embeddings\n",
    "from sentence_transformers import SentenceTransformer\n",
    "docs = amb_df.sentence\n",
    "sentence_model = SentenceTransformer(\"all-MiniLM-L6-v2\")\n",
    "\n",
    "# Use KeyBERTInspired representation model. \n",
    "# This gives better names to the topics.\n",
    "representation_model = KeyBERTInspired()\n",
    "embeddings = sentence_model.encode(docs, show_progress_bar=True)"
   ]
  },
  {
   "cell_type": "code",
   "execution_count": 44,
   "id": "497d1108-e398-479c-a5da-b22fd734e713",
   "metadata": {
    "tags": []
   },
   "outputs": [
    {
     "name": "stderr",
     "output_type": "stream",
     "text": [
      "2024-05-27 17:16:35,511 - BERTopic - Dimensionality - Fitting the dimensionality reduction algorithm\n",
      "2024-05-27 17:16:36,490 - BERTopic - Dimensionality - Completed ✓\n",
      "2024-05-27 17:16:36,490 - BERTopic - Cluster - Start clustering the reduced embeddings\n",
      "2024-05-27 17:16:36,500 - BERTopic - Cluster - Completed ✓\n",
      "2024-05-27 17:16:36,502 - BERTopic - Representation - Extracting topics from clusters using representation models.\n",
      "2024-05-27 17:16:37,150 - BERTopic - Representation - Completed ✓\n"
     ]
    }
   ],
   "source": [
    "# load BERT model paraphrase-MiniLM-L3-v2 (multilingual) or all-MiniLM-L6-v2 (english)\n",
    "# ADJUST minimum topic size and max ngrams\n",
    "MIN_TOPIC_SIZE = 10\n",
    "MAX_NGRAM = 2\n",
    "topic_model = BERTopic(representation_model=representation_model,  \n",
    "                       verbose=True, \n",
    "                       embedding_model='all-MiniLM-L6-v2', \n",
    "                       min_topic_size = MIN_TOPIC_SIZE, \n",
    "                       n_gram_range=(1, MAX_NGRAM)\n",
    "                      ).fit(docs, embeddings)"
   ]
  },
  {
   "cell_type": "code",
   "execution_count": 45,
   "id": "4f8a3255-4572-482f-a7ae-8254d3ea49c9",
   "metadata": {
    "tags": []
   },
   "outputs": [
    {
     "data": {
      "application/vnd.plotly.v1+json": {
       "config": {
        "plotlyServerURL": "https://plot.ly"
       },
       "data": [
        {
         "hoverinfo": "text",
         "hovertext": [
          "in the 2019 corruption perceptions index of transparency international, ireland scored 74/100 and ranked 8th in the eu and 18th globally .",
          "the prohibition applies regardless of the amount.",
          "\"In practice, municipalities choose to incorporate as cities in order to enjoy purportedly easier access to funds and enhanced appeal to investors.",
          "financial expertise centre (2019), fec annual plan 2020.",
          "council of the european union (2002), council framework decision of 13 june 2002 on the european arrest warrant and the surrender procedures between member states.",
          "dutch government, measures against undermining criminality.",
          "while coordination mechanisms are in place, a pronounced departmentalism challenges coordination and efficient planning .",
          "corporate criminal liability has been introduced in the revised legislation in 2018, and a track record is still to be established.",
          "national ombudsman (2020), proper provision of information is the basis of access to justice – bottlenecks in the provision of information about penalties and dismissal decisions.",
          "its service is confidential and free of charge.",
          "centre for media pluralism and media freedom (2020), 2020 media pluralism monitor.",
          "\"It remains to be seen whether this development will compel adequate attention from both the local and national government to care for the country’s most prominent tourist destination.",
          "the threshold for dutch donations that have to be disclosed would remain at eur 4 500.",
          "\"The federal authorities have limited ability to impose policy decisions in Chechnya, where Chechen president Ramzan Kadyrov has gained unchecked power in exchange for keeping Chechnya within the Russian Federation.",
          "\"In September 2020, the Times of Israel reported that a publicly owned Israeli aerospace firm transferred at least $155 million to that slush fund, though the firm’s specific purpose was unclear.",
          "european commission (2013, 2014, 2015, 2016, 2017, 2018, 2019, 2020), the eu justice scoreboard.",
          "these revelations triggered, amongst others, the resignation of the prosecutor general in march 2019 .",
          "\"However, their fiscal policy choices in particular have been limited in recent years by the main creditor institutions that have guided the country through its public debt crisis—the European Commission, the European Central Bank, and the International Monetary Fund.",
          "the commission services held virtual meetings in may and june 2020 with:",
          "furthermore, sipo is responsible for managing the disclosure of interests and tax clearance regimes, as well as for investigating and reporting on possible contraventions of the ethics legislation.",
          "council of europe: committee of ministers (2019), resolution cm/resdh(2016)358 of the committee of ministers on excessive length of criminal and civil proceedings and lack of effective remedies.",
          "\"Investigative reports published by foreign media in recent years have revealed evidence that Aliyev family used their positions to amass large private fortunes.",
          "civicus, monitor tracking civic space: france.",
          "\"Wirecard filed for bankruptcy after its accounting firm refused to sign off on financial statements over evidence of fraud.",
          "compliance with the act is generally good.",
          "high authority for the transparency of public life – hatvp (2019), activity report of 2018. .",
          "\"Tax officials have been implicated in tax evasion schemes, which seriously complicate the government’s fiscal reform efforts.",
          "nan",
          "\"For example, the prosecutor’s office has been reluctant to investigate long-standing allegations that the government misused development funds provided by the EU.",
          "\"The parliament in power through 2018 included some of the country’s wealthiest business leaders, who continued their private entrepreneurial activities despite conflicts of interest.",
          "european commission (2020), report on the implementation of council framework decision of 13 june 2002 on the european arrest warrant and surrender procedures between member states.",
          "european network of councils for the judiciary (2020), contribution from the european network of council for the judiciary for the stakeholder consultation for the 2020 rule of law report.",
          "* the list of contributions received in the context of the consultation for the 2020 rule of law report can be found at (com website).",
          "\"Greece was expected to exit its last bailout agreement with the institutions in 2018.",
          "\"Cvetanoski, Ilcho, “Ohrid and its lake, a UNESCO heritage in danger”, Osservatorio Balcani e Caucaso Transeuropa, 24 September 2019, .",
          "the aim of the new law is to remove shortcomings of the legislation as arising from the greco recommendations .",
          "\"While Andersen initially resisted calls to resign, she did so later in March.",
          "annex i: list of sources in alphabetical order.",
          "centre for media pluralism and media freedom (2020), 2020 media pluralism monitor.",
          "annex ii: country visit to ireland",
          "\"The directive was billed as an effort to reduce corporate tax avoidance within the EU.",
          "transparency international (2017), speak up report.",
          "\"Nominet, a nonprofit company operating in the public interest, manages access to the .uk, .wales, and .cymru country domains.",
          "\"The bill came up after the European Court of Justice (ECJ) ruled in a theft case where the investigating authority had access to case data, which the ECJ found incompatible with EU law.",
          "\"The campaign intensified in late July after TVSA aired a feature film that allegedly misinterpreted the country’s wartime events.",
          "a member can only be suspended or dismissed due to incompetence, unsuitability for the position fulfilled or due to other compelling reasons related to the person concerned.",
          "slovakia scored 50/100 over the past three years in a row in transparency international’s corruption perception index, ranking 16th in the european union and 59th globally .",
          "minister for legal protection sander dekker (2020), answer to questions of the member of the house of representatives groothuizen about algorithmic analysis of judgments.",
          "this raises questions about the need to register donations and their control.",
          "\"In 2017, just prior to the election, media broke the story that former prime minister Benediktsson sold his shares in Glitnir Bank just hours before the financial crash of 2008.",
          "\"The EC pointed to public authorities who have prematurely or falsely made references to guilt, and the lack of appropriate measures available in those instances.",
          "\"While the country succeeded in securing a formal invitation to join NATO, the second promise offered to citizens regarding the name change—starting accession talks with the European Union—was blocked at the EU Council in October.",
          "\"Officials also made efforts to advance a stalled drive to streamline the operations of government ministries.",
          "\"The regime relies on abuse of state resources, corrupt patronage networks, and control over the security forces and criminal justice system to maintain its political dominance.",
          "* the commission also met the following organisations in a number of horizontal meetings:",
          "additionally, the programming law for justice 2018-2022 seeks to further digitalise legal procedures, and a process is ongoing to facilitate the online submission of requests for legal aid.",
          "\"In 2018, Prime Minister Jakobsdóttir commissioned a report to garner recommendations for improving public confidence in the government.",
          "state commission on the parliamentary system in the netherlands (2018), democracy and the rule of law in equilibrium – final report of the state commission on the parliamentary system in the netherlands.",
          "– final report of the disposition times in movement project.",
          "minister for justice and security ferdinand grapperhaus and minister for legal protection stander dekker (2020), answer to questions of the members of the house of representatives buitenweg and van den berge on criminal justice during times of covid-19.",
          "civicus monitor – tracking civic space: slovakia.",
          "\"Transparency International’s Hungarian chapter has reported that a number of companies with close ties to the government are supported primarily by public funds.",
          "\"On a scale of 1 to 10, half of those surveyed gave marks in the range of 1 to 3 on the question of whether the Council acts upon proposals from organizations that are not already part of the Council.",
          "irish times (2018), regional newspapers reject claims about government ‘advertorials’.",
          "civicus, monitor tracking civic space: the netherlands.",
          "ministry of justice (2020), breaches of integrity: statistical elements.",
          "\"Kjurchievska, Liljana, “Lawmakers adopt draft law on amnesty over 27 April 2017 incidents in Parliament”, MIA, 18 December 2018, .",
          "irish law society (2018), contribution to the review of the administration of civil justice of february 2018. .",
          "tax justice network (2020), 2020 financial secrecy index.",
          "magistrates union (2020), automatic extension of provisional detentions: after the scandal and the mess, nonchalance!",
          "\"For example, the municipality of Bileća is in the red to the tune of 15 million BAM ($8.8 million) and faces bankruptcy, according to its municipal leadership.",
          "minister for legal protection sander dekker (17 september 2019), letter to the house of representatives about ways in which to create a strong justice system.",
          "\"However, the incorporation of new cities was not driven by population or economic growth but, rather, came as a result of lax laws defining any area of “cultural and historical importance” as a city.",
          "a whole-of-government approach to regulatory policy making was established in the better regulation strategy and has helped to strengthen the methodological basis for assessing the economic impact of regulation.",
          "\"The situation is particularly desperate in the RS the entity government’s decision to support 19 of the poorest municipalities with €500 each is illustrative of the poverty in BiH’s more remote areas as well as authorities’ inability to deal with it.",
          "members of the house of representatives maarten groothuizen and michiel van nispen (2019), motion about potential vulnerabilities in the law on judicial organization.",
          "courts service, long-term strategic vision to 2030: supporting access to justice in a modern, digital ireland.",
          "minister for justice and security ferdinand grapperhaus (2020), answer to the question of the member of the house of representatives groothuizen about the report that the ministry of justice is failing businesses in corruption cases.",
          "european parliament resolution of 28 march 2019 on the situation of the rule of law and the fight against corruption in the eu, specifically in malta and slovakia.",
          "\"Massive “brain drain” persisted in BiH, although the number of emigrants in 2019 was hard to estimate.",
          "\"The establishment of the community remained at an impasse at the end of 2020.",
          "this concerns state employees, including ministers, secretaries of state and heads of central state administration bodies.",
          "\"The government’s popularity suffered an additional hit in the fall when electricity prices rose to record highs following the insufficient capacity to generate electricity in the NordPool energy market.",
          "\"Another estimate, published by the World Bank in its Migration and Brain Drain report, showed that as many as 49.5 percent of BiH citizens now live abroad.",
          "* the list of contributions received in the context of the consultation for the 2020 rule of law report can be found at (com website).",
          "* the commission also met the following organisations in a number of horizontal meetings:",
          "minister for justice and security ferdinand grapperhaus and minister for legal protection stander dekker (2020), letter to the house of representatives on contours of the approach to address backlogs in criminal justice.",
          ",",
          "official gazette of the kingdom of the netherlands (2019), decree of 28 november 2019, amending the decree on police data concerning theme-processing to combat official bribery and amending the decree on police data for special investigative forces concerning theme-processing to combat human trafficking.",
          "\"Some former KLA members have been convicted by other courts.",
          "\"According to the National Audit Office, this money was distributed without assessing the varying local effects of the crisis, and portions intended for economic recovery were delayed.",
          "the investigation and monitoring of ethics compliance faces some legislative and structural obstacles.",
          "european network of national human rights institutions – ennrhi (2020), the rule of law in the european union.",
          "the commission services held virtual meetings in june 2020 with:",
          "\"Among mobile service providers, EE (owned by BT since 2016) leads the market with 29 percent of subscribers, followed by O2 (27 percent), Vodafone (19 percent), Three (11 percent), and Tesco (8.5 percent).",
          "centre for media pluralism and media freedom (2020), 2020 media pluralism monitor.",
          "* the commission also met the following organisations in a number of horizontal meetings:",
          "annex i: list of sources in alphabetical order.",
          "reporters without borders, slovakia.",
          "ministry of justice and security, integral assessment framework for policy and regulation.",
          "european parliament research service, better regulation practices in national parliaments.",
          "\"The content can still be accessed on private computers.",
          "the legal framework remains the same.",
          "\"Two high-profile corruption cases involving former prime ministers reached the legally prescribed statute of limitations during the year, further contributing to the image of political impunity in the country: The trials against former PM Gruevski (VMRO–DPMNE, 2006–16), in the SJO case “Trajectory,” and former PM Vlado Buchkovski (SDSM, 2004–06), accused of illegal procurement while serving as Minister of Defense in 2001, ended without court decisions in October  and November,  respectively.",
          "this issue has also been highlighted by greco, which recommends the provision of appropriate guidance on conflicts of interest and integrity-related matters and that persons entrusted with top executive functions declare on an ad hoc basis any conflicts between private interests and official functions, as well as making their financial interests public on a regular basis.",
          "\"After Pashinyan took office as prime minister in May, law enforcement agencies initiated a number of high-profile corruption investigations, with targets including Yerevan mayor Taron Margaryan; parliament member Manvel Grigoryan and his son, Ejmiatsin mayor Karen Grigoryan; and Sargsyan’s brother and nephew.",
          "annex ii: country visit to france",
          "\"In a 2017 progress report, GRECO notes that eighteen of the twenty recommendations have now been satisfactorily implemented.",
          "the commission services held virtual meetings in may and june 2020 with:",
          "\"In October 2020, the Hoti government abolished the Special Anti-Corruption Taskforce that had operated under the Kosovo Police for more than 10 years and had investigated cases of high-level corruption among senior politicians.",
          "policy briefings of the research service of the parliament include an appraisal of the ex-ante impact assessment prepared by the government.",
          "in the latest corruption perceptions index of transparency international, the netherlands scored 82/100 and was ranked 4th in the european union and 8th globally.",
          "\"Ofcom, “The Communications Market Report 2017,” August 3, 2017 p.147  Ofcom, “Wholesale Local Access Market Review: Statement–Volume 1,” March 28,2018  Ofcom, Consolidated Version of General Conditions of Entitlement (London: Ofcom), December 16, 2013,  Ofcom, “The Communications Market Report 2016,” p.153,",
          "the review group is due to present its findings later in autumn 2020.",
          "\"ISPs are not subject to licensing, but they must comply with general conditions set by Ofcom, such as having a recognized code of practice and being a member of a recognized alternative dispute-resolution scheme.",
          "reporters without borders, ireland.",
          "annex i: list of sources in alphabetical order*",
          "the authority disposes of its own budget and the resources allotted are considered adequate for the accomplishment of its tasks .",
          "\"Relationships between politicians and other oligarchs have also historically influenced policy and contributed to selective application of the law.",
          "annex ii: country visit to the netherlands",
          "france scores 69/100 on the latest transparency corruption perception index, ranking 9th in the european union and 23rd globally .",
          "high authority for the transparency of public life – hatvp, public registry .",
          "\"To alleviate the pandemic-related pressures on local governments, municipalities were allocated nearly €182 million in 2020 and 2021 as crisis support.",
          "legal aid is financed mainly through public funds, and around 38% of citizens would qualify for legal aid.",
          "irish human rights and equality commission (2019), ireland and the convention on the elimination of racial discrimination, submission to the united nations committee on the elimination of racial discrimination on ireland’s combined 5th and 6th report, october 2019.",
          "nan",
          "\"An issue plaguing many local governments is a surplus of public employees, which requires a large percentage of municipal and city budgets to be spent on wages.",
          "annex: list of sources in alphabetical order*",
          "\"According to the US State Department’s 2020 Trafficking in Persons Report, migrants from Eastern Europe, Africa, and Asia are targeted for sex trafficking and forced labor.",
          "\"This situation has left some municipalities struggling with debt.",
          "whilst the final report has already been delivered, an additional research report is due to be published in september.",
          "\"A report by the NIK found that in many, especially rural, parts of Poland, gynecologists are rare.",
          "there is a strong integrity culture in the public administration.",
          "the political cycle has a high impact on staff turnover .",
          "greco has welcomed these proposed constitutional changes.",
          "civicus, monitor tracking civic space: ireland.",
          "\"Advocacy organizations said that the changes often reduced the country’s standards to the minimum allowed by the European Union.",
          "freedom house (2020), freedom in the world 2020.",
          "two such reports have already been produced: one covering the period of 2012-2014 and the other covering 2015-2017 .",
          "steering group disposition times (2019), disposition times in movement!",
          "\"In July, the government approved a law to outlaw tax evasion, making this practice punishable by prison sentences of between three months and three years.",
          "annex ii: country visit to slovakia",
          "* the list of contributions received in the context of the consultation for the 2020 rule of law report can be found at (com website).",
          "\"Andorra continued to make efforts to address longstanding concerns about abuse of its banking system in 2017.",
          "* the commission also met the following organisations in a number of horizontal meetings:",
          "council of the bar of ireland (2019), submission to the joint committee on justice and equality on access to justice and legal costs of 25 november 2019.",
          "dutch bar association, dutch association for the judiciary, social work netherlands, federation on shelter, ribw alliance (2019), stand up for the rule of law!",
          "* the list of contributions received in the context of the consultation for the 2020 rule of law report can be found at (com website).",
          "\"Problems in the quality of local democratic governance are perhaps best illustrated by the case of Ohrid, which risked being reclassified by UNESCO as an “endangered” heritage site in 2019.",
          "house for whistleblowers (2019), annual report 2019 house for whistleblowers.",
          "\"Some evaluations, like that of the Union for Sustainable Return and Integration, showed that approximately 30,000 people left the country during the first half of the year, mostly for Western Europe.",
          "the commission services held virtual meetings in may and june 2020 with:",
          "european commission, report from the commission to the european parliament and the council assessing the extent to which the member states have taken the necessary measures in order to comply with council framework decision 2003/568/jha of 22 july 2003 on combating corruption in the private sector, com(2019)355 final.",
          "\"It had interviewed Hoti in 2019 as part of an ongoing corruption investigation.",
          "\"Legislation passed in 2012 fully opened up the economy to foreign investors as well, allowing noncitizens to own up to 100 percent of any commercial entity.",
          "\"Mobile virtual network operators including Tesco provide service using the infrastructure owned by one of the other companies.",
          "\"In its 2019 report, the European Commission concluded that the state could improve financial sustainability for these organizations with tax harmonization and more predictable public budgeting.",
          "\"BNS, ERR News, „Jüri Ratas resigns as prime minister following loan scandal“, 13 January 2021,  Sulev Vedler, „Retsidiivne Keskerakond.",
          "this has also been highlighted by greco.",
          "personal injuries commission (2018), second and final report, department of business, enterprise and innovation of ireland, july 2018.",
          "an explanatory note attached to legislative proposals discusses constitutionality, and manuals exist for civil servants in this regard.",
          "\"Years of neglect of the natural and cultural heritage of the city, as well as illegal construction and pollution, had prompted UNESCO to issue a “last warning” and to propose a series of recommendations to be fulfilled with its status reassessed in 2020.",
          "centre for media pluralism and media freedom (2020), 2020 media pluralism monitor.",
          null
         ],
         "marker": {
          "color": "#CFD8DC",
          "opacity": 0.5,
          "size": 5
         },
         "mode": "markers+text",
         "name": "other",
         "showlegend": false,
         "type": "scattergl",
         "x": [
          9.69389533996582,
          7.0075364112854,
          6.667136192321777,
          5.799829483032227,
          4.877871513366699,
          7.315428733825684,
          5.682765960693359,
          8.46265983581543,
          7.662850379943848,
          3.5025055408477783,
          2.2153048515319824,
          6.1805739402771,
          7.8123650550842285,
          7.880849838256836,
          7.085152626037598,
          5.460474014282227,
          5.095210552215576,
          6.2730865478515625,
          4.681760787963867,
          8.002716064453125,
          4.619473934173584,
          7.1529388427734375,
          8.41712760925293,
          7.33054256439209,
          7.550043106079102,
          7.937893867492676,
          7.243118762969971,
          3.8965604305267334,
          8.17474365234375,
          7.18583869934082,
          5.031665325164795,
          5.626482963562012,
          6.121738910675049,
          7.605522155761719,
          6.1365814208984375,
          8.184717178344727,
          7.2073283195495605,
          7.805504322052002,
          2.206904411315918,
          7.935750961303711,
          6.201082229614258,
          7.9599080085754395,
          3.5262880325317383,
          5.12117338180542,
          7.771727561950684,
          7.6583709716796875,
          9.73518180847168,
          5.358641147613525,
          6.920631408691406,
          7.219610691070557,
          6.164444446563721,
          7.513838291168213,
          6.602206707000732,
          7.856653690338135,
          4.7421345710754395,
          6.388147830963135,
          5.871256351470947,
          7.26584529876709,
          6.216089725494385,
          5.361631393432617,
          8.417000770568848,
          7.944189071655273,
          4.7723917961120605,
          6.777737140655518,
          8.446682929992676,
          7.85536527633667,
          6.877588272094727,
          6.582396030426025,
          5.562932968139648,
          4.701443672180176,
          6.721591949462891,
          5.398955821990967,
          6.5739521980285645,
          7.424232482910156,
          6.659480094909668,
          7.734522819519043,
          6.49169921875,
          7.91030216217041,
          4.808302879333496,
          6.920639514923096,
          6.290352821350098,
          7.395016670227051,
          6.640111446380615,
          6.989877700805664,
          6.161844253540039,
          4.765355587005615,
          5.397407054901123,
          3.865492820739746,
          7.3189191818237305,
          7.558085918426514,
          6.833435535430908,
          8.098910331726074,
          5.857888698577881,
          4.690134525299072,
          3.55686092376709,
          2.204911947250366,
          4.757139205932617,
          7.80626106262207,
          3.106947660446167,
          7.469677448272705,
          6.859138011932373,
          3.4339146614074707,
          8.421626091003418,
          7.9107184410095215,
          8.239377975463867,
          7.944966793060303,
          7.937877178192139,
          8.144916534423828,
          4.677636623382568,
          7.8756184577941895,
          7.257328033447266,
          9.725398063659668,
          3.5585436820983887,
          5.712012767791748,
          3.519400119781494,
          3.1255905628204346,
          7.804531097412109,
          5.70486307144165,
          7.822370529174805,
          7.964089870452881,
          9.724026679992676,
          7.924712657928467,
          6.684347629547119,
          9.691360473632812,
          6.441720962524414,
          3.929258108139038,
          6.671840667724609,
          7.806236267089844,
          5.875196933746338,
          6.683418273925781,
          5.8049750328063965,
          7.472402572631836,
          8.031065940856934,
          7.275373458862305,
          8.131571769714355,
          8.432299613952637,
          6.434361457824707,
          2.1971192359924316,
          5.829035758972168,
          5.3129987716674805,
          7.101722240447998,
          7.9499382972717285,
          6.125539302825928,
          8.164570808410645,
          4.71622371673584,
          6.432967185974121,
          7.318052768707275,
          6.120576858520508,
          6.155211448669434,
          5.963681697845459,
          6.9715895652771,
          4.6910552978515625,
          5.131500244140625,
          7.864701747894287,
          6.860641002655029,
          3.537914276123047,
          6.111532688140869,
          7.271903038024902,
          8.186688423156738,
          6.869758129119873,
          6.87383508682251,
          6.142653465270996,
          2.2071733474731445,
          6.492600917816162
         ],
         "y": [
          5.373631000518799,
          5.136637210845947,
          6.621209144592285,
          3.873384475708008,
          3.0374062061309814,
          3.230440616607666,
          5.019683837890625,
          5.795731067657471,
          5.206459045410156,
          4.488796234130859,
          3.835453748703003,
          6.188708782196045,
          3.7826344966888428,
          7.29835844039917,
          7.3573198318481445,
          2.1317617893218994,
          4.2362961769104,
          4.556347370147705,
          4.737819671630859,
          5.058274269104004,
          3.10210919380188,
          7.4374823570251465,
          1.8088053464889526,
          5.946218967437744,
          4.678682327270508,
          4.359403133392334,
          5.813570976257324,
          4.232407093048096,
          6.1463141441345215,
          7.3783650398254395,
          2.9949142932891846,
          2.8694329261779785,
          3.227695941925049,
          7.770803451538086,
          6.234604835510254,
          4.041262626647949,
          6.160487651824951,
          0.48167794942855835,
          3.8396406173706055,
          2.4263672828674316,
          4.4997029304504395,
          4.333502769470215,
          4.351879119873047,
          1.3274760246276855,
          6.6640305519104,
          5.383950710296631,
          5.369633674621582,
          2.997687339782715,
          5.756136417388916,
          7.511181831359863,
          5.759058952331543,
          9.496153831481934,
          5.202864170074463,
          7.226814270019531,
          4.812328815460205,
          2.9542236328125,
          4.297743320465088,
          3.1662776470184326,
          3.4412059783935547,
          2.9950923919677734,
          1.7901450395584106,
          4.435666561126709,
          4.824406147003174,
          2.5092220306396484,
          1.7610046863555908,
          5.223917007446289,
          4.592528343200684,
          2.5310068130493164,
          2.4995546340942383,
          3.1413352489471436,
          6.781036376953125,
          3.065948724746704,
          6.523824691772461,
          4.456826210021973,
          6.63323974609375,
          5.351934909820557,
          2.61920166015625,
          6.053897857666016,
          3.32389497756958,
          5.549417972564697,
          5.201809406280518,
          5.13886022567749,
          6.6509318351745605,
          5.572976589202881,
          3.2004640102386475,
          4.838068008422852,
          3.0569844245910645,
          4.255107402801514,
          3.1556084156036377,
          8.510682106018066,
          6.022626876831055,
          5.0406622886657715,
          2.17189621925354,
          4.761036396026611,
          4.46896505355835,
          3.8404242992401123,
          4.8318047523498535,
          0.48055264353752136,
          3.108276844024658,
          4.522831439971924,
          4.120395183563232,
          4.444628715515137,
          5.6917219161987305,
          6.112980365753174,
          4.944266319274902,
          6.326566219329834,
          2.4225752353668213,
          3.862426280975342,
          4.736355304718018,
          6.885000228881836,
          4.412821292877197,
          5.370792865753174,
          4.427525043487549,
          4.191816329956055,
          4.472464561462402,
          3.0863513946533203,
          0.48157423734664917,
          4.991293907165527,
          7.213447570800781,
          2.4144625663757324,
          5.374292850494385,
          4.42038106918335,
          6.6495184898376465,
          6.218478202819824,
          2.3041632175445557,
          4.204059600830078,
          6.619451522827148,
          0.4834402799606323,
          2.11006498336792,
          6.660905361175537,
          4.110239505767822,
          6.859542369842529,
          5.230695724487305,
          5.422638416290283,
          3.9588019847869873,
          1.7856839895248413,
          4.553735256195068,
          3.8522467613220215,
          4.142035007476807,
          4.395930290222168,
          5.333160877227783,
          2.385455846786499,
          3.2201120853424072,
          6.229579925537109,
          4.788012504577637,
          2.5310161113739014,
          3.2112960815429688,
          3.2222230434417725,
          6.194545745849609,
          3.727848768234253,
          5.563504695892334,
          4.746720314025879,
          3.1527762413024902,
          6.844922065734863,
          5.770552158355713,
          4.50113582611084,
          4.459212303161621,
          7.667797088623047,
          3.9349048137664795,
          2.4095633029937744,
          4.402493953704834,
          6.206738471984863,
          3.8405356407165527,
          4.553815841674805
         ]
        },
        {
         "hoverinfo": "text",
         "hovertext": [
          "\"Meanwhile, Serbs living in Kosovo do not benefit from Serbia’s visa waiver agreement with the EU, making travel with a Serbian passport relatively difficult for those living in the enclaves.",
          "\"Blazevska, Katerina, “How Pendarovski Got Second Shot at North Macedonia Presidency”, Balkan Insight, 5 March 2019, .",
          "\"Stojanchova, Pelagija, “Малку персонал и пари, многу предмети за корупција” [“Little staff and money, a lot of corruption cases”], 23 July 2019, Radio Slobodna Evropa, .",
          "\"Kosovars have also been hindered from traveling to Bosnia and Herzegovina by the need for visas in recent years.",
          "\"Cyril and Methodius University, Skopje.",
          "\"Oligarch Alisher Usmanov sued, claiming that Navalny’s charge that he had given Medvedev a $50 million mansion as a gift was not true.",
          "\"Author: Jovan Bliznakovski is an assistant in political science at the Institute for Sociological, Political, and Juridical Research (ISPJR), Ss.",
          "\"Thaçi resigned from his position and the four were being held in detention in The Hague at year’s end.",
          "\"He produces and cohosts Sarajevo Calling, a bi-weekly podcast on current and past sociopolitical events in countries of the Western Balkans.",
          "\"Sirachevski, Gavril, “АНТИКОРУПЦИОНЕРИТЕ ЌЕ ГО ИСПИТУВААТ СКАНДАЛОТ СО НАВОДНОТО МЕСТЕЊЕ ТЕНДЕР ОД РАШКОВСКИ - ЗАЕВ И ДЕНЕСКА ВО ОДБРАНА” [“The anti-corruptioners will investigate the scandal with the fixed tender by Rashkovski – Zaev today in defense”], TV24, 4 July 2019, .",
          "\"Chalovski, Vlatko, “Политичкиот пазар во Собрание го кочи функционирањето на неколку државни институции” [“The political bargaining in the Assembly blocks the functioning of several state institutions”], Investigative Reporting Lab Macedonia, 17 October 2019, .",
          "\"Jakov Marusic, Sinisa, “North Macedonia Opposition Backs ‘Non-Partisan’ Professor for President”, Balkan Insight, 27 February 2019, .",
          "\"Ajla Obradović, “Consequences of one year of deadlock in BiH” (“Posljedice godine dana zastoja u BiH”), Radio Free Europe, October 7, 2019,  \"\"Bakir Izetbegović: no naming of PM candidate without the ANP\"\" (\"\"Bakir Izetbegović: Nema imenovanja mandatara bez ANP-a\"\"), Anadolija Agency, August 18, 2019,  “Bosnian Parliament Breaks 14-Month Impasse, OKs Government,” Radio Free Europe/Radio Liberty, 23 December 2019,  Anđelka Marković, \"\"The RS reserve police force: why, how much...\"\" (\"\"Rezervni sastav policije RS: Zbog čega, koliko...\"\"), N1, April 4, 2019,  Dalio Sijah, “What comes next after the Interior Ministry of the RS gave up on forming its reserve unit?\"\"",
          "\"Jakov Marusic, Sinisa, “North Macedonia Woos Opposition to Prolong Special Prosecution”, Balkan Insight, 11 March 2019, .",
          "\"Ognenovska, Simona and Jasmina Chaushoska, “Извештај за овозможувачка околина за развој на граѓанското општество за 2018 година” [“Report on the enabling environment for the development of the civil society in 2018”], Macedonian Center for International Cooperation (MCIC), 2019, p. 44, .",
          "\"Jakov Marusic, Sinisa, “North Macedonia Journalist ‘Denied Chance’ to Prove Innocence”, Balkan Insight, 3 September 2019, .",
          "\"Jakov Marusic, Sinisa, “President Ivanov Refuses to Use New Macedonia Name”, Balkan Insight, 12 March 2019, .",
          "\"Jakov Marusic, Sinisa, “North Macedonia’s Zaev Condemned for Calling Detainee ‘Faggot’”, Balkan Insight, 14 August 2019, .",
          "\"At BHRT (National Radio–Television of Bosnia and Herzegovina) he served as Head of New Media; at Analiziraj, he was Senior Contributor on media ethics, as well as disinformation debunking and fact-checking.",
          "\"Approximately 1.5 million buildings in Serbia are not registered.",
          "\"Chalovski, Vlatko, ”ДКСК го затвори предметот за Мицкоски – побара од Заев да испитува судир на интереси кај Анѓушев” [‘DKSK closed the case on Mickovskia – and requested from Zaev to investigate conflict of interest with Angjushev”], Investigative Reporting Lab Macedonia, 15 November 2019, .",
          "\"People who contracted COVID-19 in northern Kosovo were initially provided medical treatment by the Serbian government.",
          "\"In November 2016, Putin withdrew Russia from the International Criminal Court (ICC) after the body issued a report of preliminary findings calling the fighting in Crimea and eastern Ukraine an “international armed conflict” between Ukraine and Russia.",
          "\"Public trust in North Macedonia’s main representative body also remained low.",
          "\"In November 2020, a number of former Kosovo Liberation Army (KLA) members—including former president Thaçi, leader of the PDK Kadri Veseli, former head of Parliament Jakup Krasniqi, and member of Parliament Rexhep Selimi—were charged with war crimes by the Kosovo Specialist Chambers (KSC), a tribunal in The Hague investigating war crimes committed during Kosovo’s 1998–99 war for independence.",
          "\"Brezar won the Poynter Institute’s inaugural Balkan Factchecking Award (2017), the Europa Nostra Award and Grand Prix for Preservation of Cultural Heritage (2016), the Jules Chametzky Literary Translation Award (2016), and received a Pushcart Prize nomination (2015).",
          "\"Jakov Marusic, Sinisa, “North Macedonia Capital Hosts First Pride Parade”, Balkan Insight, 29 June 2019, .",
          "\"Jakov Marusic, Sinisa, “North Macedonia Govt Announces New Anti-Corruption Team”, Balkan Insight, 13 August 2019, .",
          "\"Jakov Marusic, Sinisa, “North Macedonia Checks Prosecutor in Extortion Case”, Balkan Insight, 16 July 2019, ; “Court orders a 30 day detention and Katica Janeva was taken to the prison in Shutka”, Meta, 22 August 2019, .",
          "\"Avdo Avdić, “HJPC president caught in corruption: Milan Tegeltija traded criminal proceedings” (“PREDSJEDNIK VSTV-A UHVAĆEN U KORUPCIJI: Milan Tegeltija trgovao krivičnim istragama!”), Žurnal, May 21, 2019,  \"\"Video allegedly shows Bosnia’s top judicial official being bribed, he denies it\"\", N1 Sarajevo English,   Amer Jahić, \"\"Disciplinary commision rejected complaint against Milan Tegeltija on appeal\"\" (\"\"Drugostepena disciplinska komisija potvrdila odbacivanje tužbe protiv Milana Tegeltije\"\"), Voice of America, June 14, 2019,  Mladen Lakić, “Bosnian Serb Leaders’ Declaration Defies Court’s ‘Statehood Day’ Ban, Balkan Insight, April 2, 2019,  Goran Lajić, “Death Penalty abolished in the Republika Srpska” (“Ukinuta smrtna kazna u Republici Srpskoj”), Nezavisne novine, October 4, 2019,  “Godišnji izvještaj o rezultatima aktivnosti institucije Ombudsmena za ljudska prava BiH za 2018. godinu [Annual Report on the Results of Activities of the Ombudsman Institution for Human Rights of BiH for 2018],” Ombudsman Institution for Human Rights of BiH, pages 74-75, March 2019,  “MP BiH: Prvi zatvorenici u državnom zatvoru sredinom 2020 godine?” (“Ministry of Justice of BiH: First Prisoners in State Prison by Mid-2020?”), N1, August 6, 2019,  Mladen Lakić, Albina Sorguč, “European Court tells Bosnia to Remove Illegal Church”, Balkan Insight, October 1, 2019,",
          "\"Zafeiropoulos, Kostas, “Alexander the Bot: The Twitter War for the Macedonian Soul”, Balkan Insight, 18 December 2019, ; Woolley, Samuel and Katie Josef, “Demand for Deceit: How the Way We Think Drives Disinformation”, National Endowment for Democracy, 8 January 2020, pp.",
          "\"Danilovska, Dance and Nada Naumovska, “Proposals for the improvement of the current state, Openness of the local self-government institutions in the region and in the Republic of North Macedonia”, Metamorphosis Foundation for Internet and Society and ACTION SEE, July 2019, p. 4, .",
          "\"The irregular 2016 demolition of a number of homes and businesses in Belgrade’s Savamala district was aimed at clearing the way for a government-backed private development project.",
          "\"The mandates of Kosovo’s four main anticorruption bodies overlap, and they have difficulty coordinating their efforts.",
          "\"He has also contributed to the Guardian, Washington Post, PBS, and Al Jazeera English.",
          "\"Pajaziti, Naser, “Vetting of Judges and Prosecutors in North Macedonia”, Independent Balkan News Agency, 25 November 2019, .",
          "\"Author: Aleksandar Brezar is Southeast Europe/Western Balkans Network Lead for The Democratic Society, a UK/Brussels-based non-profit organization working for greater participation and dialogue in democracy in Europe and elsewhere.",
          "\"See: “North Macedonia 2019 Report”, European Commission SWD(2019) 218 final, 29 May 2019, p. 11, .",
          "\"The state reclaimed phytosanitary control over the Bulgarian-Turkish border in May, for example (though a court later overturned the move); the previous lax controls had been criticized for allowing agricultural products with unacceptable levels of pesticides into the country, and allegedly had led to an increase in drug smuggling.",
          "\"In 2014–16, he served as program director of the Institute for Democracy “Societas Civilis” Skopje (IDSCS), the leading Macedonian policy think tank.",
          "\"In the past, he has worked as Brussels correspondent for Balkan Insight, while also serving as a regular contributor for BiH on topics ranging from NATO and EU integrations to war crimes processes and peace-building efforts.",
          "\"Buhovski, Anita, “ИЗГЛАСАН ЗАКОНОТ ЗА АНТИДИСКРИМИНАЦИЈА” [The law on anti-discrimination is adopted”], TV24, 11 May 2019, .",
          "\"While anti-LGBT+ violence has been significantly underreported in Bulgaria, and largely goes unaddressed by authorities, there were no registered homophobia-motivated hate crimes in Bulgaria in 2022, and LGBT+ groups note some slowly increasing tolerance toward LGBT+ people.",
          "\"Fotinovska, Ruzhica, “ДИРЕКТОРОТ НА ДИРЕКЦИЈАТА ЗА ЗАШТИТА НА ЛИЧНИТЕ ПОДАТОЦИ ГОРАН ТРАЈКОВСКИ ПОДНЕСЕ ОСТАВКА” [“The Director of the Directorate for Personal Data Protection submitted a resignation”], TV 24, 20 May 2019, ; “Избор на директор и заменик директор на Дирекцијата за заштита на личните податоци” [“Appointment of a director and substitute-director in the Directorate for Personal Data Protection”], Directorate for Personal Data Protection, 30 December 2019, .",
          "\"In December 2018, investigative reporter Milan Jovanović, who has reported extensively on corruption, was the victim of an arson attack in which unknown assailants threw a Molotov cocktail into his home.",
          "\"Jakov Marusic, Sinisa, “NATO Signs Accession Protocol With Macedonia”, Balkan Insight, 6 February 2019, .",
          "\"He holds a PhD in political science from the University of Milan, Italy.",
          "\"Recica, Vlora, Aleksandra Jovevska Gjorgjevikj and Sara Janeska, “Резултати од теренската анкета за перцепциите на граѓаните за работата на Собранието (12-26 мај 2019)” [“Results from the field survey on the perceptions of citizens on the work of the Assembly (12-26 May 2019)”], Institute for Democracy “Societas Civilis” (IDSCS), p. 14, .",
          "\"The major event of 2019 took place in January, when Parliament adopted constitutional amendments stipulated in the agreement with Greece, and thus changed the name of the country from “Republic of Macedonia” to “Republic of North Macedonia.”  This achievement prompted the opening of the NATO accession process in early February.",
          "\"Jakov Marusic, Sinisa, “North Macedonia Court Jails Parliament Attackers”, Balkan Insight, 15 March 2019, .",
          "\"Why Bosnia had a Dilemma”, Balkan Insight, October 16, 2019,  “Bileća Municipal Assembly holds session after six months” (“Skupština Opštine Bileća zasjedala nakon šest mjeseci”, ATV Banja Luka, September 27, 2019,  Milorad Milojević, “The Republika Srpska has money for airplanes, but not for poor municipalities”, (“Republika Srpska ima novac za avione, ali ne i za siromašne opštine”), November 19, 2019,",
          "\"Jakov Marusic, Sinisa, “Blerim Reka – Underdog in North Macedonia’s Presidential Race”, Balkan Insight, 26 March 2019, .",
          "\"Dimeska, Frosina, “Осуденици и обвинети бегаат од државата, одговорност нема” [“Convicts and suspects flee from the country, there is no responsibility”], Radio Slobodna Evropa, 30 October 2019, .",
          "\"Ognenovska, Simona and Jasmina Chaushoska, “Извештај за овозможувачка околина за развој на граѓанското општество за 2018 година” [“Report on the enabling environment for the development of the civil society in 2018”], Macedonian Center for International Cooperation (MCIC), 2019, p. 9, .",
          "\"Jakov Marusic, Sinisa, “New North Macedonia Probe Grills Top Government Official”, Balkan Insight, 10 October 2019, .",
          null
         ],
         "marker": {
          "opacity": 0.5,
          "size": 5
         },
         "mode": "markers+text",
         "name": "0_balkan insight_macedonia_balkan",
         "text": [
          "",
          "",
          "",
          "",
          "",
          "",
          "",
          "",
          "",
          "",
          "",
          "",
          "",
          "",
          "",
          "",
          "",
          "",
          "",
          "",
          "",
          "",
          "",
          "",
          "",
          "",
          "",
          "",
          "",
          "",
          "",
          "",
          "",
          "",
          "",
          "",
          "",
          "",
          "",
          "",
          "",
          "",
          "",
          "",
          "",
          "",
          "",
          "",
          "",
          "",
          "",
          "",
          "",
          "",
          "",
          "0_balkan insight_macedonia_balkan"
         ],
         "textfont": {
          "size": 12
         },
         "type": "scattergl",
         "x": [
          7.074214458465576,
          7.572432994842529,
          7.135407447814941,
          7.071556091308594,
          7.376577377319336,
          7.307504177093506,
          6.811697006225586,
          7.589197635650635,
          7.007789611816406,
          7.250626087188721,
          7.445187091827393,
          7.58736515045166,
          7.051076412200928,
          7.677394866943359,
          6.950230598449707,
          7.671926975250244,
          7.6701555252075195,
          7.794613838195801,
          6.9300761222839355,
          6.909629821777344,
          7.353808403015137,
          7.083298683166504,
          7.5187835693359375,
          7.432764530181885,
          7.583039283752441,
          7.243682384490967,
          7.431318759918213,
          7.5795512199401855,
          7.685858726501465,
          7.396810531616211,
          7.702353477478027,
          7.258941650390625,
          6.854978084564209,
          7.156051158905029,
          6.90772819519043,
          7.66513729095459,
          7.025437831878662,
          7.36895751953125,
          7.666566848754883,
          7.342716217041016,
          6.979650020599365,
          6.879084587097168,
          7.742829322814941,
          7.150256633758545,
          7.332911968231201,
          7.454656600952148,
          7.2039594650268555,
          6.901793003082275,
          7.534036636352539,
          7.624106407165527,
          7.008522033691406,
          7.58609676361084,
          7.2447733879089355,
          6.946076393127441,
          7.467970371246338,
          7.3127121925354
         ],
         "y": [
          8.734702110290527,
          9.080129623413086,
          8.305689811706543,
          8.69381332397461,
          9.092488288879395,
          8.138731002807617,
          8.463066101074219,
          8.411552429199219,
          9.289190292358398,
          8.094267845153809,
          8.628327369689941,
          9.08896541595459,
          8.412755966186523,
          8.940314292907715,
          8.465214729309082,
          8.977008819580078,
          9.097537994384766,
          9.024456977844238,
          9.318632125854492,
          8.5383882522583,
          8.354249000549316,
          8.739753723144531,
          8.507572174072266,
          9.023707389831543,
          8.53117847442627,
          9.287991523742676,
          9.21135139465332,
          9.007719993591309,
          8.759235382080078,
          8.549225807189941,
          9.086029052734375,
          8.917078971862793,
          8.41842269897461,
          8.817399978637695,
          9.347098350524902,
          8.91006851196289,
          9.315025329589844,
          9.090381622314453,
          8.818070411682129,
          9.108353614807129,
          9.32987117767334,
          8.466148376464844,
          9.144883155822754,
          8.309144020080566,
          8.268819808959961,
          9.246210098266602,
          9.197246551513672,
          8.47252082824707,
          9.308258056640625,
          8.91384506225586,
          8.547739028930664,
          9.129735946655273,
          8.212903022766113,
          8.518171310424805,
          9.18091106414795,
          8.815299987792969
         ]
        },
        {
         "hoverinfo": "text",
         "hovertext": [
          "the legal and institutional framework to fight corruption is in place and there are several initiatives underway to further strengthen the framework to detect, investigate and prosecute corruption, in particular in relation to the financial sector.",
          "\"Fisheries minister Kristján Þór Júlíusson is closely affiliated with Samherji, an Icelandic fishing company that was implicated in a scheme to bribe Namibian officials in November 2019.",
          "\"Adherence to some mitigation measures, like the use of face masks, is reportedly inconsistent in prisons.",
          "this is a good practice, particularly given that stakeholders indicate that the process of decentralisation should be carefully assessed in light of possible risks of corruption.",
          "all forms of active, passive, direct and indirect corruption are criminalised.",
          "the government announced in its programme adopted in june 2020 to tackle corruption and follow-up the review and increase the effectiveness of anticorruption measures.",
          "\"Corruption related to state contracts remains a concern; a number of former officials, including former cabinet ministers, were charged or found guilty during 2017 for contract-related bribery schemes.",
          "in relation to the overall resources dedicated to fighting corruption, the anti-corruption unit within gnecb is currently operating at limited capacity, with only three out of six positions filled .",
          "transparency international, 2019 corruption perception index.",
          "it also includes extensions to the presumptions of corruption, which had been included in the prevention of corruption amendment act 2001.",
          "\"However, since the PiS-appointed chair of NIK took office in 2019, he has been investigated for possible irregularities in his property declarations and links to a criminal group.",
          "\"Multiple corruption scandals involving government officials were exposed during the Hoti government.",
          "\"In December 2019, polling firm Maskína found that 72 percent of Icelanders viewed their country’s political system as corrupt.",
          "transparency international ireland (2019), submission to the department of justice and equality review group consultation on anti-fraud and anti-corruption structures and procedures.",
          "the special prosecution office has raised concerns about its resources.",
          "the review group will also look at possible ways to encourage the alternative methods of dispute resolution, which could improve the incentives to use alternative dispute resolution methods for which ireland currently performs very low .",
          "prevention of corruption and promotion of integrity measures are in place.",
          "in particular the capacity to find the first indications of corruption is hampered by the lack of resources and specific expertise .",
          "\"In 2017, a network of international media outlets exposed a $2.9 billion slush fund that was held within United Kingdom-registered shell companies and linked to the Azerbaijani ruling elite, including the Aliyev family.",
          "the unit proactively seeks out cases and gathers bribery and corruption related intelligence.",
          "law enforcement authorities enjoy a good level of trust with regard to the fight against corruption.",
          "the national financial prosecutor is competent for the investigation of high level corruption cases.",
          "in december 2019, the office of the government introduced a dedicated software tool to increase the effectiveness of corruption risk management.",
          "the fight against corruption has been identified as one of the key priorities in the political programme of the new government, which announced a range of reforms in this area.",
          "\"Although the number of arrests and prosecutions for corruption has risen in recent years, high-profile convictions are very rare.",
          "corruption investigations conducted by the gnecb are supported by relevant national operational units, such as the financial intelligence unit and, regarding the seizure of assets deemed to be the proceeds of crime, the criminal assets bureau, which is an independent multi-agency body.",
          "the legal framework for fighting corruption is largely in place.",
          "\"Armenia does not have effective safeguards against corruption.",
          "\"Cronyism, a problem under all previous Polish governments, is widespread under PiS, as it has altered, lowered, or removed many criteria for staffing of public institutions, allowing for appointments based on party loyalty and personal connections.",
          "the anti-corruption unit acts as a centre of excellence for the investigation, prevention and disruption of bribery and corruption, and in this regard the unit provides assistance to other national and local units, when required.",
          "\"Corruption is pervasive.",
          "the competences and responsibilities for the development and implementation of anti-corruption policies as well as for preventing, detecting, investigating and prosecuting corruption are shared between several authorities in ireland.",
          "\"Official corruption remains a problem in Greece, and institutions tasked with combating it lack the resources to operate effectively.",
          "bribery offences are criminalised by the criminal code.",
          "its operational scope includes prevention, detection, disruption and investigation of cases of bribery and corruption.",
          "\"Corruption remains a problem in Hungary, and instances of high-level government corruption have not been properly investigated.",
          "\"Influential business figures who fall out of favor with the government, such as Lajos Simicska, who once served as Fidesz party treasurer, have experienced financial and legal pressure.",
          "while the state prosecution increased its efficiency, challenges remain in effectively prosecuting economic and financial crime.",
          "following completion of corruption investigations by an garda síochána, a file is submitted to the office of the director of public prosecutions, unless the investigation was discontinued due to insufficient evidence.",
          "the government announced in its recent programme to tackle corruption as a result of a comprehensive review of the anti-corruption framework and increase the effectiveness of anti-corruption measures.",
          "\"Organized crime is still an issue.",
          "\"The work of the ACA is undermined in part by the ambiguous division of responsibilities among other entities tasked with combating corruption.",
          "authorities involved in the fight against corruption include the anti-corruption agency, high authority for the transparency of public life and the central office for combating corruption and tax offences.",
          "\"In November, Icelandic fishing firm Samherji was implicated in bribery after the release of the so-called “Fishrot Files;” they revealed that Samherji bribed Namibian government officials to secure fishing rights as far back as 2012.",
          "\"Critics have credibly accused President Vučić and the SNS government of having ties to organized crime, and cronyism—in the form of jobs provided to allies of the president and the ruling party—is reportedly common.",
          "\"Samherji CEO Þorsteinn Már Baldvinsson resigned later that month after the files were released by WikiLeaks, but fisheries minister Júlíusson resisted calls to step down after admitting that he spoke to Baldvinsson over the allegations.",
          "a comprehensive review of ireland’s anti-corruption framework is currently under way.",
          "the unit was established to act as organisational lead for the investigation of corruption and bribery.",
          "among other things, the government has increased funding since 2016, leading to an additional annual eur 20 million since 2018 for the prosecution service and the fiscal intelligence and investigation department on corruption and money-laundering.",
          "the fight against corruption has been identified as one of the key priorities in the political programme of the new government, which announced a range of reforms to improve the situation.",
          "in this respect, a 2017 study shows that more could be done to fight corruption and other integrity violations within law enforcement authorities.",
          "its annual plan for 2020 lists corruption as a priority topic and highlights the establishment of a specific project, aiming to strengthen the prevention and detection of corruption by banks.",
          "\"Following the 2017 presidential election, the OSCE reported that the Anti-Corruption Agency (ACA) had decreased the resources dedicated to proactively monitoring campaign funds and did not thoroughly investigate dubious donations.",
          "the national financial prosecutor has established a good record on securing convictions in high-level cases of corruption and embezzlement of public funds.",
          null
         ],
         "marker": {
          "opacity": 0.5,
          "size": 5
         },
         "mode": "markers+text",
         "name": "1_anti corruption_against corruption_corruption and",
         "text": [
          "",
          "",
          "",
          "",
          "",
          "",
          "",
          "",
          "",
          "",
          "",
          "",
          "",
          "",
          "",
          "",
          "",
          "",
          "",
          "",
          "",
          "",
          "",
          "",
          "",
          "",
          "",
          "",
          "",
          "",
          "",
          "",
          "",
          "",
          "",
          "",
          "",
          "",
          "",
          "",
          "",
          "",
          "",
          "",
          "",
          "",
          "",
          "",
          "",
          "",
          "",
          "",
          "",
          "",
          "1_anti corruption_against corruption_corruption and"
         ],
         "textfont": {
          "size": 12
         },
         "type": "scattergl",
         "x": [
          8.798993110656738,
          7.563559532165527,
          8.677356719970703,
          8.582715034484863,
          8.865541458129883,
          8.621472358703613,
          8.614532470703125,
          9.013381958007812,
          9.567214965820312,
          8.569855690002441,
          7.56606912612915,
          7.843752861022949,
          9.557320594787598,
          9.01533317565918,
          8.361766815185547,
          9.006573677062988,
          8.50054931640625,
          8.623238563537598,
          7.161669731140137,
          9.029885292053223,
          8.72433853149414,
          9.09331226348877,
          8.72556209564209,
          8.713785171508789,
          8.832862854003906,
          9.066163063049316,
          8.656584739685059,
          8.51427936553955,
          7.532364368438721,
          8.944955825805664,
          8.72812557220459,
          8.933929443359375,
          8.427238464355469,
          8.92093563079834,
          8.841826438903809,
          8.489018440246582,
          7.211967468261719,
          8.799239158630371,
          9.085267066955566,
          8.774855613708496,
          8.655261993408203,
          8.331202507019043,
          8.793002128601074,
          7.57192850112915,
          7.573231220245361,
          7.529566764831543,
          8.93535041809082,
          9.013420104980469,
          8.507722854614258,
          8.714884757995605,
          8.604610443115234,
          8.676046371459961,
          8.222025871276855,
          8.995534896850586,
          8.568169593811035
         ],
         "y": [
          5.307160377502441,
          7.355019569396973,
          5.997030735015869,
          5.367553234100342,
          5.893007278442383,
          5.092330455780029,
          6.206228733062744,
          5.424773216247559,
          5.450392723083496,
          5.4290289878845215,
          7.033640384674072,
          6.786103248596191,
          5.703714847564697,
          4.882014751434326,
          5.9962053298950195,
          4.8252339363098145,
          5.2726149559021,
          6.132294654846191,
          7.412136077880859,
          5.501771926879883,
          5.516252517700195,
          5.617636680603027,
          5.181792736053467,
          5.1786675453186035,
          6.0464982986450195,
          5.451990604400635,
          5.736539363861084,
          6.445574760437012,
          6.9288010597229,
          5.3724799156188965,
          6.076763153076172,
          5.186364650726318,
          6.479907989501953,
          5.8097405433654785,
          5.486393451690674,
          6.425477504730225,
          7.337468147277832,
          5.999892234802246,
          5.307525634765625,
          5.1004486083984375,
          6.0605244636535645,
          5.668342113494873,
          5.381783962249756,
          7.342135906219482,
          6.8725409507751465,
          7.302773952484131,
          4.948237895965576,
          5.4707536697387695,
          5.338529586791992,
          5.201846599578857,
          5.367987632751465,
          5.140355587005615,
          5.8905134201049805,
          5.961609840393066,
          5.846340656280518
         ]
        },
        {
         "hoverinfo": "text",
         "hovertext": [
          "un global alliance of national human rights institutions (2015), sub-committee on accreditation (sca), accreditation report – november 2015.",
          "in february 2020, the minister asked the council of state for advice in this regard.",
          "council of europe: venice commission (2017), slovakia – opinion on questions related to the appointment of judges of the constitutional court (cdl-ad(2017)001-e).",
          "council of state (2019), annual report 2019.",
          "defender of rights (2020), letter to the presidents of the senate and the national assembly on the law extending the state of health emergency.",
          "constitutional council, decision of 11 may 2020, on the law extending the state of health emergency and supplementing its provisions, decision no.",
          "national assembly (2019), a new enthusiasm for parliamentary ethics: annual report submitted to the president and to the office of the national assembly on 14 and 30 january 2019, in accordance with article 80-3 of the rules of the national assembly.",
          "cepej (2020), study on the functioning of the judicial systems in the eu member states.",
          "public defender of rights (2020) report on the activities of the public defender of rights for 2019.",
          "high council for the judiciary (2019), compendium on the judiciary’s ethical obligations.",
          "european commission (2020), a comparative analysis of non-discrimination law in europe 2019.",
          "netherlands committee of jurists for human rights (2020), letter on concerns about corona measures in criminal justice.",
          "amnesty international ireland, front line defenders, the wheel, transparency international ireland, uplift and the irish council for civil liberties (2020), submission to the un special rapporteur on the rights to freedom of peaceful assembly and of association, mr clément nyaletsossi voule.",
          "its president is nominated by the president of the republic, and three members are nominated by each of the two parliamentary chambers.",
          "president of the council for the judiciary (2018), letter to the minister for legal protection on a rest of the digitalisation of justice.",
          "the seven members of the csa are nominated by decree for a non-renewable, six-year mandate.",
          "un human rights committee (2019), international covenant on civil and political rights: concluding observations on the fifth periodic report of the netherlands.",
          "the ganhri sub-committee on accreditation (sca) encouraged the cncdh to continue to broaden its activities in relation to its protection mandate, including advocating for legislative amendments to make this mandate explicit.",
          "council of europe, recommendation cm/rec(2010)12 of the committee of ministers to member states on judges: independence, efficiency and responsibilities.",
          "council of europe: venice commission and osce office for democratic institutions and human rights (2014), joint guidelines on freedom of association.",
          "european network of councils for the judiciary (2013-2014), development of minimum judicial standards iv: allocation of cases.",
          "cepej (2017), efficiency and quality of the slovak judicial system.",
          "council for public administration (2020), a stronger rule of law – connecting and protecting in a pluralistic society.",
          "council of state, advisory opinion w04.20.0139/i/vo of 25 may 2020.",
          "consultative council of european judges (2016), ccje opinion no.19: the role of court presidents.",
          "council of europe: venice commission (2010), report on the independence of the judicial system part i: the independence of judges adopted by the venice commission at its 82nd plenary session (cdl-ad(2010)004-e).",
          "european network of councils for the judiciary and council of bars and law societies of europe (2020), survey among lawyers on the independence of judges 2018-2019. .",
          "cncdh (2020), opinion on the state of health emergency and the rule of law.",
          "president of the magistrates union katia dubreuil (2019), letter of 3 december 2019 addressed to the minister of justice.",
          "council of state, judgments of 6 july 2020, on the obligation to obtain an authorization before organizing an event, decision nos.",
          "judicial council (13 november 2019, 23 march 2020, 23 june 2020), communiques concerning resignation of its members.",
          "council of europe: committee of ministers (2010), recommendation cm/rec(2010)12 of the committee of ministers to member states on judges: independence, efficiency and responsibilities.",
          "derogations from this right exist for reasons of national security.",
          "the execution of ecthr judgement is under enhanced supervision by the council of europe’s committee of ministers .",
          "i-connect and the clough center for the study of constitutional democracy at boston college (2019), 2018 global review of constitutional law.",
          "council of europe: committee of ministers (2010), recommendation cm/rec(2010)12 of the committee of ministers to member states on judges: independence, efficiency and responsibilities.",
          "providing adequate resources for the judicial council, as well as the state prosecutorial council, is an important condition for the independent and effective functioning of these self-governance bodies.",
          "transparency international slovakia (2018), let’s judge the judges – how slovakia opened its judiciary to unprecedented public control.",
          "constitutional council, decision of 3 july 2020, m. sofiane a. and others, decision no.",
          "council of state, judgment of 29 may 2019, nitrogen action programme, ecli:nl:rvs:2019:1604.",
          "council of europe: committee of ministers (2010), recommendation cm/rec(2010)12 of the committee of ministers to member states on judges: independence, efficiency and responsibilities.",
          "the sca also encouraged the cncdh to continue to strengthen its cooperation with other national human rights entities such as the defender of rights.",
          "council of europe: committee of ministers (2017), recommendation of the committee of ministers of the council of europe cm/rec(2017)14 on the legal status of non-governmental organisations in europe.",
          "council of europe: committee of ministers (2000), recommendation rec(2000)19 of the committee of ministers to member states on the role of public prosecution in the criminal justice system.",
          "judicial council (23 april 2020, 26 april 2020, 20 may 2020), communiques concerning appointments of its members.",
          "osce-odihr (2019) opinion on the draft amendments to the act on establishment of the slovak national centre for human rights.",
          "global alliance of national human rights institutions (ganhri): sub-committee on accreditation (sca) (2019), ganhri sub-committee on accreditation report – march 2019.",
          null
         ],
         "marker": {
          "opacity": 0.5,
          "size": 5
         },
         "mode": "markers+text",
         "name": "2_europe committee_judicial council_judges independence",
         "text": [
          "",
          "",
          "",
          "",
          "",
          "",
          "",
          "",
          "",
          "",
          "",
          "",
          "",
          "",
          "",
          "",
          "",
          "",
          "",
          "",
          "",
          "",
          "",
          "",
          "",
          "",
          "",
          "",
          "",
          "",
          "",
          "",
          "",
          "",
          "",
          "",
          "",
          "",
          "",
          "",
          "",
          "",
          "",
          "",
          "",
          "",
          "",
          "2_europe committee_judicial council_judges independence"
         ],
         "textfont": {
          "size": 12
         },
         "type": "scattergl",
         "x": [
          6.160405158996582,
          5.657155513763428,
          4.812093257904053,
          5.795184135437012,
          5.713840007781982,
          5.604586124420166,
          5.929347991943359,
          5.132578372955322,
          5.817219257354736,
          5.496204376220703,
          5.8694748878479,
          5.673691272735596,
          6.2996368408203125,
          4.67857551574707,
          5.42387580871582,
          5.4590277671813965,
          5.958596706390381,
          6.030172824859619,
          4.6119279861450195,
          5.802524089813232,
          5.122629642486572,
          5.0382609367370605,
          5.555142879486084,
          5.609053611755371,
          4.771053314208984,
          4.617568492889404,
          4.925386905670166,
          5.646770000457764,
          5.363955974578857,
          5.475792407989502,
          5.053379058837891,
          4.566300868988037,
          5.939679145812988,
          4.5534348487854,
          5.536284446716309,
          4.493669509887695,
          4.5712971687316895,
          4.98159122467041,
          5.499922275543213,
          5.547234058380127,
          4.604117393493652,
          6.032973766326904,
          4.66343355178833,
          4.683999538421631,
          5.004026889801025,
          6.986048221588135,
          6.162377834320068,
          5.381521701812744
         ],
         "y": [
          2.4909908771514893,
          3.986461877822876,
          2.4896645545959473,
          3.8348093032836914,
          3.224555015563965,
          3.6447343826293945,
          3.46559739112854,
          2.2998404502868652,
          3.184117555618286,
          3.0328409671783447,
          2.1118416786193848,
          2.6119706630706787,
          2.4635252952575684,
          2.6582190990448,
          3.0867671966552734,
          3.5906221866607666,
          2.527252435684204,
          2.715078592300415,
          2.5336053371429443,
          2.3310153484344482,
          2.548762083053589,
          2.3397538661956787,
          3.839444160461426,
          3.8868319988250732,
          2.53003191947937,
          2.527902364730835,
          2.4991352558135986,
          3.4307098388671875,
          3.106091260910034,
          3.793330669403076,
          4.167245388031006,
          2.594599485397339,
          2.703080892562866,
          2.583491086959839,
          3.681330442428589,
          2.569650411605835,
          2.585312843322754,
          2.3052268028259277,
          3.7468249797821045,
          3.711575984954834,
          2.547449827194214,
          2.613523244857788,
          2.8266541957855225,
          2.9304864406585693,
          4.203774929046631,
          2.0204079151153564,
          2.5549092292785645,
          2.960235357284546
         ]
        },
        {
         "hoverinfo": "text",
         "hovertext": [
          "\"There are an estimated 175,000 members of the group in Russia.",
          "\"The biggest challenge for the Kallas government in 2021 was the COVID-19 crisis.",
          "\"Terrorism by radical Islamist groups remains a threat.",
          "\"In October, the city of Ganga was bombed, with one death reported.",
          "\"Agnes Janson, „Postimees otsustas statistika avaldamisest loobuda“ [Postimees decided to stop publishing statistics], Postimees, 3 June 2021,  Ragne Kõuts-Klemm, “Läbipaistvuse küsimus” [A question of transparency], Sirp, 15 October 2021,  Urmo Soonvald, “Delfi sulgeb tänasest kõikide koroonalugude kommentaariumi” [Delfi is turning off commenting on all coronavirus-stories], Eesti Päevaleht, 14 October 2021,  Elvin Heinla, “Teleauditooriumi ülevaade septembris 2021” [Overview of TV auditorium in September 2021], Kantar Emor, 12 October 2021,  ERR, “ERR Russian-language channel often outstripping outside stations”, 19 April 2021,  Objektiiv, “Avasime venekeelse Objektiivi” [We opened a Russian-language Objetiiv], 23 September 2021,  Varro Vooglaid, “Mida järeldada asjaolust",
          "\"The group had publicized its plans to peacefully disrupt Underground service.",
          "\"In August 2017, a group of terrorists carried out two vehicular attacks on crowds in Catalonia, killing 16 people before being arrested or shot dead by police.",
          "\"The ruling marks the first time a crime had legally been categorized as terrorism in Finland.",
          "\"The conflict was marked by reported acts of mistreatment, desecration, and vandalism.",
          "the mpm 2020 therefore concludes that this represents the highest risk area for the country.",
          "\"Azerbaijanis were affected by armed conflict with Armenia during 2020.",
          "\"Cameraman Aleksandre Lashkarava, who was one of the injured, died later that month.",
          "\"In July, Azerbaijani and Armenian forces fought along the border, resulting in the deaths of four Azerbaijani soldiers.",
          "\"A criminal history of a party], Eesti Ekspress, 14 January 2021,  ERR, “Coalition withdraws marriage referendum bill from Riigikogu vote”, 13 January 2021,  Sten Hankewitz, “Estonia becomes the only country in the world led by women”, Estonian World, 26 January 2021,  Postimees, „JUHTKIRI ⟩ Raha peseb haavad“ [OP-ED: Money heals the wounds], 14 January 2021,  ERR, “Estonia has Europe's highest 14-day coronavirus infection rate”, 17 March 2021,  Latvian Public Broadcasting, “Baltic states are now Europe's Covid-19 hotspot”, 14 October 2021,  BNS, “Auditor general: Covid-19 crisis management structure unclear”, 1 October 2021,  Indrek Kiisler, “Kiik does not support Kallas' tougher coronavirus measures”, ERR, 15 October 2021,  ERR, “Eesti 200 chair: Crisis management being paused for elections is criminal”, 21 October 2021,  ERR, “Kiik: It is more responsible for me to continue in office than to resign”, 8 September 2021,  ERR, “Social ministry secretary general to be removed from office”, 2 August 2021,  ERR, BNS, “Health Board boss resigns”, 6 September 2021,  ERR, “Ratings: Reform Party retains lead over EKRE”, 22 October 2021,  ERR, “Electricity prices to reach record levels again on Tuesday”, 14 September 2021,  Merilin Pärli, “Õigusteadlane kritiseerib riigikogu passiivsust koroonaolukorras” [Legal scholar criticizes Riigikogu’s passiveness in the corona crisis], 28 August 2021,  Kersti Kaljulaid, “Eestile on vaja Riigikogu kui teenäitajat” [Estonia needs Riigikogu to lead the way], 13 September 2021,  ERR, BNS, “Justice chancellor: Riigikogu should debate coronavirus restrictions”, 17 September 2021,",
          "\"In a May report, the OHCHR found that at least 10,090 people, including over 2,700 civilians, had been killed, and nearly 24,000 injured, since the conflict’s outbreak in April 2014.",
          "\"Areas adjacent to Azerbaijan and Nagorno-Karabakh, an Armenian-majority territory that gained de facto independence from Azerbaijan following the breakup of the Soviet Union, remained tense in 2018, with a lingering risk of shelling and skirmishes across the line of contact.",
          "\"War and insurgencies are not a concern.",
          "\"In June, he was convicted of two counts of murder with terrorist intent, and eight counts of attempted murder with terrorist intent, and sentenced to life in prison.",
          "\"Following the August 2017 attack in Turku, a team from the Safety Investigation Authority conducted a report on the attack, and how to prevent similar incidents from occurring.",
          "\"Statistikaamet, “Statistika andmebaas” [Statistics database],  Katrin Uba, “Protestid ja «politseiriik» Eestis” [Protests and ‘police state’ in Estonia], Postimees, 19 April 2021,  ERR, BNS, “Civic portal receives record number of petitions in 2021”, 11 August 2021,  Vabariigi Valitsus, “Valitsus kinnitas sidusa Eesti arengukava” [The government approved the Cohesive Estonia Development Plan], 18 November 2021,  ERR, “Gallery: Protesters on Toompea”, 11 April 2021,  ERR, “Gallery: Protesters in Tallinn demonstrate against coronavirus restrictions”, 15 May 2021,  ERR, “Gallery: Protesters rally against coronavirus restrictions in Tallinn”, 23 October 2021,  BNS, ERR, “Emergency care to be prioritized from Monday, planned treatment suspended”, 23 October 2021,  ERR, “City councilor quits EKRE over Saturday's covid restrictions demonstration”, 25 October 2021,  ERR, “Party ratings: Protests likely behind EKRE record support levels”, 16 April 2021,  ERR, “Gallery: Baltic way anniversary marked with human chain, car drive”, 24 August 2021,  Martin Laine, “„U nas jest organizator“ – Eesti „vabaks sõitmist“ aitas importida Kremli-meelne liikumine” [„U nas jest organizator“ – the „free Estonia“ event was imported by a Kremlin-minded movement], Eesti Ekspress, 7 April 2021,  Herman Kelomees, “Koroonaprotestide sõpruskond: kremlimeelsed aktivistid, EKRE saadikud ja uhhuu-ärikad” [Corona protesters: Kremlin-minded activists, EKRE MPs and woo-woo businessmen], Eesti Päevaleht.",
          "\"According to the Workers’ Health and Work Safety Assembly (İSİGM), more than 2,400 workers died in workplace incidents in 2020, including at least 741 who died of COVID-19.",
          "in 2019, there were two guillotine questions used out of a total of 53 acts/bills enacted that year.",
          "\"The National Audit Office, “The five lessons learned from the coronavirus crisis”, 8 November 2021,  file:///C:/Users/Liisa/Downloads/RVKS_Koroonakriisi_viis_%C3%B5ppetundi_08.11.2021_en_EL_F%20(1).pdf Estonian National Electoral Committee, „Election result“, 22 October 2021,  Estonian National Electoral Committee, „Election result, Types of mandates“, 19 October 2021,  ERR, „Survey: Kõlvart most popular candidate for mayor of Tallinn“, 5 October 2021,  Estonian National Electoral Committee, „Local elections 2021“,  “Kohtuotsus” [Court decision], 15 July 2002,  “Kohtuotsus” [Court decision], 19 April 2005,  ERR, „Norstati reitingud: EKRE tõusis kõige populaarsemaks erakonnaks“ [Norstat ratings: EKRE became the most popular party], 29 September 2021,",
          "\"Janša demanded that charges be filed for what he characterized as death threats, though the state prosecution found no grounds to do so.",
          "\"The conflict ended in early November after a Russian-brokered cease-fire was agreed; under its terms, Azerbaijan would retain control of parts of Nagorno-Karabakh gained during the fighting, along with adjacent land held by Armenia.",
          "\"The two countries engaged in a full-scale conflict over control of Nagorno-Karabakh in late September, with civilian and military casualties reported on both sides.",
          "the bai is comprised of nine members.",
          "\"Despite these efforts, Estonia topped the list of countries with high infection rates, due largely to the slow pace of vaccination.",
          "\"Author: Liisa Talving, PhD, is a Research Fellow in Comparative Politics at the Johan Skytte Institute of Political Studies, University of Tartu, Estonia.",
          "\"In early December, the Azerbaijani government reported 2,783 soldiers died in the fighting, while at least 143 civilians on both sides were killed.",
          "\"In December, five people in the city of Trier were killed by an individual driving into a pedestrian zone, though no political motive was immediately identified.",
          "\"Piret Reiljan, „Life after COVID-19: Estonia“, in D. Donauskaitė, M. Fridrihsone, M. Krancevičiūtė, A. Krūtaine, A. Lastovska, P. Reiljan, A. Tetarenko (eds) The Media After Covid: Finding strategies to survive and thrive, November 2020.",
          "\"There have been no major terrorist attacks in Belgium since 2016, and in January 2018 the government lowered its terrorism threat level from three to two on a four-point scale, except in undisclosed high-risk areas.",
          "\"In 2019, nearly 1,750 such attacks were reported.",
          "\"They included physical assaults, though most incidents involved aggressive rhetoric and other forms of pressure or intimidation.",
          "\"Several mass-casualty incidents were reported in 2020.",
          "\"The threat of terrorism decreased in 2018 with the weakening of the Islamic State (IS) militant group in neighboring Syria and Iraq  no large-scale terrorist attacks were reported during 2019 or 2020.",
          "the so-called guillotine motions were used on both acts.",
          "\"Tönnies workers also risked COVID-19 infection; by June 2020, over 1,000 workers at a meat-processing plant in the city of Rheda-Wiedenbrück had tested positive.",
          "\"The bill came in response to a 2017 attack in Turku in which an assailant killed two women and injured eight other people in a knife attack considered the country’s first-ever terrorist attack.",
          null
         ],
         "marker": {
          "opacity": 0.5,
          "size": 5
         },
         "mode": "markers+text",
         "name": "3_estonia_2021_estonian",
         "text": [
          "",
          "",
          "",
          "",
          "",
          "",
          "",
          "",
          "",
          "",
          "",
          "",
          "",
          "",
          "",
          "",
          "",
          "",
          "",
          "",
          "",
          "",
          "",
          "",
          "",
          "",
          "",
          "",
          "",
          "",
          "",
          "",
          "",
          "",
          "",
          "",
          "",
          "",
          "",
          "",
          "3_estonia_2021_estonian"
         ],
         "textfont": {
          "size": 12
         },
         "type": "scattergl",
         "x": [
          4.712152004241943,
          5.736263275146484,
          4.857186317443848,
          4.993896484375,
          5.755802631378174,
          4.9052605628967285,
          4.971580505371094,
          5.044699192047119,
          5.253975868225098,
          5.459797382354736,
          4.83076286315918,
          7.096593856811523,
          4.821053981781006,
          5.696261405944824,
          5.145017147064209,
          4.825676441192627,
          4.784335136413574,
          5.17464017868042,
          4.948405742645264,
          5.643165111541748,
          5.360475063323975,
          5.2030816078186035,
          5.694778919219971,
          5.677695274353027,
          4.812070846557617,
          4.824233055114746,
          4.61270809173584,
          5.66538143157959,
          5.843181133270264,
          4.836207866668701,
          5.056933879852295,
          5.691795349121094,
          4.768807411193848,
          4.995913505554199,
          5.23703145980835,
          5.2585625648498535,
          4.743574619293213,
          5.2029805183410645,
          5.4689412117004395,
          4.974837779998779,
          5.2146430015563965
         ],
         "y": [
          7.55906343460083,
          7.802427768707275,
          6.810901641845703,
          6.848869800567627,
          7.848159313201904,
          6.796175003051758,
          6.830474853515625,
          6.593137264251709,
          6.463101863861084,
          7.066029071807861,
          7.551165580749512,
          8.092653274536133,
          7.539165496826172,
          7.815939903259277,
          7.377355098724365,
          7.5427398681640625,
          6.820736885070801,
          6.598517894744873,
          6.855042934417725,
          7.755386829376221,
          7.47667932510376,
          6.533754348754883,
          7.816123962402344,
          6.427121639251709,
          7.531954765319824,
          7.49718713760376,
          7.525897026062012,
          7.797111511230469,
          7.969366550445557,
          7.5382080078125,
          6.83988618850708,
          7.81287145614624,
          6.8977766036987305,
          6.904960632324219,
          6.484650135040283,
          7.074826240539551,
          6.906791687011719,
          6.514160633087158,
          7.582180023193359,
          6.773587703704834,
          7.211803436279297
         ]
        },
        {
         "hoverinfo": "text",
         "hovertext": [
          "\"No further information was reported by the end of 2020.",
          "\"The EC Progress Report from 2019 demanded further efforts to prevent the politicization of the public service.",
          "\"The federal authorities did not take significant action in response to the allegations.",
          "in addition, the government has indicated its intention to focus on strengthening compliance with existing legislation and to strengthen the analytical units .",
          "\"Although the international community insists that this problem of exclusion must be resolved,  no progress was made in 2019.",
          "this would complement the on-going efforts to upgrade the available it tools and analytical capacity .",
          "a new political parties act is being drafted in that regard.",
          "the law is expected to enter into force in autumn 2020.",
          "\"This was particularly noticeable in the infrastructure sector, with the long-neglected Corridor 5C showing not a single meter of road built during the year.",
          "\"The bill was rejected by the Senate in September, but passed again by the Sejm in December, before being vetoed by Duda later that month.",
          "the new governement’s programme envisages to enact the bill.",
          "\"The resolution, however, does not apply retroactively and includes major exemptions.",
          "sipo publishes guidelines on compliance with the provisions of these acts.",
          "discussions on this reform have been ongoing for a number of years.",
          "\"The gray economy of undeclared business activity has been estimated at over 20 percent of the country’s economy.",
          "\"The implementation of these policies thus far has been slow.",
          "\"According to Network 23, only 7 out of 43 measures were fully implemented as of 2019, with work on 10 not even initiated by the end of the year.",
          "\"Median gross weekly earnings for full-time workers were ₤569 ($730).",
          "the government has drafted a concept proposal for a revision of the constitution to implement this recommendation.",
          "\"Due to both state-level and FBiH governments operating in so-called technical mandates, no major government investments were made in any sector in 2019.",
          "so far, this did not yield the expected results as impact assessments only apply to legislative measures initiated by the government .",
          "\"The government previously attempted to stop the work of the KSC through efforts to repeal or renegotiate the 2015 law establishing its existence.",
          "\"The new law will enter into force in January 2018, together with a law renouncing banking secrecy, which was passed in December 2016.",
          "improvements have been announced as regards the process for preparing and enacting laws.",
          "\"The EU-endorsed “Urgent Reform Priorities” from 2015 are still far from being fully implemented, and exemplify the country’s lack of institutional capacity.",
          "\"Despite delays in late 2020, the ruling went into effect in January 2021.",
          "before a bill is finalised, a general scheme of the bill may be published.",
          "\"The draft remained pending at the end of 2019.",
          "in 2017, the government submitted to parliament a draft law on this matter, which lapsed with the end of the previous parliamentary term.",
          "\"The amendments replaced a 1989 measure that many saw as an outdated regulation.",
          "certain it projects have been receiving technical support at european level .",
          null
         ],
         "marker": {
          "opacity": 0.5,
          "size": 5
         },
         "mode": "markers+text",
         "name": "4_government has_of 2019_in 2019",
         "text": [
          "",
          "",
          "",
          "",
          "",
          "",
          "",
          "",
          "",
          "",
          "",
          "",
          "",
          "",
          "",
          "",
          "",
          "",
          "",
          "",
          "",
          "",
          "",
          "",
          "",
          "",
          "",
          "",
          "",
          "",
          "",
          "4_government has_of 2019_in 2019"
         ],
         "textfont": {
          "size": 12
         },
         "type": "scattergl",
         "x": [
          6.239560127258301,
          6.515200614929199,
          6.447096347808838,
          7.454354763031006,
          6.33527135848999,
          7.333468437194824,
          6.905391693115234,
          6.888240337371826,
          6.411528587341309,
          6.462892532348633,
          7.01753568649292,
          6.381396293640137,
          7.504204273223877,
          6.6998209953308105,
          10.313572883605957,
          6.615554332733154,
          6.353375434875488,
          6.699352264404297,
          6.879609107971191,
          6.535215854644775,
          6.434050559997559,
          6.606915473937988,
          6.853260040283203,
          7.346921443939209,
          6.450600624084473,
          6.33864688873291,
          6.892693519592285,
          6.2470011711120605,
          6.877198219299316,
          6.632260799407959,
          7.283025741577148,
          6.837265491485596
         ],
         "y": [
          5.588804244995117,
          5.0057196617126465,
          5.845558166503906,
          4.564069747924805,
          5.267843246459961,
          4.297867298126221,
          4.708819389343262,
          4.611005783081055,
          5.840453147888184,
          5.1460466384887695,
          4.5825934410095215,
          5.296340465545654,
          4.691433429718018,
          4.813848972320557,
          6.632395267486572,
          4.852772235870361,
          5.575498104095459,
          6.565618991851807,
          4.450275421142578,
          5.815910339355469,
          5.754482746124268,
          4.942365646362305,
          4.725492000579834,
          4.414757251739502,
          4.643442153930664,
          5.258795261383057,
          4.432280540466309,
          5.259785175323486,
          4.623806953430176,
          4.804854869842529,
          4.189266681671143,
          5.071038722991943
         ]
        },
        {
         "hoverinfo": "text",
         "hovertext": [
          "european commission (2015), country report slovakia, swd(2015) 44/2 final.",
          "irish government (2020), input from ireland for the 2020 rule of law report.",
          "european commission (2019), country report ireland, (swd(2019) 1006 final).",
          "council of the european union (2014), council recommendation of 8 july 2014 on slovakia’s 2014 national reform programme and delivering a council opinion on the stability programme of slovakia, 2014, oj c 247.",
          "council of the european union (2017), council recommendation of 11 july 2017 on the 2017 national reform programme of slovakia and delivering a council opinion on the 2017 stability programme of slovakia, oj c 261.",
          "this issue has been addressed by a country-specific recommendation in the context of the 2019 european semester .",
          "french government (2020), input from france for the 2020 rule of law report.",
          "oecd (2019), indicators of regulatory policy and governance europe 2019: france.",
          "oecd (2012) slovakia: phase 3 report on implementing the oecd anti-bribery convention in the slovak republic.",
          "france has the institutional and legislative framework broadly in place.",
          "european commission (2019), country report slovakia, swd(2019) 1024 final.",
          "virtual country visit to ireland in the context of the 2020 rule of law report.",
          "european commission (2020), country report slovakia, swd(2020) 524 final.",
          "council of the european union (2019), council recommendation of 9 july 2019 on the 2019 national reform programme of slovakia and delivering a council opinion on the 2019 stability programme of slovakia, oj c 301.",
          "virtual country visit to the netherlands in the context of the 2020 rule of law report.",
          "council of the european union (2016), council recommendation of 12 july 2016 on the 2016 national reform programme of slovakia and delivering a council opinion on the 2016 stability programme of slovakia, oj c 299.",
          "dutch government (2020), input from the netherlands to the 2020 rule of law report.",
          "european commission (2018), country report ireland, (swd(2018) 206 final).",
          "slovak government (2020), input from slovakia for the 2020 rule of law report.",
          "virtual country visit to slovakia in the context of the 2020 rule of law report.",
          "virtual country visit to france in the context of the 2020 rule of law report.",
          "european commission (2020), country report ireland, (swd(2020) 506 final).",
          "oecd (2015), the netherlands: follow-up to the phase 3 report & recommendations.",
          "supreme audit office of the slovak republic (2019), report audit activities, results in 2019.",
          "slovak government, (2020) programové vyhlásenie vlády slovenskej republiky na obdobie rokov 2020 – 2024.",
          "irish human rights and equality commission (2019), policy statement on the electoral acts and civil society space in ireland, january 2019.",
          "osce-odihr (2020), slovak republic – parliamentary elections, odihr election assessment mission final report.",
          "world economic forum (2013-2020), the global competitiveness report.",
          "world economic forum (2013-2015), the global competitiveness report.",
          "president of the republic (2020) report on the state of the republic.",
          null
         ],
         "marker": {
          "opacity": 0.5,
          "size": 5
         },
         "mode": "markers+text",
         "name": "5_report slovakia_slovakia 2014_slovakia",
         "text": [
          "",
          "",
          "",
          "",
          "",
          "",
          "",
          "",
          "",
          "",
          "",
          "",
          "",
          "",
          "",
          "",
          "",
          "",
          "",
          "",
          "",
          "",
          "",
          "",
          "",
          "",
          "",
          "",
          "",
          "",
          "5_report slovakia_slovakia 2014_slovakia"
         ],
         "textfont": {
          "size": 12
         },
         "type": "scattergl",
         "x": [
          7.2009429931640625,
          7.1451005935668945,
          7.0670695304870605,
          7.491185188293457,
          7.478755950927734,
          7.643015384674072,
          7.486411094665527,
          7.428841590881348,
          7.499561309814453,
          7.507444381713867,
          7.264739036560059,
          7.741631507873535,
          7.27169132232666,
          7.429749488830566,
          7.776723861694336,
          7.509274005889893,
          7.426050662994385,
          7.0317206382751465,
          7.393710613250732,
          7.780423641204834,
          7.742452621459961,
          7.060456275939941,
          7.5124592781066895,
          7.331717491149902,
          7.428443908691406,
          6.505936622619629,
          7.172379016876221,
          7.5815629959106445,
          7.592471599578857,
          7.32245397567749,
          7.3941450119018555
         ],
         "y": [
          2.2609007358551025,
          2.494213581085205,
          2.3395984172821045,
          2.0071160793304443,
          2.0296874046325684,
          3.060798168182373,
          2.6869232654571533,
          2.733466863632202,
          2.0658791065216064,
          2.6676104068756104,
          2.209742546081543,
          2.4981656074523926,
          2.2031326293945312,
          2.054542064666748,
          2.5364437103271484,
          1.9891420602798462,
          2.9786837100982666,
          2.3293583393096924,
          2.227588653564453,
          2.435215473175049,
          2.512286424636841,
          2.3597869873046875,
          2.95515775680542,
          2.216369867324829,
          2.0906803607940674,
          2.3936402797698975,
          2.0830490589141846,
          2.7480525970458984,
          2.740872859954834,
          2.7873358726501465,
          2.4231812953948975
         ]
        },
        {
         "hoverinfo": "text",
         "hovertext": [
          "high court, judgment of 13 may 2020, o’doherty & waters v. minister for health & attorney general.",
          "court of justice of the european union, c-192/18, commission v poland (indépendance des juridictions de droit commun).",
          "court of justice of the european union, judgment of 9 july 2020, land hessen, c-272/19.",
          "european commission (2013, 2014, 2015, 2016, 2017, 2018, 2019, 2020), the eu justice scoreboard.",
          "european court of human rights, judgment of 15 june 2017, independent newspapers (ireland) limited v. ireland, application no.",
          "european court of human rights, judgment of 9 april 2015, tchokontio happi v. france, application no.",
          "court of justice of the european union, judgment of 27 may 2019 in joined cases og, c-508/18 and pi, c-82/19 ppu.",
          "european court of human rights, judgment of 10 september 2010, mcfarlane v ireland, application no.",
          "court of justice of the european union, judgement of 25 july 2018, lm, c‑216/18 ppu.",
          "paris court of appeals (2020), judicial public interest agreement (cjip) concluded between the national financial prosecutor and the company airbus se.",
          "european court of human rights, judgment of 22 december 2009, parlov-tkalčić v croatia, application no.",
          "court of justice of the european union, judgement of 19 november 2019, ak, joined cases c‑585/18, c‑624/18 and c‑625/18.",
          "european commission (2019), public administration characteristics and performance in eu28.",
          "the moriarty tribunal into payments to politicians and the mahon tribunal into planning matters, ran for fourteen and sixteen years, respectively.",
          "court of justice of the european union, c-619/18, commission v poland (indépendance de la cour suprême).",
          "\"The abolition of the death penalty is a prerequisite for EU membership.",
          "court of justice of the european union, judgement of 18 june 2020, european commission v hungary, c-78/18.",
          "\"In February, the European Commission (EC) launched infringement proceedings against Estonia, Finland, and Poland for “failing to fully transpose the EU rules on strengthening the presumption of innocence and the right to be present at the trial in criminal proceedings.”  The EC found that these countries have only partially transposed the directive,  which is an important element of EU standards for fair trial.",
          "european court of human rights, judgment of 6 november 2018, ramos nunes de carvalho e sá v. portugal, application no.",
          "european commission (2020), the eu justice scoreboard.",
          "court of justice of the european union, c-282/12, commission v hungary.",
          "supreme court of the netherlands, judgment of 13 september 2019, urgenda, ecli:nl:hr:2019:2007.",
          "european commission (2018), equality bodies making a difference.",
          "\"A Warsaw court ordered him to pay a fine, but he contested the judgment, and the case was dismissed in September.",
          "court of justice of the european union, judgment of 19 november 2019, c‑585/18, c‑624/18 and c‑625/18.",
          "european commission (2020), eu justice scoreboard.",
          "court of cassation, judgment of 26 may 2020, no.",
          "european court of human rights, judgment of 5 may 2020, kövesi v. romania, application no.",
          "court of justice of the european union, pending case c-510/19, openbaar ministerie (faux en écritures).",
          null
         ],
         "marker": {
          "opacity": 0.5,
          "size": 5
         },
         "mode": "markers+text",
         "name": "6_european court_eu justice_tribunal",
         "text": [
          "",
          "",
          "",
          "",
          "",
          "",
          "",
          "",
          "",
          "",
          "",
          "",
          "",
          "",
          "",
          "",
          "",
          "",
          "",
          "",
          "",
          "",
          "",
          "",
          "",
          "",
          "",
          "",
          "",
          "6_european court_eu justice_tribunal"
         ],
         "textfont": {
          "size": 12
         },
         "type": "scattergl",
         "x": [
          5.245936870574951,
          5.179066181182861,
          5.105818748474121,
          5.447601318359375,
          5.668584823608398,
          5.682372570037842,
          5.084261894226074,
          5.653408527374268,
          5.126561641693115,
          5.050807952880859,
          5.688918590545654,
          5.1030988693237305,
          5.361504554748535,
          5.457301139831543,
          5.186791896820068,
          5.310398578643799,
          5.089930534362793,
          5.216182708740234,
          5.669104099273682,
          5.475750923156738,
          5.1052703857421875,
          5.168888568878174,
          5.9179301261901855,
          5.195308685302734,
          5.146798610687256,
          5.45980978012085,
          5.080471992492676,
          5.700911521911621,
          5.028868198394775,
          5.331298828125
         ],
         "y": [
          0.9450221657752991,
          1.0119569301605225,
          0.8519371747970581,
          2.174922227859497,
          1.1494709253311157,
          1.1165920495986938,
          0.8425689339637756,
          1.106725811958313,
          0.8879861235618591,
          0.7999412417411804,
          1.1308993101119995,
          0.8596373796463013,
          2.4606404304504395,
          2.1534647941589355,
          0.9837267994880676,
          1.9588459730148315,
          0.9154182076454163,
          1.485754370689392,
          1.113577961921692,
          2.17842435836792,
          0.9483593106269836,
          0.9051985740661621,
          2.1511032581329346,
          0.9827794432640076,
          0.9016136527061462,
          2.1810779571533203,
          0.8373949527740479,
          1.1765440702438354,
          0.7998211979866028,
          1.2762553691864014
         ]
        },
        {
         "hoverinfo": "text",
         "hovertext": [
          "as regards businesses, 55% of companies consider corruption to be widespread (eu average 63%), and 51% of companies consider that corruption is a problem when doing business (eu average 37%).",
          "57% of dutch respondents to the eurobarometer survey indicate that they would not know where to report a case of corruption should they experience or witness it and 49% highlighted that they may decide not to report a case of corruption due to lack of adequate protection.",
          "according to the surveys, 88% of companies consider corruption to be widespread (eu average 63%) and 53% of companies consider that corruption is a problem when doing business (eu average 37%).",
          "26% of respondents find that there are enough successful prosecutions to deter people from corrupt practices (eu average of 36%) while 43% of companies consider that people and businesses caught for bribing a senior official are appropriately punished (eu average 31%).",
          "while the overall level of perceived corruption is low, the financial sector is considered to be a high-risk sector.",
          "results from a eurobarometer survey show that 32% respondents think that there is no protection for those who report corruption .",
          "however, 34% of respondents think that bribery and abuse of power for personal gain are widespread among police and customs authorities.",
          "35% of people find that there are enough successful prosecutions to deter people from corrupt practices (eu average: 36%) while 26% of companies believe that people and businesses caught for bribing a senior official are appropriately punished (eu average: 31%) .",
          "68% of irish respondents to the most recent eurobarometer survey think that corruption is widespread in their country (eu average: 71%), and 25% of people feel personally affected by corruption in their daily lives (eu average: 28%).",
          "similarly, only 12% of businesses consider corruption to be a problem when doing business in the netherlands (eu average 37%).",
          "\"Companies perceive corruption risks and favoritism within public procurement as low, however “old boys’ networks,” notably at the local level, are still believed to hold influence over procurement decisions.",
          "87% of respondents consider corruption widespread (eu average 71%) and 41% of people feel personally affected by corruption in their daily life (eu average 26%) .",
          "nevertheless, 50% of respondents to the eurobarometer are of the opinion that bribery and the abuse of power for personal gain are widespread among officials awarding public tenders and 55% are of the opinion that this is the case for officials issuing building permits, respectively.",
          "11% of companies consider that corruption is a problem when doing business (eu average: 37%).",
          "according to surveys, the netherlands is perceived as one of the least corrupt countries in the eu and the world.",
          "then, 37% of people find that there are enough successful prosecutions to deter people from corrupt practices (eu average 36%), while 13% of companies believe that people and businesses caught for bribing a senior official are appropriately punished (eu average 31%) .",
          "60% of the eurobarometer respondents have most trust in the police to deal with a corruption case.",
          "while 47% of dutch respondents to the eurobarometer survey think that corruption is widespread in their country (eu average 71%), merely 4% of dutch respondents are of the view that corruption affects their daily lives (eu average 26%).",
          "amongst french respondents, 70% perceive corruption widespread in their country (eu average 71%), while 10% of people feel personally affected by corruption in their daily lives.",
          "furthermore, 53% of people find that there are enough successful prosecutions to deter people from corrupt practices (eu average 36%) while 38% of companies consider that people and businesses caught for bribing a senior official are appropriately punished (eu average 31%).",
          "\"According to an IDSCS survey in May, a large majority of respondents believe that MPs always defend their own personal interests (78 percent) or their party’s interests (72 percent).",
          "as regards businesses, 33% of companies consider corruption to be widespread (eu average: 63%).",
          null
         ],
         "marker": {
          "opacity": 0.5,
          "size": 5
         },
         "mode": "markers+text",
         "name": "7_corrupt practices_consider corruption_corruption is",
         "text": [
          "",
          "",
          "",
          "",
          "",
          "",
          "",
          "",
          "",
          "",
          "",
          "",
          "",
          "",
          "",
          "",
          "",
          "",
          "",
          "",
          "",
          "",
          "7_corrupt practices_consider corruption_corruption is"
         ],
         "textfont": {
          "size": 12
         },
         "type": "scattergl",
         "x": [
          10.49924373626709,
          10.291984558105469,
          10.483864784240723,
          9.887036323547363,
          10.475878715515137,
          10.234695434570312,
          10.00389575958252,
          9.890405654907227,
          10.385077476501465,
          10.458636283874512,
          10.080068588256836,
          10.436653137207031,
          10.137221336364746,
          10.507976531982422,
          10.465953826904297,
          9.912309646606445,
          10.226914405822754,
          10.438029289245605,
          10.4114351272583,
          9.915852546691895,
          10.027909278869629,
          10.514374732971191,
          10.258428573608398
         ],
         "y": [
          6.607613563537598,
          6.409955024719238,
          6.571737289428711,
          6.333939075469971,
          6.607506275177002,
          6.383372783660889,
          6.320765018463135,
          6.336583137512207,
          6.469557762145996,
          6.591970920562744,
          6.42557430267334,
          6.523257255554199,
          6.344901084899902,
          6.64410400390625,
          6.44686222076416,
          6.344656944274902,
          6.387550354003906,
          6.481490135192871,
          6.486199855804443,
          6.3542914390563965,
          6.236910820007324,
          6.5871758460998535,
          6.449816703796387
         ]
        },
        {
         "hoverinfo": "text",
         "hovertext": [
          "csa, information on publishers.",
          "council of europe, platform to promote the protection of journalism and safety of journalists – the netherlands.",
          "press freedom associations (2019), dutch senate: make a clear exemption for journalists.",
          "council of europe, platform to promote the protection of journalism and safety of journalists: france.",
          "european centre for press & media freedom (2020), mapping media freedom.",
          "council of europe: committee of ministers (2016), recommendation cm/rec(2016)4 of the committee of ministers to member states on the protection of journalism and safety of journalists and other media actors.",
          "european audiovisual observatory (2019), iris special 2019-1: the independence of media regulatory authorities in europe.",
          "european audiovisual observatory (2019), the independence of media regulatory authorities in europe.",
          "professor tarlach mcgonagle (2018), agreement of the steering group on aggression and violence against journalists.",
          "european centre for press & media freedom, mapping media freedom: the netherlands.",
          "council of europe, council of europe, platform to promote the protection of journalism and safety of journalists – slovakia.",
          "dutch government, funds for the media.",
          "council of europe: committee of ministers (2016), recommendation cm/rec(2016)4 of the committee of ministers to member states on the protection of journalism and safety of journalists and other media actors.",
          "european parliament (2016), a comparative analysis of media freedom and pluralism in the eu member states.",
          "council of europe (2020), platform to promote the protection of journalism and safety of journalists.",
          "committee to protect journalist’s analysis (2019), mission journal: one year on, ján kuciak murder seen as turning point by slovak press.",
          "reporters without borders, country profile: france.",
          "dutch media authority, media monitor: media concentration.",
          "european parliament resolution of 19 april 2018 on protection of investigative journalists in europe: the case of slovak journalist ján kuciak and martina kušnírová",
          "council of europe: committee of ministers (2018), recommendation cm/rec(2018)1 of the committee of ministers to member states on media pluralism and transparency of media ownership.",
          "council of europe: committee of ministers (2016), recommendation cm/rec(2016)4 of the committee of ministers to member states on the protection of journalism and safety of journalists and other media actors.",
          "dutch government, safeguarding press freedom.",
          null
         ],
         "marker": {
          "opacity": 0.5,
          "size": 5
         },
         "mode": "markers+text",
         "name": "8_europe committee_of journalists_journalists",
         "text": [
          "",
          "",
          "",
          "",
          "",
          "",
          "",
          "",
          "",
          "",
          "",
          "",
          "",
          "",
          "",
          "",
          "",
          "",
          "",
          "",
          "",
          "",
          "8_europe committee_of journalists_journalists"
         ],
         "textfont": {
          "size": 12
         },
         "type": "scattergl",
         "x": [
          3.0452380180358887,
          3.03078293800354,
          2.7685329914093018,
          3.047318696975708,
          2.3039019107818604,
          3.1812946796417236,
          2.891954183578491,
          2.8070831298828125,
          3.299309015274048,
          2.7536675930023193,
          3.065481424331665,
          2.7765188217163086,
          3.190568208694458,
          2.5049057006835938,
          3.025916814804077,
          3.309624195098877,
          3.093041181564331,
          2.77064847946167,
          3.374591112136841,
          3.1300790309906006,
          3.2178964614868164,
          2.79475998878479,
          2.9719595909118652
         ],
         "y": [
          3.647876501083374,
          3.4712722301483154,
          3.6300370693206787,
          3.441614866256714,
          3.7935521602630615,
          3.4078164100646973,
          3.482417583465576,
          3.5416390895843506,
          3.523664951324463,
          3.6235389709472656,
          3.442654848098755,
          3.6694629192352295,
          3.388821601867676,
          3.690762758255005,
          3.4779610633850098,
          3.447991371154785,
          3.1080007553100586,
          3.6186320781707764,
          3.373469114303589,
          3.3839077949523926,
          3.3102238178253174,
          3.66275691986084,
          3.5062766075134277
         ]
        },
        {
         "hoverinfo": "text",
         "hovertext": [
          "in june 2019, the garda inspectorate began a review into how the gardaí tackle corruption within their own ranks.",
          "greco (2014), fourth evaluation round – evaluation report on ireland on corruption prevention in respect of members of parliament, judges and prosecutors.",
          "greco (2018), fourth evaluation round – second compliance report on france on corruption prevention in respect of members of parliament, judges and prosecutors.",
          "greco (2015), fourth evaluation round – compliance report on the netherlands on corruption prevention in respect of members of parliament, judges and prosecutors.",
          "in 2018, greco recommended ensuring that this procedure does not hamper the criminal justice process as regards corruption-related offences.",
          "greco (2012), fourth evaluation round – evaluation report on the netherlands on corruption prevention in respect of members of parliament, judges and prosecutors.",
          "greco (2017), fourth evaluation round – second compliance report on the slovak republic on corruption prevention in respect of members of parliament, judges and prosecutors.",
          "greco (2008), third evaluation round – evaluation report on the netherlands on transparency of party funding.",
          "the whistleblowers’ act is currently undergoing evaluation, which may result in a revision of the whistleblowers’ authority’s mandate.",
          "greco (2018), fourth evaluation round – interim compliance report on ireland on on corruption prevention in respect of members of parliament, judges and prosecutors.",
          "as a result of the third evaluation round of implementation of the oecd anti-bribery convention , national provisions on foreign bribery offences have been amended.",
          "greco (2018), fifth evaluation round – evaluation report on the netherlands on preventing corruption and promoting integrity in central governments (top executive functions) and law enforcement agencies.",
          "greco (2008), third evaluation round – evaluation report on the netherlands on incriminations (ets 173 and 191, gpc 2).",
          "greco (2018), fifth evaluation round – evaluation report on france on preventing corruption and promoting integrity in central governments (top executive functions) and law enforcement agencies.",
          "greco (2012), third evaluation round – second compliance report on the netherlands transparency of party funding.",
          "greco (2010), third evaluation round – compliance report on the netherlands: incriminations (ets 173 and 191, gpc 2), transparency of party funding.",
          "all recommendations by greco concerning incriminations had been implemented by 2010.",
          "greco recommended for example that the vetting and screening of law enforcement staff take place at regular intervals during the entire service and that the control measures in respect of access to and use of confidential information be enhanced in order to prevent the unauthorised access to and leaking of information.",
          null
         ],
         "marker": {
          "opacity": 0.5,
          "size": 5
         },
         "mode": "markers+text",
         "name": "9_corruption prevention_on corruption_preventing corruption",
         "text": [
          "",
          "",
          "",
          "",
          "",
          "",
          "",
          "",
          "",
          "",
          "",
          "",
          "",
          "",
          "",
          "",
          "",
          "",
          "9_corruption prevention_on corruption_preventing corruption"
         ],
         "textfont": {
          "size": 12
         },
         "type": "scattergl",
         "x": [
          8.700937271118164,
          8.619529724121094,
          8.54085636138916,
          8.492753982543945,
          8.51218318939209,
          8.474165916442871,
          8.51296329498291,
          8.073881149291992,
          8.615736961364746,
          8.552088737487793,
          8.67036247253418,
          8.490099906921387,
          8.18934440612793,
          8.59924602508545,
          8.007771492004395,
          8.08010482788086,
          8.205320358276367,
          8.455094337463379,
          8.432912826538086
         ],
         "y": [
          4.282419681549072,
          4.203915596008301,
          4.149609088897705,
          4.134228706359863,
          4.147674083709717,
          4.092672824859619,
          4.067458629608154,
          4.228967189788818,
          4.316015243530273,
          4.122696876525879,
          4.359096050262451,
          4.09343957901001,
          3.954742193222046,
          4.161832332611084,
          4.299692630767822,
          4.1463470458984375,
          3.932713747024536,
          4.546979904174805,
          4.180028438568115
         ]
        },
        {
         "hoverinfo": "text",
         "hovertext": [
          "directorate-general for communication (2019), flash eurobarometer 482: businesses and corruption.",
          "directorate-general for communication (2020), special eurobarometer 502: corruption.",
          "directorate-general for communication (2019), flash eurobarometer 482: businesses' attitudes towards corruption in the eu.",
          "directorate-general for communication (2020), flash eurobarometer 482: businesses’ attitudes towards corruption in the eu.",
          "directorate-general for communication (2020), special eurobarometer 502: corruption.",
          "\"Although BiH remains nominally interested in fulfilling European Union (EU) requirements on its accession path, in practice, the state’s attitude toward joining the EU is characterized by disinterest, exemplified by the submission of incomplete answers to follow-up questions in an EC questionnaire in February.",
          "directorate-general for communication (2020), special eurobarometer 502: corruption.",
          "directorate-general for communication (2020), eurobarometer: perceived independence of the national justice system in the eu among the general public.",
          "directorate-general for communication (2020), special eurobarometer 502: corruption.",
          "directorate-general for communication (2016-2020), eurobarometer: perceived independence of the national justice system in the eu among the general public.",
          "\"The June 2020 collapse of payment processing firm Wirecard, meanwhile, brought scrutiny on the German financial regulatory system.",
          "directorate-general for communication (2019), flash eurobarometer 482: businesses’ attitudes towards corruption in the eu.",
          null
         ],
         "marker": {
          "opacity": 0.5,
          "size": 5
         },
         "mode": "markers+text",
         "name": "10_eu directorate_corruption directorate_corruption in",
         "text": [
          "",
          "",
          "",
          "",
          "",
          "",
          "",
          "",
          "",
          "",
          "",
          "",
          "10_eu directorate_corruption directorate_corruption in"
         ],
         "textfont": {
          "size": 12
         },
         "type": "scattergl",
         "x": [
          10.944705963134766,
          10.953849792480469,
          10.916152000427246,
          10.865836143493652,
          10.966190338134766,
          5.289733409881592,
          10.962311744689941,
          5.2984724044799805,
          10.959625244140625,
          5.277363300323486,
          10.885537147521973,
          10.83078384399414,
          9.51254653930664
         ],
         "y": [
          3.934520721435547,
          3.9143612384796143,
          3.9651663303375244,
          4.023505687713623,
          3.897454261779785,
          1.9950295686721802,
          3.9012694358825684,
          1.9827243089675903,
          3.904385566711426,
          1.994787335395813,
          3.755092144012451,
          4.063039302825928,
          3.4442780017852783
         ]
        },
        {
         "hoverinfo": "text",
         "hovertext": [
          "\"Her areas of research include electoral studies, voting behavior, and public opinion.",
          "\"The ratings are based on a scale of 1 to 7, with 7 representing the highest level of democratic progress and 1 the lowest.",
          "\"The opinions expressed in this report are those of the author(s).",
          "\"The ratings are based on a scale of 1 to 7, with 7 representing the highest level of democratic progress and 1 the lowest.",
          "\"The Democracy Percentage, introduced in 2020, is a translation of the Democracy Score to the 0–100 scale, where 0 equals least democratic and 100 equals most democratic.",
          "\"The opinions expressed in this report are those of the author(s).",
          "\"NOTE: The ratings reflect the consensus of Freedom House, its academic advisers, and the author(s) of this report.",
          "\"Public dissatisfaction with the government’s performance led to a steady decline in Reform Party ratings.",
          "\"The Democracy Score is an average of ratings for the categories tracked in a given year.",
          "\"Score Change: The score improved from 3 to 4 because the threat of imminent terrorist violence apparently receded.",
          "\"Note The ratings reflect the consensus of Freedom House, its academic advisers, and the author(s) of this report.",
          "\"The Democracy Score is an average of ratings for the categories tracked in a given year.",
          null
         ],
         "marker": {
          "opacity": 0.5,
          "size": 5
         },
         "mode": "markers+text",
         "name": "11_democracy score_ratings reflect_ratings for",
         "text": [
          "",
          "",
          "",
          "",
          "",
          "",
          "",
          "",
          "",
          "",
          "",
          "",
          "11_democracy score_ratings reflect_ratings for"
         ],
         "textfont": {
          "size": 12
         },
         "type": "scattergl",
         "x": [
          3.5408365726470947,
          3.6851134300231934,
          3.5199108123779297,
          3.7022814750671387,
          3.681342840194702,
          3.53743052482605,
          3.6139445304870605,
          3.7407524585723877,
          3.6721572875976562,
          3.806734561920166,
          3.5596115589141846,
          3.6891672611236572,
          3.6457738876342773
         ],
         "y": [
          7.584041595458984,
          7.420145511627197,
          7.59140157699585,
          7.42656946182251,
          7.421034336090088,
          7.57625150680542,
          7.485799312591553,
          7.363924503326416,
          7.4276347160339355,
          7.34290075302124,
          7.5462799072265625,
          7.412034511566162,
          7.466501235961914
         ]
        }
       ],
       "layout": {
        "annotations": [
         {
          "showarrow": false,
          "text": "D1",
          "x": 1.8675513505935668,
          "y": 5.664523326605559,
          "yshift": 10
         },
         {
          "showarrow": false,
          "text": "D2",
          "x": 7.239335119724274,
          "xshift": 10,
          "y": 10.920576906204223
         }
        ],
        "height": 750,
        "shapes": [
         {
          "line": {
           "color": "#CFD8DC",
           "width": 2
          },
          "type": "line",
          "x0": 7.239335119724274,
          "x1": 7.239335119724274,
          "y0": 0.40846974700689315,
          "y1": 10.920576906204223
         },
         {
          "line": {
           "color": "#9E9E9E",
           "width": 2
          },
          "type": "line",
          "x0": 1.8675513505935668,
          "x1": 12.61111888885498,
          "y0": 5.664523326605559,
          "y1": 5.664523326605559
         }
        ],
        "template": {
         "data": {
          "bar": [
           {
            "error_x": {
             "color": "rgb(36,36,36)"
            },
            "error_y": {
             "color": "rgb(36,36,36)"
            },
            "marker": {
             "line": {
              "color": "white",
              "width": 0.5
             },
             "pattern": {
              "fillmode": "overlay",
              "size": 10,
              "solidity": 0.2
             }
            },
            "type": "bar"
           }
          ],
          "barpolar": [
           {
            "marker": {
             "line": {
              "color": "white",
              "width": 0.5
             },
             "pattern": {
              "fillmode": "overlay",
              "size": 10,
              "solidity": 0.2
             }
            },
            "type": "barpolar"
           }
          ],
          "carpet": [
           {
            "aaxis": {
             "endlinecolor": "rgb(36,36,36)",
             "gridcolor": "white",
             "linecolor": "white",
             "minorgridcolor": "white",
             "startlinecolor": "rgb(36,36,36)"
            },
            "baxis": {
             "endlinecolor": "rgb(36,36,36)",
             "gridcolor": "white",
             "linecolor": "white",
             "minorgridcolor": "white",
             "startlinecolor": "rgb(36,36,36)"
            },
            "type": "carpet"
           }
          ],
          "choropleth": [
           {
            "colorbar": {
             "outlinewidth": 1,
             "tickcolor": "rgb(36,36,36)",
             "ticks": "outside"
            },
            "type": "choropleth"
           }
          ],
          "contour": [
           {
            "colorbar": {
             "outlinewidth": 1,
             "tickcolor": "rgb(36,36,36)",
             "ticks": "outside"
            },
            "colorscale": [
             [
              0,
              "#440154"
             ],
             [
              0.1111111111111111,
              "#482878"
             ],
             [
              0.2222222222222222,
              "#3e4989"
             ],
             [
              0.3333333333333333,
              "#31688e"
             ],
             [
              0.4444444444444444,
              "#26828e"
             ],
             [
              0.5555555555555556,
              "#1f9e89"
             ],
             [
              0.6666666666666666,
              "#35b779"
             ],
             [
              0.7777777777777778,
              "#6ece58"
             ],
             [
              0.8888888888888888,
              "#b5de2b"
             ],
             [
              1,
              "#fde725"
             ]
            ],
            "type": "contour"
           }
          ],
          "contourcarpet": [
           {
            "colorbar": {
             "outlinewidth": 1,
             "tickcolor": "rgb(36,36,36)",
             "ticks": "outside"
            },
            "type": "contourcarpet"
           }
          ],
          "heatmap": [
           {
            "colorbar": {
             "outlinewidth": 1,
             "tickcolor": "rgb(36,36,36)",
             "ticks": "outside"
            },
            "colorscale": [
             [
              0,
              "#440154"
             ],
             [
              0.1111111111111111,
              "#482878"
             ],
             [
              0.2222222222222222,
              "#3e4989"
             ],
             [
              0.3333333333333333,
              "#31688e"
             ],
             [
              0.4444444444444444,
              "#26828e"
             ],
             [
              0.5555555555555556,
              "#1f9e89"
             ],
             [
              0.6666666666666666,
              "#35b779"
             ],
             [
              0.7777777777777778,
              "#6ece58"
             ],
             [
              0.8888888888888888,
              "#b5de2b"
             ],
             [
              1,
              "#fde725"
             ]
            ],
            "type": "heatmap"
           }
          ],
          "heatmapgl": [
           {
            "colorbar": {
             "outlinewidth": 1,
             "tickcolor": "rgb(36,36,36)",
             "ticks": "outside"
            },
            "colorscale": [
             [
              0,
              "#440154"
             ],
             [
              0.1111111111111111,
              "#482878"
             ],
             [
              0.2222222222222222,
              "#3e4989"
             ],
             [
              0.3333333333333333,
              "#31688e"
             ],
             [
              0.4444444444444444,
              "#26828e"
             ],
             [
              0.5555555555555556,
              "#1f9e89"
             ],
             [
              0.6666666666666666,
              "#35b779"
             ],
             [
              0.7777777777777778,
              "#6ece58"
             ],
             [
              0.8888888888888888,
              "#b5de2b"
             ],
             [
              1,
              "#fde725"
             ]
            ],
            "type": "heatmapgl"
           }
          ],
          "histogram": [
           {
            "marker": {
             "line": {
              "color": "white",
              "width": 0.6
             }
            },
            "type": "histogram"
           }
          ],
          "histogram2d": [
           {
            "colorbar": {
             "outlinewidth": 1,
             "tickcolor": "rgb(36,36,36)",
             "ticks": "outside"
            },
            "colorscale": [
             [
              0,
              "#440154"
             ],
             [
              0.1111111111111111,
              "#482878"
             ],
             [
              0.2222222222222222,
              "#3e4989"
             ],
             [
              0.3333333333333333,
              "#31688e"
             ],
             [
              0.4444444444444444,
              "#26828e"
             ],
             [
              0.5555555555555556,
              "#1f9e89"
             ],
             [
              0.6666666666666666,
              "#35b779"
             ],
             [
              0.7777777777777778,
              "#6ece58"
             ],
             [
              0.8888888888888888,
              "#b5de2b"
             ],
             [
              1,
              "#fde725"
             ]
            ],
            "type": "histogram2d"
           }
          ],
          "histogram2dcontour": [
           {
            "colorbar": {
             "outlinewidth": 1,
             "tickcolor": "rgb(36,36,36)",
             "ticks": "outside"
            },
            "colorscale": [
             [
              0,
              "#440154"
             ],
             [
              0.1111111111111111,
              "#482878"
             ],
             [
              0.2222222222222222,
              "#3e4989"
             ],
             [
              0.3333333333333333,
              "#31688e"
             ],
             [
              0.4444444444444444,
              "#26828e"
             ],
             [
              0.5555555555555556,
              "#1f9e89"
             ],
             [
              0.6666666666666666,
              "#35b779"
             ],
             [
              0.7777777777777778,
              "#6ece58"
             ],
             [
              0.8888888888888888,
              "#b5de2b"
             ],
             [
              1,
              "#fde725"
             ]
            ],
            "type": "histogram2dcontour"
           }
          ],
          "mesh3d": [
           {
            "colorbar": {
             "outlinewidth": 1,
             "tickcolor": "rgb(36,36,36)",
             "ticks": "outside"
            },
            "type": "mesh3d"
           }
          ],
          "parcoords": [
           {
            "line": {
             "colorbar": {
              "outlinewidth": 1,
              "tickcolor": "rgb(36,36,36)",
              "ticks": "outside"
             }
            },
            "type": "parcoords"
           }
          ],
          "pie": [
           {
            "automargin": true,
            "type": "pie"
           }
          ],
          "scatter": [
           {
            "fillpattern": {
             "fillmode": "overlay",
             "size": 10,
             "solidity": 0.2
            },
            "type": "scatter"
           }
          ],
          "scatter3d": [
           {
            "line": {
             "colorbar": {
              "outlinewidth": 1,
              "tickcolor": "rgb(36,36,36)",
              "ticks": "outside"
             }
            },
            "marker": {
             "colorbar": {
              "outlinewidth": 1,
              "tickcolor": "rgb(36,36,36)",
              "ticks": "outside"
             }
            },
            "type": "scatter3d"
           }
          ],
          "scattercarpet": [
           {
            "marker": {
             "colorbar": {
              "outlinewidth": 1,
              "tickcolor": "rgb(36,36,36)",
              "ticks": "outside"
             }
            },
            "type": "scattercarpet"
           }
          ],
          "scattergeo": [
           {
            "marker": {
             "colorbar": {
              "outlinewidth": 1,
              "tickcolor": "rgb(36,36,36)",
              "ticks": "outside"
             }
            },
            "type": "scattergeo"
           }
          ],
          "scattergl": [
           {
            "marker": {
             "colorbar": {
              "outlinewidth": 1,
              "tickcolor": "rgb(36,36,36)",
              "ticks": "outside"
             }
            },
            "type": "scattergl"
           }
          ],
          "scattermapbox": [
           {
            "marker": {
             "colorbar": {
              "outlinewidth": 1,
              "tickcolor": "rgb(36,36,36)",
              "ticks": "outside"
             }
            },
            "type": "scattermapbox"
           }
          ],
          "scatterpolar": [
           {
            "marker": {
             "colorbar": {
              "outlinewidth": 1,
              "tickcolor": "rgb(36,36,36)",
              "ticks": "outside"
             }
            },
            "type": "scatterpolar"
           }
          ],
          "scatterpolargl": [
           {
            "marker": {
             "colorbar": {
              "outlinewidth": 1,
              "tickcolor": "rgb(36,36,36)",
              "ticks": "outside"
             }
            },
            "type": "scatterpolargl"
           }
          ],
          "scatterternary": [
           {
            "marker": {
             "colorbar": {
              "outlinewidth": 1,
              "tickcolor": "rgb(36,36,36)",
              "ticks": "outside"
             }
            },
            "type": "scatterternary"
           }
          ],
          "surface": [
           {
            "colorbar": {
             "outlinewidth": 1,
             "tickcolor": "rgb(36,36,36)",
             "ticks": "outside"
            },
            "colorscale": [
             [
              0,
              "#440154"
             ],
             [
              0.1111111111111111,
              "#482878"
             ],
             [
              0.2222222222222222,
              "#3e4989"
             ],
             [
              0.3333333333333333,
              "#31688e"
             ],
             [
              0.4444444444444444,
              "#26828e"
             ],
             [
              0.5555555555555556,
              "#1f9e89"
             ],
             [
              0.6666666666666666,
              "#35b779"
             ],
             [
              0.7777777777777778,
              "#6ece58"
             ],
             [
              0.8888888888888888,
              "#b5de2b"
             ],
             [
              1,
              "#fde725"
             ]
            ],
            "type": "surface"
           }
          ],
          "table": [
           {
            "cells": {
             "fill": {
              "color": "rgb(237,237,237)"
             },
             "line": {
              "color": "white"
             }
            },
            "header": {
             "fill": {
              "color": "rgb(217,217,217)"
             },
             "line": {
              "color": "white"
             }
            },
            "type": "table"
           }
          ]
         },
         "layout": {
          "annotationdefaults": {
           "arrowhead": 0,
           "arrowwidth": 1
          },
          "autotypenumbers": "strict",
          "coloraxis": {
           "colorbar": {
            "outlinewidth": 1,
            "tickcolor": "rgb(36,36,36)",
            "ticks": "outside"
           }
          },
          "colorscale": {
           "diverging": [
            [
             0,
             "rgb(103,0,31)"
            ],
            [
             0.1,
             "rgb(178,24,43)"
            ],
            [
             0.2,
             "rgb(214,96,77)"
            ],
            [
             0.3,
             "rgb(244,165,130)"
            ],
            [
             0.4,
             "rgb(253,219,199)"
            ],
            [
             0.5,
             "rgb(247,247,247)"
            ],
            [
             0.6,
             "rgb(209,229,240)"
            ],
            [
             0.7,
             "rgb(146,197,222)"
            ],
            [
             0.8,
             "rgb(67,147,195)"
            ],
            [
             0.9,
             "rgb(33,102,172)"
            ],
            [
             1,
             "rgb(5,48,97)"
            ]
           ],
           "sequential": [
            [
             0,
             "#440154"
            ],
            [
             0.1111111111111111,
             "#482878"
            ],
            [
             0.2222222222222222,
             "#3e4989"
            ],
            [
             0.3333333333333333,
             "#31688e"
            ],
            [
             0.4444444444444444,
             "#26828e"
            ],
            [
             0.5555555555555556,
             "#1f9e89"
            ],
            [
             0.6666666666666666,
             "#35b779"
            ],
            [
             0.7777777777777778,
             "#6ece58"
            ],
            [
             0.8888888888888888,
             "#b5de2b"
            ],
            [
             1,
             "#fde725"
            ]
           ],
           "sequentialminus": [
            [
             0,
             "#440154"
            ],
            [
             0.1111111111111111,
             "#482878"
            ],
            [
             0.2222222222222222,
             "#3e4989"
            ],
            [
             0.3333333333333333,
             "#31688e"
            ],
            [
             0.4444444444444444,
             "#26828e"
            ],
            [
             0.5555555555555556,
             "#1f9e89"
            ],
            [
             0.6666666666666666,
             "#35b779"
            ],
            [
             0.7777777777777778,
             "#6ece58"
            ],
            [
             0.8888888888888888,
             "#b5de2b"
            ],
            [
             1,
             "#fde725"
            ]
           ]
          },
          "colorway": [
           "#1F77B4",
           "#FF7F0E",
           "#2CA02C",
           "#D62728",
           "#9467BD",
           "#8C564B",
           "#E377C2",
           "#7F7F7F",
           "#BCBD22",
           "#17BECF"
          ],
          "font": {
           "color": "rgb(36,36,36)"
          },
          "geo": {
           "bgcolor": "white",
           "lakecolor": "white",
           "landcolor": "white",
           "showlakes": true,
           "showland": true,
           "subunitcolor": "white"
          },
          "hoverlabel": {
           "align": "left"
          },
          "hovermode": "closest",
          "mapbox": {
           "style": "light"
          },
          "paper_bgcolor": "white",
          "plot_bgcolor": "white",
          "polar": {
           "angularaxis": {
            "gridcolor": "rgb(232,232,232)",
            "linecolor": "rgb(36,36,36)",
            "showgrid": false,
            "showline": true,
            "ticks": "outside"
           },
           "bgcolor": "white",
           "radialaxis": {
            "gridcolor": "rgb(232,232,232)",
            "linecolor": "rgb(36,36,36)",
            "showgrid": false,
            "showline": true,
            "ticks": "outside"
           }
          },
          "scene": {
           "xaxis": {
            "backgroundcolor": "white",
            "gridcolor": "rgb(232,232,232)",
            "gridwidth": 2,
            "linecolor": "rgb(36,36,36)",
            "showbackground": true,
            "showgrid": false,
            "showline": true,
            "ticks": "outside",
            "zeroline": false,
            "zerolinecolor": "rgb(36,36,36)"
           },
           "yaxis": {
            "backgroundcolor": "white",
            "gridcolor": "rgb(232,232,232)",
            "gridwidth": 2,
            "linecolor": "rgb(36,36,36)",
            "showbackground": true,
            "showgrid": false,
            "showline": true,
            "ticks": "outside",
            "zeroline": false,
            "zerolinecolor": "rgb(36,36,36)"
           },
           "zaxis": {
            "backgroundcolor": "white",
            "gridcolor": "rgb(232,232,232)",
            "gridwidth": 2,
            "linecolor": "rgb(36,36,36)",
            "showbackground": true,
            "showgrid": false,
            "showline": true,
            "ticks": "outside",
            "zeroline": false,
            "zerolinecolor": "rgb(36,36,36)"
           }
          },
          "shapedefaults": {
           "fillcolor": "black",
           "line": {
            "width": 0
           },
           "opacity": 0.3
          },
          "ternary": {
           "aaxis": {
            "gridcolor": "rgb(232,232,232)",
            "linecolor": "rgb(36,36,36)",
            "showgrid": false,
            "showline": true,
            "ticks": "outside"
           },
           "baxis": {
            "gridcolor": "rgb(232,232,232)",
            "linecolor": "rgb(36,36,36)",
            "showgrid": false,
            "showline": true,
            "ticks": "outside"
           },
           "bgcolor": "white",
           "caxis": {
            "gridcolor": "rgb(232,232,232)",
            "linecolor": "rgb(36,36,36)",
            "showgrid": false,
            "showline": true,
            "ticks": "outside"
           }
          },
          "title": {
           "x": 0.05
          },
          "xaxis": {
           "automargin": true,
           "gridcolor": "rgb(232,232,232)",
           "linecolor": "rgb(36,36,36)",
           "showgrid": false,
           "showline": true,
           "ticks": "outside",
           "title": {
            "standoff": 15
           },
           "zeroline": false,
           "zerolinecolor": "rgb(36,36,36)"
          },
          "yaxis": {
           "automargin": true,
           "gridcolor": "rgb(232,232,232)",
           "linecolor": "rgb(36,36,36)",
           "showgrid": false,
           "showline": true,
           "ticks": "outside",
           "title": {
            "standoff": 15
           },
           "zeroline": false,
           "zerolinecolor": "rgb(36,36,36)"
          }
         }
        },
        "title": {
         "font": {
          "color": "Black",
          "size": 22
         },
         "text": "<b>Documents and Topics</b>",
         "x": 0.5,
         "xanchor": "center",
         "yanchor": "top"
        },
        "width": 1200,
        "xaxis": {
         "autorange": true,
         "range": [
          1.5940585052953424,
          12.627562262561785
         ],
         "type": "linear",
         "visible": false
        },
        "yaxis": {
         "autorange": true,
         "range": [
          -0.14550237861338544,
          11.138335174778451
         ],
         "type": "linear",
         "visible": false
        }
       }
      },
      "image/png": "[encoded data removed]",
      "text/html": [
       "<div>                            <div id=\"2e09918c-fc62-4f0f-aa13-a05893fcc738\" class=\"plotly-graph-div\" style=\"height:750px; width:1200px;\"></div>            <script type=\"text/javascript\">                require([\"plotly\"], function(Plotly) {                    window.PLOTLYENV=window.PLOTLYENV || {};                                    if (document.getElementById(\"2e09918c-fc62-4f0f-aa13-a05893fcc738\")) {                    Plotly.newPlot(                        \"2e09918c-fc62-4f0f-aa13-a05893fcc738\",                        [{\"hoverinfo\":\"text\",\"hovertext\":[\"in the 2019 corruption perceptions index of transparency international, ireland scored 74\\u002f100 and ranked 8th in the eu and 18th globally .\",\"the prohibition applies regardless of the amount.\",\"\\\"In practice, municipalities choose to incorporate as cities in order to enjoy purportedly easier access to funds and enhanced appeal to investors.\",\"financial expertise centre (2019), fec annual plan 2020.\",\"council of the european union (2002), council framework decision of 13 june 2002 on the european arrest warrant and the surrender procedures between member states.\",\"dutch government, measures against undermining criminality.\",\"while coordination mechanisms are in place, a pronounced departmentalism challenges coordination and efficient planning .\",\"corporate criminal liability has been introduced in the revised legislation in 2018, and a track record is still to be established.\",\"national ombudsman (2020), proper provision of information is the basis of access to justice \\u2013 bottlenecks in the provision of information about penalties and dismissal decisions.\",\"its service is confidential and free of charge.\",\"centre for media pluralism and media freedom (2020), 2020 media pluralism monitor.\",\"\\\"It remains to be seen whether this development will compel adequate attention from both the local and national government to care for the country\\u2019s most prominent tourist destination.\",\"the threshold for dutch donations that have to be disclosed would remain at eur 4 500.\",\"\\\"The federal authorities have limited ability to impose policy decisions in Chechnya, where Chechen president Ramzan Kadyrov has gained unchecked power in exchange for keeping Chechnya within the Russian Federation.\",\"\\\"In September 2020, the Times of Israel reported that a publicly owned Israeli aerospace firm transferred at least $155 million to that slush fund, though the firm\\u2019s specific purpose was unclear.\",\"european commission (2013, 2014, 2015, 2016, 2017, 2018, 2019, 2020), the eu justice scoreboard.\",\"these revelations triggered, amongst others, the resignation of the prosecutor general in march 2019 .\",\"\\\"However, their fiscal policy choices in particular have been limited in recent years by the main creditor institutions that have guided the country through its public debt crisis\\u2014the European Commission, the European Central Bank, and the International Monetary Fund.\",\"the commission services held virtual meetings in may and june 2020 with:\",\"furthermore, sipo is responsible for managing the disclosure of interests and tax clearance regimes, as well as for investigating and reporting on possible contraventions of the ethics legislation.\",\"council of europe: committee of ministers (2019), resolution cm\\u002fresdh(2016)358 of the committee of ministers on excessive length of criminal and civil proceedings and lack of effective remedies.\",\"\\\"Investigative reports published by foreign media in recent years have revealed evidence that Aliyev family used their positions to amass large private fortunes.\",\"civicus, monitor tracking civic space: france.\",\"\\\"Wirecard filed for bankruptcy after its accounting firm refused to sign off on financial statements over evidence of fraud.\",\"compliance with the act is generally good.\",\"high authority for the transparency of public life \\u2013 hatvp (2019), activity report of 2018. .\",\"\\\"Tax officials have been implicated in tax evasion schemes, which seriously complicate the government\\u2019s fiscal reform efforts.\",\"nan\",\"\\\"For example, the prosecutor\\u2019s office has been reluctant to investigate long-standing allegations that the government misused development funds provided by the EU.\",\"\\\"The parliament in power through 2018 included some of the country\\u2019s wealthiest business leaders, who continued their private entrepreneurial activities despite conflicts of interest.\",\"european commission (2020), report on the implementation of council framework decision of 13 june 2002 on the european arrest warrant and surrender procedures between member states.\",\"european network of councils for the judiciary (2020), contribution from the european network of council for the judiciary for the stakeholder consultation for the 2020 rule of law report.\",\"* the list of contributions received in the context of the consultation for the 2020 rule of law report can be found at (com website).\",\"\\\"Greece was expected to exit its last bailout agreement with the institutions in 2018.\",\"\\\"Cvetanoski, Ilcho, \\u201cOhrid and its lake, a UNESCO heritage in danger\\u201d, Osservatorio Balcani e Caucaso Transeuropa, 24 September 2019, .\",\"the aim of the new law is to remove shortcomings of the legislation as arising from the greco recommendations .\",\"\\\"While Andersen initially resisted calls to resign, she did so later in March.\",\"annex i: list of sources in alphabetical order.\",\"centre for media pluralism and media freedom (2020), 2020 media pluralism monitor.\",\"annex ii: country visit to ireland\",\"\\\"The directive was billed as an effort to reduce corporate tax avoidance within the EU.\",\"transparency international (2017), speak up report.\",\"\\\"Nominet, a nonprofit company operating in the public interest, manages access to the .uk, .wales, and .cymru country domains.\",\"\\\"The bill came up after the European Court of Justice (ECJ) ruled in a theft case where the investigating authority had access to case data, which the ECJ found incompatible with EU law.\",\"\\\"The campaign intensified in late July after TVSA aired a feature film that allegedly misinterpreted the country\\u2019s wartime events.\",\"a member can only be suspended or dismissed due to incompetence, unsuitability for the position fulfilled or due to other compelling reasons related to the person concerned.\",\"slovakia scored 50\\u002f100 over the past three years in a row in transparency international\\u2019s corruption perception index, ranking 16th in the european union and 59th globally .\",\"minister for legal protection sander dekker (2020), answer to questions of the member of the house of representatives groothuizen about algorithmic analysis of judgments.\",\"this raises questions about the need to register donations and their control.\",\"\\\"In 2017, just prior to the election, media broke the story that former prime minister Benediktsson sold his shares in Glitnir Bank just hours before the financial crash of 2008.\",\"\\\"The EC pointed to public authorities who have prematurely or falsely made references to guilt, and the lack of appropriate measures available in those instances.\",\"\\\"While the country succeeded in securing a formal invitation to join NATO, the second promise offered to citizens regarding the name change\\u2014starting accession talks with the European Union\\u2014was blocked at the EU Council in October.\",\"\\\"Officials also made efforts to advance a stalled drive to streamline the operations of government ministries.\",\"\\\"The regime relies on abuse of state resources, corrupt patronage networks, and control over the security forces and criminal justice system to maintain its political dominance.\",\"* the commission also met the following organisations in a number of horizontal meetings:\",\"additionally, the programming law for justice 2018-2022 seeks to further digitalise legal procedures, and a process is ongoing to facilitate the online submission of requests for legal aid.\",\"\\\"In 2018, Prime Minister Jakobsd\\u00f3ttir commissioned a report to garner recommendations for improving public confidence in the government.\",\"state commission on the parliamentary system in the netherlands (2018), democracy and the rule of law in equilibrium \\u2013 final report of the state commission on the parliamentary system in the netherlands.\",\"\\u2013 final report of the disposition times in movement project.\",\"minister for justice and security ferdinand grapperhaus and minister for legal protection stander dekker (2020), answer to questions of the members of the house of representatives buitenweg and van den berge on criminal justice during times of covid-19.\",\"civicus monitor \\u2013 tracking civic space: slovakia.\",\"\\\"Transparency International\\u2019s Hungarian chapter has reported that a number of companies with close ties to the government are supported primarily by public funds.\",\"\\\"On a scale of 1 to 10, half of those surveyed gave marks in the range of 1 to 3 on the question of whether the Council acts upon proposals from organizations that are not already part of the Council.\",\"irish times (2018), regional newspapers reject claims about government \\u2018advertorials\\u2019.\",\"civicus, monitor tracking civic space: the netherlands.\",\"ministry of justice (2020), breaches of integrity: statistical elements.\",\"\\\"Kjurchievska, Liljana, \\u201cLawmakers adopt draft law on amnesty over 27 April 2017 incidents in Parliament\\u201d, MIA, 18 December 2018, .\",\"irish law society (2018), contribution to the review of the administration of civil justice of february 2018. .\",\"tax justice network (2020), 2020 financial secrecy index.\",\"magistrates union (2020), automatic extension of provisional detentions: after the scandal and the mess, nonchalance!\",\"\\\"For example, the municipality of Bile\\u0107a is in the red to the tune of 15 million BAM ($8.8 million) and faces bankruptcy, according to its municipal leadership.\",\"minister for legal protection sander dekker (17 september 2019), letter to the house of representatives about ways in which to create a strong justice system.\",\"\\\"However, the incorporation of new cities was not driven by population or economic growth but, rather, came as a result of lax laws defining any area of \\u201ccultural and historical importance\\u201d as a city.\",\"a whole-of-government approach to regulatory policy making was established in the better regulation strategy and has helped to strengthen the methodological basis for assessing the economic impact of regulation.\",\"\\\"The situation is particularly desperate in the RS the entity government\\u2019s decision to support 19 of the poorest municipalities with \\u20ac500 each is illustrative of the poverty in BiH\\u2019s more remote areas as well as authorities\\u2019 inability to deal with it.\",\"members of the house of representatives maarten groothuizen and michiel van nispen (2019), motion about potential vulnerabilities in the law on judicial organization.\",\"courts service, long-term strategic vision to 2030: supporting access to justice in a modern, digital ireland.\",\"minister for justice and security ferdinand grapperhaus (2020), answer to the question of the member of the house of representatives groothuizen about the report that the ministry of justice is failing businesses in corruption cases.\",\"european parliament resolution of 28 march 2019 on the situation of the rule of law and the fight against corruption in the eu, specifically in malta and slovakia.\",\"\\\"Massive \\u201cbrain drain\\u201d persisted in BiH, although the number of emigrants in 2019 was hard to estimate.\",\"\\\"The establishment of the community remained at an impasse at the end of 2020.\",\"this concerns state employees, including ministers, secretaries of state and heads of central state administration bodies.\",\"\\\"The government\\u2019s popularity suffered an additional hit in the fall when electricity prices rose to record highs following the insufficient capacity to generate electricity in the NordPool energy market.\",\"\\\"Another estimate, published by the World Bank in its Migration and Brain Drain report, showed that as many as 49.5 percent of BiH citizens now live abroad.\",\"* the list of contributions received in the context of the consultation for the 2020 rule of law report can be found at (com website).\",\"* the commission also met the following organisations in a number of horizontal meetings:\",\"minister for justice and security ferdinand grapperhaus and minister for legal protection stander dekker (2020), letter to the house of representatives on contours of the approach to address backlogs in criminal justice.\",\",\",\"official gazette of the kingdom of the netherlands (2019), decree of 28 november 2019, amending the decree on police data concerning theme-processing to combat official bribery and amending the decree on police data for special investigative forces concerning theme-processing to combat human trafficking.\",\"\\\"Some former KLA members have been convicted by other courts.\",\"\\\"According to the National Audit Office, this money was distributed without assessing the varying local effects of the crisis, and portions intended for economic recovery were delayed.\",\"the investigation and monitoring of ethics compliance faces some legislative and structural obstacles.\",\"european network of national human rights institutions \\u2013 ennrhi (2020), the rule of law in the european union.\",\"the commission services held virtual meetings in june 2020 with:\",\"\\\"Among mobile service providers, EE (owned by BT since 2016) leads the market with 29 percent of subscribers, followed by O2 (27 percent), Vodafone (19 percent), Three (11 percent), and Tesco (8.5 percent).\",\"centre for media pluralism and media freedom (2020), 2020 media pluralism monitor.\",\"* the commission also met the following organisations in a number of horizontal meetings:\",\"annex i: list of sources in alphabetical order.\",\"reporters without borders, slovakia.\",\"ministry of justice and security, integral assessment framework for policy and regulation.\",\"european parliament research service, better regulation practices in national parliaments.\",\"\\\"The content can still be accessed on private computers.\",\"the legal framework remains the same.\",\"\\\"Two high-profile corruption cases involving former prime ministers reached the legally prescribed statute of limitations during the year, further contributing to the image of political impunity in the country: The trials against former PM Gruevski (VMRO\\u2013DPMNE, 2006\\u201316), in the SJO case \\u201cTrajectory,\\u201d and former PM Vlado Buchkovski (SDSM, 2004\\u201306), accused of illegal procurement while serving as Minister of Defense in 2001, ended without court decisions in October  and November,  respectively.\",\"this issue has also been highlighted by greco, which recommends the provision of appropriate guidance on conflicts of interest and integrity-related matters and that persons entrusted with top executive functions declare on an ad hoc basis any conflicts between private interests and official functions, as well as making their financial interests public on a regular basis.\",\"\\\"After Pashinyan took office as prime minister in May, law enforcement agencies initiated a number of high-profile corruption investigations, with targets including Yerevan mayor Taron Margaryan; parliament member Manvel Grigoryan and his son, Ejmiatsin mayor Karen Grigoryan; and Sargsyan\\u2019s brother and nephew.\",\"annex ii: country visit to france\",\"\\\"In a 2017 progress report, GRECO notes that eighteen of the twenty recommendations have now been satisfactorily implemented.\",\"the commission services held virtual meetings in may and june 2020 with:\",\"\\\"In October 2020, the Hoti government abolished the Special Anti-Corruption Taskforce that had operated under the Kosovo Police for more than 10 years and had investigated cases of high-level corruption among senior politicians.\",\"policy briefings of the research service of the parliament include an appraisal of the ex-ante impact assessment prepared by the government.\",\"in the latest corruption perceptions index of transparency international, the netherlands scored 82\\u002f100 and was ranked 4th in the european union and 8th globally.\",\"\\\"Ofcom, \\u201cThe Communications Market Report 2017,\\u201d August 3, 2017 p.147  Ofcom, \\u201cWholesale Local Access Market Review: Statement\\u2013Volume 1,\\u201d March 28,2018  Ofcom, Consolidated Version of General Conditions of Entitlement (London: Ofcom), December 16, 2013,  Ofcom, \\u201cThe Communications Market Report 2016,\\u201d p.153,\",\"the review group is due to present its findings later in autumn 2020.\",\"\\\"ISPs are not subject to licensing, but they must comply with general conditions set by Ofcom, such as having a recognized code of practice and being a member of a recognized alternative dispute-resolution scheme.\",\"reporters without borders, ireland.\",\"annex i: list of sources in alphabetical order*\",\"the authority disposes of its own budget and the resources allotted are considered adequate for the accomplishment of its tasks .\",\"\\\"Relationships between politicians and other oligarchs have also historically influenced policy and contributed to selective application of the law.\",\"annex ii: country visit to the netherlands\",\"france scores 69\\u002f100 on the latest transparency corruption perception index, ranking 9th in the european union and 23rd globally .\",\"high authority for the transparency of public life \\u2013 hatvp, public registry .\",\"\\\"To alleviate the pandemic-related pressures on local governments, municipalities were allocated nearly \\u20ac182 million in 2020 and 2021 as crisis support.\",\"legal aid is financed mainly through public funds, and around 38% of citizens would qualify for legal aid.\",\"irish human rights and equality commission (2019), ireland and the convention on the elimination of racial discrimination, submission to the united nations committee on the elimination of racial discrimination on ireland\\u2019s combined 5th and 6th report, october 2019.\",\"nan\",\"\\\"An issue plaguing many local governments is a surplus of public employees, which requires a large percentage of municipal and city budgets to be spent on wages.\",\"annex: list of sources in alphabetical order*\",\"\\\"According to the US State Department\\u2019s 2020 Trafficking in Persons Report, migrants from Eastern Europe, Africa, and Asia are targeted for sex trafficking and forced labor.\",\"\\\"This situation has left some municipalities struggling with debt.\",\"whilst the final report has already been delivered, an additional research report is due to be published in september.\",\"\\\"A report by the NIK found that in many, especially rural, parts of Poland, gynecologists are rare.\",\"there is a strong integrity culture in the public administration.\",\"the political cycle has a high impact on staff turnover .\",\"greco has welcomed these proposed constitutional changes.\",\"civicus, monitor tracking civic space: ireland.\",\"\\\"Advocacy organizations said that the changes often reduced the country\\u2019s standards to the minimum allowed by the European Union.\",\"freedom house (2020), freedom in the world 2020.\",\"two such reports have already been produced: one covering the period of 2012-2014 and the other covering 2015-2017 .\",\"steering group disposition times (2019), disposition times in movement!\",\"\\\"In July, the government approved a law to outlaw tax evasion, making this practice punishable by prison sentences of between three months and three years.\",\"annex ii: country visit to slovakia\",\"* the list of contributions received in the context of the consultation for the 2020 rule of law report can be found at (com website).\",\"\\\"Andorra continued to make efforts to address longstanding concerns about abuse of its banking system in 2017.\",\"* the commission also met the following organisations in a number of horizontal meetings:\",\"council of the bar of ireland (2019), submission to the joint committee on justice and equality on access to justice and legal costs of 25 november 2019.\",\"dutch bar association, dutch association for the judiciary, social work netherlands, federation on shelter, ribw alliance (2019), stand up for the rule of law!\",\"* the list of contributions received in the context of the consultation for the 2020 rule of law report can be found at (com website).\",\"\\\"Problems in the quality of local democratic governance are perhaps best illustrated by the case of Ohrid, which risked being reclassified by UNESCO as an \\u201cendangered\\u201d heritage site in 2019.\",\"house for whistleblowers (2019), annual report 2019 house for whistleblowers.\",\"\\\"Some evaluations, like that of the Union for Sustainable Return and Integration, showed that approximately 30,000 people left the country during the first half of the year, mostly for Western Europe.\",\"the commission services held virtual meetings in may and june 2020 with:\",\"european commission, report from the commission to the european parliament and the council assessing the extent to which the member states have taken the necessary measures in order to comply with council framework decision 2003\\u002f568\\u002fjha of 22 july 2003 on combating corruption in the private sector, com(2019)355 final.\",\"\\\"It had interviewed Hoti in 2019 as part of an ongoing corruption investigation.\",\"\\\"Legislation passed in 2012 fully opened up the economy to foreign investors as well, allowing noncitizens to own up to 100 percent of any commercial entity.\",\"\\\"Mobile virtual network operators including Tesco provide service using the infrastructure owned by one of the other companies.\",\"\\\"In its 2019 report, the European Commission concluded that the state could improve financial sustainability for these organizations with tax harmonization and more predictable public budgeting.\",\"\\\"BNS, ERR News, \\u201eJ\\u00fcri Ratas resigns as prime minister following loan scandal\\u201c, 13 January 2021,  Sulev Vedler, \\u201eRetsidiivne Keskerakond.\",\"this has also been highlighted by greco.\",\"personal injuries commission (2018), second and final report, department of business, enterprise and innovation of ireland, july 2018.\",\"an explanatory note attached to legislative proposals discusses constitutionality, and manuals exist for civil servants in this regard.\",\"\\\"Years of neglect of the natural and cultural heritage of the city, as well as illegal construction and pollution, had prompted UNESCO to issue a \\u201clast warning\\u201d and to propose a series of recommendations to be fulfilled with its status reassessed in 2020.\",\"centre for media pluralism and media freedom (2020), 2020 media pluralism monitor.\",null],\"marker\":{\"color\":\"#CFD8DC\",\"opacity\":0.5,\"size\":5},\"mode\":\"markers+text\",\"name\":\"other\",\"showlegend\":false,\"x\":[9.69389533996582,7.0075364112854,6.667136192321777,5.799829483032227,4.877871513366699,7.315428733825684,5.682765960693359,8.46265983581543,7.662850379943848,3.5025055408477783,2.2153048515319824,6.1805739402771,7.8123650550842285,7.880849838256836,7.085152626037598,5.460474014282227,5.095210552215576,6.2730865478515625,4.681760787963867,8.002716064453125,4.619473934173584,7.1529388427734375,8.41712760925293,7.33054256439209,7.550043106079102,7.937893867492676,7.243118762969971,3.8965604305267334,8.17474365234375,7.18583869934082,5.031665325164795,5.626482963562012,6.121738910675049,7.605522155761719,6.1365814208984375,8.184717178344727,7.2073283195495605,7.805504322052002,2.206904411315918,7.935750961303711,6.201082229614258,7.9599080085754395,3.5262880325317383,5.12117338180542,7.771727561950684,7.6583709716796875,9.73518180847168,5.358641147613525,6.920631408691406,7.219610691070557,6.164444446563721,7.513838291168213,6.602206707000732,7.856653690338135,4.7421345710754395,6.388147830963135,5.871256351470947,7.26584529876709,6.216089725494385,5.361631393432617,8.417000770568848,7.944189071655273,4.7723917961120605,6.777737140655518,8.446682929992676,7.85536527633667,6.877588272094727,6.582396030426025,5.562932968139648,4.701443672180176,6.721591949462891,5.398955821990967,6.5739521980285645,7.424232482910156,6.659480094909668,7.734522819519043,6.49169921875,7.91030216217041,4.808302879333496,6.920639514923096,6.290352821350098,7.395016670227051,6.640111446380615,6.989877700805664,6.161844253540039,4.765355587005615,5.397407054901123,3.865492820739746,7.3189191818237305,7.558085918426514,6.833435535430908,8.098910331726074,5.857888698577881,4.690134525299072,3.55686092376709,2.204911947250366,4.757139205932617,7.80626106262207,3.106947660446167,7.469677448272705,6.859138011932373,3.4339146614074707,8.421626091003418,7.9107184410095215,8.239377975463867,7.944966793060303,7.937877178192139,8.144916534423828,4.677636623382568,7.8756184577941895,7.257328033447266,9.725398063659668,3.5585436820983887,5.712012767791748,3.519400119781494,3.1255905628204346,7.804531097412109,5.70486307144165,7.822370529174805,7.964089870452881,9.724026679992676,7.924712657928467,6.684347629547119,9.691360473632812,6.441720962524414,3.929258108139038,6.671840667724609,7.806236267089844,5.875196933746338,6.683418273925781,5.8049750328063965,7.472402572631836,8.031065940856934,7.275373458862305,8.131571769714355,8.432299613952637,6.434361457824707,2.1971192359924316,5.829035758972168,5.3129987716674805,7.101722240447998,7.9499382972717285,6.125539302825928,8.164570808410645,4.71622371673584,6.432967185974121,7.318052768707275,6.120576858520508,6.155211448669434,5.963681697845459,6.9715895652771,4.6910552978515625,5.131500244140625,7.864701747894287,6.860641002655029,3.537914276123047,6.111532688140869,7.271903038024902,8.186688423156738,6.869758129119873,6.87383508682251,6.142653465270996,2.2071733474731445,6.492600917816162],\"y\":[5.373631000518799,5.136637210845947,6.621209144592285,3.873384475708008,3.0374062061309814,3.230440616607666,5.019683837890625,5.795731067657471,5.206459045410156,4.488796234130859,3.835453748703003,6.188708782196045,3.7826344966888428,7.29835844039917,7.3573198318481445,2.1317617893218994,4.2362961769104,4.556347370147705,4.737819671630859,5.058274269104004,3.10210919380188,7.4374823570251465,1.8088053464889526,5.946218967437744,4.678682327270508,4.359403133392334,5.813570976257324,4.232407093048096,6.1463141441345215,7.3783650398254395,2.9949142932891846,2.8694329261779785,3.227695941925049,7.770803451538086,6.234604835510254,4.041262626647949,6.160487651824951,0.48167794942855835,3.8396406173706055,2.4263672828674316,4.4997029304504395,4.333502769470215,4.351879119873047,1.3274760246276855,6.6640305519104,5.383950710296631,5.369633674621582,2.997687339782715,5.756136417388916,7.511181831359863,5.759058952331543,9.496153831481934,5.202864170074463,7.226814270019531,4.812328815460205,2.9542236328125,4.297743320465088,3.1662776470184326,3.4412059783935547,2.9950923919677734,1.7901450395584106,4.435666561126709,4.824406147003174,2.5092220306396484,1.7610046863555908,5.223917007446289,4.592528343200684,2.5310068130493164,2.4995546340942383,3.1413352489471436,6.781036376953125,3.065948724746704,6.523824691772461,4.456826210021973,6.63323974609375,5.351934909820557,2.61920166015625,6.053897857666016,3.32389497756958,5.549417972564697,5.201809406280518,5.13886022567749,6.6509318351745605,5.572976589202881,3.2004640102386475,4.838068008422852,3.0569844245910645,4.255107402801514,3.1556084156036377,8.510682106018066,6.022626876831055,5.0406622886657715,2.17189621925354,4.761036396026611,4.46896505355835,3.8404242992401123,4.8318047523498535,0.48055264353752136,3.108276844024658,4.522831439971924,4.120395183563232,4.444628715515137,5.6917219161987305,6.112980365753174,4.944266319274902,6.326566219329834,2.4225752353668213,3.862426280975342,4.736355304718018,6.885000228881836,4.412821292877197,5.370792865753174,4.427525043487549,4.191816329956055,4.472464561462402,3.0863513946533203,0.48157423734664917,4.991293907165527,7.213447570800781,2.4144625663757324,5.374292850494385,4.42038106918335,6.6495184898376465,6.218478202819824,2.3041632175445557,4.204059600830078,6.619451522827148,0.4834402799606323,2.11006498336792,6.660905361175537,4.110239505767822,6.859542369842529,5.230695724487305,5.422638416290283,3.9588019847869873,1.7856839895248413,4.553735256195068,3.8522467613220215,4.142035007476807,4.395930290222168,5.333160877227783,2.385455846786499,3.2201120853424072,6.229579925537109,4.788012504577637,2.5310161113739014,3.2112960815429688,3.2222230434417725,6.194545745849609,3.727848768234253,5.563504695892334,4.746720314025879,3.1527762413024902,6.844922065734863,5.770552158355713,4.50113582611084,4.459212303161621,7.667797088623047,3.9349048137664795,2.4095633029937744,4.402493953704834,6.206738471984863,3.8405356407165527,4.553815841674805],\"type\":\"scattergl\"},{\"hoverinfo\":\"text\",\"hovertext\":[\"\\\"Meanwhile, Serbs living in Kosovo do not benefit from Serbia\\u2019s visa waiver agreement with the EU, making travel with a Serbian passport relatively difficult for those living in the enclaves.\",\"\\\"Blazevska, Katerina, \\u201cHow Pendarovski Got Second Shot at North Macedonia Presidency\\u201d, Balkan Insight, 5 March 2019, .\",\"\\\"Stojanchova, Pelagija, \\u201c\\u041c\\u0430\\u043b\\u043a\\u0443 \\u043f\\u0435\\u0440\\u0441\\u043e\\u043d\\u0430\\u043b \\u0438 \\u043f\\u0430\\u0440\\u0438, \\u043c\\u043d\\u043e\\u0433\\u0443 \\u043f\\u0440\\u0435\\u0434\\u043c\\u0435\\u0442\\u0438 \\u0437\\u0430 \\u043a\\u043e\\u0440\\u0443\\u043f\\u0446\\u0438\\u0458\\u0430\\u201d [\\u201cLittle staff and money, a lot of corruption cases\\u201d], 23 July 2019, Radio Slobodna Evropa, .\",\"\\\"Kosovars have also been hindered from traveling to Bosnia and Herzegovina by the need for visas in recent years.\",\"\\\"Cyril and Methodius University, Skopje.\",\"\\\"Oligarch Alisher Usmanov sued, claiming that Navalny\\u2019s charge that he had given Medvedev a $50 million mansion as a gift was not true.\",\"\\\"Author: Jovan Bliznakovski is an assistant in political science at the Institute for Sociological, Political, and Juridical Research (ISPJR), Ss.\",\"\\\"Tha\\u00e7i resigned from his position and the four were being held in detention in The Hague at year\\u2019s end.\",\"\\\"He produces and cohosts Sarajevo Calling, a bi-weekly podcast on current and past sociopolitical events in countries of the Western Balkans.\",\"\\\"Sirachevski, Gavril, \\u201c\\u0410\\u041d\\u0422\\u0418\\u041a\\u041e\\u0420\\u0423\\u041f\\u0426\\u0418\\u041e\\u041d\\u0415\\u0420\\u0418\\u0422\\u0415 \\u040c\\u0415 \\u0413\\u041e \\u0418\\u0421\\u041f\\u0418\\u0422\\u0423\\u0412\\u0410\\u0410\\u0422 \\u0421\\u041a\\u0410\\u041d\\u0414\\u0410\\u041b\\u041e\\u0422 \\u0421\\u041e \\u041d\\u0410\\u0412\\u041e\\u0414\\u041d\\u041e\\u0422\\u041e \\u041c\\u0415\\u0421\\u0422\\u0415\\u040a\\u0415 \\u0422\\u0415\\u041d\\u0414\\u0415\\u0420 \\u041e\\u0414 \\u0420\\u0410\\u0428\\u041a\\u041e\\u0412\\u0421\\u041a\\u0418 - \\u0417\\u0410\\u0415\\u0412 \\u0418 \\u0414\\u0415\\u041d\\u0415\\u0421\\u041a\\u0410 \\u0412\\u041e \\u041e\\u0414\\u0411\\u0420\\u0410\\u041d\\u0410\\u201d [\\u201cThe anti-corruptioners will investigate the scandal with the fixed tender by Rashkovski \\u2013 Zaev today in defense\\u201d], TV24, 4 July 2019, .\",\"\\\"Chalovski, Vlatko, \\u201c\\u041f\\u043e\\u043b\\u0438\\u0442\\u0438\\u0447\\u043a\\u0438\\u043e\\u0442 \\u043f\\u0430\\u0437\\u0430\\u0440 \\u0432\\u043e \\u0421\\u043e\\u0431\\u0440\\u0430\\u043d\\u0438\\u0435 \\u0433\\u043e \\u043a\\u043e\\u0447\\u0438 \\u0444\\u0443\\u043d\\u043a\\u0446\\u0438\\u043e\\u043d\\u0438\\u0440\\u0430\\u045a\\u0435\\u0442\\u043e \\u043d\\u0430 \\u043d\\u0435\\u043a\\u043e\\u043b\\u043a\\u0443 \\u0434\\u0440\\u0436\\u0430\\u0432\\u043d\\u0438 \\u0438\\u043d\\u0441\\u0442\\u0438\\u0442\\u0443\\u0446\\u0438\\u0438\\u201d [\\u201cThe political bargaining in the Assembly blocks the functioning of several state institutions\\u201d], Investigative Reporting Lab Macedonia, 17 October 2019, .\",\"\\\"Jakov Marusic, Sinisa, \\u201cNorth Macedonia Opposition Backs \\u2018Non-Partisan\\u2019 Professor for President\\u201d, Balkan Insight, 27 February 2019, .\",\"\\\"Ajla Obradovi\\u0107, \\u201cConsequences of one year of deadlock in BiH\\u201d (\\u201cPosljedice godine dana zastoja u BiH\\u201d), Radio Free Europe, October 7, 2019,  \\\"\\\"Bakir Izetbegovi\\u0107: no naming of PM candidate without the ANP\\\"\\\" (\\\"\\\"Bakir Izetbegovi\\u0107: Nema imenovanja mandatara bez ANP-a\\\"\\\"), Anadolija Agency, August 18, 2019,  \\u201cBosnian Parliament Breaks 14-Month Impasse, OKs Government,\\u201d Radio Free Europe\\u002fRadio Liberty, 23 December 2019,  An\\u0111elka Markovi\\u0107, \\\"\\\"The RS reserve police force: why, how much...\\\"\\\" (\\\"\\\"Rezervni sastav policije RS: Zbog \\u010dega, koliko...\\\"\\\"), N1, April 4, 2019,  Dalio Sijah, \\u201cWhat comes next after the Interior Ministry of the RS gave up on forming its reserve unit?\\\"\\\"\",\"\\\"Jakov Marusic, Sinisa, \\u201cNorth Macedonia Woos Opposition to Prolong Special Prosecution\\u201d, Balkan Insight, 11 March 2019, .\",\"\\\"Ognenovska, Simona and Jasmina Chaushoska, \\u201c\\u0418\\u0437\\u0432\\u0435\\u0448\\u0442\\u0430\\u0458 \\u0437\\u0430 \\u043e\\u0432\\u043e\\u0437\\u043c\\u043e\\u0436\\u0443\\u0432\\u0430\\u0447\\u043a\\u0430 \\u043e\\u043a\\u043e\\u043b\\u0438\\u043d\\u0430 \\u0437\\u0430 \\u0440\\u0430\\u0437\\u0432\\u043e\\u0458 \\u043d\\u0430 \\u0433\\u0440\\u0430\\u0453\\u0430\\u043d\\u0441\\u043a\\u043e\\u0442\\u043e \\u043e\\u043f\\u0448\\u0442\\u0435\\u0441\\u0442\\u0432\\u043e \\u0437\\u0430 2018 \\u0433\\u043e\\u0434\\u0438\\u043d\\u0430\\u201d [\\u201cReport on the enabling environment for the development of the civil society in 2018\\u201d], Macedonian Center for International Cooperation (MCIC), 2019, p. 44, .\",\"\\\"Jakov Marusic, Sinisa, \\u201cNorth Macedonia Journalist \\u2018Denied Chance\\u2019 to Prove Innocence\\u201d, Balkan Insight, 3 September 2019, .\",\"\\\"Jakov Marusic, Sinisa, \\u201cPresident Ivanov Refuses to Use New Macedonia Name\\u201d, Balkan Insight, 12 March 2019, .\",\"\\\"Jakov Marusic, Sinisa, \\u201cNorth Macedonia\\u2019s Zaev Condemned for Calling Detainee \\u2018Faggot\\u2019\\u201d, Balkan Insight, 14 August 2019, .\",\"\\\"At BHRT (National Radio\\u2013Television of Bosnia and Herzegovina) he served as Head of New Media; at Analiziraj, he was Senior Contributor on media ethics, as well as disinformation debunking and fact-checking.\",\"\\\"Approximately 1.5 million buildings in Serbia are not registered.\",\"\\\"Chalovski, Vlatko, \\u201d\\u0414\\u041a\\u0421\\u041a \\u0433\\u043e \\u0437\\u0430\\u0442\\u0432\\u043e\\u0440\\u0438 \\u043f\\u0440\\u0435\\u0434\\u043c\\u0435\\u0442\\u043e\\u0442 \\u0437\\u0430 \\u041c\\u0438\\u0446\\u043a\\u043e\\u0441\\u043a\\u0438 \\u2013 \\u043f\\u043e\\u0431\\u0430\\u0440\\u0430 \\u043e\\u0434 \\u0417\\u0430\\u0435\\u0432 \\u0434\\u0430 \\u0438\\u0441\\u043f\\u0438\\u0442\\u0443\\u0432\\u0430 \\u0441\\u0443\\u0434\\u0438\\u0440 \\u043d\\u0430 \\u0438\\u043d\\u0442\\u0435\\u0440\\u0435\\u0441\\u0438 \\u043a\\u0430\\u0458 \\u0410\\u043d\\u0453\\u0443\\u0448\\u0435\\u0432\\u201d [\\u2018DKSK closed the case on Mickovskia \\u2013 and requested from Zaev to investigate conflict of interest with Angjushev\\u201d], Investigative Reporting Lab Macedonia, 15 November 2019, .\",\"\\\"People who contracted COVID-19 in northern Kosovo were initially provided medical treatment by the Serbian government.\",\"\\\"In November 2016, Putin withdrew Russia from the International Criminal Court (ICC) after the body issued a report of preliminary findings calling the fighting in Crimea and eastern Ukraine an \\u201cinternational armed conflict\\u201d between Ukraine and Russia.\",\"\\\"Public trust in North Macedonia\\u2019s main representative body also remained low.\",\"\\\"In November 2020, a number of former Kosovo Liberation Army (KLA) members\\u2014including former president Tha\\u00e7i, leader of the PDK Kadri Veseli, former head of Parliament Jakup Krasniqi, and member of Parliament Rexhep Selimi\\u2014were charged with war crimes by the Kosovo Specialist Chambers (KSC), a tribunal in The Hague investigating war crimes committed during Kosovo\\u2019s 1998\\u201399 war for independence.\",\"\\\"Brezar won the Poynter Institute\\u2019s inaugural Balkan Factchecking Award (2017), the Europa Nostra Award and Grand Prix for Preservation of Cultural Heritage (2016), the Jules Chametzky Literary Translation Award (2016), and received a Pushcart Prize nomination (2015).\",\"\\\"Jakov Marusic, Sinisa, \\u201cNorth Macedonia Capital Hosts First Pride Parade\\u201d, Balkan Insight, 29 June 2019, .\",\"\\\"Jakov Marusic, Sinisa, \\u201cNorth Macedonia Govt Announces New Anti-Corruption Team\\u201d, Balkan Insight, 13 August 2019, .\",\"\\\"Jakov Marusic, Sinisa, \\u201cNorth Macedonia Checks Prosecutor in Extortion Case\\u201d, Balkan Insight, 16 July 2019, ; \\u201cCourt orders a 30 day detention and Katica Janeva was taken to the prison in Shutka\\u201d, Meta, 22 August 2019, .\",\"\\\"Avdo Avdi\\u0107, \\u201cHJPC president caught in corruption: Milan Tegeltija traded criminal proceedings\\u201d (\\u201cPREDSJEDNIK VSTV-A UHVA\\u0106EN U KORUPCIJI: Milan Tegeltija trgovao krivi\\u010dnim istragama!\\u201d), \\u017durnal, May 21, 2019,  \\\"\\\"Video allegedly shows Bosnia\\u2019s top judicial official being bribed, he denies it\\\"\\\", N1 Sarajevo English,   Amer Jahi\\u0107, \\\"\\\"Disciplinary commision rejected complaint against Milan Tegeltija on appeal\\\"\\\" (\\\"\\\"Drugostepena disciplinska komisija potvrdila odbacivanje tu\\u017ebe protiv Milana Tegeltije\\\"\\\"), Voice of America, June 14, 2019,  Mladen Laki\\u0107, \\u201cBosnian Serb Leaders\\u2019 Declaration Defies Court\\u2019s \\u2018Statehood Day\\u2019 Ban, Balkan Insight, April 2, 2019,  Goran Laji\\u0107, \\u201cDeath Penalty abolished in the Republika Srpska\\u201d (\\u201cUkinuta smrtna kazna u Republici Srpskoj\\u201d), Nezavisne novine, October 4, 2019,  \\u201cGodi\\u0161nji izvje\\u0161taj o rezultatima aktivnosti institucije Ombudsmena za ljudska prava BiH za 2018. godinu [Annual Report on the Results of Activities of the Ombudsman Institution for Human Rights of BiH for 2018],\\u201d Ombudsman Institution for Human Rights of BiH, pages 74-75, March 2019,  \\u201cMP BiH: Prvi zatvorenici u dr\\u017eavnom zatvoru sredinom 2020 godine?\\u201d (\\u201cMinistry of Justice of BiH: First Prisoners in State Prison by Mid-2020?\\u201d), N1, August 6, 2019,  Mladen Laki\\u0107, Albina Sorgu\\u010d, \\u201cEuropean Court tells Bosnia to Remove Illegal Church\\u201d, Balkan Insight, October 1, 2019,\",\"\\\"Zafeiropoulos, Kostas, \\u201cAlexander the Bot: The Twitter War for the Macedonian Soul\\u201d, Balkan Insight, 18 December 2019, ; Woolley, Samuel and Katie Josef, \\u201cDemand for Deceit: How the Way We Think Drives Disinformation\\u201d, National Endowment for Democracy, 8 January 2020, pp.\",\"\\\"Danilovska, Dance and Nada Naumovska, \\u201cProposals for the improvement of the current state, Openness of the local self-government institutions in the region and in the Republic of North Macedonia\\u201d, Metamorphosis Foundation for Internet and Society and ACTION SEE, July 2019, p. 4, .\",\"\\\"The irregular 2016 demolition of a number of homes and businesses in Belgrade\\u2019s Savamala district was aimed at clearing the way for a government-backed private development project.\",\"\\\"The mandates of Kosovo\\u2019s four main anticorruption bodies overlap, and they have difficulty coordinating their efforts.\",\"\\\"He has also contributed to the Guardian, Washington Post, PBS, and Al Jazeera English.\",\"\\\"Pajaziti, Naser, \\u201cVetting of Judges and Prosecutors in North Macedonia\\u201d, Independent Balkan News Agency, 25 November 2019, .\",\"\\\"Author: Aleksandar Brezar is Southeast Europe\\u002fWestern Balkans Network Lead for The Democratic Society, a UK\\u002fBrussels-based non-profit organization working for greater participation and dialogue in democracy in Europe and elsewhere.\",\"\\\"See: \\u201cNorth Macedonia 2019 Report\\u201d, European Commission SWD(2019) 218 final, 29 May 2019, p. 11, .\",\"\\\"The state reclaimed phytosanitary control over the Bulgarian-Turkish border in May, for example (though a court later overturned the move); the previous lax controls had been criticized for allowing agricultural products with unacceptable levels of pesticides into the country, and allegedly had led to an increase in drug smuggling.\",\"\\\"In 2014\\u201316, he served as program director of the Institute for Democracy \\u201cSocietas Civilis\\u201d Skopje (IDSCS), the leading Macedonian policy think tank.\",\"\\\"In the past, he has worked as Brussels correspondent for Balkan Insight, while also serving as a regular contributor for BiH on topics ranging from NATO and EU integrations to war crimes processes and peace-building efforts.\",\"\\\"Buhovski, Anita, \\u201c\\u0418\\u0417\\u0413\\u041b\\u0410\\u0421\\u0410\\u041d \\u0417\\u0410\\u041a\\u041e\\u041d\\u041e\\u0422 \\u0417\\u0410 \\u0410\\u041d\\u0422\\u0418\\u0414\\u0418\\u0421\\u041a\\u0420\\u0418\\u041c\\u0418\\u041d\\u0410\\u0426\\u0418\\u0408\\u0410\\u201d [The law on anti-discrimination is adopted\\u201d], TV24, 11 May 2019, .\",\"\\\"While anti-LGBT+ violence has been significantly underreported in Bulgaria, and largely goes unaddressed by authorities, there were no registered homophobia-motivated hate crimes in Bulgaria in 2022, and LGBT+ groups note some slowly increasing tolerance toward LGBT+ people.\",\"\\\"Fotinovska, Ruzhica, \\u201c\\u0414\\u0418\\u0420\\u0415\\u041a\\u0422\\u041e\\u0420\\u041e\\u0422 \\u041d\\u0410 \\u0414\\u0418\\u0420\\u0415\\u041a\\u0426\\u0418\\u0408\\u0410\\u0422\\u0410 \\u0417\\u0410 \\u0417\\u0410\\u0428\\u0422\\u0418\\u0422\\u0410 \\u041d\\u0410 \\u041b\\u0418\\u0427\\u041d\\u0418\\u0422\\u0415 \\u041f\\u041e\\u0414\\u0410\\u0422\\u041e\\u0426\\u0418 \\u0413\\u041e\\u0420\\u0410\\u041d \\u0422\\u0420\\u0410\\u0408\\u041a\\u041e\\u0412\\u0421\\u041a\\u0418 \\u041f\\u041e\\u0414\\u041d\\u0415\\u0421\\u0415 \\u041e\\u0421\\u0422\\u0410\\u0412\\u041a\\u0410\\u201d [\\u201cThe Director of the Directorate for Personal Data Protection submitted a resignation\\u201d], TV 24, 20 May 2019, ; \\u201c\\u0418\\u0437\\u0431\\u043e\\u0440 \\u043d\\u0430 \\u0434\\u0438\\u0440\\u0435\\u043a\\u0442\\u043e\\u0440 \\u0438 \\u0437\\u0430\\u043c\\u0435\\u043d\\u0438\\u043a \\u0434\\u0438\\u0440\\u0435\\u043a\\u0442\\u043e\\u0440 \\u043d\\u0430 \\u0414\\u0438\\u0440\\u0435\\u043a\\u0446\\u0438\\u0458\\u0430\\u0442\\u0430 \\u0437\\u0430 \\u0437\\u0430\\u0448\\u0442\\u0438\\u0442\\u0430 \\u043d\\u0430 \\u043b\\u0438\\u0447\\u043d\\u0438\\u0442\\u0435 \\u043f\\u043e\\u0434\\u0430\\u0442\\u043e\\u0446\\u0438\\u201d [\\u201cAppointment of a director and substitute-director in the Directorate for Personal Data Protection\\u201d], Directorate for Personal Data Protection, 30 December 2019, .\",\"\\\"In December 2018, investigative reporter Milan Jovanovi\\u0107, who has reported extensively on corruption, was the victim of an arson attack in which unknown assailants threw a Molotov cocktail into his home.\",\"\\\"Jakov Marusic, Sinisa, \\u201cNATO Signs Accession Protocol With Macedonia\\u201d, Balkan Insight, 6 February 2019, .\",\"\\\"He holds a PhD in political science from the University of Milan, Italy.\",\"\\\"Recica, Vlora, Aleksandra Jovevska Gjorgjevikj and Sara Janeska, \\u201c\\u0420\\u0435\\u0437\\u0443\\u043b\\u0442\\u0430\\u0442\\u0438 \\u043e\\u0434 \\u0442\\u0435\\u0440\\u0435\\u043d\\u0441\\u043a\\u0430\\u0442\\u0430 \\u0430\\u043d\\u043a\\u0435\\u0442\\u0430 \\u0437\\u0430 \\u043f\\u0435\\u0440\\u0446\\u0435\\u043f\\u0446\\u0438\\u0438\\u0442\\u0435 \\u043d\\u0430 \\u0433\\u0440\\u0430\\u0453\\u0430\\u043d\\u0438\\u0442\\u0435 \\u0437\\u0430 \\u0440\\u0430\\u0431\\u043e\\u0442\\u0430\\u0442\\u0430 \\u043d\\u0430 \\u0421\\u043e\\u0431\\u0440\\u0430\\u043d\\u0438\\u0435\\u0442\\u043e (12-26 \\u043c\\u0430\\u0458 2019)\\u201d [\\u201cResults from the field survey on the perceptions of citizens on the work of the Assembly (12-26 May 2019)\\u201d], Institute for Democracy \\u201cSocietas Civilis\\u201d (IDSCS), p. 14, .\",\"\\\"The major event of 2019 took place in January, when Parliament adopted constitutional amendments stipulated in the agreement with Greece, and thus changed the name of the country from \\u201cRepublic of Macedonia\\u201d to \\u201cRepublic of North Macedonia.\\u201d  This achievement prompted the opening of the NATO accession process in early February.\",\"\\\"Jakov Marusic, Sinisa, \\u201cNorth Macedonia Court Jails Parliament Attackers\\u201d, Balkan Insight, 15 March 2019, .\",\"\\\"Why Bosnia had a Dilemma\\u201d, Balkan Insight, October 16, 2019,  \\u201cBile\\u0107a Municipal Assembly holds session after six months\\u201d (\\u201cSkup\\u0161tina Op\\u0161tine Bile\\u0107a zasjedala nakon \\u0161est mjeseci\\u201d, ATV Banja Luka, September 27, 2019,  Milorad Milojevi\\u0107, \\u201cThe Republika Srpska has money for airplanes, but not for poor municipalities\\u201d, (\\u201cRepublika Srpska ima novac za avione, ali ne i za siroma\\u0161ne op\\u0161tine\\u201d), November 19, 2019,\",\"\\\"Jakov Marusic, Sinisa, \\u201cBlerim Reka \\u2013 Underdog in North Macedonia\\u2019s Presidential Race\\u201d, Balkan Insight, 26 March 2019, .\",\"\\\"Dimeska, Frosina, \\u201c\\u041e\\u0441\\u0443\\u0434\\u0435\\u043d\\u0438\\u0446\\u0438 \\u0438 \\u043e\\u0431\\u0432\\u0438\\u043d\\u0435\\u0442\\u0438 \\u0431\\u0435\\u0433\\u0430\\u0430\\u0442 \\u043e\\u0434 \\u0434\\u0440\\u0436\\u0430\\u0432\\u0430\\u0442\\u0430, \\u043e\\u0434\\u0433\\u043e\\u0432\\u043e\\u0440\\u043d\\u043e\\u0441\\u0442 \\u043d\\u0435\\u043c\\u0430\\u201d [\\u201cConvicts and suspects flee from the country, there is no responsibility\\u201d], Radio Slobodna Evropa, 30 October 2019, .\",\"\\\"Ognenovska, Simona and Jasmina Chaushoska, \\u201c\\u0418\\u0437\\u0432\\u0435\\u0448\\u0442\\u0430\\u0458 \\u0437\\u0430 \\u043e\\u0432\\u043e\\u0437\\u043c\\u043e\\u0436\\u0443\\u0432\\u0430\\u0447\\u043a\\u0430 \\u043e\\u043a\\u043e\\u043b\\u0438\\u043d\\u0430 \\u0437\\u0430 \\u0440\\u0430\\u0437\\u0432\\u043e\\u0458 \\u043d\\u0430 \\u0433\\u0440\\u0430\\u0453\\u0430\\u043d\\u0441\\u043a\\u043e\\u0442\\u043e \\u043e\\u043f\\u0448\\u0442\\u0435\\u0441\\u0442\\u0432\\u043e \\u0437\\u0430 2018 \\u0433\\u043e\\u0434\\u0438\\u043d\\u0430\\u201d [\\u201cReport on the enabling environment for the development of the civil society in 2018\\u201d], Macedonian Center for International Cooperation (MCIC), 2019, p. 9, .\",\"\\\"Jakov Marusic, Sinisa, \\u201cNew North Macedonia Probe Grills Top Government Official\\u201d, Balkan Insight, 10 October 2019, .\",null],\"marker\":{\"opacity\":0.5,\"size\":5},\"mode\":\"markers+text\",\"name\":\"0_balkan insight_macedonia_balkan\",\"text\":[\"\",\"\",\"\",\"\",\"\",\"\",\"\",\"\",\"\",\"\",\"\",\"\",\"\",\"\",\"\",\"\",\"\",\"\",\"\",\"\",\"\",\"\",\"\",\"\",\"\",\"\",\"\",\"\",\"\",\"\",\"\",\"\",\"\",\"\",\"\",\"\",\"\",\"\",\"\",\"\",\"\",\"\",\"\",\"\",\"\",\"\",\"\",\"\",\"\",\"\",\"\",\"\",\"\",\"\",\"\",\"0_balkan insight_macedonia_balkan\"],\"textfont\":{\"size\":12},\"x\":[7.074214458465576,7.572432994842529,7.135407447814941,7.071556091308594,7.376577377319336,7.307504177093506,6.811697006225586,7.589197635650635,7.007789611816406,7.250626087188721,7.445187091827393,7.58736515045166,7.051076412200928,7.677394866943359,6.950230598449707,7.671926975250244,7.6701555252075195,7.794613838195801,6.9300761222839355,6.909629821777344,7.353808403015137,7.083298683166504,7.5187835693359375,7.432764530181885,7.583039283752441,7.243682384490967,7.431318759918213,7.5795512199401855,7.685858726501465,7.396810531616211,7.702353477478027,7.258941650390625,6.854978084564209,7.156051158905029,6.90772819519043,7.66513729095459,7.025437831878662,7.36895751953125,7.666566848754883,7.342716217041016,6.979650020599365,6.879084587097168,7.742829322814941,7.150256633758545,7.332911968231201,7.454656600952148,7.2039594650268555,6.901793003082275,7.534036636352539,7.624106407165527,7.008522033691406,7.58609676361084,7.2447733879089355,6.946076393127441,7.467970371246338,7.3127121925354],\"y\":[8.734702110290527,9.080129623413086,8.305689811706543,8.69381332397461,9.092488288879395,8.138731002807617,8.463066101074219,8.411552429199219,9.289190292358398,8.094267845153809,8.628327369689941,9.08896541595459,8.412755966186523,8.940314292907715,8.465214729309082,8.977008819580078,9.097537994384766,9.024456977844238,9.318632125854492,8.5383882522583,8.354249000549316,8.739753723144531,8.507572174072266,9.023707389831543,8.53117847442627,9.287991523742676,9.21135139465332,9.007719993591309,8.759235382080078,8.549225807189941,9.086029052734375,8.917078971862793,8.41842269897461,8.817399978637695,9.347098350524902,8.91006851196289,9.315025329589844,9.090381622314453,8.818070411682129,9.108353614807129,9.32987117767334,8.466148376464844,9.144883155822754,8.309144020080566,8.268819808959961,9.246210098266602,9.197246551513672,8.47252082824707,9.308258056640625,8.91384506225586,8.547739028930664,9.129735946655273,8.212903022766113,8.518171310424805,9.18091106414795,8.815299987792969],\"type\":\"scattergl\"},{\"hoverinfo\":\"text\",\"hovertext\":[\"the legal and institutional framework to fight corruption is in place and there are several initiatives underway to further strengthen the framework to detect, investigate and prosecute corruption, in particular in relation to the financial sector.\",\"\\\"Fisheries minister Kristj\\u00e1n \\u00de\\u00f3r J\\u00fal\\u00edusson is closely affiliated with Samherji, an Icelandic fishing company that was implicated in a scheme to bribe Namibian officials in November 2019.\",\"\\\"Adherence to some mitigation measures, like the use of face masks, is reportedly inconsistent in prisons.\",\"this is a good practice, particularly given that stakeholders indicate that the process of decentralisation should be carefully assessed in light of possible risks of corruption.\",\"all forms of active, passive, direct and indirect corruption are criminalised.\",\"the government announced in its programme adopted in june 2020 to tackle corruption and follow-up the review and increase the effectiveness of anticorruption measures.\",\"\\\"Corruption related to state contracts remains a concern; a number of former officials, including former cabinet ministers, were charged or found guilty during 2017 for contract-related bribery schemes.\",\"in relation to the overall resources dedicated to fighting corruption, the anti-corruption unit within gnecb is currently operating at limited capacity, with only three out of six positions filled .\",\"transparency international, 2019 corruption perception index.\",\"it also includes extensions to the presumptions of corruption, which had been included in the prevention of corruption amendment act 2001.\",\"\\\"However, since the PiS-appointed chair of NIK took office in 2019, he has been investigated for possible irregularities in his property declarations and links to a criminal group.\",\"\\\"Multiple corruption scandals involving government officials were exposed during the Hoti government.\",\"\\\"In December 2019, polling firm Mask\\u00edna found that 72 percent of Icelanders viewed their country\\u2019s political system as corrupt.\",\"transparency international ireland (2019), submission to the department of justice and equality review group consultation on anti-fraud and anti-corruption structures and procedures.\",\"the special prosecution office has raised concerns about its resources.\",\"the review group will also look at possible ways to encourage the alternative methods of dispute resolution, which could improve the incentives to use alternative dispute resolution methods for which ireland currently performs very low .\",\"prevention of corruption and promotion of integrity measures are in place.\",\"in particular the capacity to find the first indications of corruption is hampered by the lack of resources and specific expertise .\",\"\\\"In 2017, a network of international media outlets exposed a $2.9 billion slush fund that was held within United Kingdom-registered shell companies and linked to the Azerbaijani ruling elite, including the Aliyev family.\",\"the unit proactively seeks out cases and gathers bribery and corruption related intelligence.\",\"law enforcement authorities enjoy a good level of trust with regard to the fight against corruption.\",\"the national financial prosecutor is competent for the investigation of high level corruption cases.\",\"in december 2019, the office of the government introduced a dedicated software tool to increase the effectiveness of corruption risk management.\",\"the fight against corruption has been identified as one of the key priorities in the political programme of the new government, which announced a range of reforms in this area.\",\"\\\"Although the number of arrests and prosecutions for corruption has risen in recent years, high-profile convictions are very rare.\",\"corruption investigations conducted by the gnecb are supported by relevant national operational units, such as the financial intelligence unit and, regarding the seizure of assets deemed to be the proceeds of crime, the criminal assets bureau, which is an independent multi-agency body.\",\"the legal framework for fighting corruption is largely in place.\",\"\\\"Armenia does not have effective safeguards against corruption.\",\"\\\"Cronyism, a problem under all previous Polish governments, is widespread under PiS, as it has altered, lowered, or removed many criteria for staffing of public institutions, allowing for appointments based on party loyalty and personal connections.\",\"the anti-corruption unit acts as a centre of excellence for the investigation, prevention and disruption of bribery and corruption, and in this regard the unit provides assistance to other national and local units, when required.\",\"\\\"Corruption is pervasive.\",\"the competences and responsibilities for the development and implementation of anti-corruption policies as well as for preventing, detecting, investigating and prosecuting corruption are shared between several authorities in ireland.\",\"\\\"Official corruption remains a problem in Greece, and institutions tasked with combating it lack the resources to operate effectively.\",\"bribery offences are criminalised by the criminal code.\",\"its operational scope includes prevention, detection, disruption and investigation of cases of bribery and corruption.\",\"\\\"Corruption remains a problem in Hungary, and instances of high-level government corruption have not been properly investigated.\",\"\\\"Influential business figures who fall out of favor with the government, such as Lajos Simicska, who once served as Fidesz party treasurer, have experienced financial and legal pressure.\",\"while the state prosecution increased its efficiency, challenges remain in effectively prosecuting economic and financial crime.\",\"following completion of corruption investigations by an garda s\\u00edoch\\u00e1na, a file is submitted to the office of the director of public prosecutions, unless the investigation was discontinued due to insufficient evidence.\",\"the government announced in its recent programme to tackle corruption as a result of a comprehensive review of the anti-corruption framework and increase the effectiveness of anti-corruption measures.\",\"\\\"Organized crime is still an issue.\",\"\\\"The work of the ACA is undermined in part by the ambiguous division of responsibilities among other entities tasked with combating corruption.\",\"authorities involved in the fight against corruption include the anti-corruption agency, high authority for the transparency of public life and the central office for combating corruption and tax offences.\",\"\\\"In November, Icelandic fishing firm Samherji was implicated in bribery after the release of the so-called \\u201cFishrot Files;\\u201d they revealed that Samherji bribed Namibian government officials to secure fishing rights as far back as 2012.\",\"\\\"Critics have credibly accused President Vu\\u010di\\u0107 and the SNS government of having ties to organized crime, and cronyism\\u2014in the form of jobs provided to allies of the president and the ruling party\\u2014is reportedly common.\",\"\\\"Samherji CEO \\u00deorsteinn M\\u00e1r Baldvinsson resigned later that month after the files were released by WikiLeaks, but fisheries minister J\\u00fal\\u00edusson resisted calls to step down after admitting that he spoke to Baldvinsson over the allegations.\",\"a comprehensive review of ireland\\u2019s anti-corruption framework is currently under way.\",\"the unit was established to act as organisational lead for the investigation of corruption and bribery.\",\"among other things, the government has increased funding since 2016, leading to an additional annual eur 20 million since 2018 for the prosecution service and the fiscal intelligence and investigation department on corruption and money-laundering.\",\"the fight against corruption has been identified as one of the key priorities in the political programme of the new government, which announced a range of reforms to improve the situation.\",\"in this respect, a 2017 study shows that more could be done to fight corruption and other integrity violations within law enforcement authorities.\",\"its annual plan for 2020 lists corruption as a priority topic and highlights the establishment of a specific project, aiming to strengthen the prevention and detection of corruption by banks.\",\"\\\"Following the 2017 presidential election, the OSCE reported that the Anti-Corruption Agency (ACA) had decreased the resources dedicated to proactively monitoring campaign funds and did not thoroughly investigate dubious donations.\",\"the national financial prosecutor has established a good record on securing convictions in high-level cases of corruption and embezzlement of public funds.\",null],\"marker\":{\"opacity\":0.5,\"size\":5},\"mode\":\"markers+text\",\"name\":\"1_anti corruption_against corruption_corruption and\",\"text\":[\"\",\"\",\"\",\"\",\"\",\"\",\"\",\"\",\"\",\"\",\"\",\"\",\"\",\"\",\"\",\"\",\"\",\"\",\"\",\"\",\"\",\"\",\"\",\"\",\"\",\"\",\"\",\"\",\"\",\"\",\"\",\"\",\"\",\"\",\"\",\"\",\"\",\"\",\"\",\"\",\"\",\"\",\"\",\"\",\"\",\"\",\"\",\"\",\"\",\"\",\"\",\"\",\"\",\"\",\"1_anti corruption_against corruption_corruption and\"],\"textfont\":{\"size\":12},\"x\":[8.798993110656738,7.563559532165527,8.677356719970703,8.582715034484863,8.865541458129883,8.621472358703613,8.614532470703125,9.013381958007812,9.567214965820312,8.569855690002441,7.56606912612915,7.843752861022949,9.557320594787598,9.01533317565918,8.361766815185547,9.006573677062988,8.50054931640625,8.623238563537598,7.161669731140137,9.029885292053223,8.72433853149414,9.09331226348877,8.72556209564209,8.713785171508789,8.832862854003906,9.066163063049316,8.656584739685059,8.51427936553955,7.532364368438721,8.944955825805664,8.72812557220459,8.933929443359375,8.427238464355469,8.92093563079834,8.841826438903809,8.489018440246582,7.211967468261719,8.799239158630371,9.085267066955566,8.774855613708496,8.655261993408203,8.331202507019043,8.793002128601074,7.57192850112915,7.573231220245361,7.529566764831543,8.93535041809082,9.013420104980469,8.507722854614258,8.714884757995605,8.604610443115234,8.676046371459961,8.222025871276855,8.995534896850586,8.568169593811035],\"y\":[5.307160377502441,7.355019569396973,5.997030735015869,5.367553234100342,5.893007278442383,5.092330455780029,6.206228733062744,5.424773216247559,5.450392723083496,5.4290289878845215,7.033640384674072,6.786103248596191,5.703714847564697,4.882014751434326,5.9962053298950195,4.8252339363098145,5.2726149559021,6.132294654846191,7.412136077880859,5.501771926879883,5.516252517700195,5.617636680603027,5.181792736053467,5.1786675453186035,6.0464982986450195,5.451990604400635,5.736539363861084,6.445574760437012,6.9288010597229,5.3724799156188965,6.076763153076172,5.186364650726318,6.479907989501953,5.8097405433654785,5.486393451690674,6.425477504730225,7.337468147277832,5.999892234802246,5.307525634765625,5.1004486083984375,6.0605244636535645,5.668342113494873,5.381783962249756,7.342135906219482,6.8725409507751465,7.302773952484131,4.948237895965576,5.4707536697387695,5.338529586791992,5.201846599578857,5.367987632751465,5.140355587005615,5.8905134201049805,5.961609840393066,5.846340656280518],\"type\":\"scattergl\"},{\"hoverinfo\":\"text\",\"hovertext\":[\"un global alliance of national human rights institutions (2015), sub-committee on accreditation (sca), accreditation report \\u2013 november 2015.\",\"in february 2020, the minister asked the council of state for advice in this regard.\",\"council of europe: venice commission (2017), slovakia \\u2013 opinion on questions related to the appointment of judges of the constitutional court (cdl-ad(2017)001-e).\",\"council of state (2019), annual report 2019.\",\"defender of rights (2020), letter to the presidents of the senate and the national assembly on the law extending the state of health emergency.\",\"constitutional council, decision of 11 may 2020, on the law extending the state of health emergency and supplementing its provisions, decision no.\",\"national assembly (2019), a new enthusiasm for parliamentary ethics: annual report submitted to the president and to the office of the national assembly on 14 and 30 january 2019, in accordance with article 80-3 of the rules of the national assembly.\",\"cepej (2020), study on the functioning of the judicial systems in the eu member states.\",\"public defender of rights (2020) report on the activities of the public defender of rights for 2019.\",\"high council for the judiciary (2019), compendium on the judiciary\\u2019s ethical obligations.\",\"european commission (2020), a comparative analysis of non-discrimination law in europe 2019.\",\"netherlands committee of jurists for human rights (2020), letter on concerns about corona measures in criminal justice.\",\"amnesty international ireland, front line defenders, the wheel, transparency international ireland, uplift and the irish council for civil liberties (2020), submission to the un special rapporteur on the rights to freedom of peaceful assembly and of association, mr cl\\u00e9ment nyaletsossi voule.\",\"its president is nominated by the president of the republic, and three members are nominated by each of the two parliamentary chambers.\",\"president of the council for the judiciary (2018), letter to the minister for legal protection on a rest of the digitalisation of justice.\",\"the seven members of the csa are nominated by decree for a non-renewable, six-year mandate.\",\"un human rights committee (2019), international covenant on civil and political rights: concluding observations on the fifth periodic report of the netherlands.\",\"the ganhri sub-committee on accreditation (sca) encouraged the cncdh to continue to broaden its activities in relation to its protection mandate, including advocating for legislative amendments to make this mandate explicit.\",\"council of europe, recommendation cm\\u002frec(2010)12 of the committee of ministers to member states on judges: independence, efficiency and responsibilities.\",\"council of europe: venice commission and osce office for democratic institutions and human rights (2014), joint guidelines on freedom of association.\",\"european network of councils for the judiciary (2013-2014), development of minimum judicial standards iv: allocation of cases.\",\"cepej (2017), efficiency and quality of the slovak judicial system.\",\"council for public administration (2020), a stronger rule of law \\u2013 connecting and protecting in a pluralistic society.\",\"council of state, advisory opinion w04.20.0139\\u002fi\\u002fvo of 25 may 2020.\",\"consultative council of european judges (2016), ccje opinion no.19: the role of court presidents.\",\"council of europe: venice commission (2010), report on the independence of the judicial system part i: the independence of judges adopted by the venice commission at its 82nd plenary session (cdl-ad(2010)004-e).\",\"european network of councils for the judiciary and council of bars and law societies of europe (2020), survey among lawyers on the independence of judges 2018-2019. .\",\"cncdh (2020), opinion on the state of health emergency and the rule of law.\",\"president of the magistrates union katia dubreuil (2019), letter of 3 december 2019 addressed to the minister of justice.\",\"council of state, judgments of 6 july 2020, on the obligation to obtain an authorization before organizing an event, decision nos.\",\"judicial council (13 november 2019, 23 march 2020, 23 june 2020), communiques concerning resignation of its members.\",\"council of europe: committee of ministers (2010), recommendation cm\\u002frec(2010)12 of the committee of ministers to member states on judges: independence, efficiency and responsibilities.\",\"derogations from this right exist for reasons of national security.\",\"the execution of ecthr judgement is under enhanced supervision by the council of europe\\u2019s committee of ministers .\",\"i-connect and the clough center for the study of constitutional democracy at boston college (2019), 2018 global review of constitutional law.\",\"council of europe: committee of ministers (2010), recommendation cm\\u002frec(2010)12 of the committee of ministers to member states on judges: independence, efficiency and responsibilities.\",\"providing adequate resources for the judicial council, as well as the state prosecutorial council, is an important condition for the independent and effective functioning of these self-governance bodies.\",\"transparency international slovakia (2018), let\\u2019s judge the judges \\u2013 how slovakia opened its judiciary to unprecedented public control.\",\"constitutional council, decision of 3 july 2020, m. sofiane a. and others, decision no.\",\"council of state, judgment of 29 may 2019, nitrogen action programme, ecli:nl:rvs:2019:1604.\",\"council of europe: committee of ministers (2010), recommendation cm\\u002frec(2010)12 of the committee of ministers to member states on judges: independence, efficiency and responsibilities.\",\"the sca also encouraged the cncdh to continue to strengthen its cooperation with other national human rights entities such as the defender of rights.\",\"council of europe: committee of ministers (2017), recommendation of the committee of ministers of the council of europe cm\\u002frec(2017)14 on the legal status of non-governmental organisations in europe.\",\"council of europe: committee of ministers (2000), recommendation rec(2000)19 of the committee of ministers to member states on the role of public prosecution in the criminal justice system.\",\"judicial council (23 april 2020, 26 april 2020, 20 may 2020), communiques concerning appointments of its members.\",\"osce-odihr (2019) opinion on the draft amendments to the act on establishment of the slovak national centre for human rights.\",\"global alliance of national human rights institutions (ganhri): sub-committee on accreditation (sca) (2019), ganhri sub-committee on accreditation report \\u2013 march 2019.\",null],\"marker\":{\"opacity\":0.5,\"size\":5},\"mode\":\"markers+text\",\"name\":\"2_europe committee_judicial council_judges independence\",\"text\":[\"\",\"\",\"\",\"\",\"\",\"\",\"\",\"\",\"\",\"\",\"\",\"\",\"\",\"\",\"\",\"\",\"\",\"\",\"\",\"\",\"\",\"\",\"\",\"\",\"\",\"\",\"\",\"\",\"\",\"\",\"\",\"\",\"\",\"\",\"\",\"\",\"\",\"\",\"\",\"\",\"\",\"\",\"\",\"\",\"\",\"\",\"\",\"2_europe committee_judicial council_judges independence\"],\"textfont\":{\"size\":12},\"x\":[6.160405158996582,5.657155513763428,4.812093257904053,5.795184135437012,5.713840007781982,5.604586124420166,5.929347991943359,5.132578372955322,5.817219257354736,5.496204376220703,5.8694748878479,5.673691272735596,6.2996368408203125,4.67857551574707,5.42387580871582,5.4590277671813965,5.958596706390381,6.030172824859619,4.6119279861450195,5.802524089813232,5.122629642486572,5.0382609367370605,5.555142879486084,5.609053611755371,4.771053314208984,4.617568492889404,4.925386905670166,5.646770000457764,5.363955974578857,5.475792407989502,5.053379058837891,4.566300868988037,5.939679145812988,4.5534348487854,5.536284446716309,4.493669509887695,4.5712971687316895,4.98159122467041,5.499922275543213,5.547234058380127,4.604117393493652,6.032973766326904,4.66343355178833,4.683999538421631,5.004026889801025,6.986048221588135,6.162377834320068,5.381521701812744],\"y\":[2.4909908771514893,3.986461877822876,2.4896645545959473,3.8348093032836914,3.224555015563965,3.6447343826293945,3.46559739112854,2.2998404502868652,3.184117555618286,3.0328409671783447,2.1118416786193848,2.6119706630706787,2.4635252952575684,2.6582190990448,3.0867671966552734,3.5906221866607666,2.527252435684204,2.715078592300415,2.5336053371429443,2.3310153484344482,2.548762083053589,2.3397538661956787,3.839444160461426,3.8868319988250732,2.53003191947937,2.527902364730835,2.4991352558135986,3.4307098388671875,3.106091260910034,3.793330669403076,4.167245388031006,2.594599485397339,2.703080892562866,2.583491086959839,3.681330442428589,2.569650411605835,2.585312843322754,2.3052268028259277,3.7468249797821045,3.711575984954834,2.547449827194214,2.613523244857788,2.8266541957855225,2.9304864406585693,4.203774929046631,2.0204079151153564,2.5549092292785645,2.960235357284546],\"type\":\"scattergl\"},{\"hoverinfo\":\"text\",\"hovertext\":[\"\\\"There are an estimated 175,000 members of the group in Russia.\",\"\\\"The biggest challenge for the Kallas government in 2021 was the COVID-19 crisis.\",\"\\\"Terrorism by radical Islamist groups remains a threat.\",\"\\\"In October, the city of Ganga was bombed, with one death reported.\",\"\\\"Agnes Janson, \\u201ePostimees otsustas statistika avaldamisest loobuda\\u201c [Postimees decided to stop publishing statistics], Postimees, 3 June 2021,  Ragne K\\u00f5uts-Klemm, \\u201cL\\u00e4bipaistvuse k\\u00fcsimus\\u201d [A question of transparency], Sirp, 15 October 2021,  Urmo Soonvald, \\u201cDelfi sulgeb t\\u00e4nasest k\\u00f5ikide koroonalugude kommentaariumi\\u201d [Delfi is turning off commenting on all coronavirus-stories], Eesti P\\u00e4evaleht, 14 October 2021,  Elvin Heinla, \\u201cTeleauditooriumi \\u00fclevaade septembris 2021\\u201d [Overview of TV auditorium in September 2021], Kantar Emor, 12 October 2021,  ERR, \\u201cERR Russian-language channel often outstripping outside stations\\u201d, 19 April 2021,  Objektiiv, \\u201cAvasime venekeelse Objektiivi\\u201d [We opened a Russian-language Objetiiv], 23 September 2021,  Varro Vooglaid, \\u201cMida j\\u00e4reldada asjaolust\",\"\\\"The group had publicized its plans to peacefully disrupt Underground service.\",\"\\\"In August 2017, a group of terrorists carried out two vehicular attacks on crowds in Catalonia, killing 16 people before being arrested or shot dead by police.\",\"\\\"The ruling marks the first time a crime had legally been categorized as terrorism in Finland.\",\"\\\"The conflict was marked by reported acts of mistreatment, desecration, and vandalism.\",\"the mpm 2020 therefore concludes that this represents the highest risk area for the country.\",\"\\\"Azerbaijanis were affected by armed conflict with Armenia during 2020.\",\"\\\"Cameraman Aleksandre Lashkarava, who was one of the injured, died later that month.\",\"\\\"In July, Azerbaijani and Armenian forces fought along the border, resulting in the deaths of four Azerbaijani soldiers.\",\"\\\"A criminal history of a party], Eesti Ekspress, 14 January 2021,  ERR, \\u201cCoalition withdraws marriage referendum bill from Riigikogu vote\\u201d, 13 January 2021,  Sten Hankewitz, \\u201cEstonia becomes the only country in the world led by women\\u201d, Estonian World, 26 January 2021,  Postimees, \\u201eJUHTKIRI \\u27e9 Raha peseb haavad\\u201c [OP-ED: Money heals the wounds], 14 January 2021,  ERR, \\u201cEstonia has Europe's highest 14-day coronavirus infection rate\\u201d, 17 March 2021,  Latvian Public Broadcasting, \\u201cBaltic states are now Europe's Covid-19 hotspot\\u201d, 14 October 2021,  BNS, \\u201cAuditor general: Covid-19 crisis management structure unclear\\u201d, 1 October 2021,  Indrek Kiisler, \\u201cKiik does not support Kallas' tougher coronavirus measures\\u201d, ERR, 15 October 2021,  ERR, \\u201cEesti 200 chair: Crisis management being paused for elections is criminal\\u201d, 21 October 2021,  ERR, \\u201cKiik: It is more responsible for me to continue in office than to resign\\u201d, 8 September 2021,  ERR, \\u201cSocial ministry secretary general to be removed from office\\u201d, 2 August 2021,  ERR, BNS, \\u201cHealth Board boss resigns\\u201d, 6 September 2021,  ERR, \\u201cRatings: Reform Party retains lead over EKRE\\u201d, 22 October 2021,  ERR, \\u201cElectricity prices to reach record levels again on Tuesday\\u201d, 14 September 2021,  Merilin P\\u00e4rli, \\u201c\\u00d5igusteadlane kritiseerib riigikogu passiivsust koroonaolukorras\\u201d [Legal scholar criticizes Riigikogu\\u2019s passiveness in the corona crisis], 28 August 2021,  Kersti Kaljulaid, \\u201cEestile on vaja Riigikogu kui teen\\u00e4itajat\\u201d [Estonia needs Riigikogu to lead the way], 13 September 2021,  ERR, BNS, \\u201cJustice chancellor: Riigikogu should debate coronavirus restrictions\\u201d, 17 September 2021,\",\"\\\"In a May report, the OHCHR found that at least 10,090 people, including over 2,700 civilians, had been killed, and nearly 24,000 injured, since the conflict\\u2019s outbreak in April 2014.\",\"\\\"Areas adjacent to Azerbaijan and Nagorno-Karabakh, an Armenian-majority territory that gained de facto independence from Azerbaijan following the breakup of the Soviet Union, remained tense in 2018, with a lingering risk of shelling and skirmishes across the line of contact.\",\"\\\"War and insurgencies are not a concern.\",\"\\\"In June, he was convicted of two counts of murder with terrorist intent, and eight counts of attempted murder with terrorist intent, and sentenced to life in prison.\",\"\\\"Following the August 2017 attack in Turku, a team from the Safety Investigation Authority conducted a report on the attack, and how to prevent similar incidents from occurring.\",\"\\\"Statistikaamet, \\u201cStatistika andmebaas\\u201d [Statistics database],  Katrin Uba, \\u201cProtestid ja \\u00abpolitseiriik\\u00bb Eestis\\u201d [Protests and \\u2018police state\\u2019 in Estonia], Postimees, 19 April 2021,  ERR, BNS, \\u201cCivic portal receives record number of petitions in 2021\\u201d, 11 August 2021,  Vabariigi Valitsus, \\u201cValitsus kinnitas sidusa Eesti arengukava\\u201d [The government approved the Cohesive Estonia Development Plan], 18 November 2021,  ERR, \\u201cGallery: Protesters on Toompea\\u201d, 11 April 2021,  ERR, \\u201cGallery: Protesters in Tallinn demonstrate against coronavirus restrictions\\u201d, 15 May 2021,  ERR, \\u201cGallery: Protesters rally against coronavirus restrictions in Tallinn\\u201d, 23 October 2021,  BNS, ERR, \\u201cEmergency care to be prioritized from Monday, planned treatment suspended\\u201d, 23 October 2021,  ERR, \\u201cCity councilor quits EKRE over Saturday's covid restrictions demonstration\\u201d, 25 October 2021,  ERR, \\u201cParty ratings: Protests likely behind EKRE record support levels\\u201d, 16 April 2021,  ERR, \\u201cGallery: Baltic way anniversary marked with human chain, car drive\\u201d, 24 August 2021,  Martin Laine, \\u201c\\u201eU nas jest organizator\\u201c \\u2013 Eesti \\u201evabaks s\\u00f5itmist\\u201c aitas importida Kremli-meelne liikumine\\u201d [\\u201eU nas jest organizator\\u201c \\u2013 the \\u201efree Estonia\\u201c event was imported by a Kremlin-minded movement], Eesti Ekspress, 7 April 2021,  Herman Kelomees, \\u201cKoroonaprotestide s\\u00f5pruskond: kremlimeelsed aktivistid, EKRE saadikud ja uhhuu-\\u00e4rikad\\u201d [Corona protesters: Kremlin-minded activists, EKRE MPs and woo-woo businessmen], Eesti P\\u00e4evaleht.\",\"\\\"According to the Workers\\u2019 Health and Work Safety Assembly (\\u0130S\\u0130GM), more than 2,400 workers died in workplace incidents in 2020, including at least 741 who died of COVID-19.\",\"in 2019, there were two guillotine questions used out of a total of 53 acts\\u002fbills enacted that year.\",\"\\\"The National Audit Office, \\u201cThe five lessons learned from the coronavirus crisis\\u201d, 8 November 2021,  file:\\u002f\\u002f\\u002fC:\\u002fUsers\\u002fLiisa\\u002fDownloads\\u002fRVKS_Koroonakriisi_viis_%C3%B5ppetundi_08.11.2021_en_EL_F%20(1).pdf Estonian National Electoral Committee, \\u201eElection result\\u201c, 22 October 2021,  Estonian National Electoral Committee, \\u201eElection result, Types of mandates\\u201c, 19 October 2021,  ERR, \\u201eSurvey: K\\u00f5lvart most popular candidate for mayor of Tallinn\\u201c, 5 October 2021,  Estonian National Electoral Committee, \\u201eLocal elections 2021\\u201c,  \\u201cKohtuotsus\\u201d [Court decision], 15 July 2002,  \\u201cKohtuotsus\\u201d [Court decision], 19 April 2005,  ERR, \\u201eNorstati reitingud: EKRE t\\u00f5usis k\\u00f5ige populaarsemaks erakonnaks\\u201c [Norstat ratings: EKRE became the most popular party], 29 September 2021,\",\"\\\"Jan\\u0161a demanded that charges be filed for what he characterized as death threats, though the state prosecution found no grounds to do so.\",\"\\\"The conflict ended in early November after a Russian-brokered cease-fire was agreed; under its terms, Azerbaijan would retain control of parts of Nagorno-Karabakh gained during the fighting, along with adjacent land held by Armenia.\",\"\\\"The two countries engaged in a full-scale conflict over control of Nagorno-Karabakh in late September, with civilian and military casualties reported on both sides.\",\"the bai is comprised of nine members.\",\"\\\"Despite these efforts, Estonia topped the list of countries with high infection rates, due largely to the slow pace of vaccination.\",\"\\\"Author: Liisa Talving, PhD, is a Research Fellow in Comparative Politics at the Johan Skytte Institute of Political Studies, University of Tartu, Estonia.\",\"\\\"In early December, the Azerbaijani government reported 2,783 soldiers died in the fighting, while at least 143 civilians on both sides were killed.\",\"\\\"In December, five people in the city of Trier were killed by an individual driving into a pedestrian zone, though no political motive was immediately identified.\",\"\\\"Piret Reiljan, \\u201eLife after COVID-19: Estonia\\u201c, in D. Donauskait\\u0117, M. Fridrihsone, M. Krancevi\\u010di\\u016bt\\u0117, A. Kr\\u016btaine, A. Lastovska, P. Reiljan, A. Tetarenko (eds) The Media After Covid: Finding strategies to survive and thrive, November 2020.\",\"\\\"There have been no major terrorist attacks in Belgium since 2016, and in January 2018 the government lowered its terrorism threat level from three to two on a four-point scale, except in undisclosed high-risk areas.\",\"\\\"In 2019, nearly 1,750 such attacks were reported.\",\"\\\"They included physical assaults, though most incidents involved aggressive rhetoric and other forms of pressure or intimidation.\",\"\\\"Several mass-casualty incidents were reported in 2020.\",\"\\\"The threat of terrorism decreased in 2018 with the weakening of the Islamic State (IS) militant group in neighboring Syria and Iraq  no large-scale terrorist attacks were reported during 2019 or 2020.\",\"the so-called guillotine motions were used on both acts.\",\"\\\"T\\u00f6nnies workers also risked COVID-19 infection; by June 2020, over 1,000 workers at a meat-processing plant in the city of Rheda-Wiedenbr\\u00fcck had tested positive.\",\"\\\"The bill came in response to a 2017 attack in Turku in which an assailant killed two women and injured eight other people in a knife attack considered the country\\u2019s first-ever terrorist attack.\",null],\"marker\":{\"opacity\":0.5,\"size\":5},\"mode\":\"markers+text\",\"name\":\"3_estonia_2021_estonian\",\"text\":[\"\",\"\",\"\",\"\",\"\",\"\",\"\",\"\",\"\",\"\",\"\",\"\",\"\",\"\",\"\",\"\",\"\",\"\",\"\",\"\",\"\",\"\",\"\",\"\",\"\",\"\",\"\",\"\",\"\",\"\",\"\",\"\",\"\",\"\",\"\",\"\",\"\",\"\",\"\",\"\",\"3_estonia_2021_estonian\"],\"textfont\":{\"size\":12},\"x\":[4.712152004241943,5.736263275146484,4.857186317443848,4.993896484375,5.755802631378174,4.9052605628967285,4.971580505371094,5.044699192047119,5.253975868225098,5.459797382354736,4.83076286315918,7.096593856811523,4.821053981781006,5.696261405944824,5.145017147064209,4.825676441192627,4.784335136413574,5.17464017868042,4.948405742645264,5.643165111541748,5.360475063323975,5.2030816078186035,5.694778919219971,5.677695274353027,4.812070846557617,4.824233055114746,4.61270809173584,5.66538143157959,5.843181133270264,4.836207866668701,5.056933879852295,5.691795349121094,4.768807411193848,4.995913505554199,5.23703145980835,5.2585625648498535,4.743574619293213,5.2029805183410645,5.4689412117004395,4.974837779998779,5.2146430015563965],\"y\":[7.55906343460083,7.802427768707275,6.810901641845703,6.848869800567627,7.848159313201904,6.796175003051758,6.830474853515625,6.593137264251709,6.463101863861084,7.066029071807861,7.551165580749512,8.092653274536133,7.539165496826172,7.815939903259277,7.377355098724365,7.5427398681640625,6.820736885070801,6.598517894744873,6.855042934417725,7.755386829376221,7.47667932510376,6.533754348754883,7.816123962402344,6.427121639251709,7.531954765319824,7.49718713760376,7.525897026062012,7.797111511230469,7.969366550445557,7.5382080078125,6.83988618850708,7.81287145614624,6.8977766036987305,6.904960632324219,6.484650135040283,7.074826240539551,6.906791687011719,6.514160633087158,7.582180023193359,6.773587703704834,7.211803436279297],\"type\":\"scattergl\"},{\"hoverinfo\":\"text\",\"hovertext\":[\"\\\"No further information was reported by the end of 2020.\",\"\\\"The EC Progress Report from 2019 demanded further efforts to prevent the politicization of the public service.\",\"\\\"The federal authorities did not take significant action in response to the allegations.\",\"in addition, the government has indicated its intention to focus on strengthening compliance with existing legislation and to strengthen the analytical units .\",\"\\\"Although the international community insists that this problem of exclusion must be resolved,  no progress was made in 2019.\",\"this would complement the on-going efforts to upgrade the available it tools and analytical capacity .\",\"a new political parties act is being drafted in that regard.\",\"the law is expected to enter into force in autumn 2020.\",\"\\\"This was particularly noticeable in the infrastructure sector, with the long-neglected Corridor 5C showing not a single meter of road built during the year.\",\"\\\"The bill was rejected by the Senate in September, but passed again by the Sejm in December, before being vetoed by Duda later that month.\",\"the new governement\\u2019s programme envisages to enact the bill.\",\"\\\"The resolution, however, does not apply retroactively and includes major exemptions.\",\"sipo publishes guidelines on compliance with the provisions of these acts.\",\"discussions on this reform have been ongoing for a number of years.\",\"\\\"The gray economy of undeclared business activity has been estimated at over 20 percent of the country\\u2019s economy.\",\"\\\"The implementation of these policies thus far has been slow.\",\"\\\"According to Network 23, only 7 out of 43 measures were fully implemented as of 2019, with work on 10 not even initiated by the end of the year.\",\"\\\"Median gross weekly earnings for full-time workers were \\u20a4569 ($730).\",\"the government has drafted a concept proposal for a revision of the constitution to implement this recommendation.\",\"\\\"Due to both state-level and FBiH governments operating in so-called technical mandates, no major government investments were made in any sector in 2019.\",\"so far, this did not yield the expected results as impact assessments only apply to legislative measures initiated by the government .\",\"\\\"The government previously attempted to stop the work of the KSC through efforts to repeal or renegotiate the 2015 law establishing its existence.\",\"\\\"The new law will enter into force in January 2018, together with a law renouncing banking secrecy, which was passed in December 2016.\",\"improvements have been announced as regards the process for preparing and enacting laws.\",\"\\\"The EU-endorsed \\u201cUrgent Reform Priorities\\u201d from 2015 are still far from being fully implemented, and exemplify the country\\u2019s lack of institutional capacity.\",\"\\\"Despite delays in late 2020, the ruling went into effect in January 2021.\",\"before a bill is finalised, a general scheme of the bill may be published.\",\"\\\"The draft remained pending at the end of 2019.\",\"in 2017, the government submitted to parliament a draft law on this matter, which lapsed with the end of the previous parliamentary term.\",\"\\\"The amendments replaced a 1989 measure that many saw as an outdated regulation.\",\"certain it projects have been receiving technical support at european level .\",null],\"marker\":{\"opacity\":0.5,\"size\":5},\"mode\":\"markers+text\",\"name\":\"4_government has_of 2019_in 2019\",\"text\":[\"\",\"\",\"\",\"\",\"\",\"\",\"\",\"\",\"\",\"\",\"\",\"\",\"\",\"\",\"\",\"\",\"\",\"\",\"\",\"\",\"\",\"\",\"\",\"\",\"\",\"\",\"\",\"\",\"\",\"\",\"\",\"4_government has_of 2019_in 2019\"],\"textfont\":{\"size\":12},\"x\":[6.239560127258301,6.515200614929199,6.447096347808838,7.454354763031006,6.33527135848999,7.333468437194824,6.905391693115234,6.888240337371826,6.411528587341309,6.462892532348633,7.01753568649292,6.381396293640137,7.504204273223877,6.6998209953308105,10.313572883605957,6.615554332733154,6.353375434875488,6.699352264404297,6.879609107971191,6.535215854644775,6.434050559997559,6.606915473937988,6.853260040283203,7.346921443939209,6.450600624084473,6.33864688873291,6.892693519592285,6.2470011711120605,6.877198219299316,6.632260799407959,7.283025741577148,6.837265491485596],\"y\":[5.588804244995117,5.0057196617126465,5.845558166503906,4.564069747924805,5.267843246459961,4.297867298126221,4.708819389343262,4.611005783081055,5.840453147888184,5.1460466384887695,4.5825934410095215,5.296340465545654,4.691433429718018,4.813848972320557,6.632395267486572,4.852772235870361,5.575498104095459,6.565618991851807,4.450275421142578,5.815910339355469,5.754482746124268,4.942365646362305,4.725492000579834,4.414757251739502,4.643442153930664,5.258795261383057,4.432280540466309,5.259785175323486,4.623806953430176,4.804854869842529,4.189266681671143,5.071038722991943],\"type\":\"scattergl\"},{\"hoverinfo\":\"text\",\"hovertext\":[\"european commission (2015), country report slovakia, swd(2015) 44\\u002f2 final.\",\"irish government (2020), input from ireland for the 2020 rule of law report.\",\"european commission (2019), country report ireland, (swd(2019) 1006 final).\",\"council of the european union (2014), council recommendation of 8 july 2014 on slovakia\\u2019s 2014 national reform programme and delivering a council opinion on the stability programme of slovakia, 2014, oj c 247.\",\"council of the european union (2017), council recommendation of 11 july 2017 on the 2017 national reform programme of slovakia and delivering a council opinion on the 2017 stability programme of slovakia, oj c 261.\",\"this issue has been addressed by a country-specific recommendation in the context of the 2019 european semester .\",\"french government (2020), input from france for the 2020 rule of law report.\",\"oecd (2019), indicators of regulatory policy and governance europe 2019: france.\",\"oecd (2012) slovakia: phase 3 report on implementing the oecd anti-bribery convention in the slovak republic.\",\"france has the institutional and legislative framework broadly in place.\",\"european commission (2019), country report slovakia, swd(2019) 1024 final.\",\"virtual country visit to ireland in the context of the 2020 rule of law report.\",\"european commission (2020), country report slovakia, swd(2020) 524 final.\",\"council of the european union (2019), council recommendation of 9 july 2019 on the 2019 national reform programme of slovakia and delivering a council opinion on the 2019 stability programme of slovakia, oj c 301.\",\"virtual country visit to the netherlands in the context of the 2020 rule of law report.\",\"council of the european union (2016), council recommendation of 12 july 2016 on the 2016 national reform programme of slovakia and delivering a council opinion on the 2016 stability programme of slovakia, oj c 299.\",\"dutch government (2020), input from the netherlands to the 2020 rule of law report.\",\"european commission (2018), country report ireland, (swd(2018) 206 final).\",\"slovak government (2020), input from slovakia for the 2020 rule of law report.\",\"virtual country visit to slovakia in the context of the 2020 rule of law report.\",\"virtual country visit to france in the context of the 2020 rule of law report.\",\"european commission (2020), country report ireland, (swd(2020) 506 final).\",\"oecd (2015), the netherlands: follow-up to the phase 3 report & recommendations.\",\"supreme audit office of the slovak republic (2019), report audit activities, results in 2019.\",\"slovak government, (2020) programov\\u00e9 vyhl\\u00e1senie vl\\u00e1dy slovenskej republiky na obdobie rokov 2020 \\u2013 2024.\",\"irish human rights and equality commission (2019), policy statement on the electoral acts and civil society space in ireland, january 2019.\",\"osce-odihr (2020), slovak republic \\u2013 parliamentary elections, odihr election assessment mission final report.\",\"world economic forum (2013-2020), the global competitiveness report.\",\"world economic forum (2013-2015), the global competitiveness report.\",\"president of the republic (2020) report on the state of the republic.\",null],\"marker\":{\"opacity\":0.5,\"size\":5},\"mode\":\"markers+text\",\"name\":\"5_report slovakia_slovakia 2014_slovakia\",\"text\":[\"\",\"\",\"\",\"\",\"\",\"\",\"\",\"\",\"\",\"\",\"\",\"\",\"\",\"\",\"\",\"\",\"\",\"\",\"\",\"\",\"\",\"\",\"\",\"\",\"\",\"\",\"\",\"\",\"\",\"\",\"5_report slovakia_slovakia 2014_slovakia\"],\"textfont\":{\"size\":12},\"x\":[7.2009429931640625,7.1451005935668945,7.0670695304870605,7.491185188293457,7.478755950927734,7.643015384674072,7.486411094665527,7.428841590881348,7.499561309814453,7.507444381713867,7.264739036560059,7.741631507873535,7.27169132232666,7.429749488830566,7.776723861694336,7.509274005889893,7.426050662994385,7.0317206382751465,7.393710613250732,7.780423641204834,7.742452621459961,7.060456275939941,7.5124592781066895,7.331717491149902,7.428443908691406,6.505936622619629,7.172379016876221,7.5815629959106445,7.592471599578857,7.32245397567749,7.3941450119018555],\"y\":[2.2609007358551025,2.494213581085205,2.3395984172821045,2.0071160793304443,2.0296874046325684,3.060798168182373,2.6869232654571533,2.733466863632202,2.0658791065216064,2.6676104068756104,2.209742546081543,2.4981656074523926,2.2031326293945312,2.054542064666748,2.5364437103271484,1.9891420602798462,2.9786837100982666,2.3293583393096924,2.227588653564453,2.435215473175049,2.512286424636841,2.3597869873046875,2.95515775680542,2.216369867324829,2.0906803607940674,2.3936402797698975,2.0830490589141846,2.7480525970458984,2.740872859954834,2.7873358726501465,2.4231812953948975],\"type\":\"scattergl\"},{\"hoverinfo\":\"text\",\"hovertext\":[\"high court, judgment of 13 may 2020, o\\u2019doherty & waters v. minister for health & attorney general.\",\"court of justice of the european union, c-192\\u002f18, commission v poland (ind\\u00e9pendance des juridictions de droit commun).\",\"court of justice of the european union, judgment of 9 july 2020, land hessen, c-272\\u002f19.\",\"european commission (2013, 2014, 2015, 2016, 2017, 2018, 2019, 2020), the eu justice scoreboard.\",\"european court of human rights, judgment of 15 june 2017, independent newspapers (ireland) limited v. ireland, application no.\",\"european court of human rights, judgment of 9 april 2015, tchokontio happi v. france, application no.\",\"court of justice of the european union, judgment of 27 may 2019 in joined cases og, c-508\\u002f18 and pi, c-82\\u002f19 ppu.\",\"european court of human rights, judgment of 10 september 2010, mcfarlane v ireland, application no.\",\"court of justice of the european union, judgement of 25 july 2018, lm, c\\u2011216\\u002f18 ppu.\",\"paris court of appeals (2020), judicial public interest agreement (cjip) concluded between the national financial prosecutor and the company airbus se.\",\"european court of human rights, judgment of 22 december 2009, parlov-tkal\\u010di\\u0107 v croatia, application no.\",\"court of justice of the european union, judgement of 19 november 2019, ak, joined cases c\\u2011585\\u002f18, c\\u2011624\\u002f18 and c\\u2011625\\u002f18.\",\"european commission (2019), public administration characteristics and performance in eu28.\",\"the moriarty tribunal into payments to politicians and the mahon tribunal into planning matters, ran for fourteen and sixteen years, respectively.\",\"court of justice of the european union, c-619\\u002f18, commission v poland (ind\\u00e9pendance de la cour supr\\u00eame).\",\"\\\"The abolition of the death penalty is a prerequisite for EU membership.\",\"court of justice of the european union, judgement of 18 june 2020, european commission v hungary, c-78\\u002f18.\",\"\\\"In February, the European Commission (EC) launched infringement proceedings against Estonia, Finland, and Poland for \\u201cfailing to fully transpose the EU rules on strengthening the presumption of innocence and the right to be present at the trial in criminal proceedings.\\u201d  The EC found that these countries have only partially transposed the directive,  which is an important element of EU standards for fair trial.\",\"european court of human rights, judgment of 6 november 2018, ramos nunes de carvalho e s\\u00e1 v. portugal, application no.\",\"european commission (2020), the eu justice scoreboard.\",\"court of justice of the european union, c-282\\u002f12, commission v hungary.\",\"supreme court of the netherlands, judgment of 13 september 2019, urgenda, ecli:nl:hr:2019:2007.\",\"european commission (2018), equality bodies making a difference.\",\"\\\"A Warsaw court ordered him to pay a fine, but he contested the judgment, and the case was dismissed in September.\",\"court of justice of the european union, judgment of 19 november 2019, c\\u2011585\\u002f18, c\\u2011624\\u002f18 and c\\u2011625\\u002f18.\",\"european commission (2020), eu justice scoreboard.\",\"court of cassation, judgment of 26 may 2020, no.\",\"european court of human rights, judgment of 5 may 2020, k\\u00f6vesi v. romania, application no.\",\"court of justice of the european union, pending case c-510\\u002f19, openbaar ministerie (faux en \\u00e9critures).\",null],\"marker\":{\"opacity\":0.5,\"size\":5},\"mode\":\"markers+text\",\"name\":\"6_european court_eu justice_tribunal\",\"text\":[\"\",\"\",\"\",\"\",\"\",\"\",\"\",\"\",\"\",\"\",\"\",\"\",\"\",\"\",\"\",\"\",\"\",\"\",\"\",\"\",\"\",\"\",\"\",\"\",\"\",\"\",\"\",\"\",\"\",\"6_european court_eu justice_tribunal\"],\"textfont\":{\"size\":12},\"x\":[5.245936870574951,5.179066181182861,5.105818748474121,5.447601318359375,5.668584823608398,5.682372570037842,5.084261894226074,5.653408527374268,5.126561641693115,5.050807952880859,5.688918590545654,5.1030988693237305,5.361504554748535,5.457301139831543,5.186791896820068,5.310398578643799,5.089930534362793,5.216182708740234,5.669104099273682,5.475750923156738,5.1052703857421875,5.168888568878174,5.9179301261901855,5.195308685302734,5.146798610687256,5.45980978012085,5.080471992492676,5.700911521911621,5.028868198394775,5.331298828125],\"y\":[0.9450221657752991,1.0119569301605225,0.8519371747970581,2.174922227859497,1.1494709253311157,1.1165920495986938,0.8425689339637756,1.106725811958313,0.8879861235618591,0.7999412417411804,1.1308993101119995,0.8596373796463013,2.4606404304504395,2.1534647941589355,0.9837267994880676,1.9588459730148315,0.9154182076454163,1.485754370689392,1.113577961921692,2.17842435836792,0.9483593106269836,0.9051985740661621,2.1511032581329346,0.9827794432640076,0.9016136527061462,2.1810779571533203,0.8373949527740479,1.1765440702438354,0.7998211979866028,1.2762553691864014],\"type\":\"scattergl\"},{\"hoverinfo\":\"text\",\"hovertext\":[\"as regards businesses, 55% of companies consider corruption to be widespread (eu average 63%), and 51% of companies consider that corruption is a problem when doing business (eu average 37%).\",\"57% of dutch respondents to the eurobarometer survey indicate that they would not know where to report a case of corruption should they experience or witness it and 49% highlighted that they may decide not to report a case of corruption due to lack of adequate protection.\",\"according to the surveys, 88% of companies consider corruption to be widespread (eu average 63%) and 53% of companies consider that corruption is a problem when doing business (eu average 37%).\",\"26% of respondents find that there are enough successful prosecutions to deter people from corrupt practices (eu average of 36%) while 43% of companies consider that people and businesses caught for bribing a senior official are appropriately punished (eu average 31%).\",\"while the overall level of perceived corruption is low, the financial sector is considered to be a high-risk sector.\",\"results from a eurobarometer survey show that 32% respondents think that there is no protection for those who report corruption .\",\"however, 34% of respondents think that bribery and abuse of power for personal gain are widespread among police and customs authorities.\",\"35% of people find that there are enough successful prosecutions to deter people from corrupt practices (eu average: 36%) while 26% of companies believe that people and businesses caught for bribing a senior official are appropriately punished (eu average: 31%) .\",\"68% of irish respondents to the most recent eurobarometer survey think that corruption is widespread in their country (eu average: 71%), and 25% of people feel personally affected by corruption in their daily lives (eu average: 28%).\",\"similarly, only 12% of businesses consider corruption to be a problem when doing business in the netherlands (eu average 37%).\",\"\\\"Companies perceive corruption risks and favoritism within public procurement as low, however \\u201cold boys\\u2019 networks,\\u201d notably at the local level, are still believed to hold influence over procurement decisions.\",\"87% of respondents consider corruption widespread (eu average 71%) and 41% of people feel personally affected by corruption in their daily life (eu average 26%) .\",\"nevertheless, 50% of respondents to the eurobarometer are of the opinion that bribery and the abuse of power for personal gain are widespread among officials awarding public tenders and 55% are of the opinion that this is the case for officials issuing building permits, respectively.\",\"11% of companies consider that corruption is a problem when doing business (eu average: 37%).\",\"according to surveys, the netherlands is perceived as one of the least corrupt countries in the eu and the world.\",\"then, 37% of people find that there are enough successful prosecutions to deter people from corrupt practices (eu average 36%), while 13% of companies believe that people and businesses caught for bribing a senior official are appropriately punished (eu average 31%) .\",\"60% of the eurobarometer respondents have most trust in the police to deal with a corruption case.\",\"while 47% of dutch respondents to the eurobarometer survey think that corruption is widespread in their country (eu average 71%), merely 4% of dutch respondents are of the view that corruption affects their daily lives (eu average 26%).\",\"amongst french respondents, 70% perceive corruption widespread in their country (eu average 71%), while 10% of people feel personally affected by corruption in their daily lives.\",\"furthermore, 53% of people find that there are enough successful prosecutions to deter people from corrupt practices (eu average 36%) while 38% of companies consider that people and businesses caught for bribing a senior official are appropriately punished (eu average 31%).\",\"\\\"According to an IDSCS survey in May, a large majority of respondents believe that MPs always defend their own personal interests (78 percent) or their party\\u2019s interests (72 percent).\",\"as regards businesses, 33% of companies consider corruption to be widespread (eu average: 63%).\",null],\"marker\":{\"opacity\":0.5,\"size\":5},\"mode\":\"markers+text\",\"name\":\"7_corrupt practices_consider corruption_corruption is\",\"text\":[\"\",\"\",\"\",\"\",\"\",\"\",\"\",\"\",\"\",\"\",\"\",\"\",\"\",\"\",\"\",\"\",\"\",\"\",\"\",\"\",\"\",\"\",\"7_corrupt practices_consider corruption_corruption is\"],\"textfont\":{\"size\":12},\"x\":[10.49924373626709,10.291984558105469,10.483864784240723,9.887036323547363,10.475878715515137,10.234695434570312,10.00389575958252,9.890405654907227,10.385077476501465,10.458636283874512,10.080068588256836,10.436653137207031,10.137221336364746,10.507976531982422,10.465953826904297,9.912309646606445,10.226914405822754,10.438029289245605,10.4114351272583,9.915852546691895,10.027909278869629,10.514374732971191,10.258428573608398],\"y\":[6.607613563537598,6.409955024719238,6.571737289428711,6.333939075469971,6.607506275177002,6.383372783660889,6.320765018463135,6.336583137512207,6.469557762145996,6.591970920562744,6.42557430267334,6.523257255554199,6.344901084899902,6.64410400390625,6.44686222076416,6.344656944274902,6.387550354003906,6.481490135192871,6.486199855804443,6.3542914390563965,6.236910820007324,6.5871758460998535,6.449816703796387],\"type\":\"scattergl\"},{\"hoverinfo\":\"text\",\"hovertext\":[\"csa, information on publishers.\",\"council of europe, platform to promote the protection of journalism and safety of journalists \\u2013 the netherlands.\",\"press freedom associations (2019), dutch senate: make a clear exemption for journalists.\",\"council of europe, platform to promote the protection of journalism and safety of journalists: france.\",\"european centre for press & media freedom (2020), mapping media freedom.\",\"council of europe: committee of ministers (2016), recommendation cm\\u002frec(2016)4 of the committee of ministers to member states on the protection of journalism and safety of journalists and other media actors.\",\"european audiovisual observatory (2019), iris special 2019-1: the independence of media regulatory authorities in europe.\",\"european audiovisual observatory (2019), the independence of media regulatory authorities in europe.\",\"professor tarlach mcgonagle (2018), agreement of the steering group on aggression and violence against journalists.\",\"european centre for press & media freedom, mapping media freedom: the netherlands.\",\"council of europe, council of europe, platform to promote the protection of journalism and safety of journalists \\u2013 slovakia.\",\"dutch government, funds for the media.\",\"council of europe: committee of ministers (2016), recommendation cm\\u002frec(2016)4 of the committee of ministers to member states on the protection of journalism and safety of journalists and other media actors.\",\"european parliament (2016), a comparative analysis of media freedom and pluralism in the eu member states.\",\"council of europe (2020), platform to promote the protection of journalism and safety of journalists.\",\"committee to protect journalist\\u2019s analysis (2019), mission journal: one year on, j\\u00e1n kuciak murder seen as turning point by slovak press.\",\"reporters without borders, country profile: france.\",\"dutch media authority, media monitor: media concentration.\",\"european parliament resolution of 19 april 2018 on protection of investigative journalists in europe: the case of slovak journalist j\\u00e1n kuciak and martina ku\\u0161n\\u00edrov\\u00e1\",\"council of europe: committee of ministers (2018), recommendation cm\\u002frec(2018)1 of the committee of ministers to member states on media pluralism and transparency of media ownership.\",\"council of europe: committee of ministers (2016), recommendation cm\\u002frec(2016)4 of the committee of ministers to member states on the protection of journalism and safety of journalists and other media actors.\",\"dutch government, safeguarding press freedom.\",null],\"marker\":{\"opacity\":0.5,\"size\":5},\"mode\":\"markers+text\",\"name\":\"8_europe committee_of journalists_journalists\",\"text\":[\"\",\"\",\"\",\"\",\"\",\"\",\"\",\"\",\"\",\"\",\"\",\"\",\"\",\"\",\"\",\"\",\"\",\"\",\"\",\"\",\"\",\"\",\"8_europe committee_of journalists_journalists\"],\"textfont\":{\"size\":12},\"x\":[3.0452380180358887,3.03078293800354,2.7685329914093018,3.047318696975708,2.3039019107818604,3.1812946796417236,2.891954183578491,2.8070831298828125,3.299309015274048,2.7536675930023193,3.065481424331665,2.7765188217163086,3.190568208694458,2.5049057006835938,3.025916814804077,3.309624195098877,3.093041181564331,2.77064847946167,3.374591112136841,3.1300790309906006,3.2178964614868164,2.79475998878479,2.9719595909118652],\"y\":[3.647876501083374,3.4712722301483154,3.6300370693206787,3.441614866256714,3.7935521602630615,3.4078164100646973,3.482417583465576,3.5416390895843506,3.523664951324463,3.6235389709472656,3.442654848098755,3.6694629192352295,3.388821601867676,3.690762758255005,3.4779610633850098,3.447991371154785,3.1080007553100586,3.6186320781707764,3.373469114303589,3.3839077949523926,3.3102238178253174,3.66275691986084,3.5062766075134277],\"type\":\"scattergl\"},{\"hoverinfo\":\"text\",\"hovertext\":[\"in june 2019, the garda inspectorate began a review into how the garda\\u00ed tackle corruption within their own ranks.\",\"greco (2014), fourth evaluation round \\u2013 evaluation report on ireland on corruption prevention in respect of members of parliament, judges and prosecutors.\",\"greco (2018), fourth evaluation round \\u2013 second compliance report on france on corruption prevention in respect of members of parliament, judges and prosecutors.\",\"greco (2015), fourth evaluation round \\u2013 compliance report on the netherlands on corruption prevention in respect of members of parliament, judges and prosecutors.\",\"in 2018, greco recommended ensuring that this procedure does not hamper the criminal justice process as regards corruption-related offences.\",\"greco (2012), fourth evaluation round \\u2013 evaluation report on the netherlands on corruption prevention in respect of members of parliament, judges and prosecutors.\",\"greco (2017), fourth evaluation round \\u2013 second compliance report on the slovak republic on corruption prevention in respect of members of parliament, judges and prosecutors.\",\"greco (2008), third evaluation round \\u2013 evaluation report on the netherlands on transparency of party funding.\",\"the whistleblowers\\u2019 act is currently undergoing evaluation, which may result in a revision of the whistleblowers\\u2019 authority\\u2019s mandate.\",\"greco (2018), fourth evaluation round \\u2013 interim compliance report on ireland on on corruption prevention in respect of members of parliament, judges and prosecutors.\",\"as a result of the third evaluation round of implementation of the oecd anti-bribery convention , national provisions on foreign bribery offences have been amended.\",\"greco (2018), fifth evaluation round \\u2013 evaluation report on the netherlands on preventing corruption and promoting integrity in central governments (top executive functions) and law enforcement agencies.\",\"greco (2008), third evaluation round \\u2013 evaluation report on the netherlands on incriminations (ets 173 and 191, gpc 2).\",\"greco (2018), fifth evaluation round \\u2013 evaluation report on france on preventing corruption and promoting integrity in central governments (top executive functions) and law enforcement agencies.\",\"greco (2012), third evaluation round \\u2013 second compliance report on the netherlands transparency of party funding.\",\"greco (2010), third evaluation round \\u2013 compliance report on the netherlands: incriminations (ets 173 and 191, gpc 2), transparency of party funding.\",\"all recommendations by greco concerning incriminations had been implemented by 2010.\",\"greco recommended for example that the vetting and screening of law enforcement staff take place at regular intervals during the entire service and that the control measures in respect of access to and use of confidential information be enhanced in order to prevent the unauthorised access to and leaking of information.\",null],\"marker\":{\"opacity\":0.5,\"size\":5},\"mode\":\"markers+text\",\"name\":\"9_corruption prevention_on corruption_preventing corruption\",\"text\":[\"\",\"\",\"\",\"\",\"\",\"\",\"\",\"\",\"\",\"\",\"\",\"\",\"\",\"\",\"\",\"\",\"\",\"\",\"9_corruption prevention_on corruption_preventing corruption\"],\"textfont\":{\"size\":12},\"x\":[8.700937271118164,8.619529724121094,8.54085636138916,8.492753982543945,8.51218318939209,8.474165916442871,8.51296329498291,8.073881149291992,8.615736961364746,8.552088737487793,8.67036247253418,8.490099906921387,8.18934440612793,8.59924602508545,8.007771492004395,8.08010482788086,8.205320358276367,8.455094337463379,8.432912826538086],\"y\":[4.282419681549072,4.203915596008301,4.149609088897705,4.134228706359863,4.147674083709717,4.092672824859619,4.067458629608154,4.228967189788818,4.316015243530273,4.122696876525879,4.359096050262451,4.09343957901001,3.954742193222046,4.161832332611084,4.299692630767822,4.1463470458984375,3.932713747024536,4.546979904174805,4.180028438568115],\"type\":\"scattergl\"},{\"hoverinfo\":\"text\",\"hovertext\":[\"directorate-general for communication (2019), flash eurobarometer 482: businesses and corruption.\",\"directorate-general for communication (2020), special eurobarometer 502: corruption.\",\"directorate-general for communication (2019), flash eurobarometer 482: businesses' attitudes towards corruption in the eu.\",\"directorate-general for communication (2020), flash eurobarometer 482: businesses\\u2019 attitudes towards corruption in the eu.\",\"directorate-general for communication (2020), special eurobarometer 502: corruption.\",\"\\\"Although BiH remains nominally interested in fulfilling European Union (EU) requirements on its accession path, in practice, the state\\u2019s attitude toward joining the EU is characterized by disinterest, exemplified by the submission of incomplete answers to follow-up questions in an EC questionnaire in February.\",\"directorate-general for communication (2020), special eurobarometer 502: corruption.\",\"directorate-general for communication (2020), eurobarometer: perceived independence of the national justice system in the eu among the general public.\",\"directorate-general for communication (2020), special eurobarometer 502: corruption.\",\"directorate-general for communication (2016-2020), eurobarometer: perceived independence of the national justice system in the eu among the general public.\",\"\\\"The June 2020 collapse of payment processing firm Wirecard, meanwhile, brought scrutiny on the German financial regulatory system.\",\"directorate-general for communication (2019), flash eurobarometer 482: businesses\\u2019 attitudes towards corruption in the eu.\",null],\"marker\":{\"opacity\":0.5,\"size\":5},\"mode\":\"markers+text\",\"name\":\"10_eu directorate_corruption directorate_corruption in\",\"text\":[\"\",\"\",\"\",\"\",\"\",\"\",\"\",\"\",\"\",\"\",\"\",\"\",\"10_eu directorate_corruption directorate_corruption in\"],\"textfont\":{\"size\":12},\"x\":[10.944705963134766,10.953849792480469,10.916152000427246,10.865836143493652,10.966190338134766,5.289733409881592,10.962311744689941,5.2984724044799805,10.959625244140625,5.277363300323486,10.885537147521973,10.83078384399414,9.51254653930664],\"y\":[3.934520721435547,3.9143612384796143,3.9651663303375244,4.023505687713623,3.897454261779785,1.9950295686721802,3.9012694358825684,1.9827243089675903,3.904385566711426,1.994787335395813,3.755092144012451,4.063039302825928,3.4442780017852783],\"type\":\"scattergl\"},{\"hoverinfo\":\"text\",\"hovertext\":[\"\\\"Her areas of research include electoral studies, voting behavior, and public opinion.\",\"\\\"The ratings are based on a scale of 1 to 7, with 7 representing the highest level of democratic progress and 1 the lowest.\",\"\\\"The opinions expressed in this report are those of the author(s).\",\"\\\"The ratings are based on a scale of 1 to 7, with 7 representing the highest level of democratic progress and 1 the lowest.\",\"\\\"The Democracy Percentage, introduced in 2020, is a translation of the Democracy Score to the 0\\u2013100 scale, where 0 equals least democratic and 100 equals most democratic.\",\"\\\"The opinions expressed in this report are those of the author(s).\",\"\\\"NOTE: The ratings reflect the consensus of Freedom House, its academic advisers, and the author(s) of this report.\",\"\\\"Public dissatisfaction with the government\\u2019s performance led to a steady decline in Reform Party ratings.\",\"\\\"The Democracy Score is an average of ratings for the categories tracked in a given year.\",\"\\\"Score Change: The score improved from 3 to 4 because the threat of imminent terrorist violence apparently receded.\",\"\\\"Note The ratings reflect the consensus of Freedom House, its academic advisers, and the author(s) of this report.\",\"\\\"The Democracy Score is an average of ratings for the categories tracked in a given year.\",null],\"marker\":{\"opacity\":0.5,\"size\":5},\"mode\":\"markers+text\",\"name\":\"11_democracy score_ratings reflect_ratings for\",\"text\":[\"\",\"\",\"\",\"\",\"\",\"\",\"\",\"\",\"\",\"\",\"\",\"\",\"11_democracy score_ratings reflect_ratings for\"],\"textfont\":{\"size\":12},\"x\":[3.5408365726470947,3.6851134300231934,3.5199108123779297,3.7022814750671387,3.681342840194702,3.53743052482605,3.6139445304870605,3.7407524585723877,3.6721572875976562,3.806734561920166,3.5596115589141846,3.6891672611236572,3.6457738876342773],\"y\":[7.584041595458984,7.420145511627197,7.59140157699585,7.42656946182251,7.421034336090088,7.57625150680542,7.485799312591553,7.363924503326416,7.4276347160339355,7.34290075302124,7.5462799072265625,7.412034511566162,7.466501235961914],\"type\":\"scattergl\"}],                        {\"template\":{\"data\":{\"barpolar\":[{\"marker\":{\"line\":{\"color\":\"white\",\"width\":0.5},\"pattern\":{\"fillmode\":\"overlay\",\"size\":10,\"solidity\":0.2}},\"type\":\"barpolar\"}],\"bar\":[{\"error_x\":{\"color\":\"rgb(36,36,36)\"},\"error_y\":{\"color\":\"rgb(36,36,36)\"},\"marker\":{\"line\":{\"color\":\"white\",\"width\":0.5},\"pattern\":{\"fillmode\":\"overlay\",\"size\":10,\"solidity\":0.2}},\"type\":\"bar\"}],\"carpet\":[{\"aaxis\":{\"endlinecolor\":\"rgb(36,36,36)\",\"gridcolor\":\"white\",\"linecolor\":\"white\",\"minorgridcolor\":\"white\",\"startlinecolor\":\"rgb(36,36,36)\"},\"baxis\":{\"endlinecolor\":\"rgb(36,36,36)\",\"gridcolor\":\"white\",\"linecolor\":\"white\",\"minorgridcolor\":\"white\",\"startlinecolor\":\"rgb(36,36,36)\"},\"type\":\"carpet\"}],\"choropleth\":[{\"colorbar\":{\"outlinewidth\":1,\"tickcolor\":\"rgb(36,36,36)\",\"ticks\":\"outside\"},\"type\":\"choropleth\"}],\"contourcarpet\":[{\"colorbar\":{\"outlinewidth\":1,\"tickcolor\":\"rgb(36,36,36)\",\"ticks\":\"outside\"},\"type\":\"contourcarpet\"}],\"contour\":[{\"colorbar\":{\"outlinewidth\":1,\"tickcolor\":\"rgb(36,36,36)\",\"ticks\":\"outside\"},\"colorscale\":[[0.0,\"#440154\"],[0.1111111111111111,\"#482878\"],[0.2222222222222222,\"#3e4989\"],[0.3333333333333333,\"#31688e\"],[0.4444444444444444,\"#26828e\"],[0.5555555555555556,\"#1f9e89\"],[0.6666666666666666,\"#35b779\"],[0.7777777777777778,\"#6ece58\"],[0.8888888888888888,\"#b5de2b\"],[1.0,\"#fde725\"]],\"type\":\"contour\"}],\"heatmapgl\":[{\"colorbar\":{\"outlinewidth\":1,\"tickcolor\":\"rgb(36,36,36)\",\"ticks\":\"outside\"},\"colorscale\":[[0.0,\"#440154\"],[0.1111111111111111,\"#482878\"],[0.2222222222222222,\"#3e4989\"],[0.3333333333333333,\"#31688e\"],[0.4444444444444444,\"#26828e\"],[0.5555555555555556,\"#1f9e89\"],[0.6666666666666666,\"#35b779\"],[0.7777777777777778,\"#6ece58\"],[0.8888888888888888,\"#b5de2b\"],[1.0,\"#fde725\"]],\"type\":\"heatmapgl\"}],\"heatmap\":[{\"colorbar\":{\"outlinewidth\":1,\"tickcolor\":\"rgb(36,36,36)\",\"ticks\":\"outside\"},\"colorscale\":[[0.0,\"#440154\"],[0.1111111111111111,\"#482878\"],[0.2222222222222222,\"#3e4989\"],[0.3333333333333333,\"#31688e\"],[0.4444444444444444,\"#26828e\"],[0.5555555555555556,\"#1f9e89\"],[0.6666666666666666,\"#35b779\"],[0.7777777777777778,\"#6ece58\"],[0.8888888888888888,\"#b5de2b\"],[1.0,\"#fde725\"]],\"type\":\"heatmap\"}],\"histogram2dcontour\":[{\"colorbar\":{\"outlinewidth\":1,\"tickcolor\":\"rgb(36,36,36)\",\"ticks\":\"outside\"},\"colorscale\":[[0.0,\"#440154\"],[0.1111111111111111,\"#482878\"],[0.2222222222222222,\"#3e4989\"],[0.3333333333333333,\"#31688e\"],[0.4444444444444444,\"#26828e\"],[0.5555555555555556,\"#1f9e89\"],[0.6666666666666666,\"#35b779\"],[0.7777777777777778,\"#6ece58\"],[0.8888888888888888,\"#b5de2b\"],[1.0,\"#fde725\"]],\"type\":\"histogram2dcontour\"}],\"histogram2d\":[{\"colorbar\":{\"outlinewidth\":1,\"tickcolor\":\"rgb(36,36,36)\",\"ticks\":\"outside\"},\"colorscale\":[[0.0,\"#440154\"],[0.1111111111111111,\"#482878\"],[0.2222222222222222,\"#3e4989\"],[0.3333333333333333,\"#31688e\"],[0.4444444444444444,\"#26828e\"],[0.5555555555555556,\"#1f9e89\"],[0.6666666666666666,\"#35b779\"],[0.7777777777777778,\"#6ece58\"],[0.8888888888888888,\"#b5de2b\"],[1.0,\"#fde725\"]],\"type\":\"histogram2d\"}],\"histogram\":[{\"marker\":{\"line\":{\"color\":\"white\",\"width\":0.6}},\"type\":\"histogram\"}],\"mesh3d\":[{\"colorbar\":{\"outlinewidth\":1,\"tickcolor\":\"rgb(36,36,36)\",\"ticks\":\"outside\"},\"type\":\"mesh3d\"}],\"parcoords\":[{\"line\":{\"colorbar\":{\"outlinewidth\":1,\"tickcolor\":\"rgb(36,36,36)\",\"ticks\":\"outside\"}},\"type\":\"parcoords\"}],\"pie\":[{\"automargin\":true,\"type\":\"pie\"}],\"scatter3d\":[{\"line\":{\"colorbar\":{\"outlinewidth\":1,\"tickcolor\":\"rgb(36,36,36)\",\"ticks\":\"outside\"}},\"marker\":{\"colorbar\":{\"outlinewidth\":1,\"tickcolor\":\"rgb(36,36,36)\",\"ticks\":\"outside\"}},\"type\":\"scatter3d\"}],\"scattercarpet\":[{\"marker\":{\"colorbar\":{\"outlinewidth\":1,\"tickcolor\":\"rgb(36,36,36)\",\"ticks\":\"outside\"}},\"type\":\"scattercarpet\"}],\"scattergeo\":[{\"marker\":{\"colorbar\":{\"outlinewidth\":1,\"tickcolor\":\"rgb(36,36,36)\",\"ticks\":\"outside\"}},\"type\":\"scattergeo\"}],\"scattergl\":[{\"marker\":{\"colorbar\":{\"outlinewidth\":1,\"tickcolor\":\"rgb(36,36,36)\",\"ticks\":\"outside\"}},\"type\":\"scattergl\"}],\"scattermapbox\":[{\"marker\":{\"colorbar\":{\"outlinewidth\":1,\"tickcolor\":\"rgb(36,36,36)\",\"ticks\":\"outside\"}},\"type\":\"scattermapbox\"}],\"scatterpolargl\":[{\"marker\":{\"colorbar\":{\"outlinewidth\":1,\"tickcolor\":\"rgb(36,36,36)\",\"ticks\":\"outside\"}},\"type\":\"scatterpolargl\"}],\"scatterpolar\":[{\"marker\":{\"colorbar\":{\"outlinewidth\":1,\"tickcolor\":\"rgb(36,36,36)\",\"ticks\":\"outside\"}},\"type\":\"scatterpolar\"}],\"scatter\":[{\"fillpattern\":{\"fillmode\":\"overlay\",\"size\":10,\"solidity\":0.2},\"type\":\"scatter\"}],\"scatterternary\":[{\"marker\":{\"colorbar\":{\"outlinewidth\":1,\"tickcolor\":\"rgb(36,36,36)\",\"ticks\":\"outside\"}},\"type\":\"scatterternary\"}],\"surface\":[{\"colorbar\":{\"outlinewidth\":1,\"tickcolor\":\"rgb(36,36,36)\",\"ticks\":\"outside\"},\"colorscale\":[[0.0,\"#440154\"],[0.1111111111111111,\"#482878\"],[0.2222222222222222,\"#3e4989\"],[0.3333333333333333,\"#31688e\"],[0.4444444444444444,\"#26828e\"],[0.5555555555555556,\"#1f9e89\"],[0.6666666666666666,\"#35b779\"],[0.7777777777777778,\"#6ece58\"],[0.8888888888888888,\"#b5de2b\"],[1.0,\"#fde725\"]],\"type\":\"surface\"}],\"table\":[{\"cells\":{\"fill\":{\"color\":\"rgb(237,237,237)\"},\"line\":{\"color\":\"white\"}},\"header\":{\"fill\":{\"color\":\"rgb(217,217,217)\"},\"line\":{\"color\":\"white\"}},\"type\":\"table\"}]},\"layout\":{\"annotationdefaults\":{\"arrowhead\":0,\"arrowwidth\":1},\"autotypenumbers\":\"strict\",\"coloraxis\":{\"colorbar\":{\"outlinewidth\":1,\"tickcolor\":\"rgb(36,36,36)\",\"ticks\":\"outside\"}},\"colorscale\":{\"diverging\":[[0.0,\"rgb(103,0,31)\"],[0.1,\"rgb(178,24,43)\"],[0.2,\"rgb(214,96,77)\"],[0.3,\"rgb(244,165,130)\"],[0.4,\"rgb(253,219,199)\"],[0.5,\"rgb(247,247,247)\"],[0.6,\"rgb(209,229,240)\"],[0.7,\"rgb(146,197,222)\"],[0.8,\"rgb(67,147,195)\"],[0.9,\"rgb(33,102,172)\"],[1.0,\"rgb(5,48,97)\"]],\"sequential\":[[0.0,\"#440154\"],[0.1111111111111111,\"#482878\"],[0.2222222222222222,\"#3e4989\"],[0.3333333333333333,\"#31688e\"],[0.4444444444444444,\"#26828e\"],[0.5555555555555556,\"#1f9e89\"],[0.6666666666666666,\"#35b779\"],[0.7777777777777778,\"#6ece58\"],[0.8888888888888888,\"#b5de2b\"],[1.0,\"#fde725\"]],\"sequentialminus\":[[0.0,\"#440154\"],[0.1111111111111111,\"#482878\"],[0.2222222222222222,\"#3e4989\"],[0.3333333333333333,\"#31688e\"],[0.4444444444444444,\"#26828e\"],[0.5555555555555556,\"#1f9e89\"],[0.6666666666666666,\"#35b779\"],[0.7777777777777778,\"#6ece58\"],[0.8888888888888888,\"#b5de2b\"],[1.0,\"#fde725\"]]},\"colorway\":[\"#1F77B4\",\"#FF7F0E\",\"#2CA02C\",\"#D62728\",\"#9467BD\",\"#8C564B\",\"#E377C2\",\"#7F7F7F\",\"#BCBD22\",\"#17BECF\"],\"font\":{\"color\":\"rgb(36,36,36)\"},\"geo\":{\"bgcolor\":\"white\",\"lakecolor\":\"white\",\"landcolor\":\"white\",\"showlakes\":true,\"showland\":true,\"subunitcolor\":\"white\"},\"hoverlabel\":{\"align\":\"left\"},\"hovermode\":\"closest\",\"mapbox\":{\"style\":\"light\"},\"paper_bgcolor\":\"white\",\"plot_bgcolor\":\"white\",\"polar\":{\"angularaxis\":{\"gridcolor\":\"rgb(232,232,232)\",\"linecolor\":\"rgb(36,36,36)\",\"showgrid\":false,\"showline\":true,\"ticks\":\"outside\"},\"bgcolor\":\"white\",\"radialaxis\":{\"gridcolor\":\"rgb(232,232,232)\",\"linecolor\":\"rgb(36,36,36)\",\"showgrid\":false,\"showline\":true,\"ticks\":\"outside\"}},\"scene\":{\"xaxis\":{\"backgroundcolor\":\"white\",\"gridcolor\":\"rgb(232,232,232)\",\"gridwidth\":2,\"linecolor\":\"rgb(36,36,36)\",\"showbackground\":true,\"showgrid\":false,\"showline\":true,\"ticks\":\"outside\",\"zeroline\":false,\"zerolinecolor\":\"rgb(36,36,36)\"},\"yaxis\":{\"backgroundcolor\":\"white\",\"gridcolor\":\"rgb(232,232,232)\",\"gridwidth\":2,\"linecolor\":\"rgb(36,36,36)\",\"showbackground\":true,\"showgrid\":false,\"showline\":true,\"ticks\":\"outside\",\"zeroline\":false,\"zerolinecolor\":\"rgb(36,36,36)\"},\"zaxis\":{\"backgroundcolor\":\"white\",\"gridcolor\":\"rgb(232,232,232)\",\"gridwidth\":2,\"linecolor\":\"rgb(36,36,36)\",\"showbackground\":true,\"showgrid\":false,\"showline\":true,\"ticks\":\"outside\",\"zeroline\":false,\"zerolinecolor\":\"rgb(36,36,36)\"}},\"shapedefaults\":{\"fillcolor\":\"black\",\"line\":{\"width\":0},\"opacity\":0.3},\"ternary\":{\"aaxis\":{\"gridcolor\":\"rgb(232,232,232)\",\"linecolor\":\"rgb(36,36,36)\",\"showgrid\":false,\"showline\":true,\"ticks\":\"outside\"},\"baxis\":{\"gridcolor\":\"rgb(232,232,232)\",\"linecolor\":\"rgb(36,36,36)\",\"showgrid\":false,\"showline\":true,\"ticks\":\"outside\"},\"bgcolor\":\"white\",\"caxis\":{\"gridcolor\":\"rgb(232,232,232)\",\"linecolor\":\"rgb(36,36,36)\",\"showgrid\":false,\"showline\":true,\"ticks\":\"outside\"}},\"title\":{\"x\":0.05},\"xaxis\":{\"automargin\":true,\"gridcolor\":\"rgb(232,232,232)\",\"linecolor\":\"rgb(36,36,36)\",\"showgrid\":false,\"showline\":true,\"ticks\":\"outside\",\"title\":{\"standoff\":15},\"zeroline\":false,\"zerolinecolor\":\"rgb(36,36,36)\"},\"yaxis\":{\"automargin\":true,\"gridcolor\":\"rgb(232,232,232)\",\"linecolor\":\"rgb(36,36,36)\",\"showgrid\":false,\"showline\":true,\"ticks\":\"outside\",\"title\":{\"standoff\":15},\"zeroline\":false,\"zerolinecolor\":\"rgb(36,36,36)\"}}},\"shapes\":[{\"line\":{\"color\":\"#CFD8DC\",\"width\":2},\"type\":\"line\",\"x0\":7.239335119724274,\"x1\":7.239335119724274,\"y0\":0.40846974700689315,\"y1\":10.920576906204223},{\"line\":{\"color\":\"#9E9E9E\",\"width\":2},\"type\":\"line\",\"x0\":1.8675513505935668,\"x1\":12.61111888885498,\"y0\":5.664523326605559,\"y1\":5.664523326605559}],\"annotations\":[{\"showarrow\":false,\"text\":\"D1\",\"x\":1.8675513505935668,\"y\":5.664523326605559,\"yshift\":10},{\"showarrow\":false,\"text\":\"D2\",\"x\":7.239335119724274,\"xshift\":10,\"y\":10.920576906204223}],\"title\":{\"font\":{\"size\":22,\"color\":\"Black\"},\"text\":\"\\u003cb\\u003eDocuments and Topics\\u003c\\u002fb\\u003e\",\"x\":0.5,\"xanchor\":\"center\",\"yanchor\":\"top\"},\"width\":1200,\"height\":750,\"xaxis\":{\"visible\":false},\"yaxis\":{\"visible\":false}},                        {\"responsive\": true}                    ).then(function(){\n",
       "                            \n",
       "var gd = document.getElementById('2e09918c-fc62-4f0f-aa13-a05893fcc738');\n",
       "var x = new MutationObserver(function (mutations, observer) {{\n",
       "        var display = window.getComputedStyle(gd).display;\n",
       "        if (!display || display === 'none') {{\n",
       "            console.log([gd, 'removed!']);\n",
       "            Plotly.purge(gd);\n",
       "            observer.disconnect();\n",
       "        }}\n",
       "}});\n",
       "\n",
       "// Listen for the removal of the full notebook cells\n",
       "var notebookContainer = gd.closest('#notebook-container');\n",
       "if (notebookContainer) {{\n",
       "    x.observe(notebookContainer, {childList: true});\n",
       "}}\n",
       "\n",
       "// Listen for the clearing of the current output cell\n",
       "var outputEl = gd.closest('.output');\n",
       "if (outputEl) {{\n",
       "    x.observe(outputEl, {childList: true});\n",
       "}}\n",
       "\n",
       "                        })                };                });            </script>        </div>"
      ]
     },
     "metadata": {},
     "output_type": "display_data"
    }
   ],
   "source": [
    "topic_model.visualize_documents(docs, embeddings=embeddings)"
   ]
  },
  {
   "cell_type": "code",
   "execution_count": 46,
   "id": "44d31051-4232-4bce-b3a6-8dd2905cd655",
   "metadata": {
    "tags": []
   },
   "outputs": [
    {
     "data": {
      "application/vnd.plotly.v1+json": {
       "config": {
        "plotlyServerURL": "https://plot.ly"
       },
       "data": [
        {
         "marker": {
          "color": "#D55E00"
         },
         "orientation": "h",
         "type": "bar",
         "x": [
          0.5962479114532471,
          0.6004635095596313,
          0.6398625373840332,
          0.6503421068191528,
          0.6699428558349609
         ],
         "xaxis": "x",
         "y": [
          "north macedonia  ",
          "macedonian  ",
          "balkan  ",
          "macedonia  ",
          "balkan insight  "
         ],
         "yaxis": "y"
        },
        {
         "marker": {
          "color": "#0072B2"
         },
         "orientation": "h",
         "type": "bar",
         "x": [
          0.6014842391014099,
          0.6133691072463989,
          0.6165899038314819,
          0.6264479160308838,
          0.6674388647079468
         ],
         "xaxis": "x2",
         "y": [
          "corruption is  ",
          "corruption  ",
          "corruption and  ",
          "against corruption  ",
          "anti corruption  "
         ],
         "yaxis": "y2"
        },
        {
         "marker": {
          "color": "#CC79A7"
         },
         "orientation": "h",
         "type": "bar",
         "x": [
          0.4902058243751526,
          0.5018187761306763,
          0.5256391167640686,
          0.6052619218826294,
          0.6152921915054321
         ],
         "xaxis": "x3",
         "y": [
          "the council  ",
          "ministers 2010  ",
          "judges independence  ",
          "judicial council  ",
          "europe committee  "
         ],
         "yaxis": "y3"
        },
        {
         "marker": {
          "color": "#E69F00"
         },
         "orientation": "h",
         "type": "bar",
         "x": [
          0.3935030698776245,
          0.3992643356323242,
          0.40211647748947144,
          0.4143383502960205,
          0.42657142877578735
         ],
         "xaxis": "x4",
         "y": [
          "2021 err  ",
          "october 2021  ",
          "estonian  ",
          "2021  ",
          "estonia  "
         ],
         "yaxis": "y4"
        },
        {
         "marker": {
          "color": "#56B4E9"
         },
         "orientation": "h",
         "type": "bar",
         "x": [
          0.34209489822387695,
          0.36097145080566406,
          0.3646297752857208,
          0.3747643530368805,
          0.385611355304718
         ],
         "xaxis": "x5",
         "y": [
          "compliance with  ",
          "compliance  ",
          "in 2019  ",
          "of 2019  ",
          "government has  "
         ],
         "yaxis": "y5"
        },
        {
         "marker": {
          "color": "#009E73"
         },
         "orientation": "h",
         "type": "bar",
         "x": [
          0.5631613731384277,
          0.5986679792404175,
          0.6014832854270935,
          0.6399195194244385,
          0.6437302231788635
         ],
         "xaxis": "x6",
         "y": [
          "slovakia and  ",
          "of slovakia  ",
          "slovakia  ",
          "slovakia 2014  ",
          "report slovakia  "
         ],
         "yaxis": "y6"
        },
        {
         "marker": {
          "color": "#F0E442"
         },
         "orientation": "h",
         "type": "bar",
         "x": [
          0.5452812314033508,
          0.550195574760437,
          0.5532675981521606,
          0.6609843969345093,
          0.7777337431907654
         ],
         "xaxis": "x7",
         "y": [
          "court of  ",
          "european commission  ",
          "tribunal  ",
          "eu justice  ",
          "european court  "
         ],
         "yaxis": "y7"
        },
        {
         "marker": {
          "color": "#D55E00"
         },
         "orientation": "h",
         "type": "bar",
         "x": [
          0.4708937406539917,
          0.4734259247779846,
          0.4792773127555847,
          0.4910244941711426,
          0.5068072080612183
         ],
         "xaxis": "x8",
         "y": [
          "corruption  ",
          "punished eu  ",
          "corruption is  ",
          "consider corruption  ",
          "corrupt practices  "
         ],
         "yaxis": "y8"
        },
        {
         "marker": {
          "color": "#0072B2"
         },
         "orientation": "h",
         "type": "bar",
         "x": [
          0.5144668817520142,
          0.5623781085014343,
          0.5643758773803711,
          0.5752826929092407,
          0.5834969878196716
         ],
         "xaxis": "x9",
         "y": [
          "council of  ",
          "journalists and  ",
          "journalists  ",
          "of journalists  ",
          "europe committee  "
         ],
         "yaxis": "y9"
        },
        {
         "marker": {
          "color": "#CC79A7"
         },
         "orientation": "h",
         "type": "bar",
         "x": [
          0.4965011477470398,
          0.5124093294143677,
          0.535987377166748,
          0.5457643270492554,
          0.5843764543533325
         ],
         "xaxis": "x10",
         "y": [
          "corruption  ",
          "prosecutors greco  ",
          "preventing corruption  ",
          "on corruption  ",
          "corruption prevention  "
         ],
         "yaxis": "y10"
        }
       ],
       "layout": {
        "annotations": [
         {
          "font": {
           "size": 16
          },
          "showarrow": false,
          "text": "Topic 0",
          "x": 0.0875,
          "xanchor": "center",
          "xref": "paper",
          "y": 1,
          "yanchor": "bottom",
          "yref": "paper"
         },
         {
          "font": {
           "size": 16
          },
          "showarrow": false,
          "text": "Topic 1",
          "x": 0.36250000000000004,
          "xanchor": "center",
          "xref": "paper",
          "y": 1,
          "yanchor": "bottom",
          "yref": "paper"
         },
         {
          "font": {
           "size": 16
          },
          "showarrow": false,
          "text": "Topic 2",
          "x": 0.6375000000000001,
          "xanchor": "center",
          "xref": "paper",
          "y": 1,
          "yanchor": "bottom",
          "yref": "paper"
         },
         {
          "font": {
           "size": 16
          },
          "showarrow": false,
          "text": "Topic 3",
          "x": 0.9125,
          "xanchor": "center",
          "xref": "paper",
          "y": 1,
          "yanchor": "bottom",
          "yref": "paper"
         },
         {
          "font": {
           "size": 16
          },
          "showarrow": false,
          "text": "Topic 4",
          "x": 0.0875,
          "xanchor": "center",
          "xref": "paper",
          "y": 0.6222222222222222,
          "yanchor": "bottom",
          "yref": "paper"
         },
         {
          "font": {
           "size": 16
          },
          "showarrow": false,
          "text": "Topic 5",
          "x": 0.36250000000000004,
          "xanchor": "center",
          "xref": "paper",
          "y": 0.6222222222222222,
          "yanchor": "bottom",
          "yref": "paper"
         },
         {
          "font": {
           "size": 16
          },
          "showarrow": false,
          "text": "Topic 6",
          "x": 0.6375000000000001,
          "xanchor": "center",
          "xref": "paper",
          "y": 0.6222222222222222,
          "yanchor": "bottom",
          "yref": "paper"
         },
         {
          "font": {
           "size": 16
          },
          "showarrow": false,
          "text": "Topic 7",
          "x": 0.9125,
          "xanchor": "center",
          "xref": "paper",
          "y": 0.6222222222222222,
          "yanchor": "bottom",
          "yref": "paper"
         },
         {
          "font": {
           "size": 16
          },
          "showarrow": false,
          "text": "Topic 8",
          "x": 0.0875,
          "xanchor": "center",
          "xref": "paper",
          "y": 0.24444444444444446,
          "yanchor": "bottom",
          "yref": "paper"
         },
         {
          "font": {
           "size": 16
          },
          "showarrow": false,
          "text": "Topic 9",
          "x": 0.36250000000000004,
          "xanchor": "center",
          "xref": "paper",
          "y": 0.24444444444444446,
          "yanchor": "bottom",
          "yref": "paper"
         }
        ],
        "height": 750,
        "hoverlabel": {
         "bgcolor": "white",
         "font": {
          "family": "Rockwell",
          "size": 16
         }
        },
        "showlegend": false,
        "template": {
         "data": {
          "bar": [
           {
            "error_x": {
             "color": "#2a3f5f"
            },
            "error_y": {
             "color": "#2a3f5f"
            },
            "marker": {
             "line": {
              "color": "white",
              "width": 0.5
             },
             "pattern": {
              "fillmode": "overlay",
              "size": 10,
              "solidity": 0.2
             }
            },
            "type": "bar"
           }
          ],
          "barpolar": [
           {
            "marker": {
             "line": {
              "color": "white",
              "width": 0.5
             },
             "pattern": {
              "fillmode": "overlay",
              "size": 10,
              "solidity": 0.2
             }
            },
            "type": "barpolar"
           }
          ],
          "carpet": [
           {
            "aaxis": {
             "endlinecolor": "#2a3f5f",
             "gridcolor": "#C8D4E3",
             "linecolor": "#C8D4E3",
             "minorgridcolor": "#C8D4E3",
             "startlinecolor": "#2a3f5f"
            },
            "baxis": {
             "endlinecolor": "#2a3f5f",
             "gridcolor": "#C8D4E3",
             "linecolor": "#C8D4E3",
             "minorgridcolor": "#C8D4E3",
             "startlinecolor": "#2a3f5f"
            },
            "type": "carpet"
           }
          ],
          "choropleth": [
           {
            "colorbar": {
             "outlinewidth": 0,
             "ticks": ""
            },
            "type": "choropleth"
           }
          ],
          "contour": [
           {
            "colorbar": {
             "outlinewidth": 0,
             "ticks": ""
            },
            "colorscale": [
             [
              0,
              "#0d0887"
             ],
             [
              0.1111111111111111,
              "#46039f"
             ],
             [
              0.2222222222222222,
              "#7201a8"
             ],
             [
              0.3333333333333333,
              "#9c179e"
             ],
             [
              0.4444444444444444,
              "#bd3786"
             ],
             [
              0.5555555555555556,
              "#d8576b"
             ],
             [
              0.6666666666666666,
              "#ed7953"
             ],
             [
              0.7777777777777778,
              "#fb9f3a"
             ],
             [
              0.8888888888888888,
              "#fdca26"
             ],
             [
              1,
              "#f0f921"
             ]
            ],
            "type": "contour"
           }
          ],
          "contourcarpet": [
           {
            "colorbar": {
             "outlinewidth": 0,
             "ticks": ""
            },
            "type": "contourcarpet"
           }
          ],
          "heatmap": [
           {
            "colorbar": {
             "outlinewidth": 0,
             "ticks": ""
            },
            "colorscale": [
             [
              0,
              "#0d0887"
             ],
             [
              0.1111111111111111,
              "#46039f"
             ],
             [
              0.2222222222222222,
              "#7201a8"
             ],
             [
              0.3333333333333333,
              "#9c179e"
             ],
             [
              0.4444444444444444,
              "#bd3786"
             ],
             [
              0.5555555555555556,
              "#d8576b"
             ],
             [
              0.6666666666666666,
              "#ed7953"
             ],
             [
              0.7777777777777778,
              "#fb9f3a"
             ],
             [
              0.8888888888888888,
              "#fdca26"
             ],
             [
              1,
              "#f0f921"
             ]
            ],
            "type": "heatmap"
           }
          ],
          "heatmapgl": [
           {
            "colorbar": {
             "outlinewidth": 0,
             "ticks": ""
            },
            "colorscale": [
             [
              0,
              "#0d0887"
             ],
             [
              0.1111111111111111,
              "#46039f"
             ],
             [
              0.2222222222222222,
              "#7201a8"
             ],
             [
              0.3333333333333333,
              "#9c179e"
             ],
             [
              0.4444444444444444,
              "#bd3786"
             ],
             [
              0.5555555555555556,
              "#d8576b"
             ],
             [
              0.6666666666666666,
              "#ed7953"
             ],
             [
              0.7777777777777778,
              "#fb9f3a"
             ],
             [
              0.8888888888888888,
              "#fdca26"
             ],
             [
              1,
              "#f0f921"
             ]
            ],
            "type": "heatmapgl"
           }
          ],
          "histogram": [
           {
            "marker": {
             "pattern": {
              "fillmode": "overlay",
              "size": 10,
              "solidity": 0.2
             }
            },
            "type": "histogram"
           }
          ],
          "histogram2d": [
           {
            "colorbar": {
             "outlinewidth": 0,
             "ticks": ""
            },
            "colorscale": [
             [
              0,
              "#0d0887"
             ],
             [
              0.1111111111111111,
              "#46039f"
             ],
             [
              0.2222222222222222,
              "#7201a8"
             ],
             [
              0.3333333333333333,
              "#9c179e"
             ],
             [
              0.4444444444444444,
              "#bd3786"
             ],
             [
              0.5555555555555556,
              "#d8576b"
             ],
             [
              0.6666666666666666,
              "#ed7953"
             ],
             [
              0.7777777777777778,
              "#fb9f3a"
             ],
             [
              0.8888888888888888,
              "#fdca26"
             ],
             [
              1,
              "#f0f921"
             ]
            ],
            "type": "histogram2d"
           }
          ],
          "histogram2dcontour": [
           {
            "colorbar": {
             "outlinewidth": 0,
             "ticks": ""
            },
            "colorscale": [
             [
              0,
              "#0d0887"
             ],
             [
              0.1111111111111111,
              "#46039f"
             ],
             [
              0.2222222222222222,
              "#7201a8"
             ],
             [
              0.3333333333333333,
              "#9c179e"
             ],
             [
              0.4444444444444444,
              "#bd3786"
             ],
             [
              0.5555555555555556,
              "#d8576b"
             ],
             [
              0.6666666666666666,
              "#ed7953"
             ],
             [
              0.7777777777777778,
              "#fb9f3a"
             ],
             [
              0.8888888888888888,
              "#fdca26"
             ],
             [
              1,
              "#f0f921"
             ]
            ],
            "type": "histogram2dcontour"
           }
          ],
          "mesh3d": [
           {
            "colorbar": {
             "outlinewidth": 0,
             "ticks": ""
            },
            "type": "mesh3d"
           }
          ],
          "parcoords": [
           {
            "line": {
             "colorbar": {
              "outlinewidth": 0,
              "ticks": ""
             }
            },
            "type": "parcoords"
           }
          ],
          "pie": [
           {
            "automargin": true,
            "type": "pie"
           }
          ],
          "scatter": [
           {
            "fillpattern": {
             "fillmode": "overlay",
             "size": 10,
             "solidity": 0.2
            },
            "type": "scatter"
           }
          ],
          "scatter3d": [
           {
            "line": {
             "colorbar": {
              "outlinewidth": 0,
              "ticks": ""
             }
            },
            "marker": {
             "colorbar": {
              "outlinewidth": 0,
              "ticks": ""
             }
            },
            "type": "scatter3d"
           }
          ],
          "scattercarpet": [
           {
            "marker": {
             "colorbar": {
              "outlinewidth": 0,
              "ticks": ""
             }
            },
            "type": "scattercarpet"
           }
          ],
          "scattergeo": [
           {
            "marker": {
             "colorbar": {
              "outlinewidth": 0,
              "ticks": ""
             }
            },
            "type": "scattergeo"
           }
          ],
          "scattergl": [
           {
            "marker": {
             "colorbar": {
              "outlinewidth": 0,
              "ticks": ""
             }
            },
            "type": "scattergl"
           }
          ],
          "scattermapbox": [
           {
            "marker": {
             "colorbar": {
              "outlinewidth": 0,
              "ticks": ""
             }
            },
            "type": "scattermapbox"
           }
          ],
          "scatterpolar": [
           {
            "marker": {
             "colorbar": {
              "outlinewidth": 0,
              "ticks": ""
             }
            },
            "type": "scatterpolar"
           }
          ],
          "scatterpolargl": [
           {
            "marker": {
             "colorbar": {
              "outlinewidth": 0,
              "ticks": ""
             }
            },
            "type": "scatterpolargl"
           }
          ],
          "scatterternary": [
           {
            "marker": {
             "colorbar": {
              "outlinewidth": 0,
              "ticks": ""
             }
            },
            "type": "scatterternary"
           }
          ],
          "surface": [
           {
            "colorbar": {
             "outlinewidth": 0,
             "ticks": ""
            },
            "colorscale": [
             [
              0,
              "#0d0887"
             ],
             [
              0.1111111111111111,
              "#46039f"
             ],
             [
              0.2222222222222222,
              "#7201a8"
             ],
             [
              0.3333333333333333,
              "#9c179e"
             ],
             [
              0.4444444444444444,
              "#bd3786"
             ],
             [
              0.5555555555555556,
              "#d8576b"
             ],
             [
              0.6666666666666666,
              "#ed7953"
             ],
             [
              0.7777777777777778,
              "#fb9f3a"
             ],
             [
              0.8888888888888888,
              "#fdca26"
             ],
             [
              1,
              "#f0f921"
             ]
            ],
            "type": "surface"
           }
          ],
          "table": [
           {
            "cells": {
             "fill": {
              "color": "#EBF0F8"
             },
             "line": {
              "color": "white"
             }
            },
            "header": {
             "fill": {
              "color": "#C8D4E3"
             },
             "line": {
              "color": "white"
             }
            },
            "type": "table"
           }
          ]
         },
         "layout": {
          "annotationdefaults": {
           "arrowcolor": "#2a3f5f",
           "arrowhead": 0,
           "arrowwidth": 1
          },
          "autotypenumbers": "strict",
          "coloraxis": {
           "colorbar": {
            "outlinewidth": 0,
            "ticks": ""
           }
          },
          "colorscale": {
           "diverging": [
            [
             0,
             "#8e0152"
            ],
            [
             0.1,
             "#c51b7d"
            ],
            [
             0.2,
             "#de77ae"
            ],
            [
             0.3,
             "#f1b6da"
            ],
            [
             0.4,
             "#fde0ef"
            ],
            [
             0.5,
             "#f7f7f7"
            ],
            [
             0.6,
             "#e6f5d0"
            ],
            [
             0.7,
             "#b8e186"
            ],
            [
             0.8,
             "#7fbc41"
            ],
            [
             0.9,
             "#4d9221"
            ],
            [
             1,
             "#276419"
            ]
           ],
           "sequential": [
            [
             0,
             "#0d0887"
            ],
            [
             0.1111111111111111,
             "#46039f"
            ],
            [
             0.2222222222222222,
             "#7201a8"
            ],
            [
             0.3333333333333333,
             "#9c179e"
            ],
            [
             0.4444444444444444,
             "#bd3786"
            ],
            [
             0.5555555555555556,
             "#d8576b"
            ],
            [
             0.6666666666666666,
             "#ed7953"
            ],
            [
             0.7777777777777778,
             "#fb9f3a"
            ],
            [
             0.8888888888888888,
             "#fdca26"
            ],
            [
             1,
             "#f0f921"
            ]
           ],
           "sequentialminus": [
            [
             0,
             "#0d0887"
            ],
            [
             0.1111111111111111,
             "#46039f"
            ],
            [
             0.2222222222222222,
             "#7201a8"
            ],
            [
             0.3333333333333333,
             "#9c179e"
            ],
            [
             0.4444444444444444,
             "#bd3786"
            ],
            [
             0.5555555555555556,
             "#d8576b"
            ],
            [
             0.6666666666666666,
             "#ed7953"
            ],
            [
             0.7777777777777778,
             "#fb9f3a"
            ],
            [
             0.8888888888888888,
             "#fdca26"
            ],
            [
             1,
             "#f0f921"
            ]
           ]
          },
          "colorway": [
           "#636efa",
           "#EF553B",
           "#00cc96",
           "#ab63fa",
           "#FFA15A",
           "#19d3f3",
           "#FF6692",
           "#B6E880",
           "#FF97FF",
           "#FECB52"
          ],
          "font": {
           "color": "#2a3f5f"
          },
          "geo": {
           "bgcolor": "white",
           "lakecolor": "white",
           "landcolor": "white",
           "showlakes": true,
           "showland": true,
           "subunitcolor": "#C8D4E3"
          },
          "hoverlabel": {
           "align": "left"
          },
          "hovermode": "closest",
          "mapbox": {
           "style": "light"
          },
          "paper_bgcolor": "white",
          "plot_bgcolor": "white",
          "polar": {
           "angularaxis": {
            "gridcolor": "#EBF0F8",
            "linecolor": "#EBF0F8",
            "ticks": ""
           },
           "bgcolor": "white",
           "radialaxis": {
            "gridcolor": "#EBF0F8",
            "linecolor": "#EBF0F8",
            "ticks": ""
           }
          },
          "scene": {
           "xaxis": {
            "backgroundcolor": "white",
            "gridcolor": "#DFE8F3",
            "gridwidth": 2,
            "linecolor": "#EBF0F8",
            "showbackground": true,
            "ticks": "",
            "zerolinecolor": "#EBF0F8"
           },
           "yaxis": {
            "backgroundcolor": "white",
            "gridcolor": "#DFE8F3",
            "gridwidth": 2,
            "linecolor": "#EBF0F8",
            "showbackground": true,
            "ticks": "",
            "zerolinecolor": "#EBF0F8"
           },
           "zaxis": {
            "backgroundcolor": "white",
            "gridcolor": "#DFE8F3",
            "gridwidth": 2,
            "linecolor": "#EBF0F8",
            "showbackground": true,
            "ticks": "",
            "zerolinecolor": "#EBF0F8"
           }
          },
          "shapedefaults": {
           "line": {
            "color": "#2a3f5f"
           }
          },
          "ternary": {
           "aaxis": {
            "gridcolor": "#DFE8F3",
            "linecolor": "#A2B1C6",
            "ticks": ""
           },
           "baxis": {
            "gridcolor": "#DFE8F3",
            "linecolor": "#A2B1C6",
            "ticks": ""
           },
           "bgcolor": "white",
           "caxis": {
            "gridcolor": "#DFE8F3",
            "linecolor": "#A2B1C6",
            "ticks": ""
           }
          },
          "title": {
           "x": 0.05
          },
          "xaxis": {
           "automargin": true,
           "gridcolor": "#EBF0F8",
           "linecolor": "#EBF0F8",
           "ticks": "",
           "title": {
            "standoff": 15
           },
           "zerolinecolor": "#EBF0F8",
           "zerolinewidth": 2
          },
          "yaxis": {
           "automargin": true,
           "gridcolor": "#EBF0F8",
           "linecolor": "#EBF0F8",
           "ticks": "",
           "title": {
            "standoff": 15
           },
           "zerolinecolor": "#EBF0F8",
           "zerolinewidth": 2
          }
         }
        },
        "title": {
         "font": {
          "color": "Black",
          "size": 22
         },
         "text": "Topic Word Scores",
         "x": 0.5,
         "xanchor": "center",
         "yanchor": "top"
        },
        "width": 1000,
        "xaxis": {
         "anchor": "y",
         "autorange": true,
         "domain": [
          0,
          0.175
         ],
         "range": [
          0,
          0.7052030061420641
         ],
         "showgrid": true,
         "type": "linear"
        },
        "xaxis10": {
         "anchor": "y10",
         "autorange": true,
         "domain": [
          0.275,
          0.45
         ],
         "range": [
          0,
          0.6151331098456132
         ],
         "showgrid": true,
         "type": "linear"
        },
        "xaxis11": {
         "anchor": "y11",
         "domain": [
          0.55,
          0.7250000000000001
         ],
         "showgrid": true
        },
        "xaxis12": {
         "anchor": "y12",
         "domain": [
          0.825,
          1
         ],
         "showgrid": true
        },
        "xaxis2": {
         "anchor": "y2",
         "autorange": true,
         "domain": [
          0.275,
          0.45
         ],
         "range": [
          0,
          0.7025672260083651
         ],
         "showgrid": true,
         "type": "linear"
        },
        "xaxis3": {
         "anchor": "y3",
         "autorange": true,
         "domain": [
          0.55,
          0.7250000000000001
         ],
         "range": [
          0,
          0.6476759910583496
         ],
         "showgrid": true,
         "type": "linear"
        },
        "xaxis4": {
         "anchor": "y4",
         "autorange": true,
         "domain": [
          0.825,
          1
         ],
         "range": [
          0,
          0.44902255660609197
         ],
         "showgrid": true,
         "type": "linear"
        },
        "xaxis5": {
         "anchor": "y5",
         "autorange": true,
         "domain": [
          0,
          0.175
         ],
         "range": [
          0,
          0.40590668979444
         ],
         "showgrid": true,
         "type": "linear"
        },
        "xaxis6": {
         "anchor": "y6",
         "autorange": true,
         "domain": [
          0.275,
          0.45
         ],
         "range": [
          0,
          0.677610761240909
         ],
         "showgrid": true,
         "type": "linear"
        },
        "xaxis7": {
         "anchor": "y7",
         "autorange": true,
         "domain": [
          0.55,
          0.7250000000000001
         ],
         "range": [
          0,
          0.8186670980955425
         ],
         "showgrid": true,
         "type": "linear"
        },
        "xaxis8": {
         "anchor": "y8",
         "autorange": true,
         "domain": [
          0.825,
          1
         ],
         "range": [
          0,
          0.5334812716433877
         ],
         "showgrid": true,
         "type": "linear"
        },
        "xaxis9": {
         "anchor": "y9",
         "autorange": true,
         "domain": [
          0,
          0.175
         ],
         "range": [
          0,
          0.6142073555996543
         ],
         "showgrid": true,
         "type": "linear"
        },
        "yaxis": {
         "anchor": "x",
         "autorange": true,
         "domain": [
          0.7555555555555555,
          1
         ],
         "range": [
          -0.5,
          4.5
         ],
         "showgrid": true,
         "type": "category"
        },
        "yaxis10": {
         "anchor": "x10",
         "autorange": true,
         "domain": [
          0,
          0.24444444444444446
         ],
         "range": [
          -0.5,
          4.5
         ],
         "showgrid": true,
         "type": "category"
        },
        "yaxis11": {
         "anchor": "x11",
         "domain": [
          0,
          0.24444444444444446
         ],
         "showgrid": true
        },
        "yaxis12": {
         "anchor": "x12",
         "domain": [
          0,
          0.24444444444444446
         ],
         "showgrid": true
        },
        "yaxis2": {
         "anchor": "x2",
         "autorange": true,
         "domain": [
          0.7555555555555555,
          1
         ],
         "range": [
          -0.5,
          4.5
         ],
         "showgrid": true,
         "type": "category"
        },
        "yaxis3": {
         "anchor": "x3",
         "autorange": true,
         "domain": [
          0.7555555555555555,
          1
         ],
         "range": [
          -0.5,
          4.5
         ],
         "showgrid": true,
         "type": "category"
        },
        "yaxis4": {
         "anchor": "x4",
         "autorange": true,
         "domain": [
          0.7555555555555555,
          1
         ],
         "range": [
          -0.5,
          4.5
         ],
         "showgrid": true,
         "type": "category"
        },
        "yaxis5": {
         "anchor": "x5",
         "autorange": true,
         "domain": [
          0.37777777777777777,
          0.6222222222222222
         ],
         "range": [
          -0.5,
          4.5
         ],
         "showgrid": true,
         "type": "category"
        },
        "yaxis6": {
         "anchor": "x6",
         "autorange": true,
         "domain": [
          0.37777777777777777,
          0.6222222222222222
         ],
         "range": [
          -0.5,
          4.5
         ],
         "showgrid": true,
         "type": "category"
        },
        "yaxis7": {
         "anchor": "x7",
         "autorange": true,
         "domain": [
          0.37777777777777777,
          0.6222222222222222
         ],
         "range": [
          -0.5,
          4.5
         ],
         "showgrid": true,
         "type": "category"
        },
        "yaxis8": {
         "anchor": "x8",
         "autorange": true,
         "domain": [
          0.37777777777777777,
          0.6222222222222222
         ],
         "range": [
          -0.5,
          4.5
         ],
         "showgrid": true,
         "type": "category"
        },
        "yaxis9": {
         "anchor": "x9",
         "autorange": true,
         "domain": [
          0,
          0.24444444444444446
         ],
         "range": [
          -0.5,
          4.5
         ],
         "showgrid": true,
         "type": "category"
        }
       }
      },
      "image/png": "[encoded data removed]",
      "text/html": [
       "<div>                            <div id=\"0e6b3280-5dce-4ded-8828-5ee092cdd512\" class=\"plotly-graph-div\" style=\"height:750px; width:1000px;\"></div>            <script type=\"text/javascript\">                require([\"plotly\"], function(Plotly) {                    window.PLOTLYENV=window.PLOTLYENV || {};                                    if (document.getElementById(\"0e6b3280-5dce-4ded-8828-5ee092cdd512\")) {                    Plotly.newPlot(                        \"0e6b3280-5dce-4ded-8828-5ee092cdd512\",                        [{\"marker\":{\"color\":\"#D55E00\"},\"orientation\":\"h\",\"x\":[0.5962479114532471,0.6004635095596313,0.6398625373840332,0.6503421068191528,0.6699428558349609],\"y\":[\"north macedonia  \",\"macedonian  \",\"balkan  \",\"macedonia  \",\"balkan insight  \"],\"type\":\"bar\",\"xaxis\":\"x\",\"yaxis\":\"y\"},{\"marker\":{\"color\":\"#0072B2\"},\"orientation\":\"h\",\"x\":[0.6014842391014099,0.6133691072463989,0.6165899038314819,0.6264479160308838,0.6674388647079468],\"y\":[\"corruption is  \",\"corruption  \",\"corruption and  \",\"against corruption  \",\"anti corruption  \"],\"type\":\"bar\",\"xaxis\":\"x2\",\"yaxis\":\"y2\"},{\"marker\":{\"color\":\"#CC79A7\"},\"orientation\":\"h\",\"x\":[0.4902058243751526,0.5018187761306763,0.5256391167640686,0.6052619218826294,0.6152921915054321],\"y\":[\"the council  \",\"ministers 2010  \",\"judges independence  \",\"judicial council  \",\"europe committee  \"],\"type\":\"bar\",\"xaxis\":\"x3\",\"yaxis\":\"y3\"},{\"marker\":{\"color\":\"#E69F00\"},\"orientation\":\"h\",\"x\":[0.3935030698776245,0.3992643356323242,0.40211647748947144,0.4143383502960205,0.42657142877578735],\"y\":[\"2021 err  \",\"october 2021  \",\"estonian  \",\"2021  \",\"estonia  \"],\"type\":\"bar\",\"xaxis\":\"x4\",\"yaxis\":\"y4\"},{\"marker\":{\"color\":\"#56B4E9\"},\"orientation\":\"h\",\"x\":[0.34209489822387695,0.36097145080566406,0.3646297752857208,0.3747643530368805,0.385611355304718],\"y\":[\"compliance with  \",\"compliance  \",\"in 2019  \",\"of 2019  \",\"government has  \"],\"type\":\"bar\",\"xaxis\":\"x5\",\"yaxis\":\"y5\"},{\"marker\":{\"color\":\"#009E73\"},\"orientation\":\"h\",\"x\":[0.5631613731384277,0.5986679792404175,0.6014832854270935,0.6399195194244385,0.6437302231788635],\"y\":[\"slovakia and  \",\"of slovakia  \",\"slovakia  \",\"slovakia 2014  \",\"report slovakia  \"],\"type\":\"bar\",\"xaxis\":\"x6\",\"yaxis\":\"y6\"},{\"marker\":{\"color\":\"#F0E442\"},\"orientation\":\"h\",\"x\":[0.5452812314033508,0.550195574760437,0.5532675981521606,0.6609843969345093,0.7777337431907654],\"y\":[\"court of  \",\"european commission  \",\"tribunal  \",\"eu justice  \",\"european court  \"],\"type\":\"bar\",\"xaxis\":\"x7\",\"yaxis\":\"y7\"},{\"marker\":{\"color\":\"#D55E00\"},\"orientation\":\"h\",\"x\":[0.4708937406539917,0.4734259247779846,0.4792773127555847,0.4910244941711426,0.5068072080612183],\"y\":[\"corruption  \",\"punished eu  \",\"corruption is  \",\"consider corruption  \",\"corrupt practices  \"],\"type\":\"bar\",\"xaxis\":\"x8\",\"yaxis\":\"y8\"},{\"marker\":{\"color\":\"#0072B2\"},\"orientation\":\"h\",\"x\":[0.5144668817520142,0.5623781085014343,0.5643758773803711,0.5752826929092407,0.5834969878196716],\"y\":[\"council of  \",\"journalists and  \",\"journalists  \",\"of journalists  \",\"europe committee  \"],\"type\":\"bar\",\"xaxis\":\"x9\",\"yaxis\":\"y9\"},{\"marker\":{\"color\":\"#CC79A7\"},\"orientation\":\"h\",\"x\":[0.4965011477470398,0.5124093294143677,0.535987377166748,0.5457643270492554,0.5843764543533325],\"y\":[\"corruption  \",\"prosecutors greco  \",\"preventing corruption  \",\"on corruption  \",\"corruption prevention  \"],\"type\":\"bar\",\"xaxis\":\"x10\",\"yaxis\":\"y10\"}],                        {\"template\":{\"data\":{\"barpolar\":[{\"marker\":{\"line\":{\"color\":\"white\",\"width\":0.5},\"pattern\":{\"fillmode\":\"overlay\",\"size\":10,\"solidity\":0.2}},\"type\":\"barpolar\"}],\"bar\":[{\"error_x\":{\"color\":\"#2a3f5f\"},\"error_y\":{\"color\":\"#2a3f5f\"},\"marker\":{\"line\":{\"color\":\"white\",\"width\":0.5},\"pattern\":{\"fillmode\":\"overlay\",\"size\":10,\"solidity\":0.2}},\"type\":\"bar\"}],\"carpet\":[{\"aaxis\":{\"endlinecolor\":\"#2a3f5f\",\"gridcolor\":\"#C8D4E3\",\"linecolor\":\"#C8D4E3\",\"minorgridcolor\":\"#C8D4E3\",\"startlinecolor\":\"#2a3f5f\"},\"baxis\":{\"endlinecolor\":\"#2a3f5f\",\"gridcolor\":\"#C8D4E3\",\"linecolor\":\"#C8D4E3\",\"minorgridcolor\":\"#C8D4E3\",\"startlinecolor\":\"#2a3f5f\"},\"type\":\"carpet\"}],\"choropleth\":[{\"colorbar\":{\"outlinewidth\":0,\"ticks\":\"\"},\"type\":\"choropleth\"}],\"contourcarpet\":[{\"colorbar\":{\"outlinewidth\":0,\"ticks\":\"\"},\"type\":\"contourcarpet\"}],\"contour\":[{\"colorbar\":{\"outlinewidth\":0,\"ticks\":\"\"},\"colorscale\":[[0.0,\"#0d0887\"],[0.1111111111111111,\"#46039f\"],[0.2222222222222222,\"#7201a8\"],[0.3333333333333333,\"#9c179e\"],[0.4444444444444444,\"#bd3786\"],[0.5555555555555556,\"#d8576b\"],[0.6666666666666666,\"#ed7953\"],[0.7777777777777778,\"#fb9f3a\"],[0.8888888888888888,\"#fdca26\"],[1.0,\"#f0f921\"]],\"type\":\"contour\"}],\"heatmapgl\":[{\"colorbar\":{\"outlinewidth\":0,\"ticks\":\"\"},\"colorscale\":[[0.0,\"#0d0887\"],[0.1111111111111111,\"#46039f\"],[0.2222222222222222,\"#7201a8\"],[0.3333333333333333,\"#9c179e\"],[0.4444444444444444,\"#bd3786\"],[0.5555555555555556,\"#d8576b\"],[0.6666666666666666,\"#ed7953\"],[0.7777777777777778,\"#fb9f3a\"],[0.8888888888888888,\"#fdca26\"],[1.0,\"#f0f921\"]],\"type\":\"heatmapgl\"}],\"heatmap\":[{\"colorbar\":{\"outlinewidth\":0,\"ticks\":\"\"},\"colorscale\":[[0.0,\"#0d0887\"],[0.1111111111111111,\"#46039f\"],[0.2222222222222222,\"#7201a8\"],[0.3333333333333333,\"#9c179e\"],[0.4444444444444444,\"#bd3786\"],[0.5555555555555556,\"#d8576b\"],[0.6666666666666666,\"#ed7953\"],[0.7777777777777778,\"#fb9f3a\"],[0.8888888888888888,\"#fdca26\"],[1.0,\"#f0f921\"]],\"type\":\"heatmap\"}],\"histogram2dcontour\":[{\"colorbar\":{\"outlinewidth\":0,\"ticks\":\"\"},\"colorscale\":[[0.0,\"#0d0887\"],[0.1111111111111111,\"#46039f\"],[0.2222222222222222,\"#7201a8\"],[0.3333333333333333,\"#9c179e\"],[0.4444444444444444,\"#bd3786\"],[0.5555555555555556,\"#d8576b\"],[0.6666666666666666,\"#ed7953\"],[0.7777777777777778,\"#fb9f3a\"],[0.8888888888888888,\"#fdca26\"],[1.0,\"#f0f921\"]],\"type\":\"histogram2dcontour\"}],\"histogram2d\":[{\"colorbar\":{\"outlinewidth\":0,\"ticks\":\"\"},\"colorscale\":[[0.0,\"#0d0887\"],[0.1111111111111111,\"#46039f\"],[0.2222222222222222,\"#7201a8\"],[0.3333333333333333,\"#9c179e\"],[0.4444444444444444,\"#bd3786\"],[0.5555555555555556,\"#d8576b\"],[0.6666666666666666,\"#ed7953\"],[0.7777777777777778,\"#fb9f3a\"],[0.8888888888888888,\"#fdca26\"],[1.0,\"#f0f921\"]],\"type\":\"histogram2d\"}],\"histogram\":[{\"marker\":{\"pattern\":{\"fillmode\":\"overlay\",\"size\":10,\"solidity\":0.2}},\"type\":\"histogram\"}],\"mesh3d\":[{\"colorbar\":{\"outlinewidth\":0,\"ticks\":\"\"},\"type\":\"mesh3d\"}],\"parcoords\":[{\"line\":{\"colorbar\":{\"outlinewidth\":0,\"ticks\":\"\"}},\"type\":\"parcoords\"}],\"pie\":[{\"automargin\":true,\"type\":\"pie\"}],\"scatter3d\":[{\"line\":{\"colorbar\":{\"outlinewidth\":0,\"ticks\":\"\"}},\"marker\":{\"colorbar\":{\"outlinewidth\":0,\"ticks\":\"\"}},\"type\":\"scatter3d\"}],\"scattercarpet\":[{\"marker\":{\"colorbar\":{\"outlinewidth\":0,\"ticks\":\"\"}},\"type\":\"scattercarpet\"}],\"scattergeo\":[{\"marker\":{\"colorbar\":{\"outlinewidth\":0,\"ticks\":\"\"}},\"type\":\"scattergeo\"}],\"scattergl\":[{\"marker\":{\"colorbar\":{\"outlinewidth\":0,\"ticks\":\"\"}},\"type\":\"scattergl\"}],\"scattermapbox\":[{\"marker\":{\"colorbar\":{\"outlinewidth\":0,\"ticks\":\"\"}},\"type\":\"scattermapbox\"}],\"scatterpolargl\":[{\"marker\":{\"colorbar\":{\"outlinewidth\":0,\"ticks\":\"\"}},\"type\":\"scatterpolargl\"}],\"scatterpolar\":[{\"marker\":{\"colorbar\":{\"outlinewidth\":0,\"ticks\":\"\"}},\"type\":\"scatterpolar\"}],\"scatter\":[{\"fillpattern\":{\"fillmode\":\"overlay\",\"size\":10,\"solidity\":0.2},\"type\":\"scatter\"}],\"scatterternary\":[{\"marker\":{\"colorbar\":{\"outlinewidth\":0,\"ticks\":\"\"}},\"type\":\"scatterternary\"}],\"surface\":[{\"colorbar\":{\"outlinewidth\":0,\"ticks\":\"\"},\"colorscale\":[[0.0,\"#0d0887\"],[0.1111111111111111,\"#46039f\"],[0.2222222222222222,\"#7201a8\"],[0.3333333333333333,\"#9c179e\"],[0.4444444444444444,\"#bd3786\"],[0.5555555555555556,\"#d8576b\"],[0.6666666666666666,\"#ed7953\"],[0.7777777777777778,\"#fb9f3a\"],[0.8888888888888888,\"#fdca26\"],[1.0,\"#f0f921\"]],\"type\":\"surface\"}],\"table\":[{\"cells\":{\"fill\":{\"color\":\"#EBF0F8\"},\"line\":{\"color\":\"white\"}},\"header\":{\"fill\":{\"color\":\"#C8D4E3\"},\"line\":{\"color\":\"white\"}},\"type\":\"table\"}]},\"layout\":{\"annotationdefaults\":{\"arrowcolor\":\"#2a3f5f\",\"arrowhead\":0,\"arrowwidth\":1},\"autotypenumbers\":\"strict\",\"coloraxis\":{\"colorbar\":{\"outlinewidth\":0,\"ticks\":\"\"}},\"colorscale\":{\"diverging\":[[0,\"#8e0152\"],[0.1,\"#c51b7d\"],[0.2,\"#de77ae\"],[0.3,\"#f1b6da\"],[0.4,\"#fde0ef\"],[0.5,\"#f7f7f7\"],[0.6,\"#e6f5d0\"],[0.7,\"#b8e186\"],[0.8,\"#7fbc41\"],[0.9,\"#4d9221\"],[1,\"#276419\"]],\"sequential\":[[0.0,\"#0d0887\"],[0.1111111111111111,\"#46039f\"],[0.2222222222222222,\"#7201a8\"],[0.3333333333333333,\"#9c179e\"],[0.4444444444444444,\"#bd3786\"],[0.5555555555555556,\"#d8576b\"],[0.6666666666666666,\"#ed7953\"],[0.7777777777777778,\"#fb9f3a\"],[0.8888888888888888,\"#fdca26\"],[1.0,\"#f0f921\"]],\"sequentialminus\":[[0.0,\"#0d0887\"],[0.1111111111111111,\"#46039f\"],[0.2222222222222222,\"#7201a8\"],[0.3333333333333333,\"#9c179e\"],[0.4444444444444444,\"#bd3786\"],[0.5555555555555556,\"#d8576b\"],[0.6666666666666666,\"#ed7953\"],[0.7777777777777778,\"#fb9f3a\"],[0.8888888888888888,\"#fdca26\"],[1.0,\"#f0f921\"]]},\"colorway\":[\"#636efa\",\"#EF553B\",\"#00cc96\",\"#ab63fa\",\"#FFA15A\",\"#19d3f3\",\"#FF6692\",\"#B6E880\",\"#FF97FF\",\"#FECB52\"],\"font\":{\"color\":\"#2a3f5f\"},\"geo\":{\"bgcolor\":\"white\",\"lakecolor\":\"white\",\"landcolor\":\"white\",\"showlakes\":true,\"showland\":true,\"subunitcolor\":\"#C8D4E3\"},\"hoverlabel\":{\"align\":\"left\"},\"hovermode\":\"closest\",\"mapbox\":{\"style\":\"light\"},\"paper_bgcolor\":\"white\",\"plot_bgcolor\":\"white\",\"polar\":{\"angularaxis\":{\"gridcolor\":\"#EBF0F8\",\"linecolor\":\"#EBF0F8\",\"ticks\":\"\"},\"bgcolor\":\"white\",\"radialaxis\":{\"gridcolor\":\"#EBF0F8\",\"linecolor\":\"#EBF0F8\",\"ticks\":\"\"}},\"scene\":{\"xaxis\":{\"backgroundcolor\":\"white\",\"gridcolor\":\"#DFE8F3\",\"gridwidth\":2,\"linecolor\":\"#EBF0F8\",\"showbackground\":true,\"ticks\":\"\",\"zerolinecolor\":\"#EBF0F8\"},\"yaxis\":{\"backgroundcolor\":\"white\",\"gridcolor\":\"#DFE8F3\",\"gridwidth\":2,\"linecolor\":\"#EBF0F8\",\"showbackground\":true,\"ticks\":\"\",\"zerolinecolor\":\"#EBF0F8\"},\"zaxis\":{\"backgroundcolor\":\"white\",\"gridcolor\":\"#DFE8F3\",\"gridwidth\":2,\"linecolor\":\"#EBF0F8\",\"showbackground\":true,\"ticks\":\"\",\"zerolinecolor\":\"#EBF0F8\"}},\"shapedefaults\":{\"line\":{\"color\":\"#2a3f5f\"}},\"ternary\":{\"aaxis\":{\"gridcolor\":\"#DFE8F3\",\"linecolor\":\"#A2B1C6\",\"ticks\":\"\"},\"baxis\":{\"gridcolor\":\"#DFE8F3\",\"linecolor\":\"#A2B1C6\",\"ticks\":\"\"},\"bgcolor\":\"white\",\"caxis\":{\"gridcolor\":\"#DFE8F3\",\"linecolor\":\"#A2B1C6\",\"ticks\":\"\"}},\"title\":{\"x\":0.05},\"xaxis\":{\"automargin\":true,\"gridcolor\":\"#EBF0F8\",\"linecolor\":\"#EBF0F8\",\"ticks\":\"\",\"title\":{\"standoff\":15},\"zerolinecolor\":\"#EBF0F8\",\"zerolinewidth\":2},\"yaxis\":{\"automargin\":true,\"gridcolor\":\"#EBF0F8\",\"linecolor\":\"#EBF0F8\",\"ticks\":\"\",\"title\":{\"standoff\":15},\"zerolinecolor\":\"#EBF0F8\",\"zerolinewidth\":2}}},\"xaxis\":{\"anchor\":\"y\",\"domain\":[0.0,0.175],\"showgrid\":true},\"yaxis\":{\"anchor\":\"x\",\"domain\":[0.7555555555555555,1.0],\"showgrid\":true},\"xaxis2\":{\"anchor\":\"y2\",\"domain\":[0.275,0.45],\"showgrid\":true},\"yaxis2\":{\"anchor\":\"x2\",\"domain\":[0.7555555555555555,1.0],\"showgrid\":true},\"xaxis3\":{\"anchor\":\"y3\",\"domain\":[0.55,0.7250000000000001],\"showgrid\":true},\"yaxis3\":{\"anchor\":\"x3\",\"domain\":[0.7555555555555555,1.0],\"showgrid\":true},\"xaxis4\":{\"anchor\":\"y4\",\"domain\":[0.825,1.0],\"showgrid\":true},\"yaxis4\":{\"anchor\":\"x4\",\"domain\":[0.7555555555555555,1.0],\"showgrid\":true},\"xaxis5\":{\"anchor\":\"y5\",\"domain\":[0.0,0.175],\"showgrid\":true},\"yaxis5\":{\"anchor\":\"x5\",\"domain\":[0.37777777777777777,0.6222222222222222],\"showgrid\":true},\"xaxis6\":{\"anchor\":\"y6\",\"domain\":[0.275,0.45],\"showgrid\":true},\"yaxis6\":{\"anchor\":\"x6\",\"domain\":[0.37777777777777777,0.6222222222222222],\"showgrid\":true},\"xaxis7\":{\"anchor\":\"y7\",\"domain\":[0.55,0.7250000000000001],\"showgrid\":true},\"yaxis7\":{\"anchor\":\"x7\",\"domain\":[0.37777777777777777,0.6222222222222222],\"showgrid\":true},\"xaxis8\":{\"anchor\":\"y8\",\"domain\":[0.825,1.0],\"showgrid\":true},\"yaxis8\":{\"anchor\":\"x8\",\"domain\":[0.37777777777777777,0.6222222222222222],\"showgrid\":true},\"xaxis9\":{\"anchor\":\"y9\",\"domain\":[0.0,0.175],\"showgrid\":true},\"yaxis9\":{\"anchor\":\"x9\",\"domain\":[0.0,0.24444444444444446],\"showgrid\":true},\"xaxis10\":{\"anchor\":\"y10\",\"domain\":[0.275,0.45],\"showgrid\":true},\"yaxis10\":{\"anchor\":\"x10\",\"domain\":[0.0,0.24444444444444446],\"showgrid\":true},\"xaxis11\":{\"anchor\":\"y11\",\"domain\":[0.55,0.7250000000000001],\"showgrid\":true},\"yaxis11\":{\"anchor\":\"x11\",\"domain\":[0.0,0.24444444444444446],\"showgrid\":true},\"xaxis12\":{\"anchor\":\"y12\",\"domain\":[0.825,1.0],\"showgrid\":true},\"yaxis12\":{\"anchor\":\"x12\",\"domain\":[0.0,0.24444444444444446],\"showgrid\":true},\"annotations\":[{\"font\":{\"size\":16},\"showarrow\":false,\"text\":\"Topic 0\",\"x\":0.0875,\"xanchor\":\"center\",\"xref\":\"paper\",\"y\":1.0,\"yanchor\":\"bottom\",\"yref\":\"paper\"},{\"font\":{\"size\":16},\"showarrow\":false,\"text\":\"Topic 1\",\"x\":0.36250000000000004,\"xanchor\":\"center\",\"xref\":\"paper\",\"y\":1.0,\"yanchor\":\"bottom\",\"yref\":\"paper\"},{\"font\":{\"size\":16},\"showarrow\":false,\"text\":\"Topic 2\",\"x\":0.6375000000000001,\"xanchor\":\"center\",\"xref\":\"paper\",\"y\":1.0,\"yanchor\":\"bottom\",\"yref\":\"paper\"},{\"font\":{\"size\":16},\"showarrow\":false,\"text\":\"Topic 3\",\"x\":0.9125,\"xanchor\":\"center\",\"xref\":\"paper\",\"y\":1.0,\"yanchor\":\"bottom\",\"yref\":\"paper\"},{\"font\":{\"size\":16},\"showarrow\":false,\"text\":\"Topic 4\",\"x\":0.0875,\"xanchor\":\"center\",\"xref\":\"paper\",\"y\":0.6222222222222222,\"yanchor\":\"bottom\",\"yref\":\"paper\"},{\"font\":{\"size\":16},\"showarrow\":false,\"text\":\"Topic 5\",\"x\":0.36250000000000004,\"xanchor\":\"center\",\"xref\":\"paper\",\"y\":0.6222222222222222,\"yanchor\":\"bottom\",\"yref\":\"paper\"},{\"font\":{\"size\":16},\"showarrow\":false,\"text\":\"Topic 6\",\"x\":0.6375000000000001,\"xanchor\":\"center\",\"xref\":\"paper\",\"y\":0.6222222222222222,\"yanchor\":\"bottom\",\"yref\":\"paper\"},{\"font\":{\"size\":16},\"showarrow\":false,\"text\":\"Topic 7\",\"x\":0.9125,\"xanchor\":\"center\",\"xref\":\"paper\",\"y\":0.6222222222222222,\"yanchor\":\"bottom\",\"yref\":\"paper\"},{\"font\":{\"size\":16},\"showarrow\":false,\"text\":\"Topic 8\",\"x\":0.0875,\"xanchor\":\"center\",\"xref\":\"paper\",\"y\":0.24444444444444446,\"yanchor\":\"bottom\",\"yref\":\"paper\"},{\"font\":{\"size\":16},\"showarrow\":false,\"text\":\"Topic 9\",\"x\":0.36250000000000004,\"xanchor\":\"center\",\"xref\":\"paper\",\"y\":0.24444444444444446,\"yanchor\":\"bottom\",\"yref\":\"paper\"}],\"title\":{\"font\":{\"size\":22,\"color\":\"Black\"},\"text\":\"Topic Word Scores\",\"x\":0.5,\"xanchor\":\"center\",\"yanchor\":\"top\"},\"hoverlabel\":{\"font\":{\"size\":16,\"family\":\"Rockwell\"},\"bgcolor\":\"white\"},\"showlegend\":false,\"width\":1000,\"height\":750},                        {\"responsive\": true}                    ).then(function(){\n",
       "                            \n",
       "var gd = document.getElementById('0e6b3280-5dce-4ded-8828-5ee092cdd512');\n",
       "var x = new MutationObserver(function (mutations, observer) {{\n",
       "        var display = window.getComputedStyle(gd).display;\n",
       "        if (!display || display === 'none') {{\n",
       "            console.log([gd, 'removed!']);\n",
       "            Plotly.purge(gd);\n",
       "            observer.disconnect();\n",
       "        }}\n",
       "}});\n",
       "\n",
       "// Listen for the removal of the full notebook cells\n",
       "var notebookContainer = gd.closest('#notebook-container');\n",
       "if (notebookContainer) {{\n",
       "    x.observe(notebookContainer, {childList: true});\n",
       "}}\n",
       "\n",
       "// Listen for the clearing of the current output cell\n",
       "var outputEl = gd.closest('.output');\n",
       "if (outputEl) {{\n",
       "    x.observe(outputEl, {childList: true});\n",
       "}}\n",
       "\n",
       "                        })                };                });            </script>        </div>"
      ]
     },
     "metadata": {},
     "output_type": "display_data"
    }
   ],
   "source": [
    "# visualize topic words/n_grams\n",
    "fig = topic_model.visualize_barchart(top_n_topics=10)\n",
    "fig.show()"
   ]
  },
  {
   "cell_type": "code",
   "execution_count": 47,
   "id": "26b60843-ec6b-43e8-af9b-bd4f516cb09a",
   "metadata": {
    "tags": []
   },
   "outputs": [
    {
     "data": {
      "application/vnd.plotly.v1+json": {
       "config": {
        "plotlyServerURL": "https://plot.ly"
       },
       "data": [
        {
         "customdata": [
          [
           0,
           "balkan insight | macedonia | balkan | macedonian | north macedonia",
           55
          ],
          [
           1,
           "anti corruption | against corruption | corruption and | corruption | corruption is",
           54
          ],
          [
           2,
           "europe committee | judicial council | judges independence | ministers 2010 | the council",
           47
          ],
          [
           3,
           "estonia | 2021 | estonian | october 2021 | 2021 err",
           40
          ],
          [
           4,
           "government has | of 2019 | in 2019 | compliance | compliance with",
           31
          ],
          [
           5,
           "report slovakia | slovakia 2014 | slovakia | of slovakia | slovakia and",
           30
          ],
          [
           6,
           "european court | eu justice | tribunal | european commission | court of",
           29
          ],
          [
           7,
           "corrupt practices | consider corruption | corruption is | punished eu | corruption",
           22
          ],
          [
           8,
           "europe committee | of journalists | journalists | journalists and | council of",
           22
          ],
          [
           9,
           "corruption prevention | on corruption | preventing corruption | prosecutors greco | corruption",
           18
          ],
          [
           10,
           "eu directorate | corruption directorate | corruption in | corruption | towards corruption",
           12
          ],
          [
           11,
           "democracy score | ratings reflect | ratings for | ratings are | ratings",
           12
          ]
         ],
         "hovertemplate": "<b>Topic %{customdata[0]}</b><br>%{customdata[1]}<br>Size: %{customdata[2]}",
         "legendgroup": "",
         "marker": {
          "color": "#B0BEC5",
          "line": {
           "color": "DarkSlateGrey",
           "width": 2
          },
          "size": [
           55,
           54,
           47,
           40,
           31,
           30,
           29,
           22,
           22,
           18,
           12,
           12
          ],
          "sizemode": "area",
          "sizeref": 0.034375,
          "symbol": "circle"
         },
         "mode": "markers",
         "name": "",
         "orientation": "v",
         "showlegend": false,
         "type": "scatter",
         "x": [
          9.187209129333496,
          10.215383529663086,
          7.364803314208984,
          9.400303840637207,
          6.807048320770264,
          7.134153842926025,
          7.762152671813965,
          10.346412658691406,
          6.831636428833008,
          9.659977912902832,
          10.75526237487793,
          9.27382755279541
         ],
         "xaxis": "x",
         "y": [
          13.236917495727539,
          -1.3774240016937256,
          2.435551643371582,
          13.024435043334961,
          3.267606258392334,
          3.0414702892303467,
          2.1198678016662598,
          -0.782332718372345,
          2.174478769302368,
          -1.522077202796936,
          -1.2669813632965088,
          -1.2958828210830688
         ],
         "yaxis": "y"
        }
       ],
       "layout": {
        "annotations": [
         {
          "showarrow": false,
          "text": "D1",
          "x": 5.785991072654724,
          "y": 6.736033168435097,
          "yshift": 10
         },
         {
          "showarrow": false,
          "text": "D2",
          "x": 9.077271401882172,
          "xshift": 10,
          "y": 15.22245512008667
         }
        ],
        "height": 650,
        "hoverlabel": {
         "bgcolor": "white",
         "font": {
          "family": "Rockwell",
          "size": 16
         }
        },
        "legend": {
         "itemsizing": "constant",
         "tracegroupgap": 0
        },
        "margin": {
         "t": 60
        },
        "shapes": [
         {
          "line": {
           "color": "#CFD8DC",
           "width": 2
          },
          "type": "line",
          "x0": 9.077271401882172,
          "x1": 9.077271401882172,
          "y0": -1.7503887832164764,
          "y1": 15.22245512008667
         },
         {
          "line": {
           "color": "#9E9E9E",
           "width": 2
          },
          "type": "line",
          "x0": 5.785991072654724,
          "x1": 12.36855173110962,
          "y0": 6.736033168435097,
          "y1": 6.736033168435097
         }
        ],
        "sliders": [
         {
          "active": 0,
          "pad": {
           "t": 50
          },
          "steps": [
           {
            "args": [
             {
              "marker.color": [
               [
                "red",
                "#B0BEC5",
                "#B0BEC5",
                "#B0BEC5",
                "#B0BEC5",
                "#B0BEC5",
                "#B0BEC5",
                "#B0BEC5",
                "#B0BEC5",
                "#B0BEC5",
                "#B0BEC5",
                "#B0BEC5"
               ]
              ]
             }
            ],
            "label": "Topic 0",
            "method": "update"
           },
           {
            "args": [
             {
              "marker.color": [
               [
                "#B0BEC5",
                "red",
                "#B0BEC5",
                "#B0BEC5",
                "#B0BEC5",
                "#B0BEC5",
                "#B0BEC5",
                "#B0BEC5",
                "#B0BEC5",
                "#B0BEC5",
                "#B0BEC5",
                "#B0BEC5"
               ]
              ]
             }
            ],
            "label": "Topic 1",
            "method": "update"
           },
           {
            "args": [
             {
              "marker.color": [
               [
                "#B0BEC5",
                "#B0BEC5",
                "red",
                "#B0BEC5",
                "#B0BEC5",
                "#B0BEC5",
                "#B0BEC5",
                "#B0BEC5",
                "#B0BEC5",
                "#B0BEC5",
                "#B0BEC5",
                "#B0BEC5"
               ]
              ]
             }
            ],
            "label": "Topic 2",
            "method": "update"
           },
           {
            "args": [
             {
              "marker.color": [
               [
                "#B0BEC5",
                "#B0BEC5",
                "#B0BEC5",
                "red",
                "#B0BEC5",
                "#B0BEC5",
                "#B0BEC5",
                "#B0BEC5",
                "#B0BEC5",
                "#B0BEC5",
                "#B0BEC5",
                "#B0BEC5"
               ]
              ]
             }
            ],
            "label": "Topic 3",
            "method": "update"
           },
           {
            "args": [
             {
              "marker.color": [
               [
                "#B0BEC5",
                "#B0BEC5",
                "#B0BEC5",
                "#B0BEC5",
                "red",
                "#B0BEC5",
                "#B0BEC5",
                "#B0BEC5",
                "#B0BEC5",
                "#B0BEC5",
                "#B0BEC5",
                "#B0BEC5"
               ]
              ]
             }
            ],
            "label": "Topic 4",
            "method": "update"
           },
           {
            "args": [
             {
              "marker.color": [
               [
                "#B0BEC5",
                "#B0BEC5",
                "#B0BEC5",
                "#B0BEC5",
                "#B0BEC5",
                "red",
                "#B0BEC5",
                "#B0BEC5",
                "#B0BEC5",
                "#B0BEC5",
                "#B0BEC5",
                "#B0BEC5"
               ]
              ]
             }
            ],
            "label": "Topic 5",
            "method": "update"
           },
           {
            "args": [
             {
              "marker.color": [
               [
                "#B0BEC5",
                "#B0BEC5",
                "#B0BEC5",
                "#B0BEC5",
                "#B0BEC5",
                "#B0BEC5",
                "red",
                "#B0BEC5",
                "#B0BEC5",
                "#B0BEC5",
                "#B0BEC5",
                "#B0BEC5"
               ]
              ]
             }
            ],
            "label": "Topic 6",
            "method": "update"
           },
           {
            "args": [
             {
              "marker.color": [
               [
                "#B0BEC5",
                "#B0BEC5",
                "#B0BEC5",
                "#B0BEC5",
                "#B0BEC5",
                "#B0BEC5",
                "#B0BEC5",
                "red",
                "#B0BEC5",
                "#B0BEC5",
                "#B0BEC5",
                "#B0BEC5"
               ]
              ]
             }
            ],
            "label": "Topic 7",
            "method": "update"
           },
           {
            "args": [
             {
              "marker.color": [
               [
                "#B0BEC5",
                "#B0BEC5",
                "#B0BEC5",
                "#B0BEC5",
                "#B0BEC5",
                "#B0BEC5",
                "#B0BEC5",
                "#B0BEC5",
                "red",
                "#B0BEC5",
                "#B0BEC5",
                "#B0BEC5"
               ]
              ]
             }
            ],
            "label": "Topic 8",
            "method": "update"
           },
           {
            "args": [
             {
              "marker.color": [
               [
                "#B0BEC5",
                "#B0BEC5",
                "#B0BEC5",
                "#B0BEC5",
                "#B0BEC5",
                "#B0BEC5",
                "#B0BEC5",
                "#B0BEC5",
                "#B0BEC5",
                "red",
                "#B0BEC5",
                "#B0BEC5"
               ]
              ]
             }
            ],
            "label": "Topic 9",
            "method": "update"
           },
           {
            "args": [
             {
              "marker.color": [
               [
                "#B0BEC5",
                "#B0BEC5",
                "#B0BEC5",
                "#B0BEC5",
                "#B0BEC5",
                "#B0BEC5",
                "#B0BEC5",
                "#B0BEC5",
                "#B0BEC5",
                "#B0BEC5",
                "red",
                "#B0BEC5"
               ]
              ]
             }
            ],
            "label": "Topic 10",
            "method": "update"
           },
           {
            "args": [
             {
              "marker.color": [
               [
                "#B0BEC5",
                "#B0BEC5",
                "#B0BEC5",
                "#B0BEC5",
                "#B0BEC5",
                "#B0BEC5",
                "#B0BEC5",
                "#B0BEC5",
                "#B0BEC5",
                "#B0BEC5",
                "#B0BEC5",
                "red"
               ]
              ]
             }
            ],
            "label": "Topic 11",
            "method": "update"
           }
          ]
         }
        ],
        "template": {
         "data": {
          "bar": [
           {
            "error_x": {
             "color": "rgb(36,36,36)"
            },
            "error_y": {
             "color": "rgb(36,36,36)"
            },
            "marker": {
             "line": {
              "color": "white",
              "width": 0.5
             },
             "pattern": {
              "fillmode": "overlay",
              "size": 10,
              "solidity": 0.2
             }
            },
            "type": "bar"
           }
          ],
          "barpolar": [
           {
            "marker": {
             "line": {
              "color": "white",
              "width": 0.5
             },
             "pattern": {
              "fillmode": "overlay",
              "size": 10,
              "solidity": 0.2
             }
            },
            "type": "barpolar"
           }
          ],
          "carpet": [
           {
            "aaxis": {
             "endlinecolor": "rgb(36,36,36)",
             "gridcolor": "white",
             "linecolor": "white",
             "minorgridcolor": "white",
             "startlinecolor": "rgb(36,36,36)"
            },
            "baxis": {
             "endlinecolor": "rgb(36,36,36)",
             "gridcolor": "white",
             "linecolor": "white",
             "minorgridcolor": "white",
             "startlinecolor": "rgb(36,36,36)"
            },
            "type": "carpet"
           }
          ],
          "choropleth": [
           {
            "colorbar": {
             "outlinewidth": 1,
             "tickcolor": "rgb(36,36,36)",
             "ticks": "outside"
            },
            "type": "choropleth"
           }
          ],
          "contour": [
           {
            "colorbar": {
             "outlinewidth": 1,
             "tickcolor": "rgb(36,36,36)",
             "ticks": "outside"
            },
            "colorscale": [
             [
              0,
              "#440154"
             ],
             [
              0.1111111111111111,
              "#482878"
             ],
             [
              0.2222222222222222,
              "#3e4989"
             ],
             [
              0.3333333333333333,
              "#31688e"
             ],
             [
              0.4444444444444444,
              "#26828e"
             ],
             [
              0.5555555555555556,
              "#1f9e89"
             ],
             [
              0.6666666666666666,
              "#35b779"
             ],
             [
              0.7777777777777778,
              "#6ece58"
             ],
             [
              0.8888888888888888,
              "#b5de2b"
             ],
             [
              1,
              "#fde725"
             ]
            ],
            "type": "contour"
           }
          ],
          "contourcarpet": [
           {
            "colorbar": {
             "outlinewidth": 1,
             "tickcolor": "rgb(36,36,36)",
             "ticks": "outside"
            },
            "type": "contourcarpet"
           }
          ],
          "heatmap": [
           {
            "colorbar": {
             "outlinewidth": 1,
             "tickcolor": "rgb(36,36,36)",
             "ticks": "outside"
            },
            "colorscale": [
             [
              0,
              "#440154"
             ],
             [
              0.1111111111111111,
              "#482878"
             ],
             [
              0.2222222222222222,
              "#3e4989"
             ],
             [
              0.3333333333333333,
              "#31688e"
             ],
             [
              0.4444444444444444,
              "#26828e"
             ],
             [
              0.5555555555555556,
              "#1f9e89"
             ],
             [
              0.6666666666666666,
              "#35b779"
             ],
             [
              0.7777777777777778,
              "#6ece58"
             ],
             [
              0.8888888888888888,
              "#b5de2b"
             ],
             [
              1,
              "#fde725"
             ]
            ],
            "type": "heatmap"
           }
          ],
          "heatmapgl": [
           {
            "colorbar": {
             "outlinewidth": 1,
             "tickcolor": "rgb(36,36,36)",
             "ticks": "outside"
            },
            "colorscale": [
             [
              0,
              "#440154"
             ],
             [
              0.1111111111111111,
              "#482878"
             ],
             [
              0.2222222222222222,
              "#3e4989"
             ],
             [
              0.3333333333333333,
              "#31688e"
             ],
             [
              0.4444444444444444,
              "#26828e"
             ],
             [
              0.5555555555555556,
              "#1f9e89"
             ],
             [
              0.6666666666666666,
              "#35b779"
             ],
             [
              0.7777777777777778,
              "#6ece58"
             ],
             [
              0.8888888888888888,
              "#b5de2b"
             ],
             [
              1,
              "#fde725"
             ]
            ],
            "type": "heatmapgl"
           }
          ],
          "histogram": [
           {
            "marker": {
             "line": {
              "color": "white",
              "width": 0.6
             }
            },
            "type": "histogram"
           }
          ],
          "histogram2d": [
           {
            "colorbar": {
             "outlinewidth": 1,
             "tickcolor": "rgb(36,36,36)",
             "ticks": "outside"
            },
            "colorscale": [
             [
              0,
              "#440154"
             ],
             [
              0.1111111111111111,
              "#482878"
             ],
             [
              0.2222222222222222,
              "#3e4989"
             ],
             [
              0.3333333333333333,
              "#31688e"
             ],
             [
              0.4444444444444444,
              "#26828e"
             ],
             [
              0.5555555555555556,
              "#1f9e89"
             ],
             [
              0.6666666666666666,
              "#35b779"
             ],
             [
              0.7777777777777778,
              "#6ece58"
             ],
             [
              0.8888888888888888,
              "#b5de2b"
             ],
             [
              1,
              "#fde725"
             ]
            ],
            "type": "histogram2d"
           }
          ],
          "histogram2dcontour": [
           {
            "colorbar": {
             "outlinewidth": 1,
             "tickcolor": "rgb(36,36,36)",
             "ticks": "outside"
            },
            "colorscale": [
             [
              0,
              "#440154"
             ],
             [
              0.1111111111111111,
              "#482878"
             ],
             [
              0.2222222222222222,
              "#3e4989"
             ],
             [
              0.3333333333333333,
              "#31688e"
             ],
             [
              0.4444444444444444,
              "#26828e"
             ],
             [
              0.5555555555555556,
              "#1f9e89"
             ],
             [
              0.6666666666666666,
              "#35b779"
             ],
             [
              0.7777777777777778,
              "#6ece58"
             ],
             [
              0.8888888888888888,
              "#b5de2b"
             ],
             [
              1,
              "#fde725"
             ]
            ],
            "type": "histogram2dcontour"
           }
          ],
          "mesh3d": [
           {
            "colorbar": {
             "outlinewidth": 1,
             "tickcolor": "rgb(36,36,36)",
             "ticks": "outside"
            },
            "type": "mesh3d"
           }
          ],
          "parcoords": [
           {
            "line": {
             "colorbar": {
              "outlinewidth": 1,
              "tickcolor": "rgb(36,36,36)",
              "ticks": "outside"
             }
            },
            "type": "parcoords"
           }
          ],
          "pie": [
           {
            "automargin": true,
            "type": "pie"
           }
          ],
          "scatter": [
           {
            "fillpattern": {
             "fillmode": "overlay",
             "size": 10,
             "solidity": 0.2
            },
            "type": "scatter"
           }
          ],
          "scatter3d": [
           {
            "line": {
             "colorbar": {
              "outlinewidth": 1,
              "tickcolor": "rgb(36,36,36)",
              "ticks": "outside"
             }
            },
            "marker": {
             "colorbar": {
              "outlinewidth": 1,
              "tickcolor": "rgb(36,36,36)",
              "ticks": "outside"
             }
            },
            "type": "scatter3d"
           }
          ],
          "scattercarpet": [
           {
            "marker": {
             "colorbar": {
              "outlinewidth": 1,
              "tickcolor": "rgb(36,36,36)",
              "ticks": "outside"
             }
            },
            "type": "scattercarpet"
           }
          ],
          "scattergeo": [
           {
            "marker": {
             "colorbar": {
              "outlinewidth": 1,
              "tickcolor": "rgb(36,36,36)",
              "ticks": "outside"
             }
            },
            "type": "scattergeo"
           }
          ],
          "scattergl": [
           {
            "marker": {
             "colorbar": {
              "outlinewidth": 1,
              "tickcolor": "rgb(36,36,36)",
              "ticks": "outside"
             }
            },
            "type": "scattergl"
           }
          ],
          "scattermapbox": [
           {
            "marker": {
             "colorbar": {
              "outlinewidth": 1,
              "tickcolor": "rgb(36,36,36)",
              "ticks": "outside"
             }
            },
            "type": "scattermapbox"
           }
          ],
          "scatterpolar": [
           {
            "marker": {
             "colorbar": {
              "outlinewidth": 1,
              "tickcolor": "rgb(36,36,36)",
              "ticks": "outside"
             }
            },
            "type": "scatterpolar"
           }
          ],
          "scatterpolargl": [
           {
            "marker": {
             "colorbar": {
              "outlinewidth": 1,
              "tickcolor": "rgb(36,36,36)",
              "ticks": "outside"
             }
            },
            "type": "scatterpolargl"
           }
          ],
          "scatterternary": [
           {
            "marker": {
             "colorbar": {
              "outlinewidth": 1,
              "tickcolor": "rgb(36,36,36)",
              "ticks": "outside"
             }
            },
            "type": "scatterternary"
           }
          ],
          "surface": [
           {
            "colorbar": {
             "outlinewidth": 1,
             "tickcolor": "rgb(36,36,36)",
             "ticks": "outside"
            },
            "colorscale": [
             [
              0,
              "#440154"
             ],
             [
              0.1111111111111111,
              "#482878"
             ],
             [
              0.2222222222222222,
              "#3e4989"
             ],
             [
              0.3333333333333333,
              "#31688e"
             ],
             [
              0.4444444444444444,
              "#26828e"
             ],
             [
              0.5555555555555556,
              "#1f9e89"
             ],
             [
              0.6666666666666666,
              "#35b779"
             ],
             [
              0.7777777777777778,
              "#6ece58"
             ],
             [
              0.8888888888888888,
              "#b5de2b"
             ],
             [
              1,
              "#fde725"
             ]
            ],
            "type": "surface"
           }
          ],
          "table": [
           {
            "cells": {
             "fill": {
              "color": "rgb(237,237,237)"
             },
             "line": {
              "color": "white"
             }
            },
            "header": {
             "fill": {
              "color": "rgb(217,217,217)"
             },
             "line": {
              "color": "white"
             }
            },
            "type": "table"
           }
          ]
         },
         "layout": {
          "annotationdefaults": {
           "arrowhead": 0,
           "arrowwidth": 1
          },
          "autotypenumbers": "strict",
          "coloraxis": {
           "colorbar": {
            "outlinewidth": 1,
            "tickcolor": "rgb(36,36,36)",
            "ticks": "outside"
           }
          },
          "colorscale": {
           "diverging": [
            [
             0,
             "rgb(103,0,31)"
            ],
            [
             0.1,
             "rgb(178,24,43)"
            ],
            [
             0.2,
             "rgb(214,96,77)"
            ],
            [
             0.3,
             "rgb(244,165,130)"
            ],
            [
             0.4,
             "rgb(253,219,199)"
            ],
            [
             0.5,
             "rgb(247,247,247)"
            ],
            [
             0.6,
             "rgb(209,229,240)"
            ],
            [
             0.7,
             "rgb(146,197,222)"
            ],
            [
             0.8,
             "rgb(67,147,195)"
            ],
            [
             0.9,
             "rgb(33,102,172)"
            ],
            [
             1,
             "rgb(5,48,97)"
            ]
           ],
           "sequential": [
            [
             0,
             "#440154"
            ],
            [
             0.1111111111111111,
             "#482878"
            ],
            [
             0.2222222222222222,
             "#3e4989"
            ],
            [
             0.3333333333333333,
             "#31688e"
            ],
            [
             0.4444444444444444,
             "#26828e"
            ],
            [
             0.5555555555555556,
             "#1f9e89"
            ],
            [
             0.6666666666666666,
             "#35b779"
            ],
            [
             0.7777777777777778,
             "#6ece58"
            ],
            [
             0.8888888888888888,
             "#b5de2b"
            ],
            [
             1,
             "#fde725"
            ]
           ],
           "sequentialminus": [
            [
             0,
             "#440154"
            ],
            [
             0.1111111111111111,
             "#482878"
            ],
            [
             0.2222222222222222,
             "#3e4989"
            ],
            [
             0.3333333333333333,
             "#31688e"
            ],
            [
             0.4444444444444444,
             "#26828e"
            ],
            [
             0.5555555555555556,
             "#1f9e89"
            ],
            [
             0.6666666666666666,
             "#35b779"
            ],
            [
             0.7777777777777778,
             "#6ece58"
            ],
            [
             0.8888888888888888,
             "#b5de2b"
            ],
            [
             1,
             "#fde725"
            ]
           ]
          },
          "colorway": [
           "#1F77B4",
           "#FF7F0E",
           "#2CA02C",
           "#D62728",
           "#9467BD",
           "#8C564B",
           "#E377C2",
           "#7F7F7F",
           "#BCBD22",
           "#17BECF"
          ],
          "font": {
           "color": "rgb(36,36,36)"
          },
          "geo": {
           "bgcolor": "white",
           "lakecolor": "white",
           "landcolor": "white",
           "showlakes": true,
           "showland": true,
           "subunitcolor": "white"
          },
          "hoverlabel": {
           "align": "left"
          },
          "hovermode": "closest",
          "mapbox": {
           "style": "light"
          },
          "paper_bgcolor": "white",
          "plot_bgcolor": "white",
          "polar": {
           "angularaxis": {
            "gridcolor": "rgb(232,232,232)",
            "linecolor": "rgb(36,36,36)",
            "showgrid": false,
            "showline": true,
            "ticks": "outside"
           },
           "bgcolor": "white",
           "radialaxis": {
            "gridcolor": "rgb(232,232,232)",
            "linecolor": "rgb(36,36,36)",
            "showgrid": false,
            "showline": true,
            "ticks": "outside"
           }
          },
          "scene": {
           "xaxis": {
            "backgroundcolor": "white",
            "gridcolor": "rgb(232,232,232)",
            "gridwidth": 2,
            "linecolor": "rgb(36,36,36)",
            "showbackground": true,
            "showgrid": false,
            "showline": true,
            "ticks": "outside",
            "zeroline": false,
            "zerolinecolor": "rgb(36,36,36)"
           },
           "yaxis": {
            "backgroundcolor": "white",
            "gridcolor": "rgb(232,232,232)",
            "gridwidth": 2,
            "linecolor": "rgb(36,36,36)",
            "showbackground": true,
            "showgrid": false,
            "showline": true,
            "ticks": "outside",
            "zeroline": false,
            "zerolinecolor": "rgb(36,36,36)"
           },
           "zaxis": {
            "backgroundcolor": "white",
            "gridcolor": "rgb(232,232,232)",
            "gridwidth": 2,
            "linecolor": "rgb(36,36,36)",
            "showbackground": true,
            "showgrid": false,
            "showline": true,
            "ticks": "outside",
            "zeroline": false,
            "zerolinecolor": "rgb(36,36,36)"
           }
          },
          "shapedefaults": {
           "fillcolor": "black",
           "line": {
            "width": 0
           },
           "opacity": 0.3
          },
          "ternary": {
           "aaxis": {
            "gridcolor": "rgb(232,232,232)",
            "linecolor": "rgb(36,36,36)",
            "showgrid": false,
            "showline": true,
            "ticks": "outside"
           },
           "baxis": {
            "gridcolor": "rgb(232,232,232)",
            "linecolor": "rgb(36,36,36)",
            "showgrid": false,
            "showline": true,
            "ticks": "outside"
           },
           "bgcolor": "white",
           "caxis": {
            "gridcolor": "rgb(232,232,232)",
            "linecolor": "rgb(36,36,36)",
            "showgrid": false,
            "showline": true,
            "ticks": "outside"
           }
          },
          "title": {
           "x": 0.05
          },
          "xaxis": {
           "automargin": true,
           "gridcolor": "rgb(232,232,232)",
           "linecolor": "rgb(36,36,36)",
           "showgrid": false,
           "showline": true,
           "ticks": "outside",
           "title": {
            "standoff": 15
           },
           "zeroline": false,
           "zerolinecolor": "rgb(36,36,36)"
          },
          "yaxis": {
           "automargin": true,
           "gridcolor": "rgb(232,232,232)",
           "linecolor": "rgb(36,36,36)",
           "showgrid": false,
           "showline": true,
           "ticks": "outside",
           "title": {
            "standoff": 15
           },
           "zeroline": false,
           "zerolinecolor": "rgb(36,36,36)"
          }
         }
        },
        "title": {
         "font": {
          "color": "Black",
          "size": 22
         },
         "text": "<b>Intertopic Distance Map</b>",
         "x": 0.5,
         "xanchor": "center",
         "y": 0.95,
         "yanchor": "top"
        },
        "width": 650,
        "xaxis": {
         "anchor": "y",
         "domain": [
          0,
          1
         ],
         "range": [
          5.785991072654724,
          12.36855173110962
         ],
         "title": {
          "text": ""
         },
         "type": "linear",
         "visible": false
        },
        "yaxis": {
         "anchor": "x",
         "domain": [
          0,
          1
         ],
         "range": [
          -1.7503887832164764,
          15.22245512008667
         ],
         "title": {
          "text": ""
         },
         "type": "linear",
         "visible": false
        }
       }
      },
      "image/png": "[encoded data removed]",
      "text/html": [
       "<div>                            <div id=\"87dc4be6-72b0-436f-8ebf-fe676a2b9dd2\" class=\"plotly-graph-div\" style=\"height:650px; width:650px;\"></div>            <script type=\"text/javascript\">                require([\"plotly\"], function(Plotly) {                    window.PLOTLYENV=window.PLOTLYENV || {};                                    if (document.getElementById(\"87dc4be6-72b0-436f-8ebf-fe676a2b9dd2\")) {                    Plotly.newPlot(                        \"87dc4be6-72b0-436f-8ebf-fe676a2b9dd2\",                        [{\"customdata\":[[0,\"balkan insight | macedonia | balkan | macedonian | north macedonia\",55],[1,\"anti corruption | against corruption | corruption and | corruption | corruption is\",54],[2,\"europe committee | judicial council | judges independence | ministers 2010 | the council\",47],[3,\"estonia | 2021 | estonian | october 2021 | 2021 err\",40],[4,\"government has | of 2019 | in 2019 | compliance | compliance with\",31],[5,\"report slovakia | slovakia 2014 | slovakia | of slovakia | slovakia and\",30],[6,\"european court | eu justice | tribunal | european commission | court of\",29],[7,\"corrupt practices | consider corruption | corruption is | punished eu | corruption\",22],[8,\"europe committee | of journalists | journalists | journalists and | council of\",22],[9,\"corruption prevention | on corruption | preventing corruption | prosecutors greco | corruption\",18],[10,\"eu directorate | corruption directorate | corruption in | corruption | towards corruption\",12],[11,\"democracy score | ratings reflect | ratings for | ratings are | ratings\",12]],\"hovertemplate\":\"\\u003cb\\u003eTopic %{customdata[0]}\\u003c\\u002fb\\u003e\\u003cbr\\u003e%{customdata[1]}\\u003cbr\\u003eSize: %{customdata[2]}\",\"legendgroup\":\"\",\"marker\":{\"color\":\"#B0BEC5\",\"size\":[55,54,47,40,31,30,29,22,22,18,12,12],\"sizemode\":\"area\",\"sizeref\":0.034375,\"symbol\":\"circle\",\"line\":{\"color\":\"DarkSlateGrey\",\"width\":2}},\"mode\":\"markers\",\"name\":\"\",\"orientation\":\"v\",\"showlegend\":false,\"x\":[9.187209129333496,10.215383529663086,7.364803314208984,9.400303840637207,6.807048320770264,7.134153842926025,7.762152671813965,10.346412658691406,6.831636428833008,9.659977912902832,10.75526237487793,9.27382755279541],\"xaxis\":\"x\",\"y\":[13.236917495727539,-1.3774240016937256,2.435551643371582,13.024435043334961,3.267606258392334,3.0414702892303467,2.1198678016662598,-0.782332718372345,2.174478769302368,-1.522077202796936,-1.2669813632965088,-1.2958828210830688],\"yaxis\":\"y\",\"type\":\"scatter\"}],                        {\"template\":{\"data\":{\"barpolar\":[{\"marker\":{\"line\":{\"color\":\"white\",\"width\":0.5},\"pattern\":{\"fillmode\":\"overlay\",\"size\":10,\"solidity\":0.2}},\"type\":\"barpolar\"}],\"bar\":[{\"error_x\":{\"color\":\"rgb(36,36,36)\"},\"error_y\":{\"color\":\"rgb(36,36,36)\"},\"marker\":{\"line\":{\"color\":\"white\",\"width\":0.5},\"pattern\":{\"fillmode\":\"overlay\",\"size\":10,\"solidity\":0.2}},\"type\":\"bar\"}],\"carpet\":[{\"aaxis\":{\"endlinecolor\":\"rgb(36,36,36)\",\"gridcolor\":\"white\",\"linecolor\":\"white\",\"minorgridcolor\":\"white\",\"startlinecolor\":\"rgb(36,36,36)\"},\"baxis\":{\"endlinecolor\":\"rgb(36,36,36)\",\"gridcolor\":\"white\",\"linecolor\":\"white\",\"minorgridcolor\":\"white\",\"startlinecolor\":\"rgb(36,36,36)\"},\"type\":\"carpet\"}],\"choropleth\":[{\"colorbar\":{\"outlinewidth\":1,\"tickcolor\":\"rgb(36,36,36)\",\"ticks\":\"outside\"},\"type\":\"choropleth\"}],\"contourcarpet\":[{\"colorbar\":{\"outlinewidth\":1,\"tickcolor\":\"rgb(36,36,36)\",\"ticks\":\"outside\"},\"type\":\"contourcarpet\"}],\"contour\":[{\"colorbar\":{\"outlinewidth\":1,\"tickcolor\":\"rgb(36,36,36)\",\"ticks\":\"outside\"},\"colorscale\":[[0.0,\"#440154\"],[0.1111111111111111,\"#482878\"],[0.2222222222222222,\"#3e4989\"],[0.3333333333333333,\"#31688e\"],[0.4444444444444444,\"#26828e\"],[0.5555555555555556,\"#1f9e89\"],[0.6666666666666666,\"#35b779\"],[0.7777777777777778,\"#6ece58\"],[0.8888888888888888,\"#b5de2b\"],[1.0,\"#fde725\"]],\"type\":\"contour\"}],\"heatmapgl\":[{\"colorbar\":{\"outlinewidth\":1,\"tickcolor\":\"rgb(36,36,36)\",\"ticks\":\"outside\"},\"colorscale\":[[0.0,\"#440154\"],[0.1111111111111111,\"#482878\"],[0.2222222222222222,\"#3e4989\"],[0.3333333333333333,\"#31688e\"],[0.4444444444444444,\"#26828e\"],[0.5555555555555556,\"#1f9e89\"],[0.6666666666666666,\"#35b779\"],[0.7777777777777778,\"#6ece58\"],[0.8888888888888888,\"#b5de2b\"],[1.0,\"#fde725\"]],\"type\":\"heatmapgl\"}],\"heatmap\":[{\"colorbar\":{\"outlinewidth\":1,\"tickcolor\":\"rgb(36,36,36)\",\"ticks\":\"outside\"},\"colorscale\":[[0.0,\"#440154\"],[0.1111111111111111,\"#482878\"],[0.2222222222222222,\"#3e4989\"],[0.3333333333333333,\"#31688e\"],[0.4444444444444444,\"#26828e\"],[0.5555555555555556,\"#1f9e89\"],[0.6666666666666666,\"#35b779\"],[0.7777777777777778,\"#6ece58\"],[0.8888888888888888,\"#b5de2b\"],[1.0,\"#fde725\"]],\"type\":\"heatmap\"}],\"histogram2dcontour\":[{\"colorbar\":{\"outlinewidth\":1,\"tickcolor\":\"rgb(36,36,36)\",\"ticks\":\"outside\"},\"colorscale\":[[0.0,\"#440154\"],[0.1111111111111111,\"#482878\"],[0.2222222222222222,\"#3e4989\"],[0.3333333333333333,\"#31688e\"],[0.4444444444444444,\"#26828e\"],[0.5555555555555556,\"#1f9e89\"],[0.6666666666666666,\"#35b779\"],[0.7777777777777778,\"#6ece58\"],[0.8888888888888888,\"#b5de2b\"],[1.0,\"#fde725\"]],\"type\":\"histogram2dcontour\"}],\"histogram2d\":[{\"colorbar\":{\"outlinewidth\":1,\"tickcolor\":\"rgb(36,36,36)\",\"ticks\":\"outside\"},\"colorscale\":[[0.0,\"#440154\"],[0.1111111111111111,\"#482878\"],[0.2222222222222222,\"#3e4989\"],[0.3333333333333333,\"#31688e\"],[0.4444444444444444,\"#26828e\"],[0.5555555555555556,\"#1f9e89\"],[0.6666666666666666,\"#35b779\"],[0.7777777777777778,\"#6ece58\"],[0.8888888888888888,\"#b5de2b\"],[1.0,\"#fde725\"]],\"type\":\"histogram2d\"}],\"histogram\":[{\"marker\":{\"line\":{\"color\":\"white\",\"width\":0.6}},\"type\":\"histogram\"}],\"mesh3d\":[{\"colorbar\":{\"outlinewidth\":1,\"tickcolor\":\"rgb(36,36,36)\",\"ticks\":\"outside\"},\"type\":\"mesh3d\"}],\"parcoords\":[{\"line\":{\"colorbar\":{\"outlinewidth\":1,\"tickcolor\":\"rgb(36,36,36)\",\"ticks\":\"outside\"}},\"type\":\"parcoords\"}],\"pie\":[{\"automargin\":true,\"type\":\"pie\"}],\"scatter3d\":[{\"line\":{\"colorbar\":{\"outlinewidth\":1,\"tickcolor\":\"rgb(36,36,36)\",\"ticks\":\"outside\"}},\"marker\":{\"colorbar\":{\"outlinewidth\":1,\"tickcolor\":\"rgb(36,36,36)\",\"ticks\":\"outside\"}},\"type\":\"scatter3d\"}],\"scattercarpet\":[{\"marker\":{\"colorbar\":{\"outlinewidth\":1,\"tickcolor\":\"rgb(36,36,36)\",\"ticks\":\"outside\"}},\"type\":\"scattercarpet\"}],\"scattergeo\":[{\"marker\":{\"colorbar\":{\"outlinewidth\":1,\"tickcolor\":\"rgb(36,36,36)\",\"ticks\":\"outside\"}},\"type\":\"scattergeo\"}],\"scattergl\":[{\"marker\":{\"colorbar\":{\"outlinewidth\":1,\"tickcolor\":\"rgb(36,36,36)\",\"ticks\":\"outside\"}},\"type\":\"scattergl\"}],\"scattermapbox\":[{\"marker\":{\"colorbar\":{\"outlinewidth\":1,\"tickcolor\":\"rgb(36,36,36)\",\"ticks\":\"outside\"}},\"type\":\"scattermapbox\"}],\"scatterpolargl\":[{\"marker\":{\"colorbar\":{\"outlinewidth\":1,\"tickcolor\":\"rgb(36,36,36)\",\"ticks\":\"outside\"}},\"type\":\"scatterpolargl\"}],\"scatterpolar\":[{\"marker\":{\"colorbar\":{\"outlinewidth\":1,\"tickcolor\":\"rgb(36,36,36)\",\"ticks\":\"outside\"}},\"type\":\"scatterpolar\"}],\"scatter\":[{\"fillpattern\":{\"fillmode\":\"overlay\",\"size\":10,\"solidity\":0.2},\"type\":\"scatter\"}],\"scatterternary\":[{\"marker\":{\"colorbar\":{\"outlinewidth\":1,\"tickcolor\":\"rgb(36,36,36)\",\"ticks\":\"outside\"}},\"type\":\"scatterternary\"}],\"surface\":[{\"colorbar\":{\"outlinewidth\":1,\"tickcolor\":\"rgb(36,36,36)\",\"ticks\":\"outside\"},\"colorscale\":[[0.0,\"#440154\"],[0.1111111111111111,\"#482878\"],[0.2222222222222222,\"#3e4989\"],[0.3333333333333333,\"#31688e\"],[0.4444444444444444,\"#26828e\"],[0.5555555555555556,\"#1f9e89\"],[0.6666666666666666,\"#35b779\"],[0.7777777777777778,\"#6ece58\"],[0.8888888888888888,\"#b5de2b\"],[1.0,\"#fde725\"]],\"type\":\"surface\"}],\"table\":[{\"cells\":{\"fill\":{\"color\":\"rgb(237,237,237)\"},\"line\":{\"color\":\"white\"}},\"header\":{\"fill\":{\"color\":\"rgb(217,217,217)\"},\"line\":{\"color\":\"white\"}},\"type\":\"table\"}]},\"layout\":{\"annotationdefaults\":{\"arrowhead\":0,\"arrowwidth\":1},\"autotypenumbers\":\"strict\",\"coloraxis\":{\"colorbar\":{\"outlinewidth\":1,\"tickcolor\":\"rgb(36,36,36)\",\"ticks\":\"outside\"}},\"colorscale\":{\"diverging\":[[0.0,\"rgb(103,0,31)\"],[0.1,\"rgb(178,24,43)\"],[0.2,\"rgb(214,96,77)\"],[0.3,\"rgb(244,165,130)\"],[0.4,\"rgb(253,219,199)\"],[0.5,\"rgb(247,247,247)\"],[0.6,\"rgb(209,229,240)\"],[0.7,\"rgb(146,197,222)\"],[0.8,\"rgb(67,147,195)\"],[0.9,\"rgb(33,102,172)\"],[1.0,\"rgb(5,48,97)\"]],\"sequential\":[[0.0,\"#440154\"],[0.1111111111111111,\"#482878\"],[0.2222222222222222,\"#3e4989\"],[0.3333333333333333,\"#31688e\"],[0.4444444444444444,\"#26828e\"],[0.5555555555555556,\"#1f9e89\"],[0.6666666666666666,\"#35b779\"],[0.7777777777777778,\"#6ece58\"],[0.8888888888888888,\"#b5de2b\"],[1.0,\"#fde725\"]],\"sequentialminus\":[[0.0,\"#440154\"],[0.1111111111111111,\"#482878\"],[0.2222222222222222,\"#3e4989\"],[0.3333333333333333,\"#31688e\"],[0.4444444444444444,\"#26828e\"],[0.5555555555555556,\"#1f9e89\"],[0.6666666666666666,\"#35b779\"],[0.7777777777777778,\"#6ece58\"],[0.8888888888888888,\"#b5de2b\"],[1.0,\"#fde725\"]]},\"colorway\":[\"#1F77B4\",\"#FF7F0E\",\"#2CA02C\",\"#D62728\",\"#9467BD\",\"#8C564B\",\"#E377C2\",\"#7F7F7F\",\"#BCBD22\",\"#17BECF\"],\"font\":{\"color\":\"rgb(36,36,36)\"},\"geo\":{\"bgcolor\":\"white\",\"lakecolor\":\"white\",\"landcolor\":\"white\",\"showlakes\":true,\"showland\":true,\"subunitcolor\":\"white\"},\"hoverlabel\":{\"align\":\"left\"},\"hovermode\":\"closest\",\"mapbox\":{\"style\":\"light\"},\"paper_bgcolor\":\"white\",\"plot_bgcolor\":\"white\",\"polar\":{\"angularaxis\":{\"gridcolor\":\"rgb(232,232,232)\",\"linecolor\":\"rgb(36,36,36)\",\"showgrid\":false,\"showline\":true,\"ticks\":\"outside\"},\"bgcolor\":\"white\",\"radialaxis\":{\"gridcolor\":\"rgb(232,232,232)\",\"linecolor\":\"rgb(36,36,36)\",\"showgrid\":false,\"showline\":true,\"ticks\":\"outside\"}},\"scene\":{\"xaxis\":{\"backgroundcolor\":\"white\",\"gridcolor\":\"rgb(232,232,232)\",\"gridwidth\":2,\"linecolor\":\"rgb(36,36,36)\",\"showbackground\":true,\"showgrid\":false,\"showline\":true,\"ticks\":\"outside\",\"zeroline\":false,\"zerolinecolor\":\"rgb(36,36,36)\"},\"yaxis\":{\"backgroundcolor\":\"white\",\"gridcolor\":\"rgb(232,232,232)\",\"gridwidth\":2,\"linecolor\":\"rgb(36,36,36)\",\"showbackground\":true,\"showgrid\":false,\"showline\":true,\"ticks\":\"outside\",\"zeroline\":false,\"zerolinecolor\":\"rgb(36,36,36)\"},\"zaxis\":{\"backgroundcolor\":\"white\",\"gridcolor\":\"rgb(232,232,232)\",\"gridwidth\":2,\"linecolor\":\"rgb(36,36,36)\",\"showbackground\":true,\"showgrid\":false,\"showline\":true,\"ticks\":\"outside\",\"zeroline\":false,\"zerolinecolor\":\"rgb(36,36,36)\"}},\"shapedefaults\":{\"fillcolor\":\"black\",\"line\":{\"width\":0},\"opacity\":0.3},\"ternary\":{\"aaxis\":{\"gridcolor\":\"rgb(232,232,232)\",\"linecolor\":\"rgb(36,36,36)\",\"showgrid\":false,\"showline\":true,\"ticks\":\"outside\"},\"baxis\":{\"gridcolor\":\"rgb(232,232,232)\",\"linecolor\":\"rgb(36,36,36)\",\"showgrid\":false,\"showline\":true,\"ticks\":\"outside\"},\"bgcolor\":\"white\",\"caxis\":{\"gridcolor\":\"rgb(232,232,232)\",\"linecolor\":\"rgb(36,36,36)\",\"showgrid\":false,\"showline\":true,\"ticks\":\"outside\"}},\"title\":{\"x\":0.05},\"xaxis\":{\"automargin\":true,\"gridcolor\":\"rgb(232,232,232)\",\"linecolor\":\"rgb(36,36,36)\",\"showgrid\":false,\"showline\":true,\"ticks\":\"outside\",\"title\":{\"standoff\":15},\"zeroline\":false,\"zerolinecolor\":\"rgb(36,36,36)\"},\"yaxis\":{\"automargin\":true,\"gridcolor\":\"rgb(232,232,232)\",\"linecolor\":\"rgb(36,36,36)\",\"showgrid\":false,\"showline\":true,\"ticks\":\"outside\",\"title\":{\"standoff\":15},\"zeroline\":false,\"zerolinecolor\":\"rgb(36,36,36)\"}}},\"xaxis\":{\"anchor\":\"y\",\"domain\":[0.0,1.0],\"title\":{\"text\":\"\"},\"visible\":false,\"range\":[5.785991072654724,12.36855173110962]},\"yaxis\":{\"anchor\":\"x\",\"domain\":[0.0,1.0],\"title\":{\"text\":\"\"},\"visible\":false,\"range\":[-1.7503887832164764,15.22245512008667]},\"legend\":{\"tracegroupgap\":0,\"itemsizing\":\"constant\"},\"margin\":{\"t\":60},\"title\":{\"font\":{\"size\":22,\"color\":\"Black\"},\"text\":\"\\u003cb\\u003eIntertopic Distance Map\\u003c\\u002fb\\u003e\",\"y\":0.95,\"x\":0.5,\"xanchor\":\"center\",\"yanchor\":\"top\"},\"hoverlabel\":{\"font\":{\"size\":16,\"family\":\"Rockwell\"},\"bgcolor\":\"white\"},\"width\":650,\"height\":650,\"sliders\":[{\"active\":0,\"pad\":{\"t\":50},\"steps\":[{\"args\":[{\"marker.color\":[[\"red\",\"#B0BEC5\",\"#B0BEC5\",\"#B0BEC5\",\"#B0BEC5\",\"#B0BEC5\",\"#B0BEC5\",\"#B0BEC5\",\"#B0BEC5\",\"#B0BEC5\",\"#B0BEC5\",\"#B0BEC5\"]]}],\"label\":\"Topic 0\",\"method\":\"update\"},{\"args\":[{\"marker.color\":[[\"#B0BEC5\",\"red\",\"#B0BEC5\",\"#B0BEC5\",\"#B0BEC5\",\"#B0BEC5\",\"#B0BEC5\",\"#B0BEC5\",\"#B0BEC5\",\"#B0BEC5\",\"#B0BEC5\",\"#B0BEC5\"]]}],\"label\":\"Topic 1\",\"method\":\"update\"},{\"args\":[{\"marker.color\":[[\"#B0BEC5\",\"#B0BEC5\",\"red\",\"#B0BEC5\",\"#B0BEC5\",\"#B0BEC5\",\"#B0BEC5\",\"#B0BEC5\",\"#B0BEC5\",\"#B0BEC5\",\"#B0BEC5\",\"#B0BEC5\"]]}],\"label\":\"Topic 2\",\"method\":\"update\"},{\"args\":[{\"marker.color\":[[\"#B0BEC5\",\"#B0BEC5\",\"#B0BEC5\",\"red\",\"#B0BEC5\",\"#B0BEC5\",\"#B0BEC5\",\"#B0BEC5\",\"#B0BEC5\",\"#B0BEC5\",\"#B0BEC5\",\"#B0BEC5\"]]}],\"label\":\"Topic 3\",\"method\":\"update\"},{\"args\":[{\"marker.color\":[[\"#B0BEC5\",\"#B0BEC5\",\"#B0BEC5\",\"#B0BEC5\",\"red\",\"#B0BEC5\",\"#B0BEC5\",\"#B0BEC5\",\"#B0BEC5\",\"#B0BEC5\",\"#B0BEC5\",\"#B0BEC5\"]]}],\"label\":\"Topic 4\",\"method\":\"update\"},{\"args\":[{\"marker.color\":[[\"#B0BEC5\",\"#B0BEC5\",\"#B0BEC5\",\"#B0BEC5\",\"#B0BEC5\",\"red\",\"#B0BEC5\",\"#B0BEC5\",\"#B0BEC5\",\"#B0BEC5\",\"#B0BEC5\",\"#B0BEC5\"]]}],\"label\":\"Topic 5\",\"method\":\"update\"},{\"args\":[{\"marker.color\":[[\"#B0BEC5\",\"#B0BEC5\",\"#B0BEC5\",\"#B0BEC5\",\"#B0BEC5\",\"#B0BEC5\",\"red\",\"#B0BEC5\",\"#B0BEC5\",\"#B0BEC5\",\"#B0BEC5\",\"#B0BEC5\"]]}],\"label\":\"Topic 6\",\"method\":\"update\"},{\"args\":[{\"marker.color\":[[\"#B0BEC5\",\"#B0BEC5\",\"#B0BEC5\",\"#B0BEC5\",\"#B0BEC5\",\"#B0BEC5\",\"#B0BEC5\",\"red\",\"#B0BEC5\",\"#B0BEC5\",\"#B0BEC5\",\"#B0BEC5\"]]}],\"label\":\"Topic 7\",\"method\":\"update\"},{\"args\":[{\"marker.color\":[[\"#B0BEC5\",\"#B0BEC5\",\"#B0BEC5\",\"#B0BEC5\",\"#B0BEC5\",\"#B0BEC5\",\"#B0BEC5\",\"#B0BEC5\",\"red\",\"#B0BEC5\",\"#B0BEC5\",\"#B0BEC5\"]]}],\"label\":\"Topic 8\",\"method\":\"update\"},{\"args\":[{\"marker.color\":[[\"#B0BEC5\",\"#B0BEC5\",\"#B0BEC5\",\"#B0BEC5\",\"#B0BEC5\",\"#B0BEC5\",\"#B0BEC5\",\"#B0BEC5\",\"#B0BEC5\",\"red\",\"#B0BEC5\",\"#B0BEC5\"]]}],\"label\":\"Topic 9\",\"method\":\"update\"},{\"args\":[{\"marker.color\":[[\"#B0BEC5\",\"#B0BEC5\",\"#B0BEC5\",\"#B0BEC5\",\"#B0BEC5\",\"#B0BEC5\",\"#B0BEC5\",\"#B0BEC5\",\"#B0BEC5\",\"#B0BEC5\",\"red\",\"#B0BEC5\"]]}],\"label\":\"Topic 10\",\"method\":\"update\"},{\"args\":[{\"marker.color\":[[\"#B0BEC5\",\"#B0BEC5\",\"#B0BEC5\",\"#B0BEC5\",\"#B0BEC5\",\"#B0BEC5\",\"#B0BEC5\",\"#B0BEC5\",\"#B0BEC5\",\"#B0BEC5\",\"#B0BEC5\",\"red\"]]}],\"label\":\"Topic 11\",\"method\":\"update\"}]}],\"shapes\":[{\"line\":{\"color\":\"#CFD8DC\",\"width\":2},\"type\":\"line\",\"x0\":9.077271401882172,\"x1\":9.077271401882172,\"y0\":-1.7503887832164764,\"y1\":15.22245512008667},{\"line\":{\"color\":\"#9E9E9E\",\"width\":2},\"type\":\"line\",\"x0\":5.785991072654724,\"x1\":12.36855173110962,\"y0\":6.736033168435097,\"y1\":6.736033168435097}],\"annotations\":[{\"showarrow\":false,\"text\":\"D1\",\"x\":5.785991072654724,\"y\":6.736033168435097,\"yshift\":10},{\"showarrow\":false,\"text\":\"D2\",\"x\":9.077271401882172,\"xshift\":10,\"y\":15.22245512008667}]},                        {\"responsive\": true}                    ).then(function(){\n",
       "                            \n",
       "var gd = document.getElementById('87dc4be6-72b0-436f-8ebf-fe676a2b9dd2');\n",
       "var x = new MutationObserver(function (mutations, observer) {{\n",
       "        var display = window.getComputedStyle(gd).display;\n",
       "        if (!display || display === 'none') {{\n",
       "            console.log([gd, 'removed!']);\n",
       "            Plotly.purge(gd);\n",
       "            observer.disconnect();\n",
       "        }}\n",
       "}});\n",
       "\n",
       "// Listen for the removal of the full notebook cells\n",
       "var notebookContainer = gd.closest('#notebook-container');\n",
       "if (notebookContainer) {{\n",
       "    x.observe(notebookContainer, {childList: true});\n",
       "}}\n",
       "\n",
       "// Listen for the clearing of the current output cell\n",
       "var outputEl = gd.closest('.output');\n",
       "if (outputEl) {{\n",
       "    x.observe(outputEl, {childList: true});\n",
       "}}\n",
       "\n",
       "                        })                };                });            </script>        </div>"
      ]
     },
     "metadata": {},
     "output_type": "display_data"
    }
   ],
   "source": [
    "topic_model.visualize_topics()"
   ]
  },
  {
   "cell_type": "code",
   "execution_count": 48,
   "id": "70f9407c-6688-4102-a065-d6dee9f6c521",
   "metadata": {
    "tags": []
   },
   "outputs": [
    {
     "data": {
      "application/vnd.plotly.v1+json": {
       "config": {
        "plotlyServerURL": "https://plot.ly"
       },
       "data": [
        {
         "hoverinfo": "text",
         "marker": {
          "color": "rgb(61,153,112)"
         },
         "mode": "lines",
         "type": "scatter",
         "x": [
          0,
          0.8148212152178045,
          0.8148212152178045,
          0
         ],
         "xaxis": "x",
         "y": [
          -5,
          -5,
          -15,
          -15
         ],
         "yaxis": "y"
        },
        {
         "hoverinfo": "text",
         "marker": {
          "color": "rgb(61,153,112)"
         },
         "mode": "lines",
         "type": "scatter",
         "x": [
          0,
          0.6176793002505767,
          0.6176793002505767,
          0
         ],
         "xaxis": "x",
         "y": [
          -25,
          -25,
          -35,
          -35
         ],
         "yaxis": "y"
        },
        {
         "hoverinfo": "text",
         "marker": {
          "color": "rgb(61,153,112)"
         },
         "mode": "lines",
         "type": "scatter",
         "x": [
          0.8148212152178045,
          0.8842751845985439,
          0.8842751845985439,
          0.6176793002505767
         ],
         "xaxis": "x",
         "y": [
          -10,
          -10,
          -30,
          -30
         ],
         "yaxis": "y"
        },
        {
         "hoverinfo": "text",
         "marker": {
          "color": "rgb(255,65,54)"
         },
         "mode": "lines",
         "type": "scatter",
         "x": [
          0,
          0.7352999961818296,
          0.7352999961818296,
          0
         ],
         "xaxis": "x",
         "y": [
          -65,
          -65,
          -75,
          -75
         ],
         "yaxis": "y"
        },
        {
         "hoverinfo": "text",
         "marker": {
          "color": "rgb(255,65,54)"
         },
         "mode": "lines",
         "type": "scatter",
         "x": [
          0.7352999961818296,
          0.8128682801111142,
          0.8128682801111142,
          0
         ],
         "xaxis": "x",
         "y": [
          -70,
          -70,
          -85,
          -85
         ],
         "yaxis": "y"
        },
        {
         "hoverinfo": "text",
         "marker": {
          "color": "rgb(255,65,54)"
         },
         "mode": "lines",
         "type": "scatter",
         "x": [
          0,
          0.8315690466065848,
          0.8315690466065848,
          0.8128682801111142
         ],
         "xaxis": "x",
         "y": [
          -55,
          -55,
          -77.5,
          -77.5
         ],
         "yaxis": "y"
        },
        {
         "hoverinfo": "text",
         "marker": {
          "color": "rgb(255,65,54)"
         },
         "mode": "lines",
         "type": "scatter",
         "x": [
          0.8315690466065848,
          0.9156210018839185,
          0.9156210018839185,
          0
         ],
         "xaxis": "x",
         "y": [
          -66.25,
          -66.25,
          -95,
          -95
         ],
         "yaxis": "y"
        },
        {
         "hoverinfo": "text",
         "marker": {
          "color": "rgb(255,65,54)"
         },
         "mode": "lines",
         "type": "scatter",
         "x": [
          0,
          0.9367771463633967,
          0.9367771463633967,
          0.9156210018839185
         ],
         "xaxis": "x",
         "y": [
          -45,
          -45,
          -80.625,
          -80.625
         ],
         "yaxis": "y"
        },
        {
         "hoverinfo": "text",
         "marker": {
          "color": "rgb(255,65,54)"
         },
         "mode": "lines",
         "type": "scatter",
         "x": [
          0,
          0.8971253086642806,
          0.8971253086642806,
          0
         ],
         "xaxis": "x",
         "y": [
          -105,
          -105,
          -115,
          -115
         ],
         "yaxis": "y"
        },
        {
         "hoverinfo": "text",
         "marker": {
          "color": "rgb(255,65,54)"
         },
         "mode": "lines",
         "type": "scatter",
         "x": [
          0.9367771463633967,
          0.9844013171256566,
          0.9844013171256566,
          0.8971253086642806
         ],
         "xaxis": "x",
         "y": [
          -62.8125,
          -62.8125,
          -110,
          -110
         ],
         "yaxis": "y"
        },
        {
         "hoverinfo": "text",
         "marker": {
          "color": "rgb(0,116,217)"
         },
         "mode": "lines",
         "type": "scatter",
         "x": [
          0.8842751845985439,
          1.0793421230839841,
          1.0793421230839841,
          0.9844013171256566
         ],
         "xaxis": "x",
         "y": [
          -20,
          -20,
          -86.40625,
          -86.40625
         ],
         "yaxis": "y"
        }
       ],
       "layout": {
        "autosize": false,
        "height": 380,
        "hoverlabel": {
         "bgcolor": "white",
         "font": {
          "family": "Rockwell",
          "size": 16
         }
        },
        "hovermode": "closest",
        "plot_bgcolor": "#ECEFF1",
        "showlegend": false,
        "template": {
         "data": {
          "bar": [
           {
            "error_x": {
             "color": "#2a3f5f"
            },
            "error_y": {
             "color": "#2a3f5f"
            },
            "marker": {
             "line": {
              "color": "white",
              "width": 0.5
             },
             "pattern": {
              "fillmode": "overlay",
              "size": 10,
              "solidity": 0.2
             }
            },
            "type": "bar"
           }
          ],
          "barpolar": [
           {
            "marker": {
             "line": {
              "color": "white",
              "width": 0.5
             },
             "pattern": {
              "fillmode": "overlay",
              "size": 10,
              "solidity": 0.2
             }
            },
            "type": "barpolar"
           }
          ],
          "carpet": [
           {
            "aaxis": {
             "endlinecolor": "#2a3f5f",
             "gridcolor": "#C8D4E3",
             "linecolor": "#C8D4E3",
             "minorgridcolor": "#C8D4E3",
             "startlinecolor": "#2a3f5f"
            },
            "baxis": {
             "endlinecolor": "#2a3f5f",
             "gridcolor": "#C8D4E3",
             "linecolor": "#C8D4E3",
             "minorgridcolor": "#C8D4E3",
             "startlinecolor": "#2a3f5f"
            },
            "type": "carpet"
           }
          ],
          "choropleth": [
           {
            "colorbar": {
             "outlinewidth": 0,
             "ticks": ""
            },
            "type": "choropleth"
           }
          ],
          "contour": [
           {
            "colorbar": {
             "outlinewidth": 0,
             "ticks": ""
            },
            "colorscale": [
             [
              0,
              "#0d0887"
             ],
             [
              0.1111111111111111,
              "#46039f"
             ],
             [
              0.2222222222222222,
              "#7201a8"
             ],
             [
              0.3333333333333333,
              "#9c179e"
             ],
             [
              0.4444444444444444,
              "#bd3786"
             ],
             [
              0.5555555555555556,
              "#d8576b"
             ],
             [
              0.6666666666666666,
              "#ed7953"
             ],
             [
              0.7777777777777778,
              "#fb9f3a"
             ],
             [
              0.8888888888888888,
              "#fdca26"
             ],
             [
              1,
              "#f0f921"
             ]
            ],
            "type": "contour"
           }
          ],
          "contourcarpet": [
           {
            "colorbar": {
             "outlinewidth": 0,
             "ticks": ""
            },
            "type": "contourcarpet"
           }
          ],
          "heatmap": [
           {
            "colorbar": {
             "outlinewidth": 0,
             "ticks": ""
            },
            "colorscale": [
             [
              0,
              "#0d0887"
             ],
             [
              0.1111111111111111,
              "#46039f"
             ],
             [
              0.2222222222222222,
              "#7201a8"
             ],
             [
              0.3333333333333333,
              "#9c179e"
             ],
             [
              0.4444444444444444,
              "#bd3786"
             ],
             [
              0.5555555555555556,
              "#d8576b"
             ],
             [
              0.6666666666666666,
              "#ed7953"
             ],
             [
              0.7777777777777778,
              "#fb9f3a"
             ],
             [
              0.8888888888888888,
              "#fdca26"
             ],
             [
              1,
              "#f0f921"
             ]
            ],
            "type": "heatmap"
           }
          ],
          "heatmapgl": [
           {
            "colorbar": {
             "outlinewidth": 0,
             "ticks": ""
            },
            "colorscale": [
             [
              0,
              "#0d0887"
             ],
             [
              0.1111111111111111,
              "#46039f"
             ],
             [
              0.2222222222222222,
              "#7201a8"
             ],
             [
              0.3333333333333333,
              "#9c179e"
             ],
             [
              0.4444444444444444,
              "#bd3786"
             ],
             [
              0.5555555555555556,
              "#d8576b"
             ],
             [
              0.6666666666666666,
              "#ed7953"
             ],
             [
              0.7777777777777778,
              "#fb9f3a"
             ],
             [
              0.8888888888888888,
              "#fdca26"
             ],
             [
              1,
              "#f0f921"
             ]
            ],
            "type": "heatmapgl"
           }
          ],
          "histogram": [
           {
            "marker": {
             "pattern": {
              "fillmode": "overlay",
              "size": 10,
              "solidity": 0.2
             }
            },
            "type": "histogram"
           }
          ],
          "histogram2d": [
           {
            "colorbar": {
             "outlinewidth": 0,
             "ticks": ""
            },
            "colorscale": [
             [
              0,
              "#0d0887"
             ],
             [
              0.1111111111111111,
              "#46039f"
             ],
             [
              0.2222222222222222,
              "#7201a8"
             ],
             [
              0.3333333333333333,
              "#9c179e"
             ],
             [
              0.4444444444444444,
              "#bd3786"
             ],
             [
              0.5555555555555556,
              "#d8576b"
             ],
             [
              0.6666666666666666,
              "#ed7953"
             ],
             [
              0.7777777777777778,
              "#fb9f3a"
             ],
             [
              0.8888888888888888,
              "#fdca26"
             ],
             [
              1,
              "#f0f921"
             ]
            ],
            "type": "histogram2d"
           }
          ],
          "histogram2dcontour": [
           {
            "colorbar": {
             "outlinewidth": 0,
             "ticks": ""
            },
            "colorscale": [
             [
              0,
              "#0d0887"
             ],
             [
              0.1111111111111111,
              "#46039f"
             ],
             [
              0.2222222222222222,
              "#7201a8"
             ],
             [
              0.3333333333333333,
              "#9c179e"
             ],
             [
              0.4444444444444444,
              "#bd3786"
             ],
             [
              0.5555555555555556,
              "#d8576b"
             ],
             [
              0.6666666666666666,
              "#ed7953"
             ],
             [
              0.7777777777777778,
              "#fb9f3a"
             ],
             [
              0.8888888888888888,
              "#fdca26"
             ],
             [
              1,
              "#f0f921"
             ]
            ],
            "type": "histogram2dcontour"
           }
          ],
          "mesh3d": [
           {
            "colorbar": {
             "outlinewidth": 0,
             "ticks": ""
            },
            "type": "mesh3d"
           }
          ],
          "parcoords": [
           {
            "line": {
             "colorbar": {
              "outlinewidth": 0,
              "ticks": ""
             }
            },
            "type": "parcoords"
           }
          ],
          "pie": [
           {
            "automargin": true,
            "type": "pie"
           }
          ],
          "scatter": [
           {
            "fillpattern": {
             "fillmode": "overlay",
             "size": 10,
             "solidity": 0.2
            },
            "type": "scatter"
           }
          ],
          "scatter3d": [
           {
            "line": {
             "colorbar": {
              "outlinewidth": 0,
              "ticks": ""
             }
            },
            "marker": {
             "colorbar": {
              "outlinewidth": 0,
              "ticks": ""
             }
            },
            "type": "scatter3d"
           }
          ],
          "scattercarpet": [
           {
            "marker": {
             "colorbar": {
              "outlinewidth": 0,
              "ticks": ""
             }
            },
            "type": "scattercarpet"
           }
          ],
          "scattergeo": [
           {
            "marker": {
             "colorbar": {
              "outlinewidth": 0,
              "ticks": ""
             }
            },
            "type": "scattergeo"
           }
          ],
          "scattergl": [
           {
            "marker": {
             "colorbar": {
              "outlinewidth": 0,
              "ticks": ""
             }
            },
            "type": "scattergl"
           }
          ],
          "scattermapbox": [
           {
            "marker": {
             "colorbar": {
              "outlinewidth": 0,
              "ticks": ""
             }
            },
            "type": "scattermapbox"
           }
          ],
          "scatterpolar": [
           {
            "marker": {
             "colorbar": {
              "outlinewidth": 0,
              "ticks": ""
             }
            },
            "type": "scatterpolar"
           }
          ],
          "scatterpolargl": [
           {
            "marker": {
             "colorbar": {
              "outlinewidth": 0,
              "ticks": ""
             }
            },
            "type": "scatterpolargl"
           }
          ],
          "scatterternary": [
           {
            "marker": {
             "colorbar": {
              "outlinewidth": 0,
              "ticks": ""
             }
            },
            "type": "scatterternary"
           }
          ],
          "surface": [
           {
            "colorbar": {
             "outlinewidth": 0,
             "ticks": ""
            },
            "colorscale": [
             [
              0,
              "#0d0887"
             ],
             [
              0.1111111111111111,
              "#46039f"
             ],
             [
              0.2222222222222222,
              "#7201a8"
             ],
             [
              0.3333333333333333,
              "#9c179e"
             ],
             [
              0.4444444444444444,
              "#bd3786"
             ],
             [
              0.5555555555555556,
              "#d8576b"
             ],
             [
              0.6666666666666666,
              "#ed7953"
             ],
             [
              0.7777777777777778,
              "#fb9f3a"
             ],
             [
              0.8888888888888888,
              "#fdca26"
             ],
             [
              1,
              "#f0f921"
             ]
            ],
            "type": "surface"
           }
          ],
          "table": [
           {
            "cells": {
             "fill": {
              "color": "#EBF0F8"
             },
             "line": {
              "color": "white"
             }
            },
            "header": {
             "fill": {
              "color": "#C8D4E3"
             },
             "line": {
              "color": "white"
             }
            },
            "type": "table"
           }
          ]
         },
         "layout": {
          "annotationdefaults": {
           "arrowcolor": "#2a3f5f",
           "arrowhead": 0,
           "arrowwidth": 1
          },
          "autotypenumbers": "strict",
          "coloraxis": {
           "colorbar": {
            "outlinewidth": 0,
            "ticks": ""
           }
          },
          "colorscale": {
           "diverging": [
            [
             0,
             "#8e0152"
            ],
            [
             0.1,
             "#c51b7d"
            ],
            [
             0.2,
             "#de77ae"
            ],
            [
             0.3,
             "#f1b6da"
            ],
            [
             0.4,
             "#fde0ef"
            ],
            [
             0.5,
             "#f7f7f7"
            ],
            [
             0.6,
             "#e6f5d0"
            ],
            [
             0.7,
             "#b8e186"
            ],
            [
             0.8,
             "#7fbc41"
            ],
            [
             0.9,
             "#4d9221"
            ],
            [
             1,
             "#276419"
            ]
           ],
           "sequential": [
            [
             0,
             "#0d0887"
            ],
            [
             0.1111111111111111,
             "#46039f"
            ],
            [
             0.2222222222222222,
             "#7201a8"
            ],
            [
             0.3333333333333333,
             "#9c179e"
            ],
            [
             0.4444444444444444,
             "#bd3786"
            ],
            [
             0.5555555555555556,
             "#d8576b"
            ],
            [
             0.6666666666666666,
             "#ed7953"
            ],
            [
             0.7777777777777778,
             "#fb9f3a"
            ],
            [
             0.8888888888888888,
             "#fdca26"
            ],
            [
             1,
             "#f0f921"
            ]
           ],
           "sequentialminus": [
            [
             0,
             "#0d0887"
            ],
            [
             0.1111111111111111,
             "#46039f"
            ],
            [
             0.2222222222222222,
             "#7201a8"
            ],
            [
             0.3333333333333333,
             "#9c179e"
            ],
            [
             0.4444444444444444,
             "#bd3786"
            ],
            [
             0.5555555555555556,
             "#d8576b"
            ],
            [
             0.6666666666666666,
             "#ed7953"
            ],
            [
             0.7777777777777778,
             "#fb9f3a"
            ],
            [
             0.8888888888888888,
             "#fdca26"
            ],
            [
             1,
             "#f0f921"
            ]
           ]
          },
          "colorway": [
           "#636efa",
           "#EF553B",
           "#00cc96",
           "#ab63fa",
           "#FFA15A",
           "#19d3f3",
           "#FF6692",
           "#B6E880",
           "#FF97FF",
           "#FECB52"
          ],
          "font": {
           "color": "#2a3f5f"
          },
          "geo": {
           "bgcolor": "white",
           "lakecolor": "white",
           "landcolor": "white",
           "showlakes": true,
           "showland": true,
           "subunitcolor": "#C8D4E3"
          },
          "hoverlabel": {
           "align": "left"
          },
          "hovermode": "closest",
          "mapbox": {
           "style": "light"
          },
          "paper_bgcolor": "white",
          "plot_bgcolor": "white",
          "polar": {
           "angularaxis": {
            "gridcolor": "#EBF0F8",
            "linecolor": "#EBF0F8",
            "ticks": ""
           },
           "bgcolor": "white",
           "radialaxis": {
            "gridcolor": "#EBF0F8",
            "linecolor": "#EBF0F8",
            "ticks": ""
           }
          },
          "scene": {
           "xaxis": {
            "backgroundcolor": "white",
            "gridcolor": "#DFE8F3",
            "gridwidth": 2,
            "linecolor": "#EBF0F8",
            "showbackground": true,
            "ticks": "",
            "zerolinecolor": "#EBF0F8"
           },
           "yaxis": {
            "backgroundcolor": "white",
            "gridcolor": "#DFE8F3",
            "gridwidth": 2,
            "linecolor": "#EBF0F8",
            "showbackground": true,
            "ticks": "",
            "zerolinecolor": "#EBF0F8"
           },
           "zaxis": {
            "backgroundcolor": "white",
            "gridcolor": "#DFE8F3",
            "gridwidth": 2,
            "linecolor": "#EBF0F8",
            "showbackground": true,
            "ticks": "",
            "zerolinecolor": "#EBF0F8"
           }
          },
          "shapedefaults": {
           "line": {
            "color": "#2a3f5f"
           }
          },
          "ternary": {
           "aaxis": {
            "gridcolor": "#DFE8F3",
            "linecolor": "#A2B1C6",
            "ticks": ""
           },
           "baxis": {
            "gridcolor": "#DFE8F3",
            "linecolor": "#A2B1C6",
            "ticks": ""
           },
           "bgcolor": "white",
           "caxis": {
            "gridcolor": "#DFE8F3",
            "linecolor": "#A2B1C6",
            "ticks": ""
           }
          },
          "title": {
           "x": 0.05
          },
          "xaxis": {
           "automargin": true,
           "gridcolor": "#EBF0F8",
           "linecolor": "#EBF0F8",
           "ticks": "",
           "title": {
            "standoff": 15
           },
           "zerolinecolor": "#EBF0F8",
           "zerolinewidth": 2
          },
          "yaxis": {
           "automargin": true,
           "gridcolor": "#EBF0F8",
           "linecolor": "#EBF0F8",
           "ticks": "",
           "title": {
            "standoff": 15
           },
           "zerolinecolor": "#EBF0F8",
           "zerolinewidth": 2
          }
         }
        },
        "title": {
         "font": {
          "color": "Black",
          "size": 22
         },
         "text": "<b>Hierarchical Clustering</b>",
         "x": 0.5,
         "xanchor": "center",
         "yanchor": "top"
        },
        "width": 1000,
        "xaxis": {
         "autorange": true,
         "mirror": "allticks",
         "range": [
          0,
          1.0793421230839841
         ],
         "rangemode": "tozero",
         "showgrid": false,
         "showline": true,
         "showticklabels": true,
         "ticks": "outside",
         "type": "linear",
         "zeroline": false
        },
        "yaxis": {
         "mirror": "allticks",
         "range": [
          -120,
          0
         ],
         "rangemode": "tozero",
         "showgrid": false,
         "showline": true,
         "showticklabels": true,
         "tickmode": "array",
         "ticks": "outside",
         "ticktext": [
          "6_european court_eu justice...",
          "5_report slovakia_slovakia ...",
          "2_europe committee_judicial...",
          "8_europe committee_of journ...",
          "9_corruption prevention_on ...",
          "3_estonia_2021_estonian",
          "4_government has_of 2019_in...",
          "1_anti corruption_against c...",
          "0_balkan insight_macedonia_...",
          "11_democracy score_ratings ...",
          "7_corrupt practices_conside...",
          "10_eu directorate_corruptio..."
         ],
         "tickvals": [
          -5,
          -15,
          -25,
          -35,
          -45,
          -55,
          -65,
          -75,
          -85,
          -95,
          -105,
          -115
         ],
         "type": "linear",
         "zeroline": false
        }
       }
      },
      "image/png": "[encoded data removed]",
      "text/html": [
       "<div>                            <div id=\"df1ea76c-087d-4e0a-8f05-9ff26f4dc501\" class=\"plotly-graph-div\" style=\"height:380px; width:1000px;\"></div>            <script type=\"text/javascript\">                require([\"plotly\"], function(Plotly) {                    window.PLOTLYENV=window.PLOTLYENV || {};                                    if (document.getElementById(\"df1ea76c-087d-4e0a-8f05-9ff26f4dc501\")) {                    Plotly.newPlot(                        \"df1ea76c-087d-4e0a-8f05-9ff26f4dc501\",                        [{\"hoverinfo\":\"text\",\"marker\":{\"color\":\"rgb(61,153,112)\"},\"mode\":\"lines\",\"x\":[0.0,0.8148212152178045,0.8148212152178045,0.0],\"xaxis\":\"x\",\"y\":[-5.0,-5.0,-15.0,-15.0],\"yaxis\":\"y\",\"type\":\"scatter\"},{\"hoverinfo\":\"text\",\"marker\":{\"color\":\"rgb(61,153,112)\"},\"mode\":\"lines\",\"x\":[0.0,0.6176793002505767,0.6176793002505767,0.0],\"xaxis\":\"x\",\"y\":[-25.0,-25.0,-35.0,-35.0],\"yaxis\":\"y\",\"type\":\"scatter\"},{\"hoverinfo\":\"text\",\"marker\":{\"color\":\"rgb(61,153,112)\"},\"mode\":\"lines\",\"x\":[0.8148212152178045,0.8842751845985439,0.8842751845985439,0.6176793002505767],\"xaxis\":\"x\",\"y\":[-10.0,-10.0,-30.0,-30.0],\"yaxis\":\"y\",\"type\":\"scatter\"},{\"hoverinfo\":\"text\",\"marker\":{\"color\":\"rgb(255,65,54)\"},\"mode\":\"lines\",\"x\":[0.0,0.7352999961818296,0.7352999961818296,0.0],\"xaxis\":\"x\",\"y\":[-65.0,-65.0,-75.0,-75.0],\"yaxis\":\"y\",\"type\":\"scatter\"},{\"hoverinfo\":\"text\",\"marker\":{\"color\":\"rgb(255,65,54)\"},\"mode\":\"lines\",\"x\":[0.7352999961818296,0.8128682801111142,0.8128682801111142,0.0],\"xaxis\":\"x\",\"y\":[-70.0,-70.0,-85.0,-85.0],\"yaxis\":\"y\",\"type\":\"scatter\"},{\"hoverinfo\":\"text\",\"marker\":{\"color\":\"rgb(255,65,54)\"},\"mode\":\"lines\",\"x\":[0.0,0.8315690466065848,0.8315690466065848,0.8128682801111142],\"xaxis\":\"x\",\"y\":[-55.0,-55.0,-77.5,-77.5],\"yaxis\":\"y\",\"type\":\"scatter\"},{\"hoverinfo\":\"text\",\"marker\":{\"color\":\"rgb(255,65,54)\"},\"mode\":\"lines\",\"x\":[0.8315690466065848,0.9156210018839185,0.9156210018839185,0.0],\"xaxis\":\"x\",\"y\":[-66.25,-66.25,-95.0,-95.0],\"yaxis\":\"y\",\"type\":\"scatter\"},{\"hoverinfo\":\"text\",\"marker\":{\"color\":\"rgb(255,65,54)\"},\"mode\":\"lines\",\"x\":[0.0,0.9367771463633967,0.9367771463633967,0.9156210018839185],\"xaxis\":\"x\",\"y\":[-45.0,-45.0,-80.625,-80.625],\"yaxis\":\"y\",\"type\":\"scatter\"},{\"hoverinfo\":\"text\",\"marker\":{\"color\":\"rgb(255,65,54)\"},\"mode\":\"lines\",\"x\":[0.0,0.8971253086642806,0.8971253086642806,0.0],\"xaxis\":\"x\",\"y\":[-105.0,-105.0,-115.0,-115.0],\"yaxis\":\"y\",\"type\":\"scatter\"},{\"hoverinfo\":\"text\",\"marker\":{\"color\":\"rgb(255,65,54)\"},\"mode\":\"lines\",\"x\":[0.9367771463633967,0.9844013171256566,0.9844013171256566,0.8971253086642806],\"xaxis\":\"x\",\"y\":[-62.8125,-62.8125,-110.0,-110.0],\"yaxis\":\"y\",\"type\":\"scatter\"},{\"hoverinfo\":\"text\",\"marker\":{\"color\":\"rgb(0,116,217)\"},\"mode\":\"lines\",\"x\":[0.8842751845985439,1.0793421230839841,1.0793421230839841,0.9844013171256566],\"xaxis\":\"x\",\"y\":[-20.0,-20.0,-86.40625,-86.40625],\"yaxis\":\"y\",\"type\":\"scatter\"}],                        {\"autosize\":false,\"height\":380,\"hovermode\":\"closest\",\"showlegend\":false,\"width\":1000,\"xaxis\":{\"mirror\":\"allticks\",\"rangemode\":\"tozero\",\"showgrid\":false,\"showline\":true,\"showticklabels\":true,\"ticks\":\"outside\",\"type\":\"linear\",\"zeroline\":false},\"yaxis\":{\"mirror\":\"allticks\",\"rangemode\":\"tozero\",\"showgrid\":false,\"showline\":true,\"showticklabels\":true,\"tickmode\":\"array\",\"ticks\":\"outside\",\"ticktext\":[\"6_european court_eu justice...\",\"5_report slovakia_slovakia ...\",\"2_europe committee_judicial...\",\"8_europe committee_of journ...\",\"9_corruption prevention_on ...\",\"3_estonia_2021_estonian\",\"4_government has_of 2019_in...\",\"1_anti corruption_against c...\",\"0_balkan insight_macedonia_...\",\"11_democracy score_ratings ...\",\"7_corrupt practices_conside...\",\"10_eu directorate_corruptio...\"],\"tickvals\":[-5.0,-15.0,-25.0,-35.0,-45.0,-55.0,-65.0,-75.0,-85.0,-95.0,-105.0,-115.0],\"type\":\"linear\",\"zeroline\":false,\"range\":[-120.0,0.0]},\"template\":{\"data\":{\"barpolar\":[{\"marker\":{\"line\":{\"color\":\"white\",\"width\":0.5},\"pattern\":{\"fillmode\":\"overlay\",\"size\":10,\"solidity\":0.2}},\"type\":\"barpolar\"}],\"bar\":[{\"error_x\":{\"color\":\"#2a3f5f\"},\"error_y\":{\"color\":\"#2a3f5f\"},\"marker\":{\"line\":{\"color\":\"white\",\"width\":0.5},\"pattern\":{\"fillmode\":\"overlay\",\"size\":10,\"solidity\":0.2}},\"type\":\"bar\"}],\"carpet\":[{\"aaxis\":{\"endlinecolor\":\"#2a3f5f\",\"gridcolor\":\"#C8D4E3\",\"linecolor\":\"#C8D4E3\",\"minorgridcolor\":\"#C8D4E3\",\"startlinecolor\":\"#2a3f5f\"},\"baxis\":{\"endlinecolor\":\"#2a3f5f\",\"gridcolor\":\"#C8D4E3\",\"linecolor\":\"#C8D4E3\",\"minorgridcolor\":\"#C8D4E3\",\"startlinecolor\":\"#2a3f5f\"},\"type\":\"carpet\"}],\"choropleth\":[{\"colorbar\":{\"outlinewidth\":0,\"ticks\":\"\"},\"type\":\"choropleth\"}],\"contourcarpet\":[{\"colorbar\":{\"outlinewidth\":0,\"ticks\":\"\"},\"type\":\"contourcarpet\"}],\"contour\":[{\"colorbar\":{\"outlinewidth\":0,\"ticks\":\"\"},\"colorscale\":[[0.0,\"#0d0887\"],[0.1111111111111111,\"#46039f\"],[0.2222222222222222,\"#7201a8\"],[0.3333333333333333,\"#9c179e\"],[0.4444444444444444,\"#bd3786\"],[0.5555555555555556,\"#d8576b\"],[0.6666666666666666,\"#ed7953\"],[0.7777777777777778,\"#fb9f3a\"],[0.8888888888888888,\"#fdca26\"],[1.0,\"#f0f921\"]],\"type\":\"contour\"}],\"heatmapgl\":[{\"colorbar\":{\"outlinewidth\":0,\"ticks\":\"\"},\"colorscale\":[[0.0,\"#0d0887\"],[0.1111111111111111,\"#46039f\"],[0.2222222222222222,\"#7201a8\"],[0.3333333333333333,\"#9c179e\"],[0.4444444444444444,\"#bd3786\"],[0.5555555555555556,\"#d8576b\"],[0.6666666666666666,\"#ed7953\"],[0.7777777777777778,\"#fb9f3a\"],[0.8888888888888888,\"#fdca26\"],[1.0,\"#f0f921\"]],\"type\":\"heatmapgl\"}],\"heatmap\":[{\"colorbar\":{\"outlinewidth\":0,\"ticks\":\"\"},\"colorscale\":[[0.0,\"#0d0887\"],[0.1111111111111111,\"#46039f\"],[0.2222222222222222,\"#7201a8\"],[0.3333333333333333,\"#9c179e\"],[0.4444444444444444,\"#bd3786\"],[0.5555555555555556,\"#d8576b\"],[0.6666666666666666,\"#ed7953\"],[0.7777777777777778,\"#fb9f3a\"],[0.8888888888888888,\"#fdca26\"],[1.0,\"#f0f921\"]],\"type\":\"heatmap\"}],\"histogram2dcontour\":[{\"colorbar\":{\"outlinewidth\":0,\"ticks\":\"\"},\"colorscale\":[[0.0,\"#0d0887\"],[0.1111111111111111,\"#46039f\"],[0.2222222222222222,\"#7201a8\"],[0.3333333333333333,\"#9c179e\"],[0.4444444444444444,\"#bd3786\"],[0.5555555555555556,\"#d8576b\"],[0.6666666666666666,\"#ed7953\"],[0.7777777777777778,\"#fb9f3a\"],[0.8888888888888888,\"#fdca26\"],[1.0,\"#f0f921\"]],\"type\":\"histogram2dcontour\"}],\"histogram2d\":[{\"colorbar\":{\"outlinewidth\":0,\"ticks\":\"\"},\"colorscale\":[[0.0,\"#0d0887\"],[0.1111111111111111,\"#46039f\"],[0.2222222222222222,\"#7201a8\"],[0.3333333333333333,\"#9c179e\"],[0.4444444444444444,\"#bd3786\"],[0.5555555555555556,\"#d8576b\"],[0.6666666666666666,\"#ed7953\"],[0.7777777777777778,\"#fb9f3a\"],[0.8888888888888888,\"#fdca26\"],[1.0,\"#f0f921\"]],\"type\":\"histogram2d\"}],\"histogram\":[{\"marker\":{\"pattern\":{\"fillmode\":\"overlay\",\"size\":10,\"solidity\":0.2}},\"type\":\"histogram\"}],\"mesh3d\":[{\"colorbar\":{\"outlinewidth\":0,\"ticks\":\"\"},\"type\":\"mesh3d\"}],\"parcoords\":[{\"line\":{\"colorbar\":{\"outlinewidth\":0,\"ticks\":\"\"}},\"type\":\"parcoords\"}],\"pie\":[{\"automargin\":true,\"type\":\"pie\"}],\"scatter3d\":[{\"line\":{\"colorbar\":{\"outlinewidth\":0,\"ticks\":\"\"}},\"marker\":{\"colorbar\":{\"outlinewidth\":0,\"ticks\":\"\"}},\"type\":\"scatter3d\"}],\"scattercarpet\":[{\"marker\":{\"colorbar\":{\"outlinewidth\":0,\"ticks\":\"\"}},\"type\":\"scattercarpet\"}],\"scattergeo\":[{\"marker\":{\"colorbar\":{\"outlinewidth\":0,\"ticks\":\"\"}},\"type\":\"scattergeo\"}],\"scattergl\":[{\"marker\":{\"colorbar\":{\"outlinewidth\":0,\"ticks\":\"\"}},\"type\":\"scattergl\"}],\"scattermapbox\":[{\"marker\":{\"colorbar\":{\"outlinewidth\":0,\"ticks\":\"\"}},\"type\":\"scattermapbox\"}],\"scatterpolargl\":[{\"marker\":{\"colorbar\":{\"outlinewidth\":0,\"ticks\":\"\"}},\"type\":\"scatterpolargl\"}],\"scatterpolar\":[{\"marker\":{\"colorbar\":{\"outlinewidth\":0,\"ticks\":\"\"}},\"type\":\"scatterpolar\"}],\"scatter\":[{\"fillpattern\":{\"fillmode\":\"overlay\",\"size\":10,\"solidity\":0.2},\"type\":\"scatter\"}],\"scatterternary\":[{\"marker\":{\"colorbar\":{\"outlinewidth\":0,\"ticks\":\"\"}},\"type\":\"scatterternary\"}],\"surface\":[{\"colorbar\":{\"outlinewidth\":0,\"ticks\":\"\"},\"colorscale\":[[0.0,\"#0d0887\"],[0.1111111111111111,\"#46039f\"],[0.2222222222222222,\"#7201a8\"],[0.3333333333333333,\"#9c179e\"],[0.4444444444444444,\"#bd3786\"],[0.5555555555555556,\"#d8576b\"],[0.6666666666666666,\"#ed7953\"],[0.7777777777777778,\"#fb9f3a\"],[0.8888888888888888,\"#fdca26\"],[1.0,\"#f0f921\"]],\"type\":\"surface\"}],\"table\":[{\"cells\":{\"fill\":{\"color\":\"#EBF0F8\"},\"line\":{\"color\":\"white\"}},\"header\":{\"fill\":{\"color\":\"#C8D4E3\"},\"line\":{\"color\":\"white\"}},\"type\":\"table\"}]},\"layout\":{\"annotationdefaults\":{\"arrowcolor\":\"#2a3f5f\",\"arrowhead\":0,\"arrowwidth\":1},\"autotypenumbers\":\"strict\",\"coloraxis\":{\"colorbar\":{\"outlinewidth\":0,\"ticks\":\"\"}},\"colorscale\":{\"diverging\":[[0,\"#8e0152\"],[0.1,\"#c51b7d\"],[0.2,\"#de77ae\"],[0.3,\"#f1b6da\"],[0.4,\"#fde0ef\"],[0.5,\"#f7f7f7\"],[0.6,\"#e6f5d0\"],[0.7,\"#b8e186\"],[0.8,\"#7fbc41\"],[0.9,\"#4d9221\"],[1,\"#276419\"]],\"sequential\":[[0.0,\"#0d0887\"],[0.1111111111111111,\"#46039f\"],[0.2222222222222222,\"#7201a8\"],[0.3333333333333333,\"#9c179e\"],[0.4444444444444444,\"#bd3786\"],[0.5555555555555556,\"#d8576b\"],[0.6666666666666666,\"#ed7953\"],[0.7777777777777778,\"#fb9f3a\"],[0.8888888888888888,\"#fdca26\"],[1.0,\"#f0f921\"]],\"sequentialminus\":[[0.0,\"#0d0887\"],[0.1111111111111111,\"#46039f\"],[0.2222222222222222,\"#7201a8\"],[0.3333333333333333,\"#9c179e\"],[0.4444444444444444,\"#bd3786\"],[0.5555555555555556,\"#d8576b\"],[0.6666666666666666,\"#ed7953\"],[0.7777777777777778,\"#fb9f3a\"],[0.8888888888888888,\"#fdca26\"],[1.0,\"#f0f921\"]]},\"colorway\":[\"#636efa\",\"#EF553B\",\"#00cc96\",\"#ab63fa\",\"#FFA15A\",\"#19d3f3\",\"#FF6692\",\"#B6E880\",\"#FF97FF\",\"#FECB52\"],\"font\":{\"color\":\"#2a3f5f\"},\"geo\":{\"bgcolor\":\"white\",\"lakecolor\":\"white\",\"landcolor\":\"white\",\"showlakes\":true,\"showland\":true,\"subunitcolor\":\"#C8D4E3\"},\"hoverlabel\":{\"align\":\"left\"},\"hovermode\":\"closest\",\"mapbox\":{\"style\":\"light\"},\"paper_bgcolor\":\"white\",\"plot_bgcolor\":\"white\",\"polar\":{\"angularaxis\":{\"gridcolor\":\"#EBF0F8\",\"linecolor\":\"#EBF0F8\",\"ticks\":\"\"},\"bgcolor\":\"white\",\"radialaxis\":{\"gridcolor\":\"#EBF0F8\",\"linecolor\":\"#EBF0F8\",\"ticks\":\"\"}},\"scene\":{\"xaxis\":{\"backgroundcolor\":\"white\",\"gridcolor\":\"#DFE8F3\",\"gridwidth\":2,\"linecolor\":\"#EBF0F8\",\"showbackground\":true,\"ticks\":\"\",\"zerolinecolor\":\"#EBF0F8\"},\"yaxis\":{\"backgroundcolor\":\"white\",\"gridcolor\":\"#DFE8F3\",\"gridwidth\":2,\"linecolor\":\"#EBF0F8\",\"showbackground\":true,\"ticks\":\"\",\"zerolinecolor\":\"#EBF0F8\"},\"zaxis\":{\"backgroundcolor\":\"white\",\"gridcolor\":\"#DFE8F3\",\"gridwidth\":2,\"linecolor\":\"#EBF0F8\",\"showbackground\":true,\"ticks\":\"\",\"zerolinecolor\":\"#EBF0F8\"}},\"shapedefaults\":{\"line\":{\"color\":\"#2a3f5f\"}},\"ternary\":{\"aaxis\":{\"gridcolor\":\"#DFE8F3\",\"linecolor\":\"#A2B1C6\",\"ticks\":\"\"},\"baxis\":{\"gridcolor\":\"#DFE8F3\",\"linecolor\":\"#A2B1C6\",\"ticks\":\"\"},\"bgcolor\":\"white\",\"caxis\":{\"gridcolor\":\"#DFE8F3\",\"linecolor\":\"#A2B1C6\",\"ticks\":\"\"}},\"title\":{\"x\":0.05},\"xaxis\":{\"automargin\":true,\"gridcolor\":\"#EBF0F8\",\"linecolor\":\"#EBF0F8\",\"ticks\":\"\",\"title\":{\"standoff\":15},\"zerolinecolor\":\"#EBF0F8\",\"zerolinewidth\":2},\"yaxis\":{\"automargin\":true,\"gridcolor\":\"#EBF0F8\",\"linecolor\":\"#EBF0F8\",\"ticks\":\"\",\"title\":{\"standoff\":15},\"zerolinecolor\":\"#EBF0F8\",\"zerolinewidth\":2}}},\"title\":{\"font\":{\"size\":22,\"color\":\"Black\"},\"text\":\"\\u003cb\\u003eHierarchical Clustering\\u003c\\u002fb\\u003e\",\"x\":0.5,\"xanchor\":\"center\",\"yanchor\":\"top\"},\"hoverlabel\":{\"font\":{\"size\":16,\"family\":\"Rockwell\"},\"bgcolor\":\"white\"},\"plot_bgcolor\":\"#ECEFF1\"},                        {\"responsive\": true}                    ).then(function(){\n",
       "                            \n",
       "var gd = document.getElementById('df1ea76c-087d-4e0a-8f05-9ff26f4dc501');\n",
       "var x = new MutationObserver(function (mutations, observer) {{\n",
       "        var display = window.getComputedStyle(gd).display;\n",
       "        if (!display || display === 'none') {{\n",
       "            console.log([gd, 'removed!']);\n",
       "            Plotly.purge(gd);\n",
       "            observer.disconnect();\n",
       "        }}\n",
       "}});\n",
       "\n",
       "// Listen for the removal of the full notebook cells\n",
       "var notebookContainer = gd.closest('#notebook-container');\n",
       "if (notebookContainer) {{\n",
       "    x.observe(notebookContainer, {childList: true});\n",
       "}}\n",
       "\n",
       "// Listen for the clearing of the current output cell\n",
       "var outputEl = gd.closest('.output');\n",
       "if (outputEl) {{\n",
       "    x.observe(outputEl, {childList: true});\n",
       "}}\n",
       "\n",
       "                        })                };                });            </script>        </div>"
      ]
     },
     "metadata": {},
     "output_type": "display_data"
    }
   ],
   "source": [
    "# visualize topic clusters\n",
    "topic_model.visualize_hierarchy(top_n_topics=30)"
   ]
  },
  {
   "cell_type": "code",
   "execution_count": null,
   "id": "78025e69-84e9-489c-b2b0-029a596bf31d",
   "metadata": {},
   "outputs": [],
   "source": []
  }
 ],
 "metadata": {
  "kernelspec": {
   "display_name": "Python 3 (ipykernel)",
   "language": "python",
   "name": "python3"
  },
  "language_info": {
   "codemirror_mode": {
    "name": "ipython",
    "version": 3
   },
   "file_extension": ".py",
   "mimetype": "text/x-python",
   "name": "python",
   "nbconvert_exporter": "python",
   "pygments_lexer": "ipython3",
   "version": "3.11.7"
  }
 },
 "nbformat": 4,
 "nbformat_minor": 5
}
