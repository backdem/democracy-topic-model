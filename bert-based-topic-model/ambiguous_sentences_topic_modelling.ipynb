{
 "cells": [
  {
   "cell_type": "code",
   "execution_count": 39,
   "id": "5e2296b8-7934-47c5-9881-d1fec99fcfb6",
   "metadata": {
    "tags": []
   },
   "outputs": [],
   "source": [
    "from bertopic import BERTopic\n",
    "import pandas as pd\n",
    "import os\n",
    "import matplotlib.pyplot as plt\n",
    "from bertopic.representation import KeyBERTInspired"
   ]
  },
  {
   "cell_type": "code",
   "execution_count": 40,
   "id": "88d0905d-83f7-4c7b-8d7b-7ee473f78a76",
   "metadata": {
    "tags": []
   },
   "outputs": [],
   "source": [
    "# Corpus and dictionary files to use\n",
    "corpus_file = '../../data/democracy_reports_corpus_merged_210524.xlsx'"
   ]
  },
  {
   "cell_type": "code",
   "execution_count": 41,
   "id": "1b9d3d61-4a85-4bf6-a8fa-47c15e1d7995",
   "metadata": {
    "tags": []
   },
   "outputs": [],
   "source": [
    "# Download datsets if not already downloaded\n",
    "if not os.path.exists(corpus_file):\n",
    "    print(f'Corpus file not found {corpus_file}')"
   ]
  },
  {
   "cell_type": "code",
   "execution_count": 42,
   "id": "3ca0807f-114b-495c-bf6b-83bae17b8ae0",
   "metadata": {
    "tags": []
   },
   "outputs": [],
   "source": [
    "# load data setof all countries, years and sources\n",
    "all_countries_data = pd.read_excel(corpus_file)\n",
    "all_countries_data['sentence'] = all_countries_data['sentence'].astype(str)\n",
    "df = pd.DataFrame(all_countries_data)\n",
    "amb_df = df[df['correct dimension'] == 'ambiguous']\n",
    "amb_df = amb_df.reset_index(drop=True)"
   ]
  },
  {
   "cell_type": "code",
   "execution_count": 43,
   "id": "ed759448-d7c0-44f3-b2d4-114466287dab",
   "metadata": {
    "tags": []
   },
   "outputs": [
    {
     "data": {
      "application/vnd.jupyter.widget-view+json": {
       "model_id": "009911d0d27d480c9b981d482d6e78b3",
       "version_major": 2,
       "version_minor": 0
      },
      "text/plain": [
       "Batches:   0%|          | 0/17 [00:00<?, ?it/s]"
      ]
     },
     "metadata": {},
     "output_type": "display_data"
    }
   ],
   "source": [
    "# Prepare embeddings\n",
    "from sentence_transformers import SentenceTransformer\n",
    "docs = amb_df.sentence\n",
    "sentence_model = SentenceTransformer(\"all-MiniLM-L6-v2\")\n",
    "\n",
    "# Use KeyBERTInspired representation model. \n",
    "# This gives better names to the topics.\n",
    "representation_model = KeyBERTInspired()\n",
    "embeddings = sentence_model.encode(docs, show_progress_bar=True)"
   ]
  },
  {
   "cell_type": "code",
   "execution_count": 34,
   "id": "497d1108-e398-479c-a5da-b22fd734e713",
   "metadata": {
    "tags": []
   },
   "outputs": [
    {
     "name": "stderr",
     "output_type": "stream",
     "text": [
      "2024-05-27 17:14:22,618 - BERTopic - Dimensionality - Fitting the dimensionality reduction algorithm\n",
      "2024-05-27 17:14:23,718 - BERTopic - Dimensionality - Completed ✓\n",
      "2024-05-27 17:14:23,718 - BERTopic - Cluster - Start clustering the reduced embeddings\n",
      "2024-05-27 17:14:23,728 - BERTopic - Cluster - Completed ✓\n",
      "2024-05-27 17:14:23,729 - BERTopic - Representation - Extracting topics from clusters using representation models.\n",
      "2024-05-27 17:14:24,380 - BERTopic - Representation - Completed ✓\n"
     ]
    }
   ],
   "source": [
    "# load BERT model paraphrase-MiniLM-L3-v2 (multilingual) or all-MiniLM-L6-v2 (english)\n",
    "# ADJUST minimum topic size and max ngrams\n",
    "MIN_TOPIC_SIZE = 10\n",
    "MAX_NGRAM = 2\n",
    "topic_model = BERTopic(representation_model=representation_model,  \n",
    "                       verbose=True, \n",
    "                       embedding_model='all-MiniLM-L6-v2', \n",
    "                       min_topic_size = MIN_TOPIC_SIZE, \n",
    "                       n_gram_range=(1, MAX_NGRAM)\n",
    "                      ).fit(docs, embeddings)"
   ]
  },
  {
   "cell_type": "code",
   "execution_count": 35,
   "id": "4f8a3255-4572-482f-a7ae-8254d3ea49c9",
   "metadata": {
    "tags": []
   },
   "outputs": [
    {
     "data": {
      "application/vnd.plotly.v1+json": {
       "config": {
        "plotlyServerURL": "https://plot.ly"
       },
       "data": [
        {
         "hoverinfo": "text",
         "hovertext": [
          "\"Officials also made efforts to advance a stalled drive to streamline the operations of government ministries.",
          "dutch bar association, dutch association for the judiciary, social work netherlands, federation on shelter, ribw alliance (2019), stand up for the rule of law!",
          "the authority disposes of its own budget and the resources allotted are considered adequate for the accomplishment of its tasks .",
          "\"Some evaluations, like that of the Union for Sustainable Return and Integration, showed that approximately 30,000 people left the country during the first half of the year, mostly for Western Europe.",
          "the commission services held virtual meetings in may and june 2020 with:",
          "\"Legislation passed in 2012 fully opened up the economy to foreign investors as well, allowing noncitizens to own up to 100 percent of any commercial entity.",
          "ministry of justice and security, integral assessment framework for policy and regulation.",
          "its service is confidential and free of charge.",
          "minister for justice and security ferdinand grapperhaus and minister for legal protection stander dekker (2020), answer to questions of the members of the house of representatives buitenweg and van den berge on criminal justice during times of covid-19.",
          "\"In October 2020, the Hoti government abolished the Special Anti-Corruption Taskforce that had operated under the Kosovo Police for more than 10 years and had investigated cases of high-level corruption among senior politicians.",
          "this concerns state employees, including ministers, secretaries of state and heads of central state administration bodies.",
          "\"Tax officials have been implicated in tax evasion schemes, which seriously complicate the government’s fiscal reform efforts.",
          "\"Cvetanoski, Ilcho, “Ohrid and its lake, a UNESCO heritage in danger”, Osservatorio Balcani e Caucaso Transeuropa, 24 September 2019, .",
          "corporate criminal liability has been introduced in the revised legislation in 2018, and a track record is still to be established.",
          "\"Wirecard filed for bankruptcy after its accounting firm refused to sign off on financial statements over evidence of fraud.",
          "\"The situation is particularly desperate in the RS the entity government’s decision to support 19 of the poorest municipalities with €500 each is illustrative of the poverty in BiH’s more remote areas as well as authorities’ inability to deal with it.",
          "the threshold for dutch donations that have to be disclosed would remain at eur 4 500.",
          "two such reports have already been produced: one covering the period of 2012-2014 and the other covering 2015-2017 .",
          "\"On a scale of 1 to 10, half of those surveyed gave marks in the range of 1 to 3 on the question of whether the Council acts upon proposals from organizations that are not already part of the Council.",
          "european commission, report from the commission to the european parliament and the council assessing the extent to which the member states have taken the necessary measures in order to comply with council framework decision 2003/568/jha of 22 july 2003 on combating corruption in the private sector, com(2019)355 final.",
          "* the commission also met the following organisations in a number of horizontal meetings:",
          "* the list of contributions received in the context of the consultation for the 2020 rule of law report can be found at (com website).",
          "\"An issue plaguing many local governments is a surplus of public employees, which requires a large percentage of municipal and city budgets to be spent on wages.",
          "annex: list of sources in alphabetical order*",
          "annex i: list of sources in alphabetical order*",
          "annex i: list of sources in alphabetical order.",
          "\"For example, the municipality of Bileća is in the red to the tune of 15 million BAM ($8.8 million) and faces bankruptcy, according to its municipal leadership.",
          "france scores 69/100 on the latest transparency corruption perception index, ranking 9th in the european union and 23rd globally .",
          "whilst the final report has already been delivered, an additional research report is due to be published in september.",
          "there is a strong integrity culture in the public administration.",
          "european commission (2019), public administration characteristics and performance in eu28.",
          "this issue has also been highlighted by greco, which recommends the provision of appropriate guidance on conflicts of interest and integrity-related matters and that persons entrusted with top executive functions declare on an ad hoc basis any conflicts between private interests and official functions, as well as making their financial interests public on a regular basis.",
          "irish human rights and equality commission (2019), ireland and the convention on the elimination of racial discrimination, submission to the united nations committee on the elimination of racial discrimination on ireland’s combined 5th and 6th report, october 2019.",
          "\"In practice, municipalities choose to incorporate as cities in order to enjoy purportedly easier access to funds and enhanced appeal to investors.",
          "* the commission also met the following organisations in a number of horizontal meetings:",
          "\"While the country succeeded in securing a formal invitation to join NATO, the second promise offered to citizens regarding the name change—starting accession talks with the European Union—was blocked at the EU Council in October.",
          "all recommendations by greco concerning incriminations had been implemented by 2010.",
          "\"The EC pointed to public authorities who have prematurely or falsely made references to guilt, and the lack of appropriate measures available in those instances.",
          "transparency international (2017), speak up report.",
          "while coordination mechanisms are in place, a pronounced departmentalism challenges coordination and efficient planning .",
          "\"Advocacy organizations said that the changes often reduced the country’s standards to the minimum allowed by the European Union.",
          "directorate-general for communication (2020), special eurobarometer 502: corruption.",
          "european network of national human rights institutions – ennrhi (2020), the rule of law in the european union.",
          "civicus, monitor tracking civic space: the netherlands.",
          "\"It remains to be seen whether this development will compel adequate attention from both the local and national government to care for the country’s most prominent tourist destination.",
          "transparency international ireland (2019), submission to the department of justice and equality review group consultation on anti-fraud and anti-corruption structures and procedures.",
          "european commission (2020), report on the implementation of council framework decision of 13 june 2002 on the european arrest warrant and surrender procedures between member states.",
          "greco has welcomed these proposed constitutional changes.",
          "\"Author: Liisa Talving, PhD, is a Research Fellow in Comparative Politics at the Johan Skytte Institute of Political Studies, University of Tartu, Estonia.",
          "\"The EU-endorsed “Urgent Reform Priorities” from 2015 are still far from being fully implemented, and exemplify the country’s lack of institutional capacity.",
          "certain it projects have been receiving technical support at european level .",
          "\"The government’s popularity suffered an additional hit in the fall when electricity prices rose to record highs following the insufficient capacity to generate electricity in the NordPool energy market.",
          "the legal framework remains the same.",
          "the political cycle has a high impact on staff turnover .",
          "directorate-general for communication (2020), special eurobarometer 502: corruption.",
          "\"In its 2019 report, the European Commission concluded that the state could improve financial sustainability for these organizations with tax harmonization and more predictable public budgeting.",
          "\"Multiple corruption scandals involving government officials were exposed during the Hoti government.",
          "sipo publishes guidelines on compliance with the provisions of these acts.",
          "irish times (2018), regional newspapers reject claims about government ‘advertorials’.",
          "\"This situation has left some municipalities struggling with debt.",
          "courts service, long-term strategic vision to 2030: supporting access to justice in a modern, digital ireland.",
          "furthermore, sipo is responsible for managing the disclosure of interests and tax clearance regimes, as well as for investigating and reporting on possible contraventions of the ethics legislation.",
          "state commission on the parliamentary system in the netherlands (2018), democracy and the rule of law in equilibrium – final report of the state commission on the parliamentary system in the netherlands.",
          "centre for media pluralism and media freedom (2020), 2020 media pluralism monitor.",
          "\"The June 2020 collapse of payment processing firm Wirecard, meanwhile, brought scrutiny on the German financial regulatory system.",
          "financial expertise centre (2019), fec annual plan 2020.",
          "\"In 2018, Prime Minister Jakobsdóttir commissioned a report to garner recommendations for improving public confidence in the government.",
          "personal injuries commission (2018), second and final report, department of business, enterprise and innovation of ireland, july 2018.",
          "dutch government, measures against undermining criminality.",
          "\"Transparency International’s Hungarian chapter has reported that a number of companies with close ties to the government are supported primarily by public funds.",
          "the commission services held virtual meetings in may and june 2020 with:",
          "\"Among mobile service providers, EE (owned by BT since 2016) leads the market with 29 percent of subscribers, followed by O2 (27 percent), Vodafone (19 percent), Three (11 percent), and Tesco (8.5 percent).",
          "directorate-general for communication (2019), flash eurobarometer 482: businesses’ attitudes towards corruption in the eu.",
          "directorate-general for communication (2020), special eurobarometer 502: corruption.",
          "\"According to the National Audit Office, this money was distributed without assessing the varying local effects of the crisis, and portions intended for economic recovery were delayed.",
          "\"In 2017, just prior to the election, media broke the story that former prime minister Benediktsson sold his shares in Glitnir Bank just hours before the financial crash of 2008.",
          "directorate-general for communication (2016-2020), eurobarometer: perceived independence of the national justice system in the eu among the general public.",
          "cepej (2020), study on the functioning of the judicial systems in the eu member states.",
          "a whole-of-government approach to regulatory policy making was established in the better regulation strategy and has helped to strengthen the methodological basis for assessing the economic impact of regulation.",
          "the aim of the new law is to remove shortcomings of the legislation as arising from the greco recommendations .",
          "* the commission also met the following organisations in a number of horizontal meetings:",
          "\"However, their fiscal policy choices in particular have been limited in recent years by the main creditor institutions that have guided the country through its public debt crisis—the European Commission, the European Central Bank, and the International Monetary Fund.",
          "directorate-general for communication (2019), flash eurobarometer 482: businesses' attitudes towards corruption in the eu.",
          "magistrates union (2020), automatic extension of provisional detentions: after the scandal and the mess, nonchalance!",
          "\"Nominet, a nonprofit company operating in the public interest, manages access to the .uk, .wales, and .cymru country domains.",
          "– final report of the disposition times in movement project.",
          "civicus monitor – tracking civic space: slovakia.",
          "irish law society (2018), contribution to the review of the administration of civil justice of february 2018. .",
          "minister for legal protection sander dekker (17 september 2019), letter to the house of representatives about ways in which to create a strong justice system.",
          "\"In July, the government approved a law to outlaw tax evasion, making this practice punishable by prison sentences of between three months and three years.",
          "\"In a 2017 progress report, GRECO notes that eighteen of the twenty recommendations have now been satisfactorily implemented.",
          "this raises questions about the need to register donations and their control.",
          "\"While Andersen initially resisted calls to resign, she did so later in March.",
          "\"The content can still be accessed on private computers.",
          "* the list of contributions received in the context of the consultation for the 2020 rule of law report can be found at (com website).",
          "minister for legal protection sander dekker (2020), answer to questions of the member of the house of representatives groothuizen about algorithmic analysis of judgments.",
          "civicus, monitor tracking civic space: ireland.",
          "in the latest corruption perceptions index of transparency international, the netherlands scored 82/100 and was ranked 4th in the european union and 8th globally.",
          "additionally, the programming law for justice 2018-2022 seeks to further digitalise legal procedures, and a process is ongoing to facilitate the online submission of requests for legal aid.",
          "\"Problems in the quality of local democratic governance are perhaps best illustrated by the case of Ohrid, which risked being reclassified by UNESCO as an “endangered” heritage site in 2019.",
          "\"Another estimate, published by the World Bank in its Migration and Brain Drain report, showed that as many as 49.5 percent of BiH citizens now live abroad.",
          "\"The directive was billed as an effort to reduce corporate tax avoidance within the EU.",
          "\"However, the incorporation of new cities was not driven by population or economic growth but, rather, came as a result of lax laws defining any area of “cultural and historical importance” as a city.",
          "\"Years of neglect of the natural and cultural heritage of the city, as well as illegal construction and pollution, had prompted UNESCO to issue a “last warning” and to propose a series of recommendations to be fulfilled with its status reassessed in 2020.",
          "european parliament research service, better regulation practices in national parliaments.",
          "directorate-general for communication (2019), flash eurobarometer 482: businesses and corruption.",
          "\"Ofcom, “The Communications Market Report 2017,” August 3, 2017 p.147  Ofcom, “Wholesale Local Access Market Review: Statement–Volume 1,” March 28,2018  Ofcom, Consolidated Version of General Conditions of Entitlement (London: Ofcom), December 16, 2013,  Ofcom, “The Communications Market Report 2016,” p.153,",
          "minister for justice and security ferdinand grapperhaus (2020), answer to the question of the member of the house of representatives groothuizen about the report that the ministry of justice is failing businesses in corruption cases.",
          "this has also been highlighted by greco.",
          "\"BNS, ERR News, „Jüri Ratas resigns as prime minister following loan scandal“, 13 January 2021,  Sulev Vedler, „Retsidiivne Keskerakond.",
          "the review group is due to present its findings later in autumn 2020.",
          "in the 2019 corruption perceptions index of transparency international, ireland scored 74/100 and ranked 8th in the eu and 18th globally .",
          "members of the house of representatives maarten groothuizen and michiel van nispen (2019), motion about potential vulnerabilities in the law on judicial organization.",
          "\"Although BiH remains nominally interested in fulfilling European Union (EU) requirements on its accession path, in practice, the state’s attitude toward joining the EU is characterized by disinterest, exemplified by the submission of incomplete answers to follow-up questions in an EC questionnaire in February.",
          "* the commission also met the following organisations in a number of horizontal meetings:",
          "directorate-general for communication (2020), eurobarometer: perceived independence of the national justice system in the eu among the general public.",
          "\"Two high-profile corruption cases involving former prime ministers reached the legally prescribed statute of limitations during the year, further contributing to the image of political impunity in the country: The trials against former PM Gruevski (VMRO–DPMNE, 2006–16), in the SJO case “Trajectory,” and former PM Vlado Buchkovski (SDSM, 2004–06), accused of illegal procurement while serving as Minister of Defense in 2001, ended without court decisions in October  and November,  respectively.",
          ",",
          "\"Massive “brain drain” persisted in BiH, although the number of emigrants in 2019 was hard to estimate.",
          "the commission services held virtual meetings in may and june 2020 with:",
          "\"ISPs are not subject to licensing, but they must comply with general conditions set by Ofcom, such as having a recognized code of practice and being a member of a recognized alternative dispute-resolution scheme.",
          "among other things, the government has increased funding since 2016, leading to an additional annual eur 20 million since 2018 for the prosecution service and the fiscal intelligence and investigation department on corruption and money-laundering.",
          "\"To alleviate the pandemic-related pressures on local governments, municipalities were allocated nearly €182 million in 2020 and 2021 as crisis support.",
          "legal aid is financed mainly through public funds, and around 38% of citizens would qualify for legal aid.",
          "high authority for the transparency of public life – hatvp, public registry .",
          "minister for justice and security ferdinand grapperhaus and minister for legal protection stander dekker (2020), letter to the house of representatives on contours of the approach to address backlogs in criminal justice.",
          "the investigation and monitoring of ethics compliance faces some legislative and structural obstacles.",
          "directorate-general for communication (2020), special eurobarometer 502: corruption.",
          "* the list of contributions received in the context of the consultation for the 2020 rule of law report can be found at (com website).",
          "civicus, monitor tracking civic space: france.",
          "official gazette of the kingdom of the netherlands (2019), decree of 28 november 2019, amending the decree on police data concerning theme-processing to combat official bribery and amending the decree on police data for special investigative forces concerning theme-processing to combat human trafficking.",
          "\"Greece was expected to exit its last bailout agreement with the institutions in 2018.",
          "high authority for the transparency of public life – hatvp (2019), activity report of 2018. .",
          "slovakia scored 50/100 over the past three years in a row in transparency international’s corruption perception index, ranking 16th in the european union and 59th globally .",
          "annex i: list of sources in alphabetical order.",
          "* the list of contributions received in the context of the consultation for the 2020 rule of law report can be found at (com website).",
          "\"Median gross weekly earnings for full-time workers were ₤569 ($730).",
          "nan",
          "steering group disposition times (2019), disposition times in movement!",
          "european parliament resolution of 28 march 2019 on the situation of the rule of law and the fight against corruption in the eu, specifically in malta and slovakia.",
          "\"Andorra continued to make efforts to address longstanding concerns about abuse of its banking system in 2017.",
          "\"Mobile virtual network operators including Tesco provide service using the infrastructure owned by one of the other companies.",
          "directorate-general for communication (2020), flash eurobarometer 482: businesses’ attitudes towards corruption in the eu.",
          "council of the bar of ireland (2019), submission to the joint committee on justice and equality on access to justice and legal costs of 25 november 2019.",
          "\"After Pashinyan took office as prime minister in May, law enforcement agencies initiated a number of high-profile corruption investigations, with targets including Yerevan mayor Taron Margaryan; parliament member Manvel Grigoryan and his son, Ejmiatsin mayor Karen Grigoryan; and Sargsyan’s brother and nephew.",
          "\"It had interviewed Hoti in 2019 as part of an ongoing corruption investigation.",
          "the commission services held virtual meetings in june 2020 with:",
          "nan",
          "the prohibition applies regardless of the amount.",
          "a member can only be suspended or dismissed due to incompetence, unsuitability for the position fulfilled or due to other compelling reasons related to the person concerned.",
          "\"The campaign intensified in late July after TVSA aired a feature film that allegedly misinterpreted the country’s wartime events.",
          "national ombudsman (2020), proper provision of information is the basis of access to justice – bottlenecks in the provision of information about penalties and dismissal decisions.",
          "ministry of justice (2020), breaches of integrity: statistical elements.",
          "these revelations triggered, amongst others, the resignation of the prosecutor general in march 2019 .",
          null
         ],
         "marker": {
          "color": "#CFD8DC",
          "opacity": 0.5,
          "size": 5
         },
         "mode": "markers+text",
         "name": "other",
         "showlegend": false,
         "type": "scattergl",
         "x": [
          7.00942325592041,
          6.9110260009765625,
          7.019405841827393,
          5.8493428230285645,
          4.561201572418213,
          6.734261989593506,
          7.477836608886719,
          3.3240926265716553,
          5.236755847930908,
          8.077564239501953,
          7.384863376617432,
          7.338211536407471,
          5.816983699798584,
          8.84892463684082,
          7.0609450340271,
          6.301435947418213,
          7.428109645843506,
          5.368043899536133,
          4.685554027557373,
          4.708054542541504,
          4.661037921905518,
          5.077828407287598,
          6.321821689605713,
          6.758894920349121,
          6.766200542449951,
          6.763741493225098,
          6.3003249168396,
          9.74311351776123,
          5.303826332092285,
          8.057473182678223,
          4.778994560241699,
          8.275019645690918,
          5.951984882354736,
          6.35004997253418,
          4.669236660003662,
          4.661553382873535,
          8.134184837341309,
          6.798223495483398,
          7.875645637512207,
          7.005838871002197,
          6.425314426422119,
          9.87923812866211,
          5.287652969360352,
          7.775496482849121,
          5.810465335845947,
          8.975107192993164,
          4.632046699523926,
          8.019460678100586,
          5.779778480529785,
          6.482279300689697,
          7.296046257019043,
          6.2315673828125,
          8.666385650634766,
          7.340979099273682,
          9.888933181762695,
          6.059978485107422,
          8.05449104309082,
          7.673120498657227,
          6.370726108551025,
          6.319602012634277,
          5.852470874786377,
          8.000234603881836,
          6.9113311767578125,
          2.0791120529174805,
          9.78319263458252,
          6.039648532867432,
          5.915080547332764,
          6.198426246643066,
          6.877399444580078,
          7.869447708129883,
          4.543398857116699,
          3.4244608879089355,
          9.961724281311035,
          9.92372989654541,
          6.680395126342773,
          7.213493824005127,
          4.624237060546875,
          4.638342380523682,
          7.427971839904785,
          8.032756805419922,
          4.6536946296691895,
          6.18761682510376,
          9.889286041259766,
          4.445641994476318,
          3.3831064701080322,
          5.034714698791504,
          7.788590908050537,
          5.917887210845947,
          5.175286769866943,
          7.204069137573242,
          8.034723281860352,
          6.786129474639893,
          7.042773723602295,
          3.231595993041992,
          5.108306407928467,
          5.162840843200684,
          7.7692060470581055,
          9.7433443069458,
          5.76800537109375,
          5.814086437225342,
          5.868194103240967,
          6.163710594177246,
          6.4000163078308105,
          5.821151256561279,
          7.201596736907959,
          9.863948822021484,
          3.3835861682891846,
          7.878633975982666,
          8.095152854919434,
          7.006732940673828,
          5.235652446746826,
          9.73794174194336,
          7.720579624176025,
          4.5283308029174805,
          4.658875942230225,
          4.547135353088379,
          7.883975982666016,
          3.7476565837860107,
          5.906588077545166,
          4.545241832733154,
          3.3908872604370117,
          8.646824836730957,
          6.30869197845459,
          9.420884132385254,
          7.8743133544921875,
          5.224763870239258,
          8.005224227905273,
          9.881254196166992,
          5.092616558074951,
          7.782793998718262,
          6.89119291305542,
          8.0474853515625,
          7.931435585021973,
          9.753169059753418,
          6.756343364715576,
          5.063478946685791,
          6.299812316894531,
          3.7172892093658447,
          4.9790449142456055,
          4.546574115753174,
          8.241584777832031,
          3.431201934814453,
          9.882854461669922,
          5.783284664154053,
          7.9439496994018555,
          8.078792572021484,
          4.527554988861084,
          3.741894483566284,
          7.27227258682251,
          7.652660369873047,
          8.015663146972656,
          7.654029846191406,
          7.877599239349365,
          6.902043342590332,
          6.5929718017578125
         ],
         "y": [
          3.0436205863952637,
          0.9920313358306885,
          3.1060984134674072,
          3.5040524005889893,
          2.7445600032806396,
          2.8107669353485107,
          2.4326608180999756,
          2.6428439617156982,
          0.9355146884918213,
          4.447877407073975,
          2.8463215827941895,
          3.4328997135162354,
          2.6219918727874756,
          3.4264516830444336,
          3.8202381134033203,
          3.973241090774536,
          1.4193947315216064,
          2.0309605598449707,
          2.8563647270202637,
          1.5534828901290894,
          2.878793954849243,
          1.4838625192642212,
          3.9771597385406494,
          -2.245710611343384,
          -2.2585973739624023,
          -2.2552947998046875,
          4.02217435836792,
          3.3777692317962646,
          2.0130276679992676,
          2.987661838531494,
          0.42748919129371643,
          2.5175998210906982,
          0.22601190209388733,
          3.9300477504730225,
          2.8873157501220703,
          1.703734278678894,
          1.4320712089538574,
          3.38995623588562,
          1.8530638217926025,
          3.071998357772827,
          2.2508323192596436,
          5.477246284484863,
          0.26899582147598267,
          -0.2167014181613922,
          2.6018762588500977,
          2.2937679290771484,
          1.549756646156311,
          1.3942145109176636,
          6.072010517120361,
          2.309920072555542,
          1.8378676176071167,
          3.916292905807495,
          3.4042375087738037,
          3.106025457382202,
          5.474550724029541,
          2.1616246700286865,
          4.336667537689209,
          2.499406576156616,
          0.21550938487052917,
          3.9709722995758057,
          0.26050689816474915,
          2.6690704822540283,
          1.0420266389846802,
          3.085956335067749,
          5.425621032714844,
          1.537941336631775,
          2.052990198135376,
          0.16231082379817963,
          1.0122467279434204,
          1.8606984615325928,
          2.7313694953918457,
          2.6563448905944824,
          5.362475395202637,
          5.41884708404541,
          3.634699821472168,
          5.109433650970459,
          0.31839337944984436,
          0.7860420942306519,
          2.3280372619628906,
          1.5157560110092163,
          2.8743081092834473,
          2.231674909591675,
          5.4578938484191895,
          1.6775233745574951,
          2.619722366333008,
          2.117650032043457,
          -0.20372235774993896,
          0.2114725410938263,
          0.8736594319343567,
          2.860985517501831,
          1.325153112411499,
          2.685802936553955,
          4.187913417816162,
          2.570359945297241,
          1.444557785987854,
          0.934946596622467,
          -0.20263665914535522,
          3.378636121749878,
          0.34836336970329285,
          2.607064962387085,
          3.493640422821045,
          2.2627689838409424,
          3.812445640563965,
          2.616084575653076,
          2.183912515640259,
          5.471882343292236,
          2.624636650085449,
          3.708265542984009,
          1.3880153894424438,
          4.6433820724487305,
          2.1178810596466064,
          3.3283071517944336,
          3.191789150238037,
          0.37538260221481323,
          2.87825870513916,
          0.35100653767585754,
          3.7992186546325684,
          2.5323433876037598,
          3.456134080886841,
          2.7305757999420166,
          2.6305606365203857,
          3.1182730197906494,
          3.979133129119873,
          3.731935501098633,
          2.053210496902466,
          0.9332221150398254,
          2.6696627140045166,
          5.464549541473389,
          1.4354565143585205,
          -0.19909289479255676,
          0.928972601890564,
          4.520437717437744,
          1.967974305152893,
          3.3744943141937256,
          -2.247169256210327,
          1.4547024965286255,
          3.984151601791382,
          2.553696393966675,
          2.316483736038208,
          1.3561303615570068,
          3.7348597049713135,
          2.670464515686035,
          5.462948799133301,
          0.19564412534236908,
          3.858485698699951,
          4.433812141418457,
          2.7294323444366455,
          2.5356481075286865,
          2.782003164291382,
          3.203439712524414,
          4.245366096496582,
          3.1332011222839355,
          3.0477805137634277,
          4.429047584533691,
          2.4896981716156006
         ]
        },
        {
         "hoverinfo": "text",
         "hovertext": [
          "\"Sirachevski, Gavril, “АНТИКОРУПЦИОНЕРИТЕ ЌЕ ГО ИСПИТУВААТ СКАНДАЛОТ СО НАВОДНОТО МЕСТЕЊЕ ТЕНДЕР ОД РАШКОВСКИ - ЗАЕВ И ДЕНЕСКА ВО ОДБРАНА” [“The anti-corruptioners will investigate the scandal with the fixed tender by Rashkovski – Zaev today in defense”], TV24, 4 July 2019, .",
          "\"Why Bosnia had a Dilemma”, Balkan Insight, October 16, 2019,  “Bileća Municipal Assembly holds session after six months” (“Skupština Opštine Bileća zasjedala nakon šest mjeseci”, ATV Banja Luka, September 27, 2019,  Milorad Milojević, “The Republika Srpska has money for airplanes, but not for poor municipalities”, (“Republika Srpska ima novac za avione, ali ne i za siromašne opštine”), November 19, 2019,",
          "\"Chalovski, Vlatko, ”ДКСК го затвори предметот за Мицкоски – побара од Заев да испитува судир на интереси кај Анѓушев” [‘DKSK closed the case on Mickovskia – and requested from Zaev to investigate conflict of interest with Angjushev”], Investigative Reporting Lab Macedonia, 15 November 2019, .",
          "\"Cyril and Methodius University, Skopje.",
          "\"Ajla Obradović, “Consequences of one year of deadlock in BiH” (“Posljedice godine dana zastoja u BiH”), Radio Free Europe, October 7, 2019,  \"\"Bakir Izetbegović: no naming of PM candidate without the ANP\"\" (\"\"Bakir Izetbegović: Nema imenovanja mandatara bez ANP-a\"\"), Anadolija Agency, August 18, 2019,  “Bosnian Parliament Breaks 14-Month Impasse, OKs Government,” Radio Free Europe/Radio Liberty, 23 December 2019,  Anđelka Marković, \"\"The RS reserve police force: why, how much...\"\" (\"\"Rezervni sastav policije RS: Zbog čega, koliko...\"\"), N1, April 4, 2019,  Dalio Sijah, “What comes next after the Interior Ministry of the RS gave up on forming its reserve unit?\"\"",
          "\"Jakov Marusic, Sinisa, “North Macedonia’s Zaev Condemned for Calling Detainee ‘Faggot’”, Balkan Insight, 14 August 2019, .",
          "\"Jakov Marusic, Sinisa, “North Macedonia Woos Opposition to Prolong Special Prosecution”, Balkan Insight, 11 March 2019, .",
          "\"Danilovska, Dance and Nada Naumovska, “Proposals for the improvement of the current state, Openness of the local self-government institutions in the region and in the Republic of North Macedonia”, Metamorphosis Foundation for Internet and Society and ACTION SEE, July 2019, p. 4, .",
          "\"Jakov Marusic, Sinisa, “North Macedonia Journalist ‘Denied Chance’ to Prove Innocence”, Balkan Insight, 3 September 2019, .",
          "\"The state reclaimed phytosanitary control over the Bulgarian-Turkish border in May, for example (though a court later overturned the move); the previous lax controls had been criticized for allowing agricultural products with unacceptable levels of pesticides into the country, and allegedly had led to an increase in drug smuggling.",
          "\"Zafeiropoulos, Kostas, “Alexander the Bot: The Twitter War for the Macedonian Soul”, Balkan Insight, 18 December 2019, ; Woolley, Samuel and Katie Josef, “Demand for Deceit: How the Way We Think Drives Disinformation”, National Endowment for Democracy, 8 January 2020, pp.",
          "\"The irregular 2016 demolition of a number of homes and businesses in Belgrade’s Savamala district was aimed at clearing the way for a government-backed private development project.",
          "\"Meanwhile, Serbs living in Kosovo do not benefit from Serbia’s visa waiver agreement with the EU, making travel with a Serbian passport relatively difficult for those living in the enclaves.",
          "\"Jakov Marusic, Sinisa, “North Macedonia Govt Announces New Anti-Corruption Team”, Balkan Insight, 13 August 2019, .",
          "\"In November 2016, Putin withdrew Russia from the International Criminal Court (ICC) after the body issued a report of preliminary findings calling the fighting in Crimea and eastern Ukraine an “international armed conflict” between Ukraine and Russia.",
          "\"Jakov Marusic, Sinisa, “North Macedonia Court Jails Parliament Attackers”, Balkan Insight, 15 March 2019, .",
          "\"Public trust in North Macedonia’s main representative body also remained low.",
          "\"Jakov Marusic, Sinisa, “North Macedonia Opposition Backs ‘Non-Partisan’ Professor for President”, Balkan Insight, 27 February 2019, .",
          "\"He has also contributed to the Guardian, Washington Post, PBS, and Al Jazeera English.",
          "\"Jakov Marusic, Sinisa, “North Macedonia Capital Hosts First Pride Parade”, Balkan Insight, 29 June 2019, .",
          "\"He produces and cohosts Sarajevo Calling, a bi-weekly podcast on current and past sociopolitical events in countries of the Western Balkans.",
          "\"Author: Aleksandar Brezar is Southeast Europe/Western Balkans Network Lead for The Democratic Society, a UK/Brussels-based non-profit organization working for greater participation and dialogue in democracy in Europe and elsewhere.",
          "\"Ognenovska, Simona and Jasmina Chaushoska, “Извештај за овозможувачка околина за развој на граѓанското општество за 2018 година” [“Report on the enabling environment for the development of the civil society in 2018”], Macedonian Center for International Cooperation (MCIC), 2019, p. 44, .",
          "\"In November 2020, a number of former Kosovo Liberation Army (KLA) members—including former president Thaçi, leader of the PDK Kadri Veseli, former head of Parliament Jakup Krasniqi, and member of Parliament Rexhep Selimi—were charged with war crimes by the Kosovo Specialist Chambers (KSC), a tribunal in The Hague investigating war crimes committed during Kosovo’s 1998–99 war for independence.",
          "\"Fotinovska, Ruzhica, “ДИРЕКТОРОТ НА ДИРЕКЦИЈАТА ЗА ЗАШТИТА НА ЛИЧНИТЕ ПОДАТОЦИ ГОРАН ТРАЈКОВСКИ ПОДНЕСЕ ОСТАВКА” [“The Director of the Directorate for Personal Data Protection submitted a resignation”], TV 24, 20 May 2019, ; “Избор на директор и заменик директор на Дирекцијата за заштита на личните податоци” [“Appointment of a director and substitute-director in the Directorate for Personal Data Protection”], Directorate for Personal Data Protection, 30 December 2019, .",
          "\"In December 2018, investigative reporter Milan Jovanović, who has reported extensively on corruption, was the victim of an arson attack in which unknown assailants threw a Molotov cocktail into his home.",
          "\"Brezar won the Poynter Institute’s inaugural Balkan Factchecking Award (2017), the Europa Nostra Award and Grand Prix for Preservation of Cultural Heritage (2016), the Jules Chametzky Literary Translation Award (2016), and received a Pushcart Prize nomination (2015).",
          "\"Chalovski, Vlatko, “Политичкиот пазар во Собрание го кочи функционирањето на неколку државни институции” [“The political bargaining in the Assembly blocks the functioning of several state institutions”], Investigative Reporting Lab Macedonia, 17 October 2019, .",
          "\"In the past, he has worked as Brussels correspondent for Balkan Insight, while also serving as a regular contributor for BiH on topics ranging from NATO and EU integrations to war crimes processes and peace-building efforts.",
          "\"Buhovski, Anita, “ИЗГЛАСАН ЗАКОНОТ ЗА АНТИДИСКРИМИНАЦИЈА” [The law on anti-discrimination is adopted”], TV24, 11 May 2019, .",
          "\"Recica, Vlora, Aleksandra Jovevska Gjorgjevikj and Sara Janeska, “Резултати од теренската анкета за перцепциите на граѓаните за работата на Собранието (12-26 мај 2019)” [“Results from the field survey on the perceptions of citizens on the work of the Assembly (12-26 May 2019)”], Institute for Democracy “Societas Civilis” (IDSCS), p. 14, .",
          "\"Approximately 1.5 million buildings in Serbia are not registered.",
          "\"Dimeska, Frosina, “Осуденици и обвинети бегаат од државата, одговорност нема” [“Convicts and suspects flee from the country, there is no responsibility”], Radio Slobodna Evropa, 30 October 2019, .",
          "\"While anti-LGBT+ violence has been significantly underreported in Bulgaria, and largely goes unaddressed by authorities, there were no registered homophobia-motivated hate crimes in Bulgaria in 2022, and LGBT+ groups note some slowly increasing tolerance toward LGBT+ people.",
          "\"Oligarch Alisher Usmanov sued, claiming that Navalny’s charge that he had given Medvedev a $50 million mansion as a gift was not true.",
          "\"Jakov Marusic, Sinisa, “President Ivanov Refuses to Use New Macedonia Name”, Balkan Insight, 12 March 2019, .",
          "\"Stojanchova, Pelagija, “Малку персонал и пари, многу предмети за корупција” [“Little staff and money, a lot of corruption cases”], 23 July 2019, Radio Slobodna Evropa, .",
          "\"Blazevska, Katerina, “How Pendarovski Got Second Shot at North Macedonia Presidency”, Balkan Insight, 5 March 2019, .",
          "\"Avdo Avdić, “HJPC president caught in corruption: Milan Tegeltija traded criminal proceedings” (“PREDSJEDNIK VSTV-A UHVAĆEN U KORUPCIJI: Milan Tegeltija trgovao krivičnim istragama!”), Žurnal, May 21, 2019,  \"\"Video allegedly shows Bosnia’s top judicial official being bribed, he denies it\"\", N1 Sarajevo English,   Amer Jahić, \"\"Disciplinary commision rejected complaint against Milan Tegeltija on appeal\"\" (\"\"Drugostepena disciplinska komisija potvrdila odbacivanje tužbe protiv Milana Tegeltije\"\"), Voice of America, June 14, 2019,  Mladen Lakić, “Bosnian Serb Leaders’ Declaration Defies Court’s ‘Statehood Day’ Ban, Balkan Insight, April 2, 2019,  Goran Lajić, “Death Penalty abolished in the Republika Srpska” (“Ukinuta smrtna kazna u Republici Srpskoj”), Nezavisne novine, October 4, 2019,  “Godišnji izvještaj o rezultatima aktivnosti institucije Ombudsmena za ljudska prava BiH za 2018. godinu [Annual Report on the Results of Activities of the Ombudsman Institution for Human Rights of BiH for 2018],” Ombudsman Institution for Human Rights of BiH, pages 74-75, March 2019,  “MP BiH: Prvi zatvorenici u državnom zatvoru sredinom 2020 godine?” (“Ministry of Justice of BiH: First Prisoners in State Prison by Mid-2020?”), N1, August 6, 2019,  Mladen Lakić, Albina Sorguč, “European Court tells Bosnia to Remove Illegal Church”, Balkan Insight, October 1, 2019,",
          "\"He holds a PhD in political science from the University of Milan, Italy.",
          "\"Thaçi resigned from his position and the four were being held in detention in The Hague at year’s end.",
          "\"Jakov Marusic, Sinisa, “Blerim Reka – Underdog in North Macedonia’s Presidential Race”, Balkan Insight, 26 March 2019, .",
          "\"Author: Jovan Bliznakovski is an assistant in political science at the Institute for Sociological, Political, and Juridical Research (ISPJR), Ss.",
          "\"Jakov Marusic, Sinisa, “New North Macedonia Probe Grills Top Government Official”, Balkan Insight, 10 October 2019, .",
          "\"Pajaziti, Naser, “Vetting of Judges and Prosecutors in North Macedonia”, Independent Balkan News Agency, 25 November 2019, .",
          "\"People who contracted COVID-19 in northern Kosovo were initially provided medical treatment by the Serbian government.",
          "\"The major event of 2019 took place in January, when Parliament adopted constitutional amendments stipulated in the agreement with Greece, and thus changed the name of the country from “Republic of Macedonia” to “Republic of North Macedonia.”  This achievement prompted the opening of the NATO accession process in early February.",
          "\"Kosovars have also been hindered from traveling to Bosnia and Herzegovina by the need for visas in recent years.",
          "\"The mandates of Kosovo’s four main anticorruption bodies overlap, and they have difficulty coordinating their efforts.",
          "\"Jakov Marusic, Sinisa, “NATO Signs Accession Protocol With Macedonia”, Balkan Insight, 6 February 2019, .",
          "\"Ognenovska, Simona and Jasmina Chaushoska, “Извештај за овозможувачка околина за развој на граѓанското општество за 2018 година” [“Report on the enabling environment for the development of the civil society in 2018”], Macedonian Center for International Cooperation (MCIC), 2019, p. 9, .",
          "\"Jakov Marusic, Sinisa, “North Macedonia Checks Prosecutor in Extortion Case”, Balkan Insight, 16 July 2019, ; “Court orders a 30 day detention and Katica Janeva was taken to the prison in Shutka”, Meta, 22 August 2019, .",
          "\"At BHRT (National Radio–Television of Bosnia and Herzegovina) he served as Head of New Media; at Analiziraj, he was Senior Contributor on media ethics, as well as disinformation debunking and fact-checking.",
          "\"See: “North Macedonia 2019 Report”, European Commission SWD(2019) 218 final, 29 May 2019, p. 11, .",
          "\"In 2014–16, he served as program director of the Institute for Democracy “Societas Civilis” Skopje (IDSCS), the leading Macedonian policy think tank.",
          null
         ],
         "marker": {
          "opacity": 0.5,
          "size": 5
         },
         "mode": "markers+text",
         "name": "0_balkan insight_macedonia_balkan",
         "text": [
          "",
          "",
          "",
          "",
          "",
          "",
          "",
          "",
          "",
          "",
          "",
          "",
          "",
          "",
          "",
          "",
          "",
          "",
          "",
          "",
          "",
          "",
          "",
          "",
          "",
          "",
          "",
          "",
          "",
          "",
          "",
          "",
          "",
          "",
          "",
          "",
          "",
          "",
          "",
          "",
          "",
          "",
          "",
          "",
          "",
          "",
          "",
          "",
          "",
          "",
          "",
          "",
          "",
          "",
          "",
          "0_balkan insight_macedonia_balkan"
         ],
         "textfont": {
          "size": 12
         },
         "type": "scattergl",
         "x": [
          6.847208499908447,
          7.093926906585693,
          6.947537422180176,
          6.997996807098389,
          6.973624229431152,
          7.356143951416016,
          7.346498966217041,
          6.993573188781738,
          7.325247764587402,
          7.3751702308654785,
          7.216022968292236,
          6.933461666107178,
          7.378874778747559,
          7.2804155349731445,
          7.072702407836914,
          7.287537097930908,
          7.1771345138549805,
          7.189233303070068,
          6.934460639953613,
          7.343910217285156,
          7.001351833343506,
          7.071694374084473,
          6.82689094543457,
          7.228725910186768,
          6.8612542152404785,
          6.916439533233643,
          7.140796661376953,
          7.09503173828125,
          6.9651947021484375,
          6.651651859283447,
          6.661784648895264,
          7.12930965423584,
          6.840386867523193,
          7.306185245513916,
          6.879266262054443,
          7.379349231719971,
          6.822035789489746,
          7.287827014923096,
          7.1168670654296875,
          6.834353923797607,
          7.170257091522217,
          7.22859525680542,
          6.5056071281433105,
          7.191327095031738,
          7.286486625671387,
          7.357297897338867,
          7.4643096923828125,
          7.354996204376221,
          7.402971267700195,
          7.38299560546875,
          6.7728376388549805,
          7.29623556137085,
          6.9581708908081055,
          7.144312381744385,
          6.925370216369629,
          7.10052490234375
         ],
         "y": [
          5.992474555969238,
          6.337160587310791,
          6.30971622467041,
          7.024271488189697,
          6.264638900756836,
          6.956920623779297,
          6.872880935668945,
          6.70060920715332,
          6.8670125007629395,
          6.687496662139893,
          7.067598342895508,
          6.319723606109619,
          6.458880424499512,
          6.9062299728393555,
          6.54253625869751,
          6.881618976593018,
          6.761157512664795,
          7.001478672027588,
          7.432134628295898,
          7.047826290130615,
          7.369216442108154,
          7.38874626159668,
          6.534671783447266,
          6.102437496185303,
          6.266788005828857,
          6.102624416351318,
          7.321496486663818,
          6.622347354888916,
          7.399272918701172,
          6.48439884185791,
          6.488619327545166,
          6.371725082397461,
          6.039421558380127,
          7.067973613739014,
          5.995677947998047,
          6.953683376312256,
          6.130270957946777,
          7.194023132324219,
          6.295024871826172,
          7.075041770935059,
          5.973852157592773,
          7.144176959991455,
          6.471388339996338,
          6.8853983879089355,
          6.935355186462402,
          6.421106815338135,
          7.101346969604492,
          6.510007858276367,
          6.4769110679626465,
          7.076390743255615,
          6.561614513397217,
          6.565305709838867,
          7.387835502624512,
          6.9069414138793945,
          7.009413719177246,
          6.710234642028809
         ]
        },
        {
         "hoverinfo": "text",
         "hovertext": [
          "council for public administration (2020), a stronger rule of law – connecting and protecting in a pluralistic society.",
          "council of europe: committee of ministers (2017), recommendation of the committee of ministers of the council of europe cm/rec(2017)14 on the legal status of non-governmental organisations in europe.",
          "the execution of ecthr judgement is under enhanced supervision by the council of europe’s committee of ministers .",
          "european network of councils for the judiciary (2020), contribution from the european network of council for the judiciary for the stakeholder consultation for the 2020 rule of law report.",
          "house for whistleblowers (2019), annual report 2019 house for whistleblowers.",
          "council of europe: committee of ministers (2019), resolution cm/resdh(2016)358 of the committee of ministers on excessive length of criminal and civil proceedings and lack of effective remedies.",
          "its president is nominated by the president of the republic, and three members are nominated by each of the two parliamentary chambers.",
          "council of europe: committee of ministers (2010), recommendation cm/rec(2010)12 of the committee of ministers to member states on judges: independence, efficiency and responsibilities.",
          "council of europe: venice commission (2017), slovakia – opinion on questions related to the appointment of judges of the constitutional court (cdl-ad(2017)001-e).",
          "cncdh (2020), opinion on the state of health emergency and the rule of law.",
          "netherlands committee of jurists for human rights (2020), letter on concerns about corona measures in criminal justice.",
          "the seven members of the csa are nominated by decree for a non-renewable, six-year mandate.",
          "defender of rights (2020), letter to the presidents of the senate and the national assembly on the law extending the state of health emergency.",
          "amnesty international ireland, front line defenders, the wheel, transparency international ireland, uplift and the irish council for civil liberties (2020), submission to the un special rapporteur on the rights to freedom of peaceful assembly and of association, mr clément nyaletsossi voule.",
          "in february 2020, the minister asked the council of state for advice in this regard.",
          "transparency international slovakia (2018), let’s judge the judges – how slovakia opened its judiciary to unprecedented public control.",
          "the sca also encouraged the cncdh to continue to strengthen its cooperation with other national human rights entities such as the defender of rights.",
          "constitutional council, decision of 11 may 2020, on the law extending the state of health emergency and supplementing its provisions, decision no.",
          "providing adequate resources for the judicial council, as well as the state prosecutorial council, is an important condition for the independent and effective functioning of these self-governance bodies.",
          "derogations from this right exist for reasons of national security.",
          "un global alliance of national human rights institutions (2015), sub-committee on accreditation (sca), accreditation report – november 2015.",
          "council of state, judgments of 6 july 2020, on the obligation to obtain an authorization before organizing an event, decision nos.",
          "un human rights committee (2019), international covenant on civil and political rights: concluding observations on the fifth periodic report of the netherlands.",
          "council of europe: venice commission (2010), report on the independence of the judicial system part i: the independence of judges adopted by the venice commission at its 82nd plenary session (cdl-ad(2010)004-e).",
          "president of the council for the judiciary (2018), letter to the minister for legal protection on a rest of the digitalisation of justice.",
          "global alliance of national human rights institutions (ganhri): sub-committee on accreditation (sca) (2019), ganhri sub-committee on accreditation report – march 2019.",
          "consultative council of european judges (2016), ccje opinion no.19: the role of court presidents.",
          "council of europe: committee of ministers (2000), recommendation rec(2000)19 of the committee of ministers to member states on the role of public prosecution in the criminal justice system.",
          "european network of councils for the judiciary and council of bars and law societies of europe (2020), survey among lawyers on the independence of judges 2018-2019. .",
          "national assembly (2019), a new enthusiasm for parliamentary ethics: annual report submitted to the president and to the office of the national assembly on 14 and 30 january 2019, in accordance with article 80-3 of the rules of the national assembly.",
          "the ganhri sub-committee on accreditation (sca) encouraged the cncdh to continue to broaden its activities in relation to its protection mandate, including advocating for legislative amendments to make this mandate explicit.",
          "council of europe: committee of ministers (2010), recommendation cm/rec(2010)12 of the committee of ministers to member states on judges: independence, efficiency and responsibilities.",
          "council of europe: committee of ministers (2010), recommendation cm/rec(2010)12 of the committee of ministers to member states on judges: independence, efficiency and responsibilities.",
          "osce-odihr (2019) opinion on the draft amendments to the act on establishment of the slovak national centre for human rights.",
          "council of state (2019), annual report 2019.",
          "european network of councils for the judiciary (2013-2014), development of minimum judicial standards iv: allocation of cases.",
          "council of europe, recommendation cm/rec(2010)12 of the committee of ministers to member states on judges: independence, efficiency and responsibilities.",
          "judicial council (13 november 2019, 23 march 2020, 23 june 2020), communiques concerning resignation of its members.",
          "judicial council (23 april 2020, 26 april 2020, 20 may 2020), communiques concerning appointments of its members.",
          "public defender of rights (2020) report on the activities of the public defender of rights for 2019.",
          "president of the magistrates union katia dubreuil (2019), letter of 3 december 2019 addressed to the minister of justice.",
          "i-connect and the clough center for the study of constitutional democracy at boston college (2019), 2018 global review of constitutional law.",
          "council of europe: venice commission and osce office for democratic institutions and human rights (2014), joint guidelines on freedom of association.",
          "council of state, judgment of 29 may 2019, nitrogen action programme, ecli:nl:rvs:2019:1604.",
          "constitutional council, decision of 3 july 2020, m. sofiane a. and others, decision no.",
          "high council for the judiciary (2019), compendium on the judiciary’s ethical obligations.",
          "cepej (2017), efficiency and quality of the slovak judicial system.",
          "council of state, advisory opinion w04.20.0139/i/vo of 25 may 2020.",
          null
         ],
         "marker": {
          "opacity": 0.5,
          "size": 5
         },
         "mode": "markers+text",
         "name": "1_europe committee_judicial council_councils",
         "text": [
          "",
          "",
          "",
          "",
          "",
          "",
          "",
          "",
          "",
          "",
          "",
          "",
          "",
          "",
          "",
          "",
          "",
          "",
          "",
          "",
          "",
          "",
          "",
          "",
          "",
          "",
          "",
          "",
          "",
          "",
          "",
          "",
          "",
          "",
          "",
          "",
          "",
          "",
          "",
          "",
          "",
          "",
          "",
          "",
          "",
          "",
          "",
          "",
          "1_europe committee_judicial council_councils"
         ],
         "textfont": {
          "size": 12
         },
         "type": "scattergl",
         "x": [
          5.7605977058410645,
          4.367204666137695,
          4.223897457122803,
          4.952701568603516,
          6.016595840454102,
          4.408364295959473,
          4.484681129455566,
          4.230119228363037,
          4.469578742980957,
          5.6998467445373535,
          5.399115085601807,
          5.669525623321533,
          5.559671401977539,
          5.849974632263184,
          5.846500396728516,
          4.551620006561279,
          5.711581707000732,
          5.713072776794434,
          4.194460391998291,
          5.611600875854492,
          5.7391037940979,
          5.720397472381592,
          5.583496570587158,
          4.200243949890137,
          5.2687907218933105,
          5.724642753601074,
          4.496777534484863,
          4.317174434661865,
          4.548429012298584,
          5.940792560577393,
          5.722014904022217,
          4.2193779945373535,
          4.225532531738281,
          6.544689178466797,
          5.881195068359375,
          4.753753662109375,
          4.2115020751953125,
          4.9052910804748535,
          4.815289497375488,
          5.5753350257873535,
          5.2694807052612305,
          5.731870651245117,
          5.264552116394043,
          5.712680339813232,
          5.684792995452881,
          5.082296371459961,
          4.614887237548828,
          5.755161762237549,
          5.171463966369629
         ],
         "y": [
          1.6177539825439453,
          1.5439029932022095,
          1.3639545440673828,
          1.3426693677902222,
          1.2863519191741943,
          1.6888703107833862,
          1.1726552248001099,
          1.3359698057174683,
          1.098991870880127,
          1.0998117923736572,
          0.6726445555686951,
          1.3625701665878296,
          1.0153323411941528,
          0.3269025683403015,
          1.7642329931259155,
          0.8785663843154907,
          0.7083337306976318,
          1.3953114748001099,
          1.3281258344650269,
          0.6347750425338745,
          0.6483267545700073,
          1.5233532190322876,
          0.47888827323913574,
          1.2832841873168945,
          0.9871211647987366,
          0.7164871096611023,
          1.100791096687317,
          1.562150478363037,
          1.0991865396499634,
          1.1847319602966309,
          0.7679454684257507,
          1.3331114053726196,
          1.3882153034210205,
          0.3558860123157501,
          1.4701594114303589,
          0.9871858358383179,
          1.3337987661361694,
          2.060246706008911,
          2.1282050609588623,
          1.0217045545578003,
          0.9972856044769287,
          1.5445066690444946,
          0.35667654871940613,
          1.4751098155975342,
          1.5439692735671997,
          1.1356991529464722,
          0.7677009105682373,
          1.6225990056991577,
          1.1773344278335571
         ]
        },
        {
         "hoverinfo": "text",
         "hovertext": [
          "\"Corruption remains a problem in Hungary, and instances of high-level government corruption have not been properly investigated.",
          "\"For example, the prosecutor’s office has been reluctant to investigate long-standing allegations that the government misused development funds provided by the EU.",
          "following completion of corruption investigations by an garda síochána, a file is submitted to the office of the director of public prosecutions, unless the investigation was discontinued due to insufficient evidence.",
          "\"Although the number of arrests and prosecutions for corruption has risen in recent years, high-profile convictions are very rare.",
          "the government announced in its programme adopted in june 2020 to tackle corruption and follow-up the review and increase the effectiveness of anticorruption measures.",
          "\"Corruption related to state contracts remains a concern; a number of former officials, including former cabinet ministers, were charged or found guilty during 2017 for contract-related bribery schemes.",
          "transparency international, 2019 corruption perception index.",
          "its annual plan for 2020 lists corruption as a priority topic and highlights the establishment of a specific project, aiming to strengthen the prevention and detection of corruption by banks.",
          "\"The work of the ACA is undermined in part by the ambiguous division of responsibilities among other entities tasked with combating corruption.",
          "the anti-corruption unit acts as a centre of excellence for the investigation, prevention and disruption of bribery and corruption, and in this regard the unit provides assistance to other national and local units, when required.",
          "\"Corruption is pervasive.",
          "the competences and responsibilities for the development and implementation of anti-corruption policies as well as for preventing, detecting, investigating and prosecuting corruption are shared between several authorities in ireland.",
          "in this respect, a 2017 study shows that more could be done to fight corruption and other integrity violations within law enforcement authorities.",
          "it also includes extensions to the presumptions of corruption, which had been included in the prevention of corruption amendment act 2001.",
          "the unit was established to act as organisational lead for the investigation of corruption and bribery.",
          "the government announced in its recent programme to tackle corruption as a result of a comprehensive review of the anti-corruption framework and increase the effectiveness of anti-corruption measures.",
          "\"Armenia does not have effective safeguards against corruption.",
          "the national financial prosecutor has established a good record on securing convictions in high-level cases of corruption and embezzlement of public funds.",
          "its operational scope includes prevention, detection, disruption and investigation of cases of bribery and corruption.",
          "bribery offences are criminalised by the criminal code.",
          "corruption investigations conducted by the gnecb are supported by relevant national operational units, such as the financial intelligence unit and, regarding the seizure of assets deemed to be the proceeds of crime, the criminal assets bureau, which is an independent multi-agency body.",
          "in particular the capacity to find the first indications of corruption is hampered by the lack of resources and specific expertise .",
          "this is a good practice, particularly given that stakeholders indicate that the process of decentralisation should be carefully assessed in light of possible risks of corruption.",
          "while the state prosecution increased its efficiency, challenges remain in effectively prosecuting economic and financial crime.",
          "the legal and institutional framework to fight corruption is in place and there are several initiatives underway to further strengthen the framework to detect, investigate and prosecute corruption, in particular in relation to the financial sector.",
          "the unit proactively seeks out cases and gathers bribery and corruption related intelligence.",
          "\"Adherence to some mitigation measures, like the use of face masks, is reportedly inconsistent in prisons.",
          "\"In December 2019, polling firm Maskína found that 72 percent of Icelanders viewed their country’s political system as corrupt.",
          "the national financial prosecutor is competent for the investigation of high level corruption cases.",
          "in relation to the overall resources dedicated to fighting corruption, the anti-corruption unit within gnecb is currently operating at limited capacity, with only three out of six positions filled .",
          "all forms of active, passive, direct and indirect corruption are criminalised.",
          "the fight against corruption has been identified as one of the key priorities in the political programme of the new government, which announced a range of reforms in this area.",
          "\"Official corruption remains a problem in Greece, and institutions tasked with combating it lack the resources to operate effectively.",
          "the special prosecution office has raised concerns about its resources.",
          "in december 2019, the office of the government introduced a dedicated software tool to increase the effectiveness of corruption risk management.",
          "\"Following the 2017 presidential election, the OSCE reported that the Anti-Corruption Agency (ACA) had decreased the resources dedicated to proactively monitoring campaign funds and did not thoroughly investigate dubious donations.",
          "the fight against corruption has been identified as one of the key priorities in the political programme of the new government, which announced a range of reforms to improve the situation.",
          "prevention of corruption and promotion of integrity measures are in place.",
          "the review group will also look at possible ways to encourage the alternative methods of dispute resolution, which could improve the incentives to use alternative dispute resolution methods for which ireland currently performs very low .",
          "law enforcement authorities enjoy a good level of trust with regard to the fight against corruption.",
          "a comprehensive review of ireland’s anti-corruption framework is currently under way.",
          "the legal framework for fighting corruption is largely in place.",
          "\"Organized crime is still an issue.",
          "authorities involved in the fight against corruption include the anti-corruption agency, high authority for the transparency of public life and the central office for combating corruption and tax offences.",
          null
         ],
         "marker": {
          "opacity": 0.5,
          "size": 5
         },
         "mode": "markers+text",
         "name": "2_anti corruption_against corruption_corruption as",
         "text": [
          "",
          "",
          "",
          "",
          "",
          "",
          "",
          "",
          "",
          "",
          "",
          "",
          "",
          "",
          "",
          "",
          "",
          "",
          "",
          "",
          "",
          "",
          "",
          "",
          "",
          "",
          "",
          "",
          "",
          "",
          "",
          "",
          "",
          "",
          "",
          "",
          "",
          "",
          "",
          "",
          "",
          "",
          "",
          "",
          "2_anti corruption_against corruption_corruption as"
         ],
         "textfont": {
          "size": 12
         },
         "type": "scattergl",
         "x": [
          8.499895095825195,
          8.27096939086914,
          9.149039268493652,
          8.860703468322754,
          8.73129940032959,
          8.59643268585205,
          9.52832317352295,
          8.721494674682617,
          8.36762809753418,
          9.056443214416504,
          8.717729568481445,
          8.88773250579834,
          8.63003921508789,
          8.504759788513184,
          9.067484855651855,
          8.789214134216309,
          8.555895805358887,
          9.005914688110352,
          8.939919471740723,
          9.105122566223145,
          9.17642593383789,
          8.682780265808105,
          8.631038665771484,
          8.884001731872559,
          8.79185676574707,
          9.113788604736328,
          8.78039836883545,
          9.40022087097168,
          9.111504554748535,
          9.194525718688965,
          9.000017166137695,
          8.727928161621094,
          8.516145706176758,
          8.60818862915039,
          8.752917289733887,
          8.26944637298584,
          8.75411319732666,
          8.552833557128906,
          8.95309829711914,
          8.70159912109375,
          8.957232475280762,
          8.74411678314209,
          8.674038887023926,
          8.74829387664795,
          8.811649322509766
         ],
         "y": [
          3.9450297355651855,
          3.725022554397583,
          2.950788736343384,
          3.7393720149993896,
          2.6286442279815674,
          3.8493242263793945,
          3.4641048908233643,
          2.6151444911956787,
          3.2003300189971924,
          3.0336480140686035,
          3.7260897159576416,
          2.6689484119415283,
          2.9347481727600098,
          2.968449354171753,
          3.1280887126922607,
          2.670956611633301,
          3.959777355194092,
          3.4895405769348145,
          3.072382926940918,
          3.708988666534424,
          3.0267186164855957,
          3.7770607471466064,
          2.9393868446350098,
          3.568190336227417,
          2.8096930980682373,
          3.107684373855591,
          3.651297092437744,
          3.9293441772460938,
          3.2529914379119873,
          3.030266761779785,
          3.675971269607544,
          2.7103500366210938,
          3.9857141971588135,
          3.5651803016662598,
          2.6728317737579346,
          3.409247636795044,
          2.712214469909668,
          2.9037389755249023,
          2.2521350383758545,
          2.899106502532959,
          2.3283450603485107,
          3.2800920009613037,
          3.8583197593688965,
          2.835574150085449,
          3.219564199447632
         ]
        },
        {
         "hoverinfo": "text",
         "hovertext": [
          "\"Some former KLA members have been convicted by other courts.",
          "\"In 2019, nearly 1,750 such attacks were reported.",
          "\"Tönnies workers also risked COVID-19 infection; by June 2020, over 1,000 workers at a meat-processing plant in the city of Rheda-Wiedenbrück had tested positive.",
          "the so-called guillotine motions were used on both acts.",
          "\"The threat of terrorism decreased in 2018 with the weakening of the Islamic State (IS) militant group in neighboring Syria and Iraq  no large-scale terrorist attacks were reported during 2019 or 2020.",
          "\"In June, he was convicted of two counts of murder with terrorist intent, and eight counts of attempted murder with terrorist intent, and sentenced to life in prison.",
          "\"Azerbaijanis were affected by armed conflict with Armenia during 2020.",
          "\"Cameraman Aleksandre Lashkarava, who was one of the injured, died later that month.",
          "\"Terrorism by radical Islamist groups remains a threat.",
          "\"Several mass-casualty incidents were reported in 2020.",
          "\"The bill came in response to a 2017 attack in Turku in which an assailant killed two women and injured eight other people in a knife attack considered the country’s first-ever terrorist attack.",
          "\"Agnes Janson, „Postimees otsustas statistika avaldamisest loobuda“ [Postimees decided to stop publishing statistics], Postimees, 3 June 2021,  Ragne Kõuts-Klemm, “Läbipaistvuse küsimus” [A question of transparency], Sirp, 15 October 2021,  Urmo Soonvald, “Delfi sulgeb tänasest kõikide koroonalugude kommentaariumi” [Delfi is turning off commenting on all coronavirus-stories], Eesti Päevaleht, 14 October 2021,  Elvin Heinla, “Teleauditooriumi ülevaade septembris 2021” [Overview of TV auditorium in September 2021], Kantar Emor, 12 October 2021,  ERR, “ERR Russian-language channel often outstripping outside stations”, 19 April 2021,  Objektiiv, “Avasime venekeelse Objektiivi” [We opened a Russian-language Objetiiv], 23 September 2021,  Varro Vooglaid, “Mida järeldada asjaolust",
          "\"There are an estimated 175,000 members of the group in Russia.",
          "\"Despite these efforts, Estonia topped the list of countries with high infection rates, due largely to the slow pace of vaccination.",
          "\"War and insurgencies are not a concern.",
          "\"In August 2017, a group of terrorists carried out two vehicular attacks on crowds in Catalonia, killing 16 people before being arrested or shot dead by police.",
          "\"In July, Azerbaijani and Armenian forces fought along the border, resulting in the deaths of four Azerbaijani soldiers.",
          "\"Piret Reiljan, „Life after COVID-19: Estonia“, in D. Donauskaitė, M. Fridrihsone, M. Krancevičiūtė, A. Krūtaine, A. Lastovska, P. Reiljan, A. Tetarenko (eds) The Media After Covid: Finding strategies to survive and thrive, November 2020.",
          "\"In December, five people in the city of Trier were killed by an individual driving into a pedestrian zone, though no political motive was immediately identified.",
          "\"The two countries engaged in a full-scale conflict over control of Nagorno-Karabakh in late September, with civilian and military casualties reported on both sides.",
          "\"A criminal history of a party], Eesti Ekspress, 14 January 2021,  ERR, “Coalition withdraws marriage referendum bill from Riigikogu vote”, 13 January 2021,  Sten Hankewitz, “Estonia becomes the only country in the world led by women”, Estonian World, 26 January 2021,  Postimees, „JUHTKIRI ⟩ Raha peseb haavad“ [OP-ED: Money heals the wounds], 14 January 2021,  ERR, “Estonia has Europe's highest 14-day coronavirus infection rate”, 17 March 2021,  Latvian Public Broadcasting, “Baltic states are now Europe's Covid-19 hotspot”, 14 October 2021,  BNS, “Auditor general: Covid-19 crisis management structure unclear”, 1 October 2021,  Indrek Kiisler, “Kiik does not support Kallas' tougher coronavirus measures”, ERR, 15 October 2021,  ERR, “Eesti 200 chair: Crisis management being paused for elections is criminal”, 21 October 2021,  ERR, “Kiik: It is more responsible for me to continue in office than to resign”, 8 September 2021,  ERR, “Social ministry secretary general to be removed from office”, 2 August 2021,  ERR, BNS, “Health Board boss resigns”, 6 September 2021,  ERR, “Ratings: Reform Party retains lead over EKRE”, 22 October 2021,  ERR, “Electricity prices to reach record levels again on Tuesday”, 14 September 2021,  Merilin Pärli, “Õigusteadlane kritiseerib riigikogu passiivsust koroonaolukorras” [Legal scholar criticizes Riigikogu’s passiveness in the corona crisis], 28 August 2021,  Kersti Kaljulaid, “Eestile on vaja Riigikogu kui teenäitajat” [Estonia needs Riigikogu to lead the way], 13 September 2021,  ERR, BNS, “Justice chancellor: Riigikogu should debate coronavirus restrictions”, 17 September 2021,",
          "\"The biggest challenge for the Kallas government in 2021 was the COVID-19 crisis.",
          "the bai is comprised of nine members.",
          "\"Areas adjacent to Azerbaijan and Nagorno-Karabakh, an Armenian-majority territory that gained de facto independence from Azerbaijan following the breakup of the Soviet Union, remained tense in 2018, with a lingering risk of shelling and skirmishes across the line of contact.",
          "in 2019, there were two guillotine questions used out of a total of 53 acts/bills enacted that year.",
          "\"In a May report, the OHCHR found that at least 10,090 people, including over 2,700 civilians, had been killed, and nearly 24,000 injured, since the conflict’s outbreak in April 2014.",
          "the mpm 2020 therefore concludes that this represents the highest risk area for the country.",
          "\"In early December, the Azerbaijani government reported 2,783 soldiers died in the fighting, while at least 143 civilians on both sides were killed.",
          "\"The group had publicized its plans to peacefully disrupt Underground service.",
          "\"The ruling marks the first time a crime had legally been categorized as terrorism in Finland.",
          "\"The conflict ended in early November after a Russian-brokered cease-fire was agreed; under its terms, Azerbaijan would retain control of parts of Nagorno-Karabakh gained during the fighting, along with adjacent land held by Armenia.",
          "\"The conflict was marked by reported acts of mistreatment, desecration, and vandalism.",
          "\"Following the August 2017 attack in Turku, a team from the Safety Investigation Authority conducted a report on the attack, and how to prevent similar incidents from occurring.",
          "\"They included physical assaults, though most incidents involved aggressive rhetoric and other forms of pressure or intimidation.",
          "\"Janša demanded that charges be filed for what he characterized as death threats, though the state prosecution found no grounds to do so.",
          "\"Statistikaamet, “Statistika andmebaas” [Statistics database],  Katrin Uba, “Protestid ja «politseiriik» Eestis” [Protests and ‘police state’ in Estonia], Postimees, 19 April 2021,  ERR, BNS, “Civic portal receives record number of petitions in 2021”, 11 August 2021,  Vabariigi Valitsus, “Valitsus kinnitas sidusa Eesti arengukava” [The government approved the Cohesive Estonia Development Plan], 18 November 2021,  ERR, “Gallery: Protesters on Toompea”, 11 April 2021,  ERR, “Gallery: Protesters in Tallinn demonstrate against coronavirus restrictions”, 15 May 2021,  ERR, “Gallery: Protesters rally against coronavirus restrictions in Tallinn”, 23 October 2021,  BNS, ERR, “Emergency care to be prioritized from Monday, planned treatment suspended”, 23 October 2021,  ERR, “City councilor quits EKRE over Saturday's covid restrictions demonstration”, 25 October 2021,  ERR, “Party ratings: Protests likely behind EKRE record support levels”, 16 April 2021,  ERR, “Gallery: Baltic way anniversary marked with human chain, car drive”, 24 August 2021,  Martin Laine, “„U nas jest organizator“ – Eesti „vabaks sõitmist“ aitas importida Kremli-meelne liikumine” [„U nas jest organizator“ – the „free Estonia“ event was imported by a Kremlin-minded movement], Eesti Ekspress, 7 April 2021,  Herman Kelomees, “Koroonaprotestide sõpruskond: kremlimeelsed aktivistid, EKRE saadikud ja uhhuu-ärikad” [Corona protesters: Kremlin-minded activists, EKRE MPs and woo-woo businessmen], Eesti Päevaleht.",
          "\"According to the Workers’ Health and Work Safety Assembly (İSİGM), more than 2,400 workers died in workplace incidents in 2020, including at least 741 who died of COVID-19.",
          "\"In October, the city of Ganga was bombed, with one death reported.",
          "\"There have been no major terrorist attacks in Belgium since 2016, and in January 2018 the government lowered its terrorism threat level from three to two on a four-point scale, except in undisclosed high-risk areas.",
          "\"The National Audit Office, “The five lessons learned from the coronavirus crisis”, 8 November 2021,  file:///C:/Users/Liisa/Downloads/RVKS_Koroonakriisi_viis_%C3%B5ppetundi_08.11.2021_en_EL_F%20(1).pdf Estonian National Electoral Committee, „Election result“, 22 October 2021,  Estonian National Electoral Committee, „Election result, Types of mandates“, 19 October 2021,  ERR, „Survey: Kõlvart most popular candidate for mayor of Tallinn“, 5 October 2021,  Estonian National Electoral Committee, „Local elections 2021“,  “Kohtuotsus” [Court decision], 15 July 2002,  “Kohtuotsus” [Court decision], 19 April 2005,  ERR, „Norstati reitingud: EKRE tõusis kõige populaarsemaks erakonnaks“ [Norstat ratings: EKRE became the most popular party], 29 September 2021,",
          null
         ],
         "marker": {
          "opacity": 0.5,
          "size": 5
         },
         "mode": "markers+text",
         "name": "3_estonia_2021_estonian",
         "text": [
          "",
          "",
          "",
          "",
          "",
          "",
          "",
          "",
          "",
          "",
          "",
          "",
          "",
          "",
          "",
          "",
          "",
          "",
          "",
          "",
          "",
          "",
          "",
          "",
          "",
          "",
          "",
          "",
          "",
          "",
          "",
          "",
          "",
          "",
          "",
          "",
          "",
          "",
          "",
          "",
          "3_estonia_2021_estonian"
         ],
         "textfont": {
          "size": 12
         },
         "type": "scattergl",
         "x": [
          6.383023262023926,
          5.251762390136719,
          5.4483323097229,
          5.560608863830566,
          5.095208644866943,
          5.84272575378418,
          4.9399542808532715,
          6.696504592895508,
          5.132381439208984,
          5.408796787261963,
          5.287975311279297,
          5.565218925476074,
          4.8186235427856445,
          5.551449298858643,
          5.113651275634766,
          5.236172676086426,
          4.930717945098877,
          5.547678470611572,
          5.278765678405762,
          4.951280117034912,
          5.564469337463379,
          5.707754135131836,
          4.669961929321289,
          4.921441078186035,
          5.510809898376465,
          5.2297210693359375,
          5.466989517211914,
          4.910640239715576,
          5.204095840454102,
          5.407167911529541,
          4.875402927398682,
          5.603755950927734,
          5.230036735534668,
          5.647354602813721,
          6.067831516265869,
          5.55980920791626,
          5.2729926109313965,
          5.255279064178467,
          5.118480682373047,
          5.5964765548706055,
          5.371532440185547
         ],
         "y": [
          5.119161128997803,
          4.798397064208984,
          5.590642929077148,
          4.701686382293701,
          4.683485984802246,
          4.875566005706787,
          5.395689964294434,
          5.962178707122803,
          4.64961576461792,
          5.203516006469727,
          4.795549392700195,
          5.840602874755859,
          5.1493754386901855,
          5.840897083282471,
          4.610440254211426,
          4.8946332931518555,
          5.364997386932373,
          5.8378753662109375,
          4.9287190437316895,
          5.358508110046387,
          5.84904146194458,
          5.916459083557129,
          5.106645107269287,
          5.385721683502197,
          4.803201198577881,
          5.282533168792725,
          5.280649185180664,
          5.3554487228393555,
          4.708932876586914,
          4.62401819229126,
          5.438152313232422,
          4.633257865905762,
          4.846399784088135,
          4.6405029296875,
          4.860123157501221,
          5.848042964935303,
          5.3403706550598145,
          4.945265769958496,
          4.680856227874756,
          5.892134666442871,
          5.175982475280762
         ]
        },
        {
         "hoverinfo": "text",
         "hovertext": [
          "european commission (2020), the eu justice scoreboard.",
          "european court of human rights, judgment of 15 june 2017, independent newspapers (ireland) limited v. ireland, application no.",
          "european court of human rights, judgment of 9 april 2015, tchokontio happi v. france, application no.",
          "\"In February, the European Commission (EC) launched infringement proceedings against Estonia, Finland, and Poland for “failing to fully transpose the EU rules on strengthening the presumption of innocence and the right to be present at the trial in criminal proceedings.”  The EC found that these countries have only partially transposed the directive,  which is an important element of EU standards for fair trial.",
          "european commission (2013, 2014, 2015, 2016, 2017, 2018, 2019, 2020), the eu justice scoreboard.",
          "european commission (2020), a comparative analysis of non-discrimination law in europe 2019.",
          "european court of human rights, judgment of 10 september 2010, mcfarlane v ireland, application no.",
          "court of justice of the european union, pending case c-510/19, openbaar ministerie (faux en écritures).",
          "court of justice of the european union, judgement of 19 november 2019, ak, joined cases c‑585/18, c‑624/18 and c‑625/18.",
          "court of justice of the european union, c-619/18, commission v poland (indépendance de la cour suprême).",
          "european court of human rights, judgment of 6 november 2018, ramos nunes de carvalho e sá v. portugal, application no.",
          "european court of human rights, judgment of 22 december 2009, parlov-tkalčić v croatia, application no.",
          "court of justice of the european union, c-282/12, commission v hungary.",
          "\"The bill came up after the European Court of Justice (ECJ) ruled in a theft case where the investigating authority had access to case data, which the ECJ found incompatible with EU law.",
          "court of justice of the european union, c-192/18, commission v poland (indépendance des juridictions de droit commun).",
          "european commission (2020), eu justice scoreboard.",
          "council of the european union (2002), council framework decision of 13 june 2002 on the european arrest warrant and the surrender procedures between member states.",
          "\"The abolition of the death penalty is a prerequisite for EU membership.",
          "court of justice of the european union, judgement of 18 june 2020, european commission v hungary, c-78/18.",
          "court of justice of the european union, judgment of 19 november 2019, c‑585/18, c‑624/18 and c‑625/18.",
          "paris court of appeals (2020), judicial public interest agreement (cjip) concluded between the national financial prosecutor and the company airbus se.",
          "court of justice of the european union, judgement of 25 july 2018, lm, c‑216/18 ppu.",
          "high court, judgment of 13 may 2020, o’doherty & waters v. minister for health & attorney general.",
          "supreme court of the netherlands, judgment of 13 september 2019, urgenda, ecli:nl:hr:2019:2007.",
          "european commission (2013, 2014, 2015, 2016, 2017, 2018, 2019, 2020), the eu justice scoreboard.",
          "the moriarty tribunal into payments to politicians and the mahon tribunal into planning matters, ran for fourteen and sixteen years, respectively.",
          "\"According to the US State Department’s 2020 Trafficking in Persons Report, migrants from Eastern Europe, Africa, and Asia are targeted for sex trafficking and forced labor.",
          "\"A Warsaw court ordered him to pay a fine, but he contested the judgment, and the case was dismissed in September.",
          "court of justice of the european union, judgment of 9 july 2020, land hessen, c-272/19.",
          "court of cassation, judgment of 26 may 2020, no.",
          "tax justice network (2020), 2020 financial secrecy index.",
          "european commission (2018), equality bodies making a difference.",
          "european court of human rights, judgment of 5 may 2020, kövesi v. romania, application no.",
          "court of justice of the european union, judgment of 27 may 2019 in joined cases og, c-508/18 and pi, c-82/19 ppu.",
          null
         ],
         "marker": {
          "opacity": 0.5,
          "size": 5
         },
         "mode": "markers+text",
         "name": "4_european court_eu justice_tribunal",
         "text": [
          "",
          "",
          "",
          "",
          "",
          "",
          "",
          "",
          "",
          "",
          "",
          "",
          "",
          "",
          "",
          "",
          "",
          "",
          "",
          "",
          "",
          "",
          "",
          "",
          "",
          "",
          "",
          "",
          "",
          "",
          "",
          "",
          "",
          "",
          "4_european court_eu justice_tribunal"
         ],
         "textfont": {
          "size": 12
         },
         "type": "scattergl",
         "x": [
          4.810378551483154,
          4.655182361602783,
          4.68567419052124,
          4.428964614868164,
          4.7594895362854,
          5.327153205871582,
          4.660746097564697,
          3.9925076961517334,
          4.007927417755127,
          4.021173477172852,
          4.696843147277832,
          4.639100074768066,
          4.122477054595947,
          6.277183532714844,
          4.13761568069458,
          4.775602340698242,
          4.598655700683594,
          4.666542053222656,
          4.108046531677246,
          4.025269031524658,
          3.9561970233917236,
          4.035019397735596,
          4.183806896209717,
          3.9884302616119385,
          4.772208213806152,
          4.779450416564941,
          5.340383529663086,
          4.055484294891357,
          3.940795421600342,
          3.943269729614258,
          4.844952583312988,
          5.370680332183838,
          4.68292236328125,
          3.9945435523986816,
          4.508373260498047
         ],
         "y": [
          0.39213135838508606,
          -0.554681658744812,
          -0.5432204604148865,
          0.0003675214829854667,
          0.33812618255615234,
          0.2315673530101776,
          -0.5405197739601135,
          -0.45801812410354614,
          -0.4296479821205139,
          -0.33597832918167114,
          -0.5683978796005249,
          -0.5864060521125793,
          -0.25909826159477234,
          2.6225101947784424,
          -0.24901805818080902,
          0.3391532003879547,
          1.58256995677948,
          0.2636922299861908,
          -0.3040665090084076,
          -0.41584450006484985,
          -0.5005074143409729,
          -0.3931935131549835,
          -0.5274287462234497,
          -0.49429309368133545,
          0.3023524582386017,
          0.258561909198761,
          0.2723432779312134,
          -0.2745620608329773,
          -0.49789726734161377,
          -0.5175994634628296,
          0.39755067229270935,
          0.2699628174304962,
          -0.5219885110855103,
          -0.4592117965221405,
          -0.0635497123003006
         ]
        },
        {
         "hoverinfo": "text",
         "hovertext": [
          "virtual country visit to the netherlands in the context of the 2020 rule of law report.",
          "oecd (2019), indicators of regulatory policy and governance europe 2019: france.",
          "european commission (2020), country report ireland, (swd(2020) 506 final).",
          "annex ii: country visit to ireland",
          "european commission (2019), country report ireland, (swd(2019) 1006 final).",
          "world economic forum (2013-2015), the global competitiveness report.",
          "world economic forum (2013-2020), the global competitiveness report.",
          "oecd (2015), the netherlands: follow-up to the phase 3 report & recommendations.",
          "european commission (2019), country report slovakia, swd(2019) 1024 final.",
          "council of the european union (2017), council recommendation of 11 july 2017 on the 2017 national reform programme of slovakia and delivering a council opinion on the 2017 stability programme of slovakia, oj c 261.",
          "slovak government, (2020) programové vyhlásenie vlády slovenskej republiky na obdobie rokov 2020 – 2024.",
          "irish human rights and equality commission (2019), policy statement on the electoral acts and civil society space in ireland, january 2019.",
          "annex ii: country visit to the netherlands",
          "this issue has been addressed by a country-specific recommendation in the context of the 2019 european semester .",
          "annex ii: country visit to slovakia",
          "council of the european union (2016), council recommendation of 12 july 2016 on the 2016 national reform programme of slovakia and delivering a council opinion on the 2016 stability programme of slovakia, oj c 299.",
          "president of the republic (2020) report on the state of the republic.",
          "france has the institutional and legislative framework broadly in place.",
          "european commission (2018), country report ireland, (swd(2018) 206 final).",
          "supreme audit office of the slovak republic (2019), report audit activities, results in 2019.",
          "slovak government (2020), input from slovakia for the 2020 rule of law report.",
          "osce-odihr (2020), slovak republic – parliamentary elections, odihr election assessment mission final report.",
          "oecd (2012) slovakia: phase 3 report on implementing the oecd anti-bribery convention in the slovak republic.",
          "irish government (2020), input from ireland for the 2020 rule of law report.",
          "council of the european union (2019), council recommendation of 9 july 2019 on the 2019 national reform programme of slovakia and delivering a council opinion on the 2019 stability programme of slovakia, oj c 301.",
          "annex ii: country visit to france",
          "european commission (2015), country report slovakia, swd(2015) 44/2 final.",
          "virtual country visit to ireland in the context of the 2020 rule of law report.",
          "french government (2020), input from france for the 2020 rule of law report.",
          "virtual country visit to slovakia in the context of the 2020 rule of law report.",
          "council of the european union (2014), council recommendation of 8 july 2014 on slovakia’s 2014 national reform programme and delivering a council opinion on the stability programme of slovakia, 2014, oj c 247.",
          "european commission (2020), country report slovakia, swd(2020) 524 final.",
          "virtual country visit to france in the context of the 2020 rule of law report.",
          "dutch government (2020), input from the netherlands to the 2020 rule of law report.",
          null
         ],
         "marker": {
          "opacity": 0.5,
          "size": 5
         },
         "mode": "markers+text",
         "name": "5_virtual country_country visit_to slovakia",
         "text": [
          "",
          "",
          "",
          "",
          "",
          "",
          "",
          "",
          "",
          "",
          "",
          "",
          "",
          "",
          "",
          "",
          "",
          "",
          "",
          "",
          "",
          "",
          "",
          "",
          "",
          "",
          "",
          "",
          "",
          "",
          "",
          "",
          "",
          "",
          "5_virtual country_country visit_to slovakia"
         ],
         "textfont": {
          "size": 12
         },
         "type": "scattergl",
         "x": [
          6.928194999694824,
          6.836452960968018,
          6.48102331161499,
          6.895686149597168,
          6.551074981689453,
          7.158358097076416,
          7.159189224243164,
          7.138374328613281,
          6.850829124450684,
          7.137617111206055,
          7.005490303039551,
          5.957292556762695,
          6.908252239227295,
          7.405044078826904,
          6.94762659072876,
          7.163965225219727,
          6.773557186126709,
          6.911844253540039,
          6.498605251312256,
          6.966894626617432,
          6.935051918029785,
          6.837300777435303,
          7.361480712890625,
          6.5046539306640625,
          7.11419153213501,
          6.939643383026123,
          6.866665840148926,
          6.882039546966553,
          6.779821872711182,
          6.9407501220703125,
          7.178918838500977,
          6.863044738769531,
          6.9205403327941895,
          6.895946025848389,
          6.902806758880615
         ],
         "y": [
          -0.17045912146568298,
          0.5819485783576965,
          0.15444613993167877,
          -0.3994821310043335,
          0.1632625311613083,
          0.5653477907180786,
          0.5638586282730103,
          0.8658851385116577,
          0.19111798703670502,
          0.2095649391412735,
          0.1895998865365982,
          0.24400067329406738,
          -0.4043597877025604,
          0.7647083401679993,
          -0.41044068336486816,
          0.24067051708698273,
          0.5172021985054016,
          0.5914239883422852,
          0.15571942925453186,
          0.17313744127750397,
          0.19385312497615814,
          0.22818610072135925,
          0.37990936636924744,
          0.20919932425022125,
          0.23961268365383148,
          -0.45536789298057556,
          0.22054935991764069,
          -0.2299892157316208,
          0.46031394600868225,
          -0.21793636679649353,
          0.20037463307380676,
          0.22540515661239624,
          -0.1756637692451477,
          0.8348029255867004,
          0.20295298099517822
         ]
        },
        {
         "hoverinfo": "text",
         "hovertext": [
          "\"The federal authorities did not take significant action in response to the allegations.",
          "so far, this did not yield the expected results as impact assessments only apply to legislative measures initiated by the government .",
          "\"The new law will enter into force in January 2018, together with a law renouncing banking secrecy, which was passed in December 2016.",
          "the government has drafted a concept proposal for a revision of the constitution to implement this recommendation.",
          "\"The resolution, however, does not apply retroactively and includes major exemptions.",
          "\"This was particularly noticeable in the infrastructure sector, with the long-neglected Corridor 5C showing not a single meter of road built during the year.",
          "\"No further information was reported by the end of 2020.",
          "\"According to Network 23, only 7 out of 43 measures were fully implemented as of 2019, with work on 10 not even initiated by the end of the year.",
          "improvements have been announced as regards the process for preparing and enacting laws.",
          "\"Kjurchievska, Liljana, “Lawmakers adopt draft law on amnesty over 27 April 2017 incidents in Parliament”, MIA, 18 December 2018, .",
          "policy briefings of the research service of the parliament include an appraisal of the ex-ante impact assessment prepared by the government.",
          "the new governement’s programme envisages to enact the bill.",
          "a new political parties act is being drafted in that regard.",
          "\"Due to both state-level and FBiH governments operating in so-called technical mandates, no major government investments were made in any sector in 2019.",
          "\"The bill was rejected by the Senate in September, but passed again by the Sejm in December, before being vetoed by Duda later that month.",
          "in addition, the government has indicated its intention to focus on strengthening compliance with existing legislation and to strengthen the analytical units .",
          "compliance with the act is generally good.",
          "\"The draft remained pending at the end of 2019.",
          "\"The implementation of these policies thus far has been slow.",
          "\"The EC Progress Report from 2019 demanded further efforts to prevent the politicization of the public service.",
          "before a bill is finalised, a general scheme of the bill may be published.",
          "in 2017, the government submitted to parliament a draft law on this matter, which lapsed with the end of the previous parliamentary term.",
          "\"Despite delays in late 2020, the ruling went into effect in January 2021.",
          "\"The government previously attempted to stop the work of the KSC through efforts to repeal or renegotiate the 2015 law establishing its existence.",
          "the law is expected to enter into force in autumn 2020.",
          "\"The amendments replaced a 1989 measure that many saw as an outdated regulation.",
          "\"Although the international community insists that this problem of exclusion must be resolved,  no progress was made in 2019.",
          "this would complement the on-going efforts to upgrade the available it tools and analytical capacity .",
          "\"The establishment of the community remained at an impasse at the end of 2020.",
          "an explanatory note attached to legislative proposals discusses constitutionality, and manuals exist for civil servants in this regard.",
          "discussions on this reform have been ongoing for a number of years.",
          null
         ],
         "marker": {
          "opacity": 0.5,
          "size": 5
         },
         "mode": "markers+text",
         "name": "6_legislative_to legislative_draft law",
         "text": [
          "",
          "",
          "",
          "",
          "",
          "",
          "",
          "",
          "",
          "",
          "",
          "",
          "",
          "",
          "",
          "",
          "",
          "",
          "",
          "",
          "",
          "",
          "",
          "",
          "",
          "",
          "",
          "",
          "",
          "",
          "",
          "6_legislative_to legislative_draft law"
         ],
         "textfont": {
          "size": 12
         },
         "type": "scattergl",
         "x": [
          6.5738139152526855,
          6.425045490264893,
          6.850612640380859,
          6.757554054260254,
          6.382750988006592,
          6.260891437530518,
          6.246860504150391,
          6.204593658447266,
          7.400501728057861,
          6.748081684112549,
          7.336365222930908,
          6.928415298461914,
          6.763323783874512,
          6.588722229003906,
          6.3659443855285645,
          7.448427200317383,
          7.651641368865967,
          6.188809871673584,
          6.640480995178223,
          6.615004062652588,
          6.750309467315674,
          6.717370986938477,
          6.285995960235596,
          6.526543140411377,
          6.80454683303833,
          6.587985515594482,
          6.2920684814453125,
          7.340485572814941,
          6.137369632720947,
          6.694759368896484,
          6.599538326263428,
          6.681122779846191
         ],
         "y": [
          3.3827383518218994,
          3.2520592212677,
          2.132021188735962,
          1.7687925100326538,
          3.053399085998535,
          3.2790756225585938,
          3.0730648040771484,
          3.2432892322540283,
          1.8406373262405396,
          1.896399974822998,
          2.272595167160034,
          2.0719757080078125,
          2.0091793537139893,
          3.1620032787323,
          2.673689603805542,
          2.331268548965454,
          2.454951286315918,
          2.905566692352295,
          2.3892626762390137,
          2.636348247528076,
          1.9123822450637817,
          1.9588696956634521,
          2.926396369934082,
          2.4663822650909424,
          2.0141751766204834,
          2.359724521636963,
          2.9709105491638184,
          1.907652735710144,
          2.870321750640869,
          1.701324701309204,
          2.349485397338867,
          2.4924497604370117
         ]
        },
        {
         "hoverinfo": "text",
         "hovertext": [
          "european audiovisual observatory (2019), the independence of media regulatory authorities in europe.",
          "professor tarlach mcgonagle (2018), agreement of the steering group on aggression and violence against journalists.",
          "freedom house (2020), freedom in the world 2020.",
          "centre for media pluralism and media freedom (2020), 2020 media pluralism monitor.",
          "reporters without borders, country profile: france.",
          "centre for media pluralism and media freedom (2020), 2020 media pluralism monitor.",
          "centre for media pluralism and media freedom (2020), 2020 media pluralism monitor.",
          "dutch government, safeguarding press freedom.",
          "reporters without borders, ireland.",
          "dutch government, funds for the media.",
          "press freedom associations (2019), dutch senate: make a clear exemption for journalists.",
          "csa, information on publishers.",
          "european parliament resolution of 19 april 2018 on protection of investigative journalists in europe: the case of slovak journalist ján kuciak and martina kušnírová",
          "dutch media authority, media monitor: media concentration.",
          "european centre for press & media freedom (2020), mapping media freedom.",
          "council of europe: committee of ministers (2016), recommendation cm/rec(2016)4 of the committee of ministers to member states on the protection of journalism and safety of journalists and other media actors.",
          "council of europe: committee of ministers (2018), recommendation cm/rec(2018)1 of the committee of ministers to member states on media pluralism and transparency of media ownership.",
          "committee to protect journalist’s analysis (2019), mission journal: one year on, ján kuciak murder seen as turning point by slovak press.",
          "reporters without borders, slovakia.",
          "european centre for press & media freedom, mapping media freedom: the netherlands.",
          "council of europe (2020), platform to promote the protection of journalism and safety of journalists.",
          "council of europe: committee of ministers (2016), recommendation cm/rec(2016)4 of the committee of ministers to member states on the protection of journalism and safety of journalists and other media actors.",
          "european audiovisual observatory (2019), iris special 2019-1: the independence of media regulatory authorities in europe.",
          "council of europe, council of europe, platform to promote the protection of journalism and safety of journalists – slovakia.",
          "council of europe, platform to promote the protection of journalism and safety of journalists: france.",
          "council of europe, platform to promote the protection of journalism and safety of journalists – the netherlands.",
          "council of europe: committee of ministers (2016), recommendation cm/rec(2016)4 of the committee of ministers to member states on the protection of journalism and safety of journalists and other media actors.",
          "european parliament (2016), a comparative analysis of media freedom and pluralism in the eu member states.",
          null
         ],
         "marker": {
          "opacity": 0.5,
          "size": 5
         },
         "mode": "markers+text",
         "name": "7_europe committee_of journalists_journalists",
         "text": [
          "",
          "",
          "",
          "",
          "",
          "",
          "",
          "",
          "",
          "",
          "",
          "",
          "",
          "",
          "",
          "",
          "",
          "",
          "",
          "",
          "",
          "",
          "",
          "",
          "",
          "",
          "",
          "",
          "7_europe committee_of journalists_journalists"
         ],
         "textfont": {
          "size": 12
         },
         "type": "scattergl",
         "x": [
          2.3964223861694336,
          2.297830581665039,
          2.0552430152893066,
          2.0613455772399902,
          2.5204718112945557,
          2.0743587017059326,
          2.0626132488250732,
          2.743934392929077,
          2.5253143310546875,
          2.7883708477020264,
          2.6973371505737305,
          2.629434585571289,
          2.411367177963257,
          2.649979829788208,
          2.158719062805176,
          2.303868532180786,
          2.3059237003326416,
          2.25911545753479,
          2.5189297199249268,
          2.5688040256500244,
          2.4302732944488525,
          2.308274507522583,
          2.383808135986328,
          2.390679359436035,
          2.4152653217315674,
          2.3992135524749756,
          2.3181803226470947,
          2.225067377090454,
          2.3892910480499268
         ],
         "y": [
          2.5606467723846436,
          2.3069465160369873,
          3.1151630878448486,
          3.10634708404541,
          2.021329402923584,
          3.0903279781341553,
          3.1026275157928467,
          2.449371814727783,
          1.9962034225463867,
          2.467764377593994,
          2.4613401889801025,
          2.4331703186035156,
          2.2303550243377686,
          2.494605302810669,
          3.003237247467041,
          2.3537471294403076,
          2.385221242904663,
          2.2693583965301514,
          2.005066156387329,
          2.5987367630004883,
          2.442176103591919,
          2.352637767791748,
          2.5433661937713623,
          2.36130428314209,
          2.384509801864624,
          2.372143268585205,
          2.3632595539093018,
          2.9272422790527344,
          2.5070788860321045
         ]
        },
        {
         "hoverinfo": "text",
         "hovertext": [
          "as regards businesses, 33% of companies consider corruption to be widespread (eu average: 63%).",
          "as regards businesses, 55% of companies consider corruption to be widespread (eu average 63%), and 51% of companies consider that corruption is a problem when doing business (eu average 37%).",
          "according to the surveys, 88% of companies consider corruption to be widespread (eu average 63%) and 53% of companies consider that corruption is a problem when doing business (eu average 37%).",
          "\"The gray economy of undeclared business activity has been estimated at over 20 percent of the country’s economy.",
          "furthermore, 53% of people find that there are enough successful prosecutions to deter people from corrupt practices (eu average 36%) while 38% of companies consider that people and businesses caught for bribing a senior official are appropriately punished (eu average 31%).",
          "similarly, only 12% of businesses consider corruption to be a problem when doing business in the netherlands (eu average 37%).",
          "26% of respondents find that there are enough successful prosecutions to deter people from corrupt practices (eu average of 36%) while 43% of companies consider that people and businesses caught for bribing a senior official are appropriately punished (eu average 31%).",
          "60% of the eurobarometer respondents have most trust in the police to deal with a corruption case.",
          "amongst french respondents, 70% perceive corruption widespread in their country (eu average 71%), while 10% of people feel personally affected by corruption in their daily lives.",
          "57% of dutch respondents to the eurobarometer survey indicate that they would not know where to report a case of corruption should they experience or witness it and 49% highlighted that they may decide not to report a case of corruption due to lack of adequate protection.",
          "35% of people find that there are enough successful prosecutions to deter people from corrupt practices (eu average: 36%) while 26% of companies believe that people and businesses caught for bribing a senior official are appropriately punished (eu average: 31%) .",
          "68% of irish respondents to the most recent eurobarometer survey think that corruption is widespread in their country (eu average: 71%), and 25% of people feel personally affected by corruption in their daily lives (eu average: 28%).",
          "while 47% of dutch respondents to the eurobarometer survey think that corruption is widespread in their country (eu average 71%), merely 4% of dutch respondents are of the view that corruption affects their daily lives (eu average 26%).",
          "results from a eurobarometer survey show that 32% respondents think that there is no protection for those who report corruption .",
          "\"According to an IDSCS survey in May, a large majority of respondents believe that MPs always defend their own personal interests (78 percent) or their party’s interests (72 percent).",
          "then, 37% of people find that there are enough successful prosecutions to deter people from corrupt practices (eu average 36%), while 13% of companies believe that people and businesses caught for bribing a senior official are appropriately punished (eu average 31%) .",
          "nevertheless, 50% of respondents to the eurobarometer are of the opinion that bribery and the abuse of power for personal gain are widespread among officials awarding public tenders and 55% are of the opinion that this is the case for officials issuing building permits, respectively.",
          "87% of respondents consider corruption widespread (eu average 71%) and 41% of people feel personally affected by corruption in their daily life (eu average 26%) .",
          "\"Companies perceive corruption risks and favoritism within public procurement as low, however “old boys’ networks,” notably at the local level, are still believed to hold influence over procurement decisions.",
          "while the overall level of perceived corruption is low, the financial sector is considered to be a high-risk sector.",
          "according to surveys, the netherlands is perceived as one of the least corrupt countries in the eu and the world.",
          "however, 34% of respondents think that bribery and abuse of power for personal gain are widespread among police and customs authorities.",
          "11% of companies consider that corruption is a problem when doing business (eu average: 37%).",
          null
         ],
         "marker": {
          "opacity": 0.5,
          "size": 5
         },
         "mode": "markers+text",
         "name": "8_corrupt practices_consider corruption_corruption is",
         "text": [
          "",
          "",
          "",
          "",
          "",
          "",
          "",
          "",
          "",
          "",
          "",
          "",
          "",
          "",
          "",
          "",
          "",
          "",
          "",
          "",
          "",
          "",
          "",
          "8_corrupt practices_consider corruption_corruption is"
         ],
         "textfont": {
          "size": 12
         },
         "type": "scattergl",
         "x": [
          10.45226764678955,
          10.422863006591797,
          10.39028263092041,
          10.322890281677246,
          9.91249942779541,
          10.463772773742676,
          9.93995189666748,
          10.176156997680664,
          10.357319831848145,
          10.323080062866211,
          9.893720626831055,
          10.32482624053955,
          10.36970043182373,
          10.18976879119873,
          10.032285690307617,
          9.857280731201172,
          10.09843921661377,
          10.362202644348145,
          10.106158256530762,
          10.44301700592041,
          10.40472412109375,
          10.061525344848633,
          10.432578086853027,
          10.232056617736816
         ],
         "y": [
          3.95023250579834,
          3.9589991569519043,
          4.013982772827148,
          3.7860755920410156,
          4.1595258712768555,
          3.9310545921325684,
          4.190108776092529,
          4.219152450561523,
          4.046985626220703,
          4.102130889892578,
          4.1834306716918945,
          4.063059329986572,
          4.021076679229736,
          4.221035957336426,
          4.345408916473389,
          4.106010437011719,
          4.289364337921143,
          4.063387870788574,
          4.353696346282959,
          3.926642894744873,
          3.986687183380127,
          4.333256721496582,
          3.9402236938476562,
          4.0952839851379395
         ]
        },
        {
         "hoverinfo": "text",
         "hovertext": [
          "greco (2018), fourth evaluation round – second compliance report on france on corruption prevention in respect of members of parliament, judges and prosecutors.",
          "greco (2010), third evaluation round – compliance report on the netherlands: incriminations (ets 173 and 191, gpc 2), transparency of party funding.",
          "greco (2012), fourth evaluation round – evaluation report on the netherlands on corruption prevention in respect of members of parliament, judges and prosecutors.",
          "the whistleblowers’ act is currently undergoing evaluation, which may result in a revision of the whistleblowers’ authority’s mandate.",
          "greco (2008), third evaluation round – evaluation report on the netherlands on transparency of party funding.",
          "greco (2018), fifth evaluation round – evaluation report on the netherlands on preventing corruption and promoting integrity in central governments (top executive functions) and law enforcement agencies.",
          "greco (2008), third evaluation round – evaluation report on the netherlands on incriminations (ets 173 and 191, gpc 2).",
          "greco (2017), fourth evaluation round – second compliance report on the slovak republic on corruption prevention in respect of members of parliament, judges and prosecutors.",
          "in june 2019, the garda inspectorate began a review into how the gardaí tackle corruption within their own ranks.",
          "greco (2014), fourth evaluation round – evaluation report on ireland on corruption prevention in respect of members of parliament, judges and prosecutors.",
          "greco (2012), third evaluation round – second compliance report on the netherlands transparency of party funding.",
          "greco (2018), fifth evaluation round – evaluation report on france on preventing corruption and promoting integrity in central governments (top executive functions) and law enforcement agencies.",
          "greco recommended for example that the vetting and screening of law enforcement staff take place at regular intervals during the entire service and that the control measures in respect of access to and use of confidential information be enhanced in order to prevent the unauthorised access to and leaking of information.",
          "greco (2015), fourth evaluation round – compliance report on the netherlands on corruption prevention in respect of members of parliament, judges and prosecutors.",
          "as a result of the third evaluation round of implementation of the oecd anti-bribery convention , national provisions on foreign bribery offences have been amended.",
          "in 2018, greco recommended ensuring that this procedure does not hamper the criminal justice process as regards corruption-related offences.",
          "greco (2018), fourth evaluation round – interim compliance report on ireland on on corruption prevention in respect of members of parliament, judges and prosecutors.",
          null
         ],
         "marker": {
          "opacity": 0.5,
          "size": 5
         },
         "mode": "markers+text",
         "name": "9_corruption prevention_on corruption_preventing corruption",
         "text": [
          "",
          "",
          "",
          "",
          "",
          "",
          "",
          "",
          "",
          "",
          "",
          "",
          "",
          "",
          "",
          "",
          "",
          "9_corruption prevention_on corruption_preventing corruption"
         ],
         "textfont": {
          "size": 12
         },
         "type": "scattergl",
         "x": [
          8.395917892456055,
          7.950868606567383,
          8.460015296936035,
          8.5813570022583,
          7.934493541717529,
          8.442092895507812,
          8.246752738952637,
          8.429481506347656,
          8.720978736877441,
          8.587708473205566,
          7.943770885467529,
          8.487513542175293,
          8.375628471374512,
          8.431436538696289,
          8.63772201538086,
          8.376116752624512,
          8.514636039733887,
          8.383323669433594
         ],
         "y": [
          1.597396969795227,
          1.8024760484695435,
          1.6595501899719238,
          1.7750048637390137,
          1.80759859085083,
          1.6477560997009277,
          1.6063083410263062,
          1.5933151245117188,
          1.7366784811019897,
          1.6852636337280273,
          1.8044184446334839,
          1.6639171838760376,
          2.1590311527252197,
          1.6500762701034546,
          1.8277649879455566,
          1.612952470779419,
          1.6697450876235962,
          1.7234854698181152
         ]
        },
        {
         "hoverinfo": "text",
         "hovertext": [
          "\"Cronyism, a problem under all previous Polish governments, is widespread under PiS, as it has altered, lowered, or removed many criteria for staffing of public institutions, allowing for appointments based on party loyalty and personal connections.",
          "\"In 2017, a network of international media outlets exposed a $2.9 billion slush fund that was held within United Kingdom-registered shell companies and linked to the Azerbaijani ruling elite, including the Aliyev family.",
          "\"The parliament in power through 2018 included some of the country’s wealthiest business leaders, who continued their private entrepreneurial activities despite conflicts of interest.",
          "\"In September 2020, the Times of Israel reported that a publicly owned Israeli aerospace firm transferred at least $155 million to that slush fund, though the firm’s specific purpose was unclear.",
          "\"Investigative reports published by foreign media in recent years have revealed evidence that Aliyev family used their positions to amass large private fortunes.",
          "\"A report by the NIK found that in many, especially rural, parts of Poland, gynecologists are rare.",
          "\"Relationships between politicians and other oligarchs have also historically influenced policy and contributed to selective application of the law.",
          "\"Influential business figures who fall out of favor with the government, such as Lajos Simicska, who once served as Fidesz party treasurer, have experienced financial and legal pressure.",
          "\"The regime relies on abuse of state resources, corrupt patronage networks, and control over the security forces and criminal justice system to maintain its political dominance.",
          "\"The federal authorities have limited ability to impose policy decisions in Chechnya, where Chechen president Ramzan Kadyrov has gained unchecked power in exchange for keeping Chechnya within the Russian Federation.",
          "\"Critics have credibly accused President Vučić and the SNS government of having ties to organized crime, and cronyism—in the form of jobs provided to allies of the president and the ruling party—is reportedly common.",
          "\"Fisheries minister Kristján Þór Júlíusson is closely affiliated with Samherji, an Icelandic fishing company that was implicated in a scheme to bribe Namibian officials in November 2019.",
          "\"In November, Icelandic fishing firm Samherji was implicated in bribery after the release of the so-called “Fishrot Files;” they revealed that Samherji bribed Namibian government officials to secure fishing rights as far back as 2012.",
          "\"Samherji CEO Þorsteinn Már Baldvinsson resigned later that month after the files were released by WikiLeaks, but fisheries minister Júlíusson resisted calls to step down after admitting that he spoke to Baldvinsson over the allegations.",
          "\"However, since the PiS-appointed chair of NIK took office in 2019, he has been investigated for possible irregularities in his property declarations and links to a criminal group.",
          null
         ],
         "marker": {
          "opacity": 0.5,
          "size": 5
         },
         "mode": "markers+text",
         "name": "10_fisheries minister_was implicated_samherji",
         "text": [
          "",
          "",
          "",
          "",
          "",
          "",
          "",
          "",
          "",
          "",
          "",
          "",
          "",
          "",
          "",
          "10_fisheries minister_was implicated_samherji"
         ],
         "textfont": {
          "size": 12
         },
         "type": "scattergl",
         "x": [
          7.705008029937744,
          7.279972076416016,
          7.4061079025268555,
          7.234997749328613,
          7.3329362869262695,
          7.695211410522461,
          7.55721378326416,
          7.441831588745117,
          7.567061901092529,
          7.510692596435547,
          7.708963394165039,
          7.398609638214111,
          7.397497177124023,
          7.251797676086426,
          7.668025493621826,
          7.477061748504639
         ],
         "y": [
          4.335633277893066,
          5.0193257331848145,
          4.893815040588379,
          5.0451741218566895,
          4.998516082763672,
          4.393245220184326,
          4.019481182098389,
          4.871806621551514,
          4.029488563537598,
          4.008495807647705,
          4.240095138549805,
          4.581020355224609,
          4.603440761566162,
          4.585429668426514,
          4.431241035461426,
          4.537080764770508
         ]
        },
        {
         "hoverinfo": "text",
         "hovertext": [
          "\"The opinions expressed in this report are those of the author(s).",
          "\"The Democracy Score is an average of ratings for the categories tracked in a given year.",
          "\"Her areas of research include electoral studies, voting behavior, and public opinion.",
          "\"The opinions expressed in this report are those of the author(s).",
          "\"NOTE: The ratings reflect the consensus of Freedom House, its academic advisers, and the author(s) of this report.",
          "\"Note The ratings reflect the consensus of Freedom House, its academic advisers, and the author(s) of this report.",
          "\"The ratings are based on a scale of 1 to 7, with 7 representing the highest level of democratic progress and 1 the lowest.",
          "\"The ratings are based on a scale of 1 to 7, with 7 representing the highest level of democratic progress and 1 the lowest.",
          "\"The Democracy Score is an average of ratings for the categories tracked in a given year.",
          "\"Score Change: The score improved from 3 to 4 because the threat of imminent terrorist violence apparently receded.",
          "\"The Democracy Percentage, introduced in 2020, is a translation of the Democracy Score to the 0–100 scale, where 0 equals least democratic and 100 equals most democratic.",
          "\"Public dissatisfaction with the government’s performance led to a steady decline in Reform Party ratings.",
          null
         ],
         "marker": {
          "opacity": 0.5,
          "size": 5
         },
         "mode": "markers+text",
         "name": "11_democracy score_ratings reflect_ratings for",
         "text": [
          "",
          "",
          "",
          "",
          "",
          "",
          "",
          "",
          "",
          "",
          "",
          "",
          "11_democracy score_ratings reflect_ratings for"
         ],
         "textfont": {
          "size": 12
         },
         "type": "scattergl",
         "x": [
          3.5964763164520264,
          3.518080711364746,
          3.61679744720459,
          3.6039633750915527,
          3.6113345623016357,
          3.6139588356018066,
          3.5224905014038086,
          3.5275583267211914,
          3.516998529434204,
          3.657726287841797,
          3.4759764671325684,
          3.5185396671295166,
          3.5649917125701904
         ],
         "y": [
          5.465556621551514,
          5.340182781219482,
          5.48341178894043,
          5.478104114532471,
          5.462448596954346,
          5.4733567237854,
          5.316203594207764,
          5.316658020019531,
          5.322203636169434,
          5.302967548370361,
          5.283732891082764,
          5.3063883781433105,
          5.379268169403076
         ]
        }
       ],
       "layout": {
        "annotations": [
         {
          "showarrow": false,
          "text": "D1",
          "x": 1.7469565629959107,
          "y": 2.9747839212417597,
          "yshift": 10
         },
         {
          "showarrow": false,
          "text": "D2",
          "x": 6.890147626399994,
          "xshift": 10,
          "y": 8.546954822540282
         }
        ],
        "height": 750,
        "shapes": [
         {
          "line": {
           "color": "#CFD8DC",
           "width": 2
          },
          "type": "line",
          "x0": 6.890147626399994,
          "x1": 6.890147626399994,
          "y0": -2.5973869800567626,
          "y1": 8.546954822540282
         },
         {
          "line": {
           "color": "#9E9E9E",
           "width": 2
          },
          "type": "line",
          "x0": 1.7469565629959107,
          "x1": 12.033338689804078,
          "y0": 2.9747839212417597,
          "y1": 2.9747839212417597
         }
        ],
        "template": {
         "data": {
          "bar": [
           {
            "error_x": {
             "color": "rgb(36,36,36)"
            },
            "error_y": {
             "color": "rgb(36,36,36)"
            },
            "marker": {
             "line": {
              "color": "white",
              "width": 0.5
             },
             "pattern": {
              "fillmode": "overlay",
              "size": 10,
              "solidity": 0.2
             }
            },
            "type": "bar"
           }
          ],
          "barpolar": [
           {
            "marker": {
             "line": {
              "color": "white",
              "width": 0.5
             },
             "pattern": {
              "fillmode": "overlay",
              "size": 10,
              "solidity": 0.2
             }
            },
            "type": "barpolar"
           }
          ],
          "carpet": [
           {
            "aaxis": {
             "endlinecolor": "rgb(36,36,36)",
             "gridcolor": "white",
             "linecolor": "white",
             "minorgridcolor": "white",
             "startlinecolor": "rgb(36,36,36)"
            },
            "baxis": {
             "endlinecolor": "rgb(36,36,36)",
             "gridcolor": "white",
             "linecolor": "white",
             "minorgridcolor": "white",
             "startlinecolor": "rgb(36,36,36)"
            },
            "type": "carpet"
           }
          ],
          "choropleth": [
           {
            "colorbar": {
             "outlinewidth": 1,
             "tickcolor": "rgb(36,36,36)",
             "ticks": "outside"
            },
            "type": "choropleth"
           }
          ],
          "contour": [
           {
            "colorbar": {
             "outlinewidth": 1,
             "tickcolor": "rgb(36,36,36)",
             "ticks": "outside"
            },
            "colorscale": [
             [
              0,
              "#440154"
             ],
             [
              0.1111111111111111,
              "#482878"
             ],
             [
              0.2222222222222222,
              "#3e4989"
             ],
             [
              0.3333333333333333,
              "#31688e"
             ],
             [
              0.4444444444444444,
              "#26828e"
             ],
             [
              0.5555555555555556,
              "#1f9e89"
             ],
             [
              0.6666666666666666,
              "#35b779"
             ],
             [
              0.7777777777777778,
              "#6ece58"
             ],
             [
              0.8888888888888888,
              "#b5de2b"
             ],
             [
              1,
              "#fde725"
             ]
            ],
            "type": "contour"
           }
          ],
          "contourcarpet": [
           {
            "colorbar": {
             "outlinewidth": 1,
             "tickcolor": "rgb(36,36,36)",
             "ticks": "outside"
            },
            "type": "contourcarpet"
           }
          ],
          "heatmap": [
           {
            "colorbar": {
             "outlinewidth": 1,
             "tickcolor": "rgb(36,36,36)",
             "ticks": "outside"
            },
            "colorscale": [
             [
              0,
              "#440154"
             ],
             [
              0.1111111111111111,
              "#482878"
             ],
             [
              0.2222222222222222,
              "#3e4989"
             ],
             [
              0.3333333333333333,
              "#31688e"
             ],
             [
              0.4444444444444444,
              "#26828e"
             ],
             [
              0.5555555555555556,
              "#1f9e89"
             ],
             [
              0.6666666666666666,
              "#35b779"
             ],
             [
              0.7777777777777778,
              "#6ece58"
             ],
             [
              0.8888888888888888,
              "#b5de2b"
             ],
             [
              1,
              "#fde725"
             ]
            ],
            "type": "heatmap"
           }
          ],
          "heatmapgl": [
           {
            "colorbar": {
             "outlinewidth": 1,
             "tickcolor": "rgb(36,36,36)",
             "ticks": "outside"
            },
            "colorscale": [
             [
              0,
              "#440154"
             ],
             [
              0.1111111111111111,
              "#482878"
             ],
             [
              0.2222222222222222,
              "#3e4989"
             ],
             [
              0.3333333333333333,
              "#31688e"
             ],
             [
              0.4444444444444444,
              "#26828e"
             ],
             [
              0.5555555555555556,
              "#1f9e89"
             ],
             [
              0.6666666666666666,
              "#35b779"
             ],
             [
              0.7777777777777778,
              "#6ece58"
             ],
             [
              0.8888888888888888,
              "#b5de2b"
             ],
             [
              1,
              "#fde725"
             ]
            ],
            "type": "heatmapgl"
           }
          ],
          "histogram": [
           {
            "marker": {
             "line": {
              "color": "white",
              "width": 0.6
             }
            },
            "type": "histogram"
           }
          ],
          "histogram2d": [
           {
            "colorbar": {
             "outlinewidth": 1,
             "tickcolor": "rgb(36,36,36)",
             "ticks": "outside"
            },
            "colorscale": [
             [
              0,
              "#440154"
             ],
             [
              0.1111111111111111,
              "#482878"
             ],
             [
              0.2222222222222222,
              "#3e4989"
             ],
             [
              0.3333333333333333,
              "#31688e"
             ],
             [
              0.4444444444444444,
              "#26828e"
             ],
             [
              0.5555555555555556,
              "#1f9e89"
             ],
             [
              0.6666666666666666,
              "#35b779"
             ],
             [
              0.7777777777777778,
              "#6ece58"
             ],
             [
              0.8888888888888888,
              "#b5de2b"
             ],
             [
              1,
              "#fde725"
             ]
            ],
            "type": "histogram2d"
           }
          ],
          "histogram2dcontour": [
           {
            "colorbar": {
             "outlinewidth": 1,
             "tickcolor": "rgb(36,36,36)",
             "ticks": "outside"
            },
            "colorscale": [
             [
              0,
              "#440154"
             ],
             [
              0.1111111111111111,
              "#482878"
             ],
             [
              0.2222222222222222,
              "#3e4989"
             ],
             [
              0.3333333333333333,
              "#31688e"
             ],
             [
              0.4444444444444444,
              "#26828e"
             ],
             [
              0.5555555555555556,
              "#1f9e89"
             ],
             [
              0.6666666666666666,
              "#35b779"
             ],
             [
              0.7777777777777778,
              "#6ece58"
             ],
             [
              0.8888888888888888,
              "#b5de2b"
             ],
             [
              1,
              "#fde725"
             ]
            ],
            "type": "histogram2dcontour"
           }
          ],
          "mesh3d": [
           {
            "colorbar": {
             "outlinewidth": 1,
             "tickcolor": "rgb(36,36,36)",
             "ticks": "outside"
            },
            "type": "mesh3d"
           }
          ],
          "parcoords": [
           {
            "line": {
             "colorbar": {
              "outlinewidth": 1,
              "tickcolor": "rgb(36,36,36)",
              "ticks": "outside"
             }
            },
            "type": "parcoords"
           }
          ],
          "pie": [
           {
            "automargin": true,
            "type": "pie"
           }
          ],
          "scatter": [
           {
            "fillpattern": {
             "fillmode": "overlay",
             "size": 10,
             "solidity": 0.2
            },
            "type": "scatter"
           }
          ],
          "scatter3d": [
           {
            "line": {
             "colorbar": {
              "outlinewidth": 1,
              "tickcolor": "rgb(36,36,36)",
              "ticks": "outside"
             }
            },
            "marker": {
             "colorbar": {
              "outlinewidth": 1,
              "tickcolor": "rgb(36,36,36)",
              "ticks": "outside"
             }
            },
            "type": "scatter3d"
           }
          ],
          "scattercarpet": [
           {
            "marker": {
             "colorbar": {
              "outlinewidth": 1,
              "tickcolor": "rgb(36,36,36)",
              "ticks": "outside"
             }
            },
            "type": "scattercarpet"
           }
          ],
          "scattergeo": [
           {
            "marker": {
             "colorbar": {
              "outlinewidth": 1,
              "tickcolor": "rgb(36,36,36)",
              "ticks": "outside"
             }
            },
            "type": "scattergeo"
           }
          ],
          "scattergl": [
           {
            "marker": {
             "colorbar": {
              "outlinewidth": 1,
              "tickcolor": "rgb(36,36,36)",
              "ticks": "outside"
             }
            },
            "type": "scattergl"
           }
          ],
          "scattermapbox": [
           {
            "marker": {
             "colorbar": {
              "outlinewidth": 1,
              "tickcolor": "rgb(36,36,36)",
              "ticks": "outside"
             }
            },
            "type": "scattermapbox"
           }
          ],
          "scatterpolar": [
           {
            "marker": {
             "colorbar": {
              "outlinewidth": 1,
              "tickcolor": "rgb(36,36,36)",
              "ticks": "outside"
             }
            },
            "type": "scatterpolar"
           }
          ],
          "scatterpolargl": [
           {
            "marker": {
             "colorbar": {
              "outlinewidth": 1,
              "tickcolor": "rgb(36,36,36)",
              "ticks": "outside"
             }
            },
            "type": "scatterpolargl"
           }
          ],
          "scatterternary": [
           {
            "marker": {
             "colorbar": {
              "outlinewidth": 1,
              "tickcolor": "rgb(36,36,36)",
              "ticks": "outside"
             }
            },
            "type": "scatterternary"
           }
          ],
          "surface": [
           {
            "colorbar": {
             "outlinewidth": 1,
             "tickcolor": "rgb(36,36,36)",
             "ticks": "outside"
            },
            "colorscale": [
             [
              0,
              "#440154"
             ],
             [
              0.1111111111111111,
              "#482878"
             ],
             [
              0.2222222222222222,
              "#3e4989"
             ],
             [
              0.3333333333333333,
              "#31688e"
             ],
             [
              0.4444444444444444,
              "#26828e"
             ],
             [
              0.5555555555555556,
              "#1f9e89"
             ],
             [
              0.6666666666666666,
              "#35b779"
             ],
             [
              0.7777777777777778,
              "#6ece58"
             ],
             [
              0.8888888888888888,
              "#b5de2b"
             ],
             [
              1,
              "#fde725"
             ]
            ],
            "type": "surface"
           }
          ],
          "table": [
           {
            "cells": {
             "fill": {
              "color": "rgb(237,237,237)"
             },
             "line": {
              "color": "white"
             }
            },
            "header": {
             "fill": {
              "color": "rgb(217,217,217)"
             },
             "line": {
              "color": "white"
             }
            },
            "type": "table"
           }
          ]
         },
         "layout": {
          "annotationdefaults": {
           "arrowhead": 0,
           "arrowwidth": 1
          },
          "autotypenumbers": "strict",
          "coloraxis": {
           "colorbar": {
            "outlinewidth": 1,
            "tickcolor": "rgb(36,36,36)",
            "ticks": "outside"
           }
          },
          "colorscale": {
           "diverging": [
            [
             0,
             "rgb(103,0,31)"
            ],
            [
             0.1,
             "rgb(178,24,43)"
            ],
            [
             0.2,
             "rgb(214,96,77)"
            ],
            [
             0.3,
             "rgb(244,165,130)"
            ],
            [
             0.4,
             "rgb(253,219,199)"
            ],
            [
             0.5,
             "rgb(247,247,247)"
            ],
            [
             0.6,
             "rgb(209,229,240)"
            ],
            [
             0.7,
             "rgb(146,197,222)"
            ],
            [
             0.8,
             "rgb(67,147,195)"
            ],
            [
             0.9,
             "rgb(33,102,172)"
            ],
            [
             1,
             "rgb(5,48,97)"
            ]
           ],
           "sequential": [
            [
             0,
             "#440154"
            ],
            [
             0.1111111111111111,
             "#482878"
            ],
            [
             0.2222222222222222,
             "#3e4989"
            ],
            [
             0.3333333333333333,
             "#31688e"
            ],
            [
             0.4444444444444444,
             "#26828e"
            ],
            [
             0.5555555555555556,
             "#1f9e89"
            ],
            [
             0.6666666666666666,
             "#35b779"
            ],
            [
             0.7777777777777778,
             "#6ece58"
            ],
            [
             0.8888888888888888,
             "#b5de2b"
            ],
            [
             1,
             "#fde725"
            ]
           ],
           "sequentialminus": [
            [
             0,
             "#440154"
            ],
            [
             0.1111111111111111,
             "#482878"
            ],
            [
             0.2222222222222222,
             "#3e4989"
            ],
            [
             0.3333333333333333,
             "#31688e"
            ],
            [
             0.4444444444444444,
             "#26828e"
            ],
            [
             0.5555555555555556,
             "#1f9e89"
            ],
            [
             0.6666666666666666,
             "#35b779"
            ],
            [
             0.7777777777777778,
             "#6ece58"
            ],
            [
             0.8888888888888888,
             "#b5de2b"
            ],
            [
             1,
             "#fde725"
            ]
           ]
          },
          "colorway": [
           "#1F77B4",
           "#FF7F0E",
           "#2CA02C",
           "#D62728",
           "#9467BD",
           "#8C564B",
           "#E377C2",
           "#7F7F7F",
           "#BCBD22",
           "#17BECF"
          ],
          "font": {
           "color": "rgb(36,36,36)"
          },
          "geo": {
           "bgcolor": "white",
           "lakecolor": "white",
           "landcolor": "white",
           "showlakes": true,
           "showland": true,
           "subunitcolor": "white"
          },
          "hoverlabel": {
           "align": "left"
          },
          "hovermode": "closest",
          "mapbox": {
           "style": "light"
          },
          "paper_bgcolor": "white",
          "plot_bgcolor": "white",
          "polar": {
           "angularaxis": {
            "gridcolor": "rgb(232,232,232)",
            "linecolor": "rgb(36,36,36)",
            "showgrid": false,
            "showline": true,
            "ticks": "outside"
           },
           "bgcolor": "white",
           "radialaxis": {
            "gridcolor": "rgb(232,232,232)",
            "linecolor": "rgb(36,36,36)",
            "showgrid": false,
            "showline": true,
            "ticks": "outside"
           }
          },
          "scene": {
           "xaxis": {
            "backgroundcolor": "white",
            "gridcolor": "rgb(232,232,232)",
            "gridwidth": 2,
            "linecolor": "rgb(36,36,36)",
            "showbackground": true,
            "showgrid": false,
            "showline": true,
            "ticks": "outside",
            "zeroline": false,
            "zerolinecolor": "rgb(36,36,36)"
           },
           "yaxis": {
            "backgroundcolor": "white",
            "gridcolor": "rgb(232,232,232)",
            "gridwidth": 2,
            "linecolor": "rgb(36,36,36)",
            "showbackground": true,
            "showgrid": false,
            "showline": true,
            "ticks": "outside",
            "zeroline": false,
            "zerolinecolor": "rgb(36,36,36)"
           },
           "zaxis": {
            "backgroundcolor": "white",
            "gridcolor": "rgb(232,232,232)",
            "gridwidth": 2,
            "linecolor": "rgb(36,36,36)",
            "showbackground": true,
            "showgrid": false,
            "showline": true,
            "ticks": "outside",
            "zeroline": false,
            "zerolinecolor": "rgb(36,36,36)"
           }
          },
          "shapedefaults": {
           "fillcolor": "black",
           "line": {
            "width": 0
           },
           "opacity": 0.3
          },
          "ternary": {
           "aaxis": {
            "gridcolor": "rgb(232,232,232)",
            "linecolor": "rgb(36,36,36)",
            "showgrid": false,
            "showline": true,
            "ticks": "outside"
           },
           "baxis": {
            "gridcolor": "rgb(232,232,232)",
            "linecolor": "rgb(36,36,36)",
            "showgrid": false,
            "showline": true,
            "ticks": "outside"
           },
           "bgcolor": "white",
           "caxis": {
            "gridcolor": "rgb(232,232,232)",
            "linecolor": "rgb(36,36,36)",
            "showgrid": false,
            "showline": true,
            "ticks": "outside"
           }
          },
          "title": {
           "x": 0.05
          },
          "xaxis": {
           "automargin": true,
           "gridcolor": "rgb(232,232,232)",
           "linecolor": "rgb(36,36,36)",
           "showgrid": false,
           "showline": true,
           "ticks": "outside",
           "title": {
            "standoff": 15
           },
           "zeroline": false,
           "zerolinecolor": "rgb(36,36,36)"
          },
          "yaxis": {
           "automargin": true,
           "gridcolor": "rgb(232,232,232)",
           "linecolor": "rgb(36,36,36)",
           "showgrid": false,
           "showline": true,
           "ticks": "outside",
           "title": {
            "standoff": 15
           },
           "zeroline": false,
           "zerolinecolor": "rgb(36,36,36)"
          }
         }
        },
        "title": {
         "font": {
          "color": "Black",
          "size": 22
         },
         "text": "<b>Documents and Topics</b>",
         "x": 0.5,
         "xanchor": "center",
         "yanchor": "top"
        },
        "width": 1200,
        "xaxis": {
         "autorange": true,
         "range": [
          1.477424898425407,
          12.04909378501509
         ],
         "type": "linear",
         "visible": false
        },
        "yaxis": {
         "autorange": true,
         "range": [
          -2.9065719427500722,
          8.772337281249037
         ],
         "type": "linear",
         "visible": false
        }
       }
      },
      "image/png": "[encoded data removed]",
      "text/html": [
       "<div>                            <div id=\"e33cc5e4-be41-41ce-864b-0d31c2862ad2\" class=\"plotly-graph-div\" style=\"height:750px; width:1200px;\"></div>            <script type=\"text/javascript\">                require([\"plotly\"], function(Plotly) {                    window.PLOTLYENV=window.PLOTLYENV || {};                                    if (document.getElementById(\"e33cc5e4-be41-41ce-864b-0d31c2862ad2\")) {                    Plotly.newPlot(                        \"e33cc5e4-be41-41ce-864b-0d31c2862ad2\",                        [{\"hoverinfo\":\"text\",\"hovertext\":[\"\\\"Officials also made efforts to advance a stalled drive to streamline the operations of government ministries.\",\"dutch bar association, dutch association for the judiciary, social work netherlands, federation on shelter, ribw alliance (2019), stand up for the rule of law!\",\"the authority disposes of its own budget and the resources allotted are considered adequate for the accomplishment of its tasks .\",\"\\\"Some evaluations, like that of the Union for Sustainable Return and Integration, showed that approximately 30,000 people left the country during the first half of the year, mostly for Western Europe.\",\"the commission services held virtual meetings in may and june 2020 with:\",\"\\\"Legislation passed in 2012 fully opened up the economy to foreign investors as well, allowing noncitizens to own up to 100 percent of any commercial entity.\",\"ministry of justice and security, integral assessment framework for policy and regulation.\",\"its service is confidential and free of charge.\",\"minister for justice and security ferdinand grapperhaus and minister for legal protection stander dekker (2020), answer to questions of the members of the house of representatives buitenweg and van den berge on criminal justice during times of covid-19.\",\"\\\"In October 2020, the Hoti government abolished the Special Anti-Corruption Taskforce that had operated under the Kosovo Police for more than 10 years and had investigated cases of high-level corruption among senior politicians.\",\"this concerns state employees, including ministers, secretaries of state and heads of central state administration bodies.\",\"\\\"Tax officials have been implicated in tax evasion schemes, which seriously complicate the government\\u2019s fiscal reform efforts.\",\"\\\"Cvetanoski, Ilcho, \\u201cOhrid and its lake, a UNESCO heritage in danger\\u201d, Osservatorio Balcani e Caucaso Transeuropa, 24 September 2019, .\",\"corporate criminal liability has been introduced in the revised legislation in 2018, and a track record is still to be established.\",\"\\\"Wirecard filed for bankruptcy after its accounting firm refused to sign off on financial statements over evidence of fraud.\",\"\\\"The situation is particularly desperate in the RS the entity government\\u2019s decision to support 19 of the poorest municipalities with \\u20ac500 each is illustrative of the poverty in BiH\\u2019s more remote areas as well as authorities\\u2019 inability to deal with it.\",\"the threshold for dutch donations that have to be disclosed would remain at eur 4 500.\",\"two such reports have already been produced: one covering the period of 2012-2014 and the other covering 2015-2017 .\",\"\\\"On a scale of 1 to 10, half of those surveyed gave marks in the range of 1 to 3 on the question of whether the Council acts upon proposals from organizations that are not already part of the Council.\",\"european commission, report from the commission to the european parliament and the council assessing the extent to which the member states have taken the necessary measures in order to comply with council framework decision 2003\\u002f568\\u002fjha of 22 july 2003 on combating corruption in the private sector, com(2019)355 final.\",\"* the commission also met the following organisations in a number of horizontal meetings:\",\"* the list of contributions received in the context of the consultation for the 2020 rule of law report can be found at (com website).\",\"\\\"An issue plaguing many local governments is a surplus of public employees, which requires a large percentage of municipal and city budgets to be spent on wages.\",\"annex: list of sources in alphabetical order*\",\"annex i: list of sources in alphabetical order*\",\"annex i: list of sources in alphabetical order.\",\"\\\"For example, the municipality of Bile\\u0107a is in the red to the tune of 15 million BAM ($8.8 million) and faces bankruptcy, according to its municipal leadership.\",\"france scores 69\\u002f100 on the latest transparency corruption perception index, ranking 9th in the european union and 23rd globally .\",\"whilst the final report has already been delivered, an additional research report is due to be published in september.\",\"there is a strong integrity culture in the public administration.\",\"european commission (2019), public administration characteristics and performance in eu28.\",\"this issue has also been highlighted by greco, which recommends the provision of appropriate guidance on conflicts of interest and integrity-related matters and that persons entrusted with top executive functions declare on an ad hoc basis any conflicts between private interests and official functions, as well as making their financial interests public on a regular basis.\",\"irish human rights and equality commission (2019), ireland and the convention on the elimination of racial discrimination, submission to the united nations committee on the elimination of racial discrimination on ireland\\u2019s combined 5th and 6th report, october 2019.\",\"\\\"In practice, municipalities choose to incorporate as cities in order to enjoy purportedly easier access to funds and enhanced appeal to investors.\",\"* the commission also met the following organisations in a number of horizontal meetings:\",\"\\\"While the country succeeded in securing a formal invitation to join NATO, the second promise offered to citizens regarding the name change\\u2014starting accession talks with the European Union\\u2014was blocked at the EU Council in October.\",\"all recommendations by greco concerning incriminations had been implemented by 2010.\",\"\\\"The EC pointed to public authorities who have prematurely or falsely made references to guilt, and the lack of appropriate measures available in those instances.\",\"transparency international (2017), speak up report.\",\"while coordination mechanisms are in place, a pronounced departmentalism challenges coordination and efficient planning .\",\"\\\"Advocacy organizations said that the changes often reduced the country\\u2019s standards to the minimum allowed by the European Union.\",\"directorate-general for communication (2020), special eurobarometer 502: corruption.\",\"european network of national human rights institutions \\u2013 ennrhi (2020), the rule of law in the european union.\",\"civicus, monitor tracking civic space: the netherlands.\",\"\\\"It remains to be seen whether this development will compel adequate attention from both the local and national government to care for the country\\u2019s most prominent tourist destination.\",\"transparency international ireland (2019), submission to the department of justice and equality review group consultation on anti-fraud and anti-corruption structures and procedures.\",\"european commission (2020), report on the implementation of council framework decision of 13 june 2002 on the european arrest warrant and surrender procedures between member states.\",\"greco has welcomed these proposed constitutional changes.\",\"\\\"Author: Liisa Talving, PhD, is a Research Fellow in Comparative Politics at the Johan Skytte Institute of Political Studies, University of Tartu, Estonia.\",\"\\\"The EU-endorsed \\u201cUrgent Reform Priorities\\u201d from 2015 are still far from being fully implemented, and exemplify the country\\u2019s lack of institutional capacity.\",\"certain it projects have been receiving technical support at european level .\",\"\\\"The government\\u2019s popularity suffered an additional hit in the fall when electricity prices rose to record highs following the insufficient capacity to generate electricity in the NordPool energy market.\",\"the legal framework remains the same.\",\"the political cycle has a high impact on staff turnover .\",\"directorate-general for communication (2020), special eurobarometer 502: corruption.\",\"\\\"In its 2019 report, the European Commission concluded that the state could improve financial sustainability for these organizations with tax harmonization and more predictable public budgeting.\",\"\\\"Multiple corruption scandals involving government officials were exposed during the Hoti government.\",\"sipo publishes guidelines on compliance with the provisions of these acts.\",\"irish times (2018), regional newspapers reject claims about government \\u2018advertorials\\u2019.\",\"\\\"This situation has left some municipalities struggling with debt.\",\"courts service, long-term strategic vision to 2030: supporting access to justice in a modern, digital ireland.\",\"furthermore, sipo is responsible for managing the disclosure of interests and tax clearance regimes, as well as for investigating and reporting on possible contraventions of the ethics legislation.\",\"state commission on the parliamentary system in the netherlands (2018), democracy and the rule of law in equilibrium \\u2013 final report of the state commission on the parliamentary system in the netherlands.\",\"centre for media pluralism and media freedom (2020), 2020 media pluralism monitor.\",\"\\\"The June 2020 collapse of payment processing firm Wirecard, meanwhile, brought scrutiny on the German financial regulatory system.\",\"financial expertise centre (2019), fec annual plan 2020.\",\"\\\"In 2018, Prime Minister Jakobsd\\u00f3ttir commissioned a report to garner recommendations for improving public confidence in the government.\",\"personal injuries commission (2018), second and final report, department of business, enterprise and innovation of ireland, july 2018.\",\"dutch government, measures against undermining criminality.\",\"\\\"Transparency International\\u2019s Hungarian chapter has reported that a number of companies with close ties to the government are supported primarily by public funds.\",\"the commission services held virtual meetings in may and june 2020 with:\",\"\\\"Among mobile service providers, EE (owned by BT since 2016) leads the market with 29 percent of subscribers, followed by O2 (27 percent), Vodafone (19 percent), Three (11 percent), and Tesco (8.5 percent).\",\"directorate-general for communication (2019), flash eurobarometer 482: businesses\\u2019 attitudes towards corruption in the eu.\",\"directorate-general for communication (2020), special eurobarometer 502: corruption.\",\"\\\"According to the National Audit Office, this money was distributed without assessing the varying local effects of the crisis, and portions intended for economic recovery were delayed.\",\"\\\"In 2017, just prior to the election, media broke the story that former prime minister Benediktsson sold his shares in Glitnir Bank just hours before the financial crash of 2008.\",\"directorate-general for communication (2016-2020), eurobarometer: perceived independence of the national justice system in the eu among the general public.\",\"cepej (2020), study on the functioning of the judicial systems in the eu member states.\",\"a whole-of-government approach to regulatory policy making was established in the better regulation strategy and has helped to strengthen the methodological basis for assessing the economic impact of regulation.\",\"the aim of the new law is to remove shortcomings of the legislation as arising from the greco recommendations .\",\"* the commission also met the following organisations in a number of horizontal meetings:\",\"\\\"However, their fiscal policy choices in particular have been limited in recent years by the main creditor institutions that have guided the country through its public debt crisis\\u2014the European Commission, the European Central Bank, and the International Monetary Fund.\",\"directorate-general for communication (2019), flash eurobarometer 482: businesses' attitudes towards corruption in the eu.\",\"magistrates union (2020), automatic extension of provisional detentions: after the scandal and the mess, nonchalance!\",\"\\\"Nominet, a nonprofit company operating in the public interest, manages access to the .uk, .wales, and .cymru country domains.\",\"\\u2013 final report of the disposition times in movement project.\",\"civicus monitor \\u2013 tracking civic space: slovakia.\",\"irish law society (2018), contribution to the review of the administration of civil justice of february 2018. .\",\"minister for legal protection sander dekker (17 september 2019), letter to the house of representatives about ways in which to create a strong justice system.\",\"\\\"In July, the government approved a law to outlaw tax evasion, making this practice punishable by prison sentences of between three months and three years.\",\"\\\"In a 2017 progress report, GRECO notes that eighteen of the twenty recommendations have now been satisfactorily implemented.\",\"this raises questions about the need to register donations and their control.\",\"\\\"While Andersen initially resisted calls to resign, she did so later in March.\",\"\\\"The content can still be accessed on private computers.\",\"* the list of contributions received in the context of the consultation for the 2020 rule of law report can be found at (com website).\",\"minister for legal protection sander dekker (2020), answer to questions of the member of the house of representatives groothuizen about algorithmic analysis of judgments.\",\"civicus, monitor tracking civic space: ireland.\",\"in the latest corruption perceptions index of transparency international, the netherlands scored 82\\u002f100 and was ranked 4th in the european union and 8th globally.\",\"additionally, the programming law for justice 2018-2022 seeks to further digitalise legal procedures, and a process is ongoing to facilitate the online submission of requests for legal aid.\",\"\\\"Problems in the quality of local democratic governance are perhaps best illustrated by the case of Ohrid, which risked being reclassified by UNESCO as an \\u201cendangered\\u201d heritage site in 2019.\",\"\\\"Another estimate, published by the World Bank in its Migration and Brain Drain report, showed that as many as 49.5 percent of BiH citizens now live abroad.\",\"\\\"The directive was billed as an effort to reduce corporate tax avoidance within the EU.\",\"\\\"However, the incorporation of new cities was not driven by population or economic growth but, rather, came as a result of lax laws defining any area of \\u201ccultural and historical importance\\u201d as a city.\",\"\\\"Years of neglect of the natural and cultural heritage of the city, as well as illegal construction and pollution, had prompted UNESCO to issue a \\u201clast warning\\u201d and to propose a series of recommendations to be fulfilled with its status reassessed in 2020.\",\"european parliament research service, better regulation practices in national parliaments.\",\"directorate-general for communication (2019), flash eurobarometer 482: businesses and corruption.\",\"\\\"Ofcom, \\u201cThe Communications Market Report 2017,\\u201d August 3, 2017 p.147  Ofcom, \\u201cWholesale Local Access Market Review: Statement\\u2013Volume 1,\\u201d March 28,2018  Ofcom, Consolidated Version of General Conditions of Entitlement (London: Ofcom), December 16, 2013,  Ofcom, \\u201cThe Communications Market Report 2016,\\u201d p.153,\",\"minister for justice and security ferdinand grapperhaus (2020), answer to the question of the member of the house of representatives groothuizen about the report that the ministry of justice is failing businesses in corruption cases.\",\"this has also been highlighted by greco.\",\"\\\"BNS, ERR News, \\u201eJ\\u00fcri Ratas resigns as prime minister following loan scandal\\u201c, 13 January 2021,  Sulev Vedler, \\u201eRetsidiivne Keskerakond.\",\"the review group is due to present its findings later in autumn 2020.\",\"in the 2019 corruption perceptions index of transparency international, ireland scored 74\\u002f100 and ranked 8th in the eu and 18th globally .\",\"members of the house of representatives maarten groothuizen and michiel van nispen (2019), motion about potential vulnerabilities in the law on judicial organization.\",\"\\\"Although BiH remains nominally interested in fulfilling European Union (EU) requirements on its accession path, in practice, the state\\u2019s attitude toward joining the EU is characterized by disinterest, exemplified by the submission of incomplete answers to follow-up questions in an EC questionnaire in February.\",\"* the commission also met the following organisations in a number of horizontal meetings:\",\"directorate-general for communication (2020), eurobarometer: perceived independence of the national justice system in the eu among the general public.\",\"\\\"Two high-profile corruption cases involving former prime ministers reached the legally prescribed statute of limitations during the year, further contributing to the image of political impunity in the country: The trials against former PM Gruevski (VMRO\\u2013DPMNE, 2006\\u201316), in the SJO case \\u201cTrajectory,\\u201d and former PM Vlado Buchkovski (SDSM, 2004\\u201306), accused of illegal procurement while serving as Minister of Defense in 2001, ended without court decisions in October  and November,  respectively.\",\",\",\"\\\"Massive \\u201cbrain drain\\u201d persisted in BiH, although the number of emigrants in 2019 was hard to estimate.\",\"the commission services held virtual meetings in may and june 2020 with:\",\"\\\"ISPs are not subject to licensing, but they must comply with general conditions set by Ofcom, such as having a recognized code of practice and being a member of a recognized alternative dispute-resolution scheme.\",\"among other things, the government has increased funding since 2016, leading to an additional annual eur 20 million since 2018 for the prosecution service and the fiscal intelligence and investigation department on corruption and money-laundering.\",\"\\\"To alleviate the pandemic-related pressures on local governments, municipalities were allocated nearly \\u20ac182 million in 2020 and 2021 as crisis support.\",\"legal aid is financed mainly through public funds, and around 38% of citizens would qualify for legal aid.\",\"high authority for the transparency of public life \\u2013 hatvp, public registry .\",\"minister for justice and security ferdinand grapperhaus and minister for legal protection stander dekker (2020), letter to the house of representatives on contours of the approach to address backlogs in criminal justice.\",\"the investigation and monitoring of ethics compliance faces some legislative and structural obstacles.\",\"directorate-general for communication (2020), special eurobarometer 502: corruption.\",\"* the list of contributions received in the context of the consultation for the 2020 rule of law report can be found at (com website).\",\"civicus, monitor tracking civic space: france.\",\"official gazette of the kingdom of the netherlands (2019), decree of 28 november 2019, amending the decree on police data concerning theme-processing to combat official bribery and amending the decree on police data for special investigative forces concerning theme-processing to combat human trafficking.\",\"\\\"Greece was expected to exit its last bailout agreement with the institutions in 2018.\",\"high authority for the transparency of public life \\u2013 hatvp (2019), activity report of 2018. .\",\"slovakia scored 50\\u002f100 over the past three years in a row in transparency international\\u2019s corruption perception index, ranking 16th in the european union and 59th globally .\",\"annex i: list of sources in alphabetical order.\",\"* the list of contributions received in the context of the consultation for the 2020 rule of law report can be found at (com website).\",\"\\\"Median gross weekly earnings for full-time workers were \\u20a4569 ($730).\",\"nan\",\"steering group disposition times (2019), disposition times in movement!\",\"european parliament resolution of 28 march 2019 on the situation of the rule of law and the fight against corruption in the eu, specifically in malta and slovakia.\",\"\\\"Andorra continued to make efforts to address longstanding concerns about abuse of its banking system in 2017.\",\"\\\"Mobile virtual network operators including Tesco provide service using the infrastructure owned by one of the other companies.\",\"directorate-general for communication (2020), flash eurobarometer 482: businesses\\u2019 attitudes towards corruption in the eu.\",\"council of the bar of ireland (2019), submission to the joint committee on justice and equality on access to justice and legal costs of 25 november 2019.\",\"\\\"After Pashinyan took office as prime minister in May, law enforcement agencies initiated a number of high-profile corruption investigations, with targets including Yerevan mayor Taron Margaryan; parliament member Manvel Grigoryan and his son, Ejmiatsin mayor Karen Grigoryan; and Sargsyan\\u2019s brother and nephew.\",\"\\\"It had interviewed Hoti in 2019 as part of an ongoing corruption investigation.\",\"the commission services held virtual meetings in june 2020 with:\",\"nan\",\"the prohibition applies regardless of the amount.\",\"a member can only be suspended or dismissed due to incompetence, unsuitability for the position fulfilled or due to other compelling reasons related to the person concerned.\",\"\\\"The campaign intensified in late July after TVSA aired a feature film that allegedly misinterpreted the country\\u2019s wartime events.\",\"national ombudsman (2020), proper provision of information is the basis of access to justice \\u2013 bottlenecks in the provision of information about penalties and dismissal decisions.\",\"ministry of justice (2020), breaches of integrity: statistical elements.\",\"these revelations triggered, amongst others, the resignation of the prosecutor general in march 2019 .\",null],\"marker\":{\"color\":\"#CFD8DC\",\"opacity\":0.5,\"size\":5},\"mode\":\"markers+text\",\"name\":\"other\",\"showlegend\":false,\"x\":[7.00942325592041,6.9110260009765625,7.019405841827393,5.8493428230285645,4.561201572418213,6.734261989593506,7.477836608886719,3.3240926265716553,5.236755847930908,8.077564239501953,7.384863376617432,7.338211536407471,5.816983699798584,8.84892463684082,7.0609450340271,6.301435947418213,7.428109645843506,5.368043899536133,4.685554027557373,4.708054542541504,4.661037921905518,5.077828407287598,6.321821689605713,6.758894920349121,6.766200542449951,6.763741493225098,6.3003249168396,9.74311351776123,5.303826332092285,8.057473182678223,4.778994560241699,8.275019645690918,5.951984882354736,6.35004997253418,4.669236660003662,4.661553382873535,8.134184837341309,6.798223495483398,7.875645637512207,7.005838871002197,6.425314426422119,9.87923812866211,5.287652969360352,7.775496482849121,5.810465335845947,8.975107192993164,4.632046699523926,8.019460678100586,5.779778480529785,6.482279300689697,7.296046257019043,6.2315673828125,8.666385650634766,7.340979099273682,9.888933181762695,6.059978485107422,8.05449104309082,7.673120498657227,6.370726108551025,6.319602012634277,5.852470874786377,8.000234603881836,6.9113311767578125,2.0791120529174805,9.78319263458252,6.039648532867432,5.915080547332764,6.198426246643066,6.877399444580078,7.869447708129883,4.543398857116699,3.4244608879089355,9.961724281311035,9.92372989654541,6.680395126342773,7.213493824005127,4.624237060546875,4.638342380523682,7.427971839904785,8.032756805419922,4.6536946296691895,6.18761682510376,9.889286041259766,4.445641994476318,3.3831064701080322,5.034714698791504,7.788590908050537,5.917887210845947,5.175286769866943,7.204069137573242,8.034723281860352,6.786129474639893,7.042773723602295,3.231595993041992,5.108306407928467,5.162840843200684,7.7692060470581055,9.7433443069458,5.76800537109375,5.814086437225342,5.868194103240967,6.163710594177246,6.4000163078308105,5.821151256561279,7.201596736907959,9.863948822021484,3.3835861682891846,7.878633975982666,8.095152854919434,7.006732940673828,5.235652446746826,9.73794174194336,7.720579624176025,4.5283308029174805,4.658875942230225,4.547135353088379,7.883975982666016,3.7476565837860107,5.906588077545166,4.545241832733154,3.3908872604370117,8.646824836730957,6.30869197845459,9.420884132385254,7.8743133544921875,5.224763870239258,8.005224227905273,9.881254196166992,5.092616558074951,7.782793998718262,6.89119291305542,8.0474853515625,7.931435585021973,9.753169059753418,6.756343364715576,5.063478946685791,6.299812316894531,3.7172892093658447,4.9790449142456055,4.546574115753174,8.241584777832031,3.431201934814453,9.882854461669922,5.783284664154053,7.9439496994018555,8.078792572021484,4.527554988861084,3.741894483566284,7.27227258682251,7.652660369873047,8.015663146972656,7.654029846191406,7.877599239349365,6.902043342590332,6.5929718017578125],\"y\":[3.0436205863952637,0.9920313358306885,3.1060984134674072,3.5040524005889893,2.7445600032806396,2.8107669353485107,2.4326608180999756,2.6428439617156982,0.9355146884918213,4.447877407073975,2.8463215827941895,3.4328997135162354,2.6219918727874756,3.4264516830444336,3.8202381134033203,3.973241090774536,1.4193947315216064,2.0309605598449707,2.8563647270202637,1.5534828901290894,2.878793954849243,1.4838625192642212,3.9771597385406494,-2.245710611343384,-2.2585973739624023,-2.2552947998046875,4.02217435836792,3.3777692317962646,2.0130276679992676,2.987661838531494,0.42748919129371643,2.5175998210906982,0.22601190209388733,3.9300477504730225,2.8873157501220703,1.703734278678894,1.4320712089538574,3.38995623588562,1.8530638217926025,3.071998357772827,2.2508323192596436,5.477246284484863,0.26899582147598267,-0.2167014181613922,2.6018762588500977,2.2937679290771484,1.549756646156311,1.3942145109176636,6.072010517120361,2.309920072555542,1.8378676176071167,3.916292905807495,3.4042375087738037,3.106025457382202,5.474550724029541,2.1616246700286865,4.336667537689209,2.499406576156616,0.21550938487052917,3.9709722995758057,0.26050689816474915,2.6690704822540283,1.0420266389846802,3.085956335067749,5.425621032714844,1.537941336631775,2.052990198135376,0.16231082379817963,1.0122467279434204,1.8606984615325928,2.7313694953918457,2.6563448905944824,5.362475395202637,5.41884708404541,3.634699821472168,5.109433650970459,0.31839337944984436,0.7860420942306519,2.3280372619628906,1.5157560110092163,2.8743081092834473,2.231674909591675,5.4578938484191895,1.6775233745574951,2.619722366333008,2.117650032043457,-0.20372235774993896,0.2114725410938263,0.8736594319343567,2.860985517501831,1.325153112411499,2.685802936553955,4.187913417816162,2.570359945297241,1.444557785987854,0.934946596622467,-0.20263665914535522,3.378636121749878,0.34836336970329285,2.607064962387085,3.493640422821045,2.2627689838409424,3.812445640563965,2.616084575653076,2.183912515640259,5.471882343292236,2.624636650085449,3.708265542984009,1.3880153894424438,4.6433820724487305,2.1178810596466064,3.3283071517944336,3.191789150238037,0.37538260221481323,2.87825870513916,0.35100653767585754,3.7992186546325684,2.5323433876037598,3.456134080886841,2.7305757999420166,2.6305606365203857,3.1182730197906494,3.979133129119873,3.731935501098633,2.053210496902466,0.9332221150398254,2.6696627140045166,5.464549541473389,1.4354565143585205,-0.19909289479255676,0.928972601890564,4.520437717437744,1.967974305152893,3.3744943141937256,-2.247169256210327,1.4547024965286255,3.984151601791382,2.553696393966675,2.316483736038208,1.3561303615570068,3.7348597049713135,2.670464515686035,5.462948799133301,0.19564412534236908,3.858485698699951,4.433812141418457,2.7294323444366455,2.5356481075286865,2.782003164291382,3.203439712524414,4.245366096496582,3.1332011222839355,3.0477805137634277,4.429047584533691,2.4896981716156006],\"type\":\"scattergl\"},{\"hoverinfo\":\"text\",\"hovertext\":[\"\\\"Sirachevski, Gavril, \\u201c\\u0410\\u041d\\u0422\\u0418\\u041a\\u041e\\u0420\\u0423\\u041f\\u0426\\u0418\\u041e\\u041d\\u0415\\u0420\\u0418\\u0422\\u0415 \\u040c\\u0415 \\u0413\\u041e \\u0418\\u0421\\u041f\\u0418\\u0422\\u0423\\u0412\\u0410\\u0410\\u0422 \\u0421\\u041a\\u0410\\u041d\\u0414\\u0410\\u041b\\u041e\\u0422 \\u0421\\u041e \\u041d\\u0410\\u0412\\u041e\\u0414\\u041d\\u041e\\u0422\\u041e \\u041c\\u0415\\u0421\\u0422\\u0415\\u040a\\u0415 \\u0422\\u0415\\u041d\\u0414\\u0415\\u0420 \\u041e\\u0414 \\u0420\\u0410\\u0428\\u041a\\u041e\\u0412\\u0421\\u041a\\u0418 - \\u0417\\u0410\\u0415\\u0412 \\u0418 \\u0414\\u0415\\u041d\\u0415\\u0421\\u041a\\u0410 \\u0412\\u041e \\u041e\\u0414\\u0411\\u0420\\u0410\\u041d\\u0410\\u201d [\\u201cThe anti-corruptioners will investigate the scandal with the fixed tender by Rashkovski \\u2013 Zaev today in defense\\u201d], TV24, 4 July 2019, .\",\"\\\"Why Bosnia had a Dilemma\\u201d, Balkan Insight, October 16, 2019,  \\u201cBile\\u0107a Municipal Assembly holds session after six months\\u201d (\\u201cSkup\\u0161tina Op\\u0161tine Bile\\u0107a zasjedala nakon \\u0161est mjeseci\\u201d, ATV Banja Luka, September 27, 2019,  Milorad Milojevi\\u0107, \\u201cThe Republika Srpska has money for airplanes, but not for poor municipalities\\u201d, (\\u201cRepublika Srpska ima novac za avione, ali ne i za siroma\\u0161ne op\\u0161tine\\u201d), November 19, 2019,\",\"\\\"Chalovski, Vlatko, \\u201d\\u0414\\u041a\\u0421\\u041a \\u0433\\u043e \\u0437\\u0430\\u0442\\u0432\\u043e\\u0440\\u0438 \\u043f\\u0440\\u0435\\u0434\\u043c\\u0435\\u0442\\u043e\\u0442 \\u0437\\u0430 \\u041c\\u0438\\u0446\\u043a\\u043e\\u0441\\u043a\\u0438 \\u2013 \\u043f\\u043e\\u0431\\u0430\\u0440\\u0430 \\u043e\\u0434 \\u0417\\u0430\\u0435\\u0432 \\u0434\\u0430 \\u0438\\u0441\\u043f\\u0438\\u0442\\u0443\\u0432\\u0430 \\u0441\\u0443\\u0434\\u0438\\u0440 \\u043d\\u0430 \\u0438\\u043d\\u0442\\u0435\\u0440\\u0435\\u0441\\u0438 \\u043a\\u0430\\u0458 \\u0410\\u043d\\u0453\\u0443\\u0448\\u0435\\u0432\\u201d [\\u2018DKSK closed the case on Mickovskia \\u2013 and requested from Zaev to investigate conflict of interest with Angjushev\\u201d], Investigative Reporting Lab Macedonia, 15 November 2019, .\",\"\\\"Cyril and Methodius University, Skopje.\",\"\\\"Ajla Obradovi\\u0107, \\u201cConsequences of one year of deadlock in BiH\\u201d (\\u201cPosljedice godine dana zastoja u BiH\\u201d), Radio Free Europe, October 7, 2019,  \\\"\\\"Bakir Izetbegovi\\u0107: no naming of PM candidate without the ANP\\\"\\\" (\\\"\\\"Bakir Izetbegovi\\u0107: Nema imenovanja mandatara bez ANP-a\\\"\\\"), Anadolija Agency, August 18, 2019,  \\u201cBosnian Parliament Breaks 14-Month Impasse, OKs Government,\\u201d Radio Free Europe\\u002fRadio Liberty, 23 December 2019,  An\\u0111elka Markovi\\u0107, \\\"\\\"The RS reserve police force: why, how much...\\\"\\\" (\\\"\\\"Rezervni sastav policije RS: Zbog \\u010dega, koliko...\\\"\\\"), N1, April 4, 2019,  Dalio Sijah, \\u201cWhat comes next after the Interior Ministry of the RS gave up on forming its reserve unit?\\\"\\\"\",\"\\\"Jakov Marusic, Sinisa, \\u201cNorth Macedonia\\u2019s Zaev Condemned for Calling Detainee \\u2018Faggot\\u2019\\u201d, Balkan Insight, 14 August 2019, .\",\"\\\"Jakov Marusic, Sinisa, \\u201cNorth Macedonia Woos Opposition to Prolong Special Prosecution\\u201d, Balkan Insight, 11 March 2019, .\",\"\\\"Danilovska, Dance and Nada Naumovska, \\u201cProposals for the improvement of the current state, Openness of the local self-government institutions in the region and in the Republic of North Macedonia\\u201d, Metamorphosis Foundation for Internet and Society and ACTION SEE, July 2019, p. 4, .\",\"\\\"Jakov Marusic, Sinisa, \\u201cNorth Macedonia Journalist \\u2018Denied Chance\\u2019 to Prove Innocence\\u201d, Balkan Insight, 3 September 2019, .\",\"\\\"The state reclaimed phytosanitary control over the Bulgarian-Turkish border in May, for example (though a court later overturned the move); the previous lax controls had been criticized for allowing agricultural products with unacceptable levels of pesticides into the country, and allegedly had led to an increase in drug smuggling.\",\"\\\"Zafeiropoulos, Kostas, \\u201cAlexander the Bot: The Twitter War for the Macedonian Soul\\u201d, Balkan Insight, 18 December 2019, ; Woolley, Samuel and Katie Josef, \\u201cDemand for Deceit: How the Way We Think Drives Disinformation\\u201d, National Endowment for Democracy, 8 January 2020, pp.\",\"\\\"The irregular 2016 demolition of a number of homes and businesses in Belgrade\\u2019s Savamala district was aimed at clearing the way for a government-backed private development project.\",\"\\\"Meanwhile, Serbs living in Kosovo do not benefit from Serbia\\u2019s visa waiver agreement with the EU, making travel with a Serbian passport relatively difficult for those living in the enclaves.\",\"\\\"Jakov Marusic, Sinisa, \\u201cNorth Macedonia Govt Announces New Anti-Corruption Team\\u201d, Balkan Insight, 13 August 2019, .\",\"\\\"In November 2016, Putin withdrew Russia from the International Criminal Court (ICC) after the body issued a report of preliminary findings calling the fighting in Crimea and eastern Ukraine an \\u201cinternational armed conflict\\u201d between Ukraine and Russia.\",\"\\\"Jakov Marusic, Sinisa, \\u201cNorth Macedonia Court Jails Parliament Attackers\\u201d, Balkan Insight, 15 March 2019, .\",\"\\\"Public trust in North Macedonia\\u2019s main representative body also remained low.\",\"\\\"Jakov Marusic, Sinisa, \\u201cNorth Macedonia Opposition Backs \\u2018Non-Partisan\\u2019 Professor for President\\u201d, Balkan Insight, 27 February 2019, .\",\"\\\"He has also contributed to the Guardian, Washington Post, PBS, and Al Jazeera English.\",\"\\\"Jakov Marusic, Sinisa, \\u201cNorth Macedonia Capital Hosts First Pride Parade\\u201d, Balkan Insight, 29 June 2019, .\",\"\\\"He produces and cohosts Sarajevo Calling, a bi-weekly podcast on current and past sociopolitical events in countries of the Western Balkans.\",\"\\\"Author: Aleksandar Brezar is Southeast Europe\\u002fWestern Balkans Network Lead for The Democratic Society, a UK\\u002fBrussels-based non-profit organization working for greater participation and dialogue in democracy in Europe and elsewhere.\",\"\\\"Ognenovska, Simona and Jasmina Chaushoska, \\u201c\\u0418\\u0437\\u0432\\u0435\\u0448\\u0442\\u0430\\u0458 \\u0437\\u0430 \\u043e\\u0432\\u043e\\u0437\\u043c\\u043e\\u0436\\u0443\\u0432\\u0430\\u0447\\u043a\\u0430 \\u043e\\u043a\\u043e\\u043b\\u0438\\u043d\\u0430 \\u0437\\u0430 \\u0440\\u0430\\u0437\\u0432\\u043e\\u0458 \\u043d\\u0430 \\u0433\\u0440\\u0430\\u0453\\u0430\\u043d\\u0441\\u043a\\u043e\\u0442\\u043e \\u043e\\u043f\\u0448\\u0442\\u0435\\u0441\\u0442\\u0432\\u043e \\u0437\\u0430 2018 \\u0433\\u043e\\u0434\\u0438\\u043d\\u0430\\u201d [\\u201cReport on the enabling environment for the development of the civil society in 2018\\u201d], Macedonian Center for International Cooperation (MCIC), 2019, p. 44, .\",\"\\\"In November 2020, a number of former Kosovo Liberation Army (KLA) members\\u2014including former president Tha\\u00e7i, leader of the PDK Kadri Veseli, former head of Parliament Jakup Krasniqi, and member of Parliament Rexhep Selimi\\u2014were charged with war crimes by the Kosovo Specialist Chambers (KSC), a tribunal in The Hague investigating war crimes committed during Kosovo\\u2019s 1998\\u201399 war for independence.\",\"\\\"Fotinovska, Ruzhica, \\u201c\\u0414\\u0418\\u0420\\u0415\\u041a\\u0422\\u041e\\u0420\\u041e\\u0422 \\u041d\\u0410 \\u0414\\u0418\\u0420\\u0415\\u041a\\u0426\\u0418\\u0408\\u0410\\u0422\\u0410 \\u0417\\u0410 \\u0417\\u0410\\u0428\\u0422\\u0418\\u0422\\u0410 \\u041d\\u0410 \\u041b\\u0418\\u0427\\u041d\\u0418\\u0422\\u0415 \\u041f\\u041e\\u0414\\u0410\\u0422\\u041e\\u0426\\u0418 \\u0413\\u041e\\u0420\\u0410\\u041d \\u0422\\u0420\\u0410\\u0408\\u041a\\u041e\\u0412\\u0421\\u041a\\u0418 \\u041f\\u041e\\u0414\\u041d\\u0415\\u0421\\u0415 \\u041e\\u0421\\u0422\\u0410\\u0412\\u041a\\u0410\\u201d [\\u201cThe Director of the Directorate for Personal Data Protection submitted a resignation\\u201d], TV 24, 20 May 2019, ; \\u201c\\u0418\\u0437\\u0431\\u043e\\u0440 \\u043d\\u0430 \\u0434\\u0438\\u0440\\u0435\\u043a\\u0442\\u043e\\u0440 \\u0438 \\u0437\\u0430\\u043c\\u0435\\u043d\\u0438\\u043a \\u0434\\u0438\\u0440\\u0435\\u043a\\u0442\\u043e\\u0440 \\u043d\\u0430 \\u0414\\u0438\\u0440\\u0435\\u043a\\u0446\\u0438\\u0458\\u0430\\u0442\\u0430 \\u0437\\u0430 \\u0437\\u0430\\u0448\\u0442\\u0438\\u0442\\u0430 \\u043d\\u0430 \\u043b\\u0438\\u0447\\u043d\\u0438\\u0442\\u0435 \\u043f\\u043e\\u0434\\u0430\\u0442\\u043e\\u0446\\u0438\\u201d [\\u201cAppointment of a director and substitute-director in the Directorate for Personal Data Protection\\u201d], Directorate for Personal Data Protection, 30 December 2019, .\",\"\\\"In December 2018, investigative reporter Milan Jovanovi\\u0107, who has reported extensively on corruption, was the victim of an arson attack in which unknown assailants threw a Molotov cocktail into his home.\",\"\\\"Brezar won the Poynter Institute\\u2019s inaugural Balkan Factchecking Award (2017), the Europa Nostra Award and Grand Prix for Preservation of Cultural Heritage (2016), the Jules Chametzky Literary Translation Award (2016), and received a Pushcart Prize nomination (2015).\",\"\\\"Chalovski, Vlatko, \\u201c\\u041f\\u043e\\u043b\\u0438\\u0442\\u0438\\u0447\\u043a\\u0438\\u043e\\u0442 \\u043f\\u0430\\u0437\\u0430\\u0440 \\u0432\\u043e \\u0421\\u043e\\u0431\\u0440\\u0430\\u043d\\u0438\\u0435 \\u0433\\u043e \\u043a\\u043e\\u0447\\u0438 \\u0444\\u0443\\u043d\\u043a\\u0446\\u0438\\u043e\\u043d\\u0438\\u0440\\u0430\\u045a\\u0435\\u0442\\u043e \\u043d\\u0430 \\u043d\\u0435\\u043a\\u043e\\u043b\\u043a\\u0443 \\u0434\\u0440\\u0436\\u0430\\u0432\\u043d\\u0438 \\u0438\\u043d\\u0441\\u0442\\u0438\\u0442\\u0443\\u0446\\u0438\\u0438\\u201d [\\u201cThe political bargaining in the Assembly blocks the functioning of several state institutions\\u201d], Investigative Reporting Lab Macedonia, 17 October 2019, .\",\"\\\"In the past, he has worked as Brussels correspondent for Balkan Insight, while also serving as a regular contributor for BiH on topics ranging from NATO and EU integrations to war crimes processes and peace-building efforts.\",\"\\\"Buhovski, Anita, \\u201c\\u0418\\u0417\\u0413\\u041b\\u0410\\u0421\\u0410\\u041d \\u0417\\u0410\\u041a\\u041e\\u041d\\u041e\\u0422 \\u0417\\u0410 \\u0410\\u041d\\u0422\\u0418\\u0414\\u0418\\u0421\\u041a\\u0420\\u0418\\u041c\\u0418\\u041d\\u0410\\u0426\\u0418\\u0408\\u0410\\u201d [The law on anti-discrimination is adopted\\u201d], TV24, 11 May 2019, .\",\"\\\"Recica, Vlora, Aleksandra Jovevska Gjorgjevikj and Sara Janeska, \\u201c\\u0420\\u0435\\u0437\\u0443\\u043b\\u0442\\u0430\\u0442\\u0438 \\u043e\\u0434 \\u0442\\u0435\\u0440\\u0435\\u043d\\u0441\\u043a\\u0430\\u0442\\u0430 \\u0430\\u043d\\u043a\\u0435\\u0442\\u0430 \\u0437\\u0430 \\u043f\\u0435\\u0440\\u0446\\u0435\\u043f\\u0446\\u0438\\u0438\\u0442\\u0435 \\u043d\\u0430 \\u0433\\u0440\\u0430\\u0453\\u0430\\u043d\\u0438\\u0442\\u0435 \\u0437\\u0430 \\u0440\\u0430\\u0431\\u043e\\u0442\\u0430\\u0442\\u0430 \\u043d\\u0430 \\u0421\\u043e\\u0431\\u0440\\u0430\\u043d\\u0438\\u0435\\u0442\\u043e (12-26 \\u043c\\u0430\\u0458 2019)\\u201d [\\u201cResults from the field survey on the perceptions of citizens on the work of the Assembly (12-26 May 2019)\\u201d], Institute for Democracy \\u201cSocietas Civilis\\u201d (IDSCS), p. 14, .\",\"\\\"Approximately 1.5 million buildings in Serbia are not registered.\",\"\\\"Dimeska, Frosina, \\u201c\\u041e\\u0441\\u0443\\u0434\\u0435\\u043d\\u0438\\u0446\\u0438 \\u0438 \\u043e\\u0431\\u0432\\u0438\\u043d\\u0435\\u0442\\u0438 \\u0431\\u0435\\u0433\\u0430\\u0430\\u0442 \\u043e\\u0434 \\u0434\\u0440\\u0436\\u0430\\u0432\\u0430\\u0442\\u0430, \\u043e\\u0434\\u0433\\u043e\\u0432\\u043e\\u0440\\u043d\\u043e\\u0441\\u0442 \\u043d\\u0435\\u043c\\u0430\\u201d [\\u201cConvicts and suspects flee from the country, there is no responsibility\\u201d], Radio Slobodna Evropa, 30 October 2019, .\",\"\\\"While anti-LGBT+ violence has been significantly underreported in Bulgaria, and largely goes unaddressed by authorities, there were no registered homophobia-motivated hate crimes in Bulgaria in 2022, and LGBT+ groups note some slowly increasing tolerance toward LGBT+ people.\",\"\\\"Oligarch Alisher Usmanov sued, claiming that Navalny\\u2019s charge that he had given Medvedev a $50 million mansion as a gift was not true.\",\"\\\"Jakov Marusic, Sinisa, \\u201cPresident Ivanov Refuses to Use New Macedonia Name\\u201d, Balkan Insight, 12 March 2019, .\",\"\\\"Stojanchova, Pelagija, \\u201c\\u041c\\u0430\\u043b\\u043a\\u0443 \\u043f\\u0435\\u0440\\u0441\\u043e\\u043d\\u0430\\u043b \\u0438 \\u043f\\u0430\\u0440\\u0438, \\u043c\\u043d\\u043e\\u0433\\u0443 \\u043f\\u0440\\u0435\\u0434\\u043c\\u0435\\u0442\\u0438 \\u0437\\u0430 \\u043a\\u043e\\u0440\\u0443\\u043f\\u0446\\u0438\\u0458\\u0430\\u201d [\\u201cLittle staff and money, a lot of corruption cases\\u201d], 23 July 2019, Radio Slobodna Evropa, .\",\"\\\"Blazevska, Katerina, \\u201cHow Pendarovski Got Second Shot at North Macedonia Presidency\\u201d, Balkan Insight, 5 March 2019, .\",\"\\\"Avdo Avdi\\u0107, \\u201cHJPC president caught in corruption: Milan Tegeltija traded criminal proceedings\\u201d (\\u201cPREDSJEDNIK VSTV-A UHVA\\u0106EN U KORUPCIJI: Milan Tegeltija trgovao krivi\\u010dnim istragama!\\u201d), \\u017durnal, May 21, 2019,  \\\"\\\"Video allegedly shows Bosnia\\u2019s top judicial official being bribed, he denies it\\\"\\\", N1 Sarajevo English,   Amer Jahi\\u0107, \\\"\\\"Disciplinary commision rejected complaint against Milan Tegeltija on appeal\\\"\\\" (\\\"\\\"Drugostepena disciplinska komisija potvrdila odbacivanje tu\\u017ebe protiv Milana Tegeltije\\\"\\\"), Voice of America, June 14, 2019,  Mladen Laki\\u0107, \\u201cBosnian Serb Leaders\\u2019 Declaration Defies Court\\u2019s \\u2018Statehood Day\\u2019 Ban, Balkan Insight, April 2, 2019,  Goran Laji\\u0107, \\u201cDeath Penalty abolished in the Republika Srpska\\u201d (\\u201cUkinuta smrtna kazna u Republici Srpskoj\\u201d), Nezavisne novine, October 4, 2019,  \\u201cGodi\\u0161nji izvje\\u0161taj o rezultatima aktivnosti institucije Ombudsmena za ljudska prava BiH za 2018. godinu [Annual Report on the Results of Activities of the Ombudsman Institution for Human Rights of BiH for 2018],\\u201d Ombudsman Institution for Human Rights of BiH, pages 74-75, March 2019,  \\u201cMP BiH: Prvi zatvorenici u dr\\u017eavnom zatvoru sredinom 2020 godine?\\u201d (\\u201cMinistry of Justice of BiH: First Prisoners in State Prison by Mid-2020?\\u201d), N1, August 6, 2019,  Mladen Laki\\u0107, Albina Sorgu\\u010d, \\u201cEuropean Court tells Bosnia to Remove Illegal Church\\u201d, Balkan Insight, October 1, 2019,\",\"\\\"He holds a PhD in political science from the University of Milan, Italy.\",\"\\\"Tha\\u00e7i resigned from his position and the four were being held in detention in The Hague at year\\u2019s end.\",\"\\\"Jakov Marusic, Sinisa, \\u201cBlerim Reka \\u2013 Underdog in North Macedonia\\u2019s Presidential Race\\u201d, Balkan Insight, 26 March 2019, .\",\"\\\"Author: Jovan Bliznakovski is an assistant in political science at the Institute for Sociological, Political, and Juridical Research (ISPJR), Ss.\",\"\\\"Jakov Marusic, Sinisa, \\u201cNew North Macedonia Probe Grills Top Government Official\\u201d, Balkan Insight, 10 October 2019, .\",\"\\\"Pajaziti, Naser, \\u201cVetting of Judges and Prosecutors in North Macedonia\\u201d, Independent Balkan News Agency, 25 November 2019, .\",\"\\\"People who contracted COVID-19 in northern Kosovo were initially provided medical treatment by the Serbian government.\",\"\\\"The major event of 2019 took place in January, when Parliament adopted constitutional amendments stipulated in the agreement with Greece, and thus changed the name of the country from \\u201cRepublic of Macedonia\\u201d to \\u201cRepublic of North Macedonia.\\u201d  This achievement prompted the opening of the NATO accession process in early February.\",\"\\\"Kosovars have also been hindered from traveling to Bosnia and Herzegovina by the need for visas in recent years.\",\"\\\"The mandates of Kosovo\\u2019s four main anticorruption bodies overlap, and they have difficulty coordinating their efforts.\",\"\\\"Jakov Marusic, Sinisa, \\u201cNATO Signs Accession Protocol With Macedonia\\u201d, Balkan Insight, 6 February 2019, .\",\"\\\"Ognenovska, Simona and Jasmina Chaushoska, \\u201c\\u0418\\u0437\\u0432\\u0435\\u0448\\u0442\\u0430\\u0458 \\u0437\\u0430 \\u043e\\u0432\\u043e\\u0437\\u043c\\u043e\\u0436\\u0443\\u0432\\u0430\\u0447\\u043a\\u0430 \\u043e\\u043a\\u043e\\u043b\\u0438\\u043d\\u0430 \\u0437\\u0430 \\u0440\\u0430\\u0437\\u0432\\u043e\\u0458 \\u043d\\u0430 \\u0433\\u0440\\u0430\\u0453\\u0430\\u043d\\u0441\\u043a\\u043e\\u0442\\u043e \\u043e\\u043f\\u0448\\u0442\\u0435\\u0441\\u0442\\u0432\\u043e \\u0437\\u0430 2018 \\u0433\\u043e\\u0434\\u0438\\u043d\\u0430\\u201d [\\u201cReport on the enabling environment for the development of the civil society in 2018\\u201d], Macedonian Center for International Cooperation (MCIC), 2019, p. 9, .\",\"\\\"Jakov Marusic, Sinisa, \\u201cNorth Macedonia Checks Prosecutor in Extortion Case\\u201d, Balkan Insight, 16 July 2019, ; \\u201cCourt orders a 30 day detention and Katica Janeva was taken to the prison in Shutka\\u201d, Meta, 22 August 2019, .\",\"\\\"At BHRT (National Radio\\u2013Television of Bosnia and Herzegovina) he served as Head of New Media; at Analiziraj, he was Senior Contributor on media ethics, as well as disinformation debunking and fact-checking.\",\"\\\"See: \\u201cNorth Macedonia 2019 Report\\u201d, European Commission SWD(2019) 218 final, 29 May 2019, p. 11, .\",\"\\\"In 2014\\u201316, he served as program director of the Institute for Democracy \\u201cSocietas Civilis\\u201d Skopje (IDSCS), the leading Macedonian policy think tank.\",null],\"marker\":{\"opacity\":0.5,\"size\":5},\"mode\":\"markers+text\",\"name\":\"0_balkan insight_macedonia_balkan\",\"text\":[\"\",\"\",\"\",\"\",\"\",\"\",\"\",\"\",\"\",\"\",\"\",\"\",\"\",\"\",\"\",\"\",\"\",\"\",\"\",\"\",\"\",\"\",\"\",\"\",\"\",\"\",\"\",\"\",\"\",\"\",\"\",\"\",\"\",\"\",\"\",\"\",\"\",\"\",\"\",\"\",\"\",\"\",\"\",\"\",\"\",\"\",\"\",\"\",\"\",\"\",\"\",\"\",\"\",\"\",\"\",\"0_balkan insight_macedonia_balkan\"],\"textfont\":{\"size\":12},\"x\":[6.847208499908447,7.093926906585693,6.947537422180176,6.997996807098389,6.973624229431152,7.356143951416016,7.346498966217041,6.993573188781738,7.325247764587402,7.3751702308654785,7.216022968292236,6.933461666107178,7.378874778747559,7.2804155349731445,7.072702407836914,7.287537097930908,7.1771345138549805,7.189233303070068,6.934460639953613,7.343910217285156,7.001351833343506,7.071694374084473,6.82689094543457,7.228725910186768,6.8612542152404785,6.916439533233643,7.140796661376953,7.09503173828125,6.9651947021484375,6.651651859283447,6.661784648895264,7.12930965423584,6.840386867523193,7.306185245513916,6.879266262054443,7.379349231719971,6.822035789489746,7.287827014923096,7.1168670654296875,6.834353923797607,7.170257091522217,7.22859525680542,6.5056071281433105,7.191327095031738,7.286486625671387,7.357297897338867,7.4643096923828125,7.354996204376221,7.402971267700195,7.38299560546875,6.7728376388549805,7.29623556137085,6.9581708908081055,7.144312381744385,6.925370216369629,7.10052490234375],\"y\":[5.992474555969238,6.337160587310791,6.30971622467041,7.024271488189697,6.264638900756836,6.956920623779297,6.872880935668945,6.70060920715332,6.8670125007629395,6.687496662139893,7.067598342895508,6.319723606109619,6.458880424499512,6.9062299728393555,6.54253625869751,6.881618976593018,6.761157512664795,7.001478672027588,7.432134628295898,7.047826290130615,7.369216442108154,7.38874626159668,6.534671783447266,6.102437496185303,6.266788005828857,6.102624416351318,7.321496486663818,6.622347354888916,7.399272918701172,6.48439884185791,6.488619327545166,6.371725082397461,6.039421558380127,7.067973613739014,5.995677947998047,6.953683376312256,6.130270957946777,7.194023132324219,6.295024871826172,7.075041770935059,5.973852157592773,7.144176959991455,6.471388339996338,6.8853983879089355,6.935355186462402,6.421106815338135,7.101346969604492,6.510007858276367,6.4769110679626465,7.076390743255615,6.561614513397217,6.565305709838867,7.387835502624512,6.9069414138793945,7.009413719177246,6.710234642028809],\"type\":\"scattergl\"},{\"hoverinfo\":\"text\",\"hovertext\":[\"council for public administration (2020), a stronger rule of law \\u2013 connecting and protecting in a pluralistic society.\",\"council of europe: committee of ministers (2017), recommendation of the committee of ministers of the council of europe cm\\u002frec(2017)14 on the legal status of non-governmental organisations in europe.\",\"the execution of ecthr judgement is under enhanced supervision by the council of europe\\u2019s committee of ministers .\",\"european network of councils for the judiciary (2020), contribution from the european network of council for the judiciary for the stakeholder consultation for the 2020 rule of law report.\",\"house for whistleblowers (2019), annual report 2019 house for whistleblowers.\",\"council of europe: committee of ministers (2019), resolution cm\\u002fresdh(2016)358 of the committee of ministers on excessive length of criminal and civil proceedings and lack of effective remedies.\",\"its president is nominated by the president of the republic, and three members are nominated by each of the two parliamentary chambers.\",\"council of europe: committee of ministers (2010), recommendation cm\\u002frec(2010)12 of the committee of ministers to member states on judges: independence, efficiency and responsibilities.\",\"council of europe: venice commission (2017), slovakia \\u2013 opinion on questions related to the appointment of judges of the constitutional court (cdl-ad(2017)001-e).\",\"cncdh (2020), opinion on the state of health emergency and the rule of law.\",\"netherlands committee of jurists for human rights (2020), letter on concerns about corona measures in criminal justice.\",\"the seven members of the csa are nominated by decree for a non-renewable, six-year mandate.\",\"defender of rights (2020), letter to the presidents of the senate and the national assembly on the law extending the state of health emergency.\",\"amnesty international ireland, front line defenders, the wheel, transparency international ireland, uplift and the irish council for civil liberties (2020), submission to the un special rapporteur on the rights to freedom of peaceful assembly and of association, mr cl\\u00e9ment nyaletsossi voule.\",\"in february 2020, the minister asked the council of state for advice in this regard.\",\"transparency international slovakia (2018), let\\u2019s judge the judges \\u2013 how slovakia opened its judiciary to unprecedented public control.\",\"the sca also encouraged the cncdh to continue to strengthen its cooperation with other national human rights entities such as the defender of rights.\",\"constitutional council, decision of 11 may 2020, on the law extending the state of health emergency and supplementing its provisions, decision no.\",\"providing adequate resources for the judicial council, as well as the state prosecutorial council, is an important condition for the independent and effective functioning of these self-governance bodies.\",\"derogations from this right exist for reasons of national security.\",\"un global alliance of national human rights institutions (2015), sub-committee on accreditation (sca), accreditation report \\u2013 november 2015.\",\"council of state, judgments of 6 july 2020, on the obligation to obtain an authorization before organizing an event, decision nos.\",\"un human rights committee (2019), international covenant on civil and political rights: concluding observations on the fifth periodic report of the netherlands.\",\"council of europe: venice commission (2010), report on the independence of the judicial system part i: the independence of judges adopted by the venice commission at its 82nd plenary session (cdl-ad(2010)004-e).\",\"president of the council for the judiciary (2018), letter to the minister for legal protection on a rest of the digitalisation of justice.\",\"global alliance of national human rights institutions (ganhri): sub-committee on accreditation (sca) (2019), ganhri sub-committee on accreditation report \\u2013 march 2019.\",\"consultative council of european judges (2016), ccje opinion no.19: the role of court presidents.\",\"council of europe: committee of ministers (2000), recommendation rec(2000)19 of the committee of ministers to member states on the role of public prosecution in the criminal justice system.\",\"european network of councils for the judiciary and council of bars and law societies of europe (2020), survey among lawyers on the independence of judges 2018-2019. .\",\"national assembly (2019), a new enthusiasm for parliamentary ethics: annual report submitted to the president and to the office of the national assembly on 14 and 30 january 2019, in accordance with article 80-3 of the rules of the national assembly.\",\"the ganhri sub-committee on accreditation (sca) encouraged the cncdh to continue to broaden its activities in relation to its protection mandate, including advocating for legislative amendments to make this mandate explicit.\",\"council of europe: committee of ministers (2010), recommendation cm\\u002frec(2010)12 of the committee of ministers to member states on judges: independence, efficiency and responsibilities.\",\"council of europe: committee of ministers (2010), recommendation cm\\u002frec(2010)12 of the committee of ministers to member states on judges: independence, efficiency and responsibilities.\",\"osce-odihr (2019) opinion on the draft amendments to the act on establishment of the slovak national centre for human rights.\",\"council of state (2019), annual report 2019.\",\"european network of councils for the judiciary (2013-2014), development of minimum judicial standards iv: allocation of cases.\",\"council of europe, recommendation cm\\u002frec(2010)12 of the committee of ministers to member states on judges: independence, efficiency and responsibilities.\",\"judicial council (13 november 2019, 23 march 2020, 23 june 2020), communiques concerning resignation of its members.\",\"judicial council (23 april 2020, 26 april 2020, 20 may 2020), communiques concerning appointments of its members.\",\"public defender of rights (2020) report on the activities of the public defender of rights for 2019.\",\"president of the magistrates union katia dubreuil (2019), letter of 3 december 2019 addressed to the minister of justice.\",\"i-connect and the clough center for the study of constitutional democracy at boston college (2019), 2018 global review of constitutional law.\",\"council of europe: venice commission and osce office for democratic institutions and human rights (2014), joint guidelines on freedom of association.\",\"council of state, judgment of 29 may 2019, nitrogen action programme, ecli:nl:rvs:2019:1604.\",\"constitutional council, decision of 3 july 2020, m. sofiane a. and others, decision no.\",\"high council for the judiciary (2019), compendium on the judiciary\\u2019s ethical obligations.\",\"cepej (2017), efficiency and quality of the slovak judicial system.\",\"council of state, advisory opinion w04.20.0139\\u002fi\\u002fvo of 25 may 2020.\",null],\"marker\":{\"opacity\":0.5,\"size\":5},\"mode\":\"markers+text\",\"name\":\"1_europe committee_judicial council_councils\",\"text\":[\"\",\"\",\"\",\"\",\"\",\"\",\"\",\"\",\"\",\"\",\"\",\"\",\"\",\"\",\"\",\"\",\"\",\"\",\"\",\"\",\"\",\"\",\"\",\"\",\"\",\"\",\"\",\"\",\"\",\"\",\"\",\"\",\"\",\"\",\"\",\"\",\"\",\"\",\"\",\"\",\"\",\"\",\"\",\"\",\"\",\"\",\"\",\"\",\"1_europe committee_judicial council_councils\"],\"textfont\":{\"size\":12},\"x\":[5.7605977058410645,4.367204666137695,4.223897457122803,4.952701568603516,6.016595840454102,4.408364295959473,4.484681129455566,4.230119228363037,4.469578742980957,5.6998467445373535,5.399115085601807,5.669525623321533,5.559671401977539,5.849974632263184,5.846500396728516,4.551620006561279,5.711581707000732,5.713072776794434,4.194460391998291,5.611600875854492,5.7391037940979,5.720397472381592,5.583496570587158,4.200243949890137,5.2687907218933105,5.724642753601074,4.496777534484863,4.317174434661865,4.548429012298584,5.940792560577393,5.722014904022217,4.2193779945373535,4.225532531738281,6.544689178466797,5.881195068359375,4.753753662109375,4.2115020751953125,4.9052910804748535,4.815289497375488,5.5753350257873535,5.2694807052612305,5.731870651245117,5.264552116394043,5.712680339813232,5.684792995452881,5.082296371459961,4.614887237548828,5.755161762237549,5.171463966369629],\"y\":[1.6177539825439453,1.5439029932022095,1.3639545440673828,1.3426693677902222,1.2863519191741943,1.6888703107833862,1.1726552248001099,1.3359698057174683,1.098991870880127,1.0998117923736572,0.6726445555686951,1.3625701665878296,1.0153323411941528,0.3269025683403015,1.7642329931259155,0.8785663843154907,0.7083337306976318,1.3953114748001099,1.3281258344650269,0.6347750425338745,0.6483267545700073,1.5233532190322876,0.47888827323913574,1.2832841873168945,0.9871211647987366,0.7164871096611023,1.100791096687317,1.562150478363037,1.0991865396499634,1.1847319602966309,0.7679454684257507,1.3331114053726196,1.3882153034210205,0.3558860123157501,1.4701594114303589,0.9871858358383179,1.3337987661361694,2.060246706008911,2.1282050609588623,1.0217045545578003,0.9972856044769287,1.5445066690444946,0.35667654871940613,1.4751098155975342,1.5439692735671997,1.1356991529464722,0.7677009105682373,1.6225990056991577,1.1773344278335571],\"type\":\"scattergl\"},{\"hoverinfo\":\"text\",\"hovertext\":[\"\\\"Corruption remains a problem in Hungary, and instances of high-level government corruption have not been properly investigated.\",\"\\\"For example, the prosecutor\\u2019s office has been reluctant to investigate long-standing allegations that the government misused development funds provided by the EU.\",\"following completion of corruption investigations by an garda s\\u00edoch\\u00e1na, a file is submitted to the office of the director of public prosecutions, unless the investigation was discontinued due to insufficient evidence.\",\"\\\"Although the number of arrests and prosecutions for corruption has risen in recent years, high-profile convictions are very rare.\",\"the government announced in its programme adopted in june 2020 to tackle corruption and follow-up the review and increase the effectiveness of anticorruption measures.\",\"\\\"Corruption related to state contracts remains a concern; a number of former officials, including former cabinet ministers, were charged or found guilty during 2017 for contract-related bribery schemes.\",\"transparency international, 2019 corruption perception index.\",\"its annual plan for 2020 lists corruption as a priority topic and highlights the establishment of a specific project, aiming to strengthen the prevention and detection of corruption by banks.\",\"\\\"The work of the ACA is undermined in part by the ambiguous division of responsibilities among other entities tasked with combating corruption.\",\"the anti-corruption unit acts as a centre of excellence for the investigation, prevention and disruption of bribery and corruption, and in this regard the unit provides assistance to other national and local units, when required.\",\"\\\"Corruption is pervasive.\",\"the competences and responsibilities for the development and implementation of anti-corruption policies as well as for preventing, detecting, investigating and prosecuting corruption are shared between several authorities in ireland.\",\"in this respect, a 2017 study shows that more could be done to fight corruption and other integrity violations within law enforcement authorities.\",\"it also includes extensions to the presumptions of corruption, which had been included in the prevention of corruption amendment act 2001.\",\"the unit was established to act as organisational lead for the investigation of corruption and bribery.\",\"the government announced in its recent programme to tackle corruption as a result of a comprehensive review of the anti-corruption framework and increase the effectiveness of anti-corruption measures.\",\"\\\"Armenia does not have effective safeguards against corruption.\",\"the national financial prosecutor has established a good record on securing convictions in high-level cases of corruption and embezzlement of public funds.\",\"its operational scope includes prevention, detection, disruption and investigation of cases of bribery and corruption.\",\"bribery offences are criminalised by the criminal code.\",\"corruption investigations conducted by the gnecb are supported by relevant national operational units, such as the financial intelligence unit and, regarding the seizure of assets deemed to be the proceeds of crime, the criminal assets bureau, which is an independent multi-agency body.\",\"in particular the capacity to find the first indications of corruption is hampered by the lack of resources and specific expertise .\",\"this is a good practice, particularly given that stakeholders indicate that the process of decentralisation should be carefully assessed in light of possible risks of corruption.\",\"while the state prosecution increased its efficiency, challenges remain in effectively prosecuting economic and financial crime.\",\"the legal and institutional framework to fight corruption is in place and there are several initiatives underway to further strengthen the framework to detect, investigate and prosecute corruption, in particular in relation to the financial sector.\",\"the unit proactively seeks out cases and gathers bribery and corruption related intelligence.\",\"\\\"Adherence to some mitigation measures, like the use of face masks, is reportedly inconsistent in prisons.\",\"\\\"In December 2019, polling firm Mask\\u00edna found that 72 percent of Icelanders viewed their country\\u2019s political system as corrupt.\",\"the national financial prosecutor is competent for the investigation of high level corruption cases.\",\"in relation to the overall resources dedicated to fighting corruption, the anti-corruption unit within gnecb is currently operating at limited capacity, with only three out of six positions filled .\",\"all forms of active, passive, direct and indirect corruption are criminalised.\",\"the fight against corruption has been identified as one of the key priorities in the political programme of the new government, which announced a range of reforms in this area.\",\"\\\"Official corruption remains a problem in Greece, and institutions tasked with combating it lack the resources to operate effectively.\",\"the special prosecution office has raised concerns about its resources.\",\"in december 2019, the office of the government introduced a dedicated software tool to increase the effectiveness of corruption risk management.\",\"\\\"Following the 2017 presidential election, the OSCE reported that the Anti-Corruption Agency (ACA) had decreased the resources dedicated to proactively monitoring campaign funds and did not thoroughly investigate dubious donations.\",\"the fight against corruption has been identified as one of the key priorities in the political programme of the new government, which announced a range of reforms to improve the situation.\",\"prevention of corruption and promotion of integrity measures are in place.\",\"the review group will also look at possible ways to encourage the alternative methods of dispute resolution, which could improve the incentives to use alternative dispute resolution methods for which ireland currently performs very low .\",\"law enforcement authorities enjoy a good level of trust with regard to the fight against corruption.\",\"a comprehensive review of ireland\\u2019s anti-corruption framework is currently under way.\",\"the legal framework for fighting corruption is largely in place.\",\"\\\"Organized crime is still an issue.\",\"authorities involved in the fight against corruption include the anti-corruption agency, high authority for the transparency of public life and the central office for combating corruption and tax offences.\",null],\"marker\":{\"opacity\":0.5,\"size\":5},\"mode\":\"markers+text\",\"name\":\"2_anti corruption_against corruption_corruption as\",\"text\":[\"\",\"\",\"\",\"\",\"\",\"\",\"\",\"\",\"\",\"\",\"\",\"\",\"\",\"\",\"\",\"\",\"\",\"\",\"\",\"\",\"\",\"\",\"\",\"\",\"\",\"\",\"\",\"\",\"\",\"\",\"\",\"\",\"\",\"\",\"\",\"\",\"\",\"\",\"\",\"\",\"\",\"\",\"\",\"\",\"2_anti corruption_against corruption_corruption as\"],\"textfont\":{\"size\":12},\"x\":[8.499895095825195,8.27096939086914,9.149039268493652,8.860703468322754,8.73129940032959,8.59643268585205,9.52832317352295,8.721494674682617,8.36762809753418,9.056443214416504,8.717729568481445,8.88773250579834,8.63003921508789,8.504759788513184,9.067484855651855,8.789214134216309,8.555895805358887,9.005914688110352,8.939919471740723,9.105122566223145,9.17642593383789,8.682780265808105,8.631038665771484,8.884001731872559,8.79185676574707,9.113788604736328,8.78039836883545,9.40022087097168,9.111504554748535,9.194525718688965,9.000017166137695,8.727928161621094,8.516145706176758,8.60818862915039,8.752917289733887,8.26944637298584,8.75411319732666,8.552833557128906,8.95309829711914,8.70159912109375,8.957232475280762,8.74411678314209,8.674038887023926,8.74829387664795,8.811649322509766],\"y\":[3.9450297355651855,3.725022554397583,2.950788736343384,3.7393720149993896,2.6286442279815674,3.8493242263793945,3.4641048908233643,2.6151444911956787,3.2003300189971924,3.0336480140686035,3.7260897159576416,2.6689484119415283,2.9347481727600098,2.968449354171753,3.1280887126922607,2.670956611633301,3.959777355194092,3.4895405769348145,3.072382926940918,3.708988666534424,3.0267186164855957,3.7770607471466064,2.9393868446350098,3.568190336227417,2.8096930980682373,3.107684373855591,3.651297092437744,3.9293441772460938,3.2529914379119873,3.030266761779785,3.675971269607544,2.7103500366210938,3.9857141971588135,3.5651803016662598,2.6728317737579346,3.409247636795044,2.712214469909668,2.9037389755249023,2.2521350383758545,2.899106502532959,2.3283450603485107,3.2800920009613037,3.8583197593688965,2.835574150085449,3.219564199447632],\"type\":\"scattergl\"},{\"hoverinfo\":\"text\",\"hovertext\":[\"\\\"Some former KLA members have been convicted by other courts.\",\"\\\"In 2019, nearly 1,750 such attacks were reported.\",\"\\\"T\\u00f6nnies workers also risked COVID-19 infection; by June 2020, over 1,000 workers at a meat-processing plant in the city of Rheda-Wiedenbr\\u00fcck had tested positive.\",\"the so-called guillotine motions were used on both acts.\",\"\\\"The threat of terrorism decreased in 2018 with the weakening of the Islamic State (IS) militant group in neighboring Syria and Iraq  no large-scale terrorist attacks were reported during 2019 or 2020.\",\"\\\"In June, he was convicted of two counts of murder with terrorist intent, and eight counts of attempted murder with terrorist intent, and sentenced to life in prison.\",\"\\\"Azerbaijanis were affected by armed conflict with Armenia during 2020.\",\"\\\"Cameraman Aleksandre Lashkarava, who was one of the injured, died later that month.\",\"\\\"Terrorism by radical Islamist groups remains a threat.\",\"\\\"Several mass-casualty incidents were reported in 2020.\",\"\\\"The bill came in response to a 2017 attack in Turku in which an assailant killed two women and injured eight other people in a knife attack considered the country\\u2019s first-ever terrorist attack.\",\"\\\"Agnes Janson, \\u201ePostimees otsustas statistika avaldamisest loobuda\\u201c [Postimees decided to stop publishing statistics], Postimees, 3 June 2021,  Ragne K\\u00f5uts-Klemm, \\u201cL\\u00e4bipaistvuse k\\u00fcsimus\\u201d [A question of transparency], Sirp, 15 October 2021,  Urmo Soonvald, \\u201cDelfi sulgeb t\\u00e4nasest k\\u00f5ikide koroonalugude kommentaariumi\\u201d [Delfi is turning off commenting on all coronavirus-stories], Eesti P\\u00e4evaleht, 14 October 2021,  Elvin Heinla, \\u201cTeleauditooriumi \\u00fclevaade septembris 2021\\u201d [Overview of TV auditorium in September 2021], Kantar Emor, 12 October 2021,  ERR, \\u201cERR Russian-language channel often outstripping outside stations\\u201d, 19 April 2021,  Objektiiv, \\u201cAvasime venekeelse Objektiivi\\u201d [We opened a Russian-language Objetiiv], 23 September 2021,  Varro Vooglaid, \\u201cMida j\\u00e4reldada asjaolust\",\"\\\"There are an estimated 175,000 members of the group in Russia.\",\"\\\"Despite these efforts, Estonia topped the list of countries with high infection rates, due largely to the slow pace of vaccination.\",\"\\\"War and insurgencies are not a concern.\",\"\\\"In August 2017, a group of terrorists carried out two vehicular attacks on crowds in Catalonia, killing 16 people before being arrested or shot dead by police.\",\"\\\"In July, Azerbaijani and Armenian forces fought along the border, resulting in the deaths of four Azerbaijani soldiers.\",\"\\\"Piret Reiljan, \\u201eLife after COVID-19: Estonia\\u201c, in D. Donauskait\\u0117, M. Fridrihsone, M. Krancevi\\u010di\\u016bt\\u0117, A. Kr\\u016btaine, A. Lastovska, P. Reiljan, A. Tetarenko (eds) The Media After Covid: Finding strategies to survive and thrive, November 2020.\",\"\\\"In December, five people in the city of Trier were killed by an individual driving into a pedestrian zone, though no political motive was immediately identified.\",\"\\\"The two countries engaged in a full-scale conflict over control of Nagorno-Karabakh in late September, with civilian and military casualties reported on both sides.\",\"\\\"A criminal history of a party], Eesti Ekspress, 14 January 2021,  ERR, \\u201cCoalition withdraws marriage referendum bill from Riigikogu vote\\u201d, 13 January 2021,  Sten Hankewitz, \\u201cEstonia becomes the only country in the world led by women\\u201d, Estonian World, 26 January 2021,  Postimees, \\u201eJUHTKIRI \\u27e9 Raha peseb haavad\\u201c [OP-ED: Money heals the wounds], 14 January 2021,  ERR, \\u201cEstonia has Europe's highest 14-day coronavirus infection rate\\u201d, 17 March 2021,  Latvian Public Broadcasting, \\u201cBaltic states are now Europe's Covid-19 hotspot\\u201d, 14 October 2021,  BNS, \\u201cAuditor general: Covid-19 crisis management structure unclear\\u201d, 1 October 2021,  Indrek Kiisler, \\u201cKiik does not support Kallas' tougher coronavirus measures\\u201d, ERR, 15 October 2021,  ERR, \\u201cEesti 200 chair: Crisis management being paused for elections is criminal\\u201d, 21 October 2021,  ERR, \\u201cKiik: It is more responsible for me to continue in office than to resign\\u201d, 8 September 2021,  ERR, \\u201cSocial ministry secretary general to be removed from office\\u201d, 2 August 2021,  ERR, BNS, \\u201cHealth Board boss resigns\\u201d, 6 September 2021,  ERR, \\u201cRatings: Reform Party retains lead over EKRE\\u201d, 22 October 2021,  ERR, \\u201cElectricity prices to reach record levels again on Tuesday\\u201d, 14 September 2021,  Merilin P\\u00e4rli, \\u201c\\u00d5igusteadlane kritiseerib riigikogu passiivsust koroonaolukorras\\u201d [Legal scholar criticizes Riigikogu\\u2019s passiveness in the corona crisis], 28 August 2021,  Kersti Kaljulaid, \\u201cEestile on vaja Riigikogu kui teen\\u00e4itajat\\u201d [Estonia needs Riigikogu to lead the way], 13 September 2021,  ERR, BNS, \\u201cJustice chancellor: Riigikogu should debate coronavirus restrictions\\u201d, 17 September 2021,\",\"\\\"The biggest challenge for the Kallas government in 2021 was the COVID-19 crisis.\",\"the bai is comprised of nine members.\",\"\\\"Areas adjacent to Azerbaijan and Nagorno-Karabakh, an Armenian-majority territory that gained de facto independence from Azerbaijan following the breakup of the Soviet Union, remained tense in 2018, with a lingering risk of shelling and skirmishes across the line of contact.\",\"in 2019, there were two guillotine questions used out of a total of 53 acts\\u002fbills enacted that year.\",\"\\\"In a May report, the OHCHR found that at least 10,090 people, including over 2,700 civilians, had been killed, and nearly 24,000 injured, since the conflict\\u2019s outbreak in April 2014.\",\"the mpm 2020 therefore concludes that this represents the highest risk area for the country.\",\"\\\"In early December, the Azerbaijani government reported 2,783 soldiers died in the fighting, while at least 143 civilians on both sides were killed.\",\"\\\"The group had publicized its plans to peacefully disrupt Underground service.\",\"\\\"The ruling marks the first time a crime had legally been categorized as terrorism in Finland.\",\"\\\"The conflict ended in early November after a Russian-brokered cease-fire was agreed; under its terms, Azerbaijan would retain control of parts of Nagorno-Karabakh gained during the fighting, along with adjacent land held by Armenia.\",\"\\\"The conflict was marked by reported acts of mistreatment, desecration, and vandalism.\",\"\\\"Following the August 2017 attack in Turku, a team from the Safety Investigation Authority conducted a report on the attack, and how to prevent similar incidents from occurring.\",\"\\\"They included physical assaults, though most incidents involved aggressive rhetoric and other forms of pressure or intimidation.\",\"\\\"Jan\\u0161a demanded that charges be filed for what he characterized as death threats, though the state prosecution found no grounds to do so.\",\"\\\"Statistikaamet, \\u201cStatistika andmebaas\\u201d [Statistics database],  Katrin Uba, \\u201cProtestid ja \\u00abpolitseiriik\\u00bb Eestis\\u201d [Protests and \\u2018police state\\u2019 in Estonia], Postimees, 19 April 2021,  ERR, BNS, \\u201cCivic portal receives record number of petitions in 2021\\u201d, 11 August 2021,  Vabariigi Valitsus, \\u201cValitsus kinnitas sidusa Eesti arengukava\\u201d [The government approved the Cohesive Estonia Development Plan], 18 November 2021,  ERR, \\u201cGallery: Protesters on Toompea\\u201d, 11 April 2021,  ERR, \\u201cGallery: Protesters in Tallinn demonstrate against coronavirus restrictions\\u201d, 15 May 2021,  ERR, \\u201cGallery: Protesters rally against coronavirus restrictions in Tallinn\\u201d, 23 October 2021,  BNS, ERR, \\u201cEmergency care to be prioritized from Monday, planned treatment suspended\\u201d, 23 October 2021,  ERR, \\u201cCity councilor quits EKRE over Saturday's covid restrictions demonstration\\u201d, 25 October 2021,  ERR, \\u201cParty ratings: Protests likely behind EKRE record support levels\\u201d, 16 April 2021,  ERR, \\u201cGallery: Baltic way anniversary marked with human chain, car drive\\u201d, 24 August 2021,  Martin Laine, \\u201c\\u201eU nas jest organizator\\u201c \\u2013 Eesti \\u201evabaks s\\u00f5itmist\\u201c aitas importida Kremli-meelne liikumine\\u201d [\\u201eU nas jest organizator\\u201c \\u2013 the \\u201efree Estonia\\u201c event was imported by a Kremlin-minded movement], Eesti Ekspress, 7 April 2021,  Herman Kelomees, \\u201cKoroonaprotestide s\\u00f5pruskond: kremlimeelsed aktivistid, EKRE saadikud ja uhhuu-\\u00e4rikad\\u201d [Corona protesters: Kremlin-minded activists, EKRE MPs and woo-woo businessmen], Eesti P\\u00e4evaleht.\",\"\\\"According to the Workers\\u2019 Health and Work Safety Assembly (\\u0130S\\u0130GM), more than 2,400 workers died in workplace incidents in 2020, including at least 741 who died of COVID-19.\",\"\\\"In October, the city of Ganga was bombed, with one death reported.\",\"\\\"There have been no major terrorist attacks in Belgium since 2016, and in January 2018 the government lowered its terrorism threat level from three to two on a four-point scale, except in undisclosed high-risk areas.\",\"\\\"The National Audit Office, \\u201cThe five lessons learned from the coronavirus crisis\\u201d, 8 November 2021,  file:\\u002f\\u002f\\u002fC:\\u002fUsers\\u002fLiisa\\u002fDownloads\\u002fRVKS_Koroonakriisi_viis_%C3%B5ppetundi_08.11.2021_en_EL_F%20(1).pdf Estonian National Electoral Committee, \\u201eElection result\\u201c, 22 October 2021,  Estonian National Electoral Committee, \\u201eElection result, Types of mandates\\u201c, 19 October 2021,  ERR, \\u201eSurvey: K\\u00f5lvart most popular candidate for mayor of Tallinn\\u201c, 5 October 2021,  Estonian National Electoral Committee, \\u201eLocal elections 2021\\u201c,  \\u201cKohtuotsus\\u201d [Court decision], 15 July 2002,  \\u201cKohtuotsus\\u201d [Court decision], 19 April 2005,  ERR, \\u201eNorstati reitingud: EKRE t\\u00f5usis k\\u00f5ige populaarsemaks erakonnaks\\u201c [Norstat ratings: EKRE became the most popular party], 29 September 2021,\",null],\"marker\":{\"opacity\":0.5,\"size\":5},\"mode\":\"markers+text\",\"name\":\"3_estonia_2021_estonian\",\"text\":[\"\",\"\",\"\",\"\",\"\",\"\",\"\",\"\",\"\",\"\",\"\",\"\",\"\",\"\",\"\",\"\",\"\",\"\",\"\",\"\",\"\",\"\",\"\",\"\",\"\",\"\",\"\",\"\",\"\",\"\",\"\",\"\",\"\",\"\",\"\",\"\",\"\",\"\",\"\",\"\",\"3_estonia_2021_estonian\"],\"textfont\":{\"size\":12},\"x\":[6.383023262023926,5.251762390136719,5.4483323097229,5.560608863830566,5.095208644866943,5.84272575378418,4.9399542808532715,6.696504592895508,5.132381439208984,5.408796787261963,5.287975311279297,5.565218925476074,4.8186235427856445,5.551449298858643,5.113651275634766,5.236172676086426,4.930717945098877,5.547678470611572,5.278765678405762,4.951280117034912,5.564469337463379,5.707754135131836,4.669961929321289,4.921441078186035,5.510809898376465,5.2297210693359375,5.466989517211914,4.910640239715576,5.204095840454102,5.407167911529541,4.875402927398682,5.603755950927734,5.230036735534668,5.647354602813721,6.067831516265869,5.55980920791626,5.2729926109313965,5.255279064178467,5.118480682373047,5.5964765548706055,5.371532440185547],\"y\":[5.119161128997803,4.798397064208984,5.590642929077148,4.701686382293701,4.683485984802246,4.875566005706787,5.395689964294434,5.962178707122803,4.64961576461792,5.203516006469727,4.795549392700195,5.840602874755859,5.1493754386901855,5.840897083282471,4.610440254211426,4.8946332931518555,5.364997386932373,5.8378753662109375,4.9287190437316895,5.358508110046387,5.84904146194458,5.916459083557129,5.106645107269287,5.385721683502197,4.803201198577881,5.282533168792725,5.280649185180664,5.3554487228393555,4.708932876586914,4.62401819229126,5.438152313232422,4.633257865905762,4.846399784088135,4.6405029296875,4.860123157501221,5.848042964935303,5.3403706550598145,4.945265769958496,4.680856227874756,5.892134666442871,5.175982475280762],\"type\":\"scattergl\"},{\"hoverinfo\":\"text\",\"hovertext\":[\"european commission (2020), the eu justice scoreboard.\",\"european court of human rights, judgment of 15 june 2017, independent newspapers (ireland) limited v. ireland, application no.\",\"european court of human rights, judgment of 9 april 2015, tchokontio happi v. france, application no.\",\"\\\"In February, the European Commission (EC) launched infringement proceedings against Estonia, Finland, and Poland for \\u201cfailing to fully transpose the EU rules on strengthening the presumption of innocence and the right to be present at the trial in criminal proceedings.\\u201d  The EC found that these countries have only partially transposed the directive,  which is an important element of EU standards for fair trial.\",\"european commission (2013, 2014, 2015, 2016, 2017, 2018, 2019, 2020), the eu justice scoreboard.\",\"european commission (2020), a comparative analysis of non-discrimination law in europe 2019.\",\"european court of human rights, judgment of 10 september 2010, mcfarlane v ireland, application no.\",\"court of justice of the european union, pending case c-510\\u002f19, openbaar ministerie (faux en \\u00e9critures).\",\"court of justice of the european union, judgement of 19 november 2019, ak, joined cases c\\u2011585\\u002f18, c\\u2011624\\u002f18 and c\\u2011625\\u002f18.\",\"court of justice of the european union, c-619\\u002f18, commission v poland (ind\\u00e9pendance de la cour supr\\u00eame).\",\"european court of human rights, judgment of 6 november 2018, ramos nunes de carvalho e s\\u00e1 v. portugal, application no.\",\"european court of human rights, judgment of 22 december 2009, parlov-tkal\\u010di\\u0107 v croatia, application no.\",\"court of justice of the european union, c-282\\u002f12, commission v hungary.\",\"\\\"The bill came up after the European Court of Justice (ECJ) ruled in a theft case where the investigating authority had access to case data, which the ECJ found incompatible with EU law.\",\"court of justice of the european union, c-192\\u002f18, commission v poland (ind\\u00e9pendance des juridictions de droit commun).\",\"european commission (2020), eu justice scoreboard.\",\"council of the european union (2002), council framework decision of 13 june 2002 on the european arrest warrant and the surrender procedures between member states.\",\"\\\"The abolition of the death penalty is a prerequisite for EU membership.\",\"court of justice of the european union, judgement of 18 june 2020, european commission v hungary, c-78\\u002f18.\",\"court of justice of the european union, judgment of 19 november 2019, c\\u2011585\\u002f18, c\\u2011624\\u002f18 and c\\u2011625\\u002f18.\",\"paris court of appeals (2020), judicial public interest agreement (cjip) concluded between the national financial prosecutor and the company airbus se.\",\"court of justice of the european union, judgement of 25 july 2018, lm, c\\u2011216\\u002f18 ppu.\",\"high court, judgment of 13 may 2020, o\\u2019doherty & waters v. minister for health & attorney general.\",\"supreme court of the netherlands, judgment of 13 september 2019, urgenda, ecli:nl:hr:2019:2007.\",\"european commission (2013, 2014, 2015, 2016, 2017, 2018, 2019, 2020), the eu justice scoreboard.\",\"the moriarty tribunal into payments to politicians and the mahon tribunal into planning matters, ran for fourteen and sixteen years, respectively.\",\"\\\"According to the US State Department\\u2019s 2020 Trafficking in Persons Report, migrants from Eastern Europe, Africa, and Asia are targeted for sex trafficking and forced labor.\",\"\\\"A Warsaw court ordered him to pay a fine, but he contested the judgment, and the case was dismissed in September.\",\"court of justice of the european union, judgment of 9 july 2020, land hessen, c-272\\u002f19.\",\"court of cassation, judgment of 26 may 2020, no.\",\"tax justice network (2020), 2020 financial secrecy index.\",\"european commission (2018), equality bodies making a difference.\",\"european court of human rights, judgment of 5 may 2020, k\\u00f6vesi v. romania, application no.\",\"court of justice of the european union, judgment of 27 may 2019 in joined cases og, c-508\\u002f18 and pi, c-82\\u002f19 ppu.\",null],\"marker\":{\"opacity\":0.5,\"size\":5},\"mode\":\"markers+text\",\"name\":\"4_european court_eu justice_tribunal\",\"text\":[\"\",\"\",\"\",\"\",\"\",\"\",\"\",\"\",\"\",\"\",\"\",\"\",\"\",\"\",\"\",\"\",\"\",\"\",\"\",\"\",\"\",\"\",\"\",\"\",\"\",\"\",\"\",\"\",\"\",\"\",\"\",\"\",\"\",\"\",\"4_european court_eu justice_tribunal\"],\"textfont\":{\"size\":12},\"x\":[4.810378551483154,4.655182361602783,4.68567419052124,4.428964614868164,4.7594895362854,5.327153205871582,4.660746097564697,3.9925076961517334,4.007927417755127,4.021173477172852,4.696843147277832,4.639100074768066,4.122477054595947,6.277183532714844,4.13761568069458,4.775602340698242,4.598655700683594,4.666542053222656,4.108046531677246,4.025269031524658,3.9561970233917236,4.035019397735596,4.183806896209717,3.9884302616119385,4.772208213806152,4.779450416564941,5.340383529663086,4.055484294891357,3.940795421600342,3.943269729614258,4.844952583312988,5.370680332183838,4.68292236328125,3.9945435523986816,4.508373260498047],\"y\":[0.39213135838508606,-0.554681658744812,-0.5432204604148865,0.0003675214829854667,0.33812618255615234,0.2315673530101776,-0.5405197739601135,-0.45801812410354614,-0.4296479821205139,-0.33597832918167114,-0.5683978796005249,-0.5864060521125793,-0.25909826159477234,2.6225101947784424,-0.24901805818080902,0.3391532003879547,1.58256995677948,0.2636922299861908,-0.3040665090084076,-0.41584450006484985,-0.5005074143409729,-0.3931935131549835,-0.5274287462234497,-0.49429309368133545,0.3023524582386017,0.258561909198761,0.2723432779312134,-0.2745620608329773,-0.49789726734161377,-0.5175994634628296,0.39755067229270935,0.2699628174304962,-0.5219885110855103,-0.4592117965221405,-0.0635497123003006],\"type\":\"scattergl\"},{\"hoverinfo\":\"text\",\"hovertext\":[\"virtual country visit to the netherlands in the context of the 2020 rule of law report.\",\"oecd (2019), indicators of regulatory policy and governance europe 2019: france.\",\"european commission (2020), country report ireland, (swd(2020) 506 final).\",\"annex ii: country visit to ireland\",\"european commission (2019), country report ireland, (swd(2019) 1006 final).\",\"world economic forum (2013-2015), the global competitiveness report.\",\"world economic forum (2013-2020), the global competitiveness report.\",\"oecd (2015), the netherlands: follow-up to the phase 3 report & recommendations.\",\"european commission (2019), country report slovakia, swd(2019) 1024 final.\",\"council of the european union (2017), council recommendation of 11 july 2017 on the 2017 national reform programme of slovakia and delivering a council opinion on the 2017 stability programme of slovakia, oj c 261.\",\"slovak government, (2020) programov\\u00e9 vyhl\\u00e1senie vl\\u00e1dy slovenskej republiky na obdobie rokov 2020 \\u2013 2024.\",\"irish human rights and equality commission (2019), policy statement on the electoral acts and civil society space in ireland, january 2019.\",\"annex ii: country visit to the netherlands\",\"this issue has been addressed by a country-specific recommendation in the context of the 2019 european semester .\",\"annex ii: country visit to slovakia\",\"council of the european union (2016), council recommendation of 12 july 2016 on the 2016 national reform programme of slovakia and delivering a council opinion on the 2016 stability programme of slovakia, oj c 299.\",\"president of the republic (2020) report on the state of the republic.\",\"france has the institutional and legislative framework broadly in place.\",\"european commission (2018), country report ireland, (swd(2018) 206 final).\",\"supreme audit office of the slovak republic (2019), report audit activities, results in 2019.\",\"slovak government (2020), input from slovakia for the 2020 rule of law report.\",\"osce-odihr (2020), slovak republic \\u2013 parliamentary elections, odihr election assessment mission final report.\",\"oecd (2012) slovakia: phase 3 report on implementing the oecd anti-bribery convention in the slovak republic.\",\"irish government (2020), input from ireland for the 2020 rule of law report.\",\"council of the european union (2019), council recommendation of 9 july 2019 on the 2019 national reform programme of slovakia and delivering a council opinion on the 2019 stability programme of slovakia, oj c 301.\",\"annex ii: country visit to france\",\"european commission (2015), country report slovakia, swd(2015) 44\\u002f2 final.\",\"virtual country visit to ireland in the context of the 2020 rule of law report.\",\"french government (2020), input from france for the 2020 rule of law report.\",\"virtual country visit to slovakia in the context of the 2020 rule of law report.\",\"council of the european union (2014), council recommendation of 8 july 2014 on slovakia\\u2019s 2014 national reform programme and delivering a council opinion on the stability programme of slovakia, 2014, oj c 247.\",\"european commission (2020), country report slovakia, swd(2020) 524 final.\",\"virtual country visit to france in the context of the 2020 rule of law report.\",\"dutch government (2020), input from the netherlands to the 2020 rule of law report.\",null],\"marker\":{\"opacity\":0.5,\"size\":5},\"mode\":\"markers+text\",\"name\":\"5_virtual country_country visit_to slovakia\",\"text\":[\"\",\"\",\"\",\"\",\"\",\"\",\"\",\"\",\"\",\"\",\"\",\"\",\"\",\"\",\"\",\"\",\"\",\"\",\"\",\"\",\"\",\"\",\"\",\"\",\"\",\"\",\"\",\"\",\"\",\"\",\"\",\"\",\"\",\"\",\"5_virtual country_country visit_to slovakia\"],\"textfont\":{\"size\":12},\"x\":[6.928194999694824,6.836452960968018,6.48102331161499,6.895686149597168,6.551074981689453,7.158358097076416,7.159189224243164,7.138374328613281,6.850829124450684,7.137617111206055,7.005490303039551,5.957292556762695,6.908252239227295,7.405044078826904,6.94762659072876,7.163965225219727,6.773557186126709,6.911844253540039,6.498605251312256,6.966894626617432,6.935051918029785,6.837300777435303,7.361480712890625,6.5046539306640625,7.11419153213501,6.939643383026123,6.866665840148926,6.882039546966553,6.779821872711182,6.9407501220703125,7.178918838500977,6.863044738769531,6.9205403327941895,6.895946025848389,6.902806758880615],\"y\":[-0.17045912146568298,0.5819485783576965,0.15444613993167877,-0.3994821310043335,0.1632625311613083,0.5653477907180786,0.5638586282730103,0.8658851385116577,0.19111798703670502,0.2095649391412735,0.1895998865365982,0.24400067329406738,-0.4043597877025604,0.7647083401679993,-0.41044068336486816,0.24067051708698273,0.5172021985054016,0.5914239883422852,0.15571942925453186,0.17313744127750397,0.19385312497615814,0.22818610072135925,0.37990936636924744,0.20919932425022125,0.23961268365383148,-0.45536789298057556,0.22054935991764069,-0.2299892157316208,0.46031394600868225,-0.21793636679649353,0.20037463307380676,0.22540515661239624,-0.1756637692451477,0.8348029255867004,0.20295298099517822],\"type\":\"scattergl\"},{\"hoverinfo\":\"text\",\"hovertext\":[\"\\\"The federal authorities did not take significant action in response to the allegations.\",\"so far, this did not yield the expected results as impact assessments only apply to legislative measures initiated by the government .\",\"\\\"The new law will enter into force in January 2018, together with a law renouncing banking secrecy, which was passed in December 2016.\",\"the government has drafted a concept proposal for a revision of the constitution to implement this recommendation.\",\"\\\"The resolution, however, does not apply retroactively and includes major exemptions.\",\"\\\"This was particularly noticeable in the infrastructure sector, with the long-neglected Corridor 5C showing not a single meter of road built during the year.\",\"\\\"No further information was reported by the end of 2020.\",\"\\\"According to Network 23, only 7 out of 43 measures were fully implemented as of 2019, with work on 10 not even initiated by the end of the year.\",\"improvements have been announced as regards the process for preparing and enacting laws.\",\"\\\"Kjurchievska, Liljana, \\u201cLawmakers adopt draft law on amnesty over 27 April 2017 incidents in Parliament\\u201d, MIA, 18 December 2018, .\",\"policy briefings of the research service of the parliament include an appraisal of the ex-ante impact assessment prepared by the government.\",\"the new governement\\u2019s programme envisages to enact the bill.\",\"a new political parties act is being drafted in that regard.\",\"\\\"Due to both state-level and FBiH governments operating in so-called technical mandates, no major government investments were made in any sector in 2019.\",\"\\\"The bill was rejected by the Senate in September, but passed again by the Sejm in December, before being vetoed by Duda later that month.\",\"in addition, the government has indicated its intention to focus on strengthening compliance with existing legislation and to strengthen the analytical units .\",\"compliance with the act is generally good.\",\"\\\"The draft remained pending at the end of 2019.\",\"\\\"The implementation of these policies thus far has been slow.\",\"\\\"The EC Progress Report from 2019 demanded further efforts to prevent the politicization of the public service.\",\"before a bill is finalised, a general scheme of the bill may be published.\",\"in 2017, the government submitted to parliament a draft law on this matter, which lapsed with the end of the previous parliamentary term.\",\"\\\"Despite delays in late 2020, the ruling went into effect in January 2021.\",\"\\\"The government previously attempted to stop the work of the KSC through efforts to repeal or renegotiate the 2015 law establishing its existence.\",\"the law is expected to enter into force in autumn 2020.\",\"\\\"The amendments replaced a 1989 measure that many saw as an outdated regulation.\",\"\\\"Although the international community insists that this problem of exclusion must be resolved,  no progress was made in 2019.\",\"this would complement the on-going efforts to upgrade the available it tools and analytical capacity .\",\"\\\"The establishment of the community remained at an impasse at the end of 2020.\",\"an explanatory note attached to legislative proposals discusses constitutionality, and manuals exist for civil servants in this regard.\",\"discussions on this reform have been ongoing for a number of years.\",null],\"marker\":{\"opacity\":0.5,\"size\":5},\"mode\":\"markers+text\",\"name\":\"6_legislative_to legislative_draft law\",\"text\":[\"\",\"\",\"\",\"\",\"\",\"\",\"\",\"\",\"\",\"\",\"\",\"\",\"\",\"\",\"\",\"\",\"\",\"\",\"\",\"\",\"\",\"\",\"\",\"\",\"\",\"\",\"\",\"\",\"\",\"\",\"\",\"6_legislative_to legislative_draft law\"],\"textfont\":{\"size\":12},\"x\":[6.5738139152526855,6.425045490264893,6.850612640380859,6.757554054260254,6.382750988006592,6.260891437530518,6.246860504150391,6.204593658447266,7.400501728057861,6.748081684112549,7.336365222930908,6.928415298461914,6.763323783874512,6.588722229003906,6.3659443855285645,7.448427200317383,7.651641368865967,6.188809871673584,6.640480995178223,6.615004062652588,6.750309467315674,6.717370986938477,6.285995960235596,6.526543140411377,6.80454683303833,6.587985515594482,6.2920684814453125,7.340485572814941,6.137369632720947,6.694759368896484,6.599538326263428,6.681122779846191],\"y\":[3.3827383518218994,3.2520592212677,2.132021188735962,1.7687925100326538,3.053399085998535,3.2790756225585938,3.0730648040771484,3.2432892322540283,1.8406373262405396,1.896399974822998,2.272595167160034,2.0719757080078125,2.0091793537139893,3.1620032787323,2.673689603805542,2.331268548965454,2.454951286315918,2.905566692352295,2.3892626762390137,2.636348247528076,1.9123822450637817,1.9588696956634521,2.926396369934082,2.4663822650909424,2.0141751766204834,2.359724521636963,2.9709105491638184,1.907652735710144,2.870321750640869,1.701324701309204,2.349485397338867,2.4924497604370117],\"type\":\"scattergl\"},{\"hoverinfo\":\"text\",\"hovertext\":[\"european audiovisual observatory (2019), the independence of media regulatory authorities in europe.\",\"professor tarlach mcgonagle (2018), agreement of the steering group on aggression and violence against journalists.\",\"freedom house (2020), freedom in the world 2020.\",\"centre for media pluralism and media freedom (2020), 2020 media pluralism monitor.\",\"reporters without borders, country profile: france.\",\"centre for media pluralism and media freedom (2020), 2020 media pluralism monitor.\",\"centre for media pluralism and media freedom (2020), 2020 media pluralism monitor.\",\"dutch government, safeguarding press freedom.\",\"reporters without borders, ireland.\",\"dutch government, funds for the media.\",\"press freedom associations (2019), dutch senate: make a clear exemption for journalists.\",\"csa, information on publishers.\",\"european parliament resolution of 19 april 2018 on protection of investigative journalists in europe: the case of slovak journalist j\\u00e1n kuciak and martina ku\\u0161n\\u00edrov\\u00e1\",\"dutch media authority, media monitor: media concentration.\",\"european centre for press & media freedom (2020), mapping media freedom.\",\"council of europe: committee of ministers (2016), recommendation cm\\u002frec(2016)4 of the committee of ministers to member states on the protection of journalism and safety of journalists and other media actors.\",\"council of europe: committee of ministers (2018), recommendation cm\\u002frec(2018)1 of the committee of ministers to member states on media pluralism and transparency of media ownership.\",\"committee to protect journalist\\u2019s analysis (2019), mission journal: one year on, j\\u00e1n kuciak murder seen as turning point by slovak press.\",\"reporters without borders, slovakia.\",\"european centre for press & media freedom, mapping media freedom: the netherlands.\",\"council of europe (2020), platform to promote the protection of journalism and safety of journalists.\",\"council of europe: committee of ministers (2016), recommendation cm\\u002frec(2016)4 of the committee of ministers to member states on the protection of journalism and safety of journalists and other media actors.\",\"european audiovisual observatory (2019), iris special 2019-1: the independence of media regulatory authorities in europe.\",\"council of europe, council of europe, platform to promote the protection of journalism and safety of journalists \\u2013 slovakia.\",\"council of europe, platform to promote the protection of journalism and safety of journalists: france.\",\"council of europe, platform to promote the protection of journalism and safety of journalists \\u2013 the netherlands.\",\"council of europe: committee of ministers (2016), recommendation cm\\u002frec(2016)4 of the committee of ministers to member states on the protection of journalism and safety of journalists and other media actors.\",\"european parliament (2016), a comparative analysis of media freedom and pluralism in the eu member states.\",null],\"marker\":{\"opacity\":0.5,\"size\":5},\"mode\":\"markers+text\",\"name\":\"7_europe committee_of journalists_journalists\",\"text\":[\"\",\"\",\"\",\"\",\"\",\"\",\"\",\"\",\"\",\"\",\"\",\"\",\"\",\"\",\"\",\"\",\"\",\"\",\"\",\"\",\"\",\"\",\"\",\"\",\"\",\"\",\"\",\"\",\"7_europe committee_of journalists_journalists\"],\"textfont\":{\"size\":12},\"x\":[2.3964223861694336,2.297830581665039,2.0552430152893066,2.0613455772399902,2.5204718112945557,2.0743587017059326,2.0626132488250732,2.743934392929077,2.5253143310546875,2.7883708477020264,2.6973371505737305,2.629434585571289,2.411367177963257,2.649979829788208,2.158719062805176,2.303868532180786,2.3059237003326416,2.25911545753479,2.5189297199249268,2.5688040256500244,2.4302732944488525,2.308274507522583,2.383808135986328,2.390679359436035,2.4152653217315674,2.3992135524749756,2.3181803226470947,2.225067377090454,2.3892910480499268],\"y\":[2.5606467723846436,2.3069465160369873,3.1151630878448486,3.10634708404541,2.021329402923584,3.0903279781341553,3.1026275157928467,2.449371814727783,1.9962034225463867,2.467764377593994,2.4613401889801025,2.4331703186035156,2.2303550243377686,2.494605302810669,3.003237247467041,2.3537471294403076,2.385221242904663,2.2693583965301514,2.005066156387329,2.5987367630004883,2.442176103591919,2.352637767791748,2.5433661937713623,2.36130428314209,2.384509801864624,2.372143268585205,2.3632595539093018,2.9272422790527344,2.5070788860321045],\"type\":\"scattergl\"},{\"hoverinfo\":\"text\",\"hovertext\":[\"as regards businesses, 33% of companies consider corruption to be widespread (eu average: 63%).\",\"as regards businesses, 55% of companies consider corruption to be widespread (eu average 63%), and 51% of companies consider that corruption is a problem when doing business (eu average 37%).\",\"according to the surveys, 88% of companies consider corruption to be widespread (eu average 63%) and 53% of companies consider that corruption is a problem when doing business (eu average 37%).\",\"\\\"The gray economy of undeclared business activity has been estimated at over 20 percent of the country\\u2019s economy.\",\"furthermore, 53% of people find that there are enough successful prosecutions to deter people from corrupt practices (eu average 36%) while 38% of companies consider that people and businesses caught for bribing a senior official are appropriately punished (eu average 31%).\",\"similarly, only 12% of businesses consider corruption to be a problem when doing business in the netherlands (eu average 37%).\",\"26% of respondents find that there are enough successful prosecutions to deter people from corrupt practices (eu average of 36%) while 43% of companies consider that people and businesses caught for bribing a senior official are appropriately punished (eu average 31%).\",\"60% of the eurobarometer respondents have most trust in the police to deal with a corruption case.\",\"amongst french respondents, 70% perceive corruption widespread in their country (eu average 71%), while 10% of people feel personally affected by corruption in their daily lives.\",\"57% of dutch respondents to the eurobarometer survey indicate that they would not know where to report a case of corruption should they experience or witness it and 49% highlighted that they may decide not to report a case of corruption due to lack of adequate protection.\",\"35% of people find that there are enough successful prosecutions to deter people from corrupt practices (eu average: 36%) while 26% of companies believe that people and businesses caught for bribing a senior official are appropriately punished (eu average: 31%) .\",\"68% of irish respondents to the most recent eurobarometer survey think that corruption is widespread in their country (eu average: 71%), and 25% of people feel personally affected by corruption in their daily lives (eu average: 28%).\",\"while 47% of dutch respondents to the eurobarometer survey think that corruption is widespread in their country (eu average 71%), merely 4% of dutch respondents are of the view that corruption affects their daily lives (eu average 26%).\",\"results from a eurobarometer survey show that 32% respondents think that there is no protection for those who report corruption .\",\"\\\"According to an IDSCS survey in May, a large majority of respondents believe that MPs always defend their own personal interests (78 percent) or their party\\u2019s interests (72 percent).\",\"then, 37% of people find that there are enough successful prosecutions to deter people from corrupt practices (eu average 36%), while 13% of companies believe that people and businesses caught for bribing a senior official are appropriately punished (eu average 31%) .\",\"nevertheless, 50% of respondents to the eurobarometer are of the opinion that bribery and the abuse of power for personal gain are widespread among officials awarding public tenders and 55% are of the opinion that this is the case for officials issuing building permits, respectively.\",\"87% of respondents consider corruption widespread (eu average 71%) and 41% of people feel personally affected by corruption in their daily life (eu average 26%) .\",\"\\\"Companies perceive corruption risks and favoritism within public procurement as low, however \\u201cold boys\\u2019 networks,\\u201d notably at the local level, are still believed to hold influence over procurement decisions.\",\"while the overall level of perceived corruption is low, the financial sector is considered to be a high-risk sector.\",\"according to surveys, the netherlands is perceived as one of the least corrupt countries in the eu and the world.\",\"however, 34% of respondents think that bribery and abuse of power for personal gain are widespread among police and customs authorities.\",\"11% of companies consider that corruption is a problem when doing business (eu average: 37%).\",null],\"marker\":{\"opacity\":0.5,\"size\":5},\"mode\":\"markers+text\",\"name\":\"8_corrupt practices_consider corruption_corruption is\",\"text\":[\"\",\"\",\"\",\"\",\"\",\"\",\"\",\"\",\"\",\"\",\"\",\"\",\"\",\"\",\"\",\"\",\"\",\"\",\"\",\"\",\"\",\"\",\"\",\"8_corrupt practices_consider corruption_corruption is\"],\"textfont\":{\"size\":12},\"x\":[10.45226764678955,10.422863006591797,10.39028263092041,10.322890281677246,9.91249942779541,10.463772773742676,9.93995189666748,10.176156997680664,10.357319831848145,10.323080062866211,9.893720626831055,10.32482624053955,10.36970043182373,10.18976879119873,10.032285690307617,9.857280731201172,10.09843921661377,10.362202644348145,10.106158256530762,10.44301700592041,10.40472412109375,10.061525344848633,10.432578086853027,10.232056617736816],\"y\":[3.95023250579834,3.9589991569519043,4.013982772827148,3.7860755920410156,4.1595258712768555,3.9310545921325684,4.190108776092529,4.219152450561523,4.046985626220703,4.102130889892578,4.1834306716918945,4.063059329986572,4.021076679229736,4.221035957336426,4.345408916473389,4.106010437011719,4.289364337921143,4.063387870788574,4.353696346282959,3.926642894744873,3.986687183380127,4.333256721496582,3.9402236938476562,4.0952839851379395],\"type\":\"scattergl\"},{\"hoverinfo\":\"text\",\"hovertext\":[\"greco (2018), fourth evaluation round \\u2013 second compliance report on france on corruption prevention in respect of members of parliament, judges and prosecutors.\",\"greco (2010), third evaluation round \\u2013 compliance report on the netherlands: incriminations (ets 173 and 191, gpc 2), transparency of party funding.\",\"greco (2012), fourth evaluation round \\u2013 evaluation report on the netherlands on corruption prevention in respect of members of parliament, judges and prosecutors.\",\"the whistleblowers\\u2019 act is currently undergoing evaluation, which may result in a revision of the whistleblowers\\u2019 authority\\u2019s mandate.\",\"greco (2008), third evaluation round \\u2013 evaluation report on the netherlands on transparency of party funding.\",\"greco (2018), fifth evaluation round \\u2013 evaluation report on the netherlands on preventing corruption and promoting integrity in central governments (top executive functions) and law enforcement agencies.\",\"greco (2008), third evaluation round \\u2013 evaluation report on the netherlands on incriminations (ets 173 and 191, gpc 2).\",\"greco (2017), fourth evaluation round \\u2013 second compliance report on the slovak republic on corruption prevention in respect of members of parliament, judges and prosecutors.\",\"in june 2019, the garda inspectorate began a review into how the garda\\u00ed tackle corruption within their own ranks.\",\"greco (2014), fourth evaluation round \\u2013 evaluation report on ireland on corruption prevention in respect of members of parliament, judges and prosecutors.\",\"greco (2012), third evaluation round \\u2013 second compliance report on the netherlands transparency of party funding.\",\"greco (2018), fifth evaluation round \\u2013 evaluation report on france on preventing corruption and promoting integrity in central governments (top executive functions) and law enforcement agencies.\",\"greco recommended for example that the vetting and screening of law enforcement staff take place at regular intervals during the entire service and that the control measures in respect of access to and use of confidential information be enhanced in order to prevent the unauthorised access to and leaking of information.\",\"greco (2015), fourth evaluation round \\u2013 compliance report on the netherlands on corruption prevention in respect of members of parliament, judges and prosecutors.\",\"as a result of the third evaluation round of implementation of the oecd anti-bribery convention , national provisions on foreign bribery offences have been amended.\",\"in 2018, greco recommended ensuring that this procedure does not hamper the criminal justice process as regards corruption-related offences.\",\"greco (2018), fourth evaluation round \\u2013 interim compliance report on ireland on on corruption prevention in respect of members of parliament, judges and prosecutors.\",null],\"marker\":{\"opacity\":0.5,\"size\":5},\"mode\":\"markers+text\",\"name\":\"9_corruption prevention_on corruption_preventing corruption\",\"text\":[\"\",\"\",\"\",\"\",\"\",\"\",\"\",\"\",\"\",\"\",\"\",\"\",\"\",\"\",\"\",\"\",\"\",\"9_corruption prevention_on corruption_preventing corruption\"],\"textfont\":{\"size\":12},\"x\":[8.395917892456055,7.950868606567383,8.460015296936035,8.5813570022583,7.934493541717529,8.442092895507812,8.246752738952637,8.429481506347656,8.720978736877441,8.587708473205566,7.943770885467529,8.487513542175293,8.375628471374512,8.431436538696289,8.63772201538086,8.376116752624512,8.514636039733887,8.383323669433594],\"y\":[1.597396969795227,1.8024760484695435,1.6595501899719238,1.7750048637390137,1.80759859085083,1.6477560997009277,1.6063083410263062,1.5933151245117188,1.7366784811019897,1.6852636337280273,1.8044184446334839,1.6639171838760376,2.1590311527252197,1.6500762701034546,1.8277649879455566,1.612952470779419,1.6697450876235962,1.7234854698181152],\"type\":\"scattergl\"},{\"hoverinfo\":\"text\",\"hovertext\":[\"\\\"Cronyism, a problem under all previous Polish governments, is widespread under PiS, as it has altered, lowered, or removed many criteria for staffing of public institutions, allowing for appointments based on party loyalty and personal connections.\",\"\\\"In 2017, a network of international media outlets exposed a $2.9 billion slush fund that was held within United Kingdom-registered shell companies and linked to the Azerbaijani ruling elite, including the Aliyev family.\",\"\\\"The parliament in power through 2018 included some of the country\\u2019s wealthiest business leaders, who continued their private entrepreneurial activities despite conflicts of interest.\",\"\\\"In September 2020, the Times of Israel reported that a publicly owned Israeli aerospace firm transferred at least $155 million to that slush fund, though the firm\\u2019s specific purpose was unclear.\",\"\\\"Investigative reports published by foreign media in recent years have revealed evidence that Aliyev family used their positions to amass large private fortunes.\",\"\\\"A report by the NIK found that in many, especially rural, parts of Poland, gynecologists are rare.\",\"\\\"Relationships between politicians and other oligarchs have also historically influenced policy and contributed to selective application of the law.\",\"\\\"Influential business figures who fall out of favor with the government, such as Lajos Simicska, who once served as Fidesz party treasurer, have experienced financial and legal pressure.\",\"\\\"The regime relies on abuse of state resources, corrupt patronage networks, and control over the security forces and criminal justice system to maintain its political dominance.\",\"\\\"The federal authorities have limited ability to impose policy decisions in Chechnya, where Chechen president Ramzan Kadyrov has gained unchecked power in exchange for keeping Chechnya within the Russian Federation.\",\"\\\"Critics have credibly accused President Vu\\u010di\\u0107 and the SNS government of having ties to organized crime, and cronyism\\u2014in the form of jobs provided to allies of the president and the ruling party\\u2014is reportedly common.\",\"\\\"Fisheries minister Kristj\\u00e1n \\u00de\\u00f3r J\\u00fal\\u00edusson is closely affiliated with Samherji, an Icelandic fishing company that was implicated in a scheme to bribe Namibian officials in November 2019.\",\"\\\"In November, Icelandic fishing firm Samherji was implicated in bribery after the release of the so-called \\u201cFishrot Files;\\u201d they revealed that Samherji bribed Namibian government officials to secure fishing rights as far back as 2012.\",\"\\\"Samherji CEO \\u00deorsteinn M\\u00e1r Baldvinsson resigned later that month after the files were released by WikiLeaks, but fisheries minister J\\u00fal\\u00edusson resisted calls to step down after admitting that he spoke to Baldvinsson over the allegations.\",\"\\\"However, since the PiS-appointed chair of NIK took office in 2019, he has been investigated for possible irregularities in his property declarations and links to a criminal group.\",null],\"marker\":{\"opacity\":0.5,\"size\":5},\"mode\":\"markers+text\",\"name\":\"10_fisheries minister_was implicated_samherji\",\"text\":[\"\",\"\",\"\",\"\",\"\",\"\",\"\",\"\",\"\",\"\",\"\",\"\",\"\",\"\",\"\",\"10_fisheries minister_was implicated_samherji\"],\"textfont\":{\"size\":12},\"x\":[7.705008029937744,7.279972076416016,7.4061079025268555,7.234997749328613,7.3329362869262695,7.695211410522461,7.55721378326416,7.441831588745117,7.567061901092529,7.510692596435547,7.708963394165039,7.398609638214111,7.397497177124023,7.251797676086426,7.668025493621826,7.477061748504639],\"y\":[4.335633277893066,5.0193257331848145,4.893815040588379,5.0451741218566895,4.998516082763672,4.393245220184326,4.019481182098389,4.871806621551514,4.029488563537598,4.008495807647705,4.240095138549805,4.581020355224609,4.603440761566162,4.585429668426514,4.431241035461426,4.537080764770508],\"type\":\"scattergl\"},{\"hoverinfo\":\"text\",\"hovertext\":[\"\\\"The opinions expressed in this report are those of the author(s).\",\"\\\"The Democracy Score is an average of ratings for the categories tracked in a given year.\",\"\\\"Her areas of research include electoral studies, voting behavior, and public opinion.\",\"\\\"The opinions expressed in this report are those of the author(s).\",\"\\\"NOTE: The ratings reflect the consensus of Freedom House, its academic advisers, and the author(s) of this report.\",\"\\\"Note The ratings reflect the consensus of Freedom House, its academic advisers, and the author(s) of this report.\",\"\\\"The ratings are based on a scale of 1 to 7, with 7 representing the highest level of democratic progress and 1 the lowest.\",\"\\\"The ratings are based on a scale of 1 to 7, with 7 representing the highest level of democratic progress and 1 the lowest.\",\"\\\"The Democracy Score is an average of ratings for the categories tracked in a given year.\",\"\\\"Score Change: The score improved from 3 to 4 because the threat of imminent terrorist violence apparently receded.\",\"\\\"The Democracy Percentage, introduced in 2020, is a translation of the Democracy Score to the 0\\u2013100 scale, where 0 equals least democratic and 100 equals most democratic.\",\"\\\"Public dissatisfaction with the government\\u2019s performance led to a steady decline in Reform Party ratings.\",null],\"marker\":{\"opacity\":0.5,\"size\":5},\"mode\":\"markers+text\",\"name\":\"11_democracy score_ratings reflect_ratings for\",\"text\":[\"\",\"\",\"\",\"\",\"\",\"\",\"\",\"\",\"\",\"\",\"\",\"\",\"11_democracy score_ratings reflect_ratings for\"],\"textfont\":{\"size\":12},\"x\":[3.5964763164520264,3.518080711364746,3.61679744720459,3.6039633750915527,3.6113345623016357,3.6139588356018066,3.5224905014038086,3.5275583267211914,3.516998529434204,3.657726287841797,3.4759764671325684,3.5185396671295166,3.5649917125701904],\"y\":[5.465556621551514,5.340182781219482,5.48341178894043,5.478104114532471,5.462448596954346,5.4733567237854,5.316203594207764,5.316658020019531,5.322203636169434,5.302967548370361,5.283732891082764,5.3063883781433105,5.379268169403076],\"type\":\"scattergl\"}],                        {\"template\":{\"data\":{\"barpolar\":[{\"marker\":{\"line\":{\"color\":\"white\",\"width\":0.5},\"pattern\":{\"fillmode\":\"overlay\",\"size\":10,\"solidity\":0.2}},\"type\":\"barpolar\"}],\"bar\":[{\"error_x\":{\"color\":\"rgb(36,36,36)\"},\"error_y\":{\"color\":\"rgb(36,36,36)\"},\"marker\":{\"line\":{\"color\":\"white\",\"width\":0.5},\"pattern\":{\"fillmode\":\"overlay\",\"size\":10,\"solidity\":0.2}},\"type\":\"bar\"}],\"carpet\":[{\"aaxis\":{\"endlinecolor\":\"rgb(36,36,36)\",\"gridcolor\":\"white\",\"linecolor\":\"white\",\"minorgridcolor\":\"white\",\"startlinecolor\":\"rgb(36,36,36)\"},\"baxis\":{\"endlinecolor\":\"rgb(36,36,36)\",\"gridcolor\":\"white\",\"linecolor\":\"white\",\"minorgridcolor\":\"white\",\"startlinecolor\":\"rgb(36,36,36)\"},\"type\":\"carpet\"}],\"choropleth\":[{\"colorbar\":{\"outlinewidth\":1,\"tickcolor\":\"rgb(36,36,36)\",\"ticks\":\"outside\"},\"type\":\"choropleth\"}],\"contourcarpet\":[{\"colorbar\":{\"outlinewidth\":1,\"tickcolor\":\"rgb(36,36,36)\",\"ticks\":\"outside\"},\"type\":\"contourcarpet\"}],\"contour\":[{\"colorbar\":{\"outlinewidth\":1,\"tickcolor\":\"rgb(36,36,36)\",\"ticks\":\"outside\"},\"colorscale\":[[0.0,\"#440154\"],[0.1111111111111111,\"#482878\"],[0.2222222222222222,\"#3e4989\"],[0.3333333333333333,\"#31688e\"],[0.4444444444444444,\"#26828e\"],[0.5555555555555556,\"#1f9e89\"],[0.6666666666666666,\"#35b779\"],[0.7777777777777778,\"#6ece58\"],[0.8888888888888888,\"#b5de2b\"],[1.0,\"#fde725\"]],\"type\":\"contour\"}],\"heatmapgl\":[{\"colorbar\":{\"outlinewidth\":1,\"tickcolor\":\"rgb(36,36,36)\",\"ticks\":\"outside\"},\"colorscale\":[[0.0,\"#440154\"],[0.1111111111111111,\"#482878\"],[0.2222222222222222,\"#3e4989\"],[0.3333333333333333,\"#31688e\"],[0.4444444444444444,\"#26828e\"],[0.5555555555555556,\"#1f9e89\"],[0.6666666666666666,\"#35b779\"],[0.7777777777777778,\"#6ece58\"],[0.8888888888888888,\"#b5de2b\"],[1.0,\"#fde725\"]],\"type\":\"heatmapgl\"}],\"heatmap\":[{\"colorbar\":{\"outlinewidth\":1,\"tickcolor\":\"rgb(36,36,36)\",\"ticks\":\"outside\"},\"colorscale\":[[0.0,\"#440154\"],[0.1111111111111111,\"#482878\"],[0.2222222222222222,\"#3e4989\"],[0.3333333333333333,\"#31688e\"],[0.4444444444444444,\"#26828e\"],[0.5555555555555556,\"#1f9e89\"],[0.6666666666666666,\"#35b779\"],[0.7777777777777778,\"#6ece58\"],[0.8888888888888888,\"#b5de2b\"],[1.0,\"#fde725\"]],\"type\":\"heatmap\"}],\"histogram2dcontour\":[{\"colorbar\":{\"outlinewidth\":1,\"tickcolor\":\"rgb(36,36,36)\",\"ticks\":\"outside\"},\"colorscale\":[[0.0,\"#440154\"],[0.1111111111111111,\"#482878\"],[0.2222222222222222,\"#3e4989\"],[0.3333333333333333,\"#31688e\"],[0.4444444444444444,\"#26828e\"],[0.5555555555555556,\"#1f9e89\"],[0.6666666666666666,\"#35b779\"],[0.7777777777777778,\"#6ece58\"],[0.8888888888888888,\"#b5de2b\"],[1.0,\"#fde725\"]],\"type\":\"histogram2dcontour\"}],\"histogram2d\":[{\"colorbar\":{\"outlinewidth\":1,\"tickcolor\":\"rgb(36,36,36)\",\"ticks\":\"outside\"},\"colorscale\":[[0.0,\"#440154\"],[0.1111111111111111,\"#482878\"],[0.2222222222222222,\"#3e4989\"],[0.3333333333333333,\"#31688e\"],[0.4444444444444444,\"#26828e\"],[0.5555555555555556,\"#1f9e89\"],[0.6666666666666666,\"#35b779\"],[0.7777777777777778,\"#6ece58\"],[0.8888888888888888,\"#b5de2b\"],[1.0,\"#fde725\"]],\"type\":\"histogram2d\"}],\"histogram\":[{\"marker\":{\"line\":{\"color\":\"white\",\"width\":0.6}},\"type\":\"histogram\"}],\"mesh3d\":[{\"colorbar\":{\"outlinewidth\":1,\"tickcolor\":\"rgb(36,36,36)\",\"ticks\":\"outside\"},\"type\":\"mesh3d\"}],\"parcoords\":[{\"line\":{\"colorbar\":{\"outlinewidth\":1,\"tickcolor\":\"rgb(36,36,36)\",\"ticks\":\"outside\"}},\"type\":\"parcoords\"}],\"pie\":[{\"automargin\":true,\"type\":\"pie\"}],\"scatter3d\":[{\"line\":{\"colorbar\":{\"outlinewidth\":1,\"tickcolor\":\"rgb(36,36,36)\",\"ticks\":\"outside\"}},\"marker\":{\"colorbar\":{\"outlinewidth\":1,\"tickcolor\":\"rgb(36,36,36)\",\"ticks\":\"outside\"}},\"type\":\"scatter3d\"}],\"scattercarpet\":[{\"marker\":{\"colorbar\":{\"outlinewidth\":1,\"tickcolor\":\"rgb(36,36,36)\",\"ticks\":\"outside\"}},\"type\":\"scattercarpet\"}],\"scattergeo\":[{\"marker\":{\"colorbar\":{\"outlinewidth\":1,\"tickcolor\":\"rgb(36,36,36)\",\"ticks\":\"outside\"}},\"type\":\"scattergeo\"}],\"scattergl\":[{\"marker\":{\"colorbar\":{\"outlinewidth\":1,\"tickcolor\":\"rgb(36,36,36)\",\"ticks\":\"outside\"}},\"type\":\"scattergl\"}],\"scattermapbox\":[{\"marker\":{\"colorbar\":{\"outlinewidth\":1,\"tickcolor\":\"rgb(36,36,36)\",\"ticks\":\"outside\"}},\"type\":\"scattermapbox\"}],\"scatterpolargl\":[{\"marker\":{\"colorbar\":{\"outlinewidth\":1,\"tickcolor\":\"rgb(36,36,36)\",\"ticks\":\"outside\"}},\"type\":\"scatterpolargl\"}],\"scatterpolar\":[{\"marker\":{\"colorbar\":{\"outlinewidth\":1,\"tickcolor\":\"rgb(36,36,36)\",\"ticks\":\"outside\"}},\"type\":\"scatterpolar\"}],\"scatter\":[{\"fillpattern\":{\"fillmode\":\"overlay\",\"size\":10,\"solidity\":0.2},\"type\":\"scatter\"}],\"scatterternary\":[{\"marker\":{\"colorbar\":{\"outlinewidth\":1,\"tickcolor\":\"rgb(36,36,36)\",\"ticks\":\"outside\"}},\"type\":\"scatterternary\"}],\"surface\":[{\"colorbar\":{\"outlinewidth\":1,\"tickcolor\":\"rgb(36,36,36)\",\"ticks\":\"outside\"},\"colorscale\":[[0.0,\"#440154\"],[0.1111111111111111,\"#482878\"],[0.2222222222222222,\"#3e4989\"],[0.3333333333333333,\"#31688e\"],[0.4444444444444444,\"#26828e\"],[0.5555555555555556,\"#1f9e89\"],[0.6666666666666666,\"#35b779\"],[0.7777777777777778,\"#6ece58\"],[0.8888888888888888,\"#b5de2b\"],[1.0,\"#fde725\"]],\"type\":\"surface\"}],\"table\":[{\"cells\":{\"fill\":{\"color\":\"rgb(237,237,237)\"},\"line\":{\"color\":\"white\"}},\"header\":{\"fill\":{\"color\":\"rgb(217,217,217)\"},\"line\":{\"color\":\"white\"}},\"type\":\"table\"}]},\"layout\":{\"annotationdefaults\":{\"arrowhead\":0,\"arrowwidth\":1},\"autotypenumbers\":\"strict\",\"coloraxis\":{\"colorbar\":{\"outlinewidth\":1,\"tickcolor\":\"rgb(36,36,36)\",\"ticks\":\"outside\"}},\"colorscale\":{\"diverging\":[[0.0,\"rgb(103,0,31)\"],[0.1,\"rgb(178,24,43)\"],[0.2,\"rgb(214,96,77)\"],[0.3,\"rgb(244,165,130)\"],[0.4,\"rgb(253,219,199)\"],[0.5,\"rgb(247,247,247)\"],[0.6,\"rgb(209,229,240)\"],[0.7,\"rgb(146,197,222)\"],[0.8,\"rgb(67,147,195)\"],[0.9,\"rgb(33,102,172)\"],[1.0,\"rgb(5,48,97)\"]],\"sequential\":[[0.0,\"#440154\"],[0.1111111111111111,\"#482878\"],[0.2222222222222222,\"#3e4989\"],[0.3333333333333333,\"#31688e\"],[0.4444444444444444,\"#26828e\"],[0.5555555555555556,\"#1f9e89\"],[0.6666666666666666,\"#35b779\"],[0.7777777777777778,\"#6ece58\"],[0.8888888888888888,\"#b5de2b\"],[1.0,\"#fde725\"]],\"sequentialminus\":[[0.0,\"#440154\"],[0.1111111111111111,\"#482878\"],[0.2222222222222222,\"#3e4989\"],[0.3333333333333333,\"#31688e\"],[0.4444444444444444,\"#26828e\"],[0.5555555555555556,\"#1f9e89\"],[0.6666666666666666,\"#35b779\"],[0.7777777777777778,\"#6ece58\"],[0.8888888888888888,\"#b5de2b\"],[1.0,\"#fde725\"]]},\"colorway\":[\"#1F77B4\",\"#FF7F0E\",\"#2CA02C\",\"#D62728\",\"#9467BD\",\"#8C564B\",\"#E377C2\",\"#7F7F7F\",\"#BCBD22\",\"#17BECF\"],\"font\":{\"color\":\"rgb(36,36,36)\"},\"geo\":{\"bgcolor\":\"white\",\"lakecolor\":\"white\",\"landcolor\":\"white\",\"showlakes\":true,\"showland\":true,\"subunitcolor\":\"white\"},\"hoverlabel\":{\"align\":\"left\"},\"hovermode\":\"closest\",\"mapbox\":{\"style\":\"light\"},\"paper_bgcolor\":\"white\",\"plot_bgcolor\":\"white\",\"polar\":{\"angularaxis\":{\"gridcolor\":\"rgb(232,232,232)\",\"linecolor\":\"rgb(36,36,36)\",\"showgrid\":false,\"showline\":true,\"ticks\":\"outside\"},\"bgcolor\":\"white\",\"radialaxis\":{\"gridcolor\":\"rgb(232,232,232)\",\"linecolor\":\"rgb(36,36,36)\",\"showgrid\":false,\"showline\":true,\"ticks\":\"outside\"}},\"scene\":{\"xaxis\":{\"backgroundcolor\":\"white\",\"gridcolor\":\"rgb(232,232,232)\",\"gridwidth\":2,\"linecolor\":\"rgb(36,36,36)\",\"showbackground\":true,\"showgrid\":false,\"showline\":true,\"ticks\":\"outside\",\"zeroline\":false,\"zerolinecolor\":\"rgb(36,36,36)\"},\"yaxis\":{\"backgroundcolor\":\"white\",\"gridcolor\":\"rgb(232,232,232)\",\"gridwidth\":2,\"linecolor\":\"rgb(36,36,36)\",\"showbackground\":true,\"showgrid\":false,\"showline\":true,\"ticks\":\"outside\",\"zeroline\":false,\"zerolinecolor\":\"rgb(36,36,36)\"},\"zaxis\":{\"backgroundcolor\":\"white\",\"gridcolor\":\"rgb(232,232,232)\",\"gridwidth\":2,\"linecolor\":\"rgb(36,36,36)\",\"showbackground\":true,\"showgrid\":false,\"showline\":true,\"ticks\":\"outside\",\"zeroline\":false,\"zerolinecolor\":\"rgb(36,36,36)\"}},\"shapedefaults\":{\"fillcolor\":\"black\",\"line\":{\"width\":0},\"opacity\":0.3},\"ternary\":{\"aaxis\":{\"gridcolor\":\"rgb(232,232,232)\",\"linecolor\":\"rgb(36,36,36)\",\"showgrid\":false,\"showline\":true,\"ticks\":\"outside\"},\"baxis\":{\"gridcolor\":\"rgb(232,232,232)\",\"linecolor\":\"rgb(36,36,36)\",\"showgrid\":false,\"showline\":true,\"ticks\":\"outside\"},\"bgcolor\":\"white\",\"caxis\":{\"gridcolor\":\"rgb(232,232,232)\",\"linecolor\":\"rgb(36,36,36)\",\"showgrid\":false,\"showline\":true,\"ticks\":\"outside\"}},\"title\":{\"x\":0.05},\"xaxis\":{\"automargin\":true,\"gridcolor\":\"rgb(232,232,232)\",\"linecolor\":\"rgb(36,36,36)\",\"showgrid\":false,\"showline\":true,\"ticks\":\"outside\",\"title\":{\"standoff\":15},\"zeroline\":false,\"zerolinecolor\":\"rgb(36,36,36)\"},\"yaxis\":{\"automargin\":true,\"gridcolor\":\"rgb(232,232,232)\",\"linecolor\":\"rgb(36,36,36)\",\"showgrid\":false,\"showline\":true,\"ticks\":\"outside\",\"title\":{\"standoff\":15},\"zeroline\":false,\"zerolinecolor\":\"rgb(36,36,36)\"}}},\"shapes\":[{\"line\":{\"color\":\"#CFD8DC\",\"width\":2},\"type\":\"line\",\"x0\":6.890147626399994,\"x1\":6.890147626399994,\"y0\":-2.5973869800567626,\"y1\":8.546954822540282},{\"line\":{\"color\":\"#9E9E9E\",\"width\":2},\"type\":\"line\",\"x0\":1.7469565629959107,\"x1\":12.033338689804078,\"y0\":2.9747839212417597,\"y1\":2.9747839212417597}],\"annotations\":[{\"showarrow\":false,\"text\":\"D1\",\"x\":1.7469565629959107,\"y\":2.9747839212417597,\"yshift\":10},{\"showarrow\":false,\"text\":\"D2\",\"x\":6.890147626399994,\"xshift\":10,\"y\":8.546954822540282}],\"title\":{\"font\":{\"size\":22,\"color\":\"Black\"},\"text\":\"\\u003cb\\u003eDocuments and Topics\\u003c\\u002fb\\u003e\",\"x\":0.5,\"xanchor\":\"center\",\"yanchor\":\"top\"},\"width\":1200,\"height\":750,\"xaxis\":{\"visible\":false},\"yaxis\":{\"visible\":false}},                        {\"responsive\": true}                    ).then(function(){\n",
       "                            \n",
       "var gd = document.getElementById('e33cc5e4-be41-41ce-864b-0d31c2862ad2');\n",
       "var x = new MutationObserver(function (mutations, observer) {{\n",
       "        var display = window.getComputedStyle(gd).display;\n",
       "        if (!display || display === 'none') {{\n",
       "            console.log([gd, 'removed!']);\n",
       "            Plotly.purge(gd);\n",
       "            observer.disconnect();\n",
       "        }}\n",
       "}});\n",
       "\n",
       "// Listen for the removal of the full notebook cells\n",
       "var notebookContainer = gd.closest('#notebook-container');\n",
       "if (notebookContainer) {{\n",
       "    x.observe(notebookContainer, {childList: true});\n",
       "}}\n",
       "\n",
       "// Listen for the clearing of the current output cell\n",
       "var outputEl = gd.closest('.output');\n",
       "if (outputEl) {{\n",
       "    x.observe(outputEl, {childList: true});\n",
       "}}\n",
       "\n",
       "                        })                };                });            </script>        </div>"
      ]
     },
     "metadata": {},
     "output_type": "display_data"
    }
   ],
   "source": [
    "topic_model.visualize_documents(docs, embeddings=embeddings)"
   ]
  },
  {
   "cell_type": "code",
   "execution_count": 36,
   "id": "44d31051-4232-4bce-b3a6-8dd2905cd655",
   "metadata": {
    "tags": []
   },
   "outputs": [
    {
     "data": {
      "application/vnd.plotly.v1+json": {
       "config": {
        "plotlyServerURL": "https://plot.ly"
       },
       "data": [
        {
         "marker": {
          "color": "#D55E00"
         },
         "orientation": "h",
         "type": "bar",
         "x": [
          0.5962479114532471,
          0.6004635095596313,
          0.6398625373840332,
          0.6503421068191528,
          0.6699429154396057
         ],
         "xaxis": "x",
         "y": [
          "north macedonia  ",
          "macedonian  ",
          "balkan  ",
          "macedonia  ",
          "balkan insight  "
         ],
         "yaxis": "y"
        },
        {
         "marker": {
          "color": "#0072B2"
         },
         "orientation": "h",
         "type": "bar",
         "x": [
          0.5012304186820984,
          0.5256391763687134,
          0.5307899117469788,
          0.6052619218826294,
          0.6152921915054321
         ],
         "xaxis": "x2",
         "y": [
          "of councils  ",
          "judges independence  ",
          "councils  ",
          "judicial council  ",
          "europe committee  "
         ],
         "yaxis": "y2"
        },
        {
         "marker": {
          "color": "#CC79A7"
         },
         "orientation": "h",
         "type": "bar",
         "x": [
          0.6133691072463989,
          0.6165900230407715,
          0.620346188545227,
          0.6264479160308838,
          0.6674388647079468
         ],
         "xaxis": "x3",
         "y": [
          "corruption  ",
          "corruption and  ",
          "corruption as  ",
          "against corruption  ",
          "anti corruption  "
         ],
         "yaxis": "y3"
        },
        {
         "marker": {
          "color": "#E69F00"
         },
         "orientation": "h",
         "type": "bar",
         "x": [
          0.3935030698776245,
          0.3992643356323242,
          0.40211647748947144,
          0.4143383502960205,
          0.42657142877578735
         ],
         "xaxis": "x4",
         "y": [
          "2021 err  ",
          "october 2021  ",
          "estonian  ",
          "2021  ",
          "estonia  "
         ],
         "yaxis": "y4"
        },
        {
         "marker": {
          "color": "#56B4E9"
         },
         "orientation": "h",
         "type": "bar",
         "x": [
          0.5452812314033508,
          0.5501956343650818,
          0.5532675981521606,
          0.6609843969345093,
          0.7777338027954102
         ],
         "xaxis": "x5",
         "y": [
          "court of  ",
          "european commission  ",
          "tribunal  ",
          "eu justice  ",
          "european court  "
         ],
         "yaxis": "y5"
        },
        {
         "marker": {
          "color": "#009E73"
         },
         "orientation": "h",
         "type": "bar",
         "x": [
          0.4513843059539795,
          0.45957857370376587,
          0.4772762358188629,
          0.5241703987121582,
          0.5508004426956177
         ],
         "xaxis": "x6",
         "y": [
          "report slovakia  ",
          "country report  ",
          "to slovakia  ",
          "country visit  ",
          "virtual country  "
         ],
         "yaxis": "y6"
        },
        {
         "marker": {
          "color": "#F0E442"
         },
         "orientation": "h",
         "type": "bar",
         "x": [
          0.38124966621398926,
          0.38561123609542847,
          0.39830464124679565,
          0.40452840924263,
          0.43040114641189575
         ],
         "xaxis": "x7",
         "y": [
          "of 2020  ",
          "government has  ",
          "draft law  ",
          "to legislative  ",
          "legislative  "
         ],
         "yaxis": "y7"
        },
        {
         "marker": {
          "color": "#D55E00"
         },
         "orientation": "h",
         "type": "bar",
         "x": [
          0.5144668817520142,
          0.5623780488967896,
          0.5643758773803711,
          0.5752825736999512,
          0.5834969878196716
         ],
         "xaxis": "x8",
         "y": [
          "council of  ",
          "journalists and  ",
          "journalists  ",
          "of journalists  ",
          "europe committee  "
         ],
         "yaxis": "y8"
        },
        {
         "marker": {
          "color": "#0072B2"
         },
         "orientation": "h",
         "type": "bar",
         "x": [
          0.4708937406539917,
          0.4734259247779846,
          0.47927728295326233,
          0.49102452397346497,
          0.5068072080612183
         ],
         "xaxis": "x9",
         "y": [
          "corruption  ",
          "punished eu  ",
          "corruption is  ",
          "consider corruption  ",
          "corrupt practices  "
         ],
         "yaxis": "y9"
        },
        {
         "marker": {
          "color": "#CC79A7"
         },
         "orientation": "h",
         "type": "bar",
         "x": [
          0.4965011477470398,
          0.5124093294143677,
          0.535987377166748,
          0.5457642674446106,
          0.5843765735626221
         ],
         "xaxis": "x10",
         "y": [
          "corruption  ",
          "prosecutors greco  ",
          "preventing corruption  ",
          "on corruption  ",
          "corruption prevention  "
         ],
         "yaxis": "y10"
        }
       ],
       "layout": {
        "annotations": [
         {
          "font": {
           "size": 16
          },
          "showarrow": false,
          "text": "Topic 0",
          "x": 0.0875,
          "xanchor": "center",
          "xref": "paper",
          "y": 1,
          "yanchor": "bottom",
          "yref": "paper"
         },
         {
          "font": {
           "size": 16
          },
          "showarrow": false,
          "text": "Topic 1",
          "x": 0.36250000000000004,
          "xanchor": "center",
          "xref": "paper",
          "y": 1,
          "yanchor": "bottom",
          "yref": "paper"
         },
         {
          "font": {
           "size": 16
          },
          "showarrow": false,
          "text": "Topic 2",
          "x": 0.6375000000000001,
          "xanchor": "center",
          "xref": "paper",
          "y": 1,
          "yanchor": "bottom",
          "yref": "paper"
         },
         {
          "font": {
           "size": 16
          },
          "showarrow": false,
          "text": "Topic 3",
          "x": 0.9125,
          "xanchor": "center",
          "xref": "paper",
          "y": 1,
          "yanchor": "bottom",
          "yref": "paper"
         },
         {
          "font": {
           "size": 16
          },
          "showarrow": false,
          "text": "Topic 4",
          "x": 0.0875,
          "xanchor": "center",
          "xref": "paper",
          "y": 0.6222222222222222,
          "yanchor": "bottom",
          "yref": "paper"
         },
         {
          "font": {
           "size": 16
          },
          "showarrow": false,
          "text": "Topic 5",
          "x": 0.36250000000000004,
          "xanchor": "center",
          "xref": "paper",
          "y": 0.6222222222222222,
          "yanchor": "bottom",
          "yref": "paper"
         },
         {
          "font": {
           "size": 16
          },
          "showarrow": false,
          "text": "Topic 6",
          "x": 0.6375000000000001,
          "xanchor": "center",
          "xref": "paper",
          "y": 0.6222222222222222,
          "yanchor": "bottom",
          "yref": "paper"
         },
         {
          "font": {
           "size": 16
          },
          "showarrow": false,
          "text": "Topic 7",
          "x": 0.9125,
          "xanchor": "center",
          "xref": "paper",
          "y": 0.6222222222222222,
          "yanchor": "bottom",
          "yref": "paper"
         },
         {
          "font": {
           "size": 16
          },
          "showarrow": false,
          "text": "Topic 8",
          "x": 0.0875,
          "xanchor": "center",
          "xref": "paper",
          "y": 0.24444444444444446,
          "yanchor": "bottom",
          "yref": "paper"
         },
         {
          "font": {
           "size": 16
          },
          "showarrow": false,
          "text": "Topic 9",
          "x": 0.36250000000000004,
          "xanchor": "center",
          "xref": "paper",
          "y": 0.24444444444444446,
          "yanchor": "bottom",
          "yref": "paper"
         }
        ],
        "height": 750,
        "hoverlabel": {
         "bgcolor": "white",
         "font": {
          "family": "Rockwell",
          "size": 16
         }
        },
        "showlegend": false,
        "template": {
         "data": {
          "bar": [
           {
            "error_x": {
             "color": "#2a3f5f"
            },
            "error_y": {
             "color": "#2a3f5f"
            },
            "marker": {
             "line": {
              "color": "white",
              "width": 0.5
             },
             "pattern": {
              "fillmode": "overlay",
              "size": 10,
              "solidity": 0.2
             }
            },
            "type": "bar"
           }
          ],
          "barpolar": [
           {
            "marker": {
             "line": {
              "color": "white",
              "width": 0.5
             },
             "pattern": {
              "fillmode": "overlay",
              "size": 10,
              "solidity": 0.2
             }
            },
            "type": "barpolar"
           }
          ],
          "carpet": [
           {
            "aaxis": {
             "endlinecolor": "#2a3f5f",
             "gridcolor": "#C8D4E3",
             "linecolor": "#C8D4E3",
             "minorgridcolor": "#C8D4E3",
             "startlinecolor": "#2a3f5f"
            },
            "baxis": {
             "endlinecolor": "#2a3f5f",
             "gridcolor": "#C8D4E3",
             "linecolor": "#C8D4E3",
             "minorgridcolor": "#C8D4E3",
             "startlinecolor": "#2a3f5f"
            },
            "type": "carpet"
           }
          ],
          "choropleth": [
           {
            "colorbar": {
             "outlinewidth": 0,
             "ticks": ""
            },
            "type": "choropleth"
           }
          ],
          "contour": [
           {
            "colorbar": {
             "outlinewidth": 0,
             "ticks": ""
            },
            "colorscale": [
             [
              0,
              "#0d0887"
             ],
             [
              0.1111111111111111,
              "#46039f"
             ],
             [
              0.2222222222222222,
              "#7201a8"
             ],
             [
              0.3333333333333333,
              "#9c179e"
             ],
             [
              0.4444444444444444,
              "#bd3786"
             ],
             [
              0.5555555555555556,
              "#d8576b"
             ],
             [
              0.6666666666666666,
              "#ed7953"
             ],
             [
              0.7777777777777778,
              "#fb9f3a"
             ],
             [
              0.8888888888888888,
              "#fdca26"
             ],
             [
              1,
              "#f0f921"
             ]
            ],
            "type": "contour"
           }
          ],
          "contourcarpet": [
           {
            "colorbar": {
             "outlinewidth": 0,
             "ticks": ""
            },
            "type": "contourcarpet"
           }
          ],
          "heatmap": [
           {
            "colorbar": {
             "outlinewidth": 0,
             "ticks": ""
            },
            "colorscale": [
             [
              0,
              "#0d0887"
             ],
             [
              0.1111111111111111,
              "#46039f"
             ],
             [
              0.2222222222222222,
              "#7201a8"
             ],
             [
              0.3333333333333333,
              "#9c179e"
             ],
             [
              0.4444444444444444,
              "#bd3786"
             ],
             [
              0.5555555555555556,
              "#d8576b"
             ],
             [
              0.6666666666666666,
              "#ed7953"
             ],
             [
              0.7777777777777778,
              "#fb9f3a"
             ],
             [
              0.8888888888888888,
              "#fdca26"
             ],
             [
              1,
              "#f0f921"
             ]
            ],
            "type": "heatmap"
           }
          ],
          "heatmapgl": [
           {
            "colorbar": {
             "outlinewidth": 0,
             "ticks": ""
            },
            "colorscale": [
             [
              0,
              "#0d0887"
             ],
             [
              0.1111111111111111,
              "#46039f"
             ],
             [
              0.2222222222222222,
              "#7201a8"
             ],
             [
              0.3333333333333333,
              "#9c179e"
             ],
             [
              0.4444444444444444,
              "#bd3786"
             ],
             [
              0.5555555555555556,
              "#d8576b"
             ],
             [
              0.6666666666666666,
              "#ed7953"
             ],
             [
              0.7777777777777778,
              "#fb9f3a"
             ],
             [
              0.8888888888888888,
              "#fdca26"
             ],
             [
              1,
              "#f0f921"
             ]
            ],
            "type": "heatmapgl"
           }
          ],
          "histogram": [
           {
            "marker": {
             "pattern": {
              "fillmode": "overlay",
              "size": 10,
              "solidity": 0.2
             }
            },
            "type": "histogram"
           }
          ],
          "histogram2d": [
           {
            "colorbar": {
             "outlinewidth": 0,
             "ticks": ""
            },
            "colorscale": [
             [
              0,
              "#0d0887"
             ],
             [
              0.1111111111111111,
              "#46039f"
             ],
             [
              0.2222222222222222,
              "#7201a8"
             ],
             [
              0.3333333333333333,
              "#9c179e"
             ],
             [
              0.4444444444444444,
              "#bd3786"
             ],
             [
              0.5555555555555556,
              "#d8576b"
             ],
             [
              0.6666666666666666,
              "#ed7953"
             ],
             [
              0.7777777777777778,
              "#fb9f3a"
             ],
             [
              0.8888888888888888,
              "#fdca26"
             ],
             [
              1,
              "#f0f921"
             ]
            ],
            "type": "histogram2d"
           }
          ],
          "histogram2dcontour": [
           {
            "colorbar": {
             "outlinewidth": 0,
             "ticks": ""
            },
            "colorscale": [
             [
              0,
              "#0d0887"
             ],
             [
              0.1111111111111111,
              "#46039f"
             ],
             [
              0.2222222222222222,
              "#7201a8"
             ],
             [
              0.3333333333333333,
              "#9c179e"
             ],
             [
              0.4444444444444444,
              "#bd3786"
             ],
             [
              0.5555555555555556,
              "#d8576b"
             ],
             [
              0.6666666666666666,
              "#ed7953"
             ],
             [
              0.7777777777777778,
              "#fb9f3a"
             ],
             [
              0.8888888888888888,
              "#fdca26"
             ],
             [
              1,
              "#f0f921"
             ]
            ],
            "type": "histogram2dcontour"
           }
          ],
          "mesh3d": [
           {
            "colorbar": {
             "outlinewidth": 0,
             "ticks": ""
            },
            "type": "mesh3d"
           }
          ],
          "parcoords": [
           {
            "line": {
             "colorbar": {
              "outlinewidth": 0,
              "ticks": ""
             }
            },
            "type": "parcoords"
           }
          ],
          "pie": [
           {
            "automargin": true,
            "type": "pie"
           }
          ],
          "scatter": [
           {
            "fillpattern": {
             "fillmode": "overlay",
             "size": 10,
             "solidity": 0.2
            },
            "type": "scatter"
           }
          ],
          "scatter3d": [
           {
            "line": {
             "colorbar": {
              "outlinewidth": 0,
              "ticks": ""
             }
            },
            "marker": {
             "colorbar": {
              "outlinewidth": 0,
              "ticks": ""
             }
            },
            "type": "scatter3d"
           }
          ],
          "scattercarpet": [
           {
            "marker": {
             "colorbar": {
              "outlinewidth": 0,
              "ticks": ""
             }
            },
            "type": "scattercarpet"
           }
          ],
          "scattergeo": [
           {
            "marker": {
             "colorbar": {
              "outlinewidth": 0,
              "ticks": ""
             }
            },
            "type": "scattergeo"
           }
          ],
          "scattergl": [
           {
            "marker": {
             "colorbar": {
              "outlinewidth": 0,
              "ticks": ""
             }
            },
            "type": "scattergl"
           }
          ],
          "scattermapbox": [
           {
            "marker": {
             "colorbar": {
              "outlinewidth": 0,
              "ticks": ""
             }
            },
            "type": "scattermapbox"
           }
          ],
          "scatterpolar": [
           {
            "marker": {
             "colorbar": {
              "outlinewidth": 0,
              "ticks": ""
             }
            },
            "type": "scatterpolar"
           }
          ],
          "scatterpolargl": [
           {
            "marker": {
             "colorbar": {
              "outlinewidth": 0,
              "ticks": ""
             }
            },
            "type": "scatterpolargl"
           }
          ],
          "scatterternary": [
           {
            "marker": {
             "colorbar": {
              "outlinewidth": 0,
              "ticks": ""
             }
            },
            "type": "scatterternary"
           }
          ],
          "surface": [
           {
            "colorbar": {
             "outlinewidth": 0,
             "ticks": ""
            },
            "colorscale": [
             [
              0,
              "#0d0887"
             ],
             [
              0.1111111111111111,
              "#46039f"
             ],
             [
              0.2222222222222222,
              "#7201a8"
             ],
             [
              0.3333333333333333,
              "#9c179e"
             ],
             [
              0.4444444444444444,
              "#bd3786"
             ],
             [
              0.5555555555555556,
              "#d8576b"
             ],
             [
              0.6666666666666666,
              "#ed7953"
             ],
             [
              0.7777777777777778,
              "#fb9f3a"
             ],
             [
              0.8888888888888888,
              "#fdca26"
             ],
             [
              1,
              "#f0f921"
             ]
            ],
            "type": "surface"
           }
          ],
          "table": [
           {
            "cells": {
             "fill": {
              "color": "#EBF0F8"
             },
             "line": {
              "color": "white"
             }
            },
            "header": {
             "fill": {
              "color": "#C8D4E3"
             },
             "line": {
              "color": "white"
             }
            },
            "type": "table"
           }
          ]
         },
         "layout": {
          "annotationdefaults": {
           "arrowcolor": "#2a3f5f",
           "arrowhead": 0,
           "arrowwidth": 1
          },
          "autotypenumbers": "strict",
          "coloraxis": {
           "colorbar": {
            "outlinewidth": 0,
            "ticks": ""
           }
          },
          "colorscale": {
           "diverging": [
            [
             0,
             "#8e0152"
            ],
            [
             0.1,
             "#c51b7d"
            ],
            [
             0.2,
             "#de77ae"
            ],
            [
             0.3,
             "#f1b6da"
            ],
            [
             0.4,
             "#fde0ef"
            ],
            [
             0.5,
             "#f7f7f7"
            ],
            [
             0.6,
             "#e6f5d0"
            ],
            [
             0.7,
             "#b8e186"
            ],
            [
             0.8,
             "#7fbc41"
            ],
            [
             0.9,
             "#4d9221"
            ],
            [
             1,
             "#276419"
            ]
           ],
           "sequential": [
            [
             0,
             "#0d0887"
            ],
            [
             0.1111111111111111,
             "#46039f"
            ],
            [
             0.2222222222222222,
             "#7201a8"
            ],
            [
             0.3333333333333333,
             "#9c179e"
            ],
            [
             0.4444444444444444,
             "#bd3786"
            ],
            [
             0.5555555555555556,
             "#d8576b"
            ],
            [
             0.6666666666666666,
             "#ed7953"
            ],
            [
             0.7777777777777778,
             "#fb9f3a"
            ],
            [
             0.8888888888888888,
             "#fdca26"
            ],
            [
             1,
             "#f0f921"
            ]
           ],
           "sequentialminus": [
            [
             0,
             "#0d0887"
            ],
            [
             0.1111111111111111,
             "#46039f"
            ],
            [
             0.2222222222222222,
             "#7201a8"
            ],
            [
             0.3333333333333333,
             "#9c179e"
            ],
            [
             0.4444444444444444,
             "#bd3786"
            ],
            [
             0.5555555555555556,
             "#d8576b"
            ],
            [
             0.6666666666666666,
             "#ed7953"
            ],
            [
             0.7777777777777778,
             "#fb9f3a"
            ],
            [
             0.8888888888888888,
             "#fdca26"
            ],
            [
             1,
             "#f0f921"
            ]
           ]
          },
          "colorway": [
           "#636efa",
           "#EF553B",
           "#00cc96",
           "#ab63fa",
           "#FFA15A",
           "#19d3f3",
           "#FF6692",
           "#B6E880",
           "#FF97FF",
           "#FECB52"
          ],
          "font": {
           "color": "#2a3f5f"
          },
          "geo": {
           "bgcolor": "white",
           "lakecolor": "white",
           "landcolor": "white",
           "showlakes": true,
           "showland": true,
           "subunitcolor": "#C8D4E3"
          },
          "hoverlabel": {
           "align": "left"
          },
          "hovermode": "closest",
          "mapbox": {
           "style": "light"
          },
          "paper_bgcolor": "white",
          "plot_bgcolor": "white",
          "polar": {
           "angularaxis": {
            "gridcolor": "#EBF0F8",
            "linecolor": "#EBF0F8",
            "ticks": ""
           },
           "bgcolor": "white",
           "radialaxis": {
            "gridcolor": "#EBF0F8",
            "linecolor": "#EBF0F8",
            "ticks": ""
           }
          },
          "scene": {
           "xaxis": {
            "backgroundcolor": "white",
            "gridcolor": "#DFE8F3",
            "gridwidth": 2,
            "linecolor": "#EBF0F8",
            "showbackground": true,
            "ticks": "",
            "zerolinecolor": "#EBF0F8"
           },
           "yaxis": {
            "backgroundcolor": "white",
            "gridcolor": "#DFE8F3",
            "gridwidth": 2,
            "linecolor": "#EBF0F8",
            "showbackground": true,
            "ticks": "",
            "zerolinecolor": "#EBF0F8"
           },
           "zaxis": {
            "backgroundcolor": "white",
            "gridcolor": "#DFE8F3",
            "gridwidth": 2,
            "linecolor": "#EBF0F8",
            "showbackground": true,
            "ticks": "",
            "zerolinecolor": "#EBF0F8"
           }
          },
          "shapedefaults": {
           "line": {
            "color": "#2a3f5f"
           }
          },
          "ternary": {
           "aaxis": {
            "gridcolor": "#DFE8F3",
            "linecolor": "#A2B1C6",
            "ticks": ""
           },
           "baxis": {
            "gridcolor": "#DFE8F3",
            "linecolor": "#A2B1C6",
            "ticks": ""
           },
           "bgcolor": "white",
           "caxis": {
            "gridcolor": "#DFE8F3",
            "linecolor": "#A2B1C6",
            "ticks": ""
           }
          },
          "title": {
           "x": 0.05
          },
          "xaxis": {
           "automargin": true,
           "gridcolor": "#EBF0F8",
           "linecolor": "#EBF0F8",
           "ticks": "",
           "title": {
            "standoff": 15
           },
           "zerolinecolor": "#EBF0F8",
           "zerolinewidth": 2
          },
          "yaxis": {
           "automargin": true,
           "gridcolor": "#EBF0F8",
           "linecolor": "#EBF0F8",
           "ticks": "",
           "title": {
            "standoff": 15
           },
           "zerolinecolor": "#EBF0F8",
           "zerolinewidth": 2
          }
         }
        },
        "title": {
         "font": {
          "color": "Black",
          "size": 22
         },
         "text": "Topic Word Scores",
         "x": 0.5,
         "xanchor": "center",
         "yanchor": "top"
        },
        "width": 1000,
        "xaxis": {
         "anchor": "y",
         "autorange": true,
         "domain": [
          0,
          0.175
         ],
         "range": [
          0,
          0.7052030688837955
         ],
         "showgrid": true,
         "type": "linear"
        },
        "xaxis10": {
         "anchor": "y10",
         "autorange": true,
         "domain": [
          0.275,
          0.45
         ],
         "range": [
          0,
          0.6151332353290758
         ],
         "showgrid": true,
         "type": "linear"
        },
        "xaxis11": {
         "anchor": "y11",
         "domain": [
          0.55,
          0.7250000000000001
         ],
         "showgrid": true
        },
        "xaxis12": {
         "anchor": "y12",
         "domain": [
          0.825,
          1
         ],
         "showgrid": true
        },
        "xaxis2": {
         "anchor": "y2",
         "autorange": true,
         "domain": [
          0.275,
          0.45
         ],
         "range": [
          0,
          0.6476759910583496
         ],
         "showgrid": true,
         "type": "linear"
        },
        "xaxis3": {
         "anchor": "y3",
         "autorange": true,
         "domain": [
          0.55,
          0.7250000000000001
         ],
         "range": [
          0,
          0.7025672260083651
         ],
         "showgrid": true,
         "type": "linear"
        },
        "xaxis4": {
         "anchor": "y4",
         "autorange": true,
         "domain": [
          0.825,
          1
         ],
         "range": [
          0,
          0.44902255660609197
         ],
         "showgrid": true,
         "type": "linear"
        },
        "xaxis5": {
         "anchor": "y5",
         "autorange": true,
         "domain": [
          0,
          0.175
         ],
         "range": [
          0,
          0.8186671608372739
         ],
         "showgrid": true,
         "type": "linear"
        },
        "xaxis6": {
         "anchor": "y6",
         "autorange": true,
         "domain": [
          0.275,
          0.45
         ],
         "range": [
          0,
          0.5797899396795976
         ],
         "showgrid": true,
         "type": "linear"
        },
        "xaxis7": {
         "anchor": "y7",
         "autorange": true,
         "domain": [
          0.55,
          0.7250000000000001
         ],
         "range": [
          0,
          0.4530538383283113
         ],
         "showgrid": true,
         "type": "linear"
        },
        "xaxis8": {
         "anchor": "y8",
         "autorange": true,
         "domain": [
          0.825,
          1
         ],
         "range": [
          0,
          0.6142073555996543
         ],
         "showgrid": true,
         "type": "linear"
        },
        "xaxis9": {
         "anchor": "y9",
         "autorange": true,
         "domain": [
          0,
          0.175
         ],
         "range": [
          0,
          0.5334812716433877
         ],
         "showgrid": true,
         "type": "linear"
        },
        "yaxis": {
         "anchor": "x",
         "autorange": true,
         "domain": [
          0.7555555555555555,
          1
         ],
         "range": [
          -0.5,
          4.5
         ],
         "showgrid": true,
         "type": "category"
        },
        "yaxis10": {
         "anchor": "x10",
         "autorange": true,
         "domain": [
          0,
          0.24444444444444446
         ],
         "range": [
          -0.5,
          4.5
         ],
         "showgrid": true,
         "type": "category"
        },
        "yaxis11": {
         "anchor": "x11",
         "domain": [
          0,
          0.24444444444444446
         ],
         "showgrid": true
        },
        "yaxis12": {
         "anchor": "x12",
         "domain": [
          0,
          0.24444444444444446
         ],
         "showgrid": true
        },
        "yaxis2": {
         "anchor": "x2",
         "autorange": true,
         "domain": [
          0.7555555555555555,
          1
         ],
         "range": [
          -0.5,
          4.5
         ],
         "showgrid": true,
         "type": "category"
        },
        "yaxis3": {
         "anchor": "x3",
         "autorange": true,
         "domain": [
          0.7555555555555555,
          1
         ],
         "range": [
          -0.5,
          4.5
         ],
         "showgrid": true,
         "type": "category"
        },
        "yaxis4": {
         "anchor": "x4",
         "autorange": true,
         "domain": [
          0.7555555555555555,
          1
         ],
         "range": [
          -0.5,
          4.5
         ],
         "showgrid": true,
         "type": "category"
        },
        "yaxis5": {
         "anchor": "x5",
         "autorange": true,
         "domain": [
          0.37777777777777777,
          0.6222222222222222
         ],
         "range": [
          -0.5,
          4.5
         ],
         "showgrid": true,
         "type": "category"
        },
        "yaxis6": {
         "anchor": "x6",
         "autorange": true,
         "domain": [
          0.37777777777777777,
          0.6222222222222222
         ],
         "range": [
          -0.5,
          4.5
         ],
         "showgrid": true,
         "type": "category"
        },
        "yaxis7": {
         "anchor": "x7",
         "autorange": true,
         "domain": [
          0.37777777777777777,
          0.6222222222222222
         ],
         "range": [
          -0.5,
          4.5
         ],
         "showgrid": true,
         "type": "category"
        },
        "yaxis8": {
         "anchor": "x8",
         "autorange": true,
         "domain": [
          0.37777777777777777,
          0.6222222222222222
         ],
         "range": [
          -0.5,
          4.5
         ],
         "showgrid": true,
         "type": "category"
        },
        "yaxis9": {
         "anchor": "x9",
         "autorange": true,
         "domain": [
          0,
          0.24444444444444446
         ],
         "range": [
          -0.5,
          4.5
         ],
         "showgrid": true,
         "type": "category"
        }
       }
      },
      "image/png": "[encoded data removed]",
      "text/html": [
       "<div>                            <div id=\"fe48a728-5c09-406d-a6e2-bd0be06170d5\" class=\"plotly-graph-div\" style=\"height:750px; width:1000px;\"></div>            <script type=\"text/javascript\">                require([\"plotly\"], function(Plotly) {                    window.PLOTLYENV=window.PLOTLYENV || {};                                    if (document.getElementById(\"fe48a728-5c09-406d-a6e2-bd0be06170d5\")) {                    Plotly.newPlot(                        \"fe48a728-5c09-406d-a6e2-bd0be06170d5\",                        [{\"marker\":{\"color\":\"#D55E00\"},\"orientation\":\"h\",\"x\":[0.5962479114532471,0.6004635095596313,0.6398625373840332,0.6503421068191528,0.6699429154396057],\"y\":[\"north macedonia  \",\"macedonian  \",\"balkan  \",\"macedonia  \",\"balkan insight  \"],\"type\":\"bar\",\"xaxis\":\"x\",\"yaxis\":\"y\"},{\"marker\":{\"color\":\"#0072B2\"},\"orientation\":\"h\",\"x\":[0.5012304186820984,0.5256391763687134,0.5307899117469788,0.6052619218826294,0.6152921915054321],\"y\":[\"of councils  \",\"judges independence  \",\"councils  \",\"judicial council  \",\"europe committee  \"],\"type\":\"bar\",\"xaxis\":\"x2\",\"yaxis\":\"y2\"},{\"marker\":{\"color\":\"#CC79A7\"},\"orientation\":\"h\",\"x\":[0.6133691072463989,0.6165900230407715,0.620346188545227,0.6264479160308838,0.6674388647079468],\"y\":[\"corruption  \",\"corruption and  \",\"corruption as  \",\"against corruption  \",\"anti corruption  \"],\"type\":\"bar\",\"xaxis\":\"x3\",\"yaxis\":\"y3\"},{\"marker\":{\"color\":\"#E69F00\"},\"orientation\":\"h\",\"x\":[0.3935030698776245,0.3992643356323242,0.40211647748947144,0.4143383502960205,0.42657142877578735],\"y\":[\"2021 err  \",\"october 2021  \",\"estonian  \",\"2021  \",\"estonia  \"],\"type\":\"bar\",\"xaxis\":\"x4\",\"yaxis\":\"y4\"},{\"marker\":{\"color\":\"#56B4E9\"},\"orientation\":\"h\",\"x\":[0.5452812314033508,0.5501956343650818,0.5532675981521606,0.6609843969345093,0.7777338027954102],\"y\":[\"court of  \",\"european commission  \",\"tribunal  \",\"eu justice  \",\"european court  \"],\"type\":\"bar\",\"xaxis\":\"x5\",\"yaxis\":\"y5\"},{\"marker\":{\"color\":\"#009E73\"},\"orientation\":\"h\",\"x\":[0.4513843059539795,0.45957857370376587,0.4772762358188629,0.5241703987121582,0.5508004426956177],\"y\":[\"report slovakia  \",\"country report  \",\"to slovakia  \",\"country visit  \",\"virtual country  \"],\"type\":\"bar\",\"xaxis\":\"x6\",\"yaxis\":\"y6\"},{\"marker\":{\"color\":\"#F0E442\"},\"orientation\":\"h\",\"x\":[0.38124966621398926,0.38561123609542847,0.39830464124679565,0.40452840924263,0.43040114641189575],\"y\":[\"of 2020  \",\"government has  \",\"draft law  \",\"to legislative  \",\"legislative  \"],\"type\":\"bar\",\"xaxis\":\"x7\",\"yaxis\":\"y7\"},{\"marker\":{\"color\":\"#D55E00\"},\"orientation\":\"h\",\"x\":[0.5144668817520142,0.5623780488967896,0.5643758773803711,0.5752825736999512,0.5834969878196716],\"y\":[\"council of  \",\"journalists and  \",\"journalists  \",\"of journalists  \",\"europe committee  \"],\"type\":\"bar\",\"xaxis\":\"x8\",\"yaxis\":\"y8\"},{\"marker\":{\"color\":\"#0072B2\"},\"orientation\":\"h\",\"x\":[0.4708937406539917,0.4734259247779846,0.47927728295326233,0.49102452397346497,0.5068072080612183],\"y\":[\"corruption  \",\"punished eu  \",\"corruption is  \",\"consider corruption  \",\"corrupt practices  \"],\"type\":\"bar\",\"xaxis\":\"x9\",\"yaxis\":\"y9\"},{\"marker\":{\"color\":\"#CC79A7\"},\"orientation\":\"h\",\"x\":[0.4965011477470398,0.5124093294143677,0.535987377166748,0.5457642674446106,0.5843765735626221],\"y\":[\"corruption  \",\"prosecutors greco  \",\"preventing corruption  \",\"on corruption  \",\"corruption prevention  \"],\"type\":\"bar\",\"xaxis\":\"x10\",\"yaxis\":\"y10\"}],                        {\"template\":{\"data\":{\"barpolar\":[{\"marker\":{\"line\":{\"color\":\"white\",\"width\":0.5},\"pattern\":{\"fillmode\":\"overlay\",\"size\":10,\"solidity\":0.2}},\"type\":\"barpolar\"}],\"bar\":[{\"error_x\":{\"color\":\"#2a3f5f\"},\"error_y\":{\"color\":\"#2a3f5f\"},\"marker\":{\"line\":{\"color\":\"white\",\"width\":0.5},\"pattern\":{\"fillmode\":\"overlay\",\"size\":10,\"solidity\":0.2}},\"type\":\"bar\"}],\"carpet\":[{\"aaxis\":{\"endlinecolor\":\"#2a3f5f\",\"gridcolor\":\"#C8D4E3\",\"linecolor\":\"#C8D4E3\",\"minorgridcolor\":\"#C8D4E3\",\"startlinecolor\":\"#2a3f5f\"},\"baxis\":{\"endlinecolor\":\"#2a3f5f\",\"gridcolor\":\"#C8D4E3\",\"linecolor\":\"#C8D4E3\",\"minorgridcolor\":\"#C8D4E3\",\"startlinecolor\":\"#2a3f5f\"},\"type\":\"carpet\"}],\"choropleth\":[{\"colorbar\":{\"outlinewidth\":0,\"ticks\":\"\"},\"type\":\"choropleth\"}],\"contourcarpet\":[{\"colorbar\":{\"outlinewidth\":0,\"ticks\":\"\"},\"type\":\"contourcarpet\"}],\"contour\":[{\"colorbar\":{\"outlinewidth\":0,\"ticks\":\"\"},\"colorscale\":[[0.0,\"#0d0887\"],[0.1111111111111111,\"#46039f\"],[0.2222222222222222,\"#7201a8\"],[0.3333333333333333,\"#9c179e\"],[0.4444444444444444,\"#bd3786\"],[0.5555555555555556,\"#d8576b\"],[0.6666666666666666,\"#ed7953\"],[0.7777777777777778,\"#fb9f3a\"],[0.8888888888888888,\"#fdca26\"],[1.0,\"#f0f921\"]],\"type\":\"contour\"}],\"heatmapgl\":[{\"colorbar\":{\"outlinewidth\":0,\"ticks\":\"\"},\"colorscale\":[[0.0,\"#0d0887\"],[0.1111111111111111,\"#46039f\"],[0.2222222222222222,\"#7201a8\"],[0.3333333333333333,\"#9c179e\"],[0.4444444444444444,\"#bd3786\"],[0.5555555555555556,\"#d8576b\"],[0.6666666666666666,\"#ed7953\"],[0.7777777777777778,\"#fb9f3a\"],[0.8888888888888888,\"#fdca26\"],[1.0,\"#f0f921\"]],\"type\":\"heatmapgl\"}],\"heatmap\":[{\"colorbar\":{\"outlinewidth\":0,\"ticks\":\"\"},\"colorscale\":[[0.0,\"#0d0887\"],[0.1111111111111111,\"#46039f\"],[0.2222222222222222,\"#7201a8\"],[0.3333333333333333,\"#9c179e\"],[0.4444444444444444,\"#bd3786\"],[0.5555555555555556,\"#d8576b\"],[0.6666666666666666,\"#ed7953\"],[0.7777777777777778,\"#fb9f3a\"],[0.8888888888888888,\"#fdca26\"],[1.0,\"#f0f921\"]],\"type\":\"heatmap\"}],\"histogram2dcontour\":[{\"colorbar\":{\"outlinewidth\":0,\"ticks\":\"\"},\"colorscale\":[[0.0,\"#0d0887\"],[0.1111111111111111,\"#46039f\"],[0.2222222222222222,\"#7201a8\"],[0.3333333333333333,\"#9c179e\"],[0.4444444444444444,\"#bd3786\"],[0.5555555555555556,\"#d8576b\"],[0.6666666666666666,\"#ed7953\"],[0.7777777777777778,\"#fb9f3a\"],[0.8888888888888888,\"#fdca26\"],[1.0,\"#f0f921\"]],\"type\":\"histogram2dcontour\"}],\"histogram2d\":[{\"colorbar\":{\"outlinewidth\":0,\"ticks\":\"\"},\"colorscale\":[[0.0,\"#0d0887\"],[0.1111111111111111,\"#46039f\"],[0.2222222222222222,\"#7201a8\"],[0.3333333333333333,\"#9c179e\"],[0.4444444444444444,\"#bd3786\"],[0.5555555555555556,\"#d8576b\"],[0.6666666666666666,\"#ed7953\"],[0.7777777777777778,\"#fb9f3a\"],[0.8888888888888888,\"#fdca26\"],[1.0,\"#f0f921\"]],\"type\":\"histogram2d\"}],\"histogram\":[{\"marker\":{\"pattern\":{\"fillmode\":\"overlay\",\"size\":10,\"solidity\":0.2}},\"type\":\"histogram\"}],\"mesh3d\":[{\"colorbar\":{\"outlinewidth\":0,\"ticks\":\"\"},\"type\":\"mesh3d\"}],\"parcoords\":[{\"line\":{\"colorbar\":{\"outlinewidth\":0,\"ticks\":\"\"}},\"type\":\"parcoords\"}],\"pie\":[{\"automargin\":true,\"type\":\"pie\"}],\"scatter3d\":[{\"line\":{\"colorbar\":{\"outlinewidth\":0,\"ticks\":\"\"}},\"marker\":{\"colorbar\":{\"outlinewidth\":0,\"ticks\":\"\"}},\"type\":\"scatter3d\"}],\"scattercarpet\":[{\"marker\":{\"colorbar\":{\"outlinewidth\":0,\"ticks\":\"\"}},\"type\":\"scattercarpet\"}],\"scattergeo\":[{\"marker\":{\"colorbar\":{\"outlinewidth\":0,\"ticks\":\"\"}},\"type\":\"scattergeo\"}],\"scattergl\":[{\"marker\":{\"colorbar\":{\"outlinewidth\":0,\"ticks\":\"\"}},\"type\":\"scattergl\"}],\"scattermapbox\":[{\"marker\":{\"colorbar\":{\"outlinewidth\":0,\"ticks\":\"\"}},\"type\":\"scattermapbox\"}],\"scatterpolargl\":[{\"marker\":{\"colorbar\":{\"outlinewidth\":0,\"ticks\":\"\"}},\"type\":\"scatterpolargl\"}],\"scatterpolar\":[{\"marker\":{\"colorbar\":{\"outlinewidth\":0,\"ticks\":\"\"}},\"type\":\"scatterpolar\"}],\"scatter\":[{\"fillpattern\":{\"fillmode\":\"overlay\",\"size\":10,\"solidity\":0.2},\"type\":\"scatter\"}],\"scatterternary\":[{\"marker\":{\"colorbar\":{\"outlinewidth\":0,\"ticks\":\"\"}},\"type\":\"scatterternary\"}],\"surface\":[{\"colorbar\":{\"outlinewidth\":0,\"ticks\":\"\"},\"colorscale\":[[0.0,\"#0d0887\"],[0.1111111111111111,\"#46039f\"],[0.2222222222222222,\"#7201a8\"],[0.3333333333333333,\"#9c179e\"],[0.4444444444444444,\"#bd3786\"],[0.5555555555555556,\"#d8576b\"],[0.6666666666666666,\"#ed7953\"],[0.7777777777777778,\"#fb9f3a\"],[0.8888888888888888,\"#fdca26\"],[1.0,\"#f0f921\"]],\"type\":\"surface\"}],\"table\":[{\"cells\":{\"fill\":{\"color\":\"#EBF0F8\"},\"line\":{\"color\":\"white\"}},\"header\":{\"fill\":{\"color\":\"#C8D4E3\"},\"line\":{\"color\":\"white\"}},\"type\":\"table\"}]},\"layout\":{\"annotationdefaults\":{\"arrowcolor\":\"#2a3f5f\",\"arrowhead\":0,\"arrowwidth\":1},\"autotypenumbers\":\"strict\",\"coloraxis\":{\"colorbar\":{\"outlinewidth\":0,\"ticks\":\"\"}},\"colorscale\":{\"diverging\":[[0,\"#8e0152\"],[0.1,\"#c51b7d\"],[0.2,\"#de77ae\"],[0.3,\"#f1b6da\"],[0.4,\"#fde0ef\"],[0.5,\"#f7f7f7\"],[0.6,\"#e6f5d0\"],[0.7,\"#b8e186\"],[0.8,\"#7fbc41\"],[0.9,\"#4d9221\"],[1,\"#276419\"]],\"sequential\":[[0.0,\"#0d0887\"],[0.1111111111111111,\"#46039f\"],[0.2222222222222222,\"#7201a8\"],[0.3333333333333333,\"#9c179e\"],[0.4444444444444444,\"#bd3786\"],[0.5555555555555556,\"#d8576b\"],[0.6666666666666666,\"#ed7953\"],[0.7777777777777778,\"#fb9f3a\"],[0.8888888888888888,\"#fdca26\"],[1.0,\"#f0f921\"]],\"sequentialminus\":[[0.0,\"#0d0887\"],[0.1111111111111111,\"#46039f\"],[0.2222222222222222,\"#7201a8\"],[0.3333333333333333,\"#9c179e\"],[0.4444444444444444,\"#bd3786\"],[0.5555555555555556,\"#d8576b\"],[0.6666666666666666,\"#ed7953\"],[0.7777777777777778,\"#fb9f3a\"],[0.8888888888888888,\"#fdca26\"],[1.0,\"#f0f921\"]]},\"colorway\":[\"#636efa\",\"#EF553B\",\"#00cc96\",\"#ab63fa\",\"#FFA15A\",\"#19d3f3\",\"#FF6692\",\"#B6E880\",\"#FF97FF\",\"#FECB52\"],\"font\":{\"color\":\"#2a3f5f\"},\"geo\":{\"bgcolor\":\"white\",\"lakecolor\":\"white\",\"landcolor\":\"white\",\"showlakes\":true,\"showland\":true,\"subunitcolor\":\"#C8D4E3\"},\"hoverlabel\":{\"align\":\"left\"},\"hovermode\":\"closest\",\"mapbox\":{\"style\":\"light\"},\"paper_bgcolor\":\"white\",\"plot_bgcolor\":\"white\",\"polar\":{\"angularaxis\":{\"gridcolor\":\"#EBF0F8\",\"linecolor\":\"#EBF0F8\",\"ticks\":\"\"},\"bgcolor\":\"white\",\"radialaxis\":{\"gridcolor\":\"#EBF0F8\",\"linecolor\":\"#EBF0F8\",\"ticks\":\"\"}},\"scene\":{\"xaxis\":{\"backgroundcolor\":\"white\",\"gridcolor\":\"#DFE8F3\",\"gridwidth\":2,\"linecolor\":\"#EBF0F8\",\"showbackground\":true,\"ticks\":\"\",\"zerolinecolor\":\"#EBF0F8\"},\"yaxis\":{\"backgroundcolor\":\"white\",\"gridcolor\":\"#DFE8F3\",\"gridwidth\":2,\"linecolor\":\"#EBF0F8\",\"showbackground\":true,\"ticks\":\"\",\"zerolinecolor\":\"#EBF0F8\"},\"zaxis\":{\"backgroundcolor\":\"white\",\"gridcolor\":\"#DFE8F3\",\"gridwidth\":2,\"linecolor\":\"#EBF0F8\",\"showbackground\":true,\"ticks\":\"\",\"zerolinecolor\":\"#EBF0F8\"}},\"shapedefaults\":{\"line\":{\"color\":\"#2a3f5f\"}},\"ternary\":{\"aaxis\":{\"gridcolor\":\"#DFE8F3\",\"linecolor\":\"#A2B1C6\",\"ticks\":\"\"},\"baxis\":{\"gridcolor\":\"#DFE8F3\",\"linecolor\":\"#A2B1C6\",\"ticks\":\"\"},\"bgcolor\":\"white\",\"caxis\":{\"gridcolor\":\"#DFE8F3\",\"linecolor\":\"#A2B1C6\",\"ticks\":\"\"}},\"title\":{\"x\":0.05},\"xaxis\":{\"automargin\":true,\"gridcolor\":\"#EBF0F8\",\"linecolor\":\"#EBF0F8\",\"ticks\":\"\",\"title\":{\"standoff\":15},\"zerolinecolor\":\"#EBF0F8\",\"zerolinewidth\":2},\"yaxis\":{\"automargin\":true,\"gridcolor\":\"#EBF0F8\",\"linecolor\":\"#EBF0F8\",\"ticks\":\"\",\"title\":{\"standoff\":15},\"zerolinecolor\":\"#EBF0F8\",\"zerolinewidth\":2}}},\"xaxis\":{\"anchor\":\"y\",\"domain\":[0.0,0.175],\"showgrid\":true},\"yaxis\":{\"anchor\":\"x\",\"domain\":[0.7555555555555555,1.0],\"showgrid\":true},\"xaxis2\":{\"anchor\":\"y2\",\"domain\":[0.275,0.45],\"showgrid\":true},\"yaxis2\":{\"anchor\":\"x2\",\"domain\":[0.7555555555555555,1.0],\"showgrid\":true},\"xaxis3\":{\"anchor\":\"y3\",\"domain\":[0.55,0.7250000000000001],\"showgrid\":true},\"yaxis3\":{\"anchor\":\"x3\",\"domain\":[0.7555555555555555,1.0],\"showgrid\":true},\"xaxis4\":{\"anchor\":\"y4\",\"domain\":[0.825,1.0],\"showgrid\":true},\"yaxis4\":{\"anchor\":\"x4\",\"domain\":[0.7555555555555555,1.0],\"showgrid\":true},\"xaxis5\":{\"anchor\":\"y5\",\"domain\":[0.0,0.175],\"showgrid\":true},\"yaxis5\":{\"anchor\":\"x5\",\"domain\":[0.37777777777777777,0.6222222222222222],\"showgrid\":true},\"xaxis6\":{\"anchor\":\"y6\",\"domain\":[0.275,0.45],\"showgrid\":true},\"yaxis6\":{\"anchor\":\"x6\",\"domain\":[0.37777777777777777,0.6222222222222222],\"showgrid\":true},\"xaxis7\":{\"anchor\":\"y7\",\"domain\":[0.55,0.7250000000000001],\"showgrid\":true},\"yaxis7\":{\"anchor\":\"x7\",\"domain\":[0.37777777777777777,0.6222222222222222],\"showgrid\":true},\"xaxis8\":{\"anchor\":\"y8\",\"domain\":[0.825,1.0],\"showgrid\":true},\"yaxis8\":{\"anchor\":\"x8\",\"domain\":[0.37777777777777777,0.6222222222222222],\"showgrid\":true},\"xaxis9\":{\"anchor\":\"y9\",\"domain\":[0.0,0.175],\"showgrid\":true},\"yaxis9\":{\"anchor\":\"x9\",\"domain\":[0.0,0.24444444444444446],\"showgrid\":true},\"xaxis10\":{\"anchor\":\"y10\",\"domain\":[0.275,0.45],\"showgrid\":true},\"yaxis10\":{\"anchor\":\"x10\",\"domain\":[0.0,0.24444444444444446],\"showgrid\":true},\"xaxis11\":{\"anchor\":\"y11\",\"domain\":[0.55,0.7250000000000001],\"showgrid\":true},\"yaxis11\":{\"anchor\":\"x11\",\"domain\":[0.0,0.24444444444444446],\"showgrid\":true},\"xaxis12\":{\"anchor\":\"y12\",\"domain\":[0.825,1.0],\"showgrid\":true},\"yaxis12\":{\"anchor\":\"x12\",\"domain\":[0.0,0.24444444444444446],\"showgrid\":true},\"annotations\":[{\"font\":{\"size\":16},\"showarrow\":false,\"text\":\"Topic 0\",\"x\":0.0875,\"xanchor\":\"center\",\"xref\":\"paper\",\"y\":1.0,\"yanchor\":\"bottom\",\"yref\":\"paper\"},{\"font\":{\"size\":16},\"showarrow\":false,\"text\":\"Topic 1\",\"x\":0.36250000000000004,\"xanchor\":\"center\",\"xref\":\"paper\",\"y\":1.0,\"yanchor\":\"bottom\",\"yref\":\"paper\"},{\"font\":{\"size\":16},\"showarrow\":false,\"text\":\"Topic 2\",\"x\":0.6375000000000001,\"xanchor\":\"center\",\"xref\":\"paper\",\"y\":1.0,\"yanchor\":\"bottom\",\"yref\":\"paper\"},{\"font\":{\"size\":16},\"showarrow\":false,\"text\":\"Topic 3\",\"x\":0.9125,\"xanchor\":\"center\",\"xref\":\"paper\",\"y\":1.0,\"yanchor\":\"bottom\",\"yref\":\"paper\"},{\"font\":{\"size\":16},\"showarrow\":false,\"text\":\"Topic 4\",\"x\":0.0875,\"xanchor\":\"center\",\"xref\":\"paper\",\"y\":0.6222222222222222,\"yanchor\":\"bottom\",\"yref\":\"paper\"},{\"font\":{\"size\":16},\"showarrow\":false,\"text\":\"Topic 5\",\"x\":0.36250000000000004,\"xanchor\":\"center\",\"xref\":\"paper\",\"y\":0.6222222222222222,\"yanchor\":\"bottom\",\"yref\":\"paper\"},{\"font\":{\"size\":16},\"showarrow\":false,\"text\":\"Topic 6\",\"x\":0.6375000000000001,\"xanchor\":\"center\",\"xref\":\"paper\",\"y\":0.6222222222222222,\"yanchor\":\"bottom\",\"yref\":\"paper\"},{\"font\":{\"size\":16},\"showarrow\":false,\"text\":\"Topic 7\",\"x\":0.9125,\"xanchor\":\"center\",\"xref\":\"paper\",\"y\":0.6222222222222222,\"yanchor\":\"bottom\",\"yref\":\"paper\"},{\"font\":{\"size\":16},\"showarrow\":false,\"text\":\"Topic 8\",\"x\":0.0875,\"xanchor\":\"center\",\"xref\":\"paper\",\"y\":0.24444444444444446,\"yanchor\":\"bottom\",\"yref\":\"paper\"},{\"font\":{\"size\":16},\"showarrow\":false,\"text\":\"Topic 9\",\"x\":0.36250000000000004,\"xanchor\":\"center\",\"xref\":\"paper\",\"y\":0.24444444444444446,\"yanchor\":\"bottom\",\"yref\":\"paper\"}],\"title\":{\"font\":{\"size\":22,\"color\":\"Black\"},\"text\":\"Topic Word Scores\",\"x\":0.5,\"xanchor\":\"center\",\"yanchor\":\"top\"},\"hoverlabel\":{\"font\":{\"size\":16,\"family\":\"Rockwell\"},\"bgcolor\":\"white\"},\"showlegend\":false,\"width\":1000,\"height\":750},                        {\"responsive\": true}                    ).then(function(){\n",
       "                            \n",
       "var gd = document.getElementById('fe48a728-5c09-406d-a6e2-bd0be06170d5');\n",
       "var x = new MutationObserver(function (mutations, observer) {{\n",
       "        var display = window.getComputedStyle(gd).display;\n",
       "        if (!display || display === 'none') {{\n",
       "            console.log([gd, 'removed!']);\n",
       "            Plotly.purge(gd);\n",
       "            observer.disconnect();\n",
       "        }}\n",
       "}});\n",
       "\n",
       "// Listen for the removal of the full notebook cells\n",
       "var notebookContainer = gd.closest('#notebook-container');\n",
       "if (notebookContainer) {{\n",
       "    x.observe(notebookContainer, {childList: true});\n",
       "}}\n",
       "\n",
       "// Listen for the clearing of the current output cell\n",
       "var outputEl = gd.closest('.output');\n",
       "if (outputEl) {{\n",
       "    x.observe(outputEl, {childList: true});\n",
       "}}\n",
       "\n",
       "                        })                };                });            </script>        </div>"
      ]
     },
     "metadata": {},
     "output_type": "display_data"
    }
   ],
   "source": [
    "# visualize topic words/n_grams\n",
    "fig = topic_model.visualize_barchart(top_n_topics=10)\n",
    "fig.show()"
   ]
  },
  {
   "cell_type": "code",
   "execution_count": 37,
   "id": "26b60843-ec6b-43e8-af9b-bd4f516cb09a",
   "metadata": {
    "tags": []
   },
   "outputs": [
    {
     "data": {
      "application/vnd.plotly.v1+json": {
       "config": {
        "plotlyServerURL": "https://plot.ly"
       },
       "data": [
        {
         "customdata": [
          [
           0,
           "balkan insight | macedonia | balkan | macedonian | north macedonia",
           55
          ],
          [
           1,
           "europe committee | judicial council | councils | judges independence | of councils",
           48
          ],
          [
           2,
           "anti corruption | against corruption | corruption as | corruption and | corruption",
           44
          ],
          [
           3,
           "estonia | 2021 | estonian | october 2021 | 2021 err",
           40
          ],
          [
           4,
           "european court | eu justice | tribunal | european commission | court of",
           34
          ],
          [
           5,
           "virtual country | country visit | to slovakia | country report | report slovakia",
           34
          ],
          [
           6,
           "legislative | to legislative | draft law | government has | of 2020",
           31
          ],
          [
           7,
           "europe committee | of journalists | journalists | journalists and | council of",
           28
          ],
          [
           8,
           "corrupt practices | consider corruption | corruption is | punished eu | corruption",
           23
          ],
          [
           9,
           "corruption prevention | on corruption | preventing corruption | prosecutors greco | corruption",
           17
          ],
          [
           10,
           "fisheries minister | was implicated | samherji | slush fund | fisheries",
           15
          ],
          [
           11,
           "democracy score | ratings reflect | ratings for | ratings are | ratings",
           12
          ]
         ],
         "hovertemplate": "<b>Topic %{customdata[0]}</b><br>%{customdata[1]}<br>Size: %{customdata[2]}",
         "legendgroup": "",
         "marker": {
          "color": [
           "red",
           "#B0BEC5",
           "#B0BEC5",
           "#B0BEC5",
           "#B0BEC5",
           "#B0BEC5",
           "#B0BEC5",
           "#B0BEC5",
           "#B0BEC5",
           "#B0BEC5",
           "#B0BEC5",
           "#B0BEC5"
          ],
          "line": {
           "color": "DarkSlateGrey",
           "width": 2
          },
          "size": [
           55,
           48,
           44,
           40,
           34,
           34,
           31,
           28,
           23,
           17,
           15,
           12
          ],
          "sizemode": "area",
          "sizeref": 0.034375,
          "symbol": "circle"
         },
         "mode": "markers",
         "name": "",
         "orientation": "v",
         "showlegend": false,
         "type": "scatter",
         "x": [
          6.9042816162109375,
          5.195193290710449,
          20.049833297729492,
          6.349205493927002,
          4.381833553314209,
          4.790598392486572,
          4.960479259490967,
          5.517388820648193,
          19.73190689086914,
          19.699295043945312,
          6.6731414794921875,
          19.258159637451172
         ],
         "xaxis": "x",
         "y": [
          -7.325531482696533,
          22.869434356689453,
          -9.891645431518555,
          -6.770047187805176,
          21.87769317626953,
          22.528249740600586,
          23.181577682495117,
          22.403545379638672,
          -9.548543930053711,
          -10.445256233215332,
          -7.094625473022461,
          -10.604085922241211
         ],
         "yaxis": "y"
        }
       ],
       "layout": {
        "annotations": [
         {
          "showarrow": false,
          "text": "D1",
          "x": 3.7245585203170775,
          "y": 7.232057762145995,
          "yshift": 10
         },
         {
          "showarrow": false,
          "text": "D2",
          "x": 13.390933406352998,
          "xshift": 10,
          "y": 26.658814334869383
         }
        ],
        "height": 650,
        "hoverlabel": {
         "bgcolor": "white",
         "font": {
          "family": "Rockwell",
          "size": 16
         }
        },
        "legend": {
         "itemsizing": "constant",
         "tracegroupgap": 0
        },
        "margin": {
         "t": 60
        },
        "shapes": [
         {
          "line": {
           "color": "#CFD8DC",
           "width": 2
          },
          "type": "line",
          "x0": 13.390933406352998,
          "x1": 13.390933406352998,
          "y0": -12.194698810577393,
          "y1": 26.658814334869383
         },
         {
          "line": {
           "color": "#9E9E9E",
           "width": 2
          },
          "type": "line",
          "x0": 3.7245585203170775,
          "x1": 23.057308292388917,
          "y0": 7.232057762145995,
          "y1": 7.232057762145995
         }
        ],
        "sliders": [
         {
          "active": 0,
          "pad": {
           "t": 50
          },
          "steps": [
           {
            "args": [
             {
              "marker.color": [
               [
                "red",
                "#B0BEC5",
                "#B0BEC5",
                "#B0BEC5",
                "#B0BEC5",
                "#B0BEC5",
                "#B0BEC5",
                "#B0BEC5",
                "#B0BEC5",
                "#B0BEC5",
                "#B0BEC5",
                "#B0BEC5"
               ]
              ]
             }
            ],
            "label": "Topic 0",
            "method": "update"
           },
           {
            "args": [
             {
              "marker.color": [
               [
                "#B0BEC5",
                "red",
                "#B0BEC5",
                "#B0BEC5",
                "#B0BEC5",
                "#B0BEC5",
                "#B0BEC5",
                "#B0BEC5",
                "#B0BEC5",
                "#B0BEC5",
                "#B0BEC5",
                "#B0BEC5"
               ]
              ]
             }
            ],
            "label": "Topic 1",
            "method": "update"
           },
           {
            "args": [
             {
              "marker.color": [
               [
                "#B0BEC5",
                "#B0BEC5",
                "red",
                "#B0BEC5",
                "#B0BEC5",
                "#B0BEC5",
                "#B0BEC5",
                "#B0BEC5",
                "#B0BEC5",
                "#B0BEC5",
                "#B0BEC5",
                "#B0BEC5"
               ]
              ]
             }
            ],
            "label": "Topic 2",
            "method": "update"
           },
           {
            "args": [
             {
              "marker.color": [
               [
                "#B0BEC5",
                "#B0BEC5",
                "#B0BEC5",
                "red",
                "#B0BEC5",
                "#B0BEC5",
                "#B0BEC5",
                "#B0BEC5",
                "#B0BEC5",
                "#B0BEC5",
                "#B0BEC5",
                "#B0BEC5"
               ]
              ]
             }
            ],
            "label": "Topic 3",
            "method": "update"
           },
           {
            "args": [
             {
              "marker.color": [
               [
                "#B0BEC5",
                "#B0BEC5",
                "#B0BEC5",
                "#B0BEC5",
                "red",
                "#B0BEC5",
                "#B0BEC5",
                "#B0BEC5",
                "#B0BEC5",
                "#B0BEC5",
                "#B0BEC5",
                "#B0BEC5"
               ]
              ]
             }
            ],
            "label": "Topic 4",
            "method": "update"
           },
           {
            "args": [
             {
              "marker.color": [
               [
                "#B0BEC5",
                "#B0BEC5",
                "#B0BEC5",
                "#B0BEC5",
                "#B0BEC5",
                "red",
                "#B0BEC5",
                "#B0BEC5",
                "#B0BEC5",
                "#B0BEC5",
                "#B0BEC5",
                "#B0BEC5"
               ]
              ]
             }
            ],
            "label": "Topic 5",
            "method": "update"
           },
           {
            "args": [
             {
              "marker.color": [
               [
                "#B0BEC5",
                "#B0BEC5",
                "#B0BEC5",
                "#B0BEC5",
                "#B0BEC5",
                "#B0BEC5",
                "red",
                "#B0BEC5",
                "#B0BEC5",
                "#B0BEC5",
                "#B0BEC5",
                "#B0BEC5"
               ]
              ]
             }
            ],
            "label": "Topic 6",
            "method": "update"
           },
           {
            "args": [
             {
              "marker.color": [
               [
                "#B0BEC5",
                "#B0BEC5",
                "#B0BEC5",
                "#B0BEC5",
                "#B0BEC5",
                "#B0BEC5",
                "#B0BEC5",
                "red",
                "#B0BEC5",
                "#B0BEC5",
                "#B0BEC5",
                "#B0BEC5"
               ]
              ]
             }
            ],
            "label": "Topic 7",
            "method": "update"
           },
           {
            "args": [
             {
              "marker.color": [
               [
                "#B0BEC5",
                "#B0BEC5",
                "#B0BEC5",
                "#B0BEC5",
                "#B0BEC5",
                "#B0BEC5",
                "#B0BEC5",
                "#B0BEC5",
                "red",
                "#B0BEC5",
                "#B0BEC5",
                "#B0BEC5"
               ]
              ]
             }
            ],
            "label": "Topic 8",
            "method": "update"
           },
           {
            "args": [
             {
              "marker.color": [
               [
                "#B0BEC5",
                "#B0BEC5",
                "#B0BEC5",
                "#B0BEC5",
                "#B0BEC5",
                "#B0BEC5",
                "#B0BEC5",
                "#B0BEC5",
                "#B0BEC5",
                "red",
                "#B0BEC5",
                "#B0BEC5"
               ]
              ]
             }
            ],
            "label": "Topic 9",
            "method": "update"
           },
           {
            "args": [
             {
              "marker.color": [
               [
                "#B0BEC5",
                "#B0BEC5",
                "#B0BEC5",
                "#B0BEC5",
                "#B0BEC5",
                "#B0BEC5",
                "#B0BEC5",
                "#B0BEC5",
                "#B0BEC5",
                "#B0BEC5",
                "red",
                "#B0BEC5"
               ]
              ]
             }
            ],
            "label": "Topic 10",
            "method": "update"
           },
           {
            "args": [
             {
              "marker.color": [
               [
                "#B0BEC5",
                "#B0BEC5",
                "#B0BEC5",
                "#B0BEC5",
                "#B0BEC5",
                "#B0BEC5",
                "#B0BEC5",
                "#B0BEC5",
                "#B0BEC5",
                "#B0BEC5",
                "#B0BEC5",
                "red"
               ]
              ]
             }
            ],
            "label": "Topic 11",
            "method": "update"
           }
          ]
         }
        ],
        "template": {
         "data": {
          "bar": [
           {
            "error_x": {
             "color": "rgb(36,36,36)"
            },
            "error_y": {
             "color": "rgb(36,36,36)"
            },
            "marker": {
             "line": {
              "color": "white",
              "width": 0.5
             },
             "pattern": {
              "fillmode": "overlay",
              "size": 10,
              "solidity": 0.2
             }
            },
            "type": "bar"
           }
          ],
          "barpolar": [
           {
            "marker": {
             "line": {
              "color": "white",
              "width": 0.5
             },
             "pattern": {
              "fillmode": "overlay",
              "size": 10,
              "solidity": 0.2
             }
            },
            "type": "barpolar"
           }
          ],
          "carpet": [
           {
            "aaxis": {
             "endlinecolor": "rgb(36,36,36)",
             "gridcolor": "white",
             "linecolor": "white",
             "minorgridcolor": "white",
             "startlinecolor": "rgb(36,36,36)"
            },
            "baxis": {
             "endlinecolor": "rgb(36,36,36)",
             "gridcolor": "white",
             "linecolor": "white",
             "minorgridcolor": "white",
             "startlinecolor": "rgb(36,36,36)"
            },
            "type": "carpet"
           }
          ],
          "choropleth": [
           {
            "colorbar": {
             "outlinewidth": 1,
             "tickcolor": "rgb(36,36,36)",
             "ticks": "outside"
            },
            "type": "choropleth"
           }
          ],
          "contour": [
           {
            "colorbar": {
             "outlinewidth": 1,
             "tickcolor": "rgb(36,36,36)",
             "ticks": "outside"
            },
            "colorscale": [
             [
              0,
              "#440154"
             ],
             [
              0.1111111111111111,
              "#482878"
             ],
             [
              0.2222222222222222,
              "#3e4989"
             ],
             [
              0.3333333333333333,
              "#31688e"
             ],
             [
              0.4444444444444444,
              "#26828e"
             ],
             [
              0.5555555555555556,
              "#1f9e89"
             ],
             [
              0.6666666666666666,
              "#35b779"
             ],
             [
              0.7777777777777778,
              "#6ece58"
             ],
             [
              0.8888888888888888,
              "#b5de2b"
             ],
             [
              1,
              "#fde725"
             ]
            ],
            "type": "contour"
           }
          ],
          "contourcarpet": [
           {
            "colorbar": {
             "outlinewidth": 1,
             "tickcolor": "rgb(36,36,36)",
             "ticks": "outside"
            },
            "type": "contourcarpet"
           }
          ],
          "heatmap": [
           {
            "colorbar": {
             "outlinewidth": 1,
             "tickcolor": "rgb(36,36,36)",
             "ticks": "outside"
            },
            "colorscale": [
             [
              0,
              "#440154"
             ],
             [
              0.1111111111111111,
              "#482878"
             ],
             [
              0.2222222222222222,
              "#3e4989"
             ],
             [
              0.3333333333333333,
              "#31688e"
             ],
             [
              0.4444444444444444,
              "#26828e"
             ],
             [
              0.5555555555555556,
              "#1f9e89"
             ],
             [
              0.6666666666666666,
              "#35b779"
             ],
             [
              0.7777777777777778,
              "#6ece58"
             ],
             [
              0.8888888888888888,
              "#b5de2b"
             ],
             [
              1,
              "#fde725"
             ]
            ],
            "type": "heatmap"
           }
          ],
          "heatmapgl": [
           {
            "colorbar": {
             "outlinewidth": 1,
             "tickcolor": "rgb(36,36,36)",
             "ticks": "outside"
            },
            "colorscale": [
             [
              0,
              "#440154"
             ],
             [
              0.1111111111111111,
              "#482878"
             ],
             [
              0.2222222222222222,
              "#3e4989"
             ],
             [
              0.3333333333333333,
              "#31688e"
             ],
             [
              0.4444444444444444,
              "#26828e"
             ],
             [
              0.5555555555555556,
              "#1f9e89"
             ],
             [
              0.6666666666666666,
              "#35b779"
             ],
             [
              0.7777777777777778,
              "#6ece58"
             ],
             [
              0.8888888888888888,
              "#b5de2b"
             ],
             [
              1,
              "#fde725"
             ]
            ],
            "type": "heatmapgl"
           }
          ],
          "histogram": [
           {
            "marker": {
             "line": {
              "color": "white",
              "width": 0.6
             }
            },
            "type": "histogram"
           }
          ],
          "histogram2d": [
           {
            "colorbar": {
             "outlinewidth": 1,
             "tickcolor": "rgb(36,36,36)",
             "ticks": "outside"
            },
            "colorscale": [
             [
              0,
              "#440154"
             ],
             [
              0.1111111111111111,
              "#482878"
             ],
             [
              0.2222222222222222,
              "#3e4989"
             ],
             [
              0.3333333333333333,
              "#31688e"
             ],
             [
              0.4444444444444444,
              "#26828e"
             ],
             [
              0.5555555555555556,
              "#1f9e89"
             ],
             [
              0.6666666666666666,
              "#35b779"
             ],
             [
              0.7777777777777778,
              "#6ece58"
             ],
             [
              0.8888888888888888,
              "#b5de2b"
             ],
             [
              1,
              "#fde725"
             ]
            ],
            "type": "histogram2d"
           }
          ],
          "histogram2dcontour": [
           {
            "colorbar": {
             "outlinewidth": 1,
             "tickcolor": "rgb(36,36,36)",
             "ticks": "outside"
            },
            "colorscale": [
             [
              0,
              "#440154"
             ],
             [
              0.1111111111111111,
              "#482878"
             ],
             [
              0.2222222222222222,
              "#3e4989"
             ],
             [
              0.3333333333333333,
              "#31688e"
             ],
             [
              0.4444444444444444,
              "#26828e"
             ],
             [
              0.5555555555555556,
              "#1f9e89"
             ],
             [
              0.6666666666666666,
              "#35b779"
             ],
             [
              0.7777777777777778,
              "#6ece58"
             ],
             [
              0.8888888888888888,
              "#b5de2b"
             ],
             [
              1,
              "#fde725"
             ]
            ],
            "type": "histogram2dcontour"
           }
          ],
          "mesh3d": [
           {
            "colorbar": {
             "outlinewidth": 1,
             "tickcolor": "rgb(36,36,36)",
             "ticks": "outside"
            },
            "type": "mesh3d"
           }
          ],
          "parcoords": [
           {
            "line": {
             "colorbar": {
              "outlinewidth": 1,
              "tickcolor": "rgb(36,36,36)",
              "ticks": "outside"
             }
            },
            "type": "parcoords"
           }
          ],
          "pie": [
           {
            "automargin": true,
            "type": "pie"
           }
          ],
          "scatter": [
           {
            "fillpattern": {
             "fillmode": "overlay",
             "size": 10,
             "solidity": 0.2
            },
            "type": "scatter"
           }
          ],
          "scatter3d": [
           {
            "line": {
             "colorbar": {
              "outlinewidth": 1,
              "tickcolor": "rgb(36,36,36)",
              "ticks": "outside"
             }
            },
            "marker": {
             "colorbar": {
              "outlinewidth": 1,
              "tickcolor": "rgb(36,36,36)",
              "ticks": "outside"
             }
            },
            "type": "scatter3d"
           }
          ],
          "scattercarpet": [
           {
            "marker": {
             "colorbar": {
              "outlinewidth": 1,
              "tickcolor": "rgb(36,36,36)",
              "ticks": "outside"
             }
            },
            "type": "scattercarpet"
           }
          ],
          "scattergeo": [
           {
            "marker": {
             "colorbar": {
              "outlinewidth": 1,
              "tickcolor": "rgb(36,36,36)",
              "ticks": "outside"
             }
            },
            "type": "scattergeo"
           }
          ],
          "scattergl": [
           {
            "marker": {
             "colorbar": {
              "outlinewidth": 1,
              "tickcolor": "rgb(36,36,36)",
              "ticks": "outside"
             }
            },
            "type": "scattergl"
           }
          ],
          "scattermapbox": [
           {
            "marker": {
             "colorbar": {
              "outlinewidth": 1,
              "tickcolor": "rgb(36,36,36)",
              "ticks": "outside"
             }
            },
            "type": "scattermapbox"
           }
          ],
          "scatterpolar": [
           {
            "marker": {
             "colorbar": {
              "outlinewidth": 1,
              "tickcolor": "rgb(36,36,36)",
              "ticks": "outside"
             }
            },
            "type": "scatterpolar"
           }
          ],
          "scatterpolargl": [
           {
            "marker": {
             "colorbar": {
              "outlinewidth": 1,
              "tickcolor": "rgb(36,36,36)",
              "ticks": "outside"
             }
            },
            "type": "scatterpolargl"
           }
          ],
          "scatterternary": [
           {
            "marker": {
             "colorbar": {
              "outlinewidth": 1,
              "tickcolor": "rgb(36,36,36)",
              "ticks": "outside"
             }
            },
            "type": "scatterternary"
           }
          ],
          "surface": [
           {
            "colorbar": {
             "outlinewidth": 1,
             "tickcolor": "rgb(36,36,36)",
             "ticks": "outside"
            },
            "colorscale": [
             [
              0,
              "#440154"
             ],
             [
              0.1111111111111111,
              "#482878"
             ],
             [
              0.2222222222222222,
              "#3e4989"
             ],
             [
              0.3333333333333333,
              "#31688e"
             ],
             [
              0.4444444444444444,
              "#26828e"
             ],
             [
              0.5555555555555556,
              "#1f9e89"
             ],
             [
              0.6666666666666666,
              "#35b779"
             ],
             [
              0.7777777777777778,
              "#6ece58"
             ],
             [
              0.8888888888888888,
              "#b5de2b"
             ],
             [
              1,
              "#fde725"
             ]
            ],
            "type": "surface"
           }
          ],
          "table": [
           {
            "cells": {
             "fill": {
              "color": "rgb(237,237,237)"
             },
             "line": {
              "color": "white"
             }
            },
            "header": {
             "fill": {
              "color": "rgb(217,217,217)"
             },
             "line": {
              "color": "white"
             }
            },
            "type": "table"
           }
          ]
         },
         "layout": {
          "annotationdefaults": {
           "arrowhead": 0,
           "arrowwidth": 1
          },
          "autotypenumbers": "strict",
          "coloraxis": {
           "colorbar": {
            "outlinewidth": 1,
            "tickcolor": "rgb(36,36,36)",
            "ticks": "outside"
           }
          },
          "colorscale": {
           "diverging": [
            [
             0,
             "rgb(103,0,31)"
            ],
            [
             0.1,
             "rgb(178,24,43)"
            ],
            [
             0.2,
             "rgb(214,96,77)"
            ],
            [
             0.3,
             "rgb(244,165,130)"
            ],
            [
             0.4,
             "rgb(253,219,199)"
            ],
            [
             0.5,
             "rgb(247,247,247)"
            ],
            [
             0.6,
             "rgb(209,229,240)"
            ],
            [
             0.7,
             "rgb(146,197,222)"
            ],
            [
             0.8,
             "rgb(67,147,195)"
            ],
            [
             0.9,
             "rgb(33,102,172)"
            ],
            [
             1,
             "rgb(5,48,97)"
            ]
           ],
           "sequential": [
            [
             0,
             "#440154"
            ],
            [
             0.1111111111111111,
             "#482878"
            ],
            [
             0.2222222222222222,
             "#3e4989"
            ],
            [
             0.3333333333333333,
             "#31688e"
            ],
            [
             0.4444444444444444,
             "#26828e"
            ],
            [
             0.5555555555555556,
             "#1f9e89"
            ],
            [
             0.6666666666666666,
             "#35b779"
            ],
            [
             0.7777777777777778,
             "#6ece58"
            ],
            [
             0.8888888888888888,
             "#b5de2b"
            ],
            [
             1,
             "#fde725"
            ]
           ],
           "sequentialminus": [
            [
             0,
             "#440154"
            ],
            [
             0.1111111111111111,
             "#482878"
            ],
            [
             0.2222222222222222,
             "#3e4989"
            ],
            [
             0.3333333333333333,
             "#31688e"
            ],
            [
             0.4444444444444444,
             "#26828e"
            ],
            [
             0.5555555555555556,
             "#1f9e89"
            ],
            [
             0.6666666666666666,
             "#35b779"
            ],
            [
             0.7777777777777778,
             "#6ece58"
            ],
            [
             0.8888888888888888,
             "#b5de2b"
            ],
            [
             1,
             "#fde725"
            ]
           ]
          },
          "colorway": [
           "#1F77B4",
           "#FF7F0E",
           "#2CA02C",
           "#D62728",
           "#9467BD",
           "#8C564B",
           "#E377C2",
           "#7F7F7F",
           "#BCBD22",
           "#17BECF"
          ],
          "font": {
           "color": "rgb(36,36,36)"
          },
          "geo": {
           "bgcolor": "white",
           "lakecolor": "white",
           "landcolor": "white",
           "showlakes": true,
           "showland": true,
           "subunitcolor": "white"
          },
          "hoverlabel": {
           "align": "left"
          },
          "hovermode": "closest",
          "mapbox": {
           "style": "light"
          },
          "paper_bgcolor": "white",
          "plot_bgcolor": "white",
          "polar": {
           "angularaxis": {
            "gridcolor": "rgb(232,232,232)",
            "linecolor": "rgb(36,36,36)",
            "showgrid": false,
            "showline": true,
            "ticks": "outside"
           },
           "bgcolor": "white",
           "radialaxis": {
            "gridcolor": "rgb(232,232,232)",
            "linecolor": "rgb(36,36,36)",
            "showgrid": false,
            "showline": true,
            "ticks": "outside"
           }
          },
          "scene": {
           "xaxis": {
            "backgroundcolor": "white",
            "gridcolor": "rgb(232,232,232)",
            "gridwidth": 2,
            "linecolor": "rgb(36,36,36)",
            "showbackground": true,
            "showgrid": false,
            "showline": true,
            "ticks": "outside",
            "zeroline": false,
            "zerolinecolor": "rgb(36,36,36)"
           },
           "yaxis": {
            "backgroundcolor": "white",
            "gridcolor": "rgb(232,232,232)",
            "gridwidth": 2,
            "linecolor": "rgb(36,36,36)",
            "showbackground": true,
            "showgrid": false,
            "showline": true,
            "ticks": "outside",
            "zeroline": false,
            "zerolinecolor": "rgb(36,36,36)"
           },
           "zaxis": {
            "backgroundcolor": "white",
            "gridcolor": "rgb(232,232,232)",
            "gridwidth": 2,
            "linecolor": "rgb(36,36,36)",
            "showbackground": true,
            "showgrid": false,
            "showline": true,
            "ticks": "outside",
            "zeroline": false,
            "zerolinecolor": "rgb(36,36,36)"
           }
          },
          "shapedefaults": {
           "fillcolor": "black",
           "line": {
            "width": 0
           },
           "opacity": 0.3
          },
          "ternary": {
           "aaxis": {
            "gridcolor": "rgb(232,232,232)",
            "linecolor": "rgb(36,36,36)",
            "showgrid": false,
            "showline": true,
            "ticks": "outside"
           },
           "baxis": {
            "gridcolor": "rgb(232,232,232)",
            "linecolor": "rgb(36,36,36)",
            "showgrid": false,
            "showline": true,
            "ticks": "outside"
           },
           "bgcolor": "white",
           "caxis": {
            "gridcolor": "rgb(232,232,232)",
            "linecolor": "rgb(36,36,36)",
            "showgrid": false,
            "showline": true,
            "ticks": "outside"
           }
          },
          "title": {
           "x": 0.05
          },
          "xaxis": {
           "automargin": true,
           "gridcolor": "rgb(232,232,232)",
           "linecolor": "rgb(36,36,36)",
           "showgrid": false,
           "showline": true,
           "ticks": "outside",
           "title": {
            "standoff": 15
           },
           "zeroline": false,
           "zerolinecolor": "rgb(36,36,36)"
          },
          "yaxis": {
           "automargin": true,
           "gridcolor": "rgb(232,232,232)",
           "linecolor": "rgb(36,36,36)",
           "showgrid": false,
           "showline": true,
           "ticks": "outside",
           "title": {
            "standoff": 15
           },
           "zeroline": false,
           "zerolinecolor": "rgb(36,36,36)"
          }
         }
        },
        "title": {
         "font": {
          "color": "Black",
          "size": 22
         },
         "text": "<b>Intertopic Distance Map</b>",
         "x": 0.5,
         "xanchor": "center",
         "y": 0.95,
         "yanchor": "top"
        },
        "width": 650,
        "xaxis": {
         "anchor": "y",
         "domain": [
          0,
          1
         ],
         "range": [
          3.7245585203170775,
          23.057308292388917
         ],
         "title": {
          "text": ""
         },
         "type": "linear",
         "visible": false
        },
        "yaxis": {
         "anchor": "x",
         "domain": [
          0,
          1
         ],
         "range": [
          -12.194698810577393,
          26.658814334869383
         ],
         "title": {
          "text": ""
         },
         "type": "linear",
         "visible": false
        }
       }
      },
      "image/png": "[encoded data removed]",
      "text/html": [
       "<div>                            <div id=\"162670fe-1f3b-4a19-8430-3aa32d7bc872\" class=\"plotly-graph-div\" style=\"height:650px; width:650px;\"></div>            <script type=\"text/javascript\">                require([\"plotly\"], function(Plotly) {                    window.PLOTLYENV=window.PLOTLYENV || {};                                    if (document.getElementById(\"162670fe-1f3b-4a19-8430-3aa32d7bc872\")) {                    Plotly.newPlot(                        \"162670fe-1f3b-4a19-8430-3aa32d7bc872\",                        [{\"customdata\":[[0,\"balkan insight | macedonia | balkan | macedonian | north macedonia\",55],[1,\"europe committee | judicial council | councils | judges independence | of councils\",48],[2,\"anti corruption | against corruption | corruption as | corruption and | corruption\",44],[3,\"estonia | 2021 | estonian | october 2021 | 2021 err\",40],[4,\"european court | eu justice | tribunal | european commission | court of\",34],[5,\"virtual country | country visit | to slovakia | country report | report slovakia\",34],[6,\"legislative | to legislative | draft law | government has | of 2020\",31],[7,\"europe committee | of journalists | journalists | journalists and | council of\",28],[8,\"corrupt practices | consider corruption | corruption is | punished eu | corruption\",23],[9,\"corruption prevention | on corruption | preventing corruption | prosecutors greco | corruption\",17],[10,\"fisheries minister | was implicated | samherji | slush fund | fisheries\",15],[11,\"democracy score | ratings reflect | ratings for | ratings are | ratings\",12]],\"hovertemplate\":\"\\u003cb\\u003eTopic %{customdata[0]}\\u003c\\u002fb\\u003e\\u003cbr\\u003e%{customdata[1]}\\u003cbr\\u003eSize: %{customdata[2]}\",\"legendgroup\":\"\",\"marker\":{\"color\":\"#B0BEC5\",\"size\":[55,48,44,40,34,34,31,28,23,17,15,12],\"sizemode\":\"area\",\"sizeref\":0.034375,\"symbol\":\"circle\",\"line\":{\"color\":\"DarkSlateGrey\",\"width\":2}},\"mode\":\"markers\",\"name\":\"\",\"orientation\":\"v\",\"showlegend\":false,\"x\":[6.9042816162109375,5.195193290710449,20.049833297729492,6.349205493927002,4.381833553314209,4.790598392486572,4.960479259490967,5.517388820648193,19.73190689086914,19.699295043945312,6.6731414794921875,19.258159637451172],\"xaxis\":\"x\",\"y\":[-7.325531482696533,22.869434356689453,-9.891645431518555,-6.770047187805176,21.87769317626953,22.528249740600586,23.181577682495117,22.403545379638672,-9.548543930053711,-10.445256233215332,-7.094625473022461,-10.604085922241211],\"yaxis\":\"y\",\"type\":\"scatter\"}],                        {\"template\":{\"data\":{\"barpolar\":[{\"marker\":{\"line\":{\"color\":\"white\",\"width\":0.5},\"pattern\":{\"fillmode\":\"overlay\",\"size\":10,\"solidity\":0.2}},\"type\":\"barpolar\"}],\"bar\":[{\"error_x\":{\"color\":\"rgb(36,36,36)\"},\"error_y\":{\"color\":\"rgb(36,36,36)\"},\"marker\":{\"line\":{\"color\":\"white\",\"width\":0.5},\"pattern\":{\"fillmode\":\"overlay\",\"size\":10,\"solidity\":0.2}},\"type\":\"bar\"}],\"carpet\":[{\"aaxis\":{\"endlinecolor\":\"rgb(36,36,36)\",\"gridcolor\":\"white\",\"linecolor\":\"white\",\"minorgridcolor\":\"white\",\"startlinecolor\":\"rgb(36,36,36)\"},\"baxis\":{\"endlinecolor\":\"rgb(36,36,36)\",\"gridcolor\":\"white\",\"linecolor\":\"white\",\"minorgridcolor\":\"white\",\"startlinecolor\":\"rgb(36,36,36)\"},\"type\":\"carpet\"}],\"choropleth\":[{\"colorbar\":{\"outlinewidth\":1,\"tickcolor\":\"rgb(36,36,36)\",\"ticks\":\"outside\"},\"type\":\"choropleth\"}],\"contourcarpet\":[{\"colorbar\":{\"outlinewidth\":1,\"tickcolor\":\"rgb(36,36,36)\",\"ticks\":\"outside\"},\"type\":\"contourcarpet\"}],\"contour\":[{\"colorbar\":{\"outlinewidth\":1,\"tickcolor\":\"rgb(36,36,36)\",\"ticks\":\"outside\"},\"colorscale\":[[0.0,\"#440154\"],[0.1111111111111111,\"#482878\"],[0.2222222222222222,\"#3e4989\"],[0.3333333333333333,\"#31688e\"],[0.4444444444444444,\"#26828e\"],[0.5555555555555556,\"#1f9e89\"],[0.6666666666666666,\"#35b779\"],[0.7777777777777778,\"#6ece58\"],[0.8888888888888888,\"#b5de2b\"],[1.0,\"#fde725\"]],\"type\":\"contour\"}],\"heatmapgl\":[{\"colorbar\":{\"outlinewidth\":1,\"tickcolor\":\"rgb(36,36,36)\",\"ticks\":\"outside\"},\"colorscale\":[[0.0,\"#440154\"],[0.1111111111111111,\"#482878\"],[0.2222222222222222,\"#3e4989\"],[0.3333333333333333,\"#31688e\"],[0.4444444444444444,\"#26828e\"],[0.5555555555555556,\"#1f9e89\"],[0.6666666666666666,\"#35b779\"],[0.7777777777777778,\"#6ece58\"],[0.8888888888888888,\"#b5de2b\"],[1.0,\"#fde725\"]],\"type\":\"heatmapgl\"}],\"heatmap\":[{\"colorbar\":{\"outlinewidth\":1,\"tickcolor\":\"rgb(36,36,36)\",\"ticks\":\"outside\"},\"colorscale\":[[0.0,\"#440154\"],[0.1111111111111111,\"#482878\"],[0.2222222222222222,\"#3e4989\"],[0.3333333333333333,\"#31688e\"],[0.4444444444444444,\"#26828e\"],[0.5555555555555556,\"#1f9e89\"],[0.6666666666666666,\"#35b779\"],[0.7777777777777778,\"#6ece58\"],[0.8888888888888888,\"#b5de2b\"],[1.0,\"#fde725\"]],\"type\":\"heatmap\"}],\"histogram2dcontour\":[{\"colorbar\":{\"outlinewidth\":1,\"tickcolor\":\"rgb(36,36,36)\",\"ticks\":\"outside\"},\"colorscale\":[[0.0,\"#440154\"],[0.1111111111111111,\"#482878\"],[0.2222222222222222,\"#3e4989\"],[0.3333333333333333,\"#31688e\"],[0.4444444444444444,\"#26828e\"],[0.5555555555555556,\"#1f9e89\"],[0.6666666666666666,\"#35b779\"],[0.7777777777777778,\"#6ece58\"],[0.8888888888888888,\"#b5de2b\"],[1.0,\"#fde725\"]],\"type\":\"histogram2dcontour\"}],\"histogram2d\":[{\"colorbar\":{\"outlinewidth\":1,\"tickcolor\":\"rgb(36,36,36)\",\"ticks\":\"outside\"},\"colorscale\":[[0.0,\"#440154\"],[0.1111111111111111,\"#482878\"],[0.2222222222222222,\"#3e4989\"],[0.3333333333333333,\"#31688e\"],[0.4444444444444444,\"#26828e\"],[0.5555555555555556,\"#1f9e89\"],[0.6666666666666666,\"#35b779\"],[0.7777777777777778,\"#6ece58\"],[0.8888888888888888,\"#b5de2b\"],[1.0,\"#fde725\"]],\"type\":\"histogram2d\"}],\"histogram\":[{\"marker\":{\"line\":{\"color\":\"white\",\"width\":0.6}},\"type\":\"histogram\"}],\"mesh3d\":[{\"colorbar\":{\"outlinewidth\":1,\"tickcolor\":\"rgb(36,36,36)\",\"ticks\":\"outside\"},\"type\":\"mesh3d\"}],\"parcoords\":[{\"line\":{\"colorbar\":{\"outlinewidth\":1,\"tickcolor\":\"rgb(36,36,36)\",\"ticks\":\"outside\"}},\"type\":\"parcoords\"}],\"pie\":[{\"automargin\":true,\"type\":\"pie\"}],\"scatter3d\":[{\"line\":{\"colorbar\":{\"outlinewidth\":1,\"tickcolor\":\"rgb(36,36,36)\",\"ticks\":\"outside\"}},\"marker\":{\"colorbar\":{\"outlinewidth\":1,\"tickcolor\":\"rgb(36,36,36)\",\"ticks\":\"outside\"}},\"type\":\"scatter3d\"}],\"scattercarpet\":[{\"marker\":{\"colorbar\":{\"outlinewidth\":1,\"tickcolor\":\"rgb(36,36,36)\",\"ticks\":\"outside\"}},\"type\":\"scattercarpet\"}],\"scattergeo\":[{\"marker\":{\"colorbar\":{\"outlinewidth\":1,\"tickcolor\":\"rgb(36,36,36)\",\"ticks\":\"outside\"}},\"type\":\"scattergeo\"}],\"scattergl\":[{\"marker\":{\"colorbar\":{\"outlinewidth\":1,\"tickcolor\":\"rgb(36,36,36)\",\"ticks\":\"outside\"}},\"type\":\"scattergl\"}],\"scattermapbox\":[{\"marker\":{\"colorbar\":{\"outlinewidth\":1,\"tickcolor\":\"rgb(36,36,36)\",\"ticks\":\"outside\"}},\"type\":\"scattermapbox\"}],\"scatterpolargl\":[{\"marker\":{\"colorbar\":{\"outlinewidth\":1,\"tickcolor\":\"rgb(36,36,36)\",\"ticks\":\"outside\"}},\"type\":\"scatterpolargl\"}],\"scatterpolar\":[{\"marker\":{\"colorbar\":{\"outlinewidth\":1,\"tickcolor\":\"rgb(36,36,36)\",\"ticks\":\"outside\"}},\"type\":\"scatterpolar\"}],\"scatter\":[{\"fillpattern\":{\"fillmode\":\"overlay\",\"size\":10,\"solidity\":0.2},\"type\":\"scatter\"}],\"scatterternary\":[{\"marker\":{\"colorbar\":{\"outlinewidth\":1,\"tickcolor\":\"rgb(36,36,36)\",\"ticks\":\"outside\"}},\"type\":\"scatterternary\"}],\"surface\":[{\"colorbar\":{\"outlinewidth\":1,\"tickcolor\":\"rgb(36,36,36)\",\"ticks\":\"outside\"},\"colorscale\":[[0.0,\"#440154\"],[0.1111111111111111,\"#482878\"],[0.2222222222222222,\"#3e4989\"],[0.3333333333333333,\"#31688e\"],[0.4444444444444444,\"#26828e\"],[0.5555555555555556,\"#1f9e89\"],[0.6666666666666666,\"#35b779\"],[0.7777777777777778,\"#6ece58\"],[0.8888888888888888,\"#b5de2b\"],[1.0,\"#fde725\"]],\"type\":\"surface\"}],\"table\":[{\"cells\":{\"fill\":{\"color\":\"rgb(237,237,237)\"},\"line\":{\"color\":\"white\"}},\"header\":{\"fill\":{\"color\":\"rgb(217,217,217)\"},\"line\":{\"color\":\"white\"}},\"type\":\"table\"}]},\"layout\":{\"annotationdefaults\":{\"arrowhead\":0,\"arrowwidth\":1},\"autotypenumbers\":\"strict\",\"coloraxis\":{\"colorbar\":{\"outlinewidth\":1,\"tickcolor\":\"rgb(36,36,36)\",\"ticks\":\"outside\"}},\"colorscale\":{\"diverging\":[[0.0,\"rgb(103,0,31)\"],[0.1,\"rgb(178,24,43)\"],[0.2,\"rgb(214,96,77)\"],[0.3,\"rgb(244,165,130)\"],[0.4,\"rgb(253,219,199)\"],[0.5,\"rgb(247,247,247)\"],[0.6,\"rgb(209,229,240)\"],[0.7,\"rgb(146,197,222)\"],[0.8,\"rgb(67,147,195)\"],[0.9,\"rgb(33,102,172)\"],[1.0,\"rgb(5,48,97)\"]],\"sequential\":[[0.0,\"#440154\"],[0.1111111111111111,\"#482878\"],[0.2222222222222222,\"#3e4989\"],[0.3333333333333333,\"#31688e\"],[0.4444444444444444,\"#26828e\"],[0.5555555555555556,\"#1f9e89\"],[0.6666666666666666,\"#35b779\"],[0.7777777777777778,\"#6ece58\"],[0.8888888888888888,\"#b5de2b\"],[1.0,\"#fde725\"]],\"sequentialminus\":[[0.0,\"#440154\"],[0.1111111111111111,\"#482878\"],[0.2222222222222222,\"#3e4989\"],[0.3333333333333333,\"#31688e\"],[0.4444444444444444,\"#26828e\"],[0.5555555555555556,\"#1f9e89\"],[0.6666666666666666,\"#35b779\"],[0.7777777777777778,\"#6ece58\"],[0.8888888888888888,\"#b5de2b\"],[1.0,\"#fde725\"]]},\"colorway\":[\"#1F77B4\",\"#FF7F0E\",\"#2CA02C\",\"#D62728\",\"#9467BD\",\"#8C564B\",\"#E377C2\",\"#7F7F7F\",\"#BCBD22\",\"#17BECF\"],\"font\":{\"color\":\"rgb(36,36,36)\"},\"geo\":{\"bgcolor\":\"white\",\"lakecolor\":\"white\",\"landcolor\":\"white\",\"showlakes\":true,\"showland\":true,\"subunitcolor\":\"white\"},\"hoverlabel\":{\"align\":\"left\"},\"hovermode\":\"closest\",\"mapbox\":{\"style\":\"light\"},\"paper_bgcolor\":\"white\",\"plot_bgcolor\":\"white\",\"polar\":{\"angularaxis\":{\"gridcolor\":\"rgb(232,232,232)\",\"linecolor\":\"rgb(36,36,36)\",\"showgrid\":false,\"showline\":true,\"ticks\":\"outside\"},\"bgcolor\":\"white\",\"radialaxis\":{\"gridcolor\":\"rgb(232,232,232)\",\"linecolor\":\"rgb(36,36,36)\",\"showgrid\":false,\"showline\":true,\"ticks\":\"outside\"}},\"scene\":{\"xaxis\":{\"backgroundcolor\":\"white\",\"gridcolor\":\"rgb(232,232,232)\",\"gridwidth\":2,\"linecolor\":\"rgb(36,36,36)\",\"showbackground\":true,\"showgrid\":false,\"showline\":true,\"ticks\":\"outside\",\"zeroline\":false,\"zerolinecolor\":\"rgb(36,36,36)\"},\"yaxis\":{\"backgroundcolor\":\"white\",\"gridcolor\":\"rgb(232,232,232)\",\"gridwidth\":2,\"linecolor\":\"rgb(36,36,36)\",\"showbackground\":true,\"showgrid\":false,\"showline\":true,\"ticks\":\"outside\",\"zeroline\":false,\"zerolinecolor\":\"rgb(36,36,36)\"},\"zaxis\":{\"backgroundcolor\":\"white\",\"gridcolor\":\"rgb(232,232,232)\",\"gridwidth\":2,\"linecolor\":\"rgb(36,36,36)\",\"showbackground\":true,\"showgrid\":false,\"showline\":true,\"ticks\":\"outside\",\"zeroline\":false,\"zerolinecolor\":\"rgb(36,36,36)\"}},\"shapedefaults\":{\"fillcolor\":\"black\",\"line\":{\"width\":0},\"opacity\":0.3},\"ternary\":{\"aaxis\":{\"gridcolor\":\"rgb(232,232,232)\",\"linecolor\":\"rgb(36,36,36)\",\"showgrid\":false,\"showline\":true,\"ticks\":\"outside\"},\"baxis\":{\"gridcolor\":\"rgb(232,232,232)\",\"linecolor\":\"rgb(36,36,36)\",\"showgrid\":false,\"showline\":true,\"ticks\":\"outside\"},\"bgcolor\":\"white\",\"caxis\":{\"gridcolor\":\"rgb(232,232,232)\",\"linecolor\":\"rgb(36,36,36)\",\"showgrid\":false,\"showline\":true,\"ticks\":\"outside\"}},\"title\":{\"x\":0.05},\"xaxis\":{\"automargin\":true,\"gridcolor\":\"rgb(232,232,232)\",\"linecolor\":\"rgb(36,36,36)\",\"showgrid\":false,\"showline\":true,\"ticks\":\"outside\",\"title\":{\"standoff\":15},\"zeroline\":false,\"zerolinecolor\":\"rgb(36,36,36)\"},\"yaxis\":{\"automargin\":true,\"gridcolor\":\"rgb(232,232,232)\",\"linecolor\":\"rgb(36,36,36)\",\"showgrid\":false,\"showline\":true,\"ticks\":\"outside\",\"title\":{\"standoff\":15},\"zeroline\":false,\"zerolinecolor\":\"rgb(36,36,36)\"}}},\"xaxis\":{\"anchor\":\"y\",\"domain\":[0.0,1.0],\"title\":{\"text\":\"\"},\"visible\":false,\"range\":[3.7245585203170775,23.057308292388917]},\"yaxis\":{\"anchor\":\"x\",\"domain\":[0.0,1.0],\"title\":{\"text\":\"\"},\"visible\":false,\"range\":[-12.194698810577393,26.658814334869383]},\"legend\":{\"tracegroupgap\":0,\"itemsizing\":\"constant\"},\"margin\":{\"t\":60},\"title\":{\"font\":{\"size\":22,\"color\":\"Black\"},\"text\":\"\\u003cb\\u003eIntertopic Distance Map\\u003c\\u002fb\\u003e\",\"y\":0.95,\"x\":0.5,\"xanchor\":\"center\",\"yanchor\":\"top\"},\"hoverlabel\":{\"font\":{\"size\":16,\"family\":\"Rockwell\"},\"bgcolor\":\"white\"},\"width\":650,\"height\":650,\"sliders\":[{\"active\":0,\"pad\":{\"t\":50},\"steps\":[{\"args\":[{\"marker.color\":[[\"red\",\"#B0BEC5\",\"#B0BEC5\",\"#B0BEC5\",\"#B0BEC5\",\"#B0BEC5\",\"#B0BEC5\",\"#B0BEC5\",\"#B0BEC5\",\"#B0BEC5\",\"#B0BEC5\",\"#B0BEC5\"]]}],\"label\":\"Topic 0\",\"method\":\"update\"},{\"args\":[{\"marker.color\":[[\"#B0BEC5\",\"red\",\"#B0BEC5\",\"#B0BEC5\",\"#B0BEC5\",\"#B0BEC5\",\"#B0BEC5\",\"#B0BEC5\",\"#B0BEC5\",\"#B0BEC5\",\"#B0BEC5\",\"#B0BEC5\"]]}],\"label\":\"Topic 1\",\"method\":\"update\"},{\"args\":[{\"marker.color\":[[\"#B0BEC5\",\"#B0BEC5\",\"red\",\"#B0BEC5\",\"#B0BEC5\",\"#B0BEC5\",\"#B0BEC5\",\"#B0BEC5\",\"#B0BEC5\",\"#B0BEC5\",\"#B0BEC5\",\"#B0BEC5\"]]}],\"label\":\"Topic 2\",\"method\":\"update\"},{\"args\":[{\"marker.color\":[[\"#B0BEC5\",\"#B0BEC5\",\"#B0BEC5\",\"red\",\"#B0BEC5\",\"#B0BEC5\",\"#B0BEC5\",\"#B0BEC5\",\"#B0BEC5\",\"#B0BEC5\",\"#B0BEC5\",\"#B0BEC5\"]]}],\"label\":\"Topic 3\",\"method\":\"update\"},{\"args\":[{\"marker.color\":[[\"#B0BEC5\",\"#B0BEC5\",\"#B0BEC5\",\"#B0BEC5\",\"red\",\"#B0BEC5\",\"#B0BEC5\",\"#B0BEC5\",\"#B0BEC5\",\"#B0BEC5\",\"#B0BEC5\",\"#B0BEC5\"]]}],\"label\":\"Topic 4\",\"method\":\"update\"},{\"args\":[{\"marker.color\":[[\"#B0BEC5\",\"#B0BEC5\",\"#B0BEC5\",\"#B0BEC5\",\"#B0BEC5\",\"red\",\"#B0BEC5\",\"#B0BEC5\",\"#B0BEC5\",\"#B0BEC5\",\"#B0BEC5\",\"#B0BEC5\"]]}],\"label\":\"Topic 5\",\"method\":\"update\"},{\"args\":[{\"marker.color\":[[\"#B0BEC5\",\"#B0BEC5\",\"#B0BEC5\",\"#B0BEC5\",\"#B0BEC5\",\"#B0BEC5\",\"red\",\"#B0BEC5\",\"#B0BEC5\",\"#B0BEC5\",\"#B0BEC5\",\"#B0BEC5\"]]}],\"label\":\"Topic 6\",\"method\":\"update\"},{\"args\":[{\"marker.color\":[[\"#B0BEC5\",\"#B0BEC5\",\"#B0BEC5\",\"#B0BEC5\",\"#B0BEC5\",\"#B0BEC5\",\"#B0BEC5\",\"red\",\"#B0BEC5\",\"#B0BEC5\",\"#B0BEC5\",\"#B0BEC5\"]]}],\"label\":\"Topic 7\",\"method\":\"update\"},{\"args\":[{\"marker.color\":[[\"#B0BEC5\",\"#B0BEC5\",\"#B0BEC5\",\"#B0BEC5\",\"#B0BEC5\",\"#B0BEC5\",\"#B0BEC5\",\"#B0BEC5\",\"red\",\"#B0BEC5\",\"#B0BEC5\",\"#B0BEC5\"]]}],\"label\":\"Topic 8\",\"method\":\"update\"},{\"args\":[{\"marker.color\":[[\"#B0BEC5\",\"#B0BEC5\",\"#B0BEC5\",\"#B0BEC5\",\"#B0BEC5\",\"#B0BEC5\",\"#B0BEC5\",\"#B0BEC5\",\"#B0BEC5\",\"red\",\"#B0BEC5\",\"#B0BEC5\"]]}],\"label\":\"Topic 9\",\"method\":\"update\"},{\"args\":[{\"marker.color\":[[\"#B0BEC5\",\"#B0BEC5\",\"#B0BEC5\",\"#B0BEC5\",\"#B0BEC5\",\"#B0BEC5\",\"#B0BEC5\",\"#B0BEC5\",\"#B0BEC5\",\"#B0BEC5\",\"red\",\"#B0BEC5\"]]}],\"label\":\"Topic 10\",\"method\":\"update\"},{\"args\":[{\"marker.color\":[[\"#B0BEC5\",\"#B0BEC5\",\"#B0BEC5\",\"#B0BEC5\",\"#B0BEC5\",\"#B0BEC5\",\"#B0BEC5\",\"#B0BEC5\",\"#B0BEC5\",\"#B0BEC5\",\"#B0BEC5\",\"red\"]]}],\"label\":\"Topic 11\",\"method\":\"update\"}]}],\"shapes\":[{\"line\":{\"color\":\"#CFD8DC\",\"width\":2},\"type\":\"line\",\"x0\":13.390933406352998,\"x1\":13.390933406352998,\"y0\":-12.194698810577393,\"y1\":26.658814334869383},{\"line\":{\"color\":\"#9E9E9E\",\"width\":2},\"type\":\"line\",\"x0\":3.7245585203170775,\"x1\":23.057308292388917,\"y0\":7.232057762145995,\"y1\":7.232057762145995}],\"annotations\":[{\"showarrow\":false,\"text\":\"D1\",\"x\":3.7245585203170775,\"y\":7.232057762145995,\"yshift\":10},{\"showarrow\":false,\"text\":\"D2\",\"x\":13.390933406352998,\"xshift\":10,\"y\":26.658814334869383}]},                        {\"responsive\": true}                    ).then(function(){\n",
       "                            \n",
       "var gd = document.getElementById('162670fe-1f3b-4a19-8430-3aa32d7bc872');\n",
       "var x = new MutationObserver(function (mutations, observer) {{\n",
       "        var display = window.getComputedStyle(gd).display;\n",
       "        if (!display || display === 'none') {{\n",
       "            console.log([gd, 'removed!']);\n",
       "            Plotly.purge(gd);\n",
       "            observer.disconnect();\n",
       "        }}\n",
       "}});\n",
       "\n",
       "// Listen for the removal of the full notebook cells\n",
       "var notebookContainer = gd.closest('#notebook-container');\n",
       "if (notebookContainer) {{\n",
       "    x.observe(notebookContainer, {childList: true});\n",
       "}}\n",
       "\n",
       "// Listen for the clearing of the current output cell\n",
       "var outputEl = gd.closest('.output');\n",
       "if (outputEl) {{\n",
       "    x.observe(outputEl, {childList: true});\n",
       "}}\n",
       "\n",
       "                        })                };                });            </script>        </div>"
      ]
     },
     "metadata": {},
     "output_type": "display_data"
    }
   ],
   "source": [
    "topic_model.visualize_topics()"
   ]
  },
  {
   "cell_type": "code",
   "execution_count": 38,
   "id": "70f9407c-6688-4102-a065-d6dee9f6c521",
   "metadata": {
    "tags": []
   },
   "outputs": [
    {
     "data": {
      "application/vnd.plotly.v1+json": {
       "config": {
        "plotlyServerURL": "https://plot.ly"
       },
       "data": [
        {
         "hoverinfo": "text",
         "marker": {
          "color": "rgb(61,153,112)"
         },
         "mode": "lines",
         "type": "scatter",
         "x": [
          0,
          0.6417479103866488,
          0.6417479103866488,
          0
         ],
         "xaxis": "x",
         "y": [
          -5,
          -5,
          -15,
          -15
         ],
         "yaxis": "y"
        },
        {
         "hoverinfo": "text",
         "marker": {
          "color": "rgb(61,153,112)"
         },
         "mode": "lines",
         "type": "scatter",
         "x": [
          0,
          0.7974184851358957,
          0.7974184851358957,
          0
         ],
         "xaxis": "x",
         "y": [
          -25,
          -25,
          -35,
          -35
         ],
         "yaxis": "y"
        },
        {
         "hoverinfo": "text",
         "marker": {
          "color": "rgb(61,153,112)"
         },
         "mode": "lines",
         "type": "scatter",
         "x": [
          0.6417479103866488,
          0.8652808785257379,
          0.8652808785257379,
          0.7974184851358957
         ],
         "xaxis": "x",
         "y": [
          -10,
          -10,
          -30,
          -30
         ],
         "yaxis": "y"
        },
        {
         "hoverinfo": "text",
         "marker": {
          "color": "rgb(255,65,54)"
         },
         "mode": "lines",
         "type": "scatter",
         "x": [
          0,
          0.7496598346904564,
          0.7496598346904564,
          0
         ],
         "xaxis": "x",
         "y": [
          -75,
          -75,
          -85,
          -85
         ],
         "yaxis": "y"
        },
        {
         "hoverinfo": "text",
         "marker": {
          "color": "rgb(255,65,54)"
         },
         "mode": "lines",
         "type": "scatter",
         "x": [
          0.7496598346904564,
          0.8194982511463239,
          0.8194982511463239,
          0
         ],
         "xaxis": "x",
         "y": [
          -80,
          -80,
          -95,
          -95
         ],
         "yaxis": "y"
        },
        {
         "hoverinfo": "text",
         "marker": {
          "color": "rgb(255,65,54)"
         },
         "mode": "lines",
         "type": "scatter",
         "x": [
          0,
          0.8394185372918574,
          0.8394185372918574,
          0.8194982511463239
         ],
         "xaxis": "x",
         "y": [
          -65,
          -65,
          -87.5,
          -87.5
         ],
         "yaxis": "y"
        },
        {
         "hoverinfo": "text",
         "marker": {
          "color": "rgb(255,65,54)"
         },
         "mode": "lines",
         "type": "scatter",
         "x": [
          0.8394185372918574,
          0.8489946020199216,
          0.8489946020199216,
          0
         ],
         "xaxis": "x",
         "y": [
          -76.25,
          -76.25,
          -105,
          -105
         ],
         "yaxis": "y"
        },
        {
         "hoverinfo": "text",
         "marker": {
          "color": "rgb(255,65,54)"
         },
         "mode": "lines",
         "type": "scatter",
         "x": [
          0,
          0.9023244323850711,
          0.9023244323850711,
          0.8489946020199216
         ],
         "xaxis": "x",
         "y": [
          -55,
          -55,
          -90.625,
          -90.625
         ],
         "yaxis": "y"
        },
        {
         "hoverinfo": "text",
         "marker": {
          "color": "rgb(255,65,54)"
         },
         "mode": "lines",
         "type": "scatter",
         "x": [
          0,
          0.9193895196590652,
          0.9193895196590652,
          0.9023244323850711
         ],
         "xaxis": "x",
         "y": [
          -45,
          -45,
          -72.8125,
          -72.8125
         ],
         "yaxis": "y"
        },
        {
         "hoverinfo": "text",
         "marker": {
          "color": "rgb(255,65,54)"
         },
         "mode": "lines",
         "type": "scatter",
         "x": [
          0.9193895196590652,
          0.9441679032227627,
          0.9441679032227627,
          0
         ],
         "xaxis": "x",
         "y": [
          -58.90625,
          -58.90625,
          -115,
          -115
         ],
         "yaxis": "y"
        },
        {
         "hoverinfo": "text",
         "marker": {
          "color": "rgb(0,116,217)"
         },
         "mode": "lines",
         "type": "scatter",
         "x": [
          0.8652808785257379,
          1.0953475846092642,
          1.0953475846092642,
          0.9441679032227627
         ],
         "xaxis": "x",
         "y": [
          -20,
          -20,
          -86.953125,
          -86.953125
         ],
         "yaxis": "y"
        }
       ],
       "layout": {
        "autosize": false,
        "height": 380,
        "hoverlabel": {
         "bgcolor": "white",
         "font": {
          "family": "Rockwell",
          "size": 16
         }
        },
        "hovermode": "closest",
        "plot_bgcolor": "#ECEFF1",
        "showlegend": false,
        "template": {
         "data": {
          "bar": [
           {
            "error_x": {
             "color": "#2a3f5f"
            },
            "error_y": {
             "color": "#2a3f5f"
            },
            "marker": {
             "line": {
              "color": "white",
              "width": 0.5
             },
             "pattern": {
              "fillmode": "overlay",
              "size": 10,
              "solidity": 0.2
             }
            },
            "type": "bar"
           }
          ],
          "barpolar": [
           {
            "marker": {
             "line": {
              "color": "white",
              "width": 0.5
             },
             "pattern": {
              "fillmode": "overlay",
              "size": 10,
              "solidity": 0.2
             }
            },
            "type": "barpolar"
           }
          ],
          "carpet": [
           {
            "aaxis": {
             "endlinecolor": "#2a3f5f",
             "gridcolor": "#C8D4E3",
             "linecolor": "#C8D4E3",
             "minorgridcolor": "#C8D4E3",
             "startlinecolor": "#2a3f5f"
            },
            "baxis": {
             "endlinecolor": "#2a3f5f",
             "gridcolor": "#C8D4E3",
             "linecolor": "#C8D4E3",
             "minorgridcolor": "#C8D4E3",
             "startlinecolor": "#2a3f5f"
            },
            "type": "carpet"
           }
          ],
          "choropleth": [
           {
            "colorbar": {
             "outlinewidth": 0,
             "ticks": ""
            },
            "type": "choropleth"
           }
          ],
          "contour": [
           {
            "colorbar": {
             "outlinewidth": 0,
             "ticks": ""
            },
            "colorscale": [
             [
              0,
              "#0d0887"
             ],
             [
              0.1111111111111111,
              "#46039f"
             ],
             [
              0.2222222222222222,
              "#7201a8"
             ],
             [
              0.3333333333333333,
              "#9c179e"
             ],
             [
              0.4444444444444444,
              "#bd3786"
             ],
             [
              0.5555555555555556,
              "#d8576b"
             ],
             [
              0.6666666666666666,
              "#ed7953"
             ],
             [
              0.7777777777777778,
              "#fb9f3a"
             ],
             [
              0.8888888888888888,
              "#fdca26"
             ],
             [
              1,
              "#f0f921"
             ]
            ],
            "type": "contour"
           }
          ],
          "contourcarpet": [
           {
            "colorbar": {
             "outlinewidth": 0,
             "ticks": ""
            },
            "type": "contourcarpet"
           }
          ],
          "heatmap": [
           {
            "colorbar": {
             "outlinewidth": 0,
             "ticks": ""
            },
            "colorscale": [
             [
              0,
              "#0d0887"
             ],
             [
              0.1111111111111111,
              "#46039f"
             ],
             [
              0.2222222222222222,
              "#7201a8"
             ],
             [
              0.3333333333333333,
              "#9c179e"
             ],
             [
              0.4444444444444444,
              "#bd3786"
             ],
             [
              0.5555555555555556,
              "#d8576b"
             ],
             [
              0.6666666666666666,
              "#ed7953"
             ],
             [
              0.7777777777777778,
              "#fb9f3a"
             ],
             [
              0.8888888888888888,
              "#fdca26"
             ],
             [
              1,
              "#f0f921"
             ]
            ],
            "type": "heatmap"
           }
          ],
          "heatmapgl": [
           {
            "colorbar": {
             "outlinewidth": 0,
             "ticks": ""
            },
            "colorscale": [
             [
              0,
              "#0d0887"
             ],
             [
              0.1111111111111111,
              "#46039f"
             ],
             [
              0.2222222222222222,
              "#7201a8"
             ],
             [
              0.3333333333333333,
              "#9c179e"
             ],
             [
              0.4444444444444444,
              "#bd3786"
             ],
             [
              0.5555555555555556,
              "#d8576b"
             ],
             [
              0.6666666666666666,
              "#ed7953"
             ],
             [
              0.7777777777777778,
              "#fb9f3a"
             ],
             [
              0.8888888888888888,
              "#fdca26"
             ],
             [
              1,
              "#f0f921"
             ]
            ],
            "type": "heatmapgl"
           }
          ],
          "histogram": [
           {
            "marker": {
             "pattern": {
              "fillmode": "overlay",
              "size": 10,
              "solidity": 0.2
             }
            },
            "type": "histogram"
           }
          ],
          "histogram2d": [
           {
            "colorbar": {
             "outlinewidth": 0,
             "ticks": ""
            },
            "colorscale": [
             [
              0,
              "#0d0887"
             ],
             [
              0.1111111111111111,
              "#46039f"
             ],
             [
              0.2222222222222222,
              "#7201a8"
             ],
             [
              0.3333333333333333,
              "#9c179e"
             ],
             [
              0.4444444444444444,
              "#bd3786"
             ],
             [
              0.5555555555555556,
              "#d8576b"
             ],
             [
              0.6666666666666666,
              "#ed7953"
             ],
             [
              0.7777777777777778,
              "#fb9f3a"
             ],
             [
              0.8888888888888888,
              "#fdca26"
             ],
             [
              1,
              "#f0f921"
             ]
            ],
            "type": "histogram2d"
           }
          ],
          "histogram2dcontour": [
           {
            "colorbar": {
             "outlinewidth": 0,
             "ticks": ""
            },
            "colorscale": [
             [
              0,
              "#0d0887"
             ],
             [
              0.1111111111111111,
              "#46039f"
             ],
             [
              0.2222222222222222,
              "#7201a8"
             ],
             [
              0.3333333333333333,
              "#9c179e"
             ],
             [
              0.4444444444444444,
              "#bd3786"
             ],
             [
              0.5555555555555556,
              "#d8576b"
             ],
             [
              0.6666666666666666,
              "#ed7953"
             ],
             [
              0.7777777777777778,
              "#fb9f3a"
             ],
             [
              0.8888888888888888,
              "#fdca26"
             ],
             [
              1,
              "#f0f921"
             ]
            ],
            "type": "histogram2dcontour"
           }
          ],
          "mesh3d": [
           {
            "colorbar": {
             "outlinewidth": 0,
             "ticks": ""
            },
            "type": "mesh3d"
           }
          ],
          "parcoords": [
           {
            "line": {
             "colorbar": {
              "outlinewidth": 0,
              "ticks": ""
             }
            },
            "type": "parcoords"
           }
          ],
          "pie": [
           {
            "automargin": true,
            "type": "pie"
           }
          ],
          "scatter": [
           {
            "fillpattern": {
             "fillmode": "overlay",
             "size": 10,
             "solidity": 0.2
            },
            "type": "scatter"
           }
          ],
          "scatter3d": [
           {
            "line": {
             "colorbar": {
              "outlinewidth": 0,
              "ticks": ""
             }
            },
            "marker": {
             "colorbar": {
              "outlinewidth": 0,
              "ticks": ""
             }
            },
            "type": "scatter3d"
           }
          ],
          "scattercarpet": [
           {
            "marker": {
             "colorbar": {
              "outlinewidth": 0,
              "ticks": ""
             }
            },
            "type": "scattercarpet"
           }
          ],
          "scattergeo": [
           {
            "marker": {
             "colorbar": {
              "outlinewidth": 0,
              "ticks": ""
             }
            },
            "type": "scattergeo"
           }
          ],
          "scattergl": [
           {
            "marker": {
             "colorbar": {
              "outlinewidth": 0,
              "ticks": ""
             }
            },
            "type": "scattergl"
           }
          ],
          "scattermapbox": [
           {
            "marker": {
             "colorbar": {
              "outlinewidth": 0,
              "ticks": ""
             }
            },
            "type": "scattermapbox"
           }
          ],
          "scatterpolar": [
           {
            "marker": {
             "colorbar": {
              "outlinewidth": 0,
              "ticks": ""
             }
            },
            "type": "scatterpolar"
           }
          ],
          "scatterpolargl": [
           {
            "marker": {
             "colorbar": {
              "outlinewidth": 0,
              "ticks": ""
             }
            },
            "type": "scatterpolargl"
           }
          ],
          "scatterternary": [
           {
            "marker": {
             "colorbar": {
              "outlinewidth": 0,
              "ticks": ""
             }
            },
            "type": "scatterternary"
           }
          ],
          "surface": [
           {
            "colorbar": {
             "outlinewidth": 0,
             "ticks": ""
            },
            "colorscale": [
             [
              0,
              "#0d0887"
             ],
             [
              0.1111111111111111,
              "#46039f"
             ],
             [
              0.2222222222222222,
              "#7201a8"
             ],
             [
              0.3333333333333333,
              "#9c179e"
             ],
             [
              0.4444444444444444,
              "#bd3786"
             ],
             [
              0.5555555555555556,
              "#d8576b"
             ],
             [
              0.6666666666666666,
              "#ed7953"
             ],
             [
              0.7777777777777778,
              "#fb9f3a"
             ],
             [
              0.8888888888888888,
              "#fdca26"
             ],
             [
              1,
              "#f0f921"
             ]
            ],
            "type": "surface"
           }
          ],
          "table": [
           {
            "cells": {
             "fill": {
              "color": "#EBF0F8"
             },
             "line": {
              "color": "white"
             }
            },
            "header": {
             "fill": {
              "color": "#C8D4E3"
             },
             "line": {
              "color": "white"
             }
            },
            "type": "table"
           }
          ]
         },
         "layout": {
          "annotationdefaults": {
           "arrowcolor": "#2a3f5f",
           "arrowhead": 0,
           "arrowwidth": 1
          },
          "autotypenumbers": "strict",
          "coloraxis": {
           "colorbar": {
            "outlinewidth": 0,
            "ticks": ""
           }
          },
          "colorscale": {
           "diverging": [
            [
             0,
             "#8e0152"
            ],
            [
             0.1,
             "#c51b7d"
            ],
            [
             0.2,
             "#de77ae"
            ],
            [
             0.3,
             "#f1b6da"
            ],
            [
             0.4,
             "#fde0ef"
            ],
            [
             0.5,
             "#f7f7f7"
            ],
            [
             0.6,
             "#e6f5d0"
            ],
            [
             0.7,
             "#b8e186"
            ],
            [
             0.8,
             "#7fbc41"
            ],
            [
             0.9,
             "#4d9221"
            ],
            [
             1,
             "#276419"
            ]
           ],
           "sequential": [
            [
             0,
             "#0d0887"
            ],
            [
             0.1111111111111111,
             "#46039f"
            ],
            [
             0.2222222222222222,
             "#7201a8"
            ],
            [
             0.3333333333333333,
             "#9c179e"
            ],
            [
             0.4444444444444444,
             "#bd3786"
            ],
            [
             0.5555555555555556,
             "#d8576b"
            ],
            [
             0.6666666666666666,
             "#ed7953"
            ],
            [
             0.7777777777777778,
             "#fb9f3a"
            ],
            [
             0.8888888888888888,
             "#fdca26"
            ],
            [
             1,
             "#f0f921"
            ]
           ],
           "sequentialminus": [
            [
             0,
             "#0d0887"
            ],
            [
             0.1111111111111111,
             "#46039f"
            ],
            [
             0.2222222222222222,
             "#7201a8"
            ],
            [
             0.3333333333333333,
             "#9c179e"
            ],
            [
             0.4444444444444444,
             "#bd3786"
            ],
            [
             0.5555555555555556,
             "#d8576b"
            ],
            [
             0.6666666666666666,
             "#ed7953"
            ],
            [
             0.7777777777777778,
             "#fb9f3a"
            ],
            [
             0.8888888888888888,
             "#fdca26"
            ],
            [
             1,
             "#f0f921"
            ]
           ]
          },
          "colorway": [
           "#636efa",
           "#EF553B",
           "#00cc96",
           "#ab63fa",
           "#FFA15A",
           "#19d3f3",
           "#FF6692",
           "#B6E880",
           "#FF97FF",
           "#FECB52"
          ],
          "font": {
           "color": "#2a3f5f"
          },
          "geo": {
           "bgcolor": "white",
           "lakecolor": "white",
           "landcolor": "white",
           "showlakes": true,
           "showland": true,
           "subunitcolor": "#C8D4E3"
          },
          "hoverlabel": {
           "align": "left"
          },
          "hovermode": "closest",
          "mapbox": {
           "style": "light"
          },
          "paper_bgcolor": "white",
          "plot_bgcolor": "white",
          "polar": {
           "angularaxis": {
            "gridcolor": "#EBF0F8",
            "linecolor": "#EBF0F8",
            "ticks": ""
           },
           "bgcolor": "white",
           "radialaxis": {
            "gridcolor": "#EBF0F8",
            "linecolor": "#EBF0F8",
            "ticks": ""
           }
          },
          "scene": {
           "xaxis": {
            "backgroundcolor": "white",
            "gridcolor": "#DFE8F3",
            "gridwidth": 2,
            "linecolor": "#EBF0F8",
            "showbackground": true,
            "ticks": "",
            "zerolinecolor": "#EBF0F8"
           },
           "yaxis": {
            "backgroundcolor": "white",
            "gridcolor": "#DFE8F3",
            "gridwidth": 2,
            "linecolor": "#EBF0F8",
            "showbackground": true,
            "ticks": "",
            "zerolinecolor": "#EBF0F8"
           },
           "zaxis": {
            "backgroundcolor": "white",
            "gridcolor": "#DFE8F3",
            "gridwidth": 2,
            "linecolor": "#EBF0F8",
            "showbackground": true,
            "ticks": "",
            "zerolinecolor": "#EBF0F8"
           }
          },
          "shapedefaults": {
           "line": {
            "color": "#2a3f5f"
           }
          },
          "ternary": {
           "aaxis": {
            "gridcolor": "#DFE8F3",
            "linecolor": "#A2B1C6",
            "ticks": ""
           },
           "baxis": {
            "gridcolor": "#DFE8F3",
            "linecolor": "#A2B1C6",
            "ticks": ""
           },
           "bgcolor": "white",
           "caxis": {
            "gridcolor": "#DFE8F3",
            "linecolor": "#A2B1C6",
            "ticks": ""
           }
          },
          "title": {
           "x": 0.05
          },
          "xaxis": {
           "automargin": true,
           "gridcolor": "#EBF0F8",
           "linecolor": "#EBF0F8",
           "ticks": "",
           "title": {
            "standoff": 15
           },
           "zerolinecolor": "#EBF0F8",
           "zerolinewidth": 2
          },
          "yaxis": {
           "automargin": true,
           "gridcolor": "#EBF0F8",
           "linecolor": "#EBF0F8",
           "ticks": "",
           "title": {
            "standoff": 15
           },
           "zerolinecolor": "#EBF0F8",
           "zerolinewidth": 2
          }
         }
        },
        "title": {
         "font": {
          "color": "Black",
          "size": 22
         },
         "text": "<b>Hierarchical Clustering</b>",
         "x": 0.5,
         "xanchor": "center",
         "yanchor": "top"
        },
        "width": 1000,
        "xaxis": {
         "autorange": true,
         "mirror": "allticks",
         "range": [
          0,
          1.0953475846092642
         ],
         "rangemode": "tozero",
         "showgrid": false,
         "showline": true,
         "showticklabels": true,
         "ticks": "outside",
         "type": "linear",
         "zeroline": false
        },
        "yaxis": {
         "mirror": "allticks",
         "range": [
          -120,
          0
         ],
         "rangemode": "tozero",
         "showgrid": false,
         "showline": true,
         "showticklabels": true,
         "tickmode": "array",
         "ticks": "outside",
         "ticktext": [
          "7_europe committee_of journ...",
          "1_europe committee_judicial...",
          "5_virtual country_country v...",
          "4_european court_eu justice...",
          "11_democracy score_ratings ...",
          "8_corrupt practices_conside...",
          "3_estonia_2021_estonian",
          "6_legislative_to legislativ...",
          "2_anti corruption_against c...",
          "0_balkan insight_macedonia_...",
          "10_fisheries minister_was i...",
          "9_corruption prevention_on ..."
         ],
         "tickvals": [
          -5,
          -15,
          -25,
          -35,
          -45,
          -55,
          -65,
          -75,
          -85,
          -95,
          -105,
          -115
         ],
         "type": "linear",
         "zeroline": false
        }
       }
      },
      "image/png": "[encoded data removed]",
      "text/html": [
       "<div>                            <div id=\"67340c55-5464-4b05-9a11-66724cb10233\" class=\"plotly-graph-div\" style=\"height:380px; width:1000px;\"></div>            <script type=\"text/javascript\">                require([\"plotly\"], function(Plotly) {                    window.PLOTLYENV=window.PLOTLYENV || {};                                    if (document.getElementById(\"67340c55-5464-4b05-9a11-66724cb10233\")) {                    Plotly.newPlot(                        \"67340c55-5464-4b05-9a11-66724cb10233\",                        [{\"hoverinfo\":\"text\",\"marker\":{\"color\":\"rgb(61,153,112)\"},\"mode\":\"lines\",\"x\":[0.0,0.6417479103866488,0.6417479103866488,0.0],\"xaxis\":\"x\",\"y\":[-5.0,-5.0,-15.0,-15.0],\"yaxis\":\"y\",\"type\":\"scatter\"},{\"hoverinfo\":\"text\",\"marker\":{\"color\":\"rgb(61,153,112)\"},\"mode\":\"lines\",\"x\":[0.0,0.7974184851358957,0.7974184851358957,0.0],\"xaxis\":\"x\",\"y\":[-25.0,-25.0,-35.0,-35.0],\"yaxis\":\"y\",\"type\":\"scatter\"},{\"hoverinfo\":\"text\",\"marker\":{\"color\":\"rgb(61,153,112)\"},\"mode\":\"lines\",\"x\":[0.6417479103866488,0.8652808785257379,0.8652808785257379,0.7974184851358957],\"xaxis\":\"x\",\"y\":[-10.0,-10.0,-30.0,-30.0],\"yaxis\":\"y\",\"type\":\"scatter\"},{\"hoverinfo\":\"text\",\"marker\":{\"color\":\"rgb(255,65,54)\"},\"mode\":\"lines\",\"x\":[0.0,0.7496598346904564,0.7496598346904564,0.0],\"xaxis\":\"x\",\"y\":[-75.0,-75.0,-85.0,-85.0],\"yaxis\":\"y\",\"type\":\"scatter\"},{\"hoverinfo\":\"text\",\"marker\":{\"color\":\"rgb(255,65,54)\"},\"mode\":\"lines\",\"x\":[0.7496598346904564,0.8194982511463239,0.8194982511463239,0.0],\"xaxis\":\"x\",\"y\":[-80.0,-80.0,-95.0,-95.0],\"yaxis\":\"y\",\"type\":\"scatter\"},{\"hoverinfo\":\"text\",\"marker\":{\"color\":\"rgb(255,65,54)\"},\"mode\":\"lines\",\"x\":[0.0,0.8394185372918574,0.8394185372918574,0.8194982511463239],\"xaxis\":\"x\",\"y\":[-65.0,-65.0,-87.5,-87.5],\"yaxis\":\"y\",\"type\":\"scatter\"},{\"hoverinfo\":\"text\",\"marker\":{\"color\":\"rgb(255,65,54)\"},\"mode\":\"lines\",\"x\":[0.8394185372918574,0.8489946020199216,0.8489946020199216,0.0],\"xaxis\":\"x\",\"y\":[-76.25,-76.25,-105.0,-105.0],\"yaxis\":\"y\",\"type\":\"scatter\"},{\"hoverinfo\":\"text\",\"marker\":{\"color\":\"rgb(255,65,54)\"},\"mode\":\"lines\",\"x\":[0.0,0.9023244323850711,0.9023244323850711,0.8489946020199216],\"xaxis\":\"x\",\"y\":[-55.0,-55.0,-90.625,-90.625],\"yaxis\":\"y\",\"type\":\"scatter\"},{\"hoverinfo\":\"text\",\"marker\":{\"color\":\"rgb(255,65,54)\"},\"mode\":\"lines\",\"x\":[0.0,0.9193895196590652,0.9193895196590652,0.9023244323850711],\"xaxis\":\"x\",\"y\":[-45.0,-45.0,-72.8125,-72.8125],\"yaxis\":\"y\",\"type\":\"scatter\"},{\"hoverinfo\":\"text\",\"marker\":{\"color\":\"rgb(255,65,54)\"},\"mode\":\"lines\",\"x\":[0.9193895196590652,0.9441679032227627,0.9441679032227627,0.0],\"xaxis\":\"x\",\"y\":[-58.90625,-58.90625,-115.0,-115.0],\"yaxis\":\"y\",\"type\":\"scatter\"},{\"hoverinfo\":\"text\",\"marker\":{\"color\":\"rgb(0,116,217)\"},\"mode\":\"lines\",\"x\":[0.8652808785257379,1.0953475846092642,1.0953475846092642,0.9441679032227627],\"xaxis\":\"x\",\"y\":[-20.0,-20.0,-86.953125,-86.953125],\"yaxis\":\"y\",\"type\":\"scatter\"}],                        {\"autosize\":false,\"height\":380,\"hovermode\":\"closest\",\"showlegend\":false,\"width\":1000,\"xaxis\":{\"mirror\":\"allticks\",\"rangemode\":\"tozero\",\"showgrid\":false,\"showline\":true,\"showticklabels\":true,\"ticks\":\"outside\",\"type\":\"linear\",\"zeroline\":false},\"yaxis\":{\"mirror\":\"allticks\",\"rangemode\":\"tozero\",\"showgrid\":false,\"showline\":true,\"showticklabels\":true,\"tickmode\":\"array\",\"ticks\":\"outside\",\"ticktext\":[\"7_europe committee_of journ...\",\"1_europe committee_judicial...\",\"5_virtual country_country v...\",\"4_european court_eu justice...\",\"11_democracy score_ratings ...\",\"8_corrupt practices_conside...\",\"3_estonia_2021_estonian\",\"6_legislative_to legislativ...\",\"2_anti corruption_against c...\",\"0_balkan insight_macedonia_...\",\"10_fisheries minister_was i...\",\"9_corruption prevention_on ...\"],\"tickvals\":[-5.0,-15.0,-25.0,-35.0,-45.0,-55.0,-65.0,-75.0,-85.0,-95.0,-105.0,-115.0],\"type\":\"linear\",\"zeroline\":false,\"range\":[-120.0,0.0]},\"template\":{\"data\":{\"barpolar\":[{\"marker\":{\"line\":{\"color\":\"white\",\"width\":0.5},\"pattern\":{\"fillmode\":\"overlay\",\"size\":10,\"solidity\":0.2}},\"type\":\"barpolar\"}],\"bar\":[{\"error_x\":{\"color\":\"#2a3f5f\"},\"error_y\":{\"color\":\"#2a3f5f\"},\"marker\":{\"line\":{\"color\":\"white\",\"width\":0.5},\"pattern\":{\"fillmode\":\"overlay\",\"size\":10,\"solidity\":0.2}},\"type\":\"bar\"}],\"carpet\":[{\"aaxis\":{\"endlinecolor\":\"#2a3f5f\",\"gridcolor\":\"#C8D4E3\",\"linecolor\":\"#C8D4E3\",\"minorgridcolor\":\"#C8D4E3\",\"startlinecolor\":\"#2a3f5f\"},\"baxis\":{\"endlinecolor\":\"#2a3f5f\",\"gridcolor\":\"#C8D4E3\",\"linecolor\":\"#C8D4E3\",\"minorgridcolor\":\"#C8D4E3\",\"startlinecolor\":\"#2a3f5f\"},\"type\":\"carpet\"}],\"choropleth\":[{\"colorbar\":{\"outlinewidth\":0,\"ticks\":\"\"},\"type\":\"choropleth\"}],\"contourcarpet\":[{\"colorbar\":{\"outlinewidth\":0,\"ticks\":\"\"},\"type\":\"contourcarpet\"}],\"contour\":[{\"colorbar\":{\"outlinewidth\":0,\"ticks\":\"\"},\"colorscale\":[[0.0,\"#0d0887\"],[0.1111111111111111,\"#46039f\"],[0.2222222222222222,\"#7201a8\"],[0.3333333333333333,\"#9c179e\"],[0.4444444444444444,\"#bd3786\"],[0.5555555555555556,\"#d8576b\"],[0.6666666666666666,\"#ed7953\"],[0.7777777777777778,\"#fb9f3a\"],[0.8888888888888888,\"#fdca26\"],[1.0,\"#f0f921\"]],\"type\":\"contour\"}],\"heatmapgl\":[{\"colorbar\":{\"outlinewidth\":0,\"ticks\":\"\"},\"colorscale\":[[0.0,\"#0d0887\"],[0.1111111111111111,\"#46039f\"],[0.2222222222222222,\"#7201a8\"],[0.3333333333333333,\"#9c179e\"],[0.4444444444444444,\"#bd3786\"],[0.5555555555555556,\"#d8576b\"],[0.6666666666666666,\"#ed7953\"],[0.7777777777777778,\"#fb9f3a\"],[0.8888888888888888,\"#fdca26\"],[1.0,\"#f0f921\"]],\"type\":\"heatmapgl\"}],\"heatmap\":[{\"colorbar\":{\"outlinewidth\":0,\"ticks\":\"\"},\"colorscale\":[[0.0,\"#0d0887\"],[0.1111111111111111,\"#46039f\"],[0.2222222222222222,\"#7201a8\"],[0.3333333333333333,\"#9c179e\"],[0.4444444444444444,\"#bd3786\"],[0.5555555555555556,\"#d8576b\"],[0.6666666666666666,\"#ed7953\"],[0.7777777777777778,\"#fb9f3a\"],[0.8888888888888888,\"#fdca26\"],[1.0,\"#f0f921\"]],\"type\":\"heatmap\"}],\"histogram2dcontour\":[{\"colorbar\":{\"outlinewidth\":0,\"ticks\":\"\"},\"colorscale\":[[0.0,\"#0d0887\"],[0.1111111111111111,\"#46039f\"],[0.2222222222222222,\"#7201a8\"],[0.3333333333333333,\"#9c179e\"],[0.4444444444444444,\"#bd3786\"],[0.5555555555555556,\"#d8576b\"],[0.6666666666666666,\"#ed7953\"],[0.7777777777777778,\"#fb9f3a\"],[0.8888888888888888,\"#fdca26\"],[1.0,\"#f0f921\"]],\"type\":\"histogram2dcontour\"}],\"histogram2d\":[{\"colorbar\":{\"outlinewidth\":0,\"ticks\":\"\"},\"colorscale\":[[0.0,\"#0d0887\"],[0.1111111111111111,\"#46039f\"],[0.2222222222222222,\"#7201a8\"],[0.3333333333333333,\"#9c179e\"],[0.4444444444444444,\"#bd3786\"],[0.5555555555555556,\"#d8576b\"],[0.6666666666666666,\"#ed7953\"],[0.7777777777777778,\"#fb9f3a\"],[0.8888888888888888,\"#fdca26\"],[1.0,\"#f0f921\"]],\"type\":\"histogram2d\"}],\"histogram\":[{\"marker\":{\"pattern\":{\"fillmode\":\"overlay\",\"size\":10,\"solidity\":0.2}},\"type\":\"histogram\"}],\"mesh3d\":[{\"colorbar\":{\"outlinewidth\":0,\"ticks\":\"\"},\"type\":\"mesh3d\"}],\"parcoords\":[{\"line\":{\"colorbar\":{\"outlinewidth\":0,\"ticks\":\"\"}},\"type\":\"parcoords\"}],\"pie\":[{\"automargin\":true,\"type\":\"pie\"}],\"scatter3d\":[{\"line\":{\"colorbar\":{\"outlinewidth\":0,\"ticks\":\"\"}},\"marker\":{\"colorbar\":{\"outlinewidth\":0,\"ticks\":\"\"}},\"type\":\"scatter3d\"}],\"scattercarpet\":[{\"marker\":{\"colorbar\":{\"outlinewidth\":0,\"ticks\":\"\"}},\"type\":\"scattercarpet\"}],\"scattergeo\":[{\"marker\":{\"colorbar\":{\"outlinewidth\":0,\"ticks\":\"\"}},\"type\":\"scattergeo\"}],\"scattergl\":[{\"marker\":{\"colorbar\":{\"outlinewidth\":0,\"ticks\":\"\"}},\"type\":\"scattergl\"}],\"scattermapbox\":[{\"marker\":{\"colorbar\":{\"outlinewidth\":0,\"ticks\":\"\"}},\"type\":\"scattermapbox\"}],\"scatterpolargl\":[{\"marker\":{\"colorbar\":{\"outlinewidth\":0,\"ticks\":\"\"}},\"type\":\"scatterpolargl\"}],\"scatterpolar\":[{\"marker\":{\"colorbar\":{\"outlinewidth\":0,\"ticks\":\"\"}},\"type\":\"scatterpolar\"}],\"scatter\":[{\"fillpattern\":{\"fillmode\":\"overlay\",\"size\":10,\"solidity\":0.2},\"type\":\"scatter\"}],\"scatterternary\":[{\"marker\":{\"colorbar\":{\"outlinewidth\":0,\"ticks\":\"\"}},\"type\":\"scatterternary\"}],\"surface\":[{\"colorbar\":{\"outlinewidth\":0,\"ticks\":\"\"},\"colorscale\":[[0.0,\"#0d0887\"],[0.1111111111111111,\"#46039f\"],[0.2222222222222222,\"#7201a8\"],[0.3333333333333333,\"#9c179e\"],[0.4444444444444444,\"#bd3786\"],[0.5555555555555556,\"#d8576b\"],[0.6666666666666666,\"#ed7953\"],[0.7777777777777778,\"#fb9f3a\"],[0.8888888888888888,\"#fdca26\"],[1.0,\"#f0f921\"]],\"type\":\"surface\"}],\"table\":[{\"cells\":{\"fill\":{\"color\":\"#EBF0F8\"},\"line\":{\"color\":\"white\"}},\"header\":{\"fill\":{\"color\":\"#C8D4E3\"},\"line\":{\"color\":\"white\"}},\"type\":\"table\"}]},\"layout\":{\"annotationdefaults\":{\"arrowcolor\":\"#2a3f5f\",\"arrowhead\":0,\"arrowwidth\":1},\"autotypenumbers\":\"strict\",\"coloraxis\":{\"colorbar\":{\"outlinewidth\":0,\"ticks\":\"\"}},\"colorscale\":{\"diverging\":[[0,\"#8e0152\"],[0.1,\"#c51b7d\"],[0.2,\"#de77ae\"],[0.3,\"#f1b6da\"],[0.4,\"#fde0ef\"],[0.5,\"#f7f7f7\"],[0.6,\"#e6f5d0\"],[0.7,\"#b8e186\"],[0.8,\"#7fbc41\"],[0.9,\"#4d9221\"],[1,\"#276419\"]],\"sequential\":[[0.0,\"#0d0887\"],[0.1111111111111111,\"#46039f\"],[0.2222222222222222,\"#7201a8\"],[0.3333333333333333,\"#9c179e\"],[0.4444444444444444,\"#bd3786\"],[0.5555555555555556,\"#d8576b\"],[0.6666666666666666,\"#ed7953\"],[0.7777777777777778,\"#fb9f3a\"],[0.8888888888888888,\"#fdca26\"],[1.0,\"#f0f921\"]],\"sequentialminus\":[[0.0,\"#0d0887\"],[0.1111111111111111,\"#46039f\"],[0.2222222222222222,\"#7201a8\"],[0.3333333333333333,\"#9c179e\"],[0.4444444444444444,\"#bd3786\"],[0.5555555555555556,\"#d8576b\"],[0.6666666666666666,\"#ed7953\"],[0.7777777777777778,\"#fb9f3a\"],[0.8888888888888888,\"#fdca26\"],[1.0,\"#f0f921\"]]},\"colorway\":[\"#636efa\",\"#EF553B\",\"#00cc96\",\"#ab63fa\",\"#FFA15A\",\"#19d3f3\",\"#FF6692\",\"#B6E880\",\"#FF97FF\",\"#FECB52\"],\"font\":{\"color\":\"#2a3f5f\"},\"geo\":{\"bgcolor\":\"white\",\"lakecolor\":\"white\",\"landcolor\":\"white\",\"showlakes\":true,\"showland\":true,\"subunitcolor\":\"#C8D4E3\"},\"hoverlabel\":{\"align\":\"left\"},\"hovermode\":\"closest\",\"mapbox\":{\"style\":\"light\"},\"paper_bgcolor\":\"white\",\"plot_bgcolor\":\"white\",\"polar\":{\"angularaxis\":{\"gridcolor\":\"#EBF0F8\",\"linecolor\":\"#EBF0F8\",\"ticks\":\"\"},\"bgcolor\":\"white\",\"radialaxis\":{\"gridcolor\":\"#EBF0F8\",\"linecolor\":\"#EBF0F8\",\"ticks\":\"\"}},\"scene\":{\"xaxis\":{\"backgroundcolor\":\"white\",\"gridcolor\":\"#DFE8F3\",\"gridwidth\":2,\"linecolor\":\"#EBF0F8\",\"showbackground\":true,\"ticks\":\"\",\"zerolinecolor\":\"#EBF0F8\"},\"yaxis\":{\"backgroundcolor\":\"white\",\"gridcolor\":\"#DFE8F3\",\"gridwidth\":2,\"linecolor\":\"#EBF0F8\",\"showbackground\":true,\"ticks\":\"\",\"zerolinecolor\":\"#EBF0F8\"},\"zaxis\":{\"backgroundcolor\":\"white\",\"gridcolor\":\"#DFE8F3\",\"gridwidth\":2,\"linecolor\":\"#EBF0F8\",\"showbackground\":true,\"ticks\":\"\",\"zerolinecolor\":\"#EBF0F8\"}},\"shapedefaults\":{\"line\":{\"color\":\"#2a3f5f\"}},\"ternary\":{\"aaxis\":{\"gridcolor\":\"#DFE8F3\",\"linecolor\":\"#A2B1C6\",\"ticks\":\"\"},\"baxis\":{\"gridcolor\":\"#DFE8F3\",\"linecolor\":\"#A2B1C6\",\"ticks\":\"\"},\"bgcolor\":\"white\",\"caxis\":{\"gridcolor\":\"#DFE8F3\",\"linecolor\":\"#A2B1C6\",\"ticks\":\"\"}},\"title\":{\"x\":0.05},\"xaxis\":{\"automargin\":true,\"gridcolor\":\"#EBF0F8\",\"linecolor\":\"#EBF0F8\",\"ticks\":\"\",\"title\":{\"standoff\":15},\"zerolinecolor\":\"#EBF0F8\",\"zerolinewidth\":2},\"yaxis\":{\"automargin\":true,\"gridcolor\":\"#EBF0F8\",\"linecolor\":\"#EBF0F8\",\"ticks\":\"\",\"title\":{\"standoff\":15},\"zerolinecolor\":\"#EBF0F8\",\"zerolinewidth\":2}}},\"title\":{\"font\":{\"size\":22,\"color\":\"Black\"},\"text\":\"\\u003cb\\u003eHierarchical Clustering\\u003c\\u002fb\\u003e\",\"x\":0.5,\"xanchor\":\"center\",\"yanchor\":\"top\"},\"hoverlabel\":{\"font\":{\"size\":16,\"family\":\"Rockwell\"},\"bgcolor\":\"white\"},\"plot_bgcolor\":\"#ECEFF1\"},                        {\"responsive\": true}                    ).then(function(){\n",
       "                            \n",
       "var gd = document.getElementById('67340c55-5464-4b05-9a11-66724cb10233');\n",
       "var x = new MutationObserver(function (mutations, observer) {{\n",
       "        var display = window.getComputedStyle(gd).display;\n",
       "        if (!display || display === 'none') {{\n",
       "            console.log([gd, 'removed!']);\n",
       "            Plotly.purge(gd);\n",
       "            observer.disconnect();\n",
       "        }}\n",
       "}});\n",
       "\n",
       "// Listen for the removal of the full notebook cells\n",
       "var notebookContainer = gd.closest('#notebook-container');\n",
       "if (notebookContainer) {{\n",
       "    x.observe(notebookContainer, {childList: true});\n",
       "}}\n",
       "\n",
       "// Listen for the clearing of the current output cell\n",
       "var outputEl = gd.closest('.output');\n",
       "if (outputEl) {{\n",
       "    x.observe(outputEl, {childList: true});\n",
       "}}\n",
       "\n",
       "                        })                };                });            </script>        </div>"
      ]
     },
     "metadata": {},
     "output_type": "display_data"
    }
   ],
   "source": [
    "# visualize topic clusters\n",
    "topic_model.visualize_hierarchy(top_n_topics=30)"
   ]
  }
 ],
 "metadata": {
  "kernelspec": {
   "display_name": "Python 3 (ipykernel)",
   "language": "python",
   "name": "python3"
  },
  "language_info": {
   "codemirror_mode": {
    "name": "ipython",
    "version": 3
   },
   "file_extension": ".py",
   "mimetype": "text/x-python",
   "name": "python",
   "nbconvert_exporter": "python",
   "pygments_lexer": "ipython3",
   "version": "3.11.7"
  }
 },
 "nbformat": 4,
 "nbformat_minor": 5
}
